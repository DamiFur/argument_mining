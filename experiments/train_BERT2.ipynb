{
 "cells": [
  {
   "cell_type": "markdown",
   "metadata": {},
   "source": [
    "# Preparación"
   ]
  },
  {
   "cell_type": "markdown",
   "metadata": {},
   "source": [
    "## Importamos librerias necesarias y definimos clases para sentencias y ejemplos"
   ]
  },
  {
   "cell_type": "code",
   "execution_count": 3,
   "metadata": {},
   "outputs": [],
   "source": [
    "import argparse\n",
    "import glob\n",
    "import logging\n",
    "import os\n",
    "import random\n",
    "\n",
    "import numpy as np\n",
    "import torch\n",
    "from sklearn.metrics import precision_score, recall_score, f1_score\n",
    "from tensorboardX import SummaryWriter\n",
    "from torch.nn import CrossEntropyLoss\n",
    "from torch.utils.data import DataLoader, RandomSampler, SequentialSampler, TensorDataset\n",
    "from torch.utils.data.distributed import DistributedSampler\n",
    "from tqdm import tqdm, trange\n",
    "\n",
    "from transformers import WEIGHTS_NAME, BertConfig, BertForTokenClassification, BertTokenizer\n",
    "import pandas as pd\n",
    "\n",
    "from io import open\n",
    "\n",
    "import sys\n",
    "\n",
    "import matplotlib.pyplot as plt"
   ]
  },
  {
   "cell_type": "code",
   "execution_count": 12,
   "metadata": {},
   "outputs": [],
   "source": [
    "MODEL_CLASSES = {\n",
    "    \"bert\": (BertConfig, BertForTokenClassification, BertTokenizer),\n",
    "}\n",
    "\n",
    "class InputExample(object):\n",
    "    \"\"\"A single training/test example for token classification.\"\"\"\n",
    "\n",
    "    def __init__(self, guid, words, labels):\n",
    "        \"\"\"Constructs a InputExample.\n",
    "        Args:\n",
    "            guid: Unique id for the example.\n",
    "            words: list. The words of the sequence.\n",
    "            labels: (Optional) list. The labels for each word of the sequence. This should be\n",
    "            specified for train and dev examples, but not for test examples.\n",
    "        \"\"\"\n",
    "        self.guid = guid\n",
    "        self.words = words\n",
    "        self.labels = labels\n",
    "\n",
    "\n",
    "class InputFeatures(object):\n",
    "    \"\"\"A single set of features of data.\"\"\"\n",
    "\n",
    "    def __init__(self, input_ids, input_mask, segment_ids, label_ids):\n",
    "        self.input_ids = input_ids\n",
    "        self.input_mask = input_mask\n",
    "        self.segment_ids = segment_ids\n",
    "        self.label_ids = label_ids\n",
    "\n",
    "class SentenceGetter(object):\n",
    "    \n",
    "    def __init__(self, data):\n",
    "        self.n_sent = 1\n",
    "        self.data = data\n",
    "        self.empty = False\n",
    "        agg_func = lambda s: [(w, t) for w, t in zip(s[\"text\"].values.tolist(),\n",
    "                                                           s[\"tag\"].values.tolist())]\n",
    "        self.grouped = self.data.groupby(\"sentence\").apply(agg_func)\n",
    "        self.sentences = [s for s in self.grouped]\n",
    "    \n",
    "    def get_next(self):\n",
    "        try:\n",
    "            s = self.grouped[\"Sentence: {}\".format(self.n_sent)]\n",
    "            self.n_sent += 1\n",
    "            return s\n",
    "        except:\n",
    "            return None\n",
    "\n",
    "def set_seed(seed):\n",
    "    random.seed(seed)\n",
    "    np.random.seed(seed)\n",
    "    torch.manual_seed(seed)"
   ]
  },
  {
   "cell_type": "code",
   "execution_count": 13,
   "metadata": {},
   "outputs": [],
   "source": [
    "\n",
    "device = \"cuda\"\n",
    "n_gpu = 1\n",
    "\n",
    "# Set seed\n",
    "set_seed(42)\n",
    "\n"
   ]
  },
  {
   "cell_type": "code",
   "execution_count": 4,
   "metadata": {},
   "outputs": [
    {
     "name": "stdout",
     "output_type": "stream",
     "text": [
      "1\n"
     ]
    }
   ],
   "source": [
    "with torch.cuda.device(n_gpu):\n",
    "    print(torch.cuda.current_device())"
   ]
  },
  {
   "cell_type": "markdown",
   "metadata": {},
   "source": [
    "## Bajamos el modelo, config y tokenizer"
   ]
  },
  {
   "cell_type": "code",
   "execution_count": 5,
   "metadata": {},
   "outputs": [
    {
     "name": "stderr",
     "output_type": "stream",
     "text": [
      "I1218 00:01:49.309852 140181847238400 configuration_utils.py:151] loading configuration file https://s3.amazonaws.com/models.huggingface.co/bert/bert-large-uncased-config.json from cache at /home/dfurman/.cache/torch/transformers/6dfaed860471b03ab5b9acb6153bea82b6632fb9bbe514d3fff050fe1319ee6d.4c88e2dec8f8b017f319f6db2b157fee632c0860d9422e4851bd0d6999f9ce38\n",
      "I1218 00:01:49.312846 140181847238400 configuration_utils.py:168] Model config {\n",
      "  \"attention_probs_dropout_prob\": 0.1,\n",
      "  \"finetuning_task\": null,\n",
      "  \"hidden_act\": \"gelu\",\n",
      "  \"hidden_dropout_prob\": 0.1,\n",
      "  \"hidden_size\": 1024,\n",
      "  \"initializer_range\": 0.02,\n",
      "  \"intermediate_size\": 4096,\n",
      "  \"layer_norm_eps\": 1e-12,\n",
      "  \"max_position_embeddings\": 512,\n",
      "  \"num_attention_heads\": 16,\n",
      "  \"num_hidden_layers\": 24,\n",
      "  \"num_labels\": 2,\n",
      "  \"output_attentions\": false,\n",
      "  \"output_hidden_states\": false,\n",
      "  \"output_past\": true,\n",
      "  \"pruned_heads\": {},\n",
      "  \"torchscript\": false,\n",
      "  \"type_vocab_size\": 2,\n",
      "  \"use_bfloat16\": false,\n",
      "  \"vocab_size\": 30522\n",
      "}\n",
      "\n",
      "I1218 00:01:49.952492 140181847238400 tokenization_utils.py:374] loading file https://s3.amazonaws.com/models.huggingface.co/bert/bert-large-uncased-vocab.txt from cache at /home/dfurman/.cache/torch/transformers/9b3c03a36e83b13d5ba95ac965c9f9074a99e14340c523ab405703179e79fc46.542ce4285a40d23a559526243235df47c5f75c197f04f37d1a0c124c32c9a084\n",
      "I1218 00:01:50.655760 140181847238400 modeling_utils.py:337] loading weights file https://s3.amazonaws.com/models.huggingface.co/bert/bert-large-uncased-pytorch_model.bin from cache at /home/dfurman/.cache/torch/transformers/54da47087cc86ce75324e4dc9bbb5f66c6e83a7c6bd23baea8b489acc8d09aa4.4d5343a4b979c4beeaadef17a0453d1bb183dd9b084f58b84c7cc781df343ae6\n",
      "I1218 00:01:59.887591 140181847238400 modeling_utils.py:405] Weights of BertForTokenClassification not initialized from pretrained model: ['classifier.weight', 'classifier.bias']\n",
      "I1218 00:01:59.888330 140181847238400 modeling_utils.py:408] Weights from pretrained model not used in BertForTokenClassification: ['cls.predictions.bias', 'cls.predictions.transform.dense.weight', 'cls.predictions.transform.dense.bias', 'cls.predictions.decoder.weight', 'cls.seq_relationship.weight', 'cls.seq_relationship.bias', 'cls.predictions.transform.LayerNorm.weight', 'cls.predictions.transform.LayerNorm.bias']\n"
     ]
    }
   ],
   "source": [
    "with torch.cuda.device(n_gpu):\n",
    "    # Use cross entropy ignore index as padding label id so that only real label ids contribute to the loss later\n",
    "    pad_token_label_id = CrossEntropyLoss().ignore_index\n",
    "\n",
    "    model_type = \"bert\"\n",
    "    config_class, model_class, tokenizer_class = MODEL_CLASSES[model_type]\n",
    "\n",
    "    bert_type = \"bert-large-uncased\"\n",
    "    config = config_class.from_pretrained(bert_type,\n",
    "                                              num_labels=2)\n",
    "    tokenizer = tokenizer_class.from_pretrained(bert_type,\n",
    "                                                    do_lower_case=True)\n",
    "    model = model_class.from_pretrained(bert_type, from_tf=False,\n",
    "                                            config=config)\n",
    "    model.to(device)\n",
    "\n",
    "    'done'"
   ]
  },
  {
   "cell_type": "markdown",
   "metadata": {},
   "source": [
    "# Entrenamos"
   ]
  },
  {
   "cell_type": "markdown",
   "metadata": {},
   "source": [
    "## Funcion auxiliar para convertir a features"
   ]
  },
  {
   "cell_type": "code",
   "execution_count": 6,
   "metadata": {},
   "outputs": [],
   "source": [
    "def convert_examples_to_features(examples,\n",
    "                                 label_list,\n",
    "                                 max_seq_length,\n",
    "                                 tokenizer,\n",
    "                                 cls_token_at_end=False,\n",
    "                                 cls_token=\"[CLS]\",\n",
    "                                 cls_token_segment_id=1,\n",
    "                                 sep_token=\"[SEP]\",\n",
    "                                 sep_token_extra=False,\n",
    "                                 pad_on_left=False,\n",
    "                                 pad_token=0,\n",
    "                                 pad_token_segment_id=0,\n",
    "                                 pad_token_label_id=-1,\n",
    "                                 sequence_a_segment_id=0,\n",
    "                                 mask_padding_with_zero=True):\n",
    "    \"\"\" Loads a data file into a list of `InputBatch`s\n",
    "        `cls_token_at_end` define the location of the CLS token:\n",
    "            - False (Default, BERT/XLM pattern): [CLS] + A + [SEP] + B + [SEP]\n",
    "            - True (XLNet/GPT pattern): A + [SEP] + B + [SEP] + [CLS]\n",
    "        `cls_token_segment_id` define the segment id associated to the CLS token (0 for BERT, 2 for XLNet)\n",
    "    \"\"\"\n",
    "\n",
    "    label_map = {label: i for i, label in enumerate(label_list)}\n",
    "\n",
    "    features = []\n",
    "    for (ex_index, example) in enumerate(examples):\n",
    "#         if ex_index % 10000 == 0:\n",
    "#             print(\"Writing example {} of {}\".format(ex_index, len(examples)))\n",
    "#             print(\"E.g: {}\".format(example.words))\n",
    "\n",
    "        tokens = []\n",
    "        label_ids = []\n",
    "        for word, label in zip(example.words, example.labels):\n",
    "            word_tokens = tokenizer.tokenize(word)\n",
    "            tokens.extend(word_tokens)\n",
    "            # Use the real label id for the first token of the word, and padding ids for the remaining tokens\n",
    "            label_ids.extend([label_map[label]] + [pad_token_label_id] * (len(word_tokens) - 1))\n",
    "\n",
    "        # Account for [CLS] and [SEP] with \"- 2\" and with \"- 3\" for RoBERTa.\n",
    "        special_tokens_count = 3 if sep_token_extra else 2\n",
    "        if len(tokens) > max_seq_length - special_tokens_count:\n",
    "            tokens = tokens[:(max_seq_length - special_tokens_count)]\n",
    "            label_ids = label_ids[:(max_seq_length - special_tokens_count)]\n",
    "\n",
    "        # The convention in BERT is:\n",
    "        # (a) For sequence pairs:\n",
    "        #  tokens:   [CLS] is this jack ##son ##ville ? [SEP] no it is not . [SEP]\n",
    "        #  type_ids:   0   0  0    0    0     0       0   0   1  1  1  1   1   1\n",
    "        # (b) For single sequences:\n",
    "        #  tokens:   [CLS] the dog is hairy . [SEP]\n",
    "        #  type_ids:   0   0   0   0  0     0   0\n",
    "        #\n",
    "        # Where \"type_ids\" are used to indicate whether this is the first\n",
    "        # sequence or the second sequence. The embedding vectors for `type=0` and\n",
    "        # `type=1` were learned during pre-training and are added to the wordpiece\n",
    "        # embedding vector (and position vector). This is not *strictly* necessary\n",
    "        # since the [SEP] token unambiguously separates the sequences, but it makes\n",
    "        # it easier for the model to learn the concept of sequences.\n",
    "        #\n",
    "        # For classification tasks, the first vector (corresponding to [CLS]) is\n",
    "        # used as as the \"sentence vector\". Note that this only makes sense because\n",
    "        # the entire model is fine-tuned.\n",
    "        tokens += [sep_token]\n",
    "        label_ids += [pad_token_label_id]\n",
    "        if sep_token_extra:\n",
    "            # roberta uses an extra separator b/w pairs of sentences\n",
    "            tokens += [sep_token]\n",
    "            label_ids += [pad_token_label_id]\n",
    "        segment_ids = [sequence_a_segment_id] * len(tokens)\n",
    "\n",
    "        if cls_token_at_end:\n",
    "            tokens += [cls_token]\n",
    "            label_ids += [pad_token_label_id]\n",
    "            segment_ids += [cls_token_segment_id]\n",
    "        else:\n",
    "            tokens = [cls_token] + tokens\n",
    "            label_ids = [pad_token_label_id] + label_ids\n",
    "            segment_ids = [cls_token_segment_id] + segment_ids\n",
    "\n",
    "        input_ids = tokenizer.convert_tokens_to_ids(tokens)\n",
    "\n",
    "        # The mask has 1 for real tokens and 0 for padding tokens. Only real\n",
    "        # tokens are attended to.\n",
    "        input_mask = [1 if mask_padding_with_zero else 0] * len(input_ids)\n",
    "\n",
    "        # Zero-pad up to the sequence length.\n",
    "        padding_length = max_seq_length - len(input_ids)\n",
    "        if pad_on_left:\n",
    "            input_ids = ([pad_token] * padding_length) + input_ids\n",
    "            input_mask = ([0 if mask_padding_with_zero else 1] * padding_length) + input_mask\n",
    "            segment_ids = ([pad_token_segment_id] * padding_length) + segment_ids\n",
    "            label_ids = ([pad_token_label_id] * padding_length) + label_ids\n",
    "        else:\n",
    "            input_ids += ([pad_token] * padding_length)\n",
    "            input_mask += ([0 if mask_padding_with_zero else 1] * padding_length)\n",
    "            segment_ids += ([pad_token_segment_id] * padding_length)\n",
    "            label_ids += ([pad_token_label_id] * padding_length)\n",
    "\n",
    "        assert len(input_ids) == max_seq_length\n",
    "        assert len(input_mask) == max_seq_length\n",
    "        assert len(segment_ids) == max_seq_length\n",
    "        assert len(label_ids) == max_seq_length\n",
    "\n",
    "        features.append(\n",
    "                InputFeatures(input_ids=input_ids,\n",
    "                              input_mask=input_mask,\n",
    "                              segment_ids=segment_ids,\n",
    "                              label_ids=label_ids))\n",
    "    return features"
   ]
  },
  {
   "cell_type": "markdown",
   "metadata": {},
   "source": [
    "## Eval function"
   ]
  },
  {
   "cell_type": "code",
   "execution_count": 7,
   "metadata": {},
   "outputs": [],
   "source": [
    "def evaluate(model, test_dataloader):\n",
    "    eval_loss = 0.0\n",
    "    nb_eval_steps = 0\n",
    "    preds = None\n",
    "    out_label_ids = None\n",
    "    model.eval()\n",
    "    device = \"cuda\"\n",
    "    examples = []\n",
    "    with torch.cuda.device(1):\n",
    "        for batch in test_dataloader:\n",
    "            batch = tuple(t.to(device) for t in batch)\n",
    "            with torch.no_grad():\n",
    "                inputs = {\"input_ids\": batch[0],\n",
    "                          \"attention_mask\": batch[1],\n",
    "                          \"token_type_ids\": batch[2],\n",
    "                          # XLM and RoBERTa don\"t use segment_ids\n",
    "                          \"labels\": batch[3]}\n",
    "                outputs = model(**inputs)\n",
    "                tmp_eval_loss, logits = outputs[:2]\n",
    "\n",
    "\n",
    "                eval_loss += tmp_eval_loss.item()\n",
    "            nb_eval_steps += 1\n",
    "            if preds is None:\n",
    "                preds = logits.detach().cpu().numpy()\n",
    "                out_label_ids = inputs[\"labels\"].detach().cpu().numpy()\n",
    "            else:\n",
    "                preds = np.append(preds, logits.detach().cpu().numpy(), axis=0)\n",
    "                out_label_ids = np.append(out_label_ids, inputs[\"labels\"].detach().cpu().numpy(), axis=0)\n",
    "            examples.append(tokenizer.convert_ids_to_tokens([w for b in batch[0] for w in b.detach().cpu().numpy()]))\n",
    "        eval_loss = eval_loss / nb_eval_steps\n",
    "        preds = np.argmax(preds, axis=2)\n",
    "\n",
    "        for example, pred, truth in zip(examples[30:40], preds[30:40], out_label_ids[30:40]):\n",
    "            print(\"{}\\n{}\\n{}\\n\".format(example, pred, truth))\n",
    "\n",
    "        return eval_loss, preds, out_label_ids, examples\n",
    "\n"
   ]
  },
  {
   "cell_type": "markdown",
   "metadata": {},
   "source": [
    "## Train Function"
   ]
  },
  {
   "cell_type": "code",
   "execution_count": 14,
   "metadata": {},
   "outputs": [],
   "source": [
    "def train(train_dataset, model, tokenizer, labels, pad_token_label_id, dev_dataloader):\n",
    "    \"\"\" Train the model \"\"\"\n",
    "    \n",
    "    train_batch_size = 4\n",
    "    train_sampler = RandomSampler(train_dataset)\n",
    "    train_dataloader = DataLoader(train_dataset, sampler=train_sampler, batch_size=train_batch_size)\n",
    "\n",
    "    num_train_epochs = 20.0\n",
    "    t_total = len(train_dataloader) // num_train_epochs\n",
    "\n",
    "    # Prepare optimizer and schedule (linear warmup and decay)\n",
    "    no_decay = [\"bias\", \"LayerNorm.weight\"]\n",
    "    optimizer_grouped_parameters = [\n",
    "        {\"params\": [p for n, p in model.named_parameters() if not any(nd in n for nd in no_decay)],\n",
    "         \"weight_decay\": 0.1},\n",
    "        {\"params\": [p for n, p in model.named_parameters() if any(nd in n for nd in no_decay)], \"weight_decay\": 0.0}\n",
    "    ]\n",
    "    optimizer = AdamW(optimizer_grouped_parameters, lr=0.1, eps=1e-8)\n",
    "    scheduler = WarmupLinearSchedule(optimizer, warmup_steps=120, t_total=t_total)\n",
    "\n",
    "\n",
    "    global_step = 0\n",
    "    tr_loss, logging_loss = 0.0, 0.0\n",
    "    train_loss_timeline = []\n",
    "    eval_loss_timeline = []\n",
    "    f1_timeline = []\n",
    "    model.zero_grad()\n",
    "    train_iterator = trange(int(num_train_epochs), desc=\"Epoch\", disable=True)\n",
    "    set_seed(42)  # Added here for reproductibility (even between python 2 and 3)\n",
    "    \n",
    "    for _ in train_iterator:\n",
    "        epoch_iterator = tqdm(train_dataloader, desc=\"Iteration\", disable=False)\n",
    "        for step, batch in enumerate(epoch_iterator):\n",
    "            model.train()\n",
    "            batch = tuple(t.to(device) for t in batch)\n",
    "            inputs = {\"input_ids\": batch[0],\n",
    "                        \"attention_mask\": batch[1],\n",
    "                        \"token_type_ids\": batch[2],\n",
    "                        # XLM and RoBERTa don\"t use segment_ids\n",
    "                        \"labels\": batch[3]\n",
    "            }\n",
    "            outputs = model(**inputs)\n",
    "            loss = outputs[0]  # model outputs are always tuple in pytorch-transformers (see doc)\n",
    "            loss.backward()\n",
    "#             ipdb.set_trace()\n",
    "            tr_loss += loss.item()\n",
    "            optimizer.step()\n",
    "            scheduler.step()  # Update learning rate schedule\n",
    "            model.zero_grad()\n",
    "            \n",
    "            global_step += 1\n",
    "\n",
    "        # Evaluamos\n",
    "        loss, preds, truth, examples = evaluate(model, dev_dataloader)\n",
    "        eval_loss_timeline.append(loss)\n",
    "        train_loss_timeline.append(tr_loss / global_step)\n",
    "    tr_loss = 0\n",
    "    global_step = 0\n",
    "            \n",
    "\n",
    "    return global_step, train_loss_timeline, eval_loss_timeline"
   ]
  },
  {
   "cell_type": "markdown",
   "metadata": {},
   "source": [
    "## Train dataset"
   ]
  },
  {
   "cell_type": "code",
   "execution_count": 9,
   "metadata": {},
   "outputs": [
    {
     "name": "stdout",
     "output_type": "stream",
     "text": [
      "['Motion', 'is', 'one', 'of', 'the', 'most', 'important', 'ingredients', 'of', 'CG', 'movies', 'and', 'computer', 'games', '.']\n",
      "['claim', 'claim', 'claim', 'claim', 'claim', 'claim', 'claim', 'claim', 'claim', 'claim', 'claim', 'claim', 'claim', 'claim', 'O']\n"
     ]
    }
   ],
   "source": [
    "data = pd.read_csv(\"../train_mm.txt\", sep='\\t', encoding=\"latin1\").fillna(method=\"ffill\")\n",
    "\n",
    "getter = SentenceGetter(data)\n",
    "#Sacarle las oraciones que empiezan con \"<\", el autor, abstract, etc\n",
    "\n",
    "sentences = [[s[0] for s in sent] for sent in getter.sentences]\n",
    "labels = [[s[1] for s in sent] for sent in getter.sentences]\n",
    "\n",
    "num_labels = len(labels)\n",
    "\n",
    "examples = [InputExample(guid, words, labels) for guid, (words, labels) in enumerate(zip(sentences, labels))]\n",
    "print(examples[22].words)\n",
    "print(examples[22].labels)"
   ]
  },
  {
   "cell_type": "code",
   "execution_count": 10,
   "metadata": {},
   "outputs": [],
   "source": [
    "with torch.cuda.device(n_gpu):\n",
    "    possible_labels = [\"O\", \"claim\"]\n",
    "    features = convert_examples_to_features(examples, possible_labels, 50, tokenizer,\n",
    "                                                    cls_token_at_end=False,\n",
    "                                                    # xlnet has a cls token at the end\n",
    "                                                    cls_token=tokenizer.cls_token,\n",
    "                                                    cls_token_segment_id=0,\n",
    "                                                    sep_token=tokenizer.sep_token,\n",
    "                                                    sep_token_extra=False,\n",
    "                                                    # roberta uses an extra separator b/w pairs of sentences, cf. github.com/pytorch/fairseq/commit/1684e166e3da03f5b600dbb7855cb98ddfcd0805\n",
    "                                                    pad_on_left=False,\n",
    "                                                    # pad on the left for xlnet\n",
    "                                                    pad_token=tokenizer.convert_tokens_to_ids([tokenizer.pad_token])[0],\n",
    "                                                    pad_token_segment_id=0,\n",
    "                                                    pad_token_label_id=pad_token_label_id\n",
    "                                                    )\n",
    "\n",
    "\n",
    "        # Convert to Tensors and build dataset\n",
    "    all_input_ids = torch.tensor([f.input_ids for f in features], dtype=torch.long)\n",
    "    all_input_mask = torch.tensor([f.input_mask for f in features], dtype=torch.long)\n",
    "    all_segment_ids = torch.tensor([f.segment_ids for f in features], dtype=torch.long)\n",
    "    all_label_ids = torch.tensor([f.label_ids for f in features], dtype=torch.long)\n",
    "\n",
    "    all_input_ids.to(device)\n",
    "    all_input_mask.to(device)\n",
    "    all_segment_ids.to(device)\n",
    "    all_label_ids.to(device)\n",
    "\n",
    "    train_dataset = TensorDataset(all_input_ids, all_input_mask, all_segment_ids, all_label_ids)"
   ]
  },
  {
   "cell_type": "markdown",
   "metadata": {},
   "source": [
    "## Eval Dataset"
   ]
  },
  {
   "cell_type": "code",
   "execution_count": 11,
   "metadata": {},
   "outputs": [
    {
     "data": {
      "text/plain": [
       "2572"
      ]
     },
     "execution_count": 11,
     "metadata": {},
     "output_type": "execute_result"
    }
   ],
   "source": [
    "devdata = pd.read_csv(\"../dev_mm.txt\", sep='\\t', encoding=\"latin1\").fillna(method=\"ffill\")\n",
    "\n",
    "getter = SentenceGetter(devdata)\n",
    "\n",
    "sentences_dev = [[s[0] for s in sent] for sent in getter.sentences]\n",
    "labels_dev = [[s[1] for s in sent] for sent in getter.sentences]\n",
    "\n",
    "num_labels = len(labels_dev)\n",
    "\n",
    "examples_dev = [InputExample(guid, words, labels) for guid, (words, labels) in enumerate(zip(sentences_dev, labels_dev))]\n",
    "\n",
    "len(examples_dev)"
   ]
  },
  {
   "cell_type": "code",
   "execution_count": 12,
   "metadata": {},
   "outputs": [],
   "source": [
    "with torch.cuda.device(1):\n",
    "    device = \"cuda\"\n",
    "    possible_labels = [\"O\", \"claim\"]\n",
    "    features_dev = convert_examples_to_features(examples_dev, possible_labels, 50, tokenizer,\n",
    "                                                    cls_token_at_end=False,\n",
    "                                                    # xlnet has a cls token at the end\n",
    "                                                    cls_token=tokenizer.cls_token,\n",
    "                                                    cls_token_segment_id=0,\n",
    "                                                    sep_token=tokenizer.sep_token,\n",
    "                                                    sep_token_extra=False,\n",
    "                                                    # roberta uses an extra separator b/w pairs of sentences, cf. github.com/pytorch/fairseq/commit/1684e166e3da03f5b600dbb7855cb98ddfcd0805\n",
    "                                                    pad_on_left=False,\n",
    "                                                    # pad on the left for xlnet\n",
    "                                                    pad_token=tokenizer.convert_tokens_to_ids([tokenizer.pad_token])[0],\n",
    "                                                    pad_token_segment_id=0,\n",
    "                                                    pad_token_label_id=pad_token_label_id\n",
    "                                                    )\n",
    "\n",
    "        # Convert to Tensors and build dataset\n",
    "    all_input_ids = torch.tensor([f.input_ids for f in features_dev], dtype=torch.long)\n",
    "    all_input_mask = torch.tensor([f.input_mask for f in features_dev], dtype=torch.long)\n",
    "    all_segment_ids = torch.tensor([f.segment_ids for f in features_dev], dtype=torch.long)\n",
    "    all_label_ids = torch.tensor([f.label_ids for f in features_dev], dtype=torch.long)\n",
    "    \n",
    "    all_input_ids.to(device)\n",
    "    all_input_mask.to(device)\n",
    "    all_segment_ids.to(device)\n",
    "    all_label_ids.to(device)\n",
    "\n",
    "    dev_dataset = TensorDataset(all_input_ids, all_input_mask, all_segment_ids, all_label_ids)\n",
    "    dev_sampler = SequentialSampler(dev_dataset)\n",
    "    dev_dataloader = DataLoader(dev_dataset, sampler=dev_sampler, batch_size=8)"
   ]
  },
  {
   "cell_type": "code",
   "execution_count": 13,
   "metadata": {},
   "outputs": [],
   "source": [
    "# all_label_ids[22]\n",
    "# loss, preds, truth = evaluate(model, dev_dataloader)"
   ]
  },
  {
   "cell_type": "code",
   "execution_count": 42,
   "metadata": {},
   "outputs": [
    {
     "data": {
      "text/plain": [
       "0.43056195301704286"
      ]
     },
     "execution_count": 42,
     "metadata": {},
     "output_type": "execute_result"
    }
   ],
   "source": [
    "# truth_list = [(o,p) for sentence in zip(truth, preds) for (o,p) in zip(sentence[0], sentence[1]) if o != -100]\n",
    "\n",
    "# t, p = [i for (i,j) in truth_list], [j for (i,j) in truth_list]\n",
    "\n",
    "# f1score(t, p)"
   ]
  },
  {
   "cell_type": "markdown",
   "metadata": {},
   "source": [
    "# Corremos el entrenamiento"
   ]
  },
  {
   "cell_type": "code",
   "execution_count": 15,
   "metadata": {},
   "outputs": [
    {
     "name": "stderr",
     "output_type": "stream",
     "text": [
      "Iteration: 100%|██████████| 4153/4153 [12:04<00:00,  5.89it/s]\n",
      "Iteration:   0%|          | 1/4153 [00:00<12:18,  5.62it/s]"
     ]
    },
    {
     "name": "stdout",
     "output_type": "stream",
     "text": [
      "['[CLS]', 'g', 'm', 'and', 'h', 'm', 'are', 'free', 'positive', 'parameters', 'and', '{', '}', 'a', '##±', 'means', 'only', 'positive', 'or', 'negative', 'values', '(', '0', 'otherwise', ')', '.', '[SEP]', '[PAD]', '[PAD]', '[PAD]', '[PAD]', '[PAD]', '[PAD]', '[PAD]', '[PAD]', '[PAD]', '[PAD]', '[PAD]', '[PAD]', '[PAD]', '[PAD]', '[PAD]', '[PAD]', '[PAD]', '[PAD]', '[PAD]', '[PAD]', '[PAD]', '[PAD]', '[PAD]', '[CLS]', 'the', 'positive', 'length', 'feedback', 'effectively', 'models', 'a', 'stretch', 'reflex', ',', 'which', 'activate', '##s', 'the', 'muscle', 'when', 'the', 'fiber', 'is', 'stretched', 'beyond', 'a', 'fixed', 'length', '.', '[SEP]', '[PAD]', '[PAD]', '[PAD]', '[PAD]', '[PAD]', '[PAD]', '[PAD]', '[PAD]', '[PAD]', '[PAD]', '[PAD]', '[PAD]', '[PAD]', '[PAD]', '[PAD]', '[PAD]', '[PAD]', '[PAD]', '[PAD]', '[PAD]', '[PAD]', '[PAD]', '[PAD]', '[CLS]', 'u', 'l', 'm', 'is', 'most', 'useful', 'during', 'the', 'swing', 'phase', ',', 'as', 'the', 'ta', 'must', 'be', 'activated', 'to', 'do', '##rs', '##if', '##le', '##x', 'so', 'that', 'toe', '-', 'stu', '##bbing', 'can', 'be', 'avoided', '.', '[SEP]', '[PAD]', '[PAD]', '[PAD]', '[PAD]', '[PAD]', '[PAD]', '[PAD]', '[PAD]', '[PAD]', '[PAD]', '[PAD]', '[PAD]', '[PAD]', '[PAD]', '[PAD]', '[CLS]', 'in', 'addition', ',', 'the', 'h', '##fl', 'relies', 'on', 'length', 'feedback', 'to', 'generate', 'hip', 'flex', '##ion', 'torque', 'during', 'early', 'swing', ',', 'especially', 'during', 'running', '.', '[SEP]', '[PAD]', '[PAD]', '[PAD]', '[PAD]', '[PAD]', '[PAD]', '[PAD]', '[PAD]', '[PAD]', '[PAD]', '[PAD]', '[PAD]', '[PAD]', '[PAD]', '[PAD]', '[PAD]', '[PAD]', '[PAD]', '[PAD]', '[PAD]', '[PAD]', '[PAD]', '[PAD]', '[PAD]', '[CLS]', 'muscle', '-', 'driven', 'pd', 'control', '.', '[SEP]', '[PAD]', '[PAD]', '[PAD]', '[PAD]', '[PAD]', '[PAD]', '[PAD]', '[PAD]', '[PAD]', '[PAD]', '[PAD]', '[PAD]', '[PAD]', '[PAD]', '[PAD]', '[PAD]', '[PAD]', '[PAD]', '[PAD]', '[PAD]', '[PAD]', '[PAD]', '[PAD]', '[PAD]', '[PAD]', '[PAD]', '[PAD]', '[PAD]', '[PAD]', '[PAD]', '[PAD]', '[PAD]', '[PAD]', '[PAD]', '[PAD]', '[PAD]', '[PAD]', '[PAD]', '[PAD]', '[PAD]', '[PAD]', '[PAD]', '[CLS]', 'we', 'also', 'define', 'a', 'muscle', '-', 'driven', 'pd', 'control', 'law', 'with', 'respect', 'to', 'an', 'angular', 'feature', '[UNK]', 'as', 'where', 'k', 'm', ',', 'd', 'm', ',', '[UNK]', 'm', 'are', 'free', 'parameters', 'of', 'the', 'pd', '-', 'controller', '.', '[SEP]', '[PAD]', '[PAD]', '[PAD]', '[PAD]', '[PAD]', '[PAD]', '[PAD]', '[PAD]', '[PAD]', '[PAD]', '[PAD]', '[PAD]', '[CLS]', 'the', 'brace', '##s', 'sign', 'is', 'positive', 'if', 'torque', 'generated', 'by', 'm', 'is', 'in', 'the', 'opposing', 'direction', 'of', '[UNK]', '.', 'g', '.', ',', 'if', 'm', 'is', 'the', 'hip', 'ex', '##tens', '##or', 'and', '[UNK]', 'is', 'the', 'hip', 'flex', '##ion', 'angle', '##aan', '##d', 'negative', 'otherwise', '.', '[SEP]', '[PAD]', '[PAD]', '[PAD]', '[PAD]', '[PAD]', '[CLS]', 'much', 'like', 'the', 'standard', 'torque', '##base', '##d', 'pd', '-', 'controller', ',', 'the', 'muscle', '-', 'driven', 'pd', 'control', 'aims', 'to', 'adjust', '[UNK]', 'towards', 'the', 'target', 'angle', '[UNK]', 'm', 'while', 'damp', '##ing', 'its', 'velocity', '.', '[SEP]', '[PAD]', '[PAD]', '[PAD]', '[PAD]', '[PAD]', '[PAD]', '[PAD]', '[PAD]', '[PAD]', '[PAD]', '[PAD]', '[PAD]', '[PAD]', '[PAD]', '[PAD]']\n",
      "[0 0 0 0 0 0 0 0 0 0 0 0 0 0 0 0 0 0 0 0 0 0 0 0 0 0 0 0 0 0 0 0 0 0 0 0 0\n",
      " 0 0 0 0 0 0 0 0 0 0 0 0 0]\n",
      "[-100    1    1    1 -100    1    1    1    1    1    1    1    1    1\n",
      "    1    1    1    1    1    1 -100 -100    1    1    1    1    0    0\n",
      "    1    1    1    1 -100    1 -100    1    1 -100    1    1    0    0\n",
      "    0    0    0 -100 -100 -100 -100 -100]\n",
      "\n",
      "['[CLS]', 'however', ',', 'unlike', 'the', 'standard', 'pd', '-', 'controller', ',', 'muscles', 'can', 'only', 'activate', 'after', 'a', 'time', '-', 'delay', 'and', 'each', 'muscle', 'can', 'only', 'generate', 'forces', 'to', 'rotate', 'the', 'angular', 'do', '##f', 'in', 'one', 'direction', '.', '[SEP]', '[PAD]', '[PAD]', '[PAD]', '[PAD]', '[PAD]', '[PAD]', '[PAD]', '[PAD]', '[PAD]', '[PAD]', '[PAD]', '[PAD]', '[PAD]', '[CLS]', 'the', 'pd', '-', 'control', 'laws', 'are', 'employed', 'by', 'the', 'hip', 'muscles', 'during', 'the', 'stance', 'phase', 'to', 'maintain', 'the', 'global', 'upper', 'body', 'orientation', ',', 'as', 'well', 'as', 'during', 'stance', 'preparation', 'to', 'prepare', 'for', 'ground', 'contact', '.', '[SEP]', '[PAD]', '[PAD]', '[PAD]', '[PAD]', '[PAD]', '[PAD]', '[PAD]', '[PAD]', '[PAD]', '[PAD]', '[PAD]', '[PAD]', '[PAD]', '[CLS]', 'u', 'm', '[UNK]', '=', 'k', 'm', '(', '[UNK]', '(', 't', 'a', 'at', 'm', ')', 'a', '[UNK]', 'm', ')', '+', 'd', 'm', '[UNK]', '(', 't', 'i', 'a', 'at', 'm', ')', ',', 'a', '##±', '[SEP]', '[PAD]', '[PAD]', '[PAD]', '[PAD]', '[PAD]', '[PAD]', '[PAD]', '[PAD]', '[PAD]', '[PAD]', '[PAD]', '[PAD]', '[PAD]', '[PAD]', '[PAD]', '[PAD]', '[CLS]', '<', 'h', '##2', '>', '4', '.', '2', 'stance', 'phase', '<', '/', 'h', '##2', '>', '[SEP]', '[PAD]', '[PAD]', '[PAD]', '[PAD]', '[PAD]', '[PAD]', '[PAD]', '[PAD]', '[PAD]', '[PAD]', '[PAD]', '[PAD]', '[PAD]', '[PAD]', '[PAD]', '[PAD]', '[PAD]', '[PAD]', '[PAD]', '[PAD]', '[PAD]', '[PAD]', '[PAD]', '[PAD]', '[PAD]', '[PAD]', '[PAD]', '[PAD]', '[PAD]', '[PAD]', '[PAD]', '[PAD]', '[PAD]', '[PAD]', '[CLS]', 'each', 'muscle', 'has', 'an', 'initial', 'constant', 'ex', '##cit', '##ation', ',', 'or', 'pre', '-', 'stimulation', 'value', 'p', 'm', '.', '[SEP]', '[PAD]', '[PAD]', '[PAD]', '[PAD]', '[PAD]', '[PAD]', '[PAD]', '[PAD]', '[PAD]', '[PAD]', '[PAD]', '[PAD]', '[PAD]', '[PAD]', '[PAD]', '[PAD]', '[PAD]', '[PAD]', '[PAD]', '[PAD]', '[PAD]', '[PAD]', '[PAD]', '[PAD]', '[PAD]', '[PAD]', '[PAD]', '[PAD]', '[PAD]', '[PAD]', '[CLS]', 'these', 'values', 'are', 'initial', '##ized', 'close', 'to', 'zero', ',', 'but', 'are', 'then', 'opt', '##imi', '##zed', '.', '[SEP]', '[PAD]', '[PAD]', '[PAD]', '[PAD]', '[PAD]', '[PAD]', '[PAD]', '[PAD]', '[PAD]', '[PAD]', '[PAD]', '[PAD]', '[PAD]', '[PAD]', '[PAD]', '[PAD]', '[PAD]', '[PAD]', '[PAD]', '[PAD]', '[PAD]', '[PAD]', '[PAD]', '[PAD]', '[PAD]', '[PAD]', '[PAD]', '[PAD]', '[PAD]', '[PAD]', '[PAD]', '[PAD]', '[CLS]', 'the', 'sol', 'and', 'gas', 'both', 'rely', 'on', 'positive', 'force', 'feedback', 'and', 'are', 'the', 'main', 'sources', 'of', 'torque', 'during', 'walking', '.', '[SEP]', '[PAD]', '[PAD]', '[PAD]', '[PAD]', '[PAD]', '[PAD]', '[PAD]', '[PAD]', '[PAD]', '[PAD]', '[PAD]', '[PAD]', '[PAD]', '[PAD]', '[PAD]', '[PAD]', '[PAD]', '[PAD]', '[PAD]', '[PAD]', '[PAD]', '[PAD]', '[PAD]', '[PAD]', '[PAD]', '[PAD]', '[PAD]', '[PAD]', '[CLS]', 'the', 'ta', 'ensures', 'foot', 'clearance', 'during', 'swing', 'using', 'a', 'length', 'feedback', '(', 'u', 'l', 'ta', ')', ',', 'but', 'the', 'activation', 'is', 'suppressed', 'during', 'stance', 'in', 'proportion', 'to', 'the', 'current', 'force', 'generated', 'from', 'sol', '.', '[SEP]', '[PAD]', '[PAD]', '[PAD]', '[PAD]', '[PAD]', '[PAD]', '[PAD]', '[PAD]', '[PAD]', '[PAD]', '[PAD]', '[PAD]', '[PAD]', '[PAD]']\n",
      "[0 0 0 0 0 0 0 0 0 0 0 0 0 0 0 0 0 0 0 0 0 0 0 0 0 0 0 0 0 0 0 0 0 0 0 0 0\n",
      " 0 0 0 0 0 0 0 0 0 0 0 0 0]\n",
      "[-100    1    1    1    1    1    1    1    1    1    1    1    1    1\n",
      "    1    1    0 -100 -100 -100 -100 -100 -100 -100 -100 -100 -100 -100\n",
      " -100 -100 -100 -100 -100 -100 -100 -100 -100 -100 -100 -100 -100 -100\n",
      " -100 -100 -100 -100 -100 -100 -100 -100]\n",
      "\n",
      "['[CLS]', 'the', 'suppression', 'allows', 'the', 'generated', 'ta', 'activation', 'patterns', 'to', 'better', 'match', 'human', 'data', 'during', 'loco', '##mot', '##ion', '.', '[SEP]', '[PAD]', '[PAD]', '[PAD]', '[PAD]', '[PAD]', '[PAD]', '[PAD]', '[PAD]', '[PAD]', '[PAD]', '[PAD]', '[PAD]', '[PAD]', '[PAD]', '[PAD]', '[PAD]', '[PAD]', '[PAD]', '[PAD]', '[PAD]', '[PAD]', '[PAD]', '[PAD]', '[PAD]', '[PAD]', '[PAD]', '[PAD]', '[PAD]', '[PAD]', '[PAD]', '[CLS]', 'the', 'force', 'feedback', 'on', 'the', 'va', '##s', 'creates', 'a', 'strong', 'knee', 'extension', 'torque', 'following', 'ground', 'contact', ',', 'but', 'ex', '##cit', '##ation', 'is', 'suppressed', 'when', 'the', 'knee', 'flex', '##ion', 'angle', '(', '[UNK]', 'k', ')', 'is', 'extended', 'below', 'an', 'offset', '(', '[UNK]', 'k', 'off', ')', 'with', 'an', 'extension', 'velocity', '(', '[SEP]', '[CLS]', 'the', 'suppression', 'prevents', 'hyper', '##ex', '##tension', 'of', 'the', 'knee', 'during', 'mid', '-', 'stance', '.', '[SEP]', '[PAD]', '[PAD]', '[PAD]', '[PAD]', '[PAD]', '[PAD]', '[PAD]', '[PAD]', '[PAD]', '[PAD]', '[PAD]', '[PAD]', '[PAD]', '[PAD]', '[PAD]', '[PAD]', '[PAD]', '[PAD]', '[PAD]', '[PAD]', '[PAD]', '[PAD]', '[PAD]', '[PAD]', '[PAD]', '[PAD]', '[PAD]', '[PAD]', '[PAD]', '[PAD]', '[PAD]', '[PAD]', '[PAD]', '[PAD]', '[CLS]', 'using', 'muscle', '-', 'driven', 'pd', 'control', 'laws', ',', 'the', 'ham', ',', 'g', '##lu', ',', 'and', 'h', '##fl', 'are', 'responsible', 'for', 'maintaining', 'the', 'global', 'orientation', 'of', 'the', 'upper', 'body', '(', 'i', ')', ',', 'defined', 'as', 'the', 'vector', 'between', 'the', 'com', 'of', 'the', 'upper', 'body', 'and', 'the', 'com', 'of', 'the', '[SEP]', '[CLS]', 'during', 'double', 'stance', ',', 'these', 'control', 'laws', 'are', 'only', 'active', 'for', 'the', 'leading', 'leg', ',', 'denoted', 'as', 'u', 'i', 'm', 'lead', '.', '[SEP]', '[PAD]', '[PAD]', '[PAD]', '[PAD]', '[PAD]', '[PAD]', '[PAD]', '[PAD]', '[PAD]', '[PAD]', '[PAD]', '[PAD]', '[PAD]', '[PAD]', '[PAD]', '[PAD]', '[PAD]', '[PAD]', '[PAD]', '[PAD]', '[PAD]', '[PAD]', '[PAD]', '[PAD]', '[PAD]', '[PAD]', '[CLS]', 'specifically', ',', 'control', 'laws', 'during', 'the', 'stance', 'phase', 'are', 'as', 'follows', ':', 'towards', 'the', 'end', 'of', 'the', 'stance', 'phase', ',', 'the', 'controller', 'enters', 'into', 'the', 'swing', 'initiation', ',', 'which', 'begins', 'when', 'either', 'the', 'signed', 'horizontal', 'distance', 'between', 'the', 'com', 'and', 'the', 'ankle', 'normal', '##ized', 'by', 'leg', 'length', 'exceeds', '[SEP]', '[CLS]', 'during', 'swing', 'initiation', ',', 'constant', 'ex', '##cit', '##ation', 'values', 'between', '0', 'and', '1', '(', 'set', 'during', 'optimization', ')', 'are', 'added', 'and', 'sub', '##tracted', 'to', 'the', 'va', '##s', ',', 'rf', ',', 'g', '##lu', ',', 'and', 'h', '##fl', ':', 'the', 'combination', 'of', 'h', '##fl', 'and', 'g', '##lu', 'ex', '##cit', '##ations', '[SEP]', '[CLS]', 'two', 'main', 'differences', 'between', 'our', 'stance', 'phase', 'control', 'laws', 'compared', 'to', '[SEP]', '[PAD]', '[PAD]', '[PAD]', '[PAD]', '[PAD]', '[PAD]', '[PAD]', '[PAD]', '[PAD]', '[PAD]', '[PAD]', '[PAD]', '[PAD]', '[PAD]', '[PAD]', '[PAD]', '[PAD]', '[PAD]', '[PAD]', '[PAD]', '[PAD]', '[PAD]', '[PAD]', '[PAD]', '[PAD]', '[PAD]', '[PAD]', '[PAD]', '[PAD]', '[PAD]', '[PAD]', '[PAD]', '[PAD]', '[PAD]', '[PAD]', '[PAD]', '[PAD]']\n",
      "[0 0 0 0 0 0 0 0 0 0 0 0 0 0 0 0 0 0 0 0 0 0 0 0 0 0 0 0 0 0 0 0 0 0 0 0 0\n",
      " 0 0 0 0 0 0 0 0 0 0 0 0 0]\n",
      "[-100    0    0    0    1    1    1    1    1    1    1    1    1    1\n",
      "    1    1    1    1    0 -100 -100 -100 -100 -100 -100 -100 -100 -100\n",
      " -100 -100 -100 -100 -100 -100 -100 -100 -100 -100 -100 -100 -100 -100\n",
      " -100 -100 -100 -100 -100 -100 -100 -100]\n",
      "\n",
      "['[CLS]', 'ge', '##yer', 'and', 'herr', '[', '2010', ']', '[SEP]', '[PAD]', '[PAD]', '[PAD]', '[PAD]', '[PAD]', '[PAD]', '[PAD]', '[PAD]', '[PAD]', '[PAD]', '[PAD]', '[PAD]', '[PAD]', '[PAD]', '[PAD]', '[PAD]', '[PAD]', '[PAD]', '[PAD]', '[PAD]', '[PAD]', '[PAD]', '[PAD]', '[PAD]', '[PAD]', '[PAD]', '[PAD]', '[PAD]', '[PAD]', '[PAD]', '[PAD]', '[PAD]', '[PAD]', '[PAD]', '[PAD]', '[PAD]', '[PAD]', '[PAD]', '[PAD]', '[PAD]', '[PAD]', '[CLS]', 'lie', 'in', 'how', 'the', 'swing', 'initiation', 'state', 'functions', '.', '[SEP]', '[PAD]', '[PAD]', '[PAD]', '[PAD]', '[PAD]', '[PAD]', '[PAD]', '[PAD]', '[PAD]', '[PAD]', '[PAD]', '[PAD]', '[PAD]', '[PAD]', '[PAD]', '[PAD]', '[PAD]', '[PAD]', '[PAD]', '[PAD]', '[PAD]', '[PAD]', '[PAD]', '[PAD]', '[PAD]', '[PAD]', '[PAD]', '[PAD]', '[PAD]', '[PAD]', '[PAD]', '[PAD]', '[PAD]', '[PAD]', '[PAD]', '[PAD]', '[PAD]', '[PAD]', '[PAD]', '[CLS]', 'first', ',', 'for', 'running', 'we', 'found', 'it', 'necessary', 'to', 'enter', 'into', 'swing', 'initiation', 'using', 'the', 'd', 'i', '&', 'gt', ';', 'd', 'i', 'si', 'condition', ',', 'rather', 'than', 'just', 'wait', 'for', 'double', 'stance', '.', '[SEP]', '[PAD]', '[PAD]', '[PAD]', '[PAD]', '[PAD]', '[PAD]', '[PAD]', '[PAD]', '[PAD]', '[PAD]', '[PAD]', '[PAD]', '[PAD]', '[PAD]', '[PAD]', '[CLS]', 'second', ',', 'we', 'found', 'it', 'unnecessary', 'to', 'mod', '##ulate', 'the', 'muscle', '-', 'driven', 'pd', '-', 'control', 'laws', 'in', 'the', 'hip', 'by', 'ground', 'reaction', 'forces', '.', '[SEP]', '[PAD]', '[PAD]', '[PAD]', '[PAD]', '[PAD]', '[PAD]', '[PAD]', '[PAD]', '[PAD]', '[PAD]', '[PAD]', '[PAD]', '[PAD]', '[PAD]', '[PAD]', '[PAD]', '[PAD]', '[PAD]', '[PAD]', '[PAD]', '[PAD]', '[PAD]', '[PAD]', '[CLS]', 'instead', ',', 'the', 'responsibility', 'to', 'maintain', 'upper', 'body', 'orientation', 'is', 'always', 'assigned', 'to', 'the', 'lead', 'leg', '.', '[SEP]', '[PAD]', '[PAD]', '[PAD]', '[PAD]', '[PAD]', '[PAD]', '[PAD]', '[PAD]', '[PAD]', '[PAD]', '[PAD]', '[PAD]', '[PAD]', '[PAD]', '[PAD]', '[PAD]', '[PAD]', '[PAD]', '[PAD]', '[PAD]', '[PAD]', '[PAD]', '[PAD]', '[PAD]', '[PAD]', '[PAD]', '[PAD]', '[PAD]', '[PAD]', '[PAD]', '[PAD]', '[CLS]', 'u', 'sol', '=', 'p', 'sol', '+', 'u', 'sol', 'f', ',', 'u', 'ta', '=', 'p', 'ta', '+', 'u', 'ta', 'l', 'a', 'u', 'f', 'sol', ',', 'u', 'gas', '=', 'p', 'gas', '+', 'u', 'gas', 'f', ',', 'u', 'va', '##s', '=', 'p', 'va', '##s', '+', 'u', 'f', 'va', '##s', '+', 'k', '[SEP]', '[CLS]', 'u', 'va', '##s', '=', 'u', 'va', '##s', 'a', 's', 'va', '##s', ',', 'u', 'rf', '=', 'u', 'rf', '+', 's', 'rf', ',', 'u', 'g', '##lu', '=', 'u', 'g', '##lu', 'a', 's', 'g', '##lu', ',', 'u', 'h', '##fl', '=', 'u', 'h', '##fl', '+', 's', 'h', '##fl', '.', '[SEP]', '[PAD]', '[PAD]', '[PAD]', '[CLS]', '<', 'h', '##2', '>', '4', '.', '3', 'swing', 'phase', '<', '/', 'h', '##2', '>', '[SEP]', '[PAD]', '[PAD]', '[PAD]', '[PAD]', '[PAD]', '[PAD]', '[PAD]', '[PAD]', '[PAD]', '[PAD]', '[PAD]', '[PAD]', '[PAD]', '[PAD]', '[PAD]', '[PAD]', '[PAD]', '[PAD]', '[PAD]', '[PAD]', '[PAD]', '[PAD]', '[PAD]', '[PAD]', '[PAD]', '[PAD]', '[PAD]', '[PAD]', '[PAD]', '[PAD]', '[PAD]', '[PAD]', '[PAD]', '[PAD]']\n",
      "[0 0 0 0 0 0 0 0 0 0 0 0 0 0 0 0 0 0 0 0 0 0 0 0 0 0 0 0 0 0 0 0 0 0 0 0 0\n",
      " 0 0 0 0 0 0 0 0 0 0 0 0 0]\n",
      "[-100    1    1    1    1    1    1    1    1    1    1 -100    0    0\n",
      "    0    0 -100 -100    0    0 -100 -100 -100 -100 -100 -100 -100 -100\n",
      " -100 -100 -100 -100 -100 -100 -100 -100 -100 -100 -100 -100 -100 -100\n",
      " -100 -100 -100 -100 -100 -100 -100 -100]\n",
      "\n",
      "['[CLS]', 'much', 'like', 'in', 'the', 'stance', 'phase', ',', 'each', 'muscle', 'has', 'an', 'initial', 'constant', 'ex', '##cit', '##ation', 'value', '(', 'q', 'm', ')', '.', '[SEP]', '[PAD]', '[PAD]', '[PAD]', '[PAD]', '[PAD]', '[PAD]', '[PAD]', '[PAD]', '[PAD]', '[PAD]', '[PAD]', '[PAD]', '[PAD]', '[PAD]', '[PAD]', '[PAD]', '[PAD]', '[PAD]', '[PAD]', '[PAD]', '[PAD]', '[PAD]', '[PAD]', '[PAD]', '[PAD]', '[PAD]', '[CLS]', 'the', 'leg', 'motion', 'relies', 'significantly', 'on', 'passive', 'dynamics', 'during', 'the', 'swing', 'phase', '[SEP]', '[PAD]', '[PAD]', '[PAD]', '[PAD]', '[PAD]', '[PAD]', '[PAD]', '[PAD]', '[PAD]', '[PAD]', '[PAD]', '[PAD]', '[PAD]', '[PAD]', '[PAD]', '[PAD]', '[PAD]', '[PAD]', '[PAD]', '[PAD]', '[PAD]', '[PAD]', '[PAD]', '[PAD]', '[PAD]', '[PAD]', '[PAD]', '[PAD]', '[PAD]', '[PAD]', '[PAD]', '[PAD]', '[PAD]', '[PAD]', '[PAD]', '[PAD]', '[CLS]', '[', 'collins', 'et', 'al', '.', '[SEP]', '[PAD]', '[PAD]', '[PAD]', '[PAD]', '[PAD]', '[PAD]', '[PAD]', '[PAD]', '[PAD]', '[PAD]', '[PAD]', '[PAD]', '[PAD]', '[PAD]', '[PAD]', '[PAD]', '[PAD]', '[PAD]', '[PAD]', '[PAD]', '[PAD]', '[PAD]', '[PAD]', '[PAD]', '[PAD]', '[PAD]', '[PAD]', '[PAD]', '[PAD]', '[PAD]', '[PAD]', '[PAD]', '[PAD]', '[PAD]', '[PAD]', '[PAD]', '[PAD]', '[PAD]', '[PAD]', '[PAD]', '[PAD]', '[PAD]', '[PAD]', '[CLS]', '2005', ']', ',', 'as', 'most', 'muscles', 'are', 'only', 'excited', 'at', 'low', 'levels', '.', '[SEP]', '[PAD]', '[PAD]', '[PAD]', '[PAD]', '[PAD]', '[PAD]', '[PAD]', '[PAD]', '[PAD]', '[PAD]', '[PAD]', '[PAD]', '[PAD]', '[PAD]', '[PAD]', '[PAD]', '[PAD]', '[PAD]', '[PAD]', '[PAD]', '[PAD]', '[PAD]', '[PAD]', '[PAD]', '[PAD]', '[PAD]', '[PAD]', '[PAD]', '[PAD]', '[PAD]', '[PAD]', '[PAD]', '[PAD]', '[PAD]', '[PAD]', '[CLS]', 'the', 'main', 'exceptions', 'are', 'the', 'ta', ',', 'which', 'maintains', 'the', 'length', 'feedback', '(', 'u', 'l', 'ta', ')', 'to', 'avoid', 'toes', '##tub', '##bing', ',', 'and', 'the', 'ham', ',', 'which', 'is', 'activated', 'at', 'late', 'swing', 'phase', 'to', 'prevent', 'the', 'knee', 'from', 'being', 'over', '##ex', '##ten', '##ded', 'before', 'landing', '.', '[SEP]', '[PAD]', '[CLS]', 'the', 'h', '##fl', 'introduces', 'a', 'hip', 'flex', '##ion', 'torque', 'through', 'a', 'length', 'feedback', ',', 'which', 'is', 'suppressed', 'when', 'the', 'ham', 'is', 'stretched', 'in', 'during', 'late', 'swing', '.', '[SEP]', '[PAD]', '[PAD]', '[PAD]', '[PAD]', '[PAD]', '[PAD]', '[PAD]', '[PAD]', '[PAD]', '[PAD]', '[PAD]', '[PAD]', '[PAD]', '[PAD]', '[PAD]', '[PAD]', '[PAD]', '[PAD]', '[PAD]', '[PAD]', '[PAD]', '[CLS]', 'the', 'amount', 'of', 'ex', '##cit', '##ation', 'in', 'the', 'h', '##fl', 'also', 'depends', 'on', 'the', 'value', 'of', 'upper', 'body', 'lean', 'at', 'the', 'beginning', 'of', 'the', 'swing', 'phase', '(', 'i', 'lt', '##o', ')', ':', 'the', 'further', 'the', 'upper', 'body', 'leans', 'forward', 'compared', 'to', 'the', 'reference', 'lean', 'angle', '(', 'i', 'd', '[SEP]', '[CLS]', 'note', 'that', 'i', 'd', 'is', 'the', 'same', 'as', 'the', 'target', 'angle', 'in', 'u', 'i', 'h', '##fl', '.', '[SEP]', '[PAD]', '[PAD]', '[PAD]', '[PAD]', '[PAD]', '[PAD]', '[PAD]', '[PAD]', '[PAD]', '[PAD]', '[PAD]', '[PAD]', '[PAD]', '[PAD]', '[PAD]', '[PAD]', '[PAD]', '[PAD]', '[PAD]', '[PAD]', '[PAD]', '[PAD]', '[PAD]', '[PAD]', '[PAD]', '[PAD]', '[PAD]', '[PAD]', '[PAD]', '[PAD]', '[PAD]']\n",
      "[0 0 0 0 0 0 0 0 0 0 0 0 0 0 0 0 0 0 0 0 0 0 0 0 0 0 0 0 0 0 0 0 0 0 0 0 0\n",
      " 0 0 0 0 0 0 0 0 0 0 0 0 0]\n",
      "[-100    0    0    1    1    1    1    1    1    1    1    1    1    1\n",
      "    1 -100    1    1    1    1    1    1    1    1    1    0 -100 -100\n",
      " -100 -100 -100 -100 -100 -100 -100 -100 -100 -100 -100 -100 -100 -100\n",
      " -100 -100 -100 -100 -100 -100 -100 -100]\n",
      "\n",
      "['[CLS]', 'non', '-', 'constant', 'control', 'laws', 'during', 'the', 'swing', 'phase', 'are', 'as', 'follows', ':', 'the', 'controller', 'enters', 'into', 'the', 'stance', 'preparation', 'when', 'd', 'i', '&', 'lt', ';', 'd', 'i', 'sp', ',', 'where', 'the', 'swing', 'leg', 'enters', 'into', 'a', 'pd', '-', 'control', 'mode', '.', '[SEP]', '[PAD]', '[PAD]', '[PAD]', '[PAD]', '[PAD]', '[PAD]', '[CLS]', 'the', 'g', '##lu', ',', 'h', '##fl', ',', 'and', 'va', '##s', 'work', 'to', 'guide', 'the', 'hip', 'and', 'knee', 'joints', 'toward', 'a', 'desired', 'pose', 'to', 'prepare', 'for', 'ground', 'contact', ':', 'u', 'va', '##s', '=', 'q', 'va', '##s', '+', 'u', 'va', '##s', '[UNK]', 'k', ',', 'u', 'g', '##lu', '=', 'q', 'g', '[SEP]', '[CLS]', 'a', 'single', 'desired', 'hip', 'target', 'angle', '(', '[UNK]', 'h', ')', 'is', 'adjusted', 'according', 'to', 'the', 'sim', '##bic', '##on', 'balance', 'feedback', 'law', '[SEP]', '[PAD]', '[PAD]', '[PAD]', '[PAD]', '[PAD]', '[PAD]', '[PAD]', '[PAD]', '[PAD]', '[PAD]', '[PAD]', '[PAD]', '[PAD]', '[PAD]', '[PAD]', '[PAD]', '[PAD]', '[PAD]', '[PAD]', '[PAD]', '[PAD]', '[PAD]', '[PAD]', '[PAD]', '[PAD]', '[PAD]', '[PAD]', '[CLS]', '[', 'yin', 'et', 'al', '.', '[SEP]', '[PAD]', '[PAD]', '[PAD]', '[PAD]', '[PAD]', '[PAD]', '[PAD]', '[PAD]', '[PAD]', '[PAD]', '[PAD]', '[PAD]', '[PAD]', '[PAD]', '[PAD]', '[PAD]', '[PAD]', '[PAD]', '[PAD]', '[PAD]', '[PAD]', '[PAD]', '[PAD]', '[PAD]', '[PAD]', '[PAD]', '[PAD]', '[PAD]', '[PAD]', '[PAD]', '[PAD]', '[PAD]', '[PAD]', '[PAD]', '[PAD]', '[PAD]', '[PAD]', '[PAD]', '[PAD]', '[PAD]', '[PAD]', '[PAD]', '[PAD]', '[CLS]', '2007', ']', 'and', 'is', 'shared', 'by', 'both', 'the', 'g', '##lu', 'and', 'h', '##fl', '.', '[SEP]', '[PAD]', '[PAD]', '[PAD]', '[PAD]', '[PAD]', '[PAD]', '[PAD]', '[PAD]', '[PAD]', '[PAD]', '[PAD]', '[PAD]', '[PAD]', '[PAD]', '[PAD]', '[PAD]', '[PAD]', '[PAD]', '[PAD]', '[PAD]', '[PAD]', '[PAD]', '[PAD]', '[PAD]', '[PAD]', '[PAD]', '[PAD]', '[PAD]', '[PAD]', '[PAD]', '[PAD]', '[PAD]', '[PAD]', '[PAD]', '[CLS]', 'we', 'found', 'the', 'addition', 'of', 'the', 'stance', 'preparation', 'state', 'to', 'be', 'important', 'for', 'discovering', 'running', 'ga', '##its', '.', '[SEP]', '[PAD]', '[PAD]', '[PAD]', '[PAD]', '[PAD]', '[PAD]', '[PAD]', '[PAD]', '[PAD]', '[PAD]', '[PAD]', '[PAD]', '[PAD]', '[PAD]', '[PAD]', '[PAD]', '[PAD]', '[PAD]', '[PAD]', '[PAD]', '[PAD]', '[PAD]', '[PAD]', '[PAD]', '[PAD]', '[PAD]', '[PAD]', '[PAD]', '[PAD]', '[PAD]', '[CLS]', 'the', 'balance', 'feedback', 'law', 'allows', 'robust', 'control', 'strategies', 'to', 'be', 'found', 'in', 'difficult', 'environments', '(', 'e', '.', 'g', '.', ',', 'being', 'pushed', 'by', 'random', 'forces', ')', '.', '[SEP]', '[PAD]', '[PAD]', '[PAD]', '[PAD]', '[PAD]', '[PAD]', '[PAD]', '[PAD]', '[PAD]', '[PAD]', '[PAD]', '[PAD]', '[PAD]', '[PAD]', '[PAD]', '[PAD]', '[PAD]', '[PAD]', '[PAD]', '[PAD]', '[PAD]', '[CLS]', 'u', 'ta', '=', 'q', 'ta', '+', 'u', 'l', 'ta', ',', 'u', 'ham', '=', 'q', 'ham', '+', 'u', 'ham', 'f', ',', 'u', 'g', '##lu', '=', 'q', 'g', '##lu', '+', 'u', 'f', 'g', '##lu', ',', 'u', 'h', '##fl', '=', 'q', 'h', '##fl', '+', 'u', 'l', 'h', '##fl', 'a', 'u', 'l', '[SEP]']\n",
      "[0 0 0 0 0 0 0 0 0 0 0 0 0 0 0 0 0 0 0 0 0 0 0 0 0 0 0 0 0 0 0 0 0 0 0 0 0\n",
      " 0 0 0 0 0 0 0 0 0 0 0 0 0]\n",
      "[-100    1    1 -100 -100    1    1    1    1    1    1    1 -100 -100\n",
      " -100 -100 -100 -100 -100 -100 -100 -100 -100 -100 -100 -100 -100 -100\n",
      " -100 -100 -100 -100 -100 -100 -100 -100 -100 -100 -100 -100 -100 -100\n",
      " -100 -100 -100 -100 -100 -100 -100 -100]\n",
      "\n",
      "['[CLS]', '<', 'h', '##2', '>', '4', '.', '4', 'out', '-', 'of', '-', 'plane', 'and', 'upper', '##body', 'control', '<', '/', 'h', '##2', '>', '[SEP]', '[PAD]', '[PAD]', '[PAD]', '[PAD]', '[PAD]', '[PAD]', '[PAD]', '[PAD]', '[PAD]', '[PAD]', '[PAD]', '[PAD]', '[PAD]', '[PAD]', '[PAD]', '[PAD]', '[PAD]', '[PAD]', '[PAD]', '[PAD]', '[PAD]', '[PAD]', '[PAD]', '[PAD]', '[PAD]', '[PAD]', '[PAD]', '[CLS]', 'the', 'rest', 'of', 'the', 'do', '##fs', 'are', 'controlled', 'using', 'standard', 'joint', '-', 'space', 'pd', '##con', '##tro', '##ller', '##s', 'with', 'state', '-', 'dependent', 'parameters', '.', '[SEP]', '[PAD]', '[PAD]', '[PAD]', '[PAD]', '[PAD]', '[PAD]', '[PAD]', '[PAD]', '[PAD]', '[PAD]', '[PAD]', '[PAD]', '[PAD]', '[PAD]', '[PAD]', '[PAD]', '[PAD]', '[PAD]', '[PAD]', '[PAD]', '[PAD]', '[PAD]', '[PAD]', '[PAD]', '[CLS]', 'following', 'wang', 'et', 'al', '.', '[SEP]', '[PAD]', '[PAD]', '[PAD]', '[PAD]', '[PAD]', '[PAD]', '[PAD]', '[PAD]', '[PAD]', '[PAD]', '[PAD]', '[PAD]', '[PAD]', '[PAD]', '[PAD]', '[PAD]', '[PAD]', '[PAD]', '[PAD]', '[PAD]', '[PAD]', '[PAD]', '[PAD]', '[PAD]', '[PAD]', '[PAD]', '[PAD]', '[PAD]', '[PAD]', '[PAD]', '[PAD]', '[PAD]', '[PAD]', '[PAD]', '[PAD]', '[PAD]', '[PAD]', '[PAD]', '[PAD]', '[PAD]', '[PAD]', '[PAD]', '[PAD]', '[CLS]', '[', '2010', ']', '[SEP]', '[PAD]', '[PAD]', '[PAD]', '[PAD]', '[PAD]', '[PAD]', '[PAD]', '[PAD]', '[PAD]', '[PAD]', '[PAD]', '[PAD]', '[PAD]', '[PAD]', '[PAD]', '[PAD]', '[PAD]', '[PAD]', '[PAD]', '[PAD]', '[PAD]', '[PAD]', '[PAD]', '[PAD]', '[PAD]', '[PAD]', '[PAD]', '[PAD]', '[PAD]', '[PAD]', '[PAD]', '[PAD]', '[PAD]', '[PAD]', '[PAD]', '[PAD]', '[PAD]', '[PAD]', '[PAD]', '[PAD]', '[PAD]', '[PAD]', '[PAD]', '[PAD]', '[PAD]', '[CLS]', ',', 'the', 'target', 'features', 'for', 'the', 'ankle', 'and', 'hip', 'joints', 'in', 'the', 'corona', '##l', 'plane', 'are', 'the', 'global', 'foot', 'and', 'pe', '##lvis', 'orientation', '##s', ',', 'respectively', '.', '[SEP]', '[PAD]', '[PAD]', '[PAD]', '[PAD]', '[PAD]', '[PAD]', '[PAD]', '[PAD]', '[PAD]', '[PAD]', '[PAD]', '[PAD]', '[PAD]', '[PAD]', '[PAD]', '[PAD]', '[PAD]', '[PAD]', '[PAD]', '[PAD]', '[PAD]', '[CLS]', 'the', 'corona', '##l', 'swing', 'hip', 'target', 'angles', 'follow', 'the', 'same', 'feedback', 'law', 'as', '[UNK]', 'h', '.', '[SEP]', '[PAD]', '[PAD]', '[PAD]', '[PAD]', '[PAD]', '[PAD]', '[PAD]', '[PAD]', '[PAD]', '[PAD]', '[PAD]', '[PAD]', '[PAD]', '[PAD]', '[PAD]', '[PAD]', '[PAD]', '[PAD]', '[PAD]', '[PAD]', '[PAD]', '[PAD]', '[PAD]', '[PAD]', '[PAD]', '[PAD]', '[PAD]', '[PAD]', '[PAD]', '[PAD]', '[PAD]', '[PAD]', '[CLS]', 'additionally', ',', 'we', 'set', 'the', 'toe', 'joint', 'to', 'be', 'a', 'spring', 'with', 'spring', 'constant', 'of', '30', 'nm', '/', 'ra', '##d', ',', 'target', 'angle', '0', ',', 'and', 'no', 'damp', '##ing', '.', '[SEP]', '[PAD]', '[PAD]', '[PAD]', '[PAD]', '[PAD]', '[PAD]', '[PAD]', '[PAD]', '[PAD]', '[PAD]', '[PAD]', '[PAD]', '[PAD]', '[PAD]', '[PAD]', '[PAD]', '[PAD]', '[PAD]', '[CLS]', 'unlike', 'in', 'previous', 'work', ',', 'where', 'a', 'ga', '##it', 'cycle', 'is', 'broken', 'down', 'into', 'four', 'states', ',', 'only', 'two', 'are', 'needed', '(', 'triggered', 'by', 'left', '/', 'right', 'foot', '-', 'strike', ')', 'since', 'do', '##fs', 'with', 'the', 'most', 'complex', 'activities', 'are', 'act', '##uated', 'by', 'muscles', '.', '[SEP]', '[PAD]', '[PAD]', '[PAD]']\n",
      "[0 0 0 0 0 0 0 0 0 0 0 0 0 0 0 0 0 0 0 0 0 0 0 0 0 0 0 0 0 0 0 0 0 0 0 0 0\n",
      " 0 0 0 0 0 0 0 0 0 0 0 0 0]\n",
      "[-100    0    0    0    0    0 -100 -100 -100 -100 -100 -100 -100 -100\n",
      " -100 -100 -100 -100 -100 -100 -100 -100 -100 -100 -100 -100 -100 -100\n",
      " -100 -100 -100 -100 -100 -100 -100 -100 -100 -100 -100 -100 -100 -100\n",
      " -100 -100 -100 -100 -100 -100 -100 -100]\n",
      "\n",
      "['[CLS]', 'our', 'upper', 'body', 'control', 'also', 'largely', 'follows', '[SEP]', '[PAD]', '[PAD]', '[PAD]', '[PAD]', '[PAD]', '[PAD]', '[PAD]', '[PAD]', '[PAD]', '[PAD]', '[PAD]', '[PAD]', '[PAD]', '[PAD]', '[PAD]', '[PAD]', '[PAD]', '[PAD]', '[PAD]', '[PAD]', '[PAD]', '[PAD]', '[PAD]', '[PAD]', '[PAD]', '[PAD]', '[PAD]', '[PAD]', '[PAD]', '[PAD]', '[PAD]', '[PAD]', '[PAD]', '[PAD]', '[PAD]', '[PAD]', '[PAD]', '[PAD]', '[PAD]', '[PAD]', '[PAD]', '[CLS]', 'wang', 'et', 'al', '.', '[SEP]', '[PAD]', '[PAD]', '[PAD]', '[PAD]', '[PAD]', '[PAD]', '[PAD]', '[PAD]', '[PAD]', '[PAD]', '[PAD]', '[PAD]', '[PAD]', '[PAD]', '[PAD]', '[PAD]', '[PAD]', '[PAD]', '[PAD]', '[PAD]', '[PAD]', '[PAD]', '[PAD]', '[PAD]', '[PAD]', '[PAD]', '[PAD]', '[PAD]', '[PAD]', '[PAD]', '[PAD]', '[PAD]', '[PAD]', '[PAD]', '[PAD]', '[PAD]', '[PAD]', '[PAD]', '[PAD]', '[PAD]', '[PAD]', '[PAD]', '[PAD]', '[PAD]', '[CLS]', '[', '2010', ']', '[SEP]', '[PAD]', '[PAD]', '[PAD]', '[PAD]', '[PAD]', '[PAD]', '[PAD]', '[PAD]', '[PAD]', '[PAD]', '[PAD]', '[PAD]', '[PAD]', '[PAD]', '[PAD]', '[PAD]', '[PAD]', '[PAD]', '[PAD]', '[PAD]', '[PAD]', '[PAD]', '[PAD]', '[PAD]', '[PAD]', '[PAD]', '[PAD]', '[PAD]', '[PAD]', '[PAD]', '[PAD]', '[PAD]', '[PAD]', '[PAD]', '[PAD]', '[PAD]', '[PAD]', '[PAD]', '[PAD]', '[PAD]', '[PAD]', '[PAD]', '[PAD]', '[PAD]', '[PAD]', '[CLS]', ',', 'with', 'the', 'exception', 'that', 'the', 'target', 'feature', 'of', 'our', 'back', 'joint', 'in', 'the', 'corona', '##l', 'plane', 'is', 'the', 'global', 'orientation', 'of', 'the', 'torso', 'instead', 'of', 'the', 'local', 'joint', 'angle', 'between', 'the', 'torso', 'and', 'the', 'pe', '##lvis', '.', '[SEP]', '[PAD]', '[PAD]', '[PAD]', '[PAD]', '[PAD]', '[PAD]', '[PAD]', '[PAD]', '[PAD]', '[PAD]', '[CLS]', 'this', 'global', 'target', 'allows', 'our', 'model', 'to', 'better', 'keep', 'the', 'head', 'upright', 'during', 'loco', '##mot', '##ion', '.', '[SEP]', '[PAD]', '[PAD]', '[PAD]', '[PAD]', '[PAD]', '[PAD]', '[PAD]', '[PAD]', '[PAD]', '[PAD]', '[PAD]', '[PAD]', '[PAD]', '[PAD]', '[PAD]', '[PAD]', '[PAD]', '[PAD]', '[PAD]', '[PAD]', '[PAD]', '[PAD]', '[PAD]', '[PAD]', '[PAD]', '[PAD]', '[PAD]', '[PAD]', '[PAD]', '[PAD]', '[PAD]', '[CLS]', 'we', 'fix', 'the', 'spring', 'and', 'damp', '##er', 'constant', '##s', 'for', 'all', 'arm', 'joints', 'to', '30', 'nm', '/', 'ra', '##d', 'and', '3', 'nm', '##s', '/', 'ra', '##d', ',', 'respectively', ',', 'with', 'target', 'angles', 'set', 'to', '0', '.', '[SEP]', '[PAD]', '[PAD]', '[PAD]', '[PAD]', '[PAD]', '[PAD]', '[PAD]', '[PAD]', '[PAD]', '[PAD]', '[PAD]', '[PAD]', '[CLS]', 'we', 'found', 'that', 'more', 'human', '-', 'like', 'arm', 'swing', 'can', 'be', 'generated', 'by', 'relating', 'the', 'elbow', 'and', 'shoulder', 'target', 'angles', 'as', '[UNK]', 's', 'l', '=', 'i', '##±', 'arm', '[UNK]', 'h', 'l', 'a', '[UNK]', 'h', 'r', '+', '[UNK]', 'e', 'd', 'and', 'i', 'l', 's', '=', '[UNK]', 'e', 'd', ',', '[SEP]', '[CLS]', 'this', 'formulation', 'captures', 'the', 'tendency', 'to', 'rotate', 'the', 'shoulder', 'backwards', 'and', 'inward', '##s', 'while', 'bending', 'the', 'elbow', '.', '[SEP]', '[PAD]', '[PAD]', '[PAD]', '[PAD]', '[PAD]', '[PAD]', '[PAD]', '[PAD]', '[PAD]', '[PAD]', '[PAD]', '[PAD]', '[PAD]', '[PAD]', '[PAD]', '[PAD]', '[PAD]', '[PAD]', '[PAD]', '[PAD]', '[PAD]', '[PAD]', '[PAD]', '[PAD]', '[PAD]', '[PAD]', '[PAD]', '[PAD]', '[PAD]', '[PAD]']\n",
      "[0 0 0 0 0 0 0 0 0 0 0 0 0 0 0 0 0 0 0 0 0 0 0 0 0 0 0 0 0 0 0 0 0 0 0 0 0\n",
      " 0 0 0 0 0 0 0 0 0 0 0 0 0]\n",
      "[-100    0    0 -100 -100 -100 -100 -100 -100 -100 -100 -100 -100 -100\n",
      " -100 -100 -100 -100 -100 -100 -100 -100 -100 -100 -100 -100 -100 -100\n",
      " -100 -100 -100 -100 -100 -100 -100 -100 -100 -100 -100 -100 -100 -100\n",
      " -100 -100 -100 -100 -100 -100 -100 -100]\n",
      "\n",
      "['[CLS]', 'the', 'scale', 'constant', 'and', 'the', 'desired', 'elbow', 'angle', 'are', 'among', 'the', 'parameters', 'set', 'by', 'optimization', ',', 'as', 'described', 'in', 'the', 'next', 'section', '.', '[SEP]', '[PAD]', '[PAD]', '[PAD]', '[PAD]', '[PAD]', '[PAD]', '[PAD]', '[PAD]', '[PAD]', '[PAD]', '[PAD]', '[PAD]', '[PAD]', '[PAD]', '[PAD]', '[PAD]', '[PAD]', '[PAD]', '[PAD]', '[PAD]', '[PAD]', '[PAD]', '[PAD]', '[PAD]', '[PAD]', '[CLS]', '<', 'h', '##1', '>', '5', 'optimization', '<', '/', 'h', '##1', '>', '[SEP]', '[PAD]', '[PAD]', '[PAD]', '[PAD]', '[PAD]', '[PAD]', '[PAD]', '[PAD]', '[PAD]', '[PAD]', '[PAD]', '[PAD]', '[PAD]', '[PAD]', '[PAD]', '[PAD]', '[PAD]', '[PAD]', '[PAD]', '[PAD]', '[PAD]', '[PAD]', '[PAD]', '[PAD]', '[PAD]', '[PAD]', '[PAD]', '[PAD]', '[PAD]', '[PAD]', '[PAD]', '[PAD]', '[PAD]', '[PAD]', '[PAD]', '[PAD]', '[PAD]', '[CLS]', 'the', 'control', 'algorithm', 'specified', 'in', 'section', '4', 'has', 'a', 'large', 'number', 'of', 'parameters', ',', 'which', 'we', 'set', 'by', 'optimization', '[SEP]', '[PAD]', '[PAD]', '[PAD]', '[PAD]', '[PAD]', '[PAD]', '[PAD]', '[PAD]', '[PAD]', '[PAD]', '[PAD]', '[PAD]', '[PAD]', '[PAD]', '[PAD]', '[PAD]', '[PAD]', '[PAD]', '[PAD]', '[PAD]', '[PAD]', '[PAD]', '[PAD]', '[PAD]', '[PAD]', '[PAD]', '[PAD]', '[PAD]', '[PAD]', '[CLS]', '[', 'wang', 'et', 'al', '.', '[SEP]', '[PAD]', '[PAD]', '[PAD]', '[PAD]', '[PAD]', '[PAD]', '[PAD]', '[PAD]', '[PAD]', '[PAD]', '[PAD]', '[PAD]', '[PAD]', '[PAD]', '[PAD]', '[PAD]', '[PAD]', '[PAD]', '[PAD]', '[PAD]', '[PAD]', '[PAD]', '[PAD]', '[PAD]', '[PAD]', '[PAD]', '[PAD]', '[PAD]', '[PAD]', '[PAD]', '[PAD]', '[PAD]', '[PAD]', '[PAD]', '[PAD]', '[PAD]', '[PAD]', '[PAD]', '[PAD]', '[PAD]', '[PAD]', '[PAD]', '[PAD]', '[CLS]', '2010', ']', '.', '[SEP]', '[PAD]', '[PAD]', '[PAD]', '[PAD]', '[PAD]', '[PAD]', '[PAD]', '[PAD]', '[PAD]', '[PAD]', '[PAD]', '[PAD]', '[PAD]', '[PAD]', '[PAD]', '[PAD]', '[PAD]', '[PAD]', '[PAD]', '[PAD]', '[PAD]', '[PAD]', '[PAD]', '[PAD]', '[PAD]', '[PAD]', '[PAD]', '[PAD]', '[PAD]', '[PAD]', '[PAD]', '[PAD]', '[PAD]', '[PAD]', '[PAD]', '[PAD]', '[PAD]', '[PAD]', '[PAD]', '[PAD]', '[PAD]', '[PAD]', '[PAD]', '[PAD]', '[PAD]', '[CLS]', 'more', 'specifically', ',', 'each', 'of', 'the', 'u', 'm', 'f', ',', 'u', 'm', 'l', ',', 'and', 'u', 'm', '[UNK]', 'laws', 'have', 'one', ',', 'two', ',', 'and', 'three', 'parameters', ',', 'respectively', '.', '[SEP]', '[PAD]', '[PAD]', '[PAD]', '[PAD]', '[PAD]', '[PAD]', '[PAD]', '[PAD]', '[PAD]', '[PAD]', '[PAD]', '[PAD]', '[PAD]', '[PAD]', '[PAD]', '[PAD]', '[PAD]', '[PAD]', '[CLS]', 'there', 'are', '56', 'parameters', 'in', 'total', '(', '30', 'stance', ',', '26', 'swing', ')', 'for', 'the', 'mt', '##u', 'control', 'laws', '.', '[SEP]', '[PAD]', '[PAD]', '[PAD]', '[PAD]', '[PAD]', '[PAD]', '[PAD]', '[PAD]', '[PAD]', '[PAD]', '[PAD]', '[PAD]', '[PAD]', '[PAD]', '[PAD]', '[PAD]', '[PAD]', '[PAD]', '[PAD]', '[PAD]', '[PAD]', '[PAD]', '[PAD]', '[PAD]', '[PAD]', '[PAD]', '[PAD]', '[PAD]', '[CLS]', 'for', 'the', 'upper', 'body', 'and', 'the', 'non', '-', 'sa', '##git', '##tal', 'do', '##fs', 'in', 'the', 'lower', 'body', ',', 'we', 'opt', '##imi', '##ze', 'the', 'pd', '##con', '##tro', '##l', 'parameters', '(', 'spring', '-', 'damp', '##er', 'constant', '##s', ',', 'target', 'angle', ',', 'balance', 'feedback', ')', 'for', 'all', 'joints', 'except', 'for', 'arms', '[SEP]']\n",
      "[0 0 0 0 0 0 0 0 0 0 0 0 0 0 0 0 0 0 0 0 0 0 0 0 0 0 0 0 0 0 0 0 0 0 0 0 0\n",
      " 0 0 0 0 0 0 0 0 0 0 0 0 0]\n",
      "[-100    0    0    1    1    1    1    1    0 -100 -100 -100 -100 -100\n",
      " -100 -100 -100 -100 -100 -100 -100 -100 -100 -100 -100 -100 -100 -100\n",
      " -100 -100 -100 -100 -100 -100 -100 -100 -100 -100 -100 -100 -100 -100\n",
      " -100 -100 -100 -100 -100 -100 -100 -100]\n",
      "\n",
      "['[CLS]', 'when', 'combined', 'with', '33', 'free', 'parameters', 'describing', 'the', 'initial', 'state', 'of', 'the', 'simulation', ',', '124', 'parameters', '(', 'w', ')', 'fully', 'define', 'a', 'simulated', 'motion', '{', 's', '1', '.', '[SEP]', '[PAD]', '[PAD]', '[PAD]', '[PAD]', '[PAD]', '[PAD]', '[PAD]', '[PAD]', '[PAD]', '[PAD]', '[PAD]', '[PAD]', '[PAD]', '[PAD]', '[PAD]', '[PAD]', '[PAD]', '[PAD]', '[PAD]', '[PAD]', '[CLS]', '.', 's', 't', '}', 'over', 't', 'times', '##te', '##ps', '.', '[SEP]', '[PAD]', '[PAD]', '[PAD]', '[PAD]', '[PAD]', '[PAD]', '[PAD]', '[PAD]', '[PAD]', '[PAD]', '[PAD]', '[PAD]', '[PAD]', '[PAD]', '[PAD]', '[PAD]', '[PAD]', '[PAD]', '[PAD]', '[PAD]', '[PAD]', '[PAD]', '[PAD]', '[PAD]', '[PAD]', '[PAD]', '[PAD]', '[PAD]', '[PAD]', '[PAD]', '[PAD]', '[PAD]', '[PAD]', '[PAD]', '[PAD]', '[PAD]', '[PAD]', '[PAD]', '[CLS]', 'we', 'opt', '##imi', '##ze', 'control', 'parameters', 'and', 'the', 'initial', 'state', 'using', 'co', '##var', '##iance', 'matrix', 'adaptation', '(', 'cm', '##a', ')', '[SEP]', '[PAD]', '[PAD]', '[PAD]', '[PAD]', '[PAD]', '[PAD]', '[PAD]', '[PAD]', '[PAD]', '[PAD]', '[PAD]', '[PAD]', '[PAD]', '[PAD]', '[PAD]', '[PAD]', '[PAD]', '[PAD]', '[PAD]', '[PAD]', '[PAD]', '[PAD]', '[PAD]', '[PAD]', '[PAD]', '[PAD]', '[PAD]', '[PAD]', '[CLS]', '[', 'hansen', '2006', ']', ',', 'with', 'steps', '##ize', 'i', '=', '0', '.', '00', '##5', 'and', '50', 'samples', 'per', 'iteration', '.', '[SEP]', '[PAD]', '[PAD]', '[PAD]', '[PAD]', '[PAD]', '[PAD]', '[PAD]', '[PAD]', '[PAD]', '[PAD]', '[PAD]', '[PAD]', '[PAD]', '[PAD]', '[PAD]', '[PAD]', '[PAD]', '[PAD]', '[PAD]', '[PAD]', '[PAD]', '[PAD]', '[PAD]', '[PAD]', '[PAD]', '[PAD]', '[PAD]', '[PAD]', '[CLS]', 'the', 'optimization', 'aims', 'to', 'maximize', 'the', 'following', 'return', 'function', ':', 't', 'r', '(', 'w', ')', '=', 'r', '(', 's', 't', ')', 'a', 'w', 'e', 'j', 'effort', '.', '[SEP]', '[PAD]', '[PAD]', '[PAD]', '[PAD]', '[PAD]', '[PAD]', '[PAD]', '[PAD]', '[PAD]', '[PAD]', '[PAD]', '[PAD]', '[PAD]', '[PAD]', '[PAD]', '[PAD]', '[PAD]', '[PAD]', '[PAD]', '[PAD]', '[PAD]', '[CLS]', 't', '=', '1', 'here', 'r', 'is', 'a', 'scala', '##r', 'reward', 'function', 'of', 'the', 'current', 'state', 's', 't', ',', 'j', 'effort', 'measures', 'the', 'effort', 'of', 'the', 'synthesized', 'motion', ',', 'and', 'w', 'e', 'is', 'set', 'to', '0', '.', '00', '##4', 'divided', 'by', 'the', 'mass', 'of', 'the', 'model', ',', 'motivated', 'by', '[SEP]', '[CLS]', 'wang', 'et', 'al', '.', '[SEP]', '[PAD]', '[PAD]', '[PAD]', '[PAD]', '[PAD]', '[PAD]', '[PAD]', '[PAD]', '[PAD]', '[PAD]', '[PAD]', '[PAD]', '[PAD]', '[PAD]', '[PAD]', '[PAD]', '[PAD]', '[PAD]', '[PAD]', '[PAD]', '[PAD]', '[PAD]', '[PAD]', '[PAD]', '[PAD]', '[PAD]', '[PAD]', '[PAD]', '[PAD]', '[PAD]', '[PAD]', '[PAD]', '[PAD]', '[PAD]', '[PAD]', '[PAD]', '[PAD]', '[PAD]', '[PAD]', '[PAD]', '[PAD]', '[PAD]', '[PAD]', '[PAD]', '[CLS]', '[', '2010', ']', '.', '[SEP]', '[PAD]', '[PAD]', '[PAD]', '[PAD]', '[PAD]', '[PAD]', '[PAD]', '[PAD]', '[PAD]', '[PAD]', '[PAD]', '[PAD]', '[PAD]', '[PAD]', '[PAD]', '[PAD]', '[PAD]', '[PAD]', '[PAD]', '[PAD]', '[PAD]', '[PAD]', '[PAD]', '[PAD]', '[PAD]', '[PAD]', '[PAD]', '[PAD]', '[PAD]', '[PAD]', '[PAD]', '[PAD]', '[PAD]', '[PAD]', '[PAD]', '[PAD]', '[PAD]', '[PAD]', '[PAD]', '[PAD]', '[PAD]', '[PAD]', '[PAD]', '[PAD]']\n",
      "[0 0 0 0 0 0 0 0 0 0 0 0 0 0 0 0 0 0 0 0 0 0 0 0 0 0 0 0 0 0 0 0 0 0 0 0 0\n",
      " 0 0 0 0 0 0 0 0 0 0 0 0 0]\n",
      "[-100    1    1    1    1 -100 -100 -100    1 -100 -100    1    1    1\n",
      "    1    1    1    1    1    1    1    1    1    1    1    1 -100 -100\n",
      " -100 -100 -100 -100 -100 -100 -100 -100 -100 -100 -100 -100 -100 -100\n",
      " -100 -100 -100 -100 -100 -100 -100 -100]\n",
      "\n"
     ]
    },
    {
     "name": "stderr",
     "output_type": "stream",
     "text": [
      "Iteration: 100%|██████████| 4153/4153 [12:03<00:00,  5.85it/s]\n",
      "Iteration:   0%|          | 1/4153 [00:00<12:30,  5.53it/s]"
     ]
    },
    {
     "name": "stdout",
     "output_type": "stream",
     "text": [
      "['[CLS]', 'g', 'm', 'and', 'h', 'm', 'are', 'free', 'positive', 'parameters', 'and', '{', '}', 'a', '##±', 'means', 'only', 'positive', 'or', 'negative', 'values', '(', '0', 'otherwise', ')', '.', '[SEP]', '[PAD]', '[PAD]', '[PAD]', '[PAD]', '[PAD]', '[PAD]', '[PAD]', '[PAD]', '[PAD]', '[PAD]', '[PAD]', '[PAD]', '[PAD]', '[PAD]', '[PAD]', '[PAD]', '[PAD]', '[PAD]', '[PAD]', '[PAD]', '[PAD]', '[PAD]', '[PAD]', '[CLS]', 'the', 'positive', 'length', 'feedback', 'effectively', 'models', 'a', 'stretch', 'reflex', ',', 'which', 'activate', '##s', 'the', 'muscle', 'when', 'the', 'fiber', 'is', 'stretched', 'beyond', 'a', 'fixed', 'length', '.', '[SEP]', '[PAD]', '[PAD]', '[PAD]', '[PAD]', '[PAD]', '[PAD]', '[PAD]', '[PAD]', '[PAD]', '[PAD]', '[PAD]', '[PAD]', '[PAD]', '[PAD]', '[PAD]', '[PAD]', '[PAD]', '[PAD]', '[PAD]', '[PAD]', '[PAD]', '[PAD]', '[PAD]', '[CLS]', 'u', 'l', 'm', 'is', 'most', 'useful', 'during', 'the', 'swing', 'phase', ',', 'as', 'the', 'ta', 'must', 'be', 'activated', 'to', 'do', '##rs', '##if', '##le', '##x', 'so', 'that', 'toe', '-', 'stu', '##bbing', 'can', 'be', 'avoided', '.', '[SEP]', '[PAD]', '[PAD]', '[PAD]', '[PAD]', '[PAD]', '[PAD]', '[PAD]', '[PAD]', '[PAD]', '[PAD]', '[PAD]', '[PAD]', '[PAD]', '[PAD]', '[PAD]', '[CLS]', 'in', 'addition', ',', 'the', 'h', '##fl', 'relies', 'on', 'length', 'feedback', 'to', 'generate', 'hip', 'flex', '##ion', 'torque', 'during', 'early', 'swing', ',', 'especially', 'during', 'running', '.', '[SEP]', '[PAD]', '[PAD]', '[PAD]', '[PAD]', '[PAD]', '[PAD]', '[PAD]', '[PAD]', '[PAD]', '[PAD]', '[PAD]', '[PAD]', '[PAD]', '[PAD]', '[PAD]', '[PAD]', '[PAD]', '[PAD]', '[PAD]', '[PAD]', '[PAD]', '[PAD]', '[PAD]', '[PAD]', '[CLS]', 'muscle', '-', 'driven', 'pd', 'control', '.', '[SEP]', '[PAD]', '[PAD]', '[PAD]', '[PAD]', '[PAD]', '[PAD]', '[PAD]', '[PAD]', '[PAD]', '[PAD]', '[PAD]', '[PAD]', '[PAD]', '[PAD]', '[PAD]', '[PAD]', '[PAD]', '[PAD]', '[PAD]', '[PAD]', '[PAD]', '[PAD]', '[PAD]', '[PAD]', '[PAD]', '[PAD]', '[PAD]', '[PAD]', '[PAD]', '[PAD]', '[PAD]', '[PAD]', '[PAD]', '[PAD]', '[PAD]', '[PAD]', '[PAD]', '[PAD]', '[PAD]', '[PAD]', '[PAD]', '[PAD]', '[CLS]', 'we', 'also', 'define', 'a', 'muscle', '-', 'driven', 'pd', 'control', 'law', 'with', 'respect', 'to', 'an', 'angular', 'feature', '[UNK]', 'as', 'where', 'k', 'm', ',', 'd', 'm', ',', '[UNK]', 'm', 'are', 'free', 'parameters', 'of', 'the', 'pd', '-', 'controller', '.', '[SEP]', '[PAD]', '[PAD]', '[PAD]', '[PAD]', '[PAD]', '[PAD]', '[PAD]', '[PAD]', '[PAD]', '[PAD]', '[PAD]', '[PAD]', '[CLS]', 'the', 'brace', '##s', 'sign', 'is', 'positive', 'if', 'torque', 'generated', 'by', 'm', 'is', 'in', 'the', 'opposing', 'direction', 'of', '[UNK]', '.', 'g', '.', ',', 'if', 'm', 'is', 'the', 'hip', 'ex', '##tens', '##or', 'and', '[UNK]', 'is', 'the', 'hip', 'flex', '##ion', 'angle', '##aan', '##d', 'negative', 'otherwise', '.', '[SEP]', '[PAD]', '[PAD]', '[PAD]', '[PAD]', '[PAD]', '[CLS]', 'much', 'like', 'the', 'standard', 'torque', '##base', '##d', 'pd', '-', 'controller', ',', 'the', 'muscle', '-', 'driven', 'pd', 'control', 'aims', 'to', 'adjust', '[UNK]', 'towards', 'the', 'target', 'angle', '[UNK]', 'm', 'while', 'damp', '##ing', 'its', 'velocity', '.', '[SEP]', '[PAD]', '[PAD]', '[PAD]', '[PAD]', '[PAD]', '[PAD]', '[PAD]', '[PAD]', '[PAD]', '[PAD]', '[PAD]', '[PAD]', '[PAD]', '[PAD]', '[PAD]']\n",
      "[0 0 0 0 0 0 0 0 0 0 0 0 0 0 0 0 0 0 0 0 0 0 0 0 0 0 0 0 0 0 0 0 0 0 0 0 0\n",
      " 0 0 0 0 0 0 0 0 0 0 0 0 0]\n",
      "[-100    1    1    1 -100    1    1    1    1    1    1    1    1    1\n",
      "    1    1    1    1    1    1 -100 -100    1    1    1    1    0    0\n",
      "    1    1    1    1 -100    1 -100    1    1 -100    1    1    0    0\n",
      "    0    0    0 -100 -100 -100 -100 -100]\n",
      "\n",
      "['[CLS]', 'however', ',', 'unlike', 'the', 'standard', 'pd', '-', 'controller', ',', 'muscles', 'can', 'only', 'activate', 'after', 'a', 'time', '-', 'delay', 'and', 'each', 'muscle', 'can', 'only', 'generate', 'forces', 'to', 'rotate', 'the', 'angular', 'do', '##f', 'in', 'one', 'direction', '.', '[SEP]', '[PAD]', '[PAD]', '[PAD]', '[PAD]', '[PAD]', '[PAD]', '[PAD]', '[PAD]', '[PAD]', '[PAD]', '[PAD]', '[PAD]', '[PAD]', '[CLS]', 'the', 'pd', '-', 'control', 'laws', 'are', 'employed', 'by', 'the', 'hip', 'muscles', 'during', 'the', 'stance', 'phase', 'to', 'maintain', 'the', 'global', 'upper', 'body', 'orientation', ',', 'as', 'well', 'as', 'during', 'stance', 'preparation', 'to', 'prepare', 'for', 'ground', 'contact', '.', '[SEP]', '[PAD]', '[PAD]', '[PAD]', '[PAD]', '[PAD]', '[PAD]', '[PAD]', '[PAD]', '[PAD]', '[PAD]', '[PAD]', '[PAD]', '[PAD]', '[CLS]', 'u', 'm', '[UNK]', '=', 'k', 'm', '(', '[UNK]', '(', 't', 'a', 'at', 'm', ')', 'a', '[UNK]', 'm', ')', '+', 'd', 'm', '[UNK]', '(', 't', 'i', 'a', 'at', 'm', ')', ',', 'a', '##±', '[SEP]', '[PAD]', '[PAD]', '[PAD]', '[PAD]', '[PAD]', '[PAD]', '[PAD]', '[PAD]', '[PAD]', '[PAD]', '[PAD]', '[PAD]', '[PAD]', '[PAD]', '[PAD]', '[PAD]', '[CLS]', '<', 'h', '##2', '>', '4', '.', '2', 'stance', 'phase', '<', '/', 'h', '##2', '>', '[SEP]', '[PAD]', '[PAD]', '[PAD]', '[PAD]', '[PAD]', '[PAD]', '[PAD]', '[PAD]', '[PAD]', '[PAD]', '[PAD]', '[PAD]', '[PAD]', '[PAD]', '[PAD]', '[PAD]', '[PAD]', '[PAD]', '[PAD]', '[PAD]', '[PAD]', '[PAD]', '[PAD]', '[PAD]', '[PAD]', '[PAD]', '[PAD]', '[PAD]', '[PAD]', '[PAD]', '[PAD]', '[PAD]', '[PAD]', '[PAD]', '[CLS]', 'each', 'muscle', 'has', 'an', 'initial', 'constant', 'ex', '##cit', '##ation', ',', 'or', 'pre', '-', 'stimulation', 'value', 'p', 'm', '.', '[SEP]', '[PAD]', '[PAD]', '[PAD]', '[PAD]', '[PAD]', '[PAD]', '[PAD]', '[PAD]', '[PAD]', '[PAD]', '[PAD]', '[PAD]', '[PAD]', '[PAD]', '[PAD]', '[PAD]', '[PAD]', '[PAD]', '[PAD]', '[PAD]', '[PAD]', '[PAD]', '[PAD]', '[PAD]', '[PAD]', '[PAD]', '[PAD]', '[PAD]', '[PAD]', '[PAD]', '[CLS]', 'these', 'values', 'are', 'initial', '##ized', 'close', 'to', 'zero', ',', 'but', 'are', 'then', 'opt', '##imi', '##zed', '.', '[SEP]', '[PAD]', '[PAD]', '[PAD]', '[PAD]', '[PAD]', '[PAD]', '[PAD]', '[PAD]', '[PAD]', '[PAD]', '[PAD]', '[PAD]', '[PAD]', '[PAD]', '[PAD]', '[PAD]', '[PAD]', '[PAD]', '[PAD]', '[PAD]', '[PAD]', '[PAD]', '[PAD]', '[PAD]', '[PAD]', '[PAD]', '[PAD]', '[PAD]', '[PAD]', '[PAD]', '[PAD]', '[PAD]', '[CLS]', 'the', 'sol', 'and', 'gas', 'both', 'rely', 'on', 'positive', 'force', 'feedback', 'and', 'are', 'the', 'main', 'sources', 'of', 'torque', 'during', 'walking', '.', '[SEP]', '[PAD]', '[PAD]', '[PAD]', '[PAD]', '[PAD]', '[PAD]', '[PAD]', '[PAD]', '[PAD]', '[PAD]', '[PAD]', '[PAD]', '[PAD]', '[PAD]', '[PAD]', '[PAD]', '[PAD]', '[PAD]', '[PAD]', '[PAD]', '[PAD]', '[PAD]', '[PAD]', '[PAD]', '[PAD]', '[PAD]', '[PAD]', '[PAD]', '[CLS]', 'the', 'ta', 'ensures', 'foot', 'clearance', 'during', 'swing', 'using', 'a', 'length', 'feedback', '(', 'u', 'l', 'ta', ')', ',', 'but', 'the', 'activation', 'is', 'suppressed', 'during', 'stance', 'in', 'proportion', 'to', 'the', 'current', 'force', 'generated', 'from', 'sol', '.', '[SEP]', '[PAD]', '[PAD]', '[PAD]', '[PAD]', '[PAD]', '[PAD]', '[PAD]', '[PAD]', '[PAD]', '[PAD]', '[PAD]', '[PAD]', '[PAD]', '[PAD]']\n",
      "[0 0 0 0 0 0 0 0 0 0 0 0 0 0 0 0 0 0 0 0 0 0 0 0 0 0 0 0 0 0 0 0 0 0 0 0 0\n",
      " 0 0 0 0 0 0 0 0 0 0 0 0 0]\n",
      "[-100    1    1    1    1    1    1    1    1    1    1    1    1    1\n",
      "    1    1    0 -100 -100 -100 -100 -100 -100 -100 -100 -100 -100 -100\n",
      " -100 -100 -100 -100 -100 -100 -100 -100 -100 -100 -100 -100 -100 -100\n",
      " -100 -100 -100 -100 -100 -100 -100 -100]\n",
      "\n",
      "['[CLS]', 'the', 'suppression', 'allows', 'the', 'generated', 'ta', 'activation', 'patterns', 'to', 'better', 'match', 'human', 'data', 'during', 'loco', '##mot', '##ion', '.', '[SEP]', '[PAD]', '[PAD]', '[PAD]', '[PAD]', '[PAD]', '[PAD]', '[PAD]', '[PAD]', '[PAD]', '[PAD]', '[PAD]', '[PAD]', '[PAD]', '[PAD]', '[PAD]', '[PAD]', '[PAD]', '[PAD]', '[PAD]', '[PAD]', '[PAD]', '[PAD]', '[PAD]', '[PAD]', '[PAD]', '[PAD]', '[PAD]', '[PAD]', '[PAD]', '[PAD]', '[CLS]', 'the', 'force', 'feedback', 'on', 'the', 'va', '##s', 'creates', 'a', 'strong', 'knee', 'extension', 'torque', 'following', 'ground', 'contact', ',', 'but', 'ex', '##cit', '##ation', 'is', 'suppressed', 'when', 'the', 'knee', 'flex', '##ion', 'angle', '(', '[UNK]', 'k', ')', 'is', 'extended', 'below', 'an', 'offset', '(', '[UNK]', 'k', 'off', ')', 'with', 'an', 'extension', 'velocity', '(', '[SEP]', '[CLS]', 'the', 'suppression', 'prevents', 'hyper', '##ex', '##tension', 'of', 'the', 'knee', 'during', 'mid', '-', 'stance', '.', '[SEP]', '[PAD]', '[PAD]', '[PAD]', '[PAD]', '[PAD]', '[PAD]', '[PAD]', '[PAD]', '[PAD]', '[PAD]', '[PAD]', '[PAD]', '[PAD]', '[PAD]', '[PAD]', '[PAD]', '[PAD]', '[PAD]', '[PAD]', '[PAD]', '[PAD]', '[PAD]', '[PAD]', '[PAD]', '[PAD]', '[PAD]', '[PAD]', '[PAD]', '[PAD]', '[PAD]', '[PAD]', '[PAD]', '[PAD]', '[PAD]', '[CLS]', 'using', 'muscle', '-', 'driven', 'pd', 'control', 'laws', ',', 'the', 'ham', ',', 'g', '##lu', ',', 'and', 'h', '##fl', 'are', 'responsible', 'for', 'maintaining', 'the', 'global', 'orientation', 'of', 'the', 'upper', 'body', '(', 'i', ')', ',', 'defined', 'as', 'the', 'vector', 'between', 'the', 'com', 'of', 'the', 'upper', 'body', 'and', 'the', 'com', 'of', 'the', '[SEP]', '[CLS]', 'during', 'double', 'stance', ',', 'these', 'control', 'laws', 'are', 'only', 'active', 'for', 'the', 'leading', 'leg', ',', 'denoted', 'as', 'u', 'i', 'm', 'lead', '.', '[SEP]', '[PAD]', '[PAD]', '[PAD]', '[PAD]', '[PAD]', '[PAD]', '[PAD]', '[PAD]', '[PAD]', '[PAD]', '[PAD]', '[PAD]', '[PAD]', '[PAD]', '[PAD]', '[PAD]', '[PAD]', '[PAD]', '[PAD]', '[PAD]', '[PAD]', '[PAD]', '[PAD]', '[PAD]', '[PAD]', '[PAD]', '[CLS]', 'specifically', ',', 'control', 'laws', 'during', 'the', 'stance', 'phase', 'are', 'as', 'follows', ':', 'towards', 'the', 'end', 'of', 'the', 'stance', 'phase', ',', 'the', 'controller', 'enters', 'into', 'the', 'swing', 'initiation', ',', 'which', 'begins', 'when', 'either', 'the', 'signed', 'horizontal', 'distance', 'between', 'the', 'com', 'and', 'the', 'ankle', 'normal', '##ized', 'by', 'leg', 'length', 'exceeds', '[SEP]', '[CLS]', 'during', 'swing', 'initiation', ',', 'constant', 'ex', '##cit', '##ation', 'values', 'between', '0', 'and', '1', '(', 'set', 'during', 'optimization', ')', 'are', 'added', 'and', 'sub', '##tracted', 'to', 'the', 'va', '##s', ',', 'rf', ',', 'g', '##lu', ',', 'and', 'h', '##fl', ':', 'the', 'combination', 'of', 'h', '##fl', 'and', 'g', '##lu', 'ex', '##cit', '##ations', '[SEP]', '[CLS]', 'two', 'main', 'differences', 'between', 'our', 'stance', 'phase', 'control', 'laws', 'compared', 'to', '[SEP]', '[PAD]', '[PAD]', '[PAD]', '[PAD]', '[PAD]', '[PAD]', '[PAD]', '[PAD]', '[PAD]', '[PAD]', '[PAD]', '[PAD]', '[PAD]', '[PAD]', '[PAD]', '[PAD]', '[PAD]', '[PAD]', '[PAD]', '[PAD]', '[PAD]', '[PAD]', '[PAD]', '[PAD]', '[PAD]', '[PAD]', '[PAD]', '[PAD]', '[PAD]', '[PAD]', '[PAD]', '[PAD]', '[PAD]', '[PAD]', '[PAD]', '[PAD]', '[PAD]']\n",
      "[0 0 0 0 0 0 0 0 0 0 0 0 0 0 0 0 0 0 0 0 0 0 0 0 0 0 0 0 0 0 0 0 0 0 0 0 0\n",
      " 0 0 0 0 0 0 0 0 0 0 0 0 0]\n",
      "[-100    0    0    0    1    1    1    1    1    1    1    1    1    1\n",
      "    1    1    1    1    0 -100 -100 -100 -100 -100 -100 -100 -100 -100\n",
      " -100 -100 -100 -100 -100 -100 -100 -100 -100 -100 -100 -100 -100 -100\n",
      " -100 -100 -100 -100 -100 -100 -100 -100]\n",
      "\n",
      "['[CLS]', 'ge', '##yer', 'and', 'herr', '[', '2010', ']', '[SEP]', '[PAD]', '[PAD]', '[PAD]', '[PAD]', '[PAD]', '[PAD]', '[PAD]', '[PAD]', '[PAD]', '[PAD]', '[PAD]', '[PAD]', '[PAD]', '[PAD]', '[PAD]', '[PAD]', '[PAD]', '[PAD]', '[PAD]', '[PAD]', '[PAD]', '[PAD]', '[PAD]', '[PAD]', '[PAD]', '[PAD]', '[PAD]', '[PAD]', '[PAD]', '[PAD]', '[PAD]', '[PAD]', '[PAD]', '[PAD]', '[PAD]', '[PAD]', '[PAD]', '[PAD]', '[PAD]', '[PAD]', '[PAD]', '[CLS]', 'lie', 'in', 'how', 'the', 'swing', 'initiation', 'state', 'functions', '.', '[SEP]', '[PAD]', '[PAD]', '[PAD]', '[PAD]', '[PAD]', '[PAD]', '[PAD]', '[PAD]', '[PAD]', '[PAD]', '[PAD]', '[PAD]', '[PAD]', '[PAD]', '[PAD]', '[PAD]', '[PAD]', '[PAD]', '[PAD]', '[PAD]', '[PAD]', '[PAD]', '[PAD]', '[PAD]', '[PAD]', '[PAD]', '[PAD]', '[PAD]', '[PAD]', '[PAD]', '[PAD]', '[PAD]', '[PAD]', '[PAD]', '[PAD]', '[PAD]', '[PAD]', '[PAD]', '[PAD]', '[CLS]', 'first', ',', 'for', 'running', 'we', 'found', 'it', 'necessary', 'to', 'enter', 'into', 'swing', 'initiation', 'using', 'the', 'd', 'i', '&', 'gt', ';', 'd', 'i', 'si', 'condition', ',', 'rather', 'than', 'just', 'wait', 'for', 'double', 'stance', '.', '[SEP]', '[PAD]', '[PAD]', '[PAD]', '[PAD]', '[PAD]', '[PAD]', '[PAD]', '[PAD]', '[PAD]', '[PAD]', '[PAD]', '[PAD]', '[PAD]', '[PAD]', '[PAD]', '[CLS]', 'second', ',', 'we', 'found', 'it', 'unnecessary', 'to', 'mod', '##ulate', 'the', 'muscle', '-', 'driven', 'pd', '-', 'control', 'laws', 'in', 'the', 'hip', 'by', 'ground', 'reaction', 'forces', '.', '[SEP]', '[PAD]', '[PAD]', '[PAD]', '[PAD]', '[PAD]', '[PAD]', '[PAD]', '[PAD]', '[PAD]', '[PAD]', '[PAD]', '[PAD]', '[PAD]', '[PAD]', '[PAD]', '[PAD]', '[PAD]', '[PAD]', '[PAD]', '[PAD]', '[PAD]', '[PAD]', '[PAD]', '[CLS]', 'instead', ',', 'the', 'responsibility', 'to', 'maintain', 'upper', 'body', 'orientation', 'is', 'always', 'assigned', 'to', 'the', 'lead', 'leg', '.', '[SEP]', '[PAD]', '[PAD]', '[PAD]', '[PAD]', '[PAD]', '[PAD]', '[PAD]', '[PAD]', '[PAD]', '[PAD]', '[PAD]', '[PAD]', '[PAD]', '[PAD]', '[PAD]', '[PAD]', '[PAD]', '[PAD]', '[PAD]', '[PAD]', '[PAD]', '[PAD]', '[PAD]', '[PAD]', '[PAD]', '[PAD]', '[PAD]', '[PAD]', '[PAD]', '[PAD]', '[PAD]', '[CLS]', 'u', 'sol', '=', 'p', 'sol', '+', 'u', 'sol', 'f', ',', 'u', 'ta', '=', 'p', 'ta', '+', 'u', 'ta', 'l', 'a', 'u', 'f', 'sol', ',', 'u', 'gas', '=', 'p', 'gas', '+', 'u', 'gas', 'f', ',', 'u', 'va', '##s', '=', 'p', 'va', '##s', '+', 'u', 'f', 'va', '##s', '+', 'k', '[SEP]', '[CLS]', 'u', 'va', '##s', '=', 'u', 'va', '##s', 'a', 's', 'va', '##s', ',', 'u', 'rf', '=', 'u', 'rf', '+', 's', 'rf', ',', 'u', 'g', '##lu', '=', 'u', 'g', '##lu', 'a', 's', 'g', '##lu', ',', 'u', 'h', '##fl', '=', 'u', 'h', '##fl', '+', 's', 'h', '##fl', '.', '[SEP]', '[PAD]', '[PAD]', '[PAD]', '[CLS]', '<', 'h', '##2', '>', '4', '.', '3', 'swing', 'phase', '<', '/', 'h', '##2', '>', '[SEP]', '[PAD]', '[PAD]', '[PAD]', '[PAD]', '[PAD]', '[PAD]', '[PAD]', '[PAD]', '[PAD]', '[PAD]', '[PAD]', '[PAD]', '[PAD]', '[PAD]', '[PAD]', '[PAD]', '[PAD]', '[PAD]', '[PAD]', '[PAD]', '[PAD]', '[PAD]', '[PAD]', '[PAD]', '[PAD]', '[PAD]', '[PAD]', '[PAD]', '[PAD]', '[PAD]', '[PAD]', '[PAD]', '[PAD]', '[PAD]']\n",
      "[0 0 0 0 0 0 0 0 0 0 0 0 0 0 0 0 0 0 0 0 0 0 0 0 0 0 0 0 0 0 0 0 0 0 0 0 0\n",
      " 0 0 0 0 0 0 0 0 0 0 0 0 0]\n",
      "[-100    1    1    1    1    1    1    1    1    1    1 -100    0    0\n",
      "    0    0 -100 -100    0    0 -100 -100 -100 -100 -100 -100 -100 -100\n",
      " -100 -100 -100 -100 -100 -100 -100 -100 -100 -100 -100 -100 -100 -100\n",
      " -100 -100 -100 -100 -100 -100 -100 -100]\n",
      "\n",
      "['[CLS]', 'much', 'like', 'in', 'the', 'stance', 'phase', ',', 'each', 'muscle', 'has', 'an', 'initial', 'constant', 'ex', '##cit', '##ation', 'value', '(', 'q', 'm', ')', '.', '[SEP]', '[PAD]', '[PAD]', '[PAD]', '[PAD]', '[PAD]', '[PAD]', '[PAD]', '[PAD]', '[PAD]', '[PAD]', '[PAD]', '[PAD]', '[PAD]', '[PAD]', '[PAD]', '[PAD]', '[PAD]', '[PAD]', '[PAD]', '[PAD]', '[PAD]', '[PAD]', '[PAD]', '[PAD]', '[PAD]', '[PAD]', '[CLS]', 'the', 'leg', 'motion', 'relies', 'significantly', 'on', 'passive', 'dynamics', 'during', 'the', 'swing', 'phase', '[SEP]', '[PAD]', '[PAD]', '[PAD]', '[PAD]', '[PAD]', '[PAD]', '[PAD]', '[PAD]', '[PAD]', '[PAD]', '[PAD]', '[PAD]', '[PAD]', '[PAD]', '[PAD]', '[PAD]', '[PAD]', '[PAD]', '[PAD]', '[PAD]', '[PAD]', '[PAD]', '[PAD]', '[PAD]', '[PAD]', '[PAD]', '[PAD]', '[PAD]', '[PAD]', '[PAD]', '[PAD]', '[PAD]', '[PAD]', '[PAD]', '[PAD]', '[PAD]', '[CLS]', '[', 'collins', 'et', 'al', '.', '[SEP]', '[PAD]', '[PAD]', '[PAD]', '[PAD]', '[PAD]', '[PAD]', '[PAD]', '[PAD]', '[PAD]', '[PAD]', '[PAD]', '[PAD]', '[PAD]', '[PAD]', '[PAD]', '[PAD]', '[PAD]', '[PAD]', '[PAD]', '[PAD]', '[PAD]', '[PAD]', '[PAD]', '[PAD]', '[PAD]', '[PAD]', '[PAD]', '[PAD]', '[PAD]', '[PAD]', '[PAD]', '[PAD]', '[PAD]', '[PAD]', '[PAD]', '[PAD]', '[PAD]', '[PAD]', '[PAD]', '[PAD]', '[PAD]', '[PAD]', '[PAD]', '[CLS]', '2005', ']', ',', 'as', 'most', 'muscles', 'are', 'only', 'excited', 'at', 'low', 'levels', '.', '[SEP]', '[PAD]', '[PAD]', '[PAD]', '[PAD]', '[PAD]', '[PAD]', '[PAD]', '[PAD]', '[PAD]', '[PAD]', '[PAD]', '[PAD]', '[PAD]', '[PAD]', '[PAD]', '[PAD]', '[PAD]', '[PAD]', '[PAD]', '[PAD]', '[PAD]', '[PAD]', '[PAD]', '[PAD]', '[PAD]', '[PAD]', '[PAD]', '[PAD]', '[PAD]', '[PAD]', '[PAD]', '[PAD]', '[PAD]', '[PAD]', '[PAD]', '[CLS]', 'the', 'main', 'exceptions', 'are', 'the', 'ta', ',', 'which', 'maintains', 'the', 'length', 'feedback', '(', 'u', 'l', 'ta', ')', 'to', 'avoid', 'toes', '##tub', '##bing', ',', 'and', 'the', 'ham', ',', 'which', 'is', 'activated', 'at', 'late', 'swing', 'phase', 'to', 'prevent', 'the', 'knee', 'from', 'being', 'over', '##ex', '##ten', '##ded', 'before', 'landing', '.', '[SEP]', '[PAD]', '[CLS]', 'the', 'h', '##fl', 'introduces', 'a', 'hip', 'flex', '##ion', 'torque', 'through', 'a', 'length', 'feedback', ',', 'which', 'is', 'suppressed', 'when', 'the', 'ham', 'is', 'stretched', 'in', 'during', 'late', 'swing', '.', '[SEP]', '[PAD]', '[PAD]', '[PAD]', '[PAD]', '[PAD]', '[PAD]', '[PAD]', '[PAD]', '[PAD]', '[PAD]', '[PAD]', '[PAD]', '[PAD]', '[PAD]', '[PAD]', '[PAD]', '[PAD]', '[PAD]', '[PAD]', '[PAD]', '[PAD]', '[CLS]', 'the', 'amount', 'of', 'ex', '##cit', '##ation', 'in', 'the', 'h', '##fl', 'also', 'depends', 'on', 'the', 'value', 'of', 'upper', 'body', 'lean', 'at', 'the', 'beginning', 'of', 'the', 'swing', 'phase', '(', 'i', 'lt', '##o', ')', ':', 'the', 'further', 'the', 'upper', 'body', 'leans', 'forward', 'compared', 'to', 'the', 'reference', 'lean', 'angle', '(', 'i', 'd', '[SEP]', '[CLS]', 'note', 'that', 'i', 'd', 'is', 'the', 'same', 'as', 'the', 'target', 'angle', 'in', 'u', 'i', 'h', '##fl', '.', '[SEP]', '[PAD]', '[PAD]', '[PAD]', '[PAD]', '[PAD]', '[PAD]', '[PAD]', '[PAD]', '[PAD]', '[PAD]', '[PAD]', '[PAD]', '[PAD]', '[PAD]', '[PAD]', '[PAD]', '[PAD]', '[PAD]', '[PAD]', '[PAD]', '[PAD]', '[PAD]', '[PAD]', '[PAD]', '[PAD]', '[PAD]', '[PAD]', '[PAD]', '[PAD]', '[PAD]', '[PAD]']\n",
      "[0 0 0 0 0 0 0 0 0 0 0 0 0 0 0 0 0 0 0 0 0 0 0 0 0 0 0 0 0 0 0 0 0 0 0 0 0\n",
      " 0 0 0 0 0 0 0 0 0 0 0 0 0]\n",
      "[-100    0    0    1    1    1    1    1    1    1    1    1    1    1\n",
      "    1 -100    1    1    1    1    1    1    1    1    1    0 -100 -100\n",
      " -100 -100 -100 -100 -100 -100 -100 -100 -100 -100 -100 -100 -100 -100\n",
      " -100 -100 -100 -100 -100 -100 -100 -100]\n",
      "\n",
      "['[CLS]', 'non', '-', 'constant', 'control', 'laws', 'during', 'the', 'swing', 'phase', 'are', 'as', 'follows', ':', 'the', 'controller', 'enters', 'into', 'the', 'stance', 'preparation', 'when', 'd', 'i', '&', 'lt', ';', 'd', 'i', 'sp', ',', 'where', 'the', 'swing', 'leg', 'enters', 'into', 'a', 'pd', '-', 'control', 'mode', '.', '[SEP]', '[PAD]', '[PAD]', '[PAD]', '[PAD]', '[PAD]', '[PAD]', '[CLS]', 'the', 'g', '##lu', ',', 'h', '##fl', ',', 'and', 'va', '##s', 'work', 'to', 'guide', 'the', 'hip', 'and', 'knee', 'joints', 'toward', 'a', 'desired', 'pose', 'to', 'prepare', 'for', 'ground', 'contact', ':', 'u', 'va', '##s', '=', 'q', 'va', '##s', '+', 'u', 'va', '##s', '[UNK]', 'k', ',', 'u', 'g', '##lu', '=', 'q', 'g', '[SEP]', '[CLS]', 'a', 'single', 'desired', 'hip', 'target', 'angle', '(', '[UNK]', 'h', ')', 'is', 'adjusted', 'according', 'to', 'the', 'sim', '##bic', '##on', 'balance', 'feedback', 'law', '[SEP]', '[PAD]', '[PAD]', '[PAD]', '[PAD]', '[PAD]', '[PAD]', '[PAD]', '[PAD]', '[PAD]', '[PAD]', '[PAD]', '[PAD]', '[PAD]', '[PAD]', '[PAD]', '[PAD]', '[PAD]', '[PAD]', '[PAD]', '[PAD]', '[PAD]', '[PAD]', '[PAD]', '[PAD]', '[PAD]', '[PAD]', '[PAD]', '[CLS]', '[', 'yin', 'et', 'al', '.', '[SEP]', '[PAD]', '[PAD]', '[PAD]', '[PAD]', '[PAD]', '[PAD]', '[PAD]', '[PAD]', '[PAD]', '[PAD]', '[PAD]', '[PAD]', '[PAD]', '[PAD]', '[PAD]', '[PAD]', '[PAD]', '[PAD]', '[PAD]', '[PAD]', '[PAD]', '[PAD]', '[PAD]', '[PAD]', '[PAD]', '[PAD]', '[PAD]', '[PAD]', '[PAD]', '[PAD]', '[PAD]', '[PAD]', '[PAD]', '[PAD]', '[PAD]', '[PAD]', '[PAD]', '[PAD]', '[PAD]', '[PAD]', '[PAD]', '[PAD]', '[PAD]', '[CLS]', '2007', ']', 'and', 'is', 'shared', 'by', 'both', 'the', 'g', '##lu', 'and', 'h', '##fl', '.', '[SEP]', '[PAD]', '[PAD]', '[PAD]', '[PAD]', '[PAD]', '[PAD]', '[PAD]', '[PAD]', '[PAD]', '[PAD]', '[PAD]', '[PAD]', '[PAD]', '[PAD]', '[PAD]', '[PAD]', '[PAD]', '[PAD]', '[PAD]', '[PAD]', '[PAD]', '[PAD]', '[PAD]', '[PAD]', '[PAD]', '[PAD]', '[PAD]', '[PAD]', '[PAD]', '[PAD]', '[PAD]', '[PAD]', '[PAD]', '[PAD]', '[CLS]', 'we', 'found', 'the', 'addition', 'of', 'the', 'stance', 'preparation', 'state', 'to', 'be', 'important', 'for', 'discovering', 'running', 'ga', '##its', '.', '[SEP]', '[PAD]', '[PAD]', '[PAD]', '[PAD]', '[PAD]', '[PAD]', '[PAD]', '[PAD]', '[PAD]', '[PAD]', '[PAD]', '[PAD]', '[PAD]', '[PAD]', '[PAD]', '[PAD]', '[PAD]', '[PAD]', '[PAD]', '[PAD]', '[PAD]', '[PAD]', '[PAD]', '[PAD]', '[PAD]', '[PAD]', '[PAD]', '[PAD]', '[PAD]', '[PAD]', '[CLS]', 'the', 'balance', 'feedback', 'law', 'allows', 'robust', 'control', 'strategies', 'to', 'be', 'found', 'in', 'difficult', 'environments', '(', 'e', '.', 'g', '.', ',', 'being', 'pushed', 'by', 'random', 'forces', ')', '.', '[SEP]', '[PAD]', '[PAD]', '[PAD]', '[PAD]', '[PAD]', '[PAD]', '[PAD]', '[PAD]', '[PAD]', '[PAD]', '[PAD]', '[PAD]', '[PAD]', '[PAD]', '[PAD]', '[PAD]', '[PAD]', '[PAD]', '[PAD]', '[PAD]', '[PAD]', '[CLS]', 'u', 'ta', '=', 'q', 'ta', '+', 'u', 'l', 'ta', ',', 'u', 'ham', '=', 'q', 'ham', '+', 'u', 'ham', 'f', ',', 'u', 'g', '##lu', '=', 'q', 'g', '##lu', '+', 'u', 'f', 'g', '##lu', ',', 'u', 'h', '##fl', '=', 'q', 'h', '##fl', '+', 'u', 'l', 'h', '##fl', 'a', 'u', 'l', '[SEP]']\n",
      "[0 0 0 0 0 0 0 0 0 0 0 0 0 0 0 0 0 0 0 0 0 0 0 0 0 0 0 0 0 0 0 0 0 0 0 0 0\n",
      " 0 0 0 0 0 0 0 0 0 0 0 0 0]\n",
      "[-100    1    1 -100 -100    1    1    1    1    1    1    1 -100 -100\n",
      " -100 -100 -100 -100 -100 -100 -100 -100 -100 -100 -100 -100 -100 -100\n",
      " -100 -100 -100 -100 -100 -100 -100 -100 -100 -100 -100 -100 -100 -100\n",
      " -100 -100 -100 -100 -100 -100 -100 -100]\n",
      "\n",
      "['[CLS]', '<', 'h', '##2', '>', '4', '.', '4', 'out', '-', 'of', '-', 'plane', 'and', 'upper', '##body', 'control', '<', '/', 'h', '##2', '>', '[SEP]', '[PAD]', '[PAD]', '[PAD]', '[PAD]', '[PAD]', '[PAD]', '[PAD]', '[PAD]', '[PAD]', '[PAD]', '[PAD]', '[PAD]', '[PAD]', '[PAD]', '[PAD]', '[PAD]', '[PAD]', '[PAD]', '[PAD]', '[PAD]', '[PAD]', '[PAD]', '[PAD]', '[PAD]', '[PAD]', '[PAD]', '[PAD]', '[CLS]', 'the', 'rest', 'of', 'the', 'do', '##fs', 'are', 'controlled', 'using', 'standard', 'joint', '-', 'space', 'pd', '##con', '##tro', '##ller', '##s', 'with', 'state', '-', 'dependent', 'parameters', '.', '[SEP]', '[PAD]', '[PAD]', '[PAD]', '[PAD]', '[PAD]', '[PAD]', '[PAD]', '[PAD]', '[PAD]', '[PAD]', '[PAD]', '[PAD]', '[PAD]', '[PAD]', '[PAD]', '[PAD]', '[PAD]', '[PAD]', '[PAD]', '[PAD]', '[PAD]', '[PAD]', '[PAD]', '[PAD]', '[CLS]', 'following', 'wang', 'et', 'al', '.', '[SEP]', '[PAD]', '[PAD]', '[PAD]', '[PAD]', '[PAD]', '[PAD]', '[PAD]', '[PAD]', '[PAD]', '[PAD]', '[PAD]', '[PAD]', '[PAD]', '[PAD]', '[PAD]', '[PAD]', '[PAD]', '[PAD]', '[PAD]', '[PAD]', '[PAD]', '[PAD]', '[PAD]', '[PAD]', '[PAD]', '[PAD]', '[PAD]', '[PAD]', '[PAD]', '[PAD]', '[PAD]', '[PAD]', '[PAD]', '[PAD]', '[PAD]', '[PAD]', '[PAD]', '[PAD]', '[PAD]', '[PAD]', '[PAD]', '[PAD]', '[PAD]', '[CLS]', '[', '2010', ']', '[SEP]', '[PAD]', '[PAD]', '[PAD]', '[PAD]', '[PAD]', '[PAD]', '[PAD]', '[PAD]', '[PAD]', '[PAD]', '[PAD]', '[PAD]', '[PAD]', '[PAD]', '[PAD]', '[PAD]', '[PAD]', '[PAD]', '[PAD]', '[PAD]', '[PAD]', '[PAD]', '[PAD]', '[PAD]', '[PAD]', '[PAD]', '[PAD]', '[PAD]', '[PAD]', '[PAD]', '[PAD]', '[PAD]', '[PAD]', '[PAD]', '[PAD]', '[PAD]', '[PAD]', '[PAD]', '[PAD]', '[PAD]', '[PAD]', '[PAD]', '[PAD]', '[PAD]', '[PAD]', '[CLS]', ',', 'the', 'target', 'features', 'for', 'the', 'ankle', 'and', 'hip', 'joints', 'in', 'the', 'corona', '##l', 'plane', 'are', 'the', 'global', 'foot', 'and', 'pe', '##lvis', 'orientation', '##s', ',', 'respectively', '.', '[SEP]', '[PAD]', '[PAD]', '[PAD]', '[PAD]', '[PAD]', '[PAD]', '[PAD]', '[PAD]', '[PAD]', '[PAD]', '[PAD]', '[PAD]', '[PAD]', '[PAD]', '[PAD]', '[PAD]', '[PAD]', '[PAD]', '[PAD]', '[PAD]', '[PAD]', '[CLS]', 'the', 'corona', '##l', 'swing', 'hip', 'target', 'angles', 'follow', 'the', 'same', 'feedback', 'law', 'as', '[UNK]', 'h', '.', '[SEP]', '[PAD]', '[PAD]', '[PAD]', '[PAD]', '[PAD]', '[PAD]', '[PAD]', '[PAD]', '[PAD]', '[PAD]', '[PAD]', '[PAD]', '[PAD]', '[PAD]', '[PAD]', '[PAD]', '[PAD]', '[PAD]', '[PAD]', '[PAD]', '[PAD]', '[PAD]', '[PAD]', '[PAD]', '[PAD]', '[PAD]', '[PAD]', '[PAD]', '[PAD]', '[PAD]', '[PAD]', '[PAD]', '[CLS]', 'additionally', ',', 'we', 'set', 'the', 'toe', 'joint', 'to', 'be', 'a', 'spring', 'with', 'spring', 'constant', 'of', '30', 'nm', '/', 'ra', '##d', ',', 'target', 'angle', '0', ',', 'and', 'no', 'damp', '##ing', '.', '[SEP]', '[PAD]', '[PAD]', '[PAD]', '[PAD]', '[PAD]', '[PAD]', '[PAD]', '[PAD]', '[PAD]', '[PAD]', '[PAD]', '[PAD]', '[PAD]', '[PAD]', '[PAD]', '[PAD]', '[PAD]', '[PAD]', '[CLS]', 'unlike', 'in', 'previous', 'work', ',', 'where', 'a', 'ga', '##it', 'cycle', 'is', 'broken', 'down', 'into', 'four', 'states', ',', 'only', 'two', 'are', 'needed', '(', 'triggered', 'by', 'left', '/', 'right', 'foot', '-', 'strike', ')', 'since', 'do', '##fs', 'with', 'the', 'most', 'complex', 'activities', 'are', 'act', '##uated', 'by', 'muscles', '.', '[SEP]', '[PAD]', '[PAD]', '[PAD]']\n",
      "[0 0 0 0 0 0 0 0 0 0 0 0 0 0 0 0 0 0 0 0 0 0 0 0 0 0 0 0 0 0 0 0 0 0 0 0 0\n",
      " 0 0 0 0 0 0 0 0 0 0 0 0 0]\n",
      "[-100    0    0    0    0    0 -100 -100 -100 -100 -100 -100 -100 -100\n",
      " -100 -100 -100 -100 -100 -100 -100 -100 -100 -100 -100 -100 -100 -100\n",
      " -100 -100 -100 -100 -100 -100 -100 -100 -100 -100 -100 -100 -100 -100\n",
      " -100 -100 -100 -100 -100 -100 -100 -100]\n",
      "\n",
      "['[CLS]', 'our', 'upper', 'body', 'control', 'also', 'largely', 'follows', '[SEP]', '[PAD]', '[PAD]', '[PAD]', '[PAD]', '[PAD]', '[PAD]', '[PAD]', '[PAD]', '[PAD]', '[PAD]', '[PAD]', '[PAD]', '[PAD]', '[PAD]', '[PAD]', '[PAD]', '[PAD]', '[PAD]', '[PAD]', '[PAD]', '[PAD]', '[PAD]', '[PAD]', '[PAD]', '[PAD]', '[PAD]', '[PAD]', '[PAD]', '[PAD]', '[PAD]', '[PAD]', '[PAD]', '[PAD]', '[PAD]', '[PAD]', '[PAD]', '[PAD]', '[PAD]', '[PAD]', '[PAD]', '[PAD]', '[CLS]', 'wang', 'et', 'al', '.', '[SEP]', '[PAD]', '[PAD]', '[PAD]', '[PAD]', '[PAD]', '[PAD]', '[PAD]', '[PAD]', '[PAD]', '[PAD]', '[PAD]', '[PAD]', '[PAD]', '[PAD]', '[PAD]', '[PAD]', '[PAD]', '[PAD]', '[PAD]', '[PAD]', '[PAD]', '[PAD]', '[PAD]', '[PAD]', '[PAD]', '[PAD]', '[PAD]', '[PAD]', '[PAD]', '[PAD]', '[PAD]', '[PAD]', '[PAD]', '[PAD]', '[PAD]', '[PAD]', '[PAD]', '[PAD]', '[PAD]', '[PAD]', '[PAD]', '[PAD]', '[PAD]', '[PAD]', '[CLS]', '[', '2010', ']', '[SEP]', '[PAD]', '[PAD]', '[PAD]', '[PAD]', '[PAD]', '[PAD]', '[PAD]', '[PAD]', '[PAD]', '[PAD]', '[PAD]', '[PAD]', '[PAD]', '[PAD]', '[PAD]', '[PAD]', '[PAD]', '[PAD]', '[PAD]', '[PAD]', '[PAD]', '[PAD]', '[PAD]', '[PAD]', '[PAD]', '[PAD]', '[PAD]', '[PAD]', '[PAD]', '[PAD]', '[PAD]', '[PAD]', '[PAD]', '[PAD]', '[PAD]', '[PAD]', '[PAD]', '[PAD]', '[PAD]', '[PAD]', '[PAD]', '[PAD]', '[PAD]', '[PAD]', '[PAD]', '[CLS]', ',', 'with', 'the', 'exception', 'that', 'the', 'target', 'feature', 'of', 'our', 'back', 'joint', 'in', 'the', 'corona', '##l', 'plane', 'is', 'the', 'global', 'orientation', 'of', 'the', 'torso', 'instead', 'of', 'the', 'local', 'joint', 'angle', 'between', 'the', 'torso', 'and', 'the', 'pe', '##lvis', '.', '[SEP]', '[PAD]', '[PAD]', '[PAD]', '[PAD]', '[PAD]', '[PAD]', '[PAD]', '[PAD]', '[PAD]', '[PAD]', '[CLS]', 'this', 'global', 'target', 'allows', 'our', 'model', 'to', 'better', 'keep', 'the', 'head', 'upright', 'during', 'loco', '##mot', '##ion', '.', '[SEP]', '[PAD]', '[PAD]', '[PAD]', '[PAD]', '[PAD]', '[PAD]', '[PAD]', '[PAD]', '[PAD]', '[PAD]', '[PAD]', '[PAD]', '[PAD]', '[PAD]', '[PAD]', '[PAD]', '[PAD]', '[PAD]', '[PAD]', '[PAD]', '[PAD]', '[PAD]', '[PAD]', '[PAD]', '[PAD]', '[PAD]', '[PAD]', '[PAD]', '[PAD]', '[PAD]', '[PAD]', '[CLS]', 'we', 'fix', 'the', 'spring', 'and', 'damp', '##er', 'constant', '##s', 'for', 'all', 'arm', 'joints', 'to', '30', 'nm', '/', 'ra', '##d', 'and', '3', 'nm', '##s', '/', 'ra', '##d', ',', 'respectively', ',', 'with', 'target', 'angles', 'set', 'to', '0', '.', '[SEP]', '[PAD]', '[PAD]', '[PAD]', '[PAD]', '[PAD]', '[PAD]', '[PAD]', '[PAD]', '[PAD]', '[PAD]', '[PAD]', '[PAD]', '[CLS]', 'we', 'found', 'that', 'more', 'human', '-', 'like', 'arm', 'swing', 'can', 'be', 'generated', 'by', 'relating', 'the', 'elbow', 'and', 'shoulder', 'target', 'angles', 'as', '[UNK]', 's', 'l', '=', 'i', '##±', 'arm', '[UNK]', 'h', 'l', 'a', '[UNK]', 'h', 'r', '+', '[UNK]', 'e', 'd', 'and', 'i', 'l', 's', '=', '[UNK]', 'e', 'd', ',', '[SEP]', '[CLS]', 'this', 'formulation', 'captures', 'the', 'tendency', 'to', 'rotate', 'the', 'shoulder', 'backwards', 'and', 'inward', '##s', 'while', 'bending', 'the', 'elbow', '.', '[SEP]', '[PAD]', '[PAD]', '[PAD]', '[PAD]', '[PAD]', '[PAD]', '[PAD]', '[PAD]', '[PAD]', '[PAD]', '[PAD]', '[PAD]', '[PAD]', '[PAD]', '[PAD]', '[PAD]', '[PAD]', '[PAD]', '[PAD]', '[PAD]', '[PAD]', '[PAD]', '[PAD]', '[PAD]', '[PAD]', '[PAD]', '[PAD]', '[PAD]', '[PAD]', '[PAD]']\n",
      "[0 0 0 0 0 0 0 0 0 0 0 0 0 0 0 0 0 0 0 0 0 0 0 0 0 0 0 0 0 0 0 0 0 0 0 0 0\n",
      " 0 0 0 0 0 0 0 0 0 0 0 0 0]\n",
      "[-100    0    0 -100 -100 -100 -100 -100 -100 -100 -100 -100 -100 -100\n",
      " -100 -100 -100 -100 -100 -100 -100 -100 -100 -100 -100 -100 -100 -100\n",
      " -100 -100 -100 -100 -100 -100 -100 -100 -100 -100 -100 -100 -100 -100\n",
      " -100 -100 -100 -100 -100 -100 -100 -100]\n",
      "\n",
      "['[CLS]', 'the', 'scale', 'constant', 'and', 'the', 'desired', 'elbow', 'angle', 'are', 'among', 'the', 'parameters', 'set', 'by', 'optimization', ',', 'as', 'described', 'in', 'the', 'next', 'section', '.', '[SEP]', '[PAD]', '[PAD]', '[PAD]', '[PAD]', '[PAD]', '[PAD]', '[PAD]', '[PAD]', '[PAD]', '[PAD]', '[PAD]', '[PAD]', '[PAD]', '[PAD]', '[PAD]', '[PAD]', '[PAD]', '[PAD]', '[PAD]', '[PAD]', '[PAD]', '[PAD]', '[PAD]', '[PAD]', '[PAD]', '[CLS]', '<', 'h', '##1', '>', '5', 'optimization', '<', '/', 'h', '##1', '>', '[SEP]', '[PAD]', '[PAD]', '[PAD]', '[PAD]', '[PAD]', '[PAD]', '[PAD]', '[PAD]', '[PAD]', '[PAD]', '[PAD]', '[PAD]', '[PAD]', '[PAD]', '[PAD]', '[PAD]', '[PAD]', '[PAD]', '[PAD]', '[PAD]', '[PAD]', '[PAD]', '[PAD]', '[PAD]', '[PAD]', '[PAD]', '[PAD]', '[PAD]', '[PAD]', '[PAD]', '[PAD]', '[PAD]', '[PAD]', '[PAD]', '[PAD]', '[PAD]', '[PAD]', '[CLS]', 'the', 'control', 'algorithm', 'specified', 'in', 'section', '4', 'has', 'a', 'large', 'number', 'of', 'parameters', ',', 'which', 'we', 'set', 'by', 'optimization', '[SEP]', '[PAD]', '[PAD]', '[PAD]', '[PAD]', '[PAD]', '[PAD]', '[PAD]', '[PAD]', '[PAD]', '[PAD]', '[PAD]', '[PAD]', '[PAD]', '[PAD]', '[PAD]', '[PAD]', '[PAD]', '[PAD]', '[PAD]', '[PAD]', '[PAD]', '[PAD]', '[PAD]', '[PAD]', '[PAD]', '[PAD]', '[PAD]', '[PAD]', '[PAD]', '[CLS]', '[', 'wang', 'et', 'al', '.', '[SEP]', '[PAD]', '[PAD]', '[PAD]', '[PAD]', '[PAD]', '[PAD]', '[PAD]', '[PAD]', '[PAD]', '[PAD]', '[PAD]', '[PAD]', '[PAD]', '[PAD]', '[PAD]', '[PAD]', '[PAD]', '[PAD]', '[PAD]', '[PAD]', '[PAD]', '[PAD]', '[PAD]', '[PAD]', '[PAD]', '[PAD]', '[PAD]', '[PAD]', '[PAD]', '[PAD]', '[PAD]', '[PAD]', '[PAD]', '[PAD]', '[PAD]', '[PAD]', '[PAD]', '[PAD]', '[PAD]', '[PAD]', '[PAD]', '[PAD]', '[PAD]', '[CLS]', '2010', ']', '.', '[SEP]', '[PAD]', '[PAD]', '[PAD]', '[PAD]', '[PAD]', '[PAD]', '[PAD]', '[PAD]', '[PAD]', '[PAD]', '[PAD]', '[PAD]', '[PAD]', '[PAD]', '[PAD]', '[PAD]', '[PAD]', '[PAD]', '[PAD]', '[PAD]', '[PAD]', '[PAD]', '[PAD]', '[PAD]', '[PAD]', '[PAD]', '[PAD]', '[PAD]', '[PAD]', '[PAD]', '[PAD]', '[PAD]', '[PAD]', '[PAD]', '[PAD]', '[PAD]', '[PAD]', '[PAD]', '[PAD]', '[PAD]', '[PAD]', '[PAD]', '[PAD]', '[PAD]', '[PAD]', '[CLS]', 'more', 'specifically', ',', 'each', 'of', 'the', 'u', 'm', 'f', ',', 'u', 'm', 'l', ',', 'and', 'u', 'm', '[UNK]', 'laws', 'have', 'one', ',', 'two', ',', 'and', 'three', 'parameters', ',', 'respectively', '.', '[SEP]', '[PAD]', '[PAD]', '[PAD]', '[PAD]', '[PAD]', '[PAD]', '[PAD]', '[PAD]', '[PAD]', '[PAD]', '[PAD]', '[PAD]', '[PAD]', '[PAD]', '[PAD]', '[PAD]', '[PAD]', '[PAD]', '[CLS]', 'there', 'are', '56', 'parameters', 'in', 'total', '(', '30', 'stance', ',', '26', 'swing', ')', 'for', 'the', 'mt', '##u', 'control', 'laws', '.', '[SEP]', '[PAD]', '[PAD]', '[PAD]', '[PAD]', '[PAD]', '[PAD]', '[PAD]', '[PAD]', '[PAD]', '[PAD]', '[PAD]', '[PAD]', '[PAD]', '[PAD]', '[PAD]', '[PAD]', '[PAD]', '[PAD]', '[PAD]', '[PAD]', '[PAD]', '[PAD]', '[PAD]', '[PAD]', '[PAD]', '[PAD]', '[PAD]', '[PAD]', '[CLS]', 'for', 'the', 'upper', 'body', 'and', 'the', 'non', '-', 'sa', '##git', '##tal', 'do', '##fs', 'in', 'the', 'lower', 'body', ',', 'we', 'opt', '##imi', '##ze', 'the', 'pd', '##con', '##tro', '##l', 'parameters', '(', 'spring', '-', 'damp', '##er', 'constant', '##s', ',', 'target', 'angle', ',', 'balance', 'feedback', ')', 'for', 'all', 'joints', 'except', 'for', 'arms', '[SEP]']\n",
      "[0 0 0 0 0 0 0 0 0 0 0 0 0 0 0 0 0 0 0 0 0 0 0 0 0 0 0 0 0 0 0 0 0 0 0 0 0\n",
      " 0 0 0 0 0 0 0 0 0 0 0 0 0]\n",
      "[-100    0    0    1    1    1    1    1    0 -100 -100 -100 -100 -100\n",
      " -100 -100 -100 -100 -100 -100 -100 -100 -100 -100 -100 -100 -100 -100\n",
      " -100 -100 -100 -100 -100 -100 -100 -100 -100 -100 -100 -100 -100 -100\n",
      " -100 -100 -100 -100 -100 -100 -100 -100]\n",
      "\n",
      "['[CLS]', 'when', 'combined', 'with', '33', 'free', 'parameters', 'describing', 'the', 'initial', 'state', 'of', 'the', 'simulation', ',', '124', 'parameters', '(', 'w', ')', 'fully', 'define', 'a', 'simulated', 'motion', '{', 's', '1', '.', '[SEP]', '[PAD]', '[PAD]', '[PAD]', '[PAD]', '[PAD]', '[PAD]', '[PAD]', '[PAD]', '[PAD]', '[PAD]', '[PAD]', '[PAD]', '[PAD]', '[PAD]', '[PAD]', '[PAD]', '[PAD]', '[PAD]', '[PAD]', '[PAD]', '[CLS]', '.', 's', 't', '}', 'over', 't', 'times', '##te', '##ps', '.', '[SEP]', '[PAD]', '[PAD]', '[PAD]', '[PAD]', '[PAD]', '[PAD]', '[PAD]', '[PAD]', '[PAD]', '[PAD]', '[PAD]', '[PAD]', '[PAD]', '[PAD]', '[PAD]', '[PAD]', '[PAD]', '[PAD]', '[PAD]', '[PAD]', '[PAD]', '[PAD]', '[PAD]', '[PAD]', '[PAD]', '[PAD]', '[PAD]', '[PAD]', '[PAD]', '[PAD]', '[PAD]', '[PAD]', '[PAD]', '[PAD]', '[PAD]', '[PAD]', '[PAD]', '[PAD]', '[CLS]', 'we', 'opt', '##imi', '##ze', 'control', 'parameters', 'and', 'the', 'initial', 'state', 'using', 'co', '##var', '##iance', 'matrix', 'adaptation', '(', 'cm', '##a', ')', '[SEP]', '[PAD]', '[PAD]', '[PAD]', '[PAD]', '[PAD]', '[PAD]', '[PAD]', '[PAD]', '[PAD]', '[PAD]', '[PAD]', '[PAD]', '[PAD]', '[PAD]', '[PAD]', '[PAD]', '[PAD]', '[PAD]', '[PAD]', '[PAD]', '[PAD]', '[PAD]', '[PAD]', '[PAD]', '[PAD]', '[PAD]', '[PAD]', '[PAD]', '[CLS]', '[', 'hansen', '2006', ']', ',', 'with', 'steps', '##ize', 'i', '=', '0', '.', '00', '##5', 'and', '50', 'samples', 'per', 'iteration', '.', '[SEP]', '[PAD]', '[PAD]', '[PAD]', '[PAD]', '[PAD]', '[PAD]', '[PAD]', '[PAD]', '[PAD]', '[PAD]', '[PAD]', '[PAD]', '[PAD]', '[PAD]', '[PAD]', '[PAD]', '[PAD]', '[PAD]', '[PAD]', '[PAD]', '[PAD]', '[PAD]', '[PAD]', '[PAD]', '[PAD]', '[PAD]', '[PAD]', '[PAD]', '[CLS]', 'the', 'optimization', 'aims', 'to', 'maximize', 'the', 'following', 'return', 'function', ':', 't', 'r', '(', 'w', ')', '=', 'r', '(', 's', 't', ')', 'a', 'w', 'e', 'j', 'effort', '.', '[SEP]', '[PAD]', '[PAD]', '[PAD]', '[PAD]', '[PAD]', '[PAD]', '[PAD]', '[PAD]', '[PAD]', '[PAD]', '[PAD]', '[PAD]', '[PAD]', '[PAD]', '[PAD]', '[PAD]', '[PAD]', '[PAD]', '[PAD]', '[PAD]', '[PAD]', '[CLS]', 't', '=', '1', 'here', 'r', 'is', 'a', 'scala', '##r', 'reward', 'function', 'of', 'the', 'current', 'state', 's', 't', ',', 'j', 'effort', 'measures', 'the', 'effort', 'of', 'the', 'synthesized', 'motion', ',', 'and', 'w', 'e', 'is', 'set', 'to', '0', '.', '00', '##4', 'divided', 'by', 'the', 'mass', 'of', 'the', 'model', ',', 'motivated', 'by', '[SEP]', '[CLS]', 'wang', 'et', 'al', '.', '[SEP]', '[PAD]', '[PAD]', '[PAD]', '[PAD]', '[PAD]', '[PAD]', '[PAD]', '[PAD]', '[PAD]', '[PAD]', '[PAD]', '[PAD]', '[PAD]', '[PAD]', '[PAD]', '[PAD]', '[PAD]', '[PAD]', '[PAD]', '[PAD]', '[PAD]', '[PAD]', '[PAD]', '[PAD]', '[PAD]', '[PAD]', '[PAD]', '[PAD]', '[PAD]', '[PAD]', '[PAD]', '[PAD]', '[PAD]', '[PAD]', '[PAD]', '[PAD]', '[PAD]', '[PAD]', '[PAD]', '[PAD]', '[PAD]', '[PAD]', '[PAD]', '[PAD]', '[CLS]', '[', '2010', ']', '.', '[SEP]', '[PAD]', '[PAD]', '[PAD]', '[PAD]', '[PAD]', '[PAD]', '[PAD]', '[PAD]', '[PAD]', '[PAD]', '[PAD]', '[PAD]', '[PAD]', '[PAD]', '[PAD]', '[PAD]', '[PAD]', '[PAD]', '[PAD]', '[PAD]', '[PAD]', '[PAD]', '[PAD]', '[PAD]', '[PAD]', '[PAD]', '[PAD]', '[PAD]', '[PAD]', '[PAD]', '[PAD]', '[PAD]', '[PAD]', '[PAD]', '[PAD]', '[PAD]', '[PAD]', '[PAD]', '[PAD]', '[PAD]', '[PAD]', '[PAD]', '[PAD]', '[PAD]']\n",
      "[0 0 0 0 0 0 0 0 0 0 0 0 0 0 0 0 0 0 0 0 0 0 0 0 0 0 0 0 0 0 0 0 0 0 0 0 0\n",
      " 0 0 0 0 0 0 0 0 0 0 0 0 0]\n",
      "[-100    1    1    1    1 -100 -100 -100    1 -100 -100    1    1    1\n",
      "    1    1    1    1    1    1    1    1    1    1    1    1 -100 -100\n",
      " -100 -100 -100 -100 -100 -100 -100 -100 -100 -100 -100 -100 -100 -100\n",
      " -100 -100 -100 -100 -100 -100 -100 -100]\n",
      "\n"
     ]
    },
    {
     "name": "stderr",
     "output_type": "stream",
     "text": [
      "Iteration: 100%|██████████| 4153/4153 [12:05<00:00,  5.86it/s]\n",
      "Iteration:   0%|          | 1/4153 [00:00<12:35,  5.50it/s]"
     ]
    },
    {
     "name": "stdout",
     "output_type": "stream",
     "text": [
      "['[CLS]', 'g', 'm', 'and', 'h', 'm', 'are', 'free', 'positive', 'parameters', 'and', '{', '}', 'a', '##±', 'means', 'only', 'positive', 'or', 'negative', 'values', '(', '0', 'otherwise', ')', '.', '[SEP]', '[PAD]', '[PAD]', '[PAD]', '[PAD]', '[PAD]', '[PAD]', '[PAD]', '[PAD]', '[PAD]', '[PAD]', '[PAD]', '[PAD]', '[PAD]', '[PAD]', '[PAD]', '[PAD]', '[PAD]', '[PAD]', '[PAD]', '[PAD]', '[PAD]', '[PAD]', '[PAD]', '[CLS]', 'the', 'positive', 'length', 'feedback', 'effectively', 'models', 'a', 'stretch', 'reflex', ',', 'which', 'activate', '##s', 'the', 'muscle', 'when', 'the', 'fiber', 'is', 'stretched', 'beyond', 'a', 'fixed', 'length', '.', '[SEP]', '[PAD]', '[PAD]', '[PAD]', '[PAD]', '[PAD]', '[PAD]', '[PAD]', '[PAD]', '[PAD]', '[PAD]', '[PAD]', '[PAD]', '[PAD]', '[PAD]', '[PAD]', '[PAD]', '[PAD]', '[PAD]', '[PAD]', '[PAD]', '[PAD]', '[PAD]', '[PAD]', '[CLS]', 'u', 'l', 'm', 'is', 'most', 'useful', 'during', 'the', 'swing', 'phase', ',', 'as', 'the', 'ta', 'must', 'be', 'activated', 'to', 'do', '##rs', '##if', '##le', '##x', 'so', 'that', 'toe', '-', 'stu', '##bbing', 'can', 'be', 'avoided', '.', '[SEP]', '[PAD]', '[PAD]', '[PAD]', '[PAD]', '[PAD]', '[PAD]', '[PAD]', '[PAD]', '[PAD]', '[PAD]', '[PAD]', '[PAD]', '[PAD]', '[PAD]', '[PAD]', '[CLS]', 'in', 'addition', ',', 'the', 'h', '##fl', 'relies', 'on', 'length', 'feedback', 'to', 'generate', 'hip', 'flex', '##ion', 'torque', 'during', 'early', 'swing', ',', 'especially', 'during', 'running', '.', '[SEP]', '[PAD]', '[PAD]', '[PAD]', '[PAD]', '[PAD]', '[PAD]', '[PAD]', '[PAD]', '[PAD]', '[PAD]', '[PAD]', '[PAD]', '[PAD]', '[PAD]', '[PAD]', '[PAD]', '[PAD]', '[PAD]', '[PAD]', '[PAD]', '[PAD]', '[PAD]', '[PAD]', '[PAD]', '[CLS]', 'muscle', '-', 'driven', 'pd', 'control', '.', '[SEP]', '[PAD]', '[PAD]', '[PAD]', '[PAD]', '[PAD]', '[PAD]', '[PAD]', '[PAD]', '[PAD]', '[PAD]', '[PAD]', '[PAD]', '[PAD]', '[PAD]', '[PAD]', '[PAD]', '[PAD]', '[PAD]', '[PAD]', '[PAD]', '[PAD]', '[PAD]', '[PAD]', '[PAD]', '[PAD]', '[PAD]', '[PAD]', '[PAD]', '[PAD]', '[PAD]', '[PAD]', '[PAD]', '[PAD]', '[PAD]', '[PAD]', '[PAD]', '[PAD]', '[PAD]', '[PAD]', '[PAD]', '[PAD]', '[PAD]', '[CLS]', 'we', 'also', 'define', 'a', 'muscle', '-', 'driven', 'pd', 'control', 'law', 'with', 'respect', 'to', 'an', 'angular', 'feature', '[UNK]', 'as', 'where', 'k', 'm', ',', 'd', 'm', ',', '[UNK]', 'm', 'are', 'free', 'parameters', 'of', 'the', 'pd', '-', 'controller', '.', '[SEP]', '[PAD]', '[PAD]', '[PAD]', '[PAD]', '[PAD]', '[PAD]', '[PAD]', '[PAD]', '[PAD]', '[PAD]', '[PAD]', '[PAD]', '[CLS]', 'the', 'brace', '##s', 'sign', 'is', 'positive', 'if', 'torque', 'generated', 'by', 'm', 'is', 'in', 'the', 'opposing', 'direction', 'of', '[UNK]', '.', 'g', '.', ',', 'if', 'm', 'is', 'the', 'hip', 'ex', '##tens', '##or', 'and', '[UNK]', 'is', 'the', 'hip', 'flex', '##ion', 'angle', '##aan', '##d', 'negative', 'otherwise', '.', '[SEP]', '[PAD]', '[PAD]', '[PAD]', '[PAD]', '[PAD]', '[CLS]', 'much', 'like', 'the', 'standard', 'torque', '##base', '##d', 'pd', '-', 'controller', ',', 'the', 'muscle', '-', 'driven', 'pd', 'control', 'aims', 'to', 'adjust', '[UNK]', 'towards', 'the', 'target', 'angle', '[UNK]', 'm', 'while', 'damp', '##ing', 'its', 'velocity', '.', '[SEP]', '[PAD]', '[PAD]', '[PAD]', '[PAD]', '[PAD]', '[PAD]', '[PAD]', '[PAD]', '[PAD]', '[PAD]', '[PAD]', '[PAD]', '[PAD]', '[PAD]', '[PAD]']\n",
      "[0 0 0 0 0 0 0 0 0 0 0 0 0 0 0 0 0 0 0 0 0 0 0 0 0 0 0 0 0 0 0 0 0 0 0 0 0\n",
      " 0 0 0 0 0 0 0 0 0 0 0 0 0]\n",
      "[-100    1    1    1 -100    1    1    1    1    1    1    1    1    1\n",
      "    1    1    1    1    1    1 -100 -100    1    1    1    1    0    0\n",
      "    1    1    1    1 -100    1 -100    1    1 -100    1    1    0    0\n",
      "    0    0    0 -100 -100 -100 -100 -100]\n",
      "\n",
      "['[CLS]', 'however', ',', 'unlike', 'the', 'standard', 'pd', '-', 'controller', ',', 'muscles', 'can', 'only', 'activate', 'after', 'a', 'time', '-', 'delay', 'and', 'each', 'muscle', 'can', 'only', 'generate', 'forces', 'to', 'rotate', 'the', 'angular', 'do', '##f', 'in', 'one', 'direction', '.', '[SEP]', '[PAD]', '[PAD]', '[PAD]', '[PAD]', '[PAD]', '[PAD]', '[PAD]', '[PAD]', '[PAD]', '[PAD]', '[PAD]', '[PAD]', '[PAD]', '[CLS]', 'the', 'pd', '-', 'control', 'laws', 'are', 'employed', 'by', 'the', 'hip', 'muscles', 'during', 'the', 'stance', 'phase', 'to', 'maintain', 'the', 'global', 'upper', 'body', 'orientation', ',', 'as', 'well', 'as', 'during', 'stance', 'preparation', 'to', 'prepare', 'for', 'ground', 'contact', '.', '[SEP]', '[PAD]', '[PAD]', '[PAD]', '[PAD]', '[PAD]', '[PAD]', '[PAD]', '[PAD]', '[PAD]', '[PAD]', '[PAD]', '[PAD]', '[PAD]', '[CLS]', 'u', 'm', '[UNK]', '=', 'k', 'm', '(', '[UNK]', '(', 't', 'a', 'at', 'm', ')', 'a', '[UNK]', 'm', ')', '+', 'd', 'm', '[UNK]', '(', 't', 'i', 'a', 'at', 'm', ')', ',', 'a', '##±', '[SEP]', '[PAD]', '[PAD]', '[PAD]', '[PAD]', '[PAD]', '[PAD]', '[PAD]', '[PAD]', '[PAD]', '[PAD]', '[PAD]', '[PAD]', '[PAD]', '[PAD]', '[PAD]', '[PAD]', '[CLS]', '<', 'h', '##2', '>', '4', '.', '2', 'stance', 'phase', '<', '/', 'h', '##2', '>', '[SEP]', '[PAD]', '[PAD]', '[PAD]', '[PAD]', '[PAD]', '[PAD]', '[PAD]', '[PAD]', '[PAD]', '[PAD]', '[PAD]', '[PAD]', '[PAD]', '[PAD]', '[PAD]', '[PAD]', '[PAD]', '[PAD]', '[PAD]', '[PAD]', '[PAD]', '[PAD]', '[PAD]', '[PAD]', '[PAD]', '[PAD]', '[PAD]', '[PAD]', '[PAD]', '[PAD]', '[PAD]', '[PAD]', '[PAD]', '[PAD]', '[CLS]', 'each', 'muscle', 'has', 'an', 'initial', 'constant', 'ex', '##cit', '##ation', ',', 'or', 'pre', '-', 'stimulation', 'value', 'p', 'm', '.', '[SEP]', '[PAD]', '[PAD]', '[PAD]', '[PAD]', '[PAD]', '[PAD]', '[PAD]', '[PAD]', '[PAD]', '[PAD]', '[PAD]', '[PAD]', '[PAD]', '[PAD]', '[PAD]', '[PAD]', '[PAD]', '[PAD]', '[PAD]', '[PAD]', '[PAD]', '[PAD]', '[PAD]', '[PAD]', '[PAD]', '[PAD]', '[PAD]', '[PAD]', '[PAD]', '[PAD]', '[CLS]', 'these', 'values', 'are', 'initial', '##ized', 'close', 'to', 'zero', ',', 'but', 'are', 'then', 'opt', '##imi', '##zed', '.', '[SEP]', '[PAD]', '[PAD]', '[PAD]', '[PAD]', '[PAD]', '[PAD]', '[PAD]', '[PAD]', '[PAD]', '[PAD]', '[PAD]', '[PAD]', '[PAD]', '[PAD]', '[PAD]', '[PAD]', '[PAD]', '[PAD]', '[PAD]', '[PAD]', '[PAD]', '[PAD]', '[PAD]', '[PAD]', '[PAD]', '[PAD]', '[PAD]', '[PAD]', '[PAD]', '[PAD]', '[PAD]', '[PAD]', '[CLS]', 'the', 'sol', 'and', 'gas', 'both', 'rely', 'on', 'positive', 'force', 'feedback', 'and', 'are', 'the', 'main', 'sources', 'of', 'torque', 'during', 'walking', '.', '[SEP]', '[PAD]', '[PAD]', '[PAD]', '[PAD]', '[PAD]', '[PAD]', '[PAD]', '[PAD]', '[PAD]', '[PAD]', '[PAD]', '[PAD]', '[PAD]', '[PAD]', '[PAD]', '[PAD]', '[PAD]', '[PAD]', '[PAD]', '[PAD]', '[PAD]', '[PAD]', '[PAD]', '[PAD]', '[PAD]', '[PAD]', '[PAD]', '[PAD]', '[CLS]', 'the', 'ta', 'ensures', 'foot', 'clearance', 'during', 'swing', 'using', 'a', 'length', 'feedback', '(', 'u', 'l', 'ta', ')', ',', 'but', 'the', 'activation', 'is', 'suppressed', 'during', 'stance', 'in', 'proportion', 'to', 'the', 'current', 'force', 'generated', 'from', 'sol', '.', '[SEP]', '[PAD]', '[PAD]', '[PAD]', '[PAD]', '[PAD]', '[PAD]', '[PAD]', '[PAD]', '[PAD]', '[PAD]', '[PAD]', '[PAD]', '[PAD]', '[PAD]']\n",
      "[0 0 0 0 0 0 0 0 0 0 0 0 0 0 0 0 0 0 0 0 0 0 0 0 0 0 0 0 0 0 0 0 0 0 0 0 0\n",
      " 0 0 0 0 0 0 0 0 0 0 0 0 0]\n",
      "[-100    1    1    1    1    1    1    1    1    1    1    1    1    1\n",
      "    1    1    0 -100 -100 -100 -100 -100 -100 -100 -100 -100 -100 -100\n",
      " -100 -100 -100 -100 -100 -100 -100 -100 -100 -100 -100 -100 -100 -100\n",
      " -100 -100 -100 -100 -100 -100 -100 -100]\n",
      "\n",
      "['[CLS]', 'the', 'suppression', 'allows', 'the', 'generated', 'ta', 'activation', 'patterns', 'to', 'better', 'match', 'human', 'data', 'during', 'loco', '##mot', '##ion', '.', '[SEP]', '[PAD]', '[PAD]', '[PAD]', '[PAD]', '[PAD]', '[PAD]', '[PAD]', '[PAD]', '[PAD]', '[PAD]', '[PAD]', '[PAD]', '[PAD]', '[PAD]', '[PAD]', '[PAD]', '[PAD]', '[PAD]', '[PAD]', '[PAD]', '[PAD]', '[PAD]', '[PAD]', '[PAD]', '[PAD]', '[PAD]', '[PAD]', '[PAD]', '[PAD]', '[PAD]', '[CLS]', 'the', 'force', 'feedback', 'on', 'the', 'va', '##s', 'creates', 'a', 'strong', 'knee', 'extension', 'torque', 'following', 'ground', 'contact', ',', 'but', 'ex', '##cit', '##ation', 'is', 'suppressed', 'when', 'the', 'knee', 'flex', '##ion', 'angle', '(', '[UNK]', 'k', ')', 'is', 'extended', 'below', 'an', 'offset', '(', '[UNK]', 'k', 'off', ')', 'with', 'an', 'extension', 'velocity', '(', '[SEP]', '[CLS]', 'the', 'suppression', 'prevents', 'hyper', '##ex', '##tension', 'of', 'the', 'knee', 'during', 'mid', '-', 'stance', '.', '[SEP]', '[PAD]', '[PAD]', '[PAD]', '[PAD]', '[PAD]', '[PAD]', '[PAD]', '[PAD]', '[PAD]', '[PAD]', '[PAD]', '[PAD]', '[PAD]', '[PAD]', '[PAD]', '[PAD]', '[PAD]', '[PAD]', '[PAD]', '[PAD]', '[PAD]', '[PAD]', '[PAD]', '[PAD]', '[PAD]', '[PAD]', '[PAD]', '[PAD]', '[PAD]', '[PAD]', '[PAD]', '[PAD]', '[PAD]', '[PAD]', '[CLS]', 'using', 'muscle', '-', 'driven', 'pd', 'control', 'laws', ',', 'the', 'ham', ',', 'g', '##lu', ',', 'and', 'h', '##fl', 'are', 'responsible', 'for', 'maintaining', 'the', 'global', 'orientation', 'of', 'the', 'upper', 'body', '(', 'i', ')', ',', 'defined', 'as', 'the', 'vector', 'between', 'the', 'com', 'of', 'the', 'upper', 'body', 'and', 'the', 'com', 'of', 'the', '[SEP]', '[CLS]', 'during', 'double', 'stance', ',', 'these', 'control', 'laws', 'are', 'only', 'active', 'for', 'the', 'leading', 'leg', ',', 'denoted', 'as', 'u', 'i', 'm', 'lead', '.', '[SEP]', '[PAD]', '[PAD]', '[PAD]', '[PAD]', '[PAD]', '[PAD]', '[PAD]', '[PAD]', '[PAD]', '[PAD]', '[PAD]', '[PAD]', '[PAD]', '[PAD]', '[PAD]', '[PAD]', '[PAD]', '[PAD]', '[PAD]', '[PAD]', '[PAD]', '[PAD]', '[PAD]', '[PAD]', '[PAD]', '[PAD]', '[CLS]', 'specifically', ',', 'control', 'laws', 'during', 'the', 'stance', 'phase', 'are', 'as', 'follows', ':', 'towards', 'the', 'end', 'of', 'the', 'stance', 'phase', ',', 'the', 'controller', 'enters', 'into', 'the', 'swing', 'initiation', ',', 'which', 'begins', 'when', 'either', 'the', 'signed', 'horizontal', 'distance', 'between', 'the', 'com', 'and', 'the', 'ankle', 'normal', '##ized', 'by', 'leg', 'length', 'exceeds', '[SEP]', '[CLS]', 'during', 'swing', 'initiation', ',', 'constant', 'ex', '##cit', '##ation', 'values', 'between', '0', 'and', '1', '(', 'set', 'during', 'optimization', ')', 'are', 'added', 'and', 'sub', '##tracted', 'to', 'the', 'va', '##s', ',', 'rf', ',', 'g', '##lu', ',', 'and', 'h', '##fl', ':', 'the', 'combination', 'of', 'h', '##fl', 'and', 'g', '##lu', 'ex', '##cit', '##ations', '[SEP]', '[CLS]', 'two', 'main', 'differences', 'between', 'our', 'stance', 'phase', 'control', 'laws', 'compared', 'to', '[SEP]', '[PAD]', '[PAD]', '[PAD]', '[PAD]', '[PAD]', '[PAD]', '[PAD]', '[PAD]', '[PAD]', '[PAD]', '[PAD]', '[PAD]', '[PAD]', '[PAD]', '[PAD]', '[PAD]', '[PAD]', '[PAD]', '[PAD]', '[PAD]', '[PAD]', '[PAD]', '[PAD]', '[PAD]', '[PAD]', '[PAD]', '[PAD]', '[PAD]', '[PAD]', '[PAD]', '[PAD]', '[PAD]', '[PAD]', '[PAD]', '[PAD]', '[PAD]', '[PAD]']\n",
      "[0 0 0 0 0 0 0 0 0 0 0 0 0 0 0 0 0 0 0 0 0 0 0 0 0 0 0 0 0 0 0 0 0 0 0 0 0\n",
      " 0 0 0 0 0 0 0 0 0 0 0 0 0]\n",
      "[-100    0    0    0    1    1    1    1    1    1    1    1    1    1\n",
      "    1    1    1    1    0 -100 -100 -100 -100 -100 -100 -100 -100 -100\n",
      " -100 -100 -100 -100 -100 -100 -100 -100 -100 -100 -100 -100 -100 -100\n",
      " -100 -100 -100 -100 -100 -100 -100 -100]\n",
      "\n",
      "['[CLS]', 'ge', '##yer', 'and', 'herr', '[', '2010', ']', '[SEP]', '[PAD]', '[PAD]', '[PAD]', '[PAD]', '[PAD]', '[PAD]', '[PAD]', '[PAD]', '[PAD]', '[PAD]', '[PAD]', '[PAD]', '[PAD]', '[PAD]', '[PAD]', '[PAD]', '[PAD]', '[PAD]', '[PAD]', '[PAD]', '[PAD]', '[PAD]', '[PAD]', '[PAD]', '[PAD]', '[PAD]', '[PAD]', '[PAD]', '[PAD]', '[PAD]', '[PAD]', '[PAD]', '[PAD]', '[PAD]', '[PAD]', '[PAD]', '[PAD]', '[PAD]', '[PAD]', '[PAD]', '[PAD]', '[CLS]', 'lie', 'in', 'how', 'the', 'swing', 'initiation', 'state', 'functions', '.', '[SEP]', '[PAD]', '[PAD]', '[PAD]', '[PAD]', '[PAD]', '[PAD]', '[PAD]', '[PAD]', '[PAD]', '[PAD]', '[PAD]', '[PAD]', '[PAD]', '[PAD]', '[PAD]', '[PAD]', '[PAD]', '[PAD]', '[PAD]', '[PAD]', '[PAD]', '[PAD]', '[PAD]', '[PAD]', '[PAD]', '[PAD]', '[PAD]', '[PAD]', '[PAD]', '[PAD]', '[PAD]', '[PAD]', '[PAD]', '[PAD]', '[PAD]', '[PAD]', '[PAD]', '[PAD]', '[PAD]', '[CLS]', 'first', ',', 'for', 'running', 'we', 'found', 'it', 'necessary', 'to', 'enter', 'into', 'swing', 'initiation', 'using', 'the', 'd', 'i', '&', 'gt', ';', 'd', 'i', 'si', 'condition', ',', 'rather', 'than', 'just', 'wait', 'for', 'double', 'stance', '.', '[SEP]', '[PAD]', '[PAD]', '[PAD]', '[PAD]', '[PAD]', '[PAD]', '[PAD]', '[PAD]', '[PAD]', '[PAD]', '[PAD]', '[PAD]', '[PAD]', '[PAD]', '[PAD]', '[CLS]', 'second', ',', 'we', 'found', 'it', 'unnecessary', 'to', 'mod', '##ulate', 'the', 'muscle', '-', 'driven', 'pd', '-', 'control', 'laws', 'in', 'the', 'hip', 'by', 'ground', 'reaction', 'forces', '.', '[SEP]', '[PAD]', '[PAD]', '[PAD]', '[PAD]', '[PAD]', '[PAD]', '[PAD]', '[PAD]', '[PAD]', '[PAD]', '[PAD]', '[PAD]', '[PAD]', '[PAD]', '[PAD]', '[PAD]', '[PAD]', '[PAD]', '[PAD]', '[PAD]', '[PAD]', '[PAD]', '[PAD]', '[CLS]', 'instead', ',', 'the', 'responsibility', 'to', 'maintain', 'upper', 'body', 'orientation', 'is', 'always', 'assigned', 'to', 'the', 'lead', 'leg', '.', '[SEP]', '[PAD]', '[PAD]', '[PAD]', '[PAD]', '[PAD]', '[PAD]', '[PAD]', '[PAD]', '[PAD]', '[PAD]', '[PAD]', '[PAD]', '[PAD]', '[PAD]', '[PAD]', '[PAD]', '[PAD]', '[PAD]', '[PAD]', '[PAD]', '[PAD]', '[PAD]', '[PAD]', '[PAD]', '[PAD]', '[PAD]', '[PAD]', '[PAD]', '[PAD]', '[PAD]', '[PAD]', '[CLS]', 'u', 'sol', '=', 'p', 'sol', '+', 'u', 'sol', 'f', ',', 'u', 'ta', '=', 'p', 'ta', '+', 'u', 'ta', 'l', 'a', 'u', 'f', 'sol', ',', 'u', 'gas', '=', 'p', 'gas', '+', 'u', 'gas', 'f', ',', 'u', 'va', '##s', '=', 'p', 'va', '##s', '+', 'u', 'f', 'va', '##s', '+', 'k', '[SEP]', '[CLS]', 'u', 'va', '##s', '=', 'u', 'va', '##s', 'a', 's', 'va', '##s', ',', 'u', 'rf', '=', 'u', 'rf', '+', 's', 'rf', ',', 'u', 'g', '##lu', '=', 'u', 'g', '##lu', 'a', 's', 'g', '##lu', ',', 'u', 'h', '##fl', '=', 'u', 'h', '##fl', '+', 's', 'h', '##fl', '.', '[SEP]', '[PAD]', '[PAD]', '[PAD]', '[CLS]', '<', 'h', '##2', '>', '4', '.', '3', 'swing', 'phase', '<', '/', 'h', '##2', '>', '[SEP]', '[PAD]', '[PAD]', '[PAD]', '[PAD]', '[PAD]', '[PAD]', '[PAD]', '[PAD]', '[PAD]', '[PAD]', '[PAD]', '[PAD]', '[PAD]', '[PAD]', '[PAD]', '[PAD]', '[PAD]', '[PAD]', '[PAD]', '[PAD]', '[PAD]', '[PAD]', '[PAD]', '[PAD]', '[PAD]', '[PAD]', '[PAD]', '[PAD]', '[PAD]', '[PAD]', '[PAD]', '[PAD]', '[PAD]', '[PAD]']\n",
      "[0 0 0 0 0 0 0 0 0 0 0 0 0 0 0 0 0 0 0 0 0 0 0 0 0 0 0 0 0 0 0 0 0 0 0 0 0\n",
      " 0 0 0 0 0 0 0 0 0 0 0 0 0]\n",
      "[-100    1    1    1    1    1    1    1    1    1    1 -100    0    0\n",
      "    0    0 -100 -100    0    0 -100 -100 -100 -100 -100 -100 -100 -100\n",
      " -100 -100 -100 -100 -100 -100 -100 -100 -100 -100 -100 -100 -100 -100\n",
      " -100 -100 -100 -100 -100 -100 -100 -100]\n",
      "\n",
      "['[CLS]', 'much', 'like', 'in', 'the', 'stance', 'phase', ',', 'each', 'muscle', 'has', 'an', 'initial', 'constant', 'ex', '##cit', '##ation', 'value', '(', 'q', 'm', ')', '.', '[SEP]', '[PAD]', '[PAD]', '[PAD]', '[PAD]', '[PAD]', '[PAD]', '[PAD]', '[PAD]', '[PAD]', '[PAD]', '[PAD]', '[PAD]', '[PAD]', '[PAD]', '[PAD]', '[PAD]', '[PAD]', '[PAD]', '[PAD]', '[PAD]', '[PAD]', '[PAD]', '[PAD]', '[PAD]', '[PAD]', '[PAD]', '[CLS]', 'the', 'leg', 'motion', 'relies', 'significantly', 'on', 'passive', 'dynamics', 'during', 'the', 'swing', 'phase', '[SEP]', '[PAD]', '[PAD]', '[PAD]', '[PAD]', '[PAD]', '[PAD]', '[PAD]', '[PAD]', '[PAD]', '[PAD]', '[PAD]', '[PAD]', '[PAD]', '[PAD]', '[PAD]', '[PAD]', '[PAD]', '[PAD]', '[PAD]', '[PAD]', '[PAD]', '[PAD]', '[PAD]', '[PAD]', '[PAD]', '[PAD]', '[PAD]', '[PAD]', '[PAD]', '[PAD]', '[PAD]', '[PAD]', '[PAD]', '[PAD]', '[PAD]', '[PAD]', '[CLS]', '[', 'collins', 'et', 'al', '.', '[SEP]', '[PAD]', '[PAD]', '[PAD]', '[PAD]', '[PAD]', '[PAD]', '[PAD]', '[PAD]', '[PAD]', '[PAD]', '[PAD]', '[PAD]', '[PAD]', '[PAD]', '[PAD]', '[PAD]', '[PAD]', '[PAD]', '[PAD]', '[PAD]', '[PAD]', '[PAD]', '[PAD]', '[PAD]', '[PAD]', '[PAD]', '[PAD]', '[PAD]', '[PAD]', '[PAD]', '[PAD]', '[PAD]', '[PAD]', '[PAD]', '[PAD]', '[PAD]', '[PAD]', '[PAD]', '[PAD]', '[PAD]', '[PAD]', '[PAD]', '[PAD]', '[CLS]', '2005', ']', ',', 'as', 'most', 'muscles', 'are', 'only', 'excited', 'at', 'low', 'levels', '.', '[SEP]', '[PAD]', '[PAD]', '[PAD]', '[PAD]', '[PAD]', '[PAD]', '[PAD]', '[PAD]', '[PAD]', '[PAD]', '[PAD]', '[PAD]', '[PAD]', '[PAD]', '[PAD]', '[PAD]', '[PAD]', '[PAD]', '[PAD]', '[PAD]', '[PAD]', '[PAD]', '[PAD]', '[PAD]', '[PAD]', '[PAD]', '[PAD]', '[PAD]', '[PAD]', '[PAD]', '[PAD]', '[PAD]', '[PAD]', '[PAD]', '[PAD]', '[CLS]', 'the', 'main', 'exceptions', 'are', 'the', 'ta', ',', 'which', 'maintains', 'the', 'length', 'feedback', '(', 'u', 'l', 'ta', ')', 'to', 'avoid', 'toes', '##tub', '##bing', ',', 'and', 'the', 'ham', ',', 'which', 'is', 'activated', 'at', 'late', 'swing', 'phase', 'to', 'prevent', 'the', 'knee', 'from', 'being', 'over', '##ex', '##ten', '##ded', 'before', 'landing', '.', '[SEP]', '[PAD]', '[CLS]', 'the', 'h', '##fl', 'introduces', 'a', 'hip', 'flex', '##ion', 'torque', 'through', 'a', 'length', 'feedback', ',', 'which', 'is', 'suppressed', 'when', 'the', 'ham', 'is', 'stretched', 'in', 'during', 'late', 'swing', '.', '[SEP]', '[PAD]', '[PAD]', '[PAD]', '[PAD]', '[PAD]', '[PAD]', '[PAD]', '[PAD]', '[PAD]', '[PAD]', '[PAD]', '[PAD]', '[PAD]', '[PAD]', '[PAD]', '[PAD]', '[PAD]', '[PAD]', '[PAD]', '[PAD]', '[PAD]', '[CLS]', 'the', 'amount', 'of', 'ex', '##cit', '##ation', 'in', 'the', 'h', '##fl', 'also', 'depends', 'on', 'the', 'value', 'of', 'upper', 'body', 'lean', 'at', 'the', 'beginning', 'of', 'the', 'swing', 'phase', '(', 'i', 'lt', '##o', ')', ':', 'the', 'further', 'the', 'upper', 'body', 'leans', 'forward', 'compared', 'to', 'the', 'reference', 'lean', 'angle', '(', 'i', 'd', '[SEP]', '[CLS]', 'note', 'that', 'i', 'd', 'is', 'the', 'same', 'as', 'the', 'target', 'angle', 'in', 'u', 'i', 'h', '##fl', '.', '[SEP]', '[PAD]', '[PAD]', '[PAD]', '[PAD]', '[PAD]', '[PAD]', '[PAD]', '[PAD]', '[PAD]', '[PAD]', '[PAD]', '[PAD]', '[PAD]', '[PAD]', '[PAD]', '[PAD]', '[PAD]', '[PAD]', '[PAD]', '[PAD]', '[PAD]', '[PAD]', '[PAD]', '[PAD]', '[PAD]', '[PAD]', '[PAD]', '[PAD]', '[PAD]', '[PAD]', '[PAD]']\n",
      "[0 0 0 0 0 0 0 0 0 0 0 0 0 0 0 0 0 0 0 0 0 0 0 0 0 0 0 0 0 0 0 0 0 0 0 0 0\n",
      " 0 0 0 0 0 0 0 0 0 0 0 0 0]\n",
      "[-100    0    0    1    1    1    1    1    1    1    1    1    1    1\n",
      "    1 -100    1    1    1    1    1    1    1    1    1    0 -100 -100\n",
      " -100 -100 -100 -100 -100 -100 -100 -100 -100 -100 -100 -100 -100 -100\n",
      " -100 -100 -100 -100 -100 -100 -100 -100]\n",
      "\n",
      "['[CLS]', 'non', '-', 'constant', 'control', 'laws', 'during', 'the', 'swing', 'phase', 'are', 'as', 'follows', ':', 'the', 'controller', 'enters', 'into', 'the', 'stance', 'preparation', 'when', 'd', 'i', '&', 'lt', ';', 'd', 'i', 'sp', ',', 'where', 'the', 'swing', 'leg', 'enters', 'into', 'a', 'pd', '-', 'control', 'mode', '.', '[SEP]', '[PAD]', '[PAD]', '[PAD]', '[PAD]', '[PAD]', '[PAD]', '[CLS]', 'the', 'g', '##lu', ',', 'h', '##fl', ',', 'and', 'va', '##s', 'work', 'to', 'guide', 'the', 'hip', 'and', 'knee', 'joints', 'toward', 'a', 'desired', 'pose', 'to', 'prepare', 'for', 'ground', 'contact', ':', 'u', 'va', '##s', '=', 'q', 'va', '##s', '+', 'u', 'va', '##s', '[UNK]', 'k', ',', 'u', 'g', '##lu', '=', 'q', 'g', '[SEP]', '[CLS]', 'a', 'single', 'desired', 'hip', 'target', 'angle', '(', '[UNK]', 'h', ')', 'is', 'adjusted', 'according', 'to', 'the', 'sim', '##bic', '##on', 'balance', 'feedback', 'law', '[SEP]', '[PAD]', '[PAD]', '[PAD]', '[PAD]', '[PAD]', '[PAD]', '[PAD]', '[PAD]', '[PAD]', '[PAD]', '[PAD]', '[PAD]', '[PAD]', '[PAD]', '[PAD]', '[PAD]', '[PAD]', '[PAD]', '[PAD]', '[PAD]', '[PAD]', '[PAD]', '[PAD]', '[PAD]', '[PAD]', '[PAD]', '[PAD]', '[CLS]', '[', 'yin', 'et', 'al', '.', '[SEP]', '[PAD]', '[PAD]', '[PAD]', '[PAD]', '[PAD]', '[PAD]', '[PAD]', '[PAD]', '[PAD]', '[PAD]', '[PAD]', '[PAD]', '[PAD]', '[PAD]', '[PAD]', '[PAD]', '[PAD]', '[PAD]', '[PAD]', '[PAD]', '[PAD]', '[PAD]', '[PAD]', '[PAD]', '[PAD]', '[PAD]', '[PAD]', '[PAD]', '[PAD]', '[PAD]', '[PAD]', '[PAD]', '[PAD]', '[PAD]', '[PAD]', '[PAD]', '[PAD]', '[PAD]', '[PAD]', '[PAD]', '[PAD]', '[PAD]', '[PAD]', '[CLS]', '2007', ']', 'and', 'is', 'shared', 'by', 'both', 'the', 'g', '##lu', 'and', 'h', '##fl', '.', '[SEP]', '[PAD]', '[PAD]', '[PAD]', '[PAD]', '[PAD]', '[PAD]', '[PAD]', '[PAD]', '[PAD]', '[PAD]', '[PAD]', '[PAD]', '[PAD]', '[PAD]', '[PAD]', '[PAD]', '[PAD]', '[PAD]', '[PAD]', '[PAD]', '[PAD]', '[PAD]', '[PAD]', '[PAD]', '[PAD]', '[PAD]', '[PAD]', '[PAD]', '[PAD]', '[PAD]', '[PAD]', '[PAD]', '[PAD]', '[PAD]', '[CLS]', 'we', 'found', 'the', 'addition', 'of', 'the', 'stance', 'preparation', 'state', 'to', 'be', 'important', 'for', 'discovering', 'running', 'ga', '##its', '.', '[SEP]', '[PAD]', '[PAD]', '[PAD]', '[PAD]', '[PAD]', '[PAD]', '[PAD]', '[PAD]', '[PAD]', '[PAD]', '[PAD]', '[PAD]', '[PAD]', '[PAD]', '[PAD]', '[PAD]', '[PAD]', '[PAD]', '[PAD]', '[PAD]', '[PAD]', '[PAD]', '[PAD]', '[PAD]', '[PAD]', '[PAD]', '[PAD]', '[PAD]', '[PAD]', '[PAD]', '[CLS]', 'the', 'balance', 'feedback', 'law', 'allows', 'robust', 'control', 'strategies', 'to', 'be', 'found', 'in', 'difficult', 'environments', '(', 'e', '.', 'g', '.', ',', 'being', 'pushed', 'by', 'random', 'forces', ')', '.', '[SEP]', '[PAD]', '[PAD]', '[PAD]', '[PAD]', '[PAD]', '[PAD]', '[PAD]', '[PAD]', '[PAD]', '[PAD]', '[PAD]', '[PAD]', '[PAD]', '[PAD]', '[PAD]', '[PAD]', '[PAD]', '[PAD]', '[PAD]', '[PAD]', '[PAD]', '[CLS]', 'u', 'ta', '=', 'q', 'ta', '+', 'u', 'l', 'ta', ',', 'u', 'ham', '=', 'q', 'ham', '+', 'u', 'ham', 'f', ',', 'u', 'g', '##lu', '=', 'q', 'g', '##lu', '+', 'u', 'f', 'g', '##lu', ',', 'u', 'h', '##fl', '=', 'q', 'h', '##fl', '+', 'u', 'l', 'h', '##fl', 'a', 'u', 'l', '[SEP]']\n",
      "[0 0 0 0 0 0 0 0 0 0 0 0 0 0 0 0 0 0 0 0 0 0 0 0 0 0 0 0 0 0 0 0 0 0 0 0 0\n",
      " 0 0 0 0 0 0 0 0 0 0 0 0 0]\n",
      "[-100    1    1 -100 -100    1    1    1    1    1    1    1 -100 -100\n",
      " -100 -100 -100 -100 -100 -100 -100 -100 -100 -100 -100 -100 -100 -100\n",
      " -100 -100 -100 -100 -100 -100 -100 -100 -100 -100 -100 -100 -100 -100\n",
      " -100 -100 -100 -100 -100 -100 -100 -100]\n",
      "\n",
      "['[CLS]', '<', 'h', '##2', '>', '4', '.', '4', 'out', '-', 'of', '-', 'plane', 'and', 'upper', '##body', 'control', '<', '/', 'h', '##2', '>', '[SEP]', '[PAD]', '[PAD]', '[PAD]', '[PAD]', '[PAD]', '[PAD]', '[PAD]', '[PAD]', '[PAD]', '[PAD]', '[PAD]', '[PAD]', '[PAD]', '[PAD]', '[PAD]', '[PAD]', '[PAD]', '[PAD]', '[PAD]', '[PAD]', '[PAD]', '[PAD]', '[PAD]', '[PAD]', '[PAD]', '[PAD]', '[PAD]', '[CLS]', 'the', 'rest', 'of', 'the', 'do', '##fs', 'are', 'controlled', 'using', 'standard', 'joint', '-', 'space', 'pd', '##con', '##tro', '##ller', '##s', 'with', 'state', '-', 'dependent', 'parameters', '.', '[SEP]', '[PAD]', '[PAD]', '[PAD]', '[PAD]', '[PAD]', '[PAD]', '[PAD]', '[PAD]', '[PAD]', '[PAD]', '[PAD]', '[PAD]', '[PAD]', '[PAD]', '[PAD]', '[PAD]', '[PAD]', '[PAD]', '[PAD]', '[PAD]', '[PAD]', '[PAD]', '[PAD]', '[PAD]', '[CLS]', 'following', 'wang', 'et', 'al', '.', '[SEP]', '[PAD]', '[PAD]', '[PAD]', '[PAD]', '[PAD]', '[PAD]', '[PAD]', '[PAD]', '[PAD]', '[PAD]', '[PAD]', '[PAD]', '[PAD]', '[PAD]', '[PAD]', '[PAD]', '[PAD]', '[PAD]', '[PAD]', '[PAD]', '[PAD]', '[PAD]', '[PAD]', '[PAD]', '[PAD]', '[PAD]', '[PAD]', '[PAD]', '[PAD]', '[PAD]', '[PAD]', '[PAD]', '[PAD]', '[PAD]', '[PAD]', '[PAD]', '[PAD]', '[PAD]', '[PAD]', '[PAD]', '[PAD]', '[PAD]', '[PAD]', '[CLS]', '[', '2010', ']', '[SEP]', '[PAD]', '[PAD]', '[PAD]', '[PAD]', '[PAD]', '[PAD]', '[PAD]', '[PAD]', '[PAD]', '[PAD]', '[PAD]', '[PAD]', '[PAD]', '[PAD]', '[PAD]', '[PAD]', '[PAD]', '[PAD]', '[PAD]', '[PAD]', '[PAD]', '[PAD]', '[PAD]', '[PAD]', '[PAD]', '[PAD]', '[PAD]', '[PAD]', '[PAD]', '[PAD]', '[PAD]', '[PAD]', '[PAD]', '[PAD]', '[PAD]', '[PAD]', '[PAD]', '[PAD]', '[PAD]', '[PAD]', '[PAD]', '[PAD]', '[PAD]', '[PAD]', '[PAD]', '[CLS]', ',', 'the', 'target', 'features', 'for', 'the', 'ankle', 'and', 'hip', 'joints', 'in', 'the', 'corona', '##l', 'plane', 'are', 'the', 'global', 'foot', 'and', 'pe', '##lvis', 'orientation', '##s', ',', 'respectively', '.', '[SEP]', '[PAD]', '[PAD]', '[PAD]', '[PAD]', '[PAD]', '[PAD]', '[PAD]', '[PAD]', '[PAD]', '[PAD]', '[PAD]', '[PAD]', '[PAD]', '[PAD]', '[PAD]', '[PAD]', '[PAD]', '[PAD]', '[PAD]', '[PAD]', '[PAD]', '[CLS]', 'the', 'corona', '##l', 'swing', 'hip', 'target', 'angles', 'follow', 'the', 'same', 'feedback', 'law', 'as', '[UNK]', 'h', '.', '[SEP]', '[PAD]', '[PAD]', '[PAD]', '[PAD]', '[PAD]', '[PAD]', '[PAD]', '[PAD]', '[PAD]', '[PAD]', '[PAD]', '[PAD]', '[PAD]', '[PAD]', '[PAD]', '[PAD]', '[PAD]', '[PAD]', '[PAD]', '[PAD]', '[PAD]', '[PAD]', '[PAD]', '[PAD]', '[PAD]', '[PAD]', '[PAD]', '[PAD]', '[PAD]', '[PAD]', '[PAD]', '[PAD]', '[CLS]', 'additionally', ',', 'we', 'set', 'the', 'toe', 'joint', 'to', 'be', 'a', 'spring', 'with', 'spring', 'constant', 'of', '30', 'nm', '/', 'ra', '##d', ',', 'target', 'angle', '0', ',', 'and', 'no', 'damp', '##ing', '.', '[SEP]', '[PAD]', '[PAD]', '[PAD]', '[PAD]', '[PAD]', '[PAD]', '[PAD]', '[PAD]', '[PAD]', '[PAD]', '[PAD]', '[PAD]', '[PAD]', '[PAD]', '[PAD]', '[PAD]', '[PAD]', '[PAD]', '[CLS]', 'unlike', 'in', 'previous', 'work', ',', 'where', 'a', 'ga', '##it', 'cycle', 'is', 'broken', 'down', 'into', 'four', 'states', ',', 'only', 'two', 'are', 'needed', '(', 'triggered', 'by', 'left', '/', 'right', 'foot', '-', 'strike', ')', 'since', 'do', '##fs', 'with', 'the', 'most', 'complex', 'activities', 'are', 'act', '##uated', 'by', 'muscles', '.', '[SEP]', '[PAD]', '[PAD]', '[PAD]']\n",
      "[0 0 0 0 0 0 0 0 0 0 0 0 0 0 0 0 0 0 0 0 0 0 0 0 0 0 0 0 0 0 0 0 0 0 0 0 0\n",
      " 0 0 0 0 0 0 0 0 0 0 0 0 0]\n",
      "[-100    0    0    0    0    0 -100 -100 -100 -100 -100 -100 -100 -100\n",
      " -100 -100 -100 -100 -100 -100 -100 -100 -100 -100 -100 -100 -100 -100\n",
      " -100 -100 -100 -100 -100 -100 -100 -100 -100 -100 -100 -100 -100 -100\n",
      " -100 -100 -100 -100 -100 -100 -100 -100]\n",
      "\n",
      "['[CLS]', 'our', 'upper', 'body', 'control', 'also', 'largely', 'follows', '[SEP]', '[PAD]', '[PAD]', '[PAD]', '[PAD]', '[PAD]', '[PAD]', '[PAD]', '[PAD]', '[PAD]', '[PAD]', '[PAD]', '[PAD]', '[PAD]', '[PAD]', '[PAD]', '[PAD]', '[PAD]', '[PAD]', '[PAD]', '[PAD]', '[PAD]', '[PAD]', '[PAD]', '[PAD]', '[PAD]', '[PAD]', '[PAD]', '[PAD]', '[PAD]', '[PAD]', '[PAD]', '[PAD]', '[PAD]', '[PAD]', '[PAD]', '[PAD]', '[PAD]', '[PAD]', '[PAD]', '[PAD]', '[PAD]', '[CLS]', 'wang', 'et', 'al', '.', '[SEP]', '[PAD]', '[PAD]', '[PAD]', '[PAD]', '[PAD]', '[PAD]', '[PAD]', '[PAD]', '[PAD]', '[PAD]', '[PAD]', '[PAD]', '[PAD]', '[PAD]', '[PAD]', '[PAD]', '[PAD]', '[PAD]', '[PAD]', '[PAD]', '[PAD]', '[PAD]', '[PAD]', '[PAD]', '[PAD]', '[PAD]', '[PAD]', '[PAD]', '[PAD]', '[PAD]', '[PAD]', '[PAD]', '[PAD]', '[PAD]', '[PAD]', '[PAD]', '[PAD]', '[PAD]', '[PAD]', '[PAD]', '[PAD]', '[PAD]', '[PAD]', '[PAD]', '[CLS]', '[', '2010', ']', '[SEP]', '[PAD]', '[PAD]', '[PAD]', '[PAD]', '[PAD]', '[PAD]', '[PAD]', '[PAD]', '[PAD]', '[PAD]', '[PAD]', '[PAD]', '[PAD]', '[PAD]', '[PAD]', '[PAD]', '[PAD]', '[PAD]', '[PAD]', '[PAD]', '[PAD]', '[PAD]', '[PAD]', '[PAD]', '[PAD]', '[PAD]', '[PAD]', '[PAD]', '[PAD]', '[PAD]', '[PAD]', '[PAD]', '[PAD]', '[PAD]', '[PAD]', '[PAD]', '[PAD]', '[PAD]', '[PAD]', '[PAD]', '[PAD]', '[PAD]', '[PAD]', '[PAD]', '[PAD]', '[CLS]', ',', 'with', 'the', 'exception', 'that', 'the', 'target', 'feature', 'of', 'our', 'back', 'joint', 'in', 'the', 'corona', '##l', 'plane', 'is', 'the', 'global', 'orientation', 'of', 'the', 'torso', 'instead', 'of', 'the', 'local', 'joint', 'angle', 'between', 'the', 'torso', 'and', 'the', 'pe', '##lvis', '.', '[SEP]', '[PAD]', '[PAD]', '[PAD]', '[PAD]', '[PAD]', '[PAD]', '[PAD]', '[PAD]', '[PAD]', '[PAD]', '[CLS]', 'this', 'global', 'target', 'allows', 'our', 'model', 'to', 'better', 'keep', 'the', 'head', 'upright', 'during', 'loco', '##mot', '##ion', '.', '[SEP]', '[PAD]', '[PAD]', '[PAD]', '[PAD]', '[PAD]', '[PAD]', '[PAD]', '[PAD]', '[PAD]', '[PAD]', '[PAD]', '[PAD]', '[PAD]', '[PAD]', '[PAD]', '[PAD]', '[PAD]', '[PAD]', '[PAD]', '[PAD]', '[PAD]', '[PAD]', '[PAD]', '[PAD]', '[PAD]', '[PAD]', '[PAD]', '[PAD]', '[PAD]', '[PAD]', '[PAD]', '[CLS]', 'we', 'fix', 'the', 'spring', 'and', 'damp', '##er', 'constant', '##s', 'for', 'all', 'arm', 'joints', 'to', '30', 'nm', '/', 'ra', '##d', 'and', '3', 'nm', '##s', '/', 'ra', '##d', ',', 'respectively', ',', 'with', 'target', 'angles', 'set', 'to', '0', '.', '[SEP]', '[PAD]', '[PAD]', '[PAD]', '[PAD]', '[PAD]', '[PAD]', '[PAD]', '[PAD]', '[PAD]', '[PAD]', '[PAD]', '[PAD]', '[CLS]', 'we', 'found', 'that', 'more', 'human', '-', 'like', 'arm', 'swing', 'can', 'be', 'generated', 'by', 'relating', 'the', 'elbow', 'and', 'shoulder', 'target', 'angles', 'as', '[UNK]', 's', 'l', '=', 'i', '##±', 'arm', '[UNK]', 'h', 'l', 'a', '[UNK]', 'h', 'r', '+', '[UNK]', 'e', 'd', 'and', 'i', 'l', 's', '=', '[UNK]', 'e', 'd', ',', '[SEP]', '[CLS]', 'this', 'formulation', 'captures', 'the', 'tendency', 'to', 'rotate', 'the', 'shoulder', 'backwards', 'and', 'inward', '##s', 'while', 'bending', 'the', 'elbow', '.', '[SEP]', '[PAD]', '[PAD]', '[PAD]', '[PAD]', '[PAD]', '[PAD]', '[PAD]', '[PAD]', '[PAD]', '[PAD]', '[PAD]', '[PAD]', '[PAD]', '[PAD]', '[PAD]', '[PAD]', '[PAD]', '[PAD]', '[PAD]', '[PAD]', '[PAD]', '[PAD]', '[PAD]', '[PAD]', '[PAD]', '[PAD]', '[PAD]', '[PAD]', '[PAD]', '[PAD]']\n",
      "[0 0 0 0 0 0 0 0 0 0 0 0 0 0 0 0 0 0 0 0 0 0 0 0 0 0 0 0 0 0 0 0 0 0 0 0 0\n",
      " 0 0 0 0 0 0 0 0 0 0 0 0 0]\n",
      "[-100    0    0 -100 -100 -100 -100 -100 -100 -100 -100 -100 -100 -100\n",
      " -100 -100 -100 -100 -100 -100 -100 -100 -100 -100 -100 -100 -100 -100\n",
      " -100 -100 -100 -100 -100 -100 -100 -100 -100 -100 -100 -100 -100 -100\n",
      " -100 -100 -100 -100 -100 -100 -100 -100]\n",
      "\n",
      "['[CLS]', 'the', 'scale', 'constant', 'and', 'the', 'desired', 'elbow', 'angle', 'are', 'among', 'the', 'parameters', 'set', 'by', 'optimization', ',', 'as', 'described', 'in', 'the', 'next', 'section', '.', '[SEP]', '[PAD]', '[PAD]', '[PAD]', '[PAD]', '[PAD]', '[PAD]', '[PAD]', '[PAD]', '[PAD]', '[PAD]', '[PAD]', '[PAD]', '[PAD]', '[PAD]', '[PAD]', '[PAD]', '[PAD]', '[PAD]', '[PAD]', '[PAD]', '[PAD]', '[PAD]', '[PAD]', '[PAD]', '[PAD]', '[CLS]', '<', 'h', '##1', '>', '5', 'optimization', '<', '/', 'h', '##1', '>', '[SEP]', '[PAD]', '[PAD]', '[PAD]', '[PAD]', '[PAD]', '[PAD]', '[PAD]', '[PAD]', '[PAD]', '[PAD]', '[PAD]', '[PAD]', '[PAD]', '[PAD]', '[PAD]', '[PAD]', '[PAD]', '[PAD]', '[PAD]', '[PAD]', '[PAD]', '[PAD]', '[PAD]', '[PAD]', '[PAD]', '[PAD]', '[PAD]', '[PAD]', '[PAD]', '[PAD]', '[PAD]', '[PAD]', '[PAD]', '[PAD]', '[PAD]', '[PAD]', '[PAD]', '[CLS]', 'the', 'control', 'algorithm', 'specified', 'in', 'section', '4', 'has', 'a', 'large', 'number', 'of', 'parameters', ',', 'which', 'we', 'set', 'by', 'optimization', '[SEP]', '[PAD]', '[PAD]', '[PAD]', '[PAD]', '[PAD]', '[PAD]', '[PAD]', '[PAD]', '[PAD]', '[PAD]', '[PAD]', '[PAD]', '[PAD]', '[PAD]', '[PAD]', '[PAD]', '[PAD]', '[PAD]', '[PAD]', '[PAD]', '[PAD]', '[PAD]', '[PAD]', '[PAD]', '[PAD]', '[PAD]', '[PAD]', '[PAD]', '[PAD]', '[CLS]', '[', 'wang', 'et', 'al', '.', '[SEP]', '[PAD]', '[PAD]', '[PAD]', '[PAD]', '[PAD]', '[PAD]', '[PAD]', '[PAD]', '[PAD]', '[PAD]', '[PAD]', '[PAD]', '[PAD]', '[PAD]', '[PAD]', '[PAD]', '[PAD]', '[PAD]', '[PAD]', '[PAD]', '[PAD]', '[PAD]', '[PAD]', '[PAD]', '[PAD]', '[PAD]', '[PAD]', '[PAD]', '[PAD]', '[PAD]', '[PAD]', '[PAD]', '[PAD]', '[PAD]', '[PAD]', '[PAD]', '[PAD]', '[PAD]', '[PAD]', '[PAD]', '[PAD]', '[PAD]', '[PAD]', '[CLS]', '2010', ']', '.', '[SEP]', '[PAD]', '[PAD]', '[PAD]', '[PAD]', '[PAD]', '[PAD]', '[PAD]', '[PAD]', '[PAD]', '[PAD]', '[PAD]', '[PAD]', '[PAD]', '[PAD]', '[PAD]', '[PAD]', '[PAD]', '[PAD]', '[PAD]', '[PAD]', '[PAD]', '[PAD]', '[PAD]', '[PAD]', '[PAD]', '[PAD]', '[PAD]', '[PAD]', '[PAD]', '[PAD]', '[PAD]', '[PAD]', '[PAD]', '[PAD]', '[PAD]', '[PAD]', '[PAD]', '[PAD]', '[PAD]', '[PAD]', '[PAD]', '[PAD]', '[PAD]', '[PAD]', '[PAD]', '[CLS]', 'more', 'specifically', ',', 'each', 'of', 'the', 'u', 'm', 'f', ',', 'u', 'm', 'l', ',', 'and', 'u', 'm', '[UNK]', 'laws', 'have', 'one', ',', 'two', ',', 'and', 'three', 'parameters', ',', 'respectively', '.', '[SEP]', '[PAD]', '[PAD]', '[PAD]', '[PAD]', '[PAD]', '[PAD]', '[PAD]', '[PAD]', '[PAD]', '[PAD]', '[PAD]', '[PAD]', '[PAD]', '[PAD]', '[PAD]', '[PAD]', '[PAD]', '[PAD]', '[CLS]', 'there', 'are', '56', 'parameters', 'in', 'total', '(', '30', 'stance', ',', '26', 'swing', ')', 'for', 'the', 'mt', '##u', 'control', 'laws', '.', '[SEP]', '[PAD]', '[PAD]', '[PAD]', '[PAD]', '[PAD]', '[PAD]', '[PAD]', '[PAD]', '[PAD]', '[PAD]', '[PAD]', '[PAD]', '[PAD]', '[PAD]', '[PAD]', '[PAD]', '[PAD]', '[PAD]', '[PAD]', '[PAD]', '[PAD]', '[PAD]', '[PAD]', '[PAD]', '[PAD]', '[PAD]', '[PAD]', '[PAD]', '[CLS]', 'for', 'the', 'upper', 'body', 'and', 'the', 'non', '-', 'sa', '##git', '##tal', 'do', '##fs', 'in', 'the', 'lower', 'body', ',', 'we', 'opt', '##imi', '##ze', 'the', 'pd', '##con', '##tro', '##l', 'parameters', '(', 'spring', '-', 'damp', '##er', 'constant', '##s', ',', 'target', 'angle', ',', 'balance', 'feedback', ')', 'for', 'all', 'joints', 'except', 'for', 'arms', '[SEP]']\n",
      "[0 0 0 0 0 0 0 0 0 0 0 0 0 0 0 0 0 0 0 0 0 0 0 0 0 0 0 0 0 0 0 0 0 0 0 0 0\n",
      " 0 0 0 0 0 0 0 0 0 0 0 0 0]\n",
      "[-100    0    0    1    1    1    1    1    0 -100 -100 -100 -100 -100\n",
      " -100 -100 -100 -100 -100 -100 -100 -100 -100 -100 -100 -100 -100 -100\n",
      " -100 -100 -100 -100 -100 -100 -100 -100 -100 -100 -100 -100 -100 -100\n",
      " -100 -100 -100 -100 -100 -100 -100 -100]\n",
      "\n",
      "['[CLS]', 'when', 'combined', 'with', '33', 'free', 'parameters', 'describing', 'the', 'initial', 'state', 'of', 'the', 'simulation', ',', '124', 'parameters', '(', 'w', ')', 'fully', 'define', 'a', 'simulated', 'motion', '{', 's', '1', '.', '[SEP]', '[PAD]', '[PAD]', '[PAD]', '[PAD]', '[PAD]', '[PAD]', '[PAD]', '[PAD]', '[PAD]', '[PAD]', '[PAD]', '[PAD]', '[PAD]', '[PAD]', '[PAD]', '[PAD]', '[PAD]', '[PAD]', '[PAD]', '[PAD]', '[CLS]', '.', 's', 't', '}', 'over', 't', 'times', '##te', '##ps', '.', '[SEP]', '[PAD]', '[PAD]', '[PAD]', '[PAD]', '[PAD]', '[PAD]', '[PAD]', '[PAD]', '[PAD]', '[PAD]', '[PAD]', '[PAD]', '[PAD]', '[PAD]', '[PAD]', '[PAD]', '[PAD]', '[PAD]', '[PAD]', '[PAD]', '[PAD]', '[PAD]', '[PAD]', '[PAD]', '[PAD]', '[PAD]', '[PAD]', '[PAD]', '[PAD]', '[PAD]', '[PAD]', '[PAD]', '[PAD]', '[PAD]', '[PAD]', '[PAD]', '[PAD]', '[PAD]', '[CLS]', 'we', 'opt', '##imi', '##ze', 'control', 'parameters', 'and', 'the', 'initial', 'state', 'using', 'co', '##var', '##iance', 'matrix', 'adaptation', '(', 'cm', '##a', ')', '[SEP]', '[PAD]', '[PAD]', '[PAD]', '[PAD]', '[PAD]', '[PAD]', '[PAD]', '[PAD]', '[PAD]', '[PAD]', '[PAD]', '[PAD]', '[PAD]', '[PAD]', '[PAD]', '[PAD]', '[PAD]', '[PAD]', '[PAD]', '[PAD]', '[PAD]', '[PAD]', '[PAD]', '[PAD]', '[PAD]', '[PAD]', '[PAD]', '[PAD]', '[CLS]', '[', 'hansen', '2006', ']', ',', 'with', 'steps', '##ize', 'i', '=', '0', '.', '00', '##5', 'and', '50', 'samples', 'per', 'iteration', '.', '[SEP]', '[PAD]', '[PAD]', '[PAD]', '[PAD]', '[PAD]', '[PAD]', '[PAD]', '[PAD]', '[PAD]', '[PAD]', '[PAD]', '[PAD]', '[PAD]', '[PAD]', '[PAD]', '[PAD]', '[PAD]', '[PAD]', '[PAD]', '[PAD]', '[PAD]', '[PAD]', '[PAD]', '[PAD]', '[PAD]', '[PAD]', '[PAD]', '[PAD]', '[CLS]', 'the', 'optimization', 'aims', 'to', 'maximize', 'the', 'following', 'return', 'function', ':', 't', 'r', '(', 'w', ')', '=', 'r', '(', 's', 't', ')', 'a', 'w', 'e', 'j', 'effort', '.', '[SEP]', '[PAD]', '[PAD]', '[PAD]', '[PAD]', '[PAD]', '[PAD]', '[PAD]', '[PAD]', '[PAD]', '[PAD]', '[PAD]', '[PAD]', '[PAD]', '[PAD]', '[PAD]', '[PAD]', '[PAD]', '[PAD]', '[PAD]', '[PAD]', '[PAD]', '[CLS]', 't', '=', '1', 'here', 'r', 'is', 'a', 'scala', '##r', 'reward', 'function', 'of', 'the', 'current', 'state', 's', 't', ',', 'j', 'effort', 'measures', 'the', 'effort', 'of', 'the', 'synthesized', 'motion', ',', 'and', 'w', 'e', 'is', 'set', 'to', '0', '.', '00', '##4', 'divided', 'by', 'the', 'mass', 'of', 'the', 'model', ',', 'motivated', 'by', '[SEP]', '[CLS]', 'wang', 'et', 'al', '.', '[SEP]', '[PAD]', '[PAD]', '[PAD]', '[PAD]', '[PAD]', '[PAD]', '[PAD]', '[PAD]', '[PAD]', '[PAD]', '[PAD]', '[PAD]', '[PAD]', '[PAD]', '[PAD]', '[PAD]', '[PAD]', '[PAD]', '[PAD]', '[PAD]', '[PAD]', '[PAD]', '[PAD]', '[PAD]', '[PAD]', '[PAD]', '[PAD]', '[PAD]', '[PAD]', '[PAD]', '[PAD]', '[PAD]', '[PAD]', '[PAD]', '[PAD]', '[PAD]', '[PAD]', '[PAD]', '[PAD]', '[PAD]', '[PAD]', '[PAD]', '[PAD]', '[PAD]', '[CLS]', '[', '2010', ']', '.', '[SEP]', '[PAD]', '[PAD]', '[PAD]', '[PAD]', '[PAD]', '[PAD]', '[PAD]', '[PAD]', '[PAD]', '[PAD]', '[PAD]', '[PAD]', '[PAD]', '[PAD]', '[PAD]', '[PAD]', '[PAD]', '[PAD]', '[PAD]', '[PAD]', '[PAD]', '[PAD]', '[PAD]', '[PAD]', '[PAD]', '[PAD]', '[PAD]', '[PAD]', '[PAD]', '[PAD]', '[PAD]', '[PAD]', '[PAD]', '[PAD]', '[PAD]', '[PAD]', '[PAD]', '[PAD]', '[PAD]', '[PAD]', '[PAD]', '[PAD]', '[PAD]', '[PAD]']\n",
      "[0 0 0 0 0 0 0 0 0 0 0 0 0 0 0 0 0 0 0 0 0 0 0 0 0 0 0 0 0 0 0 0 0 0 0 0 0\n",
      " 0 0 0 0 0 0 0 0 0 0 0 0 0]\n",
      "[-100    1    1    1    1 -100 -100 -100    1 -100 -100    1    1    1\n",
      "    1    1    1    1    1    1    1    1    1    1    1    1 -100 -100\n",
      " -100 -100 -100 -100 -100 -100 -100 -100 -100 -100 -100 -100 -100 -100\n",
      " -100 -100 -100 -100 -100 -100 -100 -100]\n",
      "\n"
     ]
    },
    {
     "name": "stderr",
     "output_type": "stream",
     "text": [
      "Iteration: 100%|██████████| 4153/4153 [12:04<00:00,  5.87it/s]\n",
      "Iteration:   0%|          | 1/4153 [00:00<12:08,  5.70it/s]"
     ]
    },
    {
     "name": "stdout",
     "output_type": "stream",
     "text": [
      "['[CLS]', 'g', 'm', 'and', 'h', 'm', 'are', 'free', 'positive', 'parameters', 'and', '{', '}', 'a', '##±', 'means', 'only', 'positive', 'or', 'negative', 'values', '(', '0', 'otherwise', ')', '.', '[SEP]', '[PAD]', '[PAD]', '[PAD]', '[PAD]', '[PAD]', '[PAD]', '[PAD]', '[PAD]', '[PAD]', '[PAD]', '[PAD]', '[PAD]', '[PAD]', '[PAD]', '[PAD]', '[PAD]', '[PAD]', '[PAD]', '[PAD]', '[PAD]', '[PAD]', '[PAD]', '[PAD]', '[CLS]', 'the', 'positive', 'length', 'feedback', 'effectively', 'models', 'a', 'stretch', 'reflex', ',', 'which', 'activate', '##s', 'the', 'muscle', 'when', 'the', 'fiber', 'is', 'stretched', 'beyond', 'a', 'fixed', 'length', '.', '[SEP]', '[PAD]', '[PAD]', '[PAD]', '[PAD]', '[PAD]', '[PAD]', '[PAD]', '[PAD]', '[PAD]', '[PAD]', '[PAD]', '[PAD]', '[PAD]', '[PAD]', '[PAD]', '[PAD]', '[PAD]', '[PAD]', '[PAD]', '[PAD]', '[PAD]', '[PAD]', '[PAD]', '[CLS]', 'u', 'l', 'm', 'is', 'most', 'useful', 'during', 'the', 'swing', 'phase', ',', 'as', 'the', 'ta', 'must', 'be', 'activated', 'to', 'do', '##rs', '##if', '##le', '##x', 'so', 'that', 'toe', '-', 'stu', '##bbing', 'can', 'be', 'avoided', '.', '[SEP]', '[PAD]', '[PAD]', '[PAD]', '[PAD]', '[PAD]', '[PAD]', '[PAD]', '[PAD]', '[PAD]', '[PAD]', '[PAD]', '[PAD]', '[PAD]', '[PAD]', '[PAD]', '[CLS]', 'in', 'addition', ',', 'the', 'h', '##fl', 'relies', 'on', 'length', 'feedback', 'to', 'generate', 'hip', 'flex', '##ion', 'torque', 'during', 'early', 'swing', ',', 'especially', 'during', 'running', '.', '[SEP]', '[PAD]', '[PAD]', '[PAD]', '[PAD]', '[PAD]', '[PAD]', '[PAD]', '[PAD]', '[PAD]', '[PAD]', '[PAD]', '[PAD]', '[PAD]', '[PAD]', '[PAD]', '[PAD]', '[PAD]', '[PAD]', '[PAD]', '[PAD]', '[PAD]', '[PAD]', '[PAD]', '[PAD]', '[CLS]', 'muscle', '-', 'driven', 'pd', 'control', '.', '[SEP]', '[PAD]', '[PAD]', '[PAD]', '[PAD]', '[PAD]', '[PAD]', '[PAD]', '[PAD]', '[PAD]', '[PAD]', '[PAD]', '[PAD]', '[PAD]', '[PAD]', '[PAD]', '[PAD]', '[PAD]', '[PAD]', '[PAD]', '[PAD]', '[PAD]', '[PAD]', '[PAD]', '[PAD]', '[PAD]', '[PAD]', '[PAD]', '[PAD]', '[PAD]', '[PAD]', '[PAD]', '[PAD]', '[PAD]', '[PAD]', '[PAD]', '[PAD]', '[PAD]', '[PAD]', '[PAD]', '[PAD]', '[PAD]', '[PAD]', '[CLS]', 'we', 'also', 'define', 'a', 'muscle', '-', 'driven', 'pd', 'control', 'law', 'with', 'respect', 'to', 'an', 'angular', 'feature', '[UNK]', 'as', 'where', 'k', 'm', ',', 'd', 'm', ',', '[UNK]', 'm', 'are', 'free', 'parameters', 'of', 'the', 'pd', '-', 'controller', '.', '[SEP]', '[PAD]', '[PAD]', '[PAD]', '[PAD]', '[PAD]', '[PAD]', '[PAD]', '[PAD]', '[PAD]', '[PAD]', '[PAD]', '[PAD]', '[CLS]', 'the', 'brace', '##s', 'sign', 'is', 'positive', 'if', 'torque', 'generated', 'by', 'm', 'is', 'in', 'the', 'opposing', 'direction', 'of', '[UNK]', '.', 'g', '.', ',', 'if', 'm', 'is', 'the', 'hip', 'ex', '##tens', '##or', 'and', '[UNK]', 'is', 'the', 'hip', 'flex', '##ion', 'angle', '##aan', '##d', 'negative', 'otherwise', '.', '[SEP]', '[PAD]', '[PAD]', '[PAD]', '[PAD]', '[PAD]', '[CLS]', 'much', 'like', 'the', 'standard', 'torque', '##base', '##d', 'pd', '-', 'controller', ',', 'the', 'muscle', '-', 'driven', 'pd', 'control', 'aims', 'to', 'adjust', '[UNK]', 'towards', 'the', 'target', 'angle', '[UNK]', 'm', 'while', 'damp', '##ing', 'its', 'velocity', '.', '[SEP]', '[PAD]', '[PAD]', '[PAD]', '[PAD]', '[PAD]', '[PAD]', '[PAD]', '[PAD]', '[PAD]', '[PAD]', '[PAD]', '[PAD]', '[PAD]', '[PAD]', '[PAD]']\n",
      "[0 0 0 0 0 0 0 0 0 0 0 0 0 0 0 0 0 0 0 0 0 0 0 0 0 0 0 0 0 0 0 0 0 0 0 0 0\n",
      " 0 0 0 0 0 0 0 0 0 0 0 0 0]\n",
      "[-100    1    1    1 -100    1    1    1    1    1    1    1    1    1\n",
      "    1    1    1    1    1    1 -100 -100    1    1    1    1    0    0\n",
      "    1    1    1    1 -100    1 -100    1    1 -100    1    1    0    0\n",
      "    0    0    0 -100 -100 -100 -100 -100]\n",
      "\n",
      "['[CLS]', 'however', ',', 'unlike', 'the', 'standard', 'pd', '-', 'controller', ',', 'muscles', 'can', 'only', 'activate', 'after', 'a', 'time', '-', 'delay', 'and', 'each', 'muscle', 'can', 'only', 'generate', 'forces', 'to', 'rotate', 'the', 'angular', 'do', '##f', 'in', 'one', 'direction', '.', '[SEP]', '[PAD]', '[PAD]', '[PAD]', '[PAD]', '[PAD]', '[PAD]', '[PAD]', '[PAD]', '[PAD]', '[PAD]', '[PAD]', '[PAD]', '[PAD]', '[CLS]', 'the', 'pd', '-', 'control', 'laws', 'are', 'employed', 'by', 'the', 'hip', 'muscles', 'during', 'the', 'stance', 'phase', 'to', 'maintain', 'the', 'global', 'upper', 'body', 'orientation', ',', 'as', 'well', 'as', 'during', 'stance', 'preparation', 'to', 'prepare', 'for', 'ground', 'contact', '.', '[SEP]', '[PAD]', '[PAD]', '[PAD]', '[PAD]', '[PAD]', '[PAD]', '[PAD]', '[PAD]', '[PAD]', '[PAD]', '[PAD]', '[PAD]', '[PAD]', '[CLS]', 'u', 'm', '[UNK]', '=', 'k', 'm', '(', '[UNK]', '(', 't', 'a', 'at', 'm', ')', 'a', '[UNK]', 'm', ')', '+', 'd', 'm', '[UNK]', '(', 't', 'i', 'a', 'at', 'm', ')', ',', 'a', '##±', '[SEP]', '[PAD]', '[PAD]', '[PAD]', '[PAD]', '[PAD]', '[PAD]', '[PAD]', '[PAD]', '[PAD]', '[PAD]', '[PAD]', '[PAD]', '[PAD]', '[PAD]', '[PAD]', '[PAD]', '[CLS]', '<', 'h', '##2', '>', '4', '.', '2', 'stance', 'phase', '<', '/', 'h', '##2', '>', '[SEP]', '[PAD]', '[PAD]', '[PAD]', '[PAD]', '[PAD]', '[PAD]', '[PAD]', '[PAD]', '[PAD]', '[PAD]', '[PAD]', '[PAD]', '[PAD]', '[PAD]', '[PAD]', '[PAD]', '[PAD]', '[PAD]', '[PAD]', '[PAD]', '[PAD]', '[PAD]', '[PAD]', '[PAD]', '[PAD]', '[PAD]', '[PAD]', '[PAD]', '[PAD]', '[PAD]', '[PAD]', '[PAD]', '[PAD]', '[PAD]', '[CLS]', 'each', 'muscle', 'has', 'an', 'initial', 'constant', 'ex', '##cit', '##ation', ',', 'or', 'pre', '-', 'stimulation', 'value', 'p', 'm', '.', '[SEP]', '[PAD]', '[PAD]', '[PAD]', '[PAD]', '[PAD]', '[PAD]', '[PAD]', '[PAD]', '[PAD]', '[PAD]', '[PAD]', '[PAD]', '[PAD]', '[PAD]', '[PAD]', '[PAD]', '[PAD]', '[PAD]', '[PAD]', '[PAD]', '[PAD]', '[PAD]', '[PAD]', '[PAD]', '[PAD]', '[PAD]', '[PAD]', '[PAD]', '[PAD]', '[PAD]', '[CLS]', 'these', 'values', 'are', 'initial', '##ized', 'close', 'to', 'zero', ',', 'but', 'are', 'then', 'opt', '##imi', '##zed', '.', '[SEP]', '[PAD]', '[PAD]', '[PAD]', '[PAD]', '[PAD]', '[PAD]', '[PAD]', '[PAD]', '[PAD]', '[PAD]', '[PAD]', '[PAD]', '[PAD]', '[PAD]', '[PAD]', '[PAD]', '[PAD]', '[PAD]', '[PAD]', '[PAD]', '[PAD]', '[PAD]', '[PAD]', '[PAD]', '[PAD]', '[PAD]', '[PAD]', '[PAD]', '[PAD]', '[PAD]', '[PAD]', '[PAD]', '[CLS]', 'the', 'sol', 'and', 'gas', 'both', 'rely', 'on', 'positive', 'force', 'feedback', 'and', 'are', 'the', 'main', 'sources', 'of', 'torque', 'during', 'walking', '.', '[SEP]', '[PAD]', '[PAD]', '[PAD]', '[PAD]', '[PAD]', '[PAD]', '[PAD]', '[PAD]', '[PAD]', '[PAD]', '[PAD]', '[PAD]', '[PAD]', '[PAD]', '[PAD]', '[PAD]', '[PAD]', '[PAD]', '[PAD]', '[PAD]', '[PAD]', '[PAD]', '[PAD]', '[PAD]', '[PAD]', '[PAD]', '[PAD]', '[PAD]', '[CLS]', 'the', 'ta', 'ensures', 'foot', 'clearance', 'during', 'swing', 'using', 'a', 'length', 'feedback', '(', 'u', 'l', 'ta', ')', ',', 'but', 'the', 'activation', 'is', 'suppressed', 'during', 'stance', 'in', 'proportion', 'to', 'the', 'current', 'force', 'generated', 'from', 'sol', '.', '[SEP]', '[PAD]', '[PAD]', '[PAD]', '[PAD]', '[PAD]', '[PAD]', '[PAD]', '[PAD]', '[PAD]', '[PAD]', '[PAD]', '[PAD]', '[PAD]', '[PAD]']\n",
      "[0 0 0 0 0 0 0 0 0 0 0 0 0 0 0 0 0 0 0 0 0 0 0 0 0 0 0 0 0 0 0 0 0 0 0 0 0\n",
      " 0 0 0 0 0 0 0 0 0 0 0 0 0]\n",
      "[-100    1    1    1    1    1    1    1    1    1    1    1    1    1\n",
      "    1    1    0 -100 -100 -100 -100 -100 -100 -100 -100 -100 -100 -100\n",
      " -100 -100 -100 -100 -100 -100 -100 -100 -100 -100 -100 -100 -100 -100\n",
      " -100 -100 -100 -100 -100 -100 -100 -100]\n",
      "\n",
      "['[CLS]', 'the', 'suppression', 'allows', 'the', 'generated', 'ta', 'activation', 'patterns', 'to', 'better', 'match', 'human', 'data', 'during', 'loco', '##mot', '##ion', '.', '[SEP]', '[PAD]', '[PAD]', '[PAD]', '[PAD]', '[PAD]', '[PAD]', '[PAD]', '[PAD]', '[PAD]', '[PAD]', '[PAD]', '[PAD]', '[PAD]', '[PAD]', '[PAD]', '[PAD]', '[PAD]', '[PAD]', '[PAD]', '[PAD]', '[PAD]', '[PAD]', '[PAD]', '[PAD]', '[PAD]', '[PAD]', '[PAD]', '[PAD]', '[PAD]', '[PAD]', '[CLS]', 'the', 'force', 'feedback', 'on', 'the', 'va', '##s', 'creates', 'a', 'strong', 'knee', 'extension', 'torque', 'following', 'ground', 'contact', ',', 'but', 'ex', '##cit', '##ation', 'is', 'suppressed', 'when', 'the', 'knee', 'flex', '##ion', 'angle', '(', '[UNK]', 'k', ')', 'is', 'extended', 'below', 'an', 'offset', '(', '[UNK]', 'k', 'off', ')', 'with', 'an', 'extension', 'velocity', '(', '[SEP]', '[CLS]', 'the', 'suppression', 'prevents', 'hyper', '##ex', '##tension', 'of', 'the', 'knee', 'during', 'mid', '-', 'stance', '.', '[SEP]', '[PAD]', '[PAD]', '[PAD]', '[PAD]', '[PAD]', '[PAD]', '[PAD]', '[PAD]', '[PAD]', '[PAD]', '[PAD]', '[PAD]', '[PAD]', '[PAD]', '[PAD]', '[PAD]', '[PAD]', '[PAD]', '[PAD]', '[PAD]', '[PAD]', '[PAD]', '[PAD]', '[PAD]', '[PAD]', '[PAD]', '[PAD]', '[PAD]', '[PAD]', '[PAD]', '[PAD]', '[PAD]', '[PAD]', '[PAD]', '[CLS]', 'using', 'muscle', '-', 'driven', 'pd', 'control', 'laws', ',', 'the', 'ham', ',', 'g', '##lu', ',', 'and', 'h', '##fl', 'are', 'responsible', 'for', 'maintaining', 'the', 'global', 'orientation', 'of', 'the', 'upper', 'body', '(', 'i', ')', ',', 'defined', 'as', 'the', 'vector', 'between', 'the', 'com', 'of', 'the', 'upper', 'body', 'and', 'the', 'com', 'of', 'the', '[SEP]', '[CLS]', 'during', 'double', 'stance', ',', 'these', 'control', 'laws', 'are', 'only', 'active', 'for', 'the', 'leading', 'leg', ',', 'denoted', 'as', 'u', 'i', 'm', 'lead', '.', '[SEP]', '[PAD]', '[PAD]', '[PAD]', '[PAD]', '[PAD]', '[PAD]', '[PAD]', '[PAD]', '[PAD]', '[PAD]', '[PAD]', '[PAD]', '[PAD]', '[PAD]', '[PAD]', '[PAD]', '[PAD]', '[PAD]', '[PAD]', '[PAD]', '[PAD]', '[PAD]', '[PAD]', '[PAD]', '[PAD]', '[PAD]', '[CLS]', 'specifically', ',', 'control', 'laws', 'during', 'the', 'stance', 'phase', 'are', 'as', 'follows', ':', 'towards', 'the', 'end', 'of', 'the', 'stance', 'phase', ',', 'the', 'controller', 'enters', 'into', 'the', 'swing', 'initiation', ',', 'which', 'begins', 'when', 'either', 'the', 'signed', 'horizontal', 'distance', 'between', 'the', 'com', 'and', 'the', 'ankle', 'normal', '##ized', 'by', 'leg', 'length', 'exceeds', '[SEP]', '[CLS]', 'during', 'swing', 'initiation', ',', 'constant', 'ex', '##cit', '##ation', 'values', 'between', '0', 'and', '1', '(', 'set', 'during', 'optimization', ')', 'are', 'added', 'and', 'sub', '##tracted', 'to', 'the', 'va', '##s', ',', 'rf', ',', 'g', '##lu', ',', 'and', 'h', '##fl', ':', 'the', 'combination', 'of', 'h', '##fl', 'and', 'g', '##lu', 'ex', '##cit', '##ations', '[SEP]', '[CLS]', 'two', 'main', 'differences', 'between', 'our', 'stance', 'phase', 'control', 'laws', 'compared', 'to', '[SEP]', '[PAD]', '[PAD]', '[PAD]', '[PAD]', '[PAD]', '[PAD]', '[PAD]', '[PAD]', '[PAD]', '[PAD]', '[PAD]', '[PAD]', '[PAD]', '[PAD]', '[PAD]', '[PAD]', '[PAD]', '[PAD]', '[PAD]', '[PAD]', '[PAD]', '[PAD]', '[PAD]', '[PAD]', '[PAD]', '[PAD]', '[PAD]', '[PAD]', '[PAD]', '[PAD]', '[PAD]', '[PAD]', '[PAD]', '[PAD]', '[PAD]', '[PAD]', '[PAD]']\n",
      "[0 0 0 0 0 0 0 0 0 0 0 0 0 0 0 0 0 0 0 0 0 0 0 0 0 0 0 0 0 0 0 0 0 0 0 0 0\n",
      " 0 0 0 0 0 0 0 0 0 0 0 0 0]\n",
      "[-100    0    0    0    1    1    1    1    1    1    1    1    1    1\n",
      "    1    1    1    1    0 -100 -100 -100 -100 -100 -100 -100 -100 -100\n",
      " -100 -100 -100 -100 -100 -100 -100 -100 -100 -100 -100 -100 -100 -100\n",
      " -100 -100 -100 -100 -100 -100 -100 -100]\n",
      "\n",
      "['[CLS]', 'ge', '##yer', 'and', 'herr', '[', '2010', ']', '[SEP]', '[PAD]', '[PAD]', '[PAD]', '[PAD]', '[PAD]', '[PAD]', '[PAD]', '[PAD]', '[PAD]', '[PAD]', '[PAD]', '[PAD]', '[PAD]', '[PAD]', '[PAD]', '[PAD]', '[PAD]', '[PAD]', '[PAD]', '[PAD]', '[PAD]', '[PAD]', '[PAD]', '[PAD]', '[PAD]', '[PAD]', '[PAD]', '[PAD]', '[PAD]', '[PAD]', '[PAD]', '[PAD]', '[PAD]', '[PAD]', '[PAD]', '[PAD]', '[PAD]', '[PAD]', '[PAD]', '[PAD]', '[PAD]', '[CLS]', 'lie', 'in', 'how', 'the', 'swing', 'initiation', 'state', 'functions', '.', '[SEP]', '[PAD]', '[PAD]', '[PAD]', '[PAD]', '[PAD]', '[PAD]', '[PAD]', '[PAD]', '[PAD]', '[PAD]', '[PAD]', '[PAD]', '[PAD]', '[PAD]', '[PAD]', '[PAD]', '[PAD]', '[PAD]', '[PAD]', '[PAD]', '[PAD]', '[PAD]', '[PAD]', '[PAD]', '[PAD]', '[PAD]', '[PAD]', '[PAD]', '[PAD]', '[PAD]', '[PAD]', '[PAD]', '[PAD]', '[PAD]', '[PAD]', '[PAD]', '[PAD]', '[PAD]', '[PAD]', '[CLS]', 'first', ',', 'for', 'running', 'we', 'found', 'it', 'necessary', 'to', 'enter', 'into', 'swing', 'initiation', 'using', 'the', 'd', 'i', '&', 'gt', ';', 'd', 'i', 'si', 'condition', ',', 'rather', 'than', 'just', 'wait', 'for', 'double', 'stance', '.', '[SEP]', '[PAD]', '[PAD]', '[PAD]', '[PAD]', '[PAD]', '[PAD]', '[PAD]', '[PAD]', '[PAD]', '[PAD]', '[PAD]', '[PAD]', '[PAD]', '[PAD]', '[PAD]', '[CLS]', 'second', ',', 'we', 'found', 'it', 'unnecessary', 'to', 'mod', '##ulate', 'the', 'muscle', '-', 'driven', 'pd', '-', 'control', 'laws', 'in', 'the', 'hip', 'by', 'ground', 'reaction', 'forces', '.', '[SEP]', '[PAD]', '[PAD]', '[PAD]', '[PAD]', '[PAD]', '[PAD]', '[PAD]', '[PAD]', '[PAD]', '[PAD]', '[PAD]', '[PAD]', '[PAD]', '[PAD]', '[PAD]', '[PAD]', '[PAD]', '[PAD]', '[PAD]', '[PAD]', '[PAD]', '[PAD]', '[PAD]', '[CLS]', 'instead', ',', 'the', 'responsibility', 'to', 'maintain', 'upper', 'body', 'orientation', 'is', 'always', 'assigned', 'to', 'the', 'lead', 'leg', '.', '[SEP]', '[PAD]', '[PAD]', '[PAD]', '[PAD]', '[PAD]', '[PAD]', '[PAD]', '[PAD]', '[PAD]', '[PAD]', '[PAD]', '[PAD]', '[PAD]', '[PAD]', '[PAD]', '[PAD]', '[PAD]', '[PAD]', '[PAD]', '[PAD]', '[PAD]', '[PAD]', '[PAD]', '[PAD]', '[PAD]', '[PAD]', '[PAD]', '[PAD]', '[PAD]', '[PAD]', '[PAD]', '[CLS]', 'u', 'sol', '=', 'p', 'sol', '+', 'u', 'sol', 'f', ',', 'u', 'ta', '=', 'p', 'ta', '+', 'u', 'ta', 'l', 'a', 'u', 'f', 'sol', ',', 'u', 'gas', '=', 'p', 'gas', '+', 'u', 'gas', 'f', ',', 'u', 'va', '##s', '=', 'p', 'va', '##s', '+', 'u', 'f', 'va', '##s', '+', 'k', '[SEP]', '[CLS]', 'u', 'va', '##s', '=', 'u', 'va', '##s', 'a', 's', 'va', '##s', ',', 'u', 'rf', '=', 'u', 'rf', '+', 's', 'rf', ',', 'u', 'g', '##lu', '=', 'u', 'g', '##lu', 'a', 's', 'g', '##lu', ',', 'u', 'h', '##fl', '=', 'u', 'h', '##fl', '+', 's', 'h', '##fl', '.', '[SEP]', '[PAD]', '[PAD]', '[PAD]', '[CLS]', '<', 'h', '##2', '>', '4', '.', '3', 'swing', 'phase', '<', '/', 'h', '##2', '>', '[SEP]', '[PAD]', '[PAD]', '[PAD]', '[PAD]', '[PAD]', '[PAD]', '[PAD]', '[PAD]', '[PAD]', '[PAD]', '[PAD]', '[PAD]', '[PAD]', '[PAD]', '[PAD]', '[PAD]', '[PAD]', '[PAD]', '[PAD]', '[PAD]', '[PAD]', '[PAD]', '[PAD]', '[PAD]', '[PAD]', '[PAD]', '[PAD]', '[PAD]', '[PAD]', '[PAD]', '[PAD]', '[PAD]', '[PAD]', '[PAD]']\n",
      "[0 0 0 0 0 0 0 0 0 0 0 0 0 0 0 0 0 0 0 0 0 0 0 0 0 0 0 0 0 0 0 0 0 0 0 0 0\n",
      " 0 0 0 0 0 0 0 0 0 0 0 0 0]\n",
      "[-100    1    1    1    1    1    1    1    1    1    1 -100    0    0\n",
      "    0    0 -100 -100    0    0 -100 -100 -100 -100 -100 -100 -100 -100\n",
      " -100 -100 -100 -100 -100 -100 -100 -100 -100 -100 -100 -100 -100 -100\n",
      " -100 -100 -100 -100 -100 -100 -100 -100]\n",
      "\n",
      "['[CLS]', 'much', 'like', 'in', 'the', 'stance', 'phase', ',', 'each', 'muscle', 'has', 'an', 'initial', 'constant', 'ex', '##cit', '##ation', 'value', '(', 'q', 'm', ')', '.', '[SEP]', '[PAD]', '[PAD]', '[PAD]', '[PAD]', '[PAD]', '[PAD]', '[PAD]', '[PAD]', '[PAD]', '[PAD]', '[PAD]', '[PAD]', '[PAD]', '[PAD]', '[PAD]', '[PAD]', '[PAD]', '[PAD]', '[PAD]', '[PAD]', '[PAD]', '[PAD]', '[PAD]', '[PAD]', '[PAD]', '[PAD]', '[CLS]', 'the', 'leg', 'motion', 'relies', 'significantly', 'on', 'passive', 'dynamics', 'during', 'the', 'swing', 'phase', '[SEP]', '[PAD]', '[PAD]', '[PAD]', '[PAD]', '[PAD]', '[PAD]', '[PAD]', '[PAD]', '[PAD]', '[PAD]', '[PAD]', '[PAD]', '[PAD]', '[PAD]', '[PAD]', '[PAD]', '[PAD]', '[PAD]', '[PAD]', '[PAD]', '[PAD]', '[PAD]', '[PAD]', '[PAD]', '[PAD]', '[PAD]', '[PAD]', '[PAD]', '[PAD]', '[PAD]', '[PAD]', '[PAD]', '[PAD]', '[PAD]', '[PAD]', '[PAD]', '[CLS]', '[', 'collins', 'et', 'al', '.', '[SEP]', '[PAD]', '[PAD]', '[PAD]', '[PAD]', '[PAD]', '[PAD]', '[PAD]', '[PAD]', '[PAD]', '[PAD]', '[PAD]', '[PAD]', '[PAD]', '[PAD]', '[PAD]', '[PAD]', '[PAD]', '[PAD]', '[PAD]', '[PAD]', '[PAD]', '[PAD]', '[PAD]', '[PAD]', '[PAD]', '[PAD]', '[PAD]', '[PAD]', '[PAD]', '[PAD]', '[PAD]', '[PAD]', '[PAD]', '[PAD]', '[PAD]', '[PAD]', '[PAD]', '[PAD]', '[PAD]', '[PAD]', '[PAD]', '[PAD]', '[PAD]', '[CLS]', '2005', ']', ',', 'as', 'most', 'muscles', 'are', 'only', 'excited', 'at', 'low', 'levels', '.', '[SEP]', '[PAD]', '[PAD]', '[PAD]', '[PAD]', '[PAD]', '[PAD]', '[PAD]', '[PAD]', '[PAD]', '[PAD]', '[PAD]', '[PAD]', '[PAD]', '[PAD]', '[PAD]', '[PAD]', '[PAD]', '[PAD]', '[PAD]', '[PAD]', '[PAD]', '[PAD]', '[PAD]', '[PAD]', '[PAD]', '[PAD]', '[PAD]', '[PAD]', '[PAD]', '[PAD]', '[PAD]', '[PAD]', '[PAD]', '[PAD]', '[PAD]', '[CLS]', 'the', 'main', 'exceptions', 'are', 'the', 'ta', ',', 'which', 'maintains', 'the', 'length', 'feedback', '(', 'u', 'l', 'ta', ')', 'to', 'avoid', 'toes', '##tub', '##bing', ',', 'and', 'the', 'ham', ',', 'which', 'is', 'activated', 'at', 'late', 'swing', 'phase', 'to', 'prevent', 'the', 'knee', 'from', 'being', 'over', '##ex', '##ten', '##ded', 'before', 'landing', '.', '[SEP]', '[PAD]', '[CLS]', 'the', 'h', '##fl', 'introduces', 'a', 'hip', 'flex', '##ion', 'torque', 'through', 'a', 'length', 'feedback', ',', 'which', 'is', 'suppressed', 'when', 'the', 'ham', 'is', 'stretched', 'in', 'during', 'late', 'swing', '.', '[SEP]', '[PAD]', '[PAD]', '[PAD]', '[PAD]', '[PAD]', '[PAD]', '[PAD]', '[PAD]', '[PAD]', '[PAD]', '[PAD]', '[PAD]', '[PAD]', '[PAD]', '[PAD]', '[PAD]', '[PAD]', '[PAD]', '[PAD]', '[PAD]', '[PAD]', '[CLS]', 'the', 'amount', 'of', 'ex', '##cit', '##ation', 'in', 'the', 'h', '##fl', 'also', 'depends', 'on', 'the', 'value', 'of', 'upper', 'body', 'lean', 'at', 'the', 'beginning', 'of', 'the', 'swing', 'phase', '(', 'i', 'lt', '##o', ')', ':', 'the', 'further', 'the', 'upper', 'body', 'leans', 'forward', 'compared', 'to', 'the', 'reference', 'lean', 'angle', '(', 'i', 'd', '[SEP]', '[CLS]', 'note', 'that', 'i', 'd', 'is', 'the', 'same', 'as', 'the', 'target', 'angle', 'in', 'u', 'i', 'h', '##fl', '.', '[SEP]', '[PAD]', '[PAD]', '[PAD]', '[PAD]', '[PAD]', '[PAD]', '[PAD]', '[PAD]', '[PAD]', '[PAD]', '[PAD]', '[PAD]', '[PAD]', '[PAD]', '[PAD]', '[PAD]', '[PAD]', '[PAD]', '[PAD]', '[PAD]', '[PAD]', '[PAD]', '[PAD]', '[PAD]', '[PAD]', '[PAD]', '[PAD]', '[PAD]', '[PAD]', '[PAD]', '[PAD]']\n",
      "[0 0 0 0 0 0 0 0 0 0 0 0 0 0 0 0 0 0 0 0 0 0 0 0 0 0 0 0 0 0 0 0 0 0 0 0 0\n",
      " 0 0 0 0 0 0 0 0 0 0 0 0 0]\n",
      "[-100    0    0    1    1    1    1    1    1    1    1    1    1    1\n",
      "    1 -100    1    1    1    1    1    1    1    1    1    0 -100 -100\n",
      " -100 -100 -100 -100 -100 -100 -100 -100 -100 -100 -100 -100 -100 -100\n",
      " -100 -100 -100 -100 -100 -100 -100 -100]\n",
      "\n",
      "['[CLS]', 'non', '-', 'constant', 'control', 'laws', 'during', 'the', 'swing', 'phase', 'are', 'as', 'follows', ':', 'the', 'controller', 'enters', 'into', 'the', 'stance', 'preparation', 'when', 'd', 'i', '&', 'lt', ';', 'd', 'i', 'sp', ',', 'where', 'the', 'swing', 'leg', 'enters', 'into', 'a', 'pd', '-', 'control', 'mode', '.', '[SEP]', '[PAD]', '[PAD]', '[PAD]', '[PAD]', '[PAD]', '[PAD]', '[CLS]', 'the', 'g', '##lu', ',', 'h', '##fl', ',', 'and', 'va', '##s', 'work', 'to', 'guide', 'the', 'hip', 'and', 'knee', 'joints', 'toward', 'a', 'desired', 'pose', 'to', 'prepare', 'for', 'ground', 'contact', ':', 'u', 'va', '##s', '=', 'q', 'va', '##s', '+', 'u', 'va', '##s', '[UNK]', 'k', ',', 'u', 'g', '##lu', '=', 'q', 'g', '[SEP]', '[CLS]', 'a', 'single', 'desired', 'hip', 'target', 'angle', '(', '[UNK]', 'h', ')', 'is', 'adjusted', 'according', 'to', 'the', 'sim', '##bic', '##on', 'balance', 'feedback', 'law', '[SEP]', '[PAD]', '[PAD]', '[PAD]', '[PAD]', '[PAD]', '[PAD]', '[PAD]', '[PAD]', '[PAD]', '[PAD]', '[PAD]', '[PAD]', '[PAD]', '[PAD]', '[PAD]', '[PAD]', '[PAD]', '[PAD]', '[PAD]', '[PAD]', '[PAD]', '[PAD]', '[PAD]', '[PAD]', '[PAD]', '[PAD]', '[PAD]', '[CLS]', '[', 'yin', 'et', 'al', '.', '[SEP]', '[PAD]', '[PAD]', '[PAD]', '[PAD]', '[PAD]', '[PAD]', '[PAD]', '[PAD]', '[PAD]', '[PAD]', '[PAD]', '[PAD]', '[PAD]', '[PAD]', '[PAD]', '[PAD]', '[PAD]', '[PAD]', '[PAD]', '[PAD]', '[PAD]', '[PAD]', '[PAD]', '[PAD]', '[PAD]', '[PAD]', '[PAD]', '[PAD]', '[PAD]', '[PAD]', '[PAD]', '[PAD]', '[PAD]', '[PAD]', '[PAD]', '[PAD]', '[PAD]', '[PAD]', '[PAD]', '[PAD]', '[PAD]', '[PAD]', '[PAD]', '[CLS]', '2007', ']', 'and', 'is', 'shared', 'by', 'both', 'the', 'g', '##lu', 'and', 'h', '##fl', '.', '[SEP]', '[PAD]', '[PAD]', '[PAD]', '[PAD]', '[PAD]', '[PAD]', '[PAD]', '[PAD]', '[PAD]', '[PAD]', '[PAD]', '[PAD]', '[PAD]', '[PAD]', '[PAD]', '[PAD]', '[PAD]', '[PAD]', '[PAD]', '[PAD]', '[PAD]', '[PAD]', '[PAD]', '[PAD]', '[PAD]', '[PAD]', '[PAD]', '[PAD]', '[PAD]', '[PAD]', '[PAD]', '[PAD]', '[PAD]', '[PAD]', '[CLS]', 'we', 'found', 'the', 'addition', 'of', 'the', 'stance', 'preparation', 'state', 'to', 'be', 'important', 'for', 'discovering', 'running', 'ga', '##its', '.', '[SEP]', '[PAD]', '[PAD]', '[PAD]', '[PAD]', '[PAD]', '[PAD]', '[PAD]', '[PAD]', '[PAD]', '[PAD]', '[PAD]', '[PAD]', '[PAD]', '[PAD]', '[PAD]', '[PAD]', '[PAD]', '[PAD]', '[PAD]', '[PAD]', '[PAD]', '[PAD]', '[PAD]', '[PAD]', '[PAD]', '[PAD]', '[PAD]', '[PAD]', '[PAD]', '[PAD]', '[CLS]', 'the', 'balance', 'feedback', 'law', 'allows', 'robust', 'control', 'strategies', 'to', 'be', 'found', 'in', 'difficult', 'environments', '(', 'e', '.', 'g', '.', ',', 'being', 'pushed', 'by', 'random', 'forces', ')', '.', '[SEP]', '[PAD]', '[PAD]', '[PAD]', '[PAD]', '[PAD]', '[PAD]', '[PAD]', '[PAD]', '[PAD]', '[PAD]', '[PAD]', '[PAD]', '[PAD]', '[PAD]', '[PAD]', '[PAD]', '[PAD]', '[PAD]', '[PAD]', '[PAD]', '[PAD]', '[CLS]', 'u', 'ta', '=', 'q', 'ta', '+', 'u', 'l', 'ta', ',', 'u', 'ham', '=', 'q', 'ham', '+', 'u', 'ham', 'f', ',', 'u', 'g', '##lu', '=', 'q', 'g', '##lu', '+', 'u', 'f', 'g', '##lu', ',', 'u', 'h', '##fl', '=', 'q', 'h', '##fl', '+', 'u', 'l', 'h', '##fl', 'a', 'u', 'l', '[SEP]']\n",
      "[0 0 0 0 0 0 0 0 0 0 0 0 0 0 0 0 0 0 0 0 0 0 0 0 0 0 0 0 0 0 0 0 0 0 0 0 0\n",
      " 0 0 0 0 0 0 0 0 0 0 0 0 0]\n",
      "[-100    1    1 -100 -100    1    1    1    1    1    1    1 -100 -100\n",
      " -100 -100 -100 -100 -100 -100 -100 -100 -100 -100 -100 -100 -100 -100\n",
      " -100 -100 -100 -100 -100 -100 -100 -100 -100 -100 -100 -100 -100 -100\n",
      " -100 -100 -100 -100 -100 -100 -100 -100]\n",
      "\n",
      "['[CLS]', '<', 'h', '##2', '>', '4', '.', '4', 'out', '-', 'of', '-', 'plane', 'and', 'upper', '##body', 'control', '<', '/', 'h', '##2', '>', '[SEP]', '[PAD]', '[PAD]', '[PAD]', '[PAD]', '[PAD]', '[PAD]', '[PAD]', '[PAD]', '[PAD]', '[PAD]', '[PAD]', '[PAD]', '[PAD]', '[PAD]', '[PAD]', '[PAD]', '[PAD]', '[PAD]', '[PAD]', '[PAD]', '[PAD]', '[PAD]', '[PAD]', '[PAD]', '[PAD]', '[PAD]', '[PAD]', '[CLS]', 'the', 'rest', 'of', 'the', 'do', '##fs', 'are', 'controlled', 'using', 'standard', 'joint', '-', 'space', 'pd', '##con', '##tro', '##ller', '##s', 'with', 'state', '-', 'dependent', 'parameters', '.', '[SEP]', '[PAD]', '[PAD]', '[PAD]', '[PAD]', '[PAD]', '[PAD]', '[PAD]', '[PAD]', '[PAD]', '[PAD]', '[PAD]', '[PAD]', '[PAD]', '[PAD]', '[PAD]', '[PAD]', '[PAD]', '[PAD]', '[PAD]', '[PAD]', '[PAD]', '[PAD]', '[PAD]', '[PAD]', '[CLS]', 'following', 'wang', 'et', 'al', '.', '[SEP]', '[PAD]', '[PAD]', '[PAD]', '[PAD]', '[PAD]', '[PAD]', '[PAD]', '[PAD]', '[PAD]', '[PAD]', '[PAD]', '[PAD]', '[PAD]', '[PAD]', '[PAD]', '[PAD]', '[PAD]', '[PAD]', '[PAD]', '[PAD]', '[PAD]', '[PAD]', '[PAD]', '[PAD]', '[PAD]', '[PAD]', '[PAD]', '[PAD]', '[PAD]', '[PAD]', '[PAD]', '[PAD]', '[PAD]', '[PAD]', '[PAD]', '[PAD]', '[PAD]', '[PAD]', '[PAD]', '[PAD]', '[PAD]', '[PAD]', '[PAD]', '[CLS]', '[', '2010', ']', '[SEP]', '[PAD]', '[PAD]', '[PAD]', '[PAD]', '[PAD]', '[PAD]', '[PAD]', '[PAD]', '[PAD]', '[PAD]', '[PAD]', '[PAD]', '[PAD]', '[PAD]', '[PAD]', '[PAD]', '[PAD]', '[PAD]', '[PAD]', '[PAD]', '[PAD]', '[PAD]', '[PAD]', '[PAD]', '[PAD]', '[PAD]', '[PAD]', '[PAD]', '[PAD]', '[PAD]', '[PAD]', '[PAD]', '[PAD]', '[PAD]', '[PAD]', '[PAD]', '[PAD]', '[PAD]', '[PAD]', '[PAD]', '[PAD]', '[PAD]', '[PAD]', '[PAD]', '[PAD]', '[CLS]', ',', 'the', 'target', 'features', 'for', 'the', 'ankle', 'and', 'hip', 'joints', 'in', 'the', 'corona', '##l', 'plane', 'are', 'the', 'global', 'foot', 'and', 'pe', '##lvis', 'orientation', '##s', ',', 'respectively', '.', '[SEP]', '[PAD]', '[PAD]', '[PAD]', '[PAD]', '[PAD]', '[PAD]', '[PAD]', '[PAD]', '[PAD]', '[PAD]', '[PAD]', '[PAD]', '[PAD]', '[PAD]', '[PAD]', '[PAD]', '[PAD]', '[PAD]', '[PAD]', '[PAD]', '[PAD]', '[CLS]', 'the', 'corona', '##l', 'swing', 'hip', 'target', 'angles', 'follow', 'the', 'same', 'feedback', 'law', 'as', '[UNK]', 'h', '.', '[SEP]', '[PAD]', '[PAD]', '[PAD]', '[PAD]', '[PAD]', '[PAD]', '[PAD]', '[PAD]', '[PAD]', '[PAD]', '[PAD]', '[PAD]', '[PAD]', '[PAD]', '[PAD]', '[PAD]', '[PAD]', '[PAD]', '[PAD]', '[PAD]', '[PAD]', '[PAD]', '[PAD]', '[PAD]', '[PAD]', '[PAD]', '[PAD]', '[PAD]', '[PAD]', '[PAD]', '[PAD]', '[PAD]', '[CLS]', 'additionally', ',', 'we', 'set', 'the', 'toe', 'joint', 'to', 'be', 'a', 'spring', 'with', 'spring', 'constant', 'of', '30', 'nm', '/', 'ra', '##d', ',', 'target', 'angle', '0', ',', 'and', 'no', 'damp', '##ing', '.', '[SEP]', '[PAD]', '[PAD]', '[PAD]', '[PAD]', '[PAD]', '[PAD]', '[PAD]', '[PAD]', '[PAD]', '[PAD]', '[PAD]', '[PAD]', '[PAD]', '[PAD]', '[PAD]', '[PAD]', '[PAD]', '[PAD]', '[CLS]', 'unlike', 'in', 'previous', 'work', ',', 'where', 'a', 'ga', '##it', 'cycle', 'is', 'broken', 'down', 'into', 'four', 'states', ',', 'only', 'two', 'are', 'needed', '(', 'triggered', 'by', 'left', '/', 'right', 'foot', '-', 'strike', ')', 'since', 'do', '##fs', 'with', 'the', 'most', 'complex', 'activities', 'are', 'act', '##uated', 'by', 'muscles', '.', '[SEP]', '[PAD]', '[PAD]', '[PAD]']\n",
      "[0 0 0 0 0 0 0 0 0 0 0 0 0 0 0 0 0 0 0 0 0 0 0 0 0 0 0 0 0 0 0 0 0 0 0 0 0\n",
      " 0 0 0 0 0 0 0 0 0 0 0 0 0]\n",
      "[-100    0    0    0    0    0 -100 -100 -100 -100 -100 -100 -100 -100\n",
      " -100 -100 -100 -100 -100 -100 -100 -100 -100 -100 -100 -100 -100 -100\n",
      " -100 -100 -100 -100 -100 -100 -100 -100 -100 -100 -100 -100 -100 -100\n",
      " -100 -100 -100 -100 -100 -100 -100 -100]\n",
      "\n",
      "['[CLS]', 'our', 'upper', 'body', 'control', 'also', 'largely', 'follows', '[SEP]', '[PAD]', '[PAD]', '[PAD]', '[PAD]', '[PAD]', '[PAD]', '[PAD]', '[PAD]', '[PAD]', '[PAD]', '[PAD]', '[PAD]', '[PAD]', '[PAD]', '[PAD]', '[PAD]', '[PAD]', '[PAD]', '[PAD]', '[PAD]', '[PAD]', '[PAD]', '[PAD]', '[PAD]', '[PAD]', '[PAD]', '[PAD]', '[PAD]', '[PAD]', '[PAD]', '[PAD]', '[PAD]', '[PAD]', '[PAD]', '[PAD]', '[PAD]', '[PAD]', '[PAD]', '[PAD]', '[PAD]', '[PAD]', '[CLS]', 'wang', 'et', 'al', '.', '[SEP]', '[PAD]', '[PAD]', '[PAD]', '[PAD]', '[PAD]', '[PAD]', '[PAD]', '[PAD]', '[PAD]', '[PAD]', '[PAD]', '[PAD]', '[PAD]', '[PAD]', '[PAD]', '[PAD]', '[PAD]', '[PAD]', '[PAD]', '[PAD]', '[PAD]', '[PAD]', '[PAD]', '[PAD]', '[PAD]', '[PAD]', '[PAD]', '[PAD]', '[PAD]', '[PAD]', '[PAD]', '[PAD]', '[PAD]', '[PAD]', '[PAD]', '[PAD]', '[PAD]', '[PAD]', '[PAD]', '[PAD]', '[PAD]', '[PAD]', '[PAD]', '[PAD]', '[CLS]', '[', '2010', ']', '[SEP]', '[PAD]', '[PAD]', '[PAD]', '[PAD]', '[PAD]', '[PAD]', '[PAD]', '[PAD]', '[PAD]', '[PAD]', '[PAD]', '[PAD]', '[PAD]', '[PAD]', '[PAD]', '[PAD]', '[PAD]', '[PAD]', '[PAD]', '[PAD]', '[PAD]', '[PAD]', '[PAD]', '[PAD]', '[PAD]', '[PAD]', '[PAD]', '[PAD]', '[PAD]', '[PAD]', '[PAD]', '[PAD]', '[PAD]', '[PAD]', '[PAD]', '[PAD]', '[PAD]', '[PAD]', '[PAD]', '[PAD]', '[PAD]', '[PAD]', '[PAD]', '[PAD]', '[PAD]', '[CLS]', ',', 'with', 'the', 'exception', 'that', 'the', 'target', 'feature', 'of', 'our', 'back', 'joint', 'in', 'the', 'corona', '##l', 'plane', 'is', 'the', 'global', 'orientation', 'of', 'the', 'torso', 'instead', 'of', 'the', 'local', 'joint', 'angle', 'between', 'the', 'torso', 'and', 'the', 'pe', '##lvis', '.', '[SEP]', '[PAD]', '[PAD]', '[PAD]', '[PAD]', '[PAD]', '[PAD]', '[PAD]', '[PAD]', '[PAD]', '[PAD]', '[CLS]', 'this', 'global', 'target', 'allows', 'our', 'model', 'to', 'better', 'keep', 'the', 'head', 'upright', 'during', 'loco', '##mot', '##ion', '.', '[SEP]', '[PAD]', '[PAD]', '[PAD]', '[PAD]', '[PAD]', '[PAD]', '[PAD]', '[PAD]', '[PAD]', '[PAD]', '[PAD]', '[PAD]', '[PAD]', '[PAD]', '[PAD]', '[PAD]', '[PAD]', '[PAD]', '[PAD]', '[PAD]', '[PAD]', '[PAD]', '[PAD]', '[PAD]', '[PAD]', '[PAD]', '[PAD]', '[PAD]', '[PAD]', '[PAD]', '[PAD]', '[CLS]', 'we', 'fix', 'the', 'spring', 'and', 'damp', '##er', 'constant', '##s', 'for', 'all', 'arm', 'joints', 'to', '30', 'nm', '/', 'ra', '##d', 'and', '3', 'nm', '##s', '/', 'ra', '##d', ',', 'respectively', ',', 'with', 'target', 'angles', 'set', 'to', '0', '.', '[SEP]', '[PAD]', '[PAD]', '[PAD]', '[PAD]', '[PAD]', '[PAD]', '[PAD]', '[PAD]', '[PAD]', '[PAD]', '[PAD]', '[PAD]', '[CLS]', 'we', 'found', 'that', 'more', 'human', '-', 'like', 'arm', 'swing', 'can', 'be', 'generated', 'by', 'relating', 'the', 'elbow', 'and', 'shoulder', 'target', 'angles', 'as', '[UNK]', 's', 'l', '=', 'i', '##±', 'arm', '[UNK]', 'h', 'l', 'a', '[UNK]', 'h', 'r', '+', '[UNK]', 'e', 'd', 'and', 'i', 'l', 's', '=', '[UNK]', 'e', 'd', ',', '[SEP]', '[CLS]', 'this', 'formulation', 'captures', 'the', 'tendency', 'to', 'rotate', 'the', 'shoulder', 'backwards', 'and', 'inward', '##s', 'while', 'bending', 'the', 'elbow', '.', '[SEP]', '[PAD]', '[PAD]', '[PAD]', '[PAD]', '[PAD]', '[PAD]', '[PAD]', '[PAD]', '[PAD]', '[PAD]', '[PAD]', '[PAD]', '[PAD]', '[PAD]', '[PAD]', '[PAD]', '[PAD]', '[PAD]', '[PAD]', '[PAD]', '[PAD]', '[PAD]', '[PAD]', '[PAD]', '[PAD]', '[PAD]', '[PAD]', '[PAD]', '[PAD]', '[PAD]']\n",
      "[0 0 0 0 0 0 0 0 0 0 0 0 0 0 0 0 0 0 0 0 0 0 0 0 0 0 0 0 0 0 0 0 0 0 0 0 0\n",
      " 0 0 0 0 0 0 0 0 0 0 0 0 0]\n",
      "[-100    0    0 -100 -100 -100 -100 -100 -100 -100 -100 -100 -100 -100\n",
      " -100 -100 -100 -100 -100 -100 -100 -100 -100 -100 -100 -100 -100 -100\n",
      " -100 -100 -100 -100 -100 -100 -100 -100 -100 -100 -100 -100 -100 -100\n",
      " -100 -100 -100 -100 -100 -100 -100 -100]\n",
      "\n",
      "['[CLS]', 'the', 'scale', 'constant', 'and', 'the', 'desired', 'elbow', 'angle', 'are', 'among', 'the', 'parameters', 'set', 'by', 'optimization', ',', 'as', 'described', 'in', 'the', 'next', 'section', '.', '[SEP]', '[PAD]', '[PAD]', '[PAD]', '[PAD]', '[PAD]', '[PAD]', '[PAD]', '[PAD]', '[PAD]', '[PAD]', '[PAD]', '[PAD]', '[PAD]', '[PAD]', '[PAD]', '[PAD]', '[PAD]', '[PAD]', '[PAD]', '[PAD]', '[PAD]', '[PAD]', '[PAD]', '[PAD]', '[PAD]', '[CLS]', '<', 'h', '##1', '>', '5', 'optimization', '<', '/', 'h', '##1', '>', '[SEP]', '[PAD]', '[PAD]', '[PAD]', '[PAD]', '[PAD]', '[PAD]', '[PAD]', '[PAD]', '[PAD]', '[PAD]', '[PAD]', '[PAD]', '[PAD]', '[PAD]', '[PAD]', '[PAD]', '[PAD]', '[PAD]', '[PAD]', '[PAD]', '[PAD]', '[PAD]', '[PAD]', '[PAD]', '[PAD]', '[PAD]', '[PAD]', '[PAD]', '[PAD]', '[PAD]', '[PAD]', '[PAD]', '[PAD]', '[PAD]', '[PAD]', '[PAD]', '[PAD]', '[CLS]', 'the', 'control', 'algorithm', 'specified', 'in', 'section', '4', 'has', 'a', 'large', 'number', 'of', 'parameters', ',', 'which', 'we', 'set', 'by', 'optimization', '[SEP]', '[PAD]', '[PAD]', '[PAD]', '[PAD]', '[PAD]', '[PAD]', '[PAD]', '[PAD]', '[PAD]', '[PAD]', '[PAD]', '[PAD]', '[PAD]', '[PAD]', '[PAD]', '[PAD]', '[PAD]', '[PAD]', '[PAD]', '[PAD]', '[PAD]', '[PAD]', '[PAD]', '[PAD]', '[PAD]', '[PAD]', '[PAD]', '[PAD]', '[PAD]', '[CLS]', '[', 'wang', 'et', 'al', '.', '[SEP]', '[PAD]', '[PAD]', '[PAD]', '[PAD]', '[PAD]', '[PAD]', '[PAD]', '[PAD]', '[PAD]', '[PAD]', '[PAD]', '[PAD]', '[PAD]', '[PAD]', '[PAD]', '[PAD]', '[PAD]', '[PAD]', '[PAD]', '[PAD]', '[PAD]', '[PAD]', '[PAD]', '[PAD]', '[PAD]', '[PAD]', '[PAD]', '[PAD]', '[PAD]', '[PAD]', '[PAD]', '[PAD]', '[PAD]', '[PAD]', '[PAD]', '[PAD]', '[PAD]', '[PAD]', '[PAD]', '[PAD]', '[PAD]', '[PAD]', '[PAD]', '[CLS]', '2010', ']', '.', '[SEP]', '[PAD]', '[PAD]', '[PAD]', '[PAD]', '[PAD]', '[PAD]', '[PAD]', '[PAD]', '[PAD]', '[PAD]', '[PAD]', '[PAD]', '[PAD]', '[PAD]', '[PAD]', '[PAD]', '[PAD]', '[PAD]', '[PAD]', '[PAD]', '[PAD]', '[PAD]', '[PAD]', '[PAD]', '[PAD]', '[PAD]', '[PAD]', '[PAD]', '[PAD]', '[PAD]', '[PAD]', '[PAD]', '[PAD]', '[PAD]', '[PAD]', '[PAD]', '[PAD]', '[PAD]', '[PAD]', '[PAD]', '[PAD]', '[PAD]', '[PAD]', '[PAD]', '[PAD]', '[CLS]', 'more', 'specifically', ',', 'each', 'of', 'the', 'u', 'm', 'f', ',', 'u', 'm', 'l', ',', 'and', 'u', 'm', '[UNK]', 'laws', 'have', 'one', ',', 'two', ',', 'and', 'three', 'parameters', ',', 'respectively', '.', '[SEP]', '[PAD]', '[PAD]', '[PAD]', '[PAD]', '[PAD]', '[PAD]', '[PAD]', '[PAD]', '[PAD]', '[PAD]', '[PAD]', '[PAD]', '[PAD]', '[PAD]', '[PAD]', '[PAD]', '[PAD]', '[PAD]', '[CLS]', 'there', 'are', '56', 'parameters', 'in', 'total', '(', '30', 'stance', ',', '26', 'swing', ')', 'for', 'the', 'mt', '##u', 'control', 'laws', '.', '[SEP]', '[PAD]', '[PAD]', '[PAD]', '[PAD]', '[PAD]', '[PAD]', '[PAD]', '[PAD]', '[PAD]', '[PAD]', '[PAD]', '[PAD]', '[PAD]', '[PAD]', '[PAD]', '[PAD]', '[PAD]', '[PAD]', '[PAD]', '[PAD]', '[PAD]', '[PAD]', '[PAD]', '[PAD]', '[PAD]', '[PAD]', '[PAD]', '[PAD]', '[CLS]', 'for', 'the', 'upper', 'body', 'and', 'the', 'non', '-', 'sa', '##git', '##tal', 'do', '##fs', 'in', 'the', 'lower', 'body', ',', 'we', 'opt', '##imi', '##ze', 'the', 'pd', '##con', '##tro', '##l', 'parameters', '(', 'spring', '-', 'damp', '##er', 'constant', '##s', ',', 'target', 'angle', ',', 'balance', 'feedback', ')', 'for', 'all', 'joints', 'except', 'for', 'arms', '[SEP]']\n",
      "[0 0 0 0 0 0 0 0 0 0 0 0 0 0 0 0 0 0 0 0 0 0 0 0 0 0 0 0 0 0 0 0 0 0 0 0 0\n",
      " 0 0 0 0 0 0 0 0 0 0 0 0 0]\n",
      "[-100    0    0    1    1    1    1    1    0 -100 -100 -100 -100 -100\n",
      " -100 -100 -100 -100 -100 -100 -100 -100 -100 -100 -100 -100 -100 -100\n",
      " -100 -100 -100 -100 -100 -100 -100 -100 -100 -100 -100 -100 -100 -100\n",
      " -100 -100 -100 -100 -100 -100 -100 -100]\n",
      "\n",
      "['[CLS]', 'when', 'combined', 'with', '33', 'free', 'parameters', 'describing', 'the', 'initial', 'state', 'of', 'the', 'simulation', ',', '124', 'parameters', '(', 'w', ')', 'fully', 'define', 'a', 'simulated', 'motion', '{', 's', '1', '.', '[SEP]', '[PAD]', '[PAD]', '[PAD]', '[PAD]', '[PAD]', '[PAD]', '[PAD]', '[PAD]', '[PAD]', '[PAD]', '[PAD]', '[PAD]', '[PAD]', '[PAD]', '[PAD]', '[PAD]', '[PAD]', '[PAD]', '[PAD]', '[PAD]', '[CLS]', '.', 's', 't', '}', 'over', 't', 'times', '##te', '##ps', '.', '[SEP]', '[PAD]', '[PAD]', '[PAD]', '[PAD]', '[PAD]', '[PAD]', '[PAD]', '[PAD]', '[PAD]', '[PAD]', '[PAD]', '[PAD]', '[PAD]', '[PAD]', '[PAD]', '[PAD]', '[PAD]', '[PAD]', '[PAD]', '[PAD]', '[PAD]', '[PAD]', '[PAD]', '[PAD]', '[PAD]', '[PAD]', '[PAD]', '[PAD]', '[PAD]', '[PAD]', '[PAD]', '[PAD]', '[PAD]', '[PAD]', '[PAD]', '[PAD]', '[PAD]', '[PAD]', '[CLS]', 'we', 'opt', '##imi', '##ze', 'control', 'parameters', 'and', 'the', 'initial', 'state', 'using', 'co', '##var', '##iance', 'matrix', 'adaptation', '(', 'cm', '##a', ')', '[SEP]', '[PAD]', '[PAD]', '[PAD]', '[PAD]', '[PAD]', '[PAD]', '[PAD]', '[PAD]', '[PAD]', '[PAD]', '[PAD]', '[PAD]', '[PAD]', '[PAD]', '[PAD]', '[PAD]', '[PAD]', '[PAD]', '[PAD]', '[PAD]', '[PAD]', '[PAD]', '[PAD]', '[PAD]', '[PAD]', '[PAD]', '[PAD]', '[PAD]', '[CLS]', '[', 'hansen', '2006', ']', ',', 'with', 'steps', '##ize', 'i', '=', '0', '.', '00', '##5', 'and', '50', 'samples', 'per', 'iteration', '.', '[SEP]', '[PAD]', '[PAD]', '[PAD]', '[PAD]', '[PAD]', '[PAD]', '[PAD]', '[PAD]', '[PAD]', '[PAD]', '[PAD]', '[PAD]', '[PAD]', '[PAD]', '[PAD]', '[PAD]', '[PAD]', '[PAD]', '[PAD]', '[PAD]', '[PAD]', '[PAD]', '[PAD]', '[PAD]', '[PAD]', '[PAD]', '[PAD]', '[PAD]', '[CLS]', 'the', 'optimization', 'aims', 'to', 'maximize', 'the', 'following', 'return', 'function', ':', 't', 'r', '(', 'w', ')', '=', 'r', '(', 's', 't', ')', 'a', 'w', 'e', 'j', 'effort', '.', '[SEP]', '[PAD]', '[PAD]', '[PAD]', '[PAD]', '[PAD]', '[PAD]', '[PAD]', '[PAD]', '[PAD]', '[PAD]', '[PAD]', '[PAD]', '[PAD]', '[PAD]', '[PAD]', '[PAD]', '[PAD]', '[PAD]', '[PAD]', '[PAD]', '[PAD]', '[CLS]', 't', '=', '1', 'here', 'r', 'is', 'a', 'scala', '##r', 'reward', 'function', 'of', 'the', 'current', 'state', 's', 't', ',', 'j', 'effort', 'measures', 'the', 'effort', 'of', 'the', 'synthesized', 'motion', ',', 'and', 'w', 'e', 'is', 'set', 'to', '0', '.', '00', '##4', 'divided', 'by', 'the', 'mass', 'of', 'the', 'model', ',', 'motivated', 'by', '[SEP]', '[CLS]', 'wang', 'et', 'al', '.', '[SEP]', '[PAD]', '[PAD]', '[PAD]', '[PAD]', '[PAD]', '[PAD]', '[PAD]', '[PAD]', '[PAD]', '[PAD]', '[PAD]', '[PAD]', '[PAD]', '[PAD]', '[PAD]', '[PAD]', '[PAD]', '[PAD]', '[PAD]', '[PAD]', '[PAD]', '[PAD]', '[PAD]', '[PAD]', '[PAD]', '[PAD]', '[PAD]', '[PAD]', '[PAD]', '[PAD]', '[PAD]', '[PAD]', '[PAD]', '[PAD]', '[PAD]', '[PAD]', '[PAD]', '[PAD]', '[PAD]', '[PAD]', '[PAD]', '[PAD]', '[PAD]', '[PAD]', '[CLS]', '[', '2010', ']', '.', '[SEP]', '[PAD]', '[PAD]', '[PAD]', '[PAD]', '[PAD]', '[PAD]', '[PAD]', '[PAD]', '[PAD]', '[PAD]', '[PAD]', '[PAD]', '[PAD]', '[PAD]', '[PAD]', '[PAD]', '[PAD]', '[PAD]', '[PAD]', '[PAD]', '[PAD]', '[PAD]', '[PAD]', '[PAD]', '[PAD]', '[PAD]', '[PAD]', '[PAD]', '[PAD]', '[PAD]', '[PAD]', '[PAD]', '[PAD]', '[PAD]', '[PAD]', '[PAD]', '[PAD]', '[PAD]', '[PAD]', '[PAD]', '[PAD]', '[PAD]', '[PAD]', '[PAD]']\n",
      "[0 0 0 0 0 0 0 0 0 0 0 0 0 0 0 0 0 0 0 0 0 0 0 0 0 0 0 0 0 0 0 0 0 0 0 0 0\n",
      " 0 0 0 0 0 0 0 0 0 0 0 0 0]\n",
      "[-100    1    1    1    1 -100 -100 -100    1 -100 -100    1    1    1\n",
      "    1    1    1    1    1    1    1    1    1    1    1    1 -100 -100\n",
      " -100 -100 -100 -100 -100 -100 -100 -100 -100 -100 -100 -100 -100 -100\n",
      " -100 -100 -100 -100 -100 -100 -100 -100]\n",
      "\n"
     ]
    },
    {
     "name": "stderr",
     "output_type": "stream",
     "text": [
      "Iteration: 100%|██████████| 4153/4153 [12:05<00:00,  5.85it/s]\n",
      "Iteration:   0%|          | 1/4153 [00:00<12:21,  5.60it/s]"
     ]
    },
    {
     "name": "stdout",
     "output_type": "stream",
     "text": [
      "['[CLS]', 'g', 'm', 'and', 'h', 'm', 'are', 'free', 'positive', 'parameters', 'and', '{', '}', 'a', '##±', 'means', 'only', 'positive', 'or', 'negative', 'values', '(', '0', 'otherwise', ')', '.', '[SEP]', '[PAD]', '[PAD]', '[PAD]', '[PAD]', '[PAD]', '[PAD]', '[PAD]', '[PAD]', '[PAD]', '[PAD]', '[PAD]', '[PAD]', '[PAD]', '[PAD]', '[PAD]', '[PAD]', '[PAD]', '[PAD]', '[PAD]', '[PAD]', '[PAD]', '[PAD]', '[PAD]', '[CLS]', 'the', 'positive', 'length', 'feedback', 'effectively', 'models', 'a', 'stretch', 'reflex', ',', 'which', 'activate', '##s', 'the', 'muscle', 'when', 'the', 'fiber', 'is', 'stretched', 'beyond', 'a', 'fixed', 'length', '.', '[SEP]', '[PAD]', '[PAD]', '[PAD]', '[PAD]', '[PAD]', '[PAD]', '[PAD]', '[PAD]', '[PAD]', '[PAD]', '[PAD]', '[PAD]', '[PAD]', '[PAD]', '[PAD]', '[PAD]', '[PAD]', '[PAD]', '[PAD]', '[PAD]', '[PAD]', '[PAD]', '[PAD]', '[CLS]', 'u', 'l', 'm', 'is', 'most', 'useful', 'during', 'the', 'swing', 'phase', ',', 'as', 'the', 'ta', 'must', 'be', 'activated', 'to', 'do', '##rs', '##if', '##le', '##x', 'so', 'that', 'toe', '-', 'stu', '##bbing', 'can', 'be', 'avoided', '.', '[SEP]', '[PAD]', '[PAD]', '[PAD]', '[PAD]', '[PAD]', '[PAD]', '[PAD]', '[PAD]', '[PAD]', '[PAD]', '[PAD]', '[PAD]', '[PAD]', '[PAD]', '[PAD]', '[CLS]', 'in', 'addition', ',', 'the', 'h', '##fl', 'relies', 'on', 'length', 'feedback', 'to', 'generate', 'hip', 'flex', '##ion', 'torque', 'during', 'early', 'swing', ',', 'especially', 'during', 'running', '.', '[SEP]', '[PAD]', '[PAD]', '[PAD]', '[PAD]', '[PAD]', '[PAD]', '[PAD]', '[PAD]', '[PAD]', '[PAD]', '[PAD]', '[PAD]', '[PAD]', '[PAD]', '[PAD]', '[PAD]', '[PAD]', '[PAD]', '[PAD]', '[PAD]', '[PAD]', '[PAD]', '[PAD]', '[PAD]', '[CLS]', 'muscle', '-', 'driven', 'pd', 'control', '.', '[SEP]', '[PAD]', '[PAD]', '[PAD]', '[PAD]', '[PAD]', '[PAD]', '[PAD]', '[PAD]', '[PAD]', '[PAD]', '[PAD]', '[PAD]', '[PAD]', '[PAD]', '[PAD]', '[PAD]', '[PAD]', '[PAD]', '[PAD]', '[PAD]', '[PAD]', '[PAD]', '[PAD]', '[PAD]', '[PAD]', '[PAD]', '[PAD]', '[PAD]', '[PAD]', '[PAD]', '[PAD]', '[PAD]', '[PAD]', '[PAD]', '[PAD]', '[PAD]', '[PAD]', '[PAD]', '[PAD]', '[PAD]', '[PAD]', '[PAD]', '[CLS]', 'we', 'also', 'define', 'a', 'muscle', '-', 'driven', 'pd', 'control', 'law', 'with', 'respect', 'to', 'an', 'angular', 'feature', '[UNK]', 'as', 'where', 'k', 'm', ',', 'd', 'm', ',', '[UNK]', 'm', 'are', 'free', 'parameters', 'of', 'the', 'pd', '-', 'controller', '.', '[SEP]', '[PAD]', '[PAD]', '[PAD]', '[PAD]', '[PAD]', '[PAD]', '[PAD]', '[PAD]', '[PAD]', '[PAD]', '[PAD]', '[PAD]', '[CLS]', 'the', 'brace', '##s', 'sign', 'is', 'positive', 'if', 'torque', 'generated', 'by', 'm', 'is', 'in', 'the', 'opposing', 'direction', 'of', '[UNK]', '.', 'g', '.', ',', 'if', 'm', 'is', 'the', 'hip', 'ex', '##tens', '##or', 'and', '[UNK]', 'is', 'the', 'hip', 'flex', '##ion', 'angle', '##aan', '##d', 'negative', 'otherwise', '.', '[SEP]', '[PAD]', '[PAD]', '[PAD]', '[PAD]', '[PAD]', '[CLS]', 'much', 'like', 'the', 'standard', 'torque', '##base', '##d', 'pd', '-', 'controller', ',', 'the', 'muscle', '-', 'driven', 'pd', 'control', 'aims', 'to', 'adjust', '[UNK]', 'towards', 'the', 'target', 'angle', '[UNK]', 'm', 'while', 'damp', '##ing', 'its', 'velocity', '.', '[SEP]', '[PAD]', '[PAD]', '[PAD]', '[PAD]', '[PAD]', '[PAD]', '[PAD]', '[PAD]', '[PAD]', '[PAD]', '[PAD]', '[PAD]', '[PAD]', '[PAD]', '[PAD]']\n",
      "[0 0 0 0 0 0 0 0 0 0 0 0 0 0 0 0 0 0 0 0 0 0 0 0 0 0 0 0 0 0 0 0 0 0 0 0 0\n",
      " 0 0 0 0 0 0 0 0 0 0 0 0 0]\n",
      "[-100    1    1    1 -100    1    1    1    1    1    1    1    1    1\n",
      "    1    1    1    1    1    1 -100 -100    1    1    1    1    0    0\n",
      "    1    1    1    1 -100    1 -100    1    1 -100    1    1    0    0\n",
      "    0    0    0 -100 -100 -100 -100 -100]\n",
      "\n",
      "['[CLS]', 'however', ',', 'unlike', 'the', 'standard', 'pd', '-', 'controller', ',', 'muscles', 'can', 'only', 'activate', 'after', 'a', 'time', '-', 'delay', 'and', 'each', 'muscle', 'can', 'only', 'generate', 'forces', 'to', 'rotate', 'the', 'angular', 'do', '##f', 'in', 'one', 'direction', '.', '[SEP]', '[PAD]', '[PAD]', '[PAD]', '[PAD]', '[PAD]', '[PAD]', '[PAD]', '[PAD]', '[PAD]', '[PAD]', '[PAD]', '[PAD]', '[PAD]', '[CLS]', 'the', 'pd', '-', 'control', 'laws', 'are', 'employed', 'by', 'the', 'hip', 'muscles', 'during', 'the', 'stance', 'phase', 'to', 'maintain', 'the', 'global', 'upper', 'body', 'orientation', ',', 'as', 'well', 'as', 'during', 'stance', 'preparation', 'to', 'prepare', 'for', 'ground', 'contact', '.', '[SEP]', '[PAD]', '[PAD]', '[PAD]', '[PAD]', '[PAD]', '[PAD]', '[PAD]', '[PAD]', '[PAD]', '[PAD]', '[PAD]', '[PAD]', '[PAD]', '[CLS]', 'u', 'm', '[UNK]', '=', 'k', 'm', '(', '[UNK]', '(', 't', 'a', 'at', 'm', ')', 'a', '[UNK]', 'm', ')', '+', 'd', 'm', '[UNK]', '(', 't', 'i', 'a', 'at', 'm', ')', ',', 'a', '##±', '[SEP]', '[PAD]', '[PAD]', '[PAD]', '[PAD]', '[PAD]', '[PAD]', '[PAD]', '[PAD]', '[PAD]', '[PAD]', '[PAD]', '[PAD]', '[PAD]', '[PAD]', '[PAD]', '[PAD]', '[CLS]', '<', 'h', '##2', '>', '4', '.', '2', 'stance', 'phase', '<', '/', 'h', '##2', '>', '[SEP]', '[PAD]', '[PAD]', '[PAD]', '[PAD]', '[PAD]', '[PAD]', '[PAD]', '[PAD]', '[PAD]', '[PAD]', '[PAD]', '[PAD]', '[PAD]', '[PAD]', '[PAD]', '[PAD]', '[PAD]', '[PAD]', '[PAD]', '[PAD]', '[PAD]', '[PAD]', '[PAD]', '[PAD]', '[PAD]', '[PAD]', '[PAD]', '[PAD]', '[PAD]', '[PAD]', '[PAD]', '[PAD]', '[PAD]', '[PAD]', '[CLS]', 'each', 'muscle', 'has', 'an', 'initial', 'constant', 'ex', '##cit', '##ation', ',', 'or', 'pre', '-', 'stimulation', 'value', 'p', 'm', '.', '[SEP]', '[PAD]', '[PAD]', '[PAD]', '[PAD]', '[PAD]', '[PAD]', '[PAD]', '[PAD]', '[PAD]', '[PAD]', '[PAD]', '[PAD]', '[PAD]', '[PAD]', '[PAD]', '[PAD]', '[PAD]', '[PAD]', '[PAD]', '[PAD]', '[PAD]', '[PAD]', '[PAD]', '[PAD]', '[PAD]', '[PAD]', '[PAD]', '[PAD]', '[PAD]', '[PAD]', '[CLS]', 'these', 'values', 'are', 'initial', '##ized', 'close', 'to', 'zero', ',', 'but', 'are', 'then', 'opt', '##imi', '##zed', '.', '[SEP]', '[PAD]', '[PAD]', '[PAD]', '[PAD]', '[PAD]', '[PAD]', '[PAD]', '[PAD]', '[PAD]', '[PAD]', '[PAD]', '[PAD]', '[PAD]', '[PAD]', '[PAD]', '[PAD]', '[PAD]', '[PAD]', '[PAD]', '[PAD]', '[PAD]', '[PAD]', '[PAD]', '[PAD]', '[PAD]', '[PAD]', '[PAD]', '[PAD]', '[PAD]', '[PAD]', '[PAD]', '[PAD]', '[CLS]', 'the', 'sol', 'and', 'gas', 'both', 'rely', 'on', 'positive', 'force', 'feedback', 'and', 'are', 'the', 'main', 'sources', 'of', 'torque', 'during', 'walking', '.', '[SEP]', '[PAD]', '[PAD]', '[PAD]', '[PAD]', '[PAD]', '[PAD]', '[PAD]', '[PAD]', '[PAD]', '[PAD]', '[PAD]', '[PAD]', '[PAD]', '[PAD]', '[PAD]', '[PAD]', '[PAD]', '[PAD]', '[PAD]', '[PAD]', '[PAD]', '[PAD]', '[PAD]', '[PAD]', '[PAD]', '[PAD]', '[PAD]', '[PAD]', '[CLS]', 'the', 'ta', 'ensures', 'foot', 'clearance', 'during', 'swing', 'using', 'a', 'length', 'feedback', '(', 'u', 'l', 'ta', ')', ',', 'but', 'the', 'activation', 'is', 'suppressed', 'during', 'stance', 'in', 'proportion', 'to', 'the', 'current', 'force', 'generated', 'from', 'sol', '.', '[SEP]', '[PAD]', '[PAD]', '[PAD]', '[PAD]', '[PAD]', '[PAD]', '[PAD]', '[PAD]', '[PAD]', '[PAD]', '[PAD]', '[PAD]', '[PAD]', '[PAD]']\n",
      "[0 0 0 0 0 0 0 0 0 0 0 0 0 0 0 0 0 0 0 0 0 0 0 0 0 0 0 0 0 0 0 0 0 0 0 0 0\n",
      " 0 0 0 0 0 0 0 0 0 0 0 0 0]\n",
      "[-100    1    1    1    1    1    1    1    1    1    1    1    1    1\n",
      "    1    1    0 -100 -100 -100 -100 -100 -100 -100 -100 -100 -100 -100\n",
      " -100 -100 -100 -100 -100 -100 -100 -100 -100 -100 -100 -100 -100 -100\n",
      " -100 -100 -100 -100 -100 -100 -100 -100]\n",
      "\n",
      "['[CLS]', 'the', 'suppression', 'allows', 'the', 'generated', 'ta', 'activation', 'patterns', 'to', 'better', 'match', 'human', 'data', 'during', 'loco', '##mot', '##ion', '.', '[SEP]', '[PAD]', '[PAD]', '[PAD]', '[PAD]', '[PAD]', '[PAD]', '[PAD]', '[PAD]', '[PAD]', '[PAD]', '[PAD]', '[PAD]', '[PAD]', '[PAD]', '[PAD]', '[PAD]', '[PAD]', '[PAD]', '[PAD]', '[PAD]', '[PAD]', '[PAD]', '[PAD]', '[PAD]', '[PAD]', '[PAD]', '[PAD]', '[PAD]', '[PAD]', '[PAD]', '[CLS]', 'the', 'force', 'feedback', 'on', 'the', 'va', '##s', 'creates', 'a', 'strong', 'knee', 'extension', 'torque', 'following', 'ground', 'contact', ',', 'but', 'ex', '##cit', '##ation', 'is', 'suppressed', 'when', 'the', 'knee', 'flex', '##ion', 'angle', '(', '[UNK]', 'k', ')', 'is', 'extended', 'below', 'an', 'offset', '(', '[UNK]', 'k', 'off', ')', 'with', 'an', 'extension', 'velocity', '(', '[SEP]', '[CLS]', 'the', 'suppression', 'prevents', 'hyper', '##ex', '##tension', 'of', 'the', 'knee', 'during', 'mid', '-', 'stance', '.', '[SEP]', '[PAD]', '[PAD]', '[PAD]', '[PAD]', '[PAD]', '[PAD]', '[PAD]', '[PAD]', '[PAD]', '[PAD]', '[PAD]', '[PAD]', '[PAD]', '[PAD]', '[PAD]', '[PAD]', '[PAD]', '[PAD]', '[PAD]', '[PAD]', '[PAD]', '[PAD]', '[PAD]', '[PAD]', '[PAD]', '[PAD]', '[PAD]', '[PAD]', '[PAD]', '[PAD]', '[PAD]', '[PAD]', '[PAD]', '[PAD]', '[CLS]', 'using', 'muscle', '-', 'driven', 'pd', 'control', 'laws', ',', 'the', 'ham', ',', 'g', '##lu', ',', 'and', 'h', '##fl', 'are', 'responsible', 'for', 'maintaining', 'the', 'global', 'orientation', 'of', 'the', 'upper', 'body', '(', 'i', ')', ',', 'defined', 'as', 'the', 'vector', 'between', 'the', 'com', 'of', 'the', 'upper', 'body', 'and', 'the', 'com', 'of', 'the', '[SEP]', '[CLS]', 'during', 'double', 'stance', ',', 'these', 'control', 'laws', 'are', 'only', 'active', 'for', 'the', 'leading', 'leg', ',', 'denoted', 'as', 'u', 'i', 'm', 'lead', '.', '[SEP]', '[PAD]', '[PAD]', '[PAD]', '[PAD]', '[PAD]', '[PAD]', '[PAD]', '[PAD]', '[PAD]', '[PAD]', '[PAD]', '[PAD]', '[PAD]', '[PAD]', '[PAD]', '[PAD]', '[PAD]', '[PAD]', '[PAD]', '[PAD]', '[PAD]', '[PAD]', '[PAD]', '[PAD]', '[PAD]', '[PAD]', '[CLS]', 'specifically', ',', 'control', 'laws', 'during', 'the', 'stance', 'phase', 'are', 'as', 'follows', ':', 'towards', 'the', 'end', 'of', 'the', 'stance', 'phase', ',', 'the', 'controller', 'enters', 'into', 'the', 'swing', 'initiation', ',', 'which', 'begins', 'when', 'either', 'the', 'signed', 'horizontal', 'distance', 'between', 'the', 'com', 'and', 'the', 'ankle', 'normal', '##ized', 'by', 'leg', 'length', 'exceeds', '[SEP]', '[CLS]', 'during', 'swing', 'initiation', ',', 'constant', 'ex', '##cit', '##ation', 'values', 'between', '0', 'and', '1', '(', 'set', 'during', 'optimization', ')', 'are', 'added', 'and', 'sub', '##tracted', 'to', 'the', 'va', '##s', ',', 'rf', ',', 'g', '##lu', ',', 'and', 'h', '##fl', ':', 'the', 'combination', 'of', 'h', '##fl', 'and', 'g', '##lu', 'ex', '##cit', '##ations', '[SEP]', '[CLS]', 'two', 'main', 'differences', 'between', 'our', 'stance', 'phase', 'control', 'laws', 'compared', 'to', '[SEP]', '[PAD]', '[PAD]', '[PAD]', '[PAD]', '[PAD]', '[PAD]', '[PAD]', '[PAD]', '[PAD]', '[PAD]', '[PAD]', '[PAD]', '[PAD]', '[PAD]', '[PAD]', '[PAD]', '[PAD]', '[PAD]', '[PAD]', '[PAD]', '[PAD]', '[PAD]', '[PAD]', '[PAD]', '[PAD]', '[PAD]', '[PAD]', '[PAD]', '[PAD]', '[PAD]', '[PAD]', '[PAD]', '[PAD]', '[PAD]', '[PAD]', '[PAD]', '[PAD]']\n",
      "[0 0 0 0 0 0 0 0 0 0 0 0 0 0 0 0 0 0 0 0 0 0 0 0 0 0 0 0 0 0 0 0 0 0 0 0 0\n",
      " 0 0 0 0 0 0 0 0 0 0 0 0 0]\n",
      "[-100    0    0    0    1    1    1    1    1    1    1    1    1    1\n",
      "    1    1    1    1    0 -100 -100 -100 -100 -100 -100 -100 -100 -100\n",
      " -100 -100 -100 -100 -100 -100 -100 -100 -100 -100 -100 -100 -100 -100\n",
      " -100 -100 -100 -100 -100 -100 -100 -100]\n",
      "\n",
      "['[CLS]', 'ge', '##yer', 'and', 'herr', '[', '2010', ']', '[SEP]', '[PAD]', '[PAD]', '[PAD]', '[PAD]', '[PAD]', '[PAD]', '[PAD]', '[PAD]', '[PAD]', '[PAD]', '[PAD]', '[PAD]', '[PAD]', '[PAD]', '[PAD]', '[PAD]', '[PAD]', '[PAD]', '[PAD]', '[PAD]', '[PAD]', '[PAD]', '[PAD]', '[PAD]', '[PAD]', '[PAD]', '[PAD]', '[PAD]', '[PAD]', '[PAD]', '[PAD]', '[PAD]', '[PAD]', '[PAD]', '[PAD]', '[PAD]', '[PAD]', '[PAD]', '[PAD]', '[PAD]', '[PAD]', '[CLS]', 'lie', 'in', 'how', 'the', 'swing', 'initiation', 'state', 'functions', '.', '[SEP]', '[PAD]', '[PAD]', '[PAD]', '[PAD]', '[PAD]', '[PAD]', '[PAD]', '[PAD]', '[PAD]', '[PAD]', '[PAD]', '[PAD]', '[PAD]', '[PAD]', '[PAD]', '[PAD]', '[PAD]', '[PAD]', '[PAD]', '[PAD]', '[PAD]', '[PAD]', '[PAD]', '[PAD]', '[PAD]', '[PAD]', '[PAD]', '[PAD]', '[PAD]', '[PAD]', '[PAD]', '[PAD]', '[PAD]', '[PAD]', '[PAD]', '[PAD]', '[PAD]', '[PAD]', '[PAD]', '[CLS]', 'first', ',', 'for', 'running', 'we', 'found', 'it', 'necessary', 'to', 'enter', 'into', 'swing', 'initiation', 'using', 'the', 'd', 'i', '&', 'gt', ';', 'd', 'i', 'si', 'condition', ',', 'rather', 'than', 'just', 'wait', 'for', 'double', 'stance', '.', '[SEP]', '[PAD]', '[PAD]', '[PAD]', '[PAD]', '[PAD]', '[PAD]', '[PAD]', '[PAD]', '[PAD]', '[PAD]', '[PAD]', '[PAD]', '[PAD]', '[PAD]', '[PAD]', '[CLS]', 'second', ',', 'we', 'found', 'it', 'unnecessary', 'to', 'mod', '##ulate', 'the', 'muscle', '-', 'driven', 'pd', '-', 'control', 'laws', 'in', 'the', 'hip', 'by', 'ground', 'reaction', 'forces', '.', '[SEP]', '[PAD]', '[PAD]', '[PAD]', '[PAD]', '[PAD]', '[PAD]', '[PAD]', '[PAD]', '[PAD]', '[PAD]', '[PAD]', '[PAD]', '[PAD]', '[PAD]', '[PAD]', '[PAD]', '[PAD]', '[PAD]', '[PAD]', '[PAD]', '[PAD]', '[PAD]', '[PAD]', '[CLS]', 'instead', ',', 'the', 'responsibility', 'to', 'maintain', 'upper', 'body', 'orientation', 'is', 'always', 'assigned', 'to', 'the', 'lead', 'leg', '.', '[SEP]', '[PAD]', '[PAD]', '[PAD]', '[PAD]', '[PAD]', '[PAD]', '[PAD]', '[PAD]', '[PAD]', '[PAD]', '[PAD]', '[PAD]', '[PAD]', '[PAD]', '[PAD]', '[PAD]', '[PAD]', '[PAD]', '[PAD]', '[PAD]', '[PAD]', '[PAD]', '[PAD]', '[PAD]', '[PAD]', '[PAD]', '[PAD]', '[PAD]', '[PAD]', '[PAD]', '[PAD]', '[CLS]', 'u', 'sol', '=', 'p', 'sol', '+', 'u', 'sol', 'f', ',', 'u', 'ta', '=', 'p', 'ta', '+', 'u', 'ta', 'l', 'a', 'u', 'f', 'sol', ',', 'u', 'gas', '=', 'p', 'gas', '+', 'u', 'gas', 'f', ',', 'u', 'va', '##s', '=', 'p', 'va', '##s', '+', 'u', 'f', 'va', '##s', '+', 'k', '[SEP]', '[CLS]', 'u', 'va', '##s', '=', 'u', 'va', '##s', 'a', 's', 'va', '##s', ',', 'u', 'rf', '=', 'u', 'rf', '+', 's', 'rf', ',', 'u', 'g', '##lu', '=', 'u', 'g', '##lu', 'a', 's', 'g', '##lu', ',', 'u', 'h', '##fl', '=', 'u', 'h', '##fl', '+', 's', 'h', '##fl', '.', '[SEP]', '[PAD]', '[PAD]', '[PAD]', '[CLS]', '<', 'h', '##2', '>', '4', '.', '3', 'swing', 'phase', '<', '/', 'h', '##2', '>', '[SEP]', '[PAD]', '[PAD]', '[PAD]', '[PAD]', '[PAD]', '[PAD]', '[PAD]', '[PAD]', '[PAD]', '[PAD]', '[PAD]', '[PAD]', '[PAD]', '[PAD]', '[PAD]', '[PAD]', '[PAD]', '[PAD]', '[PAD]', '[PAD]', '[PAD]', '[PAD]', '[PAD]', '[PAD]', '[PAD]', '[PAD]', '[PAD]', '[PAD]', '[PAD]', '[PAD]', '[PAD]', '[PAD]', '[PAD]', '[PAD]']\n",
      "[0 0 0 0 0 0 0 0 0 0 0 0 0 0 0 0 0 0 0 0 0 0 0 0 0 0 0 0 0 0 0 0 0 0 0 0 0\n",
      " 0 0 0 0 0 0 0 0 0 0 0 0 0]\n",
      "[-100    1    1    1    1    1    1    1    1    1    1 -100    0    0\n",
      "    0    0 -100 -100    0    0 -100 -100 -100 -100 -100 -100 -100 -100\n",
      " -100 -100 -100 -100 -100 -100 -100 -100 -100 -100 -100 -100 -100 -100\n",
      " -100 -100 -100 -100 -100 -100 -100 -100]\n",
      "\n",
      "['[CLS]', 'much', 'like', 'in', 'the', 'stance', 'phase', ',', 'each', 'muscle', 'has', 'an', 'initial', 'constant', 'ex', '##cit', '##ation', 'value', '(', 'q', 'm', ')', '.', '[SEP]', '[PAD]', '[PAD]', '[PAD]', '[PAD]', '[PAD]', '[PAD]', '[PAD]', '[PAD]', '[PAD]', '[PAD]', '[PAD]', '[PAD]', '[PAD]', '[PAD]', '[PAD]', '[PAD]', '[PAD]', '[PAD]', '[PAD]', '[PAD]', '[PAD]', '[PAD]', '[PAD]', '[PAD]', '[PAD]', '[PAD]', '[CLS]', 'the', 'leg', 'motion', 'relies', 'significantly', 'on', 'passive', 'dynamics', 'during', 'the', 'swing', 'phase', '[SEP]', '[PAD]', '[PAD]', '[PAD]', '[PAD]', '[PAD]', '[PAD]', '[PAD]', '[PAD]', '[PAD]', '[PAD]', '[PAD]', '[PAD]', '[PAD]', '[PAD]', '[PAD]', '[PAD]', '[PAD]', '[PAD]', '[PAD]', '[PAD]', '[PAD]', '[PAD]', '[PAD]', '[PAD]', '[PAD]', '[PAD]', '[PAD]', '[PAD]', '[PAD]', '[PAD]', '[PAD]', '[PAD]', '[PAD]', '[PAD]', '[PAD]', '[PAD]', '[CLS]', '[', 'collins', 'et', 'al', '.', '[SEP]', '[PAD]', '[PAD]', '[PAD]', '[PAD]', '[PAD]', '[PAD]', '[PAD]', '[PAD]', '[PAD]', '[PAD]', '[PAD]', '[PAD]', '[PAD]', '[PAD]', '[PAD]', '[PAD]', '[PAD]', '[PAD]', '[PAD]', '[PAD]', '[PAD]', '[PAD]', '[PAD]', '[PAD]', '[PAD]', '[PAD]', '[PAD]', '[PAD]', '[PAD]', '[PAD]', '[PAD]', '[PAD]', '[PAD]', '[PAD]', '[PAD]', '[PAD]', '[PAD]', '[PAD]', '[PAD]', '[PAD]', '[PAD]', '[PAD]', '[PAD]', '[CLS]', '2005', ']', ',', 'as', 'most', 'muscles', 'are', 'only', 'excited', 'at', 'low', 'levels', '.', '[SEP]', '[PAD]', '[PAD]', '[PAD]', '[PAD]', '[PAD]', '[PAD]', '[PAD]', '[PAD]', '[PAD]', '[PAD]', '[PAD]', '[PAD]', '[PAD]', '[PAD]', '[PAD]', '[PAD]', '[PAD]', '[PAD]', '[PAD]', '[PAD]', '[PAD]', '[PAD]', '[PAD]', '[PAD]', '[PAD]', '[PAD]', '[PAD]', '[PAD]', '[PAD]', '[PAD]', '[PAD]', '[PAD]', '[PAD]', '[PAD]', '[PAD]', '[CLS]', 'the', 'main', 'exceptions', 'are', 'the', 'ta', ',', 'which', 'maintains', 'the', 'length', 'feedback', '(', 'u', 'l', 'ta', ')', 'to', 'avoid', 'toes', '##tub', '##bing', ',', 'and', 'the', 'ham', ',', 'which', 'is', 'activated', 'at', 'late', 'swing', 'phase', 'to', 'prevent', 'the', 'knee', 'from', 'being', 'over', '##ex', '##ten', '##ded', 'before', 'landing', '.', '[SEP]', '[PAD]', '[CLS]', 'the', 'h', '##fl', 'introduces', 'a', 'hip', 'flex', '##ion', 'torque', 'through', 'a', 'length', 'feedback', ',', 'which', 'is', 'suppressed', 'when', 'the', 'ham', 'is', 'stretched', 'in', 'during', 'late', 'swing', '.', '[SEP]', '[PAD]', '[PAD]', '[PAD]', '[PAD]', '[PAD]', '[PAD]', '[PAD]', '[PAD]', '[PAD]', '[PAD]', '[PAD]', '[PAD]', '[PAD]', '[PAD]', '[PAD]', '[PAD]', '[PAD]', '[PAD]', '[PAD]', '[PAD]', '[PAD]', '[CLS]', 'the', 'amount', 'of', 'ex', '##cit', '##ation', 'in', 'the', 'h', '##fl', 'also', 'depends', 'on', 'the', 'value', 'of', 'upper', 'body', 'lean', 'at', 'the', 'beginning', 'of', 'the', 'swing', 'phase', '(', 'i', 'lt', '##o', ')', ':', 'the', 'further', 'the', 'upper', 'body', 'leans', 'forward', 'compared', 'to', 'the', 'reference', 'lean', 'angle', '(', 'i', 'd', '[SEP]', '[CLS]', 'note', 'that', 'i', 'd', 'is', 'the', 'same', 'as', 'the', 'target', 'angle', 'in', 'u', 'i', 'h', '##fl', '.', '[SEP]', '[PAD]', '[PAD]', '[PAD]', '[PAD]', '[PAD]', '[PAD]', '[PAD]', '[PAD]', '[PAD]', '[PAD]', '[PAD]', '[PAD]', '[PAD]', '[PAD]', '[PAD]', '[PAD]', '[PAD]', '[PAD]', '[PAD]', '[PAD]', '[PAD]', '[PAD]', '[PAD]', '[PAD]', '[PAD]', '[PAD]', '[PAD]', '[PAD]', '[PAD]', '[PAD]', '[PAD]']\n",
      "[0 0 0 0 0 0 0 0 0 0 0 0 0 0 0 0 0 0 0 0 0 0 0 0 0 0 0 0 0 0 0 0 0 0 0 0 0\n",
      " 0 0 0 0 0 0 0 0 0 0 0 0 0]\n",
      "[-100    0    0    1    1    1    1    1    1    1    1    1    1    1\n",
      "    1 -100    1    1    1    1    1    1    1    1    1    0 -100 -100\n",
      " -100 -100 -100 -100 -100 -100 -100 -100 -100 -100 -100 -100 -100 -100\n",
      " -100 -100 -100 -100 -100 -100 -100 -100]\n",
      "\n",
      "['[CLS]', 'non', '-', 'constant', 'control', 'laws', 'during', 'the', 'swing', 'phase', 'are', 'as', 'follows', ':', 'the', 'controller', 'enters', 'into', 'the', 'stance', 'preparation', 'when', 'd', 'i', '&', 'lt', ';', 'd', 'i', 'sp', ',', 'where', 'the', 'swing', 'leg', 'enters', 'into', 'a', 'pd', '-', 'control', 'mode', '.', '[SEP]', '[PAD]', '[PAD]', '[PAD]', '[PAD]', '[PAD]', '[PAD]', '[CLS]', 'the', 'g', '##lu', ',', 'h', '##fl', ',', 'and', 'va', '##s', 'work', 'to', 'guide', 'the', 'hip', 'and', 'knee', 'joints', 'toward', 'a', 'desired', 'pose', 'to', 'prepare', 'for', 'ground', 'contact', ':', 'u', 'va', '##s', '=', 'q', 'va', '##s', '+', 'u', 'va', '##s', '[UNK]', 'k', ',', 'u', 'g', '##lu', '=', 'q', 'g', '[SEP]', '[CLS]', 'a', 'single', 'desired', 'hip', 'target', 'angle', '(', '[UNK]', 'h', ')', 'is', 'adjusted', 'according', 'to', 'the', 'sim', '##bic', '##on', 'balance', 'feedback', 'law', '[SEP]', '[PAD]', '[PAD]', '[PAD]', '[PAD]', '[PAD]', '[PAD]', '[PAD]', '[PAD]', '[PAD]', '[PAD]', '[PAD]', '[PAD]', '[PAD]', '[PAD]', '[PAD]', '[PAD]', '[PAD]', '[PAD]', '[PAD]', '[PAD]', '[PAD]', '[PAD]', '[PAD]', '[PAD]', '[PAD]', '[PAD]', '[PAD]', '[CLS]', '[', 'yin', 'et', 'al', '.', '[SEP]', '[PAD]', '[PAD]', '[PAD]', '[PAD]', '[PAD]', '[PAD]', '[PAD]', '[PAD]', '[PAD]', '[PAD]', '[PAD]', '[PAD]', '[PAD]', '[PAD]', '[PAD]', '[PAD]', '[PAD]', '[PAD]', '[PAD]', '[PAD]', '[PAD]', '[PAD]', '[PAD]', '[PAD]', '[PAD]', '[PAD]', '[PAD]', '[PAD]', '[PAD]', '[PAD]', '[PAD]', '[PAD]', '[PAD]', '[PAD]', '[PAD]', '[PAD]', '[PAD]', '[PAD]', '[PAD]', '[PAD]', '[PAD]', '[PAD]', '[PAD]', '[CLS]', '2007', ']', 'and', 'is', 'shared', 'by', 'both', 'the', 'g', '##lu', 'and', 'h', '##fl', '.', '[SEP]', '[PAD]', '[PAD]', '[PAD]', '[PAD]', '[PAD]', '[PAD]', '[PAD]', '[PAD]', '[PAD]', '[PAD]', '[PAD]', '[PAD]', '[PAD]', '[PAD]', '[PAD]', '[PAD]', '[PAD]', '[PAD]', '[PAD]', '[PAD]', '[PAD]', '[PAD]', '[PAD]', '[PAD]', '[PAD]', '[PAD]', '[PAD]', '[PAD]', '[PAD]', '[PAD]', '[PAD]', '[PAD]', '[PAD]', '[PAD]', '[CLS]', 'we', 'found', 'the', 'addition', 'of', 'the', 'stance', 'preparation', 'state', 'to', 'be', 'important', 'for', 'discovering', 'running', 'ga', '##its', '.', '[SEP]', '[PAD]', '[PAD]', '[PAD]', '[PAD]', '[PAD]', '[PAD]', '[PAD]', '[PAD]', '[PAD]', '[PAD]', '[PAD]', '[PAD]', '[PAD]', '[PAD]', '[PAD]', '[PAD]', '[PAD]', '[PAD]', '[PAD]', '[PAD]', '[PAD]', '[PAD]', '[PAD]', '[PAD]', '[PAD]', '[PAD]', '[PAD]', '[PAD]', '[PAD]', '[PAD]', '[CLS]', 'the', 'balance', 'feedback', 'law', 'allows', 'robust', 'control', 'strategies', 'to', 'be', 'found', 'in', 'difficult', 'environments', '(', 'e', '.', 'g', '.', ',', 'being', 'pushed', 'by', 'random', 'forces', ')', '.', '[SEP]', '[PAD]', '[PAD]', '[PAD]', '[PAD]', '[PAD]', '[PAD]', '[PAD]', '[PAD]', '[PAD]', '[PAD]', '[PAD]', '[PAD]', '[PAD]', '[PAD]', '[PAD]', '[PAD]', '[PAD]', '[PAD]', '[PAD]', '[PAD]', '[PAD]', '[CLS]', 'u', 'ta', '=', 'q', 'ta', '+', 'u', 'l', 'ta', ',', 'u', 'ham', '=', 'q', 'ham', '+', 'u', 'ham', 'f', ',', 'u', 'g', '##lu', '=', 'q', 'g', '##lu', '+', 'u', 'f', 'g', '##lu', ',', 'u', 'h', '##fl', '=', 'q', 'h', '##fl', '+', 'u', 'l', 'h', '##fl', 'a', 'u', 'l', '[SEP]']\n",
      "[0 0 0 0 0 0 0 0 0 0 0 0 0 0 0 0 0 0 0 0 0 0 0 0 0 0 0 0 0 0 0 0 0 0 0 0 0\n",
      " 0 0 0 0 0 0 0 0 0 0 0 0 0]\n",
      "[-100    1    1 -100 -100    1    1    1    1    1    1    1 -100 -100\n",
      " -100 -100 -100 -100 -100 -100 -100 -100 -100 -100 -100 -100 -100 -100\n",
      " -100 -100 -100 -100 -100 -100 -100 -100 -100 -100 -100 -100 -100 -100\n",
      " -100 -100 -100 -100 -100 -100 -100 -100]\n",
      "\n",
      "['[CLS]', '<', 'h', '##2', '>', '4', '.', '4', 'out', '-', 'of', '-', 'plane', 'and', 'upper', '##body', 'control', '<', '/', 'h', '##2', '>', '[SEP]', '[PAD]', '[PAD]', '[PAD]', '[PAD]', '[PAD]', '[PAD]', '[PAD]', '[PAD]', '[PAD]', '[PAD]', '[PAD]', '[PAD]', '[PAD]', '[PAD]', '[PAD]', '[PAD]', '[PAD]', '[PAD]', '[PAD]', '[PAD]', '[PAD]', '[PAD]', '[PAD]', '[PAD]', '[PAD]', '[PAD]', '[PAD]', '[CLS]', 'the', 'rest', 'of', 'the', 'do', '##fs', 'are', 'controlled', 'using', 'standard', 'joint', '-', 'space', 'pd', '##con', '##tro', '##ller', '##s', 'with', 'state', '-', 'dependent', 'parameters', '.', '[SEP]', '[PAD]', '[PAD]', '[PAD]', '[PAD]', '[PAD]', '[PAD]', '[PAD]', '[PAD]', '[PAD]', '[PAD]', '[PAD]', '[PAD]', '[PAD]', '[PAD]', '[PAD]', '[PAD]', '[PAD]', '[PAD]', '[PAD]', '[PAD]', '[PAD]', '[PAD]', '[PAD]', '[PAD]', '[CLS]', 'following', 'wang', 'et', 'al', '.', '[SEP]', '[PAD]', '[PAD]', '[PAD]', '[PAD]', '[PAD]', '[PAD]', '[PAD]', '[PAD]', '[PAD]', '[PAD]', '[PAD]', '[PAD]', '[PAD]', '[PAD]', '[PAD]', '[PAD]', '[PAD]', '[PAD]', '[PAD]', '[PAD]', '[PAD]', '[PAD]', '[PAD]', '[PAD]', '[PAD]', '[PAD]', '[PAD]', '[PAD]', '[PAD]', '[PAD]', '[PAD]', '[PAD]', '[PAD]', '[PAD]', '[PAD]', '[PAD]', '[PAD]', '[PAD]', '[PAD]', '[PAD]', '[PAD]', '[PAD]', '[PAD]', '[CLS]', '[', '2010', ']', '[SEP]', '[PAD]', '[PAD]', '[PAD]', '[PAD]', '[PAD]', '[PAD]', '[PAD]', '[PAD]', '[PAD]', '[PAD]', '[PAD]', '[PAD]', '[PAD]', '[PAD]', '[PAD]', '[PAD]', '[PAD]', '[PAD]', '[PAD]', '[PAD]', '[PAD]', '[PAD]', '[PAD]', '[PAD]', '[PAD]', '[PAD]', '[PAD]', '[PAD]', '[PAD]', '[PAD]', '[PAD]', '[PAD]', '[PAD]', '[PAD]', '[PAD]', '[PAD]', '[PAD]', '[PAD]', '[PAD]', '[PAD]', '[PAD]', '[PAD]', '[PAD]', '[PAD]', '[PAD]', '[CLS]', ',', 'the', 'target', 'features', 'for', 'the', 'ankle', 'and', 'hip', 'joints', 'in', 'the', 'corona', '##l', 'plane', 'are', 'the', 'global', 'foot', 'and', 'pe', '##lvis', 'orientation', '##s', ',', 'respectively', '.', '[SEP]', '[PAD]', '[PAD]', '[PAD]', '[PAD]', '[PAD]', '[PAD]', '[PAD]', '[PAD]', '[PAD]', '[PAD]', '[PAD]', '[PAD]', '[PAD]', '[PAD]', '[PAD]', '[PAD]', '[PAD]', '[PAD]', '[PAD]', '[PAD]', '[PAD]', '[CLS]', 'the', 'corona', '##l', 'swing', 'hip', 'target', 'angles', 'follow', 'the', 'same', 'feedback', 'law', 'as', '[UNK]', 'h', '.', '[SEP]', '[PAD]', '[PAD]', '[PAD]', '[PAD]', '[PAD]', '[PAD]', '[PAD]', '[PAD]', '[PAD]', '[PAD]', '[PAD]', '[PAD]', '[PAD]', '[PAD]', '[PAD]', '[PAD]', '[PAD]', '[PAD]', '[PAD]', '[PAD]', '[PAD]', '[PAD]', '[PAD]', '[PAD]', '[PAD]', '[PAD]', '[PAD]', '[PAD]', '[PAD]', '[PAD]', '[PAD]', '[PAD]', '[CLS]', 'additionally', ',', 'we', 'set', 'the', 'toe', 'joint', 'to', 'be', 'a', 'spring', 'with', 'spring', 'constant', 'of', '30', 'nm', '/', 'ra', '##d', ',', 'target', 'angle', '0', ',', 'and', 'no', 'damp', '##ing', '.', '[SEP]', '[PAD]', '[PAD]', '[PAD]', '[PAD]', '[PAD]', '[PAD]', '[PAD]', '[PAD]', '[PAD]', '[PAD]', '[PAD]', '[PAD]', '[PAD]', '[PAD]', '[PAD]', '[PAD]', '[PAD]', '[PAD]', '[CLS]', 'unlike', 'in', 'previous', 'work', ',', 'where', 'a', 'ga', '##it', 'cycle', 'is', 'broken', 'down', 'into', 'four', 'states', ',', 'only', 'two', 'are', 'needed', '(', 'triggered', 'by', 'left', '/', 'right', 'foot', '-', 'strike', ')', 'since', 'do', '##fs', 'with', 'the', 'most', 'complex', 'activities', 'are', 'act', '##uated', 'by', 'muscles', '.', '[SEP]', '[PAD]', '[PAD]', '[PAD]']\n",
      "[0 0 0 0 0 0 0 0 0 0 0 0 0 0 0 0 0 0 0 0 0 0 0 0 0 0 0 0 0 0 0 0 0 0 0 0 0\n",
      " 0 0 0 0 0 0 0 0 0 0 0 0 0]\n",
      "[-100    0    0    0    0    0 -100 -100 -100 -100 -100 -100 -100 -100\n",
      " -100 -100 -100 -100 -100 -100 -100 -100 -100 -100 -100 -100 -100 -100\n",
      " -100 -100 -100 -100 -100 -100 -100 -100 -100 -100 -100 -100 -100 -100\n",
      " -100 -100 -100 -100 -100 -100 -100 -100]\n",
      "\n",
      "['[CLS]', 'our', 'upper', 'body', 'control', 'also', 'largely', 'follows', '[SEP]', '[PAD]', '[PAD]', '[PAD]', '[PAD]', '[PAD]', '[PAD]', '[PAD]', '[PAD]', '[PAD]', '[PAD]', '[PAD]', '[PAD]', '[PAD]', '[PAD]', '[PAD]', '[PAD]', '[PAD]', '[PAD]', '[PAD]', '[PAD]', '[PAD]', '[PAD]', '[PAD]', '[PAD]', '[PAD]', '[PAD]', '[PAD]', '[PAD]', '[PAD]', '[PAD]', '[PAD]', '[PAD]', '[PAD]', '[PAD]', '[PAD]', '[PAD]', '[PAD]', '[PAD]', '[PAD]', '[PAD]', '[PAD]', '[CLS]', 'wang', 'et', 'al', '.', '[SEP]', '[PAD]', '[PAD]', '[PAD]', '[PAD]', '[PAD]', '[PAD]', '[PAD]', '[PAD]', '[PAD]', '[PAD]', '[PAD]', '[PAD]', '[PAD]', '[PAD]', '[PAD]', '[PAD]', '[PAD]', '[PAD]', '[PAD]', '[PAD]', '[PAD]', '[PAD]', '[PAD]', '[PAD]', '[PAD]', '[PAD]', '[PAD]', '[PAD]', '[PAD]', '[PAD]', '[PAD]', '[PAD]', '[PAD]', '[PAD]', '[PAD]', '[PAD]', '[PAD]', '[PAD]', '[PAD]', '[PAD]', '[PAD]', '[PAD]', '[PAD]', '[PAD]', '[CLS]', '[', '2010', ']', '[SEP]', '[PAD]', '[PAD]', '[PAD]', '[PAD]', '[PAD]', '[PAD]', '[PAD]', '[PAD]', '[PAD]', '[PAD]', '[PAD]', '[PAD]', '[PAD]', '[PAD]', '[PAD]', '[PAD]', '[PAD]', '[PAD]', '[PAD]', '[PAD]', '[PAD]', '[PAD]', '[PAD]', '[PAD]', '[PAD]', '[PAD]', '[PAD]', '[PAD]', '[PAD]', '[PAD]', '[PAD]', '[PAD]', '[PAD]', '[PAD]', '[PAD]', '[PAD]', '[PAD]', '[PAD]', '[PAD]', '[PAD]', '[PAD]', '[PAD]', '[PAD]', '[PAD]', '[PAD]', '[CLS]', ',', 'with', 'the', 'exception', 'that', 'the', 'target', 'feature', 'of', 'our', 'back', 'joint', 'in', 'the', 'corona', '##l', 'plane', 'is', 'the', 'global', 'orientation', 'of', 'the', 'torso', 'instead', 'of', 'the', 'local', 'joint', 'angle', 'between', 'the', 'torso', 'and', 'the', 'pe', '##lvis', '.', '[SEP]', '[PAD]', '[PAD]', '[PAD]', '[PAD]', '[PAD]', '[PAD]', '[PAD]', '[PAD]', '[PAD]', '[PAD]', '[CLS]', 'this', 'global', 'target', 'allows', 'our', 'model', 'to', 'better', 'keep', 'the', 'head', 'upright', 'during', 'loco', '##mot', '##ion', '.', '[SEP]', '[PAD]', '[PAD]', '[PAD]', '[PAD]', '[PAD]', '[PAD]', '[PAD]', '[PAD]', '[PAD]', '[PAD]', '[PAD]', '[PAD]', '[PAD]', '[PAD]', '[PAD]', '[PAD]', '[PAD]', '[PAD]', '[PAD]', '[PAD]', '[PAD]', '[PAD]', '[PAD]', '[PAD]', '[PAD]', '[PAD]', '[PAD]', '[PAD]', '[PAD]', '[PAD]', '[PAD]', '[CLS]', 'we', 'fix', 'the', 'spring', 'and', 'damp', '##er', 'constant', '##s', 'for', 'all', 'arm', 'joints', 'to', '30', 'nm', '/', 'ra', '##d', 'and', '3', 'nm', '##s', '/', 'ra', '##d', ',', 'respectively', ',', 'with', 'target', 'angles', 'set', 'to', '0', '.', '[SEP]', '[PAD]', '[PAD]', '[PAD]', '[PAD]', '[PAD]', '[PAD]', '[PAD]', '[PAD]', '[PAD]', '[PAD]', '[PAD]', '[PAD]', '[CLS]', 'we', 'found', 'that', 'more', 'human', '-', 'like', 'arm', 'swing', 'can', 'be', 'generated', 'by', 'relating', 'the', 'elbow', 'and', 'shoulder', 'target', 'angles', 'as', '[UNK]', 's', 'l', '=', 'i', '##±', 'arm', '[UNK]', 'h', 'l', 'a', '[UNK]', 'h', 'r', '+', '[UNK]', 'e', 'd', 'and', 'i', 'l', 's', '=', '[UNK]', 'e', 'd', ',', '[SEP]', '[CLS]', 'this', 'formulation', 'captures', 'the', 'tendency', 'to', 'rotate', 'the', 'shoulder', 'backwards', 'and', 'inward', '##s', 'while', 'bending', 'the', 'elbow', '.', '[SEP]', '[PAD]', '[PAD]', '[PAD]', '[PAD]', '[PAD]', '[PAD]', '[PAD]', '[PAD]', '[PAD]', '[PAD]', '[PAD]', '[PAD]', '[PAD]', '[PAD]', '[PAD]', '[PAD]', '[PAD]', '[PAD]', '[PAD]', '[PAD]', '[PAD]', '[PAD]', '[PAD]', '[PAD]', '[PAD]', '[PAD]', '[PAD]', '[PAD]', '[PAD]', '[PAD]']\n",
      "[0 0 0 0 0 0 0 0 0 0 0 0 0 0 0 0 0 0 0 0 0 0 0 0 0 0 0 0 0 0 0 0 0 0 0 0 0\n",
      " 0 0 0 0 0 0 0 0 0 0 0 0 0]\n",
      "[-100    0    0 -100 -100 -100 -100 -100 -100 -100 -100 -100 -100 -100\n",
      " -100 -100 -100 -100 -100 -100 -100 -100 -100 -100 -100 -100 -100 -100\n",
      " -100 -100 -100 -100 -100 -100 -100 -100 -100 -100 -100 -100 -100 -100\n",
      " -100 -100 -100 -100 -100 -100 -100 -100]\n",
      "\n",
      "['[CLS]', 'the', 'scale', 'constant', 'and', 'the', 'desired', 'elbow', 'angle', 'are', 'among', 'the', 'parameters', 'set', 'by', 'optimization', ',', 'as', 'described', 'in', 'the', 'next', 'section', '.', '[SEP]', '[PAD]', '[PAD]', '[PAD]', '[PAD]', '[PAD]', '[PAD]', '[PAD]', '[PAD]', '[PAD]', '[PAD]', '[PAD]', '[PAD]', '[PAD]', '[PAD]', '[PAD]', '[PAD]', '[PAD]', '[PAD]', '[PAD]', '[PAD]', '[PAD]', '[PAD]', '[PAD]', '[PAD]', '[PAD]', '[CLS]', '<', 'h', '##1', '>', '5', 'optimization', '<', '/', 'h', '##1', '>', '[SEP]', '[PAD]', '[PAD]', '[PAD]', '[PAD]', '[PAD]', '[PAD]', '[PAD]', '[PAD]', '[PAD]', '[PAD]', '[PAD]', '[PAD]', '[PAD]', '[PAD]', '[PAD]', '[PAD]', '[PAD]', '[PAD]', '[PAD]', '[PAD]', '[PAD]', '[PAD]', '[PAD]', '[PAD]', '[PAD]', '[PAD]', '[PAD]', '[PAD]', '[PAD]', '[PAD]', '[PAD]', '[PAD]', '[PAD]', '[PAD]', '[PAD]', '[PAD]', '[PAD]', '[CLS]', 'the', 'control', 'algorithm', 'specified', 'in', 'section', '4', 'has', 'a', 'large', 'number', 'of', 'parameters', ',', 'which', 'we', 'set', 'by', 'optimization', '[SEP]', '[PAD]', '[PAD]', '[PAD]', '[PAD]', '[PAD]', '[PAD]', '[PAD]', '[PAD]', '[PAD]', '[PAD]', '[PAD]', '[PAD]', '[PAD]', '[PAD]', '[PAD]', '[PAD]', '[PAD]', '[PAD]', '[PAD]', '[PAD]', '[PAD]', '[PAD]', '[PAD]', '[PAD]', '[PAD]', '[PAD]', '[PAD]', '[PAD]', '[PAD]', '[CLS]', '[', 'wang', 'et', 'al', '.', '[SEP]', '[PAD]', '[PAD]', '[PAD]', '[PAD]', '[PAD]', '[PAD]', '[PAD]', '[PAD]', '[PAD]', '[PAD]', '[PAD]', '[PAD]', '[PAD]', '[PAD]', '[PAD]', '[PAD]', '[PAD]', '[PAD]', '[PAD]', '[PAD]', '[PAD]', '[PAD]', '[PAD]', '[PAD]', '[PAD]', '[PAD]', '[PAD]', '[PAD]', '[PAD]', '[PAD]', '[PAD]', '[PAD]', '[PAD]', '[PAD]', '[PAD]', '[PAD]', '[PAD]', '[PAD]', '[PAD]', '[PAD]', '[PAD]', '[PAD]', '[PAD]', '[CLS]', '2010', ']', '.', '[SEP]', '[PAD]', '[PAD]', '[PAD]', '[PAD]', '[PAD]', '[PAD]', '[PAD]', '[PAD]', '[PAD]', '[PAD]', '[PAD]', '[PAD]', '[PAD]', '[PAD]', '[PAD]', '[PAD]', '[PAD]', '[PAD]', '[PAD]', '[PAD]', '[PAD]', '[PAD]', '[PAD]', '[PAD]', '[PAD]', '[PAD]', '[PAD]', '[PAD]', '[PAD]', '[PAD]', '[PAD]', '[PAD]', '[PAD]', '[PAD]', '[PAD]', '[PAD]', '[PAD]', '[PAD]', '[PAD]', '[PAD]', '[PAD]', '[PAD]', '[PAD]', '[PAD]', '[PAD]', '[CLS]', 'more', 'specifically', ',', 'each', 'of', 'the', 'u', 'm', 'f', ',', 'u', 'm', 'l', ',', 'and', 'u', 'm', '[UNK]', 'laws', 'have', 'one', ',', 'two', ',', 'and', 'three', 'parameters', ',', 'respectively', '.', '[SEP]', '[PAD]', '[PAD]', '[PAD]', '[PAD]', '[PAD]', '[PAD]', '[PAD]', '[PAD]', '[PAD]', '[PAD]', '[PAD]', '[PAD]', '[PAD]', '[PAD]', '[PAD]', '[PAD]', '[PAD]', '[PAD]', '[CLS]', 'there', 'are', '56', 'parameters', 'in', 'total', '(', '30', 'stance', ',', '26', 'swing', ')', 'for', 'the', 'mt', '##u', 'control', 'laws', '.', '[SEP]', '[PAD]', '[PAD]', '[PAD]', '[PAD]', '[PAD]', '[PAD]', '[PAD]', '[PAD]', '[PAD]', '[PAD]', '[PAD]', '[PAD]', '[PAD]', '[PAD]', '[PAD]', '[PAD]', '[PAD]', '[PAD]', '[PAD]', '[PAD]', '[PAD]', '[PAD]', '[PAD]', '[PAD]', '[PAD]', '[PAD]', '[PAD]', '[PAD]', '[CLS]', 'for', 'the', 'upper', 'body', 'and', 'the', 'non', '-', 'sa', '##git', '##tal', 'do', '##fs', 'in', 'the', 'lower', 'body', ',', 'we', 'opt', '##imi', '##ze', 'the', 'pd', '##con', '##tro', '##l', 'parameters', '(', 'spring', '-', 'damp', '##er', 'constant', '##s', ',', 'target', 'angle', ',', 'balance', 'feedback', ')', 'for', 'all', 'joints', 'except', 'for', 'arms', '[SEP]']\n",
      "[0 0 0 0 0 0 0 0 0 0 0 0 0 0 0 0 0 0 0 0 0 0 0 0 0 0 0 0 0 0 0 0 0 0 0 0 0\n",
      " 0 0 0 0 0 0 0 0 0 0 0 0 0]\n",
      "[-100    0    0    1    1    1    1    1    0 -100 -100 -100 -100 -100\n",
      " -100 -100 -100 -100 -100 -100 -100 -100 -100 -100 -100 -100 -100 -100\n",
      " -100 -100 -100 -100 -100 -100 -100 -100 -100 -100 -100 -100 -100 -100\n",
      " -100 -100 -100 -100 -100 -100 -100 -100]\n",
      "\n",
      "['[CLS]', 'when', 'combined', 'with', '33', 'free', 'parameters', 'describing', 'the', 'initial', 'state', 'of', 'the', 'simulation', ',', '124', 'parameters', '(', 'w', ')', 'fully', 'define', 'a', 'simulated', 'motion', '{', 's', '1', '.', '[SEP]', '[PAD]', '[PAD]', '[PAD]', '[PAD]', '[PAD]', '[PAD]', '[PAD]', '[PAD]', '[PAD]', '[PAD]', '[PAD]', '[PAD]', '[PAD]', '[PAD]', '[PAD]', '[PAD]', '[PAD]', '[PAD]', '[PAD]', '[PAD]', '[CLS]', '.', 's', 't', '}', 'over', 't', 'times', '##te', '##ps', '.', '[SEP]', '[PAD]', '[PAD]', '[PAD]', '[PAD]', '[PAD]', '[PAD]', '[PAD]', '[PAD]', '[PAD]', '[PAD]', '[PAD]', '[PAD]', '[PAD]', '[PAD]', '[PAD]', '[PAD]', '[PAD]', '[PAD]', '[PAD]', '[PAD]', '[PAD]', '[PAD]', '[PAD]', '[PAD]', '[PAD]', '[PAD]', '[PAD]', '[PAD]', '[PAD]', '[PAD]', '[PAD]', '[PAD]', '[PAD]', '[PAD]', '[PAD]', '[PAD]', '[PAD]', '[PAD]', '[CLS]', 'we', 'opt', '##imi', '##ze', 'control', 'parameters', 'and', 'the', 'initial', 'state', 'using', 'co', '##var', '##iance', 'matrix', 'adaptation', '(', 'cm', '##a', ')', '[SEP]', '[PAD]', '[PAD]', '[PAD]', '[PAD]', '[PAD]', '[PAD]', '[PAD]', '[PAD]', '[PAD]', '[PAD]', '[PAD]', '[PAD]', '[PAD]', '[PAD]', '[PAD]', '[PAD]', '[PAD]', '[PAD]', '[PAD]', '[PAD]', '[PAD]', '[PAD]', '[PAD]', '[PAD]', '[PAD]', '[PAD]', '[PAD]', '[PAD]', '[CLS]', '[', 'hansen', '2006', ']', ',', 'with', 'steps', '##ize', 'i', '=', '0', '.', '00', '##5', 'and', '50', 'samples', 'per', 'iteration', '.', '[SEP]', '[PAD]', '[PAD]', '[PAD]', '[PAD]', '[PAD]', '[PAD]', '[PAD]', '[PAD]', '[PAD]', '[PAD]', '[PAD]', '[PAD]', '[PAD]', '[PAD]', '[PAD]', '[PAD]', '[PAD]', '[PAD]', '[PAD]', '[PAD]', '[PAD]', '[PAD]', '[PAD]', '[PAD]', '[PAD]', '[PAD]', '[PAD]', '[PAD]', '[CLS]', 'the', 'optimization', 'aims', 'to', 'maximize', 'the', 'following', 'return', 'function', ':', 't', 'r', '(', 'w', ')', '=', 'r', '(', 's', 't', ')', 'a', 'w', 'e', 'j', 'effort', '.', '[SEP]', '[PAD]', '[PAD]', '[PAD]', '[PAD]', '[PAD]', '[PAD]', '[PAD]', '[PAD]', '[PAD]', '[PAD]', '[PAD]', '[PAD]', '[PAD]', '[PAD]', '[PAD]', '[PAD]', '[PAD]', '[PAD]', '[PAD]', '[PAD]', '[PAD]', '[CLS]', 't', '=', '1', 'here', 'r', 'is', 'a', 'scala', '##r', 'reward', 'function', 'of', 'the', 'current', 'state', 's', 't', ',', 'j', 'effort', 'measures', 'the', 'effort', 'of', 'the', 'synthesized', 'motion', ',', 'and', 'w', 'e', 'is', 'set', 'to', '0', '.', '00', '##4', 'divided', 'by', 'the', 'mass', 'of', 'the', 'model', ',', 'motivated', 'by', '[SEP]', '[CLS]', 'wang', 'et', 'al', '.', '[SEP]', '[PAD]', '[PAD]', '[PAD]', '[PAD]', '[PAD]', '[PAD]', '[PAD]', '[PAD]', '[PAD]', '[PAD]', '[PAD]', '[PAD]', '[PAD]', '[PAD]', '[PAD]', '[PAD]', '[PAD]', '[PAD]', '[PAD]', '[PAD]', '[PAD]', '[PAD]', '[PAD]', '[PAD]', '[PAD]', '[PAD]', '[PAD]', '[PAD]', '[PAD]', '[PAD]', '[PAD]', '[PAD]', '[PAD]', '[PAD]', '[PAD]', '[PAD]', '[PAD]', '[PAD]', '[PAD]', '[PAD]', '[PAD]', '[PAD]', '[PAD]', '[PAD]', '[CLS]', '[', '2010', ']', '.', '[SEP]', '[PAD]', '[PAD]', '[PAD]', '[PAD]', '[PAD]', '[PAD]', '[PAD]', '[PAD]', '[PAD]', '[PAD]', '[PAD]', '[PAD]', '[PAD]', '[PAD]', '[PAD]', '[PAD]', '[PAD]', '[PAD]', '[PAD]', '[PAD]', '[PAD]', '[PAD]', '[PAD]', '[PAD]', '[PAD]', '[PAD]', '[PAD]', '[PAD]', '[PAD]', '[PAD]', '[PAD]', '[PAD]', '[PAD]', '[PAD]', '[PAD]', '[PAD]', '[PAD]', '[PAD]', '[PAD]', '[PAD]', '[PAD]', '[PAD]', '[PAD]', '[PAD]']\n",
      "[0 0 0 0 0 0 0 0 0 0 0 0 0 0 0 0 0 0 0 0 0 0 0 0 0 0 0 0 0 0 0 0 0 0 0 0 0\n",
      " 0 0 0 0 0 0 0 0 0 0 0 0 0]\n",
      "[-100    1    1    1    1 -100 -100 -100    1 -100 -100    1    1    1\n",
      "    1    1    1    1    1    1    1    1    1    1    1    1 -100 -100\n",
      " -100 -100 -100 -100 -100 -100 -100 -100 -100 -100 -100 -100 -100 -100\n",
      " -100 -100 -100 -100 -100 -100 -100 -100]\n",
      "\n"
     ]
    },
    {
     "name": "stderr",
     "output_type": "stream",
     "text": [
      "Iteration: 100%|██████████| 4153/4153 [12:05<00:00,  5.86it/s]\n",
      "Iteration:   0%|          | 1/4153 [00:00<12:25,  5.57it/s]"
     ]
    },
    {
     "name": "stdout",
     "output_type": "stream",
     "text": [
      "['[CLS]', 'g', 'm', 'and', 'h', 'm', 'are', 'free', 'positive', 'parameters', 'and', '{', '}', 'a', '##±', 'means', 'only', 'positive', 'or', 'negative', 'values', '(', '0', 'otherwise', ')', '.', '[SEP]', '[PAD]', '[PAD]', '[PAD]', '[PAD]', '[PAD]', '[PAD]', '[PAD]', '[PAD]', '[PAD]', '[PAD]', '[PAD]', '[PAD]', '[PAD]', '[PAD]', '[PAD]', '[PAD]', '[PAD]', '[PAD]', '[PAD]', '[PAD]', '[PAD]', '[PAD]', '[PAD]', '[CLS]', 'the', 'positive', 'length', 'feedback', 'effectively', 'models', 'a', 'stretch', 'reflex', ',', 'which', 'activate', '##s', 'the', 'muscle', 'when', 'the', 'fiber', 'is', 'stretched', 'beyond', 'a', 'fixed', 'length', '.', '[SEP]', '[PAD]', '[PAD]', '[PAD]', '[PAD]', '[PAD]', '[PAD]', '[PAD]', '[PAD]', '[PAD]', '[PAD]', '[PAD]', '[PAD]', '[PAD]', '[PAD]', '[PAD]', '[PAD]', '[PAD]', '[PAD]', '[PAD]', '[PAD]', '[PAD]', '[PAD]', '[PAD]', '[CLS]', 'u', 'l', 'm', 'is', 'most', 'useful', 'during', 'the', 'swing', 'phase', ',', 'as', 'the', 'ta', 'must', 'be', 'activated', 'to', 'do', '##rs', '##if', '##le', '##x', 'so', 'that', 'toe', '-', 'stu', '##bbing', 'can', 'be', 'avoided', '.', '[SEP]', '[PAD]', '[PAD]', '[PAD]', '[PAD]', '[PAD]', '[PAD]', '[PAD]', '[PAD]', '[PAD]', '[PAD]', '[PAD]', '[PAD]', '[PAD]', '[PAD]', '[PAD]', '[CLS]', 'in', 'addition', ',', 'the', 'h', '##fl', 'relies', 'on', 'length', 'feedback', 'to', 'generate', 'hip', 'flex', '##ion', 'torque', 'during', 'early', 'swing', ',', 'especially', 'during', 'running', '.', '[SEP]', '[PAD]', '[PAD]', '[PAD]', '[PAD]', '[PAD]', '[PAD]', '[PAD]', '[PAD]', '[PAD]', '[PAD]', '[PAD]', '[PAD]', '[PAD]', '[PAD]', '[PAD]', '[PAD]', '[PAD]', '[PAD]', '[PAD]', '[PAD]', '[PAD]', '[PAD]', '[PAD]', '[PAD]', '[CLS]', 'muscle', '-', 'driven', 'pd', 'control', '.', '[SEP]', '[PAD]', '[PAD]', '[PAD]', '[PAD]', '[PAD]', '[PAD]', '[PAD]', '[PAD]', '[PAD]', '[PAD]', '[PAD]', '[PAD]', '[PAD]', '[PAD]', '[PAD]', '[PAD]', '[PAD]', '[PAD]', '[PAD]', '[PAD]', '[PAD]', '[PAD]', '[PAD]', '[PAD]', '[PAD]', '[PAD]', '[PAD]', '[PAD]', '[PAD]', '[PAD]', '[PAD]', '[PAD]', '[PAD]', '[PAD]', '[PAD]', '[PAD]', '[PAD]', '[PAD]', '[PAD]', '[PAD]', '[PAD]', '[PAD]', '[CLS]', 'we', 'also', 'define', 'a', 'muscle', '-', 'driven', 'pd', 'control', 'law', 'with', 'respect', 'to', 'an', 'angular', 'feature', '[UNK]', 'as', 'where', 'k', 'm', ',', 'd', 'm', ',', '[UNK]', 'm', 'are', 'free', 'parameters', 'of', 'the', 'pd', '-', 'controller', '.', '[SEP]', '[PAD]', '[PAD]', '[PAD]', '[PAD]', '[PAD]', '[PAD]', '[PAD]', '[PAD]', '[PAD]', '[PAD]', '[PAD]', '[PAD]', '[CLS]', 'the', 'brace', '##s', 'sign', 'is', 'positive', 'if', 'torque', 'generated', 'by', 'm', 'is', 'in', 'the', 'opposing', 'direction', 'of', '[UNK]', '.', 'g', '.', ',', 'if', 'm', 'is', 'the', 'hip', 'ex', '##tens', '##or', 'and', '[UNK]', 'is', 'the', 'hip', 'flex', '##ion', 'angle', '##aan', '##d', 'negative', 'otherwise', '.', '[SEP]', '[PAD]', '[PAD]', '[PAD]', '[PAD]', '[PAD]', '[CLS]', 'much', 'like', 'the', 'standard', 'torque', '##base', '##d', 'pd', '-', 'controller', ',', 'the', 'muscle', '-', 'driven', 'pd', 'control', 'aims', 'to', 'adjust', '[UNK]', 'towards', 'the', 'target', 'angle', '[UNK]', 'm', 'while', 'damp', '##ing', 'its', 'velocity', '.', '[SEP]', '[PAD]', '[PAD]', '[PAD]', '[PAD]', '[PAD]', '[PAD]', '[PAD]', '[PAD]', '[PAD]', '[PAD]', '[PAD]', '[PAD]', '[PAD]', '[PAD]', '[PAD]']\n",
      "[0 0 0 0 0 0 0 0 0 0 0 0 0 0 0 0 0 0 0 0 0 0 0 0 0 0 0 0 0 0 0 0 0 0 0 0 0\n",
      " 0 0 0 0 0 0 0 0 0 0 0 0 0]\n",
      "[-100    1    1    1 -100    1    1    1    1    1    1    1    1    1\n",
      "    1    1    1    1    1    1 -100 -100    1    1    1    1    0    0\n",
      "    1    1    1    1 -100    1 -100    1    1 -100    1    1    0    0\n",
      "    0    0    0 -100 -100 -100 -100 -100]\n",
      "\n",
      "['[CLS]', 'however', ',', 'unlike', 'the', 'standard', 'pd', '-', 'controller', ',', 'muscles', 'can', 'only', 'activate', 'after', 'a', 'time', '-', 'delay', 'and', 'each', 'muscle', 'can', 'only', 'generate', 'forces', 'to', 'rotate', 'the', 'angular', 'do', '##f', 'in', 'one', 'direction', '.', '[SEP]', '[PAD]', '[PAD]', '[PAD]', '[PAD]', '[PAD]', '[PAD]', '[PAD]', '[PAD]', '[PAD]', '[PAD]', '[PAD]', '[PAD]', '[PAD]', '[CLS]', 'the', 'pd', '-', 'control', 'laws', 'are', 'employed', 'by', 'the', 'hip', 'muscles', 'during', 'the', 'stance', 'phase', 'to', 'maintain', 'the', 'global', 'upper', 'body', 'orientation', ',', 'as', 'well', 'as', 'during', 'stance', 'preparation', 'to', 'prepare', 'for', 'ground', 'contact', '.', '[SEP]', '[PAD]', '[PAD]', '[PAD]', '[PAD]', '[PAD]', '[PAD]', '[PAD]', '[PAD]', '[PAD]', '[PAD]', '[PAD]', '[PAD]', '[PAD]', '[CLS]', 'u', 'm', '[UNK]', '=', 'k', 'm', '(', '[UNK]', '(', 't', 'a', 'at', 'm', ')', 'a', '[UNK]', 'm', ')', '+', 'd', 'm', '[UNK]', '(', 't', 'i', 'a', 'at', 'm', ')', ',', 'a', '##±', '[SEP]', '[PAD]', '[PAD]', '[PAD]', '[PAD]', '[PAD]', '[PAD]', '[PAD]', '[PAD]', '[PAD]', '[PAD]', '[PAD]', '[PAD]', '[PAD]', '[PAD]', '[PAD]', '[PAD]', '[CLS]', '<', 'h', '##2', '>', '4', '.', '2', 'stance', 'phase', '<', '/', 'h', '##2', '>', '[SEP]', '[PAD]', '[PAD]', '[PAD]', '[PAD]', '[PAD]', '[PAD]', '[PAD]', '[PAD]', '[PAD]', '[PAD]', '[PAD]', '[PAD]', '[PAD]', '[PAD]', '[PAD]', '[PAD]', '[PAD]', '[PAD]', '[PAD]', '[PAD]', '[PAD]', '[PAD]', '[PAD]', '[PAD]', '[PAD]', '[PAD]', '[PAD]', '[PAD]', '[PAD]', '[PAD]', '[PAD]', '[PAD]', '[PAD]', '[PAD]', '[CLS]', 'each', 'muscle', 'has', 'an', 'initial', 'constant', 'ex', '##cit', '##ation', ',', 'or', 'pre', '-', 'stimulation', 'value', 'p', 'm', '.', '[SEP]', '[PAD]', '[PAD]', '[PAD]', '[PAD]', '[PAD]', '[PAD]', '[PAD]', '[PAD]', '[PAD]', '[PAD]', '[PAD]', '[PAD]', '[PAD]', '[PAD]', '[PAD]', '[PAD]', '[PAD]', '[PAD]', '[PAD]', '[PAD]', '[PAD]', '[PAD]', '[PAD]', '[PAD]', '[PAD]', '[PAD]', '[PAD]', '[PAD]', '[PAD]', '[PAD]', '[CLS]', 'these', 'values', 'are', 'initial', '##ized', 'close', 'to', 'zero', ',', 'but', 'are', 'then', 'opt', '##imi', '##zed', '.', '[SEP]', '[PAD]', '[PAD]', '[PAD]', '[PAD]', '[PAD]', '[PAD]', '[PAD]', '[PAD]', '[PAD]', '[PAD]', '[PAD]', '[PAD]', '[PAD]', '[PAD]', '[PAD]', '[PAD]', '[PAD]', '[PAD]', '[PAD]', '[PAD]', '[PAD]', '[PAD]', '[PAD]', '[PAD]', '[PAD]', '[PAD]', '[PAD]', '[PAD]', '[PAD]', '[PAD]', '[PAD]', '[PAD]', '[CLS]', 'the', 'sol', 'and', 'gas', 'both', 'rely', 'on', 'positive', 'force', 'feedback', 'and', 'are', 'the', 'main', 'sources', 'of', 'torque', 'during', 'walking', '.', '[SEP]', '[PAD]', '[PAD]', '[PAD]', '[PAD]', '[PAD]', '[PAD]', '[PAD]', '[PAD]', '[PAD]', '[PAD]', '[PAD]', '[PAD]', '[PAD]', '[PAD]', '[PAD]', '[PAD]', '[PAD]', '[PAD]', '[PAD]', '[PAD]', '[PAD]', '[PAD]', '[PAD]', '[PAD]', '[PAD]', '[PAD]', '[PAD]', '[PAD]', '[CLS]', 'the', 'ta', 'ensures', 'foot', 'clearance', 'during', 'swing', 'using', 'a', 'length', 'feedback', '(', 'u', 'l', 'ta', ')', ',', 'but', 'the', 'activation', 'is', 'suppressed', 'during', 'stance', 'in', 'proportion', 'to', 'the', 'current', 'force', 'generated', 'from', 'sol', '.', '[SEP]', '[PAD]', '[PAD]', '[PAD]', '[PAD]', '[PAD]', '[PAD]', '[PAD]', '[PAD]', '[PAD]', '[PAD]', '[PAD]', '[PAD]', '[PAD]', '[PAD]']\n",
      "[0 0 0 0 0 0 0 0 0 0 0 0 0 0 0 0 0 0 0 0 0 0 0 0 0 0 0 0 0 0 0 0 0 0 0 0 0\n",
      " 0 0 0 0 0 0 0 0 0 0 0 0 0]\n",
      "[-100    1    1    1    1    1    1    1    1    1    1    1    1    1\n",
      "    1    1    0 -100 -100 -100 -100 -100 -100 -100 -100 -100 -100 -100\n",
      " -100 -100 -100 -100 -100 -100 -100 -100 -100 -100 -100 -100 -100 -100\n",
      " -100 -100 -100 -100 -100 -100 -100 -100]\n",
      "\n",
      "['[CLS]', 'the', 'suppression', 'allows', 'the', 'generated', 'ta', 'activation', 'patterns', 'to', 'better', 'match', 'human', 'data', 'during', 'loco', '##mot', '##ion', '.', '[SEP]', '[PAD]', '[PAD]', '[PAD]', '[PAD]', '[PAD]', '[PAD]', '[PAD]', '[PAD]', '[PAD]', '[PAD]', '[PAD]', '[PAD]', '[PAD]', '[PAD]', '[PAD]', '[PAD]', '[PAD]', '[PAD]', '[PAD]', '[PAD]', '[PAD]', '[PAD]', '[PAD]', '[PAD]', '[PAD]', '[PAD]', '[PAD]', '[PAD]', '[PAD]', '[PAD]', '[CLS]', 'the', 'force', 'feedback', 'on', 'the', 'va', '##s', 'creates', 'a', 'strong', 'knee', 'extension', 'torque', 'following', 'ground', 'contact', ',', 'but', 'ex', '##cit', '##ation', 'is', 'suppressed', 'when', 'the', 'knee', 'flex', '##ion', 'angle', '(', '[UNK]', 'k', ')', 'is', 'extended', 'below', 'an', 'offset', '(', '[UNK]', 'k', 'off', ')', 'with', 'an', 'extension', 'velocity', '(', '[SEP]', '[CLS]', 'the', 'suppression', 'prevents', 'hyper', '##ex', '##tension', 'of', 'the', 'knee', 'during', 'mid', '-', 'stance', '.', '[SEP]', '[PAD]', '[PAD]', '[PAD]', '[PAD]', '[PAD]', '[PAD]', '[PAD]', '[PAD]', '[PAD]', '[PAD]', '[PAD]', '[PAD]', '[PAD]', '[PAD]', '[PAD]', '[PAD]', '[PAD]', '[PAD]', '[PAD]', '[PAD]', '[PAD]', '[PAD]', '[PAD]', '[PAD]', '[PAD]', '[PAD]', '[PAD]', '[PAD]', '[PAD]', '[PAD]', '[PAD]', '[PAD]', '[PAD]', '[PAD]', '[CLS]', 'using', 'muscle', '-', 'driven', 'pd', 'control', 'laws', ',', 'the', 'ham', ',', 'g', '##lu', ',', 'and', 'h', '##fl', 'are', 'responsible', 'for', 'maintaining', 'the', 'global', 'orientation', 'of', 'the', 'upper', 'body', '(', 'i', ')', ',', 'defined', 'as', 'the', 'vector', 'between', 'the', 'com', 'of', 'the', 'upper', 'body', 'and', 'the', 'com', 'of', 'the', '[SEP]', '[CLS]', 'during', 'double', 'stance', ',', 'these', 'control', 'laws', 'are', 'only', 'active', 'for', 'the', 'leading', 'leg', ',', 'denoted', 'as', 'u', 'i', 'm', 'lead', '.', '[SEP]', '[PAD]', '[PAD]', '[PAD]', '[PAD]', '[PAD]', '[PAD]', '[PAD]', '[PAD]', '[PAD]', '[PAD]', '[PAD]', '[PAD]', '[PAD]', '[PAD]', '[PAD]', '[PAD]', '[PAD]', '[PAD]', '[PAD]', '[PAD]', '[PAD]', '[PAD]', '[PAD]', '[PAD]', '[PAD]', '[PAD]', '[CLS]', 'specifically', ',', 'control', 'laws', 'during', 'the', 'stance', 'phase', 'are', 'as', 'follows', ':', 'towards', 'the', 'end', 'of', 'the', 'stance', 'phase', ',', 'the', 'controller', 'enters', 'into', 'the', 'swing', 'initiation', ',', 'which', 'begins', 'when', 'either', 'the', 'signed', 'horizontal', 'distance', 'between', 'the', 'com', 'and', 'the', 'ankle', 'normal', '##ized', 'by', 'leg', 'length', 'exceeds', '[SEP]', '[CLS]', 'during', 'swing', 'initiation', ',', 'constant', 'ex', '##cit', '##ation', 'values', 'between', '0', 'and', '1', '(', 'set', 'during', 'optimization', ')', 'are', 'added', 'and', 'sub', '##tracted', 'to', 'the', 'va', '##s', ',', 'rf', ',', 'g', '##lu', ',', 'and', 'h', '##fl', ':', 'the', 'combination', 'of', 'h', '##fl', 'and', 'g', '##lu', 'ex', '##cit', '##ations', '[SEP]', '[CLS]', 'two', 'main', 'differences', 'between', 'our', 'stance', 'phase', 'control', 'laws', 'compared', 'to', '[SEP]', '[PAD]', '[PAD]', '[PAD]', '[PAD]', '[PAD]', '[PAD]', '[PAD]', '[PAD]', '[PAD]', '[PAD]', '[PAD]', '[PAD]', '[PAD]', '[PAD]', '[PAD]', '[PAD]', '[PAD]', '[PAD]', '[PAD]', '[PAD]', '[PAD]', '[PAD]', '[PAD]', '[PAD]', '[PAD]', '[PAD]', '[PAD]', '[PAD]', '[PAD]', '[PAD]', '[PAD]', '[PAD]', '[PAD]', '[PAD]', '[PAD]', '[PAD]', '[PAD]']\n",
      "[0 0 0 0 0 0 0 0 0 0 0 0 0 0 0 0 0 0 0 0 0 0 0 0 0 0 0 0 0 0 0 0 0 0 0 0 0\n",
      " 0 0 0 0 0 0 0 0 0 0 0 0 0]\n",
      "[-100    0    0    0    1    1    1    1    1    1    1    1    1    1\n",
      "    1    1    1    1    0 -100 -100 -100 -100 -100 -100 -100 -100 -100\n",
      " -100 -100 -100 -100 -100 -100 -100 -100 -100 -100 -100 -100 -100 -100\n",
      " -100 -100 -100 -100 -100 -100 -100 -100]\n",
      "\n",
      "['[CLS]', 'ge', '##yer', 'and', 'herr', '[', '2010', ']', '[SEP]', '[PAD]', '[PAD]', '[PAD]', '[PAD]', '[PAD]', '[PAD]', '[PAD]', '[PAD]', '[PAD]', '[PAD]', '[PAD]', '[PAD]', '[PAD]', '[PAD]', '[PAD]', '[PAD]', '[PAD]', '[PAD]', '[PAD]', '[PAD]', '[PAD]', '[PAD]', '[PAD]', '[PAD]', '[PAD]', '[PAD]', '[PAD]', '[PAD]', '[PAD]', '[PAD]', '[PAD]', '[PAD]', '[PAD]', '[PAD]', '[PAD]', '[PAD]', '[PAD]', '[PAD]', '[PAD]', '[PAD]', '[PAD]', '[CLS]', 'lie', 'in', 'how', 'the', 'swing', 'initiation', 'state', 'functions', '.', '[SEP]', '[PAD]', '[PAD]', '[PAD]', '[PAD]', '[PAD]', '[PAD]', '[PAD]', '[PAD]', '[PAD]', '[PAD]', '[PAD]', '[PAD]', '[PAD]', '[PAD]', '[PAD]', '[PAD]', '[PAD]', '[PAD]', '[PAD]', '[PAD]', '[PAD]', '[PAD]', '[PAD]', '[PAD]', '[PAD]', '[PAD]', '[PAD]', '[PAD]', '[PAD]', '[PAD]', '[PAD]', '[PAD]', '[PAD]', '[PAD]', '[PAD]', '[PAD]', '[PAD]', '[PAD]', '[PAD]', '[CLS]', 'first', ',', 'for', 'running', 'we', 'found', 'it', 'necessary', 'to', 'enter', 'into', 'swing', 'initiation', 'using', 'the', 'd', 'i', '&', 'gt', ';', 'd', 'i', 'si', 'condition', ',', 'rather', 'than', 'just', 'wait', 'for', 'double', 'stance', '.', '[SEP]', '[PAD]', '[PAD]', '[PAD]', '[PAD]', '[PAD]', '[PAD]', '[PAD]', '[PAD]', '[PAD]', '[PAD]', '[PAD]', '[PAD]', '[PAD]', '[PAD]', '[PAD]', '[CLS]', 'second', ',', 'we', 'found', 'it', 'unnecessary', 'to', 'mod', '##ulate', 'the', 'muscle', '-', 'driven', 'pd', '-', 'control', 'laws', 'in', 'the', 'hip', 'by', 'ground', 'reaction', 'forces', '.', '[SEP]', '[PAD]', '[PAD]', '[PAD]', '[PAD]', '[PAD]', '[PAD]', '[PAD]', '[PAD]', '[PAD]', '[PAD]', '[PAD]', '[PAD]', '[PAD]', '[PAD]', '[PAD]', '[PAD]', '[PAD]', '[PAD]', '[PAD]', '[PAD]', '[PAD]', '[PAD]', '[PAD]', '[CLS]', 'instead', ',', 'the', 'responsibility', 'to', 'maintain', 'upper', 'body', 'orientation', 'is', 'always', 'assigned', 'to', 'the', 'lead', 'leg', '.', '[SEP]', '[PAD]', '[PAD]', '[PAD]', '[PAD]', '[PAD]', '[PAD]', '[PAD]', '[PAD]', '[PAD]', '[PAD]', '[PAD]', '[PAD]', '[PAD]', '[PAD]', '[PAD]', '[PAD]', '[PAD]', '[PAD]', '[PAD]', '[PAD]', '[PAD]', '[PAD]', '[PAD]', '[PAD]', '[PAD]', '[PAD]', '[PAD]', '[PAD]', '[PAD]', '[PAD]', '[PAD]', '[CLS]', 'u', 'sol', '=', 'p', 'sol', '+', 'u', 'sol', 'f', ',', 'u', 'ta', '=', 'p', 'ta', '+', 'u', 'ta', 'l', 'a', 'u', 'f', 'sol', ',', 'u', 'gas', '=', 'p', 'gas', '+', 'u', 'gas', 'f', ',', 'u', 'va', '##s', '=', 'p', 'va', '##s', '+', 'u', 'f', 'va', '##s', '+', 'k', '[SEP]', '[CLS]', 'u', 'va', '##s', '=', 'u', 'va', '##s', 'a', 's', 'va', '##s', ',', 'u', 'rf', '=', 'u', 'rf', '+', 's', 'rf', ',', 'u', 'g', '##lu', '=', 'u', 'g', '##lu', 'a', 's', 'g', '##lu', ',', 'u', 'h', '##fl', '=', 'u', 'h', '##fl', '+', 's', 'h', '##fl', '.', '[SEP]', '[PAD]', '[PAD]', '[PAD]', '[CLS]', '<', 'h', '##2', '>', '4', '.', '3', 'swing', 'phase', '<', '/', 'h', '##2', '>', '[SEP]', '[PAD]', '[PAD]', '[PAD]', '[PAD]', '[PAD]', '[PAD]', '[PAD]', '[PAD]', '[PAD]', '[PAD]', '[PAD]', '[PAD]', '[PAD]', '[PAD]', '[PAD]', '[PAD]', '[PAD]', '[PAD]', '[PAD]', '[PAD]', '[PAD]', '[PAD]', '[PAD]', '[PAD]', '[PAD]', '[PAD]', '[PAD]', '[PAD]', '[PAD]', '[PAD]', '[PAD]', '[PAD]', '[PAD]', '[PAD]']\n",
      "[0 0 0 0 0 0 0 0 0 0 0 0 0 0 0 0 0 0 0 0 0 0 0 0 0 0 0 0 0 0 0 0 0 0 0 0 0\n",
      " 0 0 0 0 0 0 0 0 0 0 0 0 0]\n",
      "[-100    1    1    1    1    1    1    1    1    1    1 -100    0    0\n",
      "    0    0 -100 -100    0    0 -100 -100 -100 -100 -100 -100 -100 -100\n",
      " -100 -100 -100 -100 -100 -100 -100 -100 -100 -100 -100 -100 -100 -100\n",
      " -100 -100 -100 -100 -100 -100 -100 -100]\n",
      "\n",
      "['[CLS]', 'much', 'like', 'in', 'the', 'stance', 'phase', ',', 'each', 'muscle', 'has', 'an', 'initial', 'constant', 'ex', '##cit', '##ation', 'value', '(', 'q', 'm', ')', '.', '[SEP]', '[PAD]', '[PAD]', '[PAD]', '[PAD]', '[PAD]', '[PAD]', '[PAD]', '[PAD]', '[PAD]', '[PAD]', '[PAD]', '[PAD]', '[PAD]', '[PAD]', '[PAD]', '[PAD]', '[PAD]', '[PAD]', '[PAD]', '[PAD]', '[PAD]', '[PAD]', '[PAD]', '[PAD]', '[PAD]', '[PAD]', '[CLS]', 'the', 'leg', 'motion', 'relies', 'significantly', 'on', 'passive', 'dynamics', 'during', 'the', 'swing', 'phase', '[SEP]', '[PAD]', '[PAD]', '[PAD]', '[PAD]', '[PAD]', '[PAD]', '[PAD]', '[PAD]', '[PAD]', '[PAD]', '[PAD]', '[PAD]', '[PAD]', '[PAD]', '[PAD]', '[PAD]', '[PAD]', '[PAD]', '[PAD]', '[PAD]', '[PAD]', '[PAD]', '[PAD]', '[PAD]', '[PAD]', '[PAD]', '[PAD]', '[PAD]', '[PAD]', '[PAD]', '[PAD]', '[PAD]', '[PAD]', '[PAD]', '[PAD]', '[PAD]', '[CLS]', '[', 'collins', 'et', 'al', '.', '[SEP]', '[PAD]', '[PAD]', '[PAD]', '[PAD]', '[PAD]', '[PAD]', '[PAD]', '[PAD]', '[PAD]', '[PAD]', '[PAD]', '[PAD]', '[PAD]', '[PAD]', '[PAD]', '[PAD]', '[PAD]', '[PAD]', '[PAD]', '[PAD]', '[PAD]', '[PAD]', '[PAD]', '[PAD]', '[PAD]', '[PAD]', '[PAD]', '[PAD]', '[PAD]', '[PAD]', '[PAD]', '[PAD]', '[PAD]', '[PAD]', '[PAD]', '[PAD]', '[PAD]', '[PAD]', '[PAD]', '[PAD]', '[PAD]', '[PAD]', '[PAD]', '[CLS]', '2005', ']', ',', 'as', 'most', 'muscles', 'are', 'only', 'excited', 'at', 'low', 'levels', '.', '[SEP]', '[PAD]', '[PAD]', '[PAD]', '[PAD]', '[PAD]', '[PAD]', '[PAD]', '[PAD]', '[PAD]', '[PAD]', '[PAD]', '[PAD]', '[PAD]', '[PAD]', '[PAD]', '[PAD]', '[PAD]', '[PAD]', '[PAD]', '[PAD]', '[PAD]', '[PAD]', '[PAD]', '[PAD]', '[PAD]', '[PAD]', '[PAD]', '[PAD]', '[PAD]', '[PAD]', '[PAD]', '[PAD]', '[PAD]', '[PAD]', '[PAD]', '[CLS]', 'the', 'main', 'exceptions', 'are', 'the', 'ta', ',', 'which', 'maintains', 'the', 'length', 'feedback', '(', 'u', 'l', 'ta', ')', 'to', 'avoid', 'toes', '##tub', '##bing', ',', 'and', 'the', 'ham', ',', 'which', 'is', 'activated', 'at', 'late', 'swing', 'phase', 'to', 'prevent', 'the', 'knee', 'from', 'being', 'over', '##ex', '##ten', '##ded', 'before', 'landing', '.', '[SEP]', '[PAD]', '[CLS]', 'the', 'h', '##fl', 'introduces', 'a', 'hip', 'flex', '##ion', 'torque', 'through', 'a', 'length', 'feedback', ',', 'which', 'is', 'suppressed', 'when', 'the', 'ham', 'is', 'stretched', 'in', 'during', 'late', 'swing', '.', '[SEP]', '[PAD]', '[PAD]', '[PAD]', '[PAD]', '[PAD]', '[PAD]', '[PAD]', '[PAD]', '[PAD]', '[PAD]', '[PAD]', '[PAD]', '[PAD]', '[PAD]', '[PAD]', '[PAD]', '[PAD]', '[PAD]', '[PAD]', '[PAD]', '[PAD]', '[CLS]', 'the', 'amount', 'of', 'ex', '##cit', '##ation', 'in', 'the', 'h', '##fl', 'also', 'depends', 'on', 'the', 'value', 'of', 'upper', 'body', 'lean', 'at', 'the', 'beginning', 'of', 'the', 'swing', 'phase', '(', 'i', 'lt', '##o', ')', ':', 'the', 'further', 'the', 'upper', 'body', 'leans', 'forward', 'compared', 'to', 'the', 'reference', 'lean', 'angle', '(', 'i', 'd', '[SEP]', '[CLS]', 'note', 'that', 'i', 'd', 'is', 'the', 'same', 'as', 'the', 'target', 'angle', 'in', 'u', 'i', 'h', '##fl', '.', '[SEP]', '[PAD]', '[PAD]', '[PAD]', '[PAD]', '[PAD]', '[PAD]', '[PAD]', '[PAD]', '[PAD]', '[PAD]', '[PAD]', '[PAD]', '[PAD]', '[PAD]', '[PAD]', '[PAD]', '[PAD]', '[PAD]', '[PAD]', '[PAD]', '[PAD]', '[PAD]', '[PAD]', '[PAD]', '[PAD]', '[PAD]', '[PAD]', '[PAD]', '[PAD]', '[PAD]', '[PAD]']\n",
      "[0 0 0 0 0 0 0 0 0 0 0 0 0 0 0 0 0 0 0 0 0 0 0 0 0 0 0 0 0 0 0 0 0 0 0 0 0\n",
      " 0 0 0 0 0 0 0 0 0 0 0 0 0]\n",
      "[-100    0    0    1    1    1    1    1    1    1    1    1    1    1\n",
      "    1 -100    1    1    1    1    1    1    1    1    1    0 -100 -100\n",
      " -100 -100 -100 -100 -100 -100 -100 -100 -100 -100 -100 -100 -100 -100\n",
      " -100 -100 -100 -100 -100 -100 -100 -100]\n",
      "\n",
      "['[CLS]', 'non', '-', 'constant', 'control', 'laws', 'during', 'the', 'swing', 'phase', 'are', 'as', 'follows', ':', 'the', 'controller', 'enters', 'into', 'the', 'stance', 'preparation', 'when', 'd', 'i', '&', 'lt', ';', 'd', 'i', 'sp', ',', 'where', 'the', 'swing', 'leg', 'enters', 'into', 'a', 'pd', '-', 'control', 'mode', '.', '[SEP]', '[PAD]', '[PAD]', '[PAD]', '[PAD]', '[PAD]', '[PAD]', '[CLS]', 'the', 'g', '##lu', ',', 'h', '##fl', ',', 'and', 'va', '##s', 'work', 'to', 'guide', 'the', 'hip', 'and', 'knee', 'joints', 'toward', 'a', 'desired', 'pose', 'to', 'prepare', 'for', 'ground', 'contact', ':', 'u', 'va', '##s', '=', 'q', 'va', '##s', '+', 'u', 'va', '##s', '[UNK]', 'k', ',', 'u', 'g', '##lu', '=', 'q', 'g', '[SEP]', '[CLS]', 'a', 'single', 'desired', 'hip', 'target', 'angle', '(', '[UNK]', 'h', ')', 'is', 'adjusted', 'according', 'to', 'the', 'sim', '##bic', '##on', 'balance', 'feedback', 'law', '[SEP]', '[PAD]', '[PAD]', '[PAD]', '[PAD]', '[PAD]', '[PAD]', '[PAD]', '[PAD]', '[PAD]', '[PAD]', '[PAD]', '[PAD]', '[PAD]', '[PAD]', '[PAD]', '[PAD]', '[PAD]', '[PAD]', '[PAD]', '[PAD]', '[PAD]', '[PAD]', '[PAD]', '[PAD]', '[PAD]', '[PAD]', '[PAD]', '[CLS]', '[', 'yin', 'et', 'al', '.', '[SEP]', '[PAD]', '[PAD]', '[PAD]', '[PAD]', '[PAD]', '[PAD]', '[PAD]', '[PAD]', '[PAD]', '[PAD]', '[PAD]', '[PAD]', '[PAD]', '[PAD]', '[PAD]', '[PAD]', '[PAD]', '[PAD]', '[PAD]', '[PAD]', '[PAD]', '[PAD]', '[PAD]', '[PAD]', '[PAD]', '[PAD]', '[PAD]', '[PAD]', '[PAD]', '[PAD]', '[PAD]', '[PAD]', '[PAD]', '[PAD]', '[PAD]', '[PAD]', '[PAD]', '[PAD]', '[PAD]', '[PAD]', '[PAD]', '[PAD]', '[PAD]', '[CLS]', '2007', ']', 'and', 'is', 'shared', 'by', 'both', 'the', 'g', '##lu', 'and', 'h', '##fl', '.', '[SEP]', '[PAD]', '[PAD]', '[PAD]', '[PAD]', '[PAD]', '[PAD]', '[PAD]', '[PAD]', '[PAD]', '[PAD]', '[PAD]', '[PAD]', '[PAD]', '[PAD]', '[PAD]', '[PAD]', '[PAD]', '[PAD]', '[PAD]', '[PAD]', '[PAD]', '[PAD]', '[PAD]', '[PAD]', '[PAD]', '[PAD]', '[PAD]', '[PAD]', '[PAD]', '[PAD]', '[PAD]', '[PAD]', '[PAD]', '[PAD]', '[CLS]', 'we', 'found', 'the', 'addition', 'of', 'the', 'stance', 'preparation', 'state', 'to', 'be', 'important', 'for', 'discovering', 'running', 'ga', '##its', '.', '[SEP]', '[PAD]', '[PAD]', '[PAD]', '[PAD]', '[PAD]', '[PAD]', '[PAD]', '[PAD]', '[PAD]', '[PAD]', '[PAD]', '[PAD]', '[PAD]', '[PAD]', '[PAD]', '[PAD]', '[PAD]', '[PAD]', '[PAD]', '[PAD]', '[PAD]', '[PAD]', '[PAD]', '[PAD]', '[PAD]', '[PAD]', '[PAD]', '[PAD]', '[PAD]', '[PAD]', '[CLS]', 'the', 'balance', 'feedback', 'law', 'allows', 'robust', 'control', 'strategies', 'to', 'be', 'found', 'in', 'difficult', 'environments', '(', 'e', '.', 'g', '.', ',', 'being', 'pushed', 'by', 'random', 'forces', ')', '.', '[SEP]', '[PAD]', '[PAD]', '[PAD]', '[PAD]', '[PAD]', '[PAD]', '[PAD]', '[PAD]', '[PAD]', '[PAD]', '[PAD]', '[PAD]', '[PAD]', '[PAD]', '[PAD]', '[PAD]', '[PAD]', '[PAD]', '[PAD]', '[PAD]', '[PAD]', '[CLS]', 'u', 'ta', '=', 'q', 'ta', '+', 'u', 'l', 'ta', ',', 'u', 'ham', '=', 'q', 'ham', '+', 'u', 'ham', 'f', ',', 'u', 'g', '##lu', '=', 'q', 'g', '##lu', '+', 'u', 'f', 'g', '##lu', ',', 'u', 'h', '##fl', '=', 'q', 'h', '##fl', '+', 'u', 'l', 'h', '##fl', 'a', 'u', 'l', '[SEP]']\n",
      "[0 0 0 0 0 0 0 0 0 0 0 0 0 0 0 0 0 0 0 0 0 0 0 0 0 0 0 0 0 0 0 0 0 0 0 0 0\n",
      " 0 0 0 0 0 0 0 0 0 0 0 0 0]\n",
      "[-100    1    1 -100 -100    1    1    1    1    1    1    1 -100 -100\n",
      " -100 -100 -100 -100 -100 -100 -100 -100 -100 -100 -100 -100 -100 -100\n",
      " -100 -100 -100 -100 -100 -100 -100 -100 -100 -100 -100 -100 -100 -100\n",
      " -100 -100 -100 -100 -100 -100 -100 -100]\n",
      "\n",
      "['[CLS]', '<', 'h', '##2', '>', '4', '.', '4', 'out', '-', 'of', '-', 'plane', 'and', 'upper', '##body', 'control', '<', '/', 'h', '##2', '>', '[SEP]', '[PAD]', '[PAD]', '[PAD]', '[PAD]', '[PAD]', '[PAD]', '[PAD]', '[PAD]', '[PAD]', '[PAD]', '[PAD]', '[PAD]', '[PAD]', '[PAD]', '[PAD]', '[PAD]', '[PAD]', '[PAD]', '[PAD]', '[PAD]', '[PAD]', '[PAD]', '[PAD]', '[PAD]', '[PAD]', '[PAD]', '[PAD]', '[CLS]', 'the', 'rest', 'of', 'the', 'do', '##fs', 'are', 'controlled', 'using', 'standard', 'joint', '-', 'space', 'pd', '##con', '##tro', '##ller', '##s', 'with', 'state', '-', 'dependent', 'parameters', '.', '[SEP]', '[PAD]', '[PAD]', '[PAD]', '[PAD]', '[PAD]', '[PAD]', '[PAD]', '[PAD]', '[PAD]', '[PAD]', '[PAD]', '[PAD]', '[PAD]', '[PAD]', '[PAD]', '[PAD]', '[PAD]', '[PAD]', '[PAD]', '[PAD]', '[PAD]', '[PAD]', '[PAD]', '[PAD]', '[CLS]', 'following', 'wang', 'et', 'al', '.', '[SEP]', '[PAD]', '[PAD]', '[PAD]', '[PAD]', '[PAD]', '[PAD]', '[PAD]', '[PAD]', '[PAD]', '[PAD]', '[PAD]', '[PAD]', '[PAD]', '[PAD]', '[PAD]', '[PAD]', '[PAD]', '[PAD]', '[PAD]', '[PAD]', '[PAD]', '[PAD]', '[PAD]', '[PAD]', '[PAD]', '[PAD]', '[PAD]', '[PAD]', '[PAD]', '[PAD]', '[PAD]', '[PAD]', '[PAD]', '[PAD]', '[PAD]', '[PAD]', '[PAD]', '[PAD]', '[PAD]', '[PAD]', '[PAD]', '[PAD]', '[PAD]', '[CLS]', '[', '2010', ']', '[SEP]', '[PAD]', '[PAD]', '[PAD]', '[PAD]', '[PAD]', '[PAD]', '[PAD]', '[PAD]', '[PAD]', '[PAD]', '[PAD]', '[PAD]', '[PAD]', '[PAD]', '[PAD]', '[PAD]', '[PAD]', '[PAD]', '[PAD]', '[PAD]', '[PAD]', '[PAD]', '[PAD]', '[PAD]', '[PAD]', '[PAD]', '[PAD]', '[PAD]', '[PAD]', '[PAD]', '[PAD]', '[PAD]', '[PAD]', '[PAD]', '[PAD]', '[PAD]', '[PAD]', '[PAD]', '[PAD]', '[PAD]', '[PAD]', '[PAD]', '[PAD]', '[PAD]', '[PAD]', '[CLS]', ',', 'the', 'target', 'features', 'for', 'the', 'ankle', 'and', 'hip', 'joints', 'in', 'the', 'corona', '##l', 'plane', 'are', 'the', 'global', 'foot', 'and', 'pe', '##lvis', 'orientation', '##s', ',', 'respectively', '.', '[SEP]', '[PAD]', '[PAD]', '[PAD]', '[PAD]', '[PAD]', '[PAD]', '[PAD]', '[PAD]', '[PAD]', '[PAD]', '[PAD]', '[PAD]', '[PAD]', '[PAD]', '[PAD]', '[PAD]', '[PAD]', '[PAD]', '[PAD]', '[PAD]', '[PAD]', '[CLS]', 'the', 'corona', '##l', 'swing', 'hip', 'target', 'angles', 'follow', 'the', 'same', 'feedback', 'law', 'as', '[UNK]', 'h', '.', '[SEP]', '[PAD]', '[PAD]', '[PAD]', '[PAD]', '[PAD]', '[PAD]', '[PAD]', '[PAD]', '[PAD]', '[PAD]', '[PAD]', '[PAD]', '[PAD]', '[PAD]', '[PAD]', '[PAD]', '[PAD]', '[PAD]', '[PAD]', '[PAD]', '[PAD]', '[PAD]', '[PAD]', '[PAD]', '[PAD]', '[PAD]', '[PAD]', '[PAD]', '[PAD]', '[PAD]', '[PAD]', '[PAD]', '[CLS]', 'additionally', ',', 'we', 'set', 'the', 'toe', 'joint', 'to', 'be', 'a', 'spring', 'with', 'spring', 'constant', 'of', '30', 'nm', '/', 'ra', '##d', ',', 'target', 'angle', '0', ',', 'and', 'no', 'damp', '##ing', '.', '[SEP]', '[PAD]', '[PAD]', '[PAD]', '[PAD]', '[PAD]', '[PAD]', '[PAD]', '[PAD]', '[PAD]', '[PAD]', '[PAD]', '[PAD]', '[PAD]', '[PAD]', '[PAD]', '[PAD]', '[PAD]', '[PAD]', '[CLS]', 'unlike', 'in', 'previous', 'work', ',', 'where', 'a', 'ga', '##it', 'cycle', 'is', 'broken', 'down', 'into', 'four', 'states', ',', 'only', 'two', 'are', 'needed', '(', 'triggered', 'by', 'left', '/', 'right', 'foot', '-', 'strike', ')', 'since', 'do', '##fs', 'with', 'the', 'most', 'complex', 'activities', 'are', 'act', '##uated', 'by', 'muscles', '.', '[SEP]', '[PAD]', '[PAD]', '[PAD]']\n",
      "[0 0 0 0 0 0 0 0 0 0 0 0 0 0 0 0 0 0 0 0 0 0 0 0 0 0 0 0 0 0 0 0 0 0 0 0 0\n",
      " 0 0 0 0 0 0 0 0 0 0 0 0 0]\n",
      "[-100    0    0    0    0    0 -100 -100 -100 -100 -100 -100 -100 -100\n",
      " -100 -100 -100 -100 -100 -100 -100 -100 -100 -100 -100 -100 -100 -100\n",
      " -100 -100 -100 -100 -100 -100 -100 -100 -100 -100 -100 -100 -100 -100\n",
      " -100 -100 -100 -100 -100 -100 -100 -100]\n",
      "\n",
      "['[CLS]', 'our', 'upper', 'body', 'control', 'also', 'largely', 'follows', '[SEP]', '[PAD]', '[PAD]', '[PAD]', '[PAD]', '[PAD]', '[PAD]', '[PAD]', '[PAD]', '[PAD]', '[PAD]', '[PAD]', '[PAD]', '[PAD]', '[PAD]', '[PAD]', '[PAD]', '[PAD]', '[PAD]', '[PAD]', '[PAD]', '[PAD]', '[PAD]', '[PAD]', '[PAD]', '[PAD]', '[PAD]', '[PAD]', '[PAD]', '[PAD]', '[PAD]', '[PAD]', '[PAD]', '[PAD]', '[PAD]', '[PAD]', '[PAD]', '[PAD]', '[PAD]', '[PAD]', '[PAD]', '[PAD]', '[CLS]', 'wang', 'et', 'al', '.', '[SEP]', '[PAD]', '[PAD]', '[PAD]', '[PAD]', '[PAD]', '[PAD]', '[PAD]', '[PAD]', '[PAD]', '[PAD]', '[PAD]', '[PAD]', '[PAD]', '[PAD]', '[PAD]', '[PAD]', '[PAD]', '[PAD]', '[PAD]', '[PAD]', '[PAD]', '[PAD]', '[PAD]', '[PAD]', '[PAD]', '[PAD]', '[PAD]', '[PAD]', '[PAD]', '[PAD]', '[PAD]', '[PAD]', '[PAD]', '[PAD]', '[PAD]', '[PAD]', '[PAD]', '[PAD]', '[PAD]', '[PAD]', '[PAD]', '[PAD]', '[PAD]', '[PAD]', '[CLS]', '[', '2010', ']', '[SEP]', '[PAD]', '[PAD]', '[PAD]', '[PAD]', '[PAD]', '[PAD]', '[PAD]', '[PAD]', '[PAD]', '[PAD]', '[PAD]', '[PAD]', '[PAD]', '[PAD]', '[PAD]', '[PAD]', '[PAD]', '[PAD]', '[PAD]', '[PAD]', '[PAD]', '[PAD]', '[PAD]', '[PAD]', '[PAD]', '[PAD]', '[PAD]', '[PAD]', '[PAD]', '[PAD]', '[PAD]', '[PAD]', '[PAD]', '[PAD]', '[PAD]', '[PAD]', '[PAD]', '[PAD]', '[PAD]', '[PAD]', '[PAD]', '[PAD]', '[PAD]', '[PAD]', '[PAD]', '[CLS]', ',', 'with', 'the', 'exception', 'that', 'the', 'target', 'feature', 'of', 'our', 'back', 'joint', 'in', 'the', 'corona', '##l', 'plane', 'is', 'the', 'global', 'orientation', 'of', 'the', 'torso', 'instead', 'of', 'the', 'local', 'joint', 'angle', 'between', 'the', 'torso', 'and', 'the', 'pe', '##lvis', '.', '[SEP]', '[PAD]', '[PAD]', '[PAD]', '[PAD]', '[PAD]', '[PAD]', '[PAD]', '[PAD]', '[PAD]', '[PAD]', '[CLS]', 'this', 'global', 'target', 'allows', 'our', 'model', 'to', 'better', 'keep', 'the', 'head', 'upright', 'during', 'loco', '##mot', '##ion', '.', '[SEP]', '[PAD]', '[PAD]', '[PAD]', '[PAD]', '[PAD]', '[PAD]', '[PAD]', '[PAD]', '[PAD]', '[PAD]', '[PAD]', '[PAD]', '[PAD]', '[PAD]', '[PAD]', '[PAD]', '[PAD]', '[PAD]', '[PAD]', '[PAD]', '[PAD]', '[PAD]', '[PAD]', '[PAD]', '[PAD]', '[PAD]', '[PAD]', '[PAD]', '[PAD]', '[PAD]', '[PAD]', '[CLS]', 'we', 'fix', 'the', 'spring', 'and', 'damp', '##er', 'constant', '##s', 'for', 'all', 'arm', 'joints', 'to', '30', 'nm', '/', 'ra', '##d', 'and', '3', 'nm', '##s', '/', 'ra', '##d', ',', 'respectively', ',', 'with', 'target', 'angles', 'set', 'to', '0', '.', '[SEP]', '[PAD]', '[PAD]', '[PAD]', '[PAD]', '[PAD]', '[PAD]', '[PAD]', '[PAD]', '[PAD]', '[PAD]', '[PAD]', '[PAD]', '[CLS]', 'we', 'found', 'that', 'more', 'human', '-', 'like', 'arm', 'swing', 'can', 'be', 'generated', 'by', 'relating', 'the', 'elbow', 'and', 'shoulder', 'target', 'angles', 'as', '[UNK]', 's', 'l', '=', 'i', '##±', 'arm', '[UNK]', 'h', 'l', 'a', '[UNK]', 'h', 'r', '+', '[UNK]', 'e', 'd', 'and', 'i', 'l', 's', '=', '[UNK]', 'e', 'd', ',', '[SEP]', '[CLS]', 'this', 'formulation', 'captures', 'the', 'tendency', 'to', 'rotate', 'the', 'shoulder', 'backwards', 'and', 'inward', '##s', 'while', 'bending', 'the', 'elbow', '.', '[SEP]', '[PAD]', '[PAD]', '[PAD]', '[PAD]', '[PAD]', '[PAD]', '[PAD]', '[PAD]', '[PAD]', '[PAD]', '[PAD]', '[PAD]', '[PAD]', '[PAD]', '[PAD]', '[PAD]', '[PAD]', '[PAD]', '[PAD]', '[PAD]', '[PAD]', '[PAD]', '[PAD]', '[PAD]', '[PAD]', '[PAD]', '[PAD]', '[PAD]', '[PAD]', '[PAD]']\n",
      "[0 0 0 0 0 0 0 0 0 0 0 0 0 0 0 0 0 0 0 0 0 0 0 0 0 0 0 0 0 0 0 0 0 0 0 0 0\n",
      " 0 0 0 0 0 0 0 0 0 0 0 0 0]\n",
      "[-100    0    0 -100 -100 -100 -100 -100 -100 -100 -100 -100 -100 -100\n",
      " -100 -100 -100 -100 -100 -100 -100 -100 -100 -100 -100 -100 -100 -100\n",
      " -100 -100 -100 -100 -100 -100 -100 -100 -100 -100 -100 -100 -100 -100\n",
      " -100 -100 -100 -100 -100 -100 -100 -100]\n",
      "\n",
      "['[CLS]', 'the', 'scale', 'constant', 'and', 'the', 'desired', 'elbow', 'angle', 'are', 'among', 'the', 'parameters', 'set', 'by', 'optimization', ',', 'as', 'described', 'in', 'the', 'next', 'section', '.', '[SEP]', '[PAD]', '[PAD]', '[PAD]', '[PAD]', '[PAD]', '[PAD]', '[PAD]', '[PAD]', '[PAD]', '[PAD]', '[PAD]', '[PAD]', '[PAD]', '[PAD]', '[PAD]', '[PAD]', '[PAD]', '[PAD]', '[PAD]', '[PAD]', '[PAD]', '[PAD]', '[PAD]', '[PAD]', '[PAD]', '[CLS]', '<', 'h', '##1', '>', '5', 'optimization', '<', '/', 'h', '##1', '>', '[SEP]', '[PAD]', '[PAD]', '[PAD]', '[PAD]', '[PAD]', '[PAD]', '[PAD]', '[PAD]', '[PAD]', '[PAD]', '[PAD]', '[PAD]', '[PAD]', '[PAD]', '[PAD]', '[PAD]', '[PAD]', '[PAD]', '[PAD]', '[PAD]', '[PAD]', '[PAD]', '[PAD]', '[PAD]', '[PAD]', '[PAD]', '[PAD]', '[PAD]', '[PAD]', '[PAD]', '[PAD]', '[PAD]', '[PAD]', '[PAD]', '[PAD]', '[PAD]', '[PAD]', '[CLS]', 'the', 'control', 'algorithm', 'specified', 'in', 'section', '4', 'has', 'a', 'large', 'number', 'of', 'parameters', ',', 'which', 'we', 'set', 'by', 'optimization', '[SEP]', '[PAD]', '[PAD]', '[PAD]', '[PAD]', '[PAD]', '[PAD]', '[PAD]', '[PAD]', '[PAD]', '[PAD]', '[PAD]', '[PAD]', '[PAD]', '[PAD]', '[PAD]', '[PAD]', '[PAD]', '[PAD]', '[PAD]', '[PAD]', '[PAD]', '[PAD]', '[PAD]', '[PAD]', '[PAD]', '[PAD]', '[PAD]', '[PAD]', '[PAD]', '[CLS]', '[', 'wang', 'et', 'al', '.', '[SEP]', '[PAD]', '[PAD]', '[PAD]', '[PAD]', '[PAD]', '[PAD]', '[PAD]', '[PAD]', '[PAD]', '[PAD]', '[PAD]', '[PAD]', '[PAD]', '[PAD]', '[PAD]', '[PAD]', '[PAD]', '[PAD]', '[PAD]', '[PAD]', '[PAD]', '[PAD]', '[PAD]', '[PAD]', '[PAD]', '[PAD]', '[PAD]', '[PAD]', '[PAD]', '[PAD]', '[PAD]', '[PAD]', '[PAD]', '[PAD]', '[PAD]', '[PAD]', '[PAD]', '[PAD]', '[PAD]', '[PAD]', '[PAD]', '[PAD]', '[PAD]', '[CLS]', '2010', ']', '.', '[SEP]', '[PAD]', '[PAD]', '[PAD]', '[PAD]', '[PAD]', '[PAD]', '[PAD]', '[PAD]', '[PAD]', '[PAD]', '[PAD]', '[PAD]', '[PAD]', '[PAD]', '[PAD]', '[PAD]', '[PAD]', '[PAD]', '[PAD]', '[PAD]', '[PAD]', '[PAD]', '[PAD]', '[PAD]', '[PAD]', '[PAD]', '[PAD]', '[PAD]', '[PAD]', '[PAD]', '[PAD]', '[PAD]', '[PAD]', '[PAD]', '[PAD]', '[PAD]', '[PAD]', '[PAD]', '[PAD]', '[PAD]', '[PAD]', '[PAD]', '[PAD]', '[PAD]', '[PAD]', '[CLS]', 'more', 'specifically', ',', 'each', 'of', 'the', 'u', 'm', 'f', ',', 'u', 'm', 'l', ',', 'and', 'u', 'm', '[UNK]', 'laws', 'have', 'one', ',', 'two', ',', 'and', 'three', 'parameters', ',', 'respectively', '.', '[SEP]', '[PAD]', '[PAD]', '[PAD]', '[PAD]', '[PAD]', '[PAD]', '[PAD]', '[PAD]', '[PAD]', '[PAD]', '[PAD]', '[PAD]', '[PAD]', '[PAD]', '[PAD]', '[PAD]', '[PAD]', '[PAD]', '[CLS]', 'there', 'are', '56', 'parameters', 'in', 'total', '(', '30', 'stance', ',', '26', 'swing', ')', 'for', 'the', 'mt', '##u', 'control', 'laws', '.', '[SEP]', '[PAD]', '[PAD]', '[PAD]', '[PAD]', '[PAD]', '[PAD]', '[PAD]', '[PAD]', '[PAD]', '[PAD]', '[PAD]', '[PAD]', '[PAD]', '[PAD]', '[PAD]', '[PAD]', '[PAD]', '[PAD]', '[PAD]', '[PAD]', '[PAD]', '[PAD]', '[PAD]', '[PAD]', '[PAD]', '[PAD]', '[PAD]', '[PAD]', '[CLS]', 'for', 'the', 'upper', 'body', 'and', 'the', 'non', '-', 'sa', '##git', '##tal', 'do', '##fs', 'in', 'the', 'lower', 'body', ',', 'we', 'opt', '##imi', '##ze', 'the', 'pd', '##con', '##tro', '##l', 'parameters', '(', 'spring', '-', 'damp', '##er', 'constant', '##s', ',', 'target', 'angle', ',', 'balance', 'feedback', ')', 'for', 'all', 'joints', 'except', 'for', 'arms', '[SEP]']\n",
      "[0 0 0 0 0 0 0 0 0 0 0 0 0 0 0 0 0 0 0 0 0 0 0 0 0 0 0 0 0 0 0 0 0 0 0 0 0\n",
      " 0 0 0 0 0 0 0 0 0 0 0 0 0]\n",
      "[-100    0    0    1    1    1    1    1    0 -100 -100 -100 -100 -100\n",
      " -100 -100 -100 -100 -100 -100 -100 -100 -100 -100 -100 -100 -100 -100\n",
      " -100 -100 -100 -100 -100 -100 -100 -100 -100 -100 -100 -100 -100 -100\n",
      " -100 -100 -100 -100 -100 -100 -100 -100]\n",
      "\n",
      "['[CLS]', 'when', 'combined', 'with', '33', 'free', 'parameters', 'describing', 'the', 'initial', 'state', 'of', 'the', 'simulation', ',', '124', 'parameters', '(', 'w', ')', 'fully', 'define', 'a', 'simulated', 'motion', '{', 's', '1', '.', '[SEP]', '[PAD]', '[PAD]', '[PAD]', '[PAD]', '[PAD]', '[PAD]', '[PAD]', '[PAD]', '[PAD]', '[PAD]', '[PAD]', '[PAD]', '[PAD]', '[PAD]', '[PAD]', '[PAD]', '[PAD]', '[PAD]', '[PAD]', '[PAD]', '[CLS]', '.', 's', 't', '}', 'over', 't', 'times', '##te', '##ps', '.', '[SEP]', '[PAD]', '[PAD]', '[PAD]', '[PAD]', '[PAD]', '[PAD]', '[PAD]', '[PAD]', '[PAD]', '[PAD]', '[PAD]', '[PAD]', '[PAD]', '[PAD]', '[PAD]', '[PAD]', '[PAD]', '[PAD]', '[PAD]', '[PAD]', '[PAD]', '[PAD]', '[PAD]', '[PAD]', '[PAD]', '[PAD]', '[PAD]', '[PAD]', '[PAD]', '[PAD]', '[PAD]', '[PAD]', '[PAD]', '[PAD]', '[PAD]', '[PAD]', '[PAD]', '[PAD]', '[CLS]', 'we', 'opt', '##imi', '##ze', 'control', 'parameters', 'and', 'the', 'initial', 'state', 'using', 'co', '##var', '##iance', 'matrix', 'adaptation', '(', 'cm', '##a', ')', '[SEP]', '[PAD]', '[PAD]', '[PAD]', '[PAD]', '[PAD]', '[PAD]', '[PAD]', '[PAD]', '[PAD]', '[PAD]', '[PAD]', '[PAD]', '[PAD]', '[PAD]', '[PAD]', '[PAD]', '[PAD]', '[PAD]', '[PAD]', '[PAD]', '[PAD]', '[PAD]', '[PAD]', '[PAD]', '[PAD]', '[PAD]', '[PAD]', '[PAD]', '[CLS]', '[', 'hansen', '2006', ']', ',', 'with', 'steps', '##ize', 'i', '=', '0', '.', '00', '##5', 'and', '50', 'samples', 'per', 'iteration', '.', '[SEP]', '[PAD]', '[PAD]', '[PAD]', '[PAD]', '[PAD]', '[PAD]', '[PAD]', '[PAD]', '[PAD]', '[PAD]', '[PAD]', '[PAD]', '[PAD]', '[PAD]', '[PAD]', '[PAD]', '[PAD]', '[PAD]', '[PAD]', '[PAD]', '[PAD]', '[PAD]', '[PAD]', '[PAD]', '[PAD]', '[PAD]', '[PAD]', '[PAD]', '[CLS]', 'the', 'optimization', 'aims', 'to', 'maximize', 'the', 'following', 'return', 'function', ':', 't', 'r', '(', 'w', ')', '=', 'r', '(', 's', 't', ')', 'a', 'w', 'e', 'j', 'effort', '.', '[SEP]', '[PAD]', '[PAD]', '[PAD]', '[PAD]', '[PAD]', '[PAD]', '[PAD]', '[PAD]', '[PAD]', '[PAD]', '[PAD]', '[PAD]', '[PAD]', '[PAD]', '[PAD]', '[PAD]', '[PAD]', '[PAD]', '[PAD]', '[PAD]', '[PAD]', '[CLS]', 't', '=', '1', 'here', 'r', 'is', 'a', 'scala', '##r', 'reward', 'function', 'of', 'the', 'current', 'state', 's', 't', ',', 'j', 'effort', 'measures', 'the', 'effort', 'of', 'the', 'synthesized', 'motion', ',', 'and', 'w', 'e', 'is', 'set', 'to', '0', '.', '00', '##4', 'divided', 'by', 'the', 'mass', 'of', 'the', 'model', ',', 'motivated', 'by', '[SEP]', '[CLS]', 'wang', 'et', 'al', '.', '[SEP]', '[PAD]', '[PAD]', '[PAD]', '[PAD]', '[PAD]', '[PAD]', '[PAD]', '[PAD]', '[PAD]', '[PAD]', '[PAD]', '[PAD]', '[PAD]', '[PAD]', '[PAD]', '[PAD]', '[PAD]', '[PAD]', '[PAD]', '[PAD]', '[PAD]', '[PAD]', '[PAD]', '[PAD]', '[PAD]', '[PAD]', '[PAD]', '[PAD]', '[PAD]', '[PAD]', '[PAD]', '[PAD]', '[PAD]', '[PAD]', '[PAD]', '[PAD]', '[PAD]', '[PAD]', '[PAD]', '[PAD]', '[PAD]', '[PAD]', '[PAD]', '[PAD]', '[CLS]', '[', '2010', ']', '.', '[SEP]', '[PAD]', '[PAD]', '[PAD]', '[PAD]', '[PAD]', '[PAD]', '[PAD]', '[PAD]', '[PAD]', '[PAD]', '[PAD]', '[PAD]', '[PAD]', '[PAD]', '[PAD]', '[PAD]', '[PAD]', '[PAD]', '[PAD]', '[PAD]', '[PAD]', '[PAD]', '[PAD]', '[PAD]', '[PAD]', '[PAD]', '[PAD]', '[PAD]', '[PAD]', '[PAD]', '[PAD]', '[PAD]', '[PAD]', '[PAD]', '[PAD]', '[PAD]', '[PAD]', '[PAD]', '[PAD]', '[PAD]', '[PAD]', '[PAD]', '[PAD]', '[PAD]']\n",
      "[0 0 0 0 0 0 0 0 0 0 0 0 0 0 0 0 0 0 0 0 0 0 0 0 0 0 0 0 0 0 0 0 0 0 0 0 0\n",
      " 0 0 0 0 0 0 0 0 0 0 0 0 0]\n",
      "[-100    1    1    1    1 -100 -100 -100    1 -100 -100    1    1    1\n",
      "    1    1    1    1    1    1    1    1    1    1    1    1 -100 -100\n",
      " -100 -100 -100 -100 -100 -100 -100 -100 -100 -100 -100 -100 -100 -100\n",
      " -100 -100 -100 -100 -100 -100 -100 -100]\n",
      "\n"
     ]
    },
    {
     "name": "stderr",
     "output_type": "stream",
     "text": [
      "Iteration: 100%|██████████| 4153/4153 [12:04<00:00,  5.86it/s]\n",
      "Iteration:   0%|          | 1/4153 [00:00<12:16,  5.64it/s]"
     ]
    },
    {
     "name": "stdout",
     "output_type": "stream",
     "text": [
      "['[CLS]', 'g', 'm', 'and', 'h', 'm', 'are', 'free', 'positive', 'parameters', 'and', '{', '}', 'a', '##±', 'means', 'only', 'positive', 'or', 'negative', 'values', '(', '0', 'otherwise', ')', '.', '[SEP]', '[PAD]', '[PAD]', '[PAD]', '[PAD]', '[PAD]', '[PAD]', '[PAD]', '[PAD]', '[PAD]', '[PAD]', '[PAD]', '[PAD]', '[PAD]', '[PAD]', '[PAD]', '[PAD]', '[PAD]', '[PAD]', '[PAD]', '[PAD]', '[PAD]', '[PAD]', '[PAD]', '[CLS]', 'the', 'positive', 'length', 'feedback', 'effectively', 'models', 'a', 'stretch', 'reflex', ',', 'which', 'activate', '##s', 'the', 'muscle', 'when', 'the', 'fiber', 'is', 'stretched', 'beyond', 'a', 'fixed', 'length', '.', '[SEP]', '[PAD]', '[PAD]', '[PAD]', '[PAD]', '[PAD]', '[PAD]', '[PAD]', '[PAD]', '[PAD]', '[PAD]', '[PAD]', '[PAD]', '[PAD]', '[PAD]', '[PAD]', '[PAD]', '[PAD]', '[PAD]', '[PAD]', '[PAD]', '[PAD]', '[PAD]', '[PAD]', '[CLS]', 'u', 'l', 'm', 'is', 'most', 'useful', 'during', 'the', 'swing', 'phase', ',', 'as', 'the', 'ta', 'must', 'be', 'activated', 'to', 'do', '##rs', '##if', '##le', '##x', 'so', 'that', 'toe', '-', 'stu', '##bbing', 'can', 'be', 'avoided', '.', '[SEP]', '[PAD]', '[PAD]', '[PAD]', '[PAD]', '[PAD]', '[PAD]', '[PAD]', '[PAD]', '[PAD]', '[PAD]', '[PAD]', '[PAD]', '[PAD]', '[PAD]', '[PAD]', '[CLS]', 'in', 'addition', ',', 'the', 'h', '##fl', 'relies', 'on', 'length', 'feedback', 'to', 'generate', 'hip', 'flex', '##ion', 'torque', 'during', 'early', 'swing', ',', 'especially', 'during', 'running', '.', '[SEP]', '[PAD]', '[PAD]', '[PAD]', '[PAD]', '[PAD]', '[PAD]', '[PAD]', '[PAD]', '[PAD]', '[PAD]', '[PAD]', '[PAD]', '[PAD]', '[PAD]', '[PAD]', '[PAD]', '[PAD]', '[PAD]', '[PAD]', '[PAD]', '[PAD]', '[PAD]', '[PAD]', '[PAD]', '[CLS]', 'muscle', '-', 'driven', 'pd', 'control', '.', '[SEP]', '[PAD]', '[PAD]', '[PAD]', '[PAD]', '[PAD]', '[PAD]', '[PAD]', '[PAD]', '[PAD]', '[PAD]', '[PAD]', '[PAD]', '[PAD]', '[PAD]', '[PAD]', '[PAD]', '[PAD]', '[PAD]', '[PAD]', '[PAD]', '[PAD]', '[PAD]', '[PAD]', '[PAD]', '[PAD]', '[PAD]', '[PAD]', '[PAD]', '[PAD]', '[PAD]', '[PAD]', '[PAD]', '[PAD]', '[PAD]', '[PAD]', '[PAD]', '[PAD]', '[PAD]', '[PAD]', '[PAD]', '[PAD]', '[PAD]', '[CLS]', 'we', 'also', 'define', 'a', 'muscle', '-', 'driven', 'pd', 'control', 'law', 'with', 'respect', 'to', 'an', 'angular', 'feature', '[UNK]', 'as', 'where', 'k', 'm', ',', 'd', 'm', ',', '[UNK]', 'm', 'are', 'free', 'parameters', 'of', 'the', 'pd', '-', 'controller', '.', '[SEP]', '[PAD]', '[PAD]', '[PAD]', '[PAD]', '[PAD]', '[PAD]', '[PAD]', '[PAD]', '[PAD]', '[PAD]', '[PAD]', '[PAD]', '[CLS]', 'the', 'brace', '##s', 'sign', 'is', 'positive', 'if', 'torque', 'generated', 'by', 'm', 'is', 'in', 'the', 'opposing', 'direction', 'of', '[UNK]', '.', 'g', '.', ',', 'if', 'm', 'is', 'the', 'hip', 'ex', '##tens', '##or', 'and', '[UNK]', 'is', 'the', 'hip', 'flex', '##ion', 'angle', '##aan', '##d', 'negative', 'otherwise', '.', '[SEP]', '[PAD]', '[PAD]', '[PAD]', '[PAD]', '[PAD]', '[CLS]', 'much', 'like', 'the', 'standard', 'torque', '##base', '##d', 'pd', '-', 'controller', ',', 'the', 'muscle', '-', 'driven', 'pd', 'control', 'aims', 'to', 'adjust', '[UNK]', 'towards', 'the', 'target', 'angle', '[UNK]', 'm', 'while', 'damp', '##ing', 'its', 'velocity', '.', '[SEP]', '[PAD]', '[PAD]', '[PAD]', '[PAD]', '[PAD]', '[PAD]', '[PAD]', '[PAD]', '[PAD]', '[PAD]', '[PAD]', '[PAD]', '[PAD]', '[PAD]', '[PAD]']\n",
      "[0 0 0 0 0 0 0 0 0 0 0 0 0 0 0 0 0 0 0 0 0 0 0 0 0 0 0 0 0 0 0 0 0 0 0 0 0\n",
      " 0 0 0 0 0 0 0 0 0 0 0 0 0]\n",
      "[-100    1    1    1 -100    1    1    1    1    1    1    1    1    1\n",
      "    1    1    1    1    1    1 -100 -100    1    1    1    1    0    0\n",
      "    1    1    1    1 -100    1 -100    1    1 -100    1    1    0    0\n",
      "    0    0    0 -100 -100 -100 -100 -100]\n",
      "\n",
      "['[CLS]', 'however', ',', 'unlike', 'the', 'standard', 'pd', '-', 'controller', ',', 'muscles', 'can', 'only', 'activate', 'after', 'a', 'time', '-', 'delay', 'and', 'each', 'muscle', 'can', 'only', 'generate', 'forces', 'to', 'rotate', 'the', 'angular', 'do', '##f', 'in', 'one', 'direction', '.', '[SEP]', '[PAD]', '[PAD]', '[PAD]', '[PAD]', '[PAD]', '[PAD]', '[PAD]', '[PAD]', '[PAD]', '[PAD]', '[PAD]', '[PAD]', '[PAD]', '[CLS]', 'the', 'pd', '-', 'control', 'laws', 'are', 'employed', 'by', 'the', 'hip', 'muscles', 'during', 'the', 'stance', 'phase', 'to', 'maintain', 'the', 'global', 'upper', 'body', 'orientation', ',', 'as', 'well', 'as', 'during', 'stance', 'preparation', 'to', 'prepare', 'for', 'ground', 'contact', '.', '[SEP]', '[PAD]', '[PAD]', '[PAD]', '[PAD]', '[PAD]', '[PAD]', '[PAD]', '[PAD]', '[PAD]', '[PAD]', '[PAD]', '[PAD]', '[PAD]', '[CLS]', 'u', 'm', '[UNK]', '=', 'k', 'm', '(', '[UNK]', '(', 't', 'a', 'at', 'm', ')', 'a', '[UNK]', 'm', ')', '+', 'd', 'm', '[UNK]', '(', 't', 'i', 'a', 'at', 'm', ')', ',', 'a', '##±', '[SEP]', '[PAD]', '[PAD]', '[PAD]', '[PAD]', '[PAD]', '[PAD]', '[PAD]', '[PAD]', '[PAD]', '[PAD]', '[PAD]', '[PAD]', '[PAD]', '[PAD]', '[PAD]', '[PAD]', '[CLS]', '<', 'h', '##2', '>', '4', '.', '2', 'stance', 'phase', '<', '/', 'h', '##2', '>', '[SEP]', '[PAD]', '[PAD]', '[PAD]', '[PAD]', '[PAD]', '[PAD]', '[PAD]', '[PAD]', '[PAD]', '[PAD]', '[PAD]', '[PAD]', '[PAD]', '[PAD]', '[PAD]', '[PAD]', '[PAD]', '[PAD]', '[PAD]', '[PAD]', '[PAD]', '[PAD]', '[PAD]', '[PAD]', '[PAD]', '[PAD]', '[PAD]', '[PAD]', '[PAD]', '[PAD]', '[PAD]', '[PAD]', '[PAD]', '[PAD]', '[CLS]', 'each', 'muscle', 'has', 'an', 'initial', 'constant', 'ex', '##cit', '##ation', ',', 'or', 'pre', '-', 'stimulation', 'value', 'p', 'm', '.', '[SEP]', '[PAD]', '[PAD]', '[PAD]', '[PAD]', '[PAD]', '[PAD]', '[PAD]', '[PAD]', '[PAD]', '[PAD]', '[PAD]', '[PAD]', '[PAD]', '[PAD]', '[PAD]', '[PAD]', '[PAD]', '[PAD]', '[PAD]', '[PAD]', '[PAD]', '[PAD]', '[PAD]', '[PAD]', '[PAD]', '[PAD]', '[PAD]', '[PAD]', '[PAD]', '[PAD]', '[CLS]', 'these', 'values', 'are', 'initial', '##ized', 'close', 'to', 'zero', ',', 'but', 'are', 'then', 'opt', '##imi', '##zed', '.', '[SEP]', '[PAD]', '[PAD]', '[PAD]', '[PAD]', '[PAD]', '[PAD]', '[PAD]', '[PAD]', '[PAD]', '[PAD]', '[PAD]', '[PAD]', '[PAD]', '[PAD]', '[PAD]', '[PAD]', '[PAD]', '[PAD]', '[PAD]', '[PAD]', '[PAD]', '[PAD]', '[PAD]', '[PAD]', '[PAD]', '[PAD]', '[PAD]', '[PAD]', '[PAD]', '[PAD]', '[PAD]', '[PAD]', '[CLS]', 'the', 'sol', 'and', 'gas', 'both', 'rely', 'on', 'positive', 'force', 'feedback', 'and', 'are', 'the', 'main', 'sources', 'of', 'torque', 'during', 'walking', '.', '[SEP]', '[PAD]', '[PAD]', '[PAD]', '[PAD]', '[PAD]', '[PAD]', '[PAD]', '[PAD]', '[PAD]', '[PAD]', '[PAD]', '[PAD]', '[PAD]', '[PAD]', '[PAD]', '[PAD]', '[PAD]', '[PAD]', '[PAD]', '[PAD]', '[PAD]', '[PAD]', '[PAD]', '[PAD]', '[PAD]', '[PAD]', '[PAD]', '[PAD]', '[CLS]', 'the', 'ta', 'ensures', 'foot', 'clearance', 'during', 'swing', 'using', 'a', 'length', 'feedback', '(', 'u', 'l', 'ta', ')', ',', 'but', 'the', 'activation', 'is', 'suppressed', 'during', 'stance', 'in', 'proportion', 'to', 'the', 'current', 'force', 'generated', 'from', 'sol', '.', '[SEP]', '[PAD]', '[PAD]', '[PAD]', '[PAD]', '[PAD]', '[PAD]', '[PAD]', '[PAD]', '[PAD]', '[PAD]', '[PAD]', '[PAD]', '[PAD]', '[PAD]']\n",
      "[0 0 0 0 0 0 0 0 0 0 0 0 0 0 0 0 0 0 0 0 0 0 0 0 0 0 0 0 0 0 0 0 0 0 0 0 0\n",
      " 0 0 0 0 0 0 0 0 0 0 0 0 0]\n",
      "[-100    1    1    1    1    1    1    1    1    1    1    1    1    1\n",
      "    1    1    0 -100 -100 -100 -100 -100 -100 -100 -100 -100 -100 -100\n",
      " -100 -100 -100 -100 -100 -100 -100 -100 -100 -100 -100 -100 -100 -100\n",
      " -100 -100 -100 -100 -100 -100 -100 -100]\n",
      "\n",
      "['[CLS]', 'the', 'suppression', 'allows', 'the', 'generated', 'ta', 'activation', 'patterns', 'to', 'better', 'match', 'human', 'data', 'during', 'loco', '##mot', '##ion', '.', '[SEP]', '[PAD]', '[PAD]', '[PAD]', '[PAD]', '[PAD]', '[PAD]', '[PAD]', '[PAD]', '[PAD]', '[PAD]', '[PAD]', '[PAD]', '[PAD]', '[PAD]', '[PAD]', '[PAD]', '[PAD]', '[PAD]', '[PAD]', '[PAD]', '[PAD]', '[PAD]', '[PAD]', '[PAD]', '[PAD]', '[PAD]', '[PAD]', '[PAD]', '[PAD]', '[PAD]', '[CLS]', 'the', 'force', 'feedback', 'on', 'the', 'va', '##s', 'creates', 'a', 'strong', 'knee', 'extension', 'torque', 'following', 'ground', 'contact', ',', 'but', 'ex', '##cit', '##ation', 'is', 'suppressed', 'when', 'the', 'knee', 'flex', '##ion', 'angle', '(', '[UNK]', 'k', ')', 'is', 'extended', 'below', 'an', 'offset', '(', '[UNK]', 'k', 'off', ')', 'with', 'an', 'extension', 'velocity', '(', '[SEP]', '[CLS]', 'the', 'suppression', 'prevents', 'hyper', '##ex', '##tension', 'of', 'the', 'knee', 'during', 'mid', '-', 'stance', '.', '[SEP]', '[PAD]', '[PAD]', '[PAD]', '[PAD]', '[PAD]', '[PAD]', '[PAD]', '[PAD]', '[PAD]', '[PAD]', '[PAD]', '[PAD]', '[PAD]', '[PAD]', '[PAD]', '[PAD]', '[PAD]', '[PAD]', '[PAD]', '[PAD]', '[PAD]', '[PAD]', '[PAD]', '[PAD]', '[PAD]', '[PAD]', '[PAD]', '[PAD]', '[PAD]', '[PAD]', '[PAD]', '[PAD]', '[PAD]', '[PAD]', '[CLS]', 'using', 'muscle', '-', 'driven', 'pd', 'control', 'laws', ',', 'the', 'ham', ',', 'g', '##lu', ',', 'and', 'h', '##fl', 'are', 'responsible', 'for', 'maintaining', 'the', 'global', 'orientation', 'of', 'the', 'upper', 'body', '(', 'i', ')', ',', 'defined', 'as', 'the', 'vector', 'between', 'the', 'com', 'of', 'the', 'upper', 'body', 'and', 'the', 'com', 'of', 'the', '[SEP]', '[CLS]', 'during', 'double', 'stance', ',', 'these', 'control', 'laws', 'are', 'only', 'active', 'for', 'the', 'leading', 'leg', ',', 'denoted', 'as', 'u', 'i', 'm', 'lead', '.', '[SEP]', '[PAD]', '[PAD]', '[PAD]', '[PAD]', '[PAD]', '[PAD]', '[PAD]', '[PAD]', '[PAD]', '[PAD]', '[PAD]', '[PAD]', '[PAD]', '[PAD]', '[PAD]', '[PAD]', '[PAD]', '[PAD]', '[PAD]', '[PAD]', '[PAD]', '[PAD]', '[PAD]', '[PAD]', '[PAD]', '[PAD]', '[CLS]', 'specifically', ',', 'control', 'laws', 'during', 'the', 'stance', 'phase', 'are', 'as', 'follows', ':', 'towards', 'the', 'end', 'of', 'the', 'stance', 'phase', ',', 'the', 'controller', 'enters', 'into', 'the', 'swing', 'initiation', ',', 'which', 'begins', 'when', 'either', 'the', 'signed', 'horizontal', 'distance', 'between', 'the', 'com', 'and', 'the', 'ankle', 'normal', '##ized', 'by', 'leg', 'length', 'exceeds', '[SEP]', '[CLS]', 'during', 'swing', 'initiation', ',', 'constant', 'ex', '##cit', '##ation', 'values', 'between', '0', 'and', '1', '(', 'set', 'during', 'optimization', ')', 'are', 'added', 'and', 'sub', '##tracted', 'to', 'the', 'va', '##s', ',', 'rf', ',', 'g', '##lu', ',', 'and', 'h', '##fl', ':', 'the', 'combination', 'of', 'h', '##fl', 'and', 'g', '##lu', 'ex', '##cit', '##ations', '[SEP]', '[CLS]', 'two', 'main', 'differences', 'between', 'our', 'stance', 'phase', 'control', 'laws', 'compared', 'to', '[SEP]', '[PAD]', '[PAD]', '[PAD]', '[PAD]', '[PAD]', '[PAD]', '[PAD]', '[PAD]', '[PAD]', '[PAD]', '[PAD]', '[PAD]', '[PAD]', '[PAD]', '[PAD]', '[PAD]', '[PAD]', '[PAD]', '[PAD]', '[PAD]', '[PAD]', '[PAD]', '[PAD]', '[PAD]', '[PAD]', '[PAD]', '[PAD]', '[PAD]', '[PAD]', '[PAD]', '[PAD]', '[PAD]', '[PAD]', '[PAD]', '[PAD]', '[PAD]', '[PAD]']\n",
      "[0 0 0 0 0 0 0 0 0 0 0 0 0 0 0 0 0 0 0 0 0 0 0 0 0 0 0 0 0 0 0 0 0 0 0 0 0\n",
      " 0 0 0 0 0 0 0 0 0 0 0 0 0]\n",
      "[-100    0    0    0    1    1    1    1    1    1    1    1    1    1\n",
      "    1    1    1    1    0 -100 -100 -100 -100 -100 -100 -100 -100 -100\n",
      " -100 -100 -100 -100 -100 -100 -100 -100 -100 -100 -100 -100 -100 -100\n",
      " -100 -100 -100 -100 -100 -100 -100 -100]\n",
      "\n",
      "['[CLS]', 'ge', '##yer', 'and', 'herr', '[', '2010', ']', '[SEP]', '[PAD]', '[PAD]', '[PAD]', '[PAD]', '[PAD]', '[PAD]', '[PAD]', '[PAD]', '[PAD]', '[PAD]', '[PAD]', '[PAD]', '[PAD]', '[PAD]', '[PAD]', '[PAD]', '[PAD]', '[PAD]', '[PAD]', '[PAD]', '[PAD]', '[PAD]', '[PAD]', '[PAD]', '[PAD]', '[PAD]', '[PAD]', '[PAD]', '[PAD]', '[PAD]', '[PAD]', '[PAD]', '[PAD]', '[PAD]', '[PAD]', '[PAD]', '[PAD]', '[PAD]', '[PAD]', '[PAD]', '[PAD]', '[CLS]', 'lie', 'in', 'how', 'the', 'swing', 'initiation', 'state', 'functions', '.', '[SEP]', '[PAD]', '[PAD]', '[PAD]', '[PAD]', '[PAD]', '[PAD]', '[PAD]', '[PAD]', '[PAD]', '[PAD]', '[PAD]', '[PAD]', '[PAD]', '[PAD]', '[PAD]', '[PAD]', '[PAD]', '[PAD]', '[PAD]', '[PAD]', '[PAD]', '[PAD]', '[PAD]', '[PAD]', '[PAD]', '[PAD]', '[PAD]', '[PAD]', '[PAD]', '[PAD]', '[PAD]', '[PAD]', '[PAD]', '[PAD]', '[PAD]', '[PAD]', '[PAD]', '[PAD]', '[PAD]', '[CLS]', 'first', ',', 'for', 'running', 'we', 'found', 'it', 'necessary', 'to', 'enter', 'into', 'swing', 'initiation', 'using', 'the', 'd', 'i', '&', 'gt', ';', 'd', 'i', 'si', 'condition', ',', 'rather', 'than', 'just', 'wait', 'for', 'double', 'stance', '.', '[SEP]', '[PAD]', '[PAD]', '[PAD]', '[PAD]', '[PAD]', '[PAD]', '[PAD]', '[PAD]', '[PAD]', '[PAD]', '[PAD]', '[PAD]', '[PAD]', '[PAD]', '[PAD]', '[CLS]', 'second', ',', 'we', 'found', 'it', 'unnecessary', 'to', 'mod', '##ulate', 'the', 'muscle', '-', 'driven', 'pd', '-', 'control', 'laws', 'in', 'the', 'hip', 'by', 'ground', 'reaction', 'forces', '.', '[SEP]', '[PAD]', '[PAD]', '[PAD]', '[PAD]', '[PAD]', '[PAD]', '[PAD]', '[PAD]', '[PAD]', '[PAD]', '[PAD]', '[PAD]', '[PAD]', '[PAD]', '[PAD]', '[PAD]', '[PAD]', '[PAD]', '[PAD]', '[PAD]', '[PAD]', '[PAD]', '[PAD]', '[CLS]', 'instead', ',', 'the', 'responsibility', 'to', 'maintain', 'upper', 'body', 'orientation', 'is', 'always', 'assigned', 'to', 'the', 'lead', 'leg', '.', '[SEP]', '[PAD]', '[PAD]', '[PAD]', '[PAD]', '[PAD]', '[PAD]', '[PAD]', '[PAD]', '[PAD]', '[PAD]', '[PAD]', '[PAD]', '[PAD]', '[PAD]', '[PAD]', '[PAD]', '[PAD]', '[PAD]', '[PAD]', '[PAD]', '[PAD]', '[PAD]', '[PAD]', '[PAD]', '[PAD]', '[PAD]', '[PAD]', '[PAD]', '[PAD]', '[PAD]', '[PAD]', '[CLS]', 'u', 'sol', '=', 'p', 'sol', '+', 'u', 'sol', 'f', ',', 'u', 'ta', '=', 'p', 'ta', '+', 'u', 'ta', 'l', 'a', 'u', 'f', 'sol', ',', 'u', 'gas', '=', 'p', 'gas', '+', 'u', 'gas', 'f', ',', 'u', 'va', '##s', '=', 'p', 'va', '##s', '+', 'u', 'f', 'va', '##s', '+', 'k', '[SEP]', '[CLS]', 'u', 'va', '##s', '=', 'u', 'va', '##s', 'a', 's', 'va', '##s', ',', 'u', 'rf', '=', 'u', 'rf', '+', 's', 'rf', ',', 'u', 'g', '##lu', '=', 'u', 'g', '##lu', 'a', 's', 'g', '##lu', ',', 'u', 'h', '##fl', '=', 'u', 'h', '##fl', '+', 's', 'h', '##fl', '.', '[SEP]', '[PAD]', '[PAD]', '[PAD]', '[CLS]', '<', 'h', '##2', '>', '4', '.', '3', 'swing', 'phase', '<', '/', 'h', '##2', '>', '[SEP]', '[PAD]', '[PAD]', '[PAD]', '[PAD]', '[PAD]', '[PAD]', '[PAD]', '[PAD]', '[PAD]', '[PAD]', '[PAD]', '[PAD]', '[PAD]', '[PAD]', '[PAD]', '[PAD]', '[PAD]', '[PAD]', '[PAD]', '[PAD]', '[PAD]', '[PAD]', '[PAD]', '[PAD]', '[PAD]', '[PAD]', '[PAD]', '[PAD]', '[PAD]', '[PAD]', '[PAD]', '[PAD]', '[PAD]', '[PAD]']\n",
      "[0 0 0 0 0 0 0 0 0 0 0 0 0 0 0 0 0 0 0 0 0 0 0 0 0 0 0 0 0 0 0 0 0 0 0 0 0\n",
      " 0 0 0 0 0 0 0 0 0 0 0 0 0]\n",
      "[-100    1    1    1    1    1    1    1    1    1    1 -100    0    0\n",
      "    0    0 -100 -100    0    0 -100 -100 -100 -100 -100 -100 -100 -100\n",
      " -100 -100 -100 -100 -100 -100 -100 -100 -100 -100 -100 -100 -100 -100\n",
      " -100 -100 -100 -100 -100 -100 -100 -100]\n",
      "\n",
      "['[CLS]', 'much', 'like', 'in', 'the', 'stance', 'phase', ',', 'each', 'muscle', 'has', 'an', 'initial', 'constant', 'ex', '##cit', '##ation', 'value', '(', 'q', 'm', ')', '.', '[SEP]', '[PAD]', '[PAD]', '[PAD]', '[PAD]', '[PAD]', '[PAD]', '[PAD]', '[PAD]', '[PAD]', '[PAD]', '[PAD]', '[PAD]', '[PAD]', '[PAD]', '[PAD]', '[PAD]', '[PAD]', '[PAD]', '[PAD]', '[PAD]', '[PAD]', '[PAD]', '[PAD]', '[PAD]', '[PAD]', '[PAD]', '[CLS]', 'the', 'leg', 'motion', 'relies', 'significantly', 'on', 'passive', 'dynamics', 'during', 'the', 'swing', 'phase', '[SEP]', '[PAD]', '[PAD]', '[PAD]', '[PAD]', '[PAD]', '[PAD]', '[PAD]', '[PAD]', '[PAD]', '[PAD]', '[PAD]', '[PAD]', '[PAD]', '[PAD]', '[PAD]', '[PAD]', '[PAD]', '[PAD]', '[PAD]', '[PAD]', '[PAD]', '[PAD]', '[PAD]', '[PAD]', '[PAD]', '[PAD]', '[PAD]', '[PAD]', '[PAD]', '[PAD]', '[PAD]', '[PAD]', '[PAD]', '[PAD]', '[PAD]', '[PAD]', '[CLS]', '[', 'collins', 'et', 'al', '.', '[SEP]', '[PAD]', '[PAD]', '[PAD]', '[PAD]', '[PAD]', '[PAD]', '[PAD]', '[PAD]', '[PAD]', '[PAD]', '[PAD]', '[PAD]', '[PAD]', '[PAD]', '[PAD]', '[PAD]', '[PAD]', '[PAD]', '[PAD]', '[PAD]', '[PAD]', '[PAD]', '[PAD]', '[PAD]', '[PAD]', '[PAD]', '[PAD]', '[PAD]', '[PAD]', '[PAD]', '[PAD]', '[PAD]', '[PAD]', '[PAD]', '[PAD]', '[PAD]', '[PAD]', '[PAD]', '[PAD]', '[PAD]', '[PAD]', '[PAD]', '[PAD]', '[CLS]', '2005', ']', ',', 'as', 'most', 'muscles', 'are', 'only', 'excited', 'at', 'low', 'levels', '.', '[SEP]', '[PAD]', '[PAD]', '[PAD]', '[PAD]', '[PAD]', '[PAD]', '[PAD]', '[PAD]', '[PAD]', '[PAD]', '[PAD]', '[PAD]', '[PAD]', '[PAD]', '[PAD]', '[PAD]', '[PAD]', '[PAD]', '[PAD]', '[PAD]', '[PAD]', '[PAD]', '[PAD]', '[PAD]', '[PAD]', '[PAD]', '[PAD]', '[PAD]', '[PAD]', '[PAD]', '[PAD]', '[PAD]', '[PAD]', '[PAD]', '[PAD]', '[CLS]', 'the', 'main', 'exceptions', 'are', 'the', 'ta', ',', 'which', 'maintains', 'the', 'length', 'feedback', '(', 'u', 'l', 'ta', ')', 'to', 'avoid', 'toes', '##tub', '##bing', ',', 'and', 'the', 'ham', ',', 'which', 'is', 'activated', 'at', 'late', 'swing', 'phase', 'to', 'prevent', 'the', 'knee', 'from', 'being', 'over', '##ex', '##ten', '##ded', 'before', 'landing', '.', '[SEP]', '[PAD]', '[CLS]', 'the', 'h', '##fl', 'introduces', 'a', 'hip', 'flex', '##ion', 'torque', 'through', 'a', 'length', 'feedback', ',', 'which', 'is', 'suppressed', 'when', 'the', 'ham', 'is', 'stretched', 'in', 'during', 'late', 'swing', '.', '[SEP]', '[PAD]', '[PAD]', '[PAD]', '[PAD]', '[PAD]', '[PAD]', '[PAD]', '[PAD]', '[PAD]', '[PAD]', '[PAD]', '[PAD]', '[PAD]', '[PAD]', '[PAD]', '[PAD]', '[PAD]', '[PAD]', '[PAD]', '[PAD]', '[PAD]', '[CLS]', 'the', 'amount', 'of', 'ex', '##cit', '##ation', 'in', 'the', 'h', '##fl', 'also', 'depends', 'on', 'the', 'value', 'of', 'upper', 'body', 'lean', 'at', 'the', 'beginning', 'of', 'the', 'swing', 'phase', '(', 'i', 'lt', '##o', ')', ':', 'the', 'further', 'the', 'upper', 'body', 'leans', 'forward', 'compared', 'to', 'the', 'reference', 'lean', 'angle', '(', 'i', 'd', '[SEP]', '[CLS]', 'note', 'that', 'i', 'd', 'is', 'the', 'same', 'as', 'the', 'target', 'angle', 'in', 'u', 'i', 'h', '##fl', '.', '[SEP]', '[PAD]', '[PAD]', '[PAD]', '[PAD]', '[PAD]', '[PAD]', '[PAD]', '[PAD]', '[PAD]', '[PAD]', '[PAD]', '[PAD]', '[PAD]', '[PAD]', '[PAD]', '[PAD]', '[PAD]', '[PAD]', '[PAD]', '[PAD]', '[PAD]', '[PAD]', '[PAD]', '[PAD]', '[PAD]', '[PAD]', '[PAD]', '[PAD]', '[PAD]', '[PAD]', '[PAD]']\n",
      "[0 0 0 0 0 0 0 0 0 0 0 0 0 0 0 0 0 0 0 0 0 0 0 0 0 0 0 0 0 0 0 0 0 0 0 0 0\n",
      " 0 0 0 0 0 0 0 0 0 0 0 0 0]\n",
      "[-100    0    0    1    1    1    1    1    1    1    1    1    1    1\n",
      "    1 -100    1    1    1    1    1    1    1    1    1    0 -100 -100\n",
      " -100 -100 -100 -100 -100 -100 -100 -100 -100 -100 -100 -100 -100 -100\n",
      " -100 -100 -100 -100 -100 -100 -100 -100]\n",
      "\n",
      "['[CLS]', 'non', '-', 'constant', 'control', 'laws', 'during', 'the', 'swing', 'phase', 'are', 'as', 'follows', ':', 'the', 'controller', 'enters', 'into', 'the', 'stance', 'preparation', 'when', 'd', 'i', '&', 'lt', ';', 'd', 'i', 'sp', ',', 'where', 'the', 'swing', 'leg', 'enters', 'into', 'a', 'pd', '-', 'control', 'mode', '.', '[SEP]', '[PAD]', '[PAD]', '[PAD]', '[PAD]', '[PAD]', '[PAD]', '[CLS]', 'the', 'g', '##lu', ',', 'h', '##fl', ',', 'and', 'va', '##s', 'work', 'to', 'guide', 'the', 'hip', 'and', 'knee', 'joints', 'toward', 'a', 'desired', 'pose', 'to', 'prepare', 'for', 'ground', 'contact', ':', 'u', 'va', '##s', '=', 'q', 'va', '##s', '+', 'u', 'va', '##s', '[UNK]', 'k', ',', 'u', 'g', '##lu', '=', 'q', 'g', '[SEP]', '[CLS]', 'a', 'single', 'desired', 'hip', 'target', 'angle', '(', '[UNK]', 'h', ')', 'is', 'adjusted', 'according', 'to', 'the', 'sim', '##bic', '##on', 'balance', 'feedback', 'law', '[SEP]', '[PAD]', '[PAD]', '[PAD]', '[PAD]', '[PAD]', '[PAD]', '[PAD]', '[PAD]', '[PAD]', '[PAD]', '[PAD]', '[PAD]', '[PAD]', '[PAD]', '[PAD]', '[PAD]', '[PAD]', '[PAD]', '[PAD]', '[PAD]', '[PAD]', '[PAD]', '[PAD]', '[PAD]', '[PAD]', '[PAD]', '[PAD]', '[CLS]', '[', 'yin', 'et', 'al', '.', '[SEP]', '[PAD]', '[PAD]', '[PAD]', '[PAD]', '[PAD]', '[PAD]', '[PAD]', '[PAD]', '[PAD]', '[PAD]', '[PAD]', '[PAD]', '[PAD]', '[PAD]', '[PAD]', '[PAD]', '[PAD]', '[PAD]', '[PAD]', '[PAD]', '[PAD]', '[PAD]', '[PAD]', '[PAD]', '[PAD]', '[PAD]', '[PAD]', '[PAD]', '[PAD]', '[PAD]', '[PAD]', '[PAD]', '[PAD]', '[PAD]', '[PAD]', '[PAD]', '[PAD]', '[PAD]', '[PAD]', '[PAD]', '[PAD]', '[PAD]', '[PAD]', '[CLS]', '2007', ']', 'and', 'is', 'shared', 'by', 'both', 'the', 'g', '##lu', 'and', 'h', '##fl', '.', '[SEP]', '[PAD]', '[PAD]', '[PAD]', '[PAD]', '[PAD]', '[PAD]', '[PAD]', '[PAD]', '[PAD]', '[PAD]', '[PAD]', '[PAD]', '[PAD]', '[PAD]', '[PAD]', '[PAD]', '[PAD]', '[PAD]', '[PAD]', '[PAD]', '[PAD]', '[PAD]', '[PAD]', '[PAD]', '[PAD]', '[PAD]', '[PAD]', '[PAD]', '[PAD]', '[PAD]', '[PAD]', '[PAD]', '[PAD]', '[PAD]', '[CLS]', 'we', 'found', 'the', 'addition', 'of', 'the', 'stance', 'preparation', 'state', 'to', 'be', 'important', 'for', 'discovering', 'running', 'ga', '##its', '.', '[SEP]', '[PAD]', '[PAD]', '[PAD]', '[PAD]', '[PAD]', '[PAD]', '[PAD]', '[PAD]', '[PAD]', '[PAD]', '[PAD]', '[PAD]', '[PAD]', '[PAD]', '[PAD]', '[PAD]', '[PAD]', '[PAD]', '[PAD]', '[PAD]', '[PAD]', '[PAD]', '[PAD]', '[PAD]', '[PAD]', '[PAD]', '[PAD]', '[PAD]', '[PAD]', '[PAD]', '[CLS]', 'the', 'balance', 'feedback', 'law', 'allows', 'robust', 'control', 'strategies', 'to', 'be', 'found', 'in', 'difficult', 'environments', '(', 'e', '.', 'g', '.', ',', 'being', 'pushed', 'by', 'random', 'forces', ')', '.', '[SEP]', '[PAD]', '[PAD]', '[PAD]', '[PAD]', '[PAD]', '[PAD]', '[PAD]', '[PAD]', '[PAD]', '[PAD]', '[PAD]', '[PAD]', '[PAD]', '[PAD]', '[PAD]', '[PAD]', '[PAD]', '[PAD]', '[PAD]', '[PAD]', '[PAD]', '[CLS]', 'u', 'ta', '=', 'q', 'ta', '+', 'u', 'l', 'ta', ',', 'u', 'ham', '=', 'q', 'ham', '+', 'u', 'ham', 'f', ',', 'u', 'g', '##lu', '=', 'q', 'g', '##lu', '+', 'u', 'f', 'g', '##lu', ',', 'u', 'h', '##fl', '=', 'q', 'h', '##fl', '+', 'u', 'l', 'h', '##fl', 'a', 'u', 'l', '[SEP]']\n",
      "[0 0 0 0 0 0 0 0 0 0 0 0 0 0 0 0 0 0 0 0 0 0 0 0 0 0 0 0 0 0 0 0 0 0 0 0 0\n",
      " 0 0 0 0 0 0 0 0 0 0 0 0 0]\n",
      "[-100    1    1 -100 -100    1    1    1    1    1    1    1 -100 -100\n",
      " -100 -100 -100 -100 -100 -100 -100 -100 -100 -100 -100 -100 -100 -100\n",
      " -100 -100 -100 -100 -100 -100 -100 -100 -100 -100 -100 -100 -100 -100\n",
      " -100 -100 -100 -100 -100 -100 -100 -100]\n",
      "\n",
      "['[CLS]', '<', 'h', '##2', '>', '4', '.', '4', 'out', '-', 'of', '-', 'plane', 'and', 'upper', '##body', 'control', '<', '/', 'h', '##2', '>', '[SEP]', '[PAD]', '[PAD]', '[PAD]', '[PAD]', '[PAD]', '[PAD]', '[PAD]', '[PAD]', '[PAD]', '[PAD]', '[PAD]', '[PAD]', '[PAD]', '[PAD]', '[PAD]', '[PAD]', '[PAD]', '[PAD]', '[PAD]', '[PAD]', '[PAD]', '[PAD]', '[PAD]', '[PAD]', '[PAD]', '[PAD]', '[PAD]', '[CLS]', 'the', 'rest', 'of', 'the', 'do', '##fs', 'are', 'controlled', 'using', 'standard', 'joint', '-', 'space', 'pd', '##con', '##tro', '##ller', '##s', 'with', 'state', '-', 'dependent', 'parameters', '.', '[SEP]', '[PAD]', '[PAD]', '[PAD]', '[PAD]', '[PAD]', '[PAD]', '[PAD]', '[PAD]', '[PAD]', '[PAD]', '[PAD]', '[PAD]', '[PAD]', '[PAD]', '[PAD]', '[PAD]', '[PAD]', '[PAD]', '[PAD]', '[PAD]', '[PAD]', '[PAD]', '[PAD]', '[PAD]', '[CLS]', 'following', 'wang', 'et', 'al', '.', '[SEP]', '[PAD]', '[PAD]', '[PAD]', '[PAD]', '[PAD]', '[PAD]', '[PAD]', '[PAD]', '[PAD]', '[PAD]', '[PAD]', '[PAD]', '[PAD]', '[PAD]', '[PAD]', '[PAD]', '[PAD]', '[PAD]', '[PAD]', '[PAD]', '[PAD]', '[PAD]', '[PAD]', '[PAD]', '[PAD]', '[PAD]', '[PAD]', '[PAD]', '[PAD]', '[PAD]', '[PAD]', '[PAD]', '[PAD]', '[PAD]', '[PAD]', '[PAD]', '[PAD]', '[PAD]', '[PAD]', '[PAD]', '[PAD]', '[PAD]', '[PAD]', '[CLS]', '[', '2010', ']', '[SEP]', '[PAD]', '[PAD]', '[PAD]', '[PAD]', '[PAD]', '[PAD]', '[PAD]', '[PAD]', '[PAD]', '[PAD]', '[PAD]', '[PAD]', '[PAD]', '[PAD]', '[PAD]', '[PAD]', '[PAD]', '[PAD]', '[PAD]', '[PAD]', '[PAD]', '[PAD]', '[PAD]', '[PAD]', '[PAD]', '[PAD]', '[PAD]', '[PAD]', '[PAD]', '[PAD]', '[PAD]', '[PAD]', '[PAD]', '[PAD]', '[PAD]', '[PAD]', '[PAD]', '[PAD]', '[PAD]', '[PAD]', '[PAD]', '[PAD]', '[PAD]', '[PAD]', '[PAD]', '[CLS]', ',', 'the', 'target', 'features', 'for', 'the', 'ankle', 'and', 'hip', 'joints', 'in', 'the', 'corona', '##l', 'plane', 'are', 'the', 'global', 'foot', 'and', 'pe', '##lvis', 'orientation', '##s', ',', 'respectively', '.', '[SEP]', '[PAD]', '[PAD]', '[PAD]', '[PAD]', '[PAD]', '[PAD]', '[PAD]', '[PAD]', '[PAD]', '[PAD]', '[PAD]', '[PAD]', '[PAD]', '[PAD]', '[PAD]', '[PAD]', '[PAD]', '[PAD]', '[PAD]', '[PAD]', '[PAD]', '[CLS]', 'the', 'corona', '##l', 'swing', 'hip', 'target', 'angles', 'follow', 'the', 'same', 'feedback', 'law', 'as', '[UNK]', 'h', '.', '[SEP]', '[PAD]', '[PAD]', '[PAD]', '[PAD]', '[PAD]', '[PAD]', '[PAD]', '[PAD]', '[PAD]', '[PAD]', '[PAD]', '[PAD]', '[PAD]', '[PAD]', '[PAD]', '[PAD]', '[PAD]', '[PAD]', '[PAD]', '[PAD]', '[PAD]', '[PAD]', '[PAD]', '[PAD]', '[PAD]', '[PAD]', '[PAD]', '[PAD]', '[PAD]', '[PAD]', '[PAD]', '[PAD]', '[CLS]', 'additionally', ',', 'we', 'set', 'the', 'toe', 'joint', 'to', 'be', 'a', 'spring', 'with', 'spring', 'constant', 'of', '30', 'nm', '/', 'ra', '##d', ',', 'target', 'angle', '0', ',', 'and', 'no', 'damp', '##ing', '.', '[SEP]', '[PAD]', '[PAD]', '[PAD]', '[PAD]', '[PAD]', '[PAD]', '[PAD]', '[PAD]', '[PAD]', '[PAD]', '[PAD]', '[PAD]', '[PAD]', '[PAD]', '[PAD]', '[PAD]', '[PAD]', '[PAD]', '[CLS]', 'unlike', 'in', 'previous', 'work', ',', 'where', 'a', 'ga', '##it', 'cycle', 'is', 'broken', 'down', 'into', 'four', 'states', ',', 'only', 'two', 'are', 'needed', '(', 'triggered', 'by', 'left', '/', 'right', 'foot', '-', 'strike', ')', 'since', 'do', '##fs', 'with', 'the', 'most', 'complex', 'activities', 'are', 'act', '##uated', 'by', 'muscles', '.', '[SEP]', '[PAD]', '[PAD]', '[PAD]']\n",
      "[0 0 0 0 0 0 0 0 0 0 0 0 0 0 0 0 0 0 0 0 0 0 0 0 0 0 0 0 0 0 0 0 0 0 0 0 0\n",
      " 0 0 0 0 0 0 0 0 0 0 0 0 0]\n",
      "[-100    0    0    0    0    0 -100 -100 -100 -100 -100 -100 -100 -100\n",
      " -100 -100 -100 -100 -100 -100 -100 -100 -100 -100 -100 -100 -100 -100\n",
      " -100 -100 -100 -100 -100 -100 -100 -100 -100 -100 -100 -100 -100 -100\n",
      " -100 -100 -100 -100 -100 -100 -100 -100]\n",
      "\n",
      "['[CLS]', 'our', 'upper', 'body', 'control', 'also', 'largely', 'follows', '[SEP]', '[PAD]', '[PAD]', '[PAD]', '[PAD]', '[PAD]', '[PAD]', '[PAD]', '[PAD]', '[PAD]', '[PAD]', '[PAD]', '[PAD]', '[PAD]', '[PAD]', '[PAD]', '[PAD]', '[PAD]', '[PAD]', '[PAD]', '[PAD]', '[PAD]', '[PAD]', '[PAD]', '[PAD]', '[PAD]', '[PAD]', '[PAD]', '[PAD]', '[PAD]', '[PAD]', '[PAD]', '[PAD]', '[PAD]', '[PAD]', '[PAD]', '[PAD]', '[PAD]', '[PAD]', '[PAD]', '[PAD]', '[PAD]', '[CLS]', 'wang', 'et', 'al', '.', '[SEP]', '[PAD]', '[PAD]', '[PAD]', '[PAD]', '[PAD]', '[PAD]', '[PAD]', '[PAD]', '[PAD]', '[PAD]', '[PAD]', '[PAD]', '[PAD]', '[PAD]', '[PAD]', '[PAD]', '[PAD]', '[PAD]', '[PAD]', '[PAD]', '[PAD]', '[PAD]', '[PAD]', '[PAD]', '[PAD]', '[PAD]', '[PAD]', '[PAD]', '[PAD]', '[PAD]', '[PAD]', '[PAD]', '[PAD]', '[PAD]', '[PAD]', '[PAD]', '[PAD]', '[PAD]', '[PAD]', '[PAD]', '[PAD]', '[PAD]', '[PAD]', '[PAD]', '[CLS]', '[', '2010', ']', '[SEP]', '[PAD]', '[PAD]', '[PAD]', '[PAD]', '[PAD]', '[PAD]', '[PAD]', '[PAD]', '[PAD]', '[PAD]', '[PAD]', '[PAD]', '[PAD]', '[PAD]', '[PAD]', '[PAD]', '[PAD]', '[PAD]', '[PAD]', '[PAD]', '[PAD]', '[PAD]', '[PAD]', '[PAD]', '[PAD]', '[PAD]', '[PAD]', '[PAD]', '[PAD]', '[PAD]', '[PAD]', '[PAD]', '[PAD]', '[PAD]', '[PAD]', '[PAD]', '[PAD]', '[PAD]', '[PAD]', '[PAD]', '[PAD]', '[PAD]', '[PAD]', '[PAD]', '[PAD]', '[CLS]', ',', 'with', 'the', 'exception', 'that', 'the', 'target', 'feature', 'of', 'our', 'back', 'joint', 'in', 'the', 'corona', '##l', 'plane', 'is', 'the', 'global', 'orientation', 'of', 'the', 'torso', 'instead', 'of', 'the', 'local', 'joint', 'angle', 'between', 'the', 'torso', 'and', 'the', 'pe', '##lvis', '.', '[SEP]', '[PAD]', '[PAD]', '[PAD]', '[PAD]', '[PAD]', '[PAD]', '[PAD]', '[PAD]', '[PAD]', '[PAD]', '[CLS]', 'this', 'global', 'target', 'allows', 'our', 'model', 'to', 'better', 'keep', 'the', 'head', 'upright', 'during', 'loco', '##mot', '##ion', '.', '[SEP]', '[PAD]', '[PAD]', '[PAD]', '[PAD]', '[PAD]', '[PAD]', '[PAD]', '[PAD]', '[PAD]', '[PAD]', '[PAD]', '[PAD]', '[PAD]', '[PAD]', '[PAD]', '[PAD]', '[PAD]', '[PAD]', '[PAD]', '[PAD]', '[PAD]', '[PAD]', '[PAD]', '[PAD]', '[PAD]', '[PAD]', '[PAD]', '[PAD]', '[PAD]', '[PAD]', '[PAD]', '[CLS]', 'we', 'fix', 'the', 'spring', 'and', 'damp', '##er', 'constant', '##s', 'for', 'all', 'arm', 'joints', 'to', '30', 'nm', '/', 'ra', '##d', 'and', '3', 'nm', '##s', '/', 'ra', '##d', ',', 'respectively', ',', 'with', 'target', 'angles', 'set', 'to', '0', '.', '[SEP]', '[PAD]', '[PAD]', '[PAD]', '[PAD]', '[PAD]', '[PAD]', '[PAD]', '[PAD]', '[PAD]', '[PAD]', '[PAD]', '[PAD]', '[CLS]', 'we', 'found', 'that', 'more', 'human', '-', 'like', 'arm', 'swing', 'can', 'be', 'generated', 'by', 'relating', 'the', 'elbow', 'and', 'shoulder', 'target', 'angles', 'as', '[UNK]', 's', 'l', '=', 'i', '##±', 'arm', '[UNK]', 'h', 'l', 'a', '[UNK]', 'h', 'r', '+', '[UNK]', 'e', 'd', 'and', 'i', 'l', 's', '=', '[UNK]', 'e', 'd', ',', '[SEP]', '[CLS]', 'this', 'formulation', 'captures', 'the', 'tendency', 'to', 'rotate', 'the', 'shoulder', 'backwards', 'and', 'inward', '##s', 'while', 'bending', 'the', 'elbow', '.', '[SEP]', '[PAD]', '[PAD]', '[PAD]', '[PAD]', '[PAD]', '[PAD]', '[PAD]', '[PAD]', '[PAD]', '[PAD]', '[PAD]', '[PAD]', '[PAD]', '[PAD]', '[PAD]', '[PAD]', '[PAD]', '[PAD]', '[PAD]', '[PAD]', '[PAD]', '[PAD]', '[PAD]', '[PAD]', '[PAD]', '[PAD]', '[PAD]', '[PAD]', '[PAD]', '[PAD]']\n",
      "[0 0 0 0 0 0 0 0 0 0 0 0 0 0 0 0 0 0 0 0 0 0 0 0 0 0 0 0 0 0 0 0 0 0 0 0 0\n",
      " 0 0 0 0 0 0 0 0 0 0 0 0 0]\n",
      "[-100    0    0 -100 -100 -100 -100 -100 -100 -100 -100 -100 -100 -100\n",
      " -100 -100 -100 -100 -100 -100 -100 -100 -100 -100 -100 -100 -100 -100\n",
      " -100 -100 -100 -100 -100 -100 -100 -100 -100 -100 -100 -100 -100 -100\n",
      " -100 -100 -100 -100 -100 -100 -100 -100]\n",
      "\n",
      "['[CLS]', 'the', 'scale', 'constant', 'and', 'the', 'desired', 'elbow', 'angle', 'are', 'among', 'the', 'parameters', 'set', 'by', 'optimization', ',', 'as', 'described', 'in', 'the', 'next', 'section', '.', '[SEP]', '[PAD]', '[PAD]', '[PAD]', '[PAD]', '[PAD]', '[PAD]', '[PAD]', '[PAD]', '[PAD]', '[PAD]', '[PAD]', '[PAD]', '[PAD]', '[PAD]', '[PAD]', '[PAD]', '[PAD]', '[PAD]', '[PAD]', '[PAD]', '[PAD]', '[PAD]', '[PAD]', '[PAD]', '[PAD]', '[CLS]', '<', 'h', '##1', '>', '5', 'optimization', '<', '/', 'h', '##1', '>', '[SEP]', '[PAD]', '[PAD]', '[PAD]', '[PAD]', '[PAD]', '[PAD]', '[PAD]', '[PAD]', '[PAD]', '[PAD]', '[PAD]', '[PAD]', '[PAD]', '[PAD]', '[PAD]', '[PAD]', '[PAD]', '[PAD]', '[PAD]', '[PAD]', '[PAD]', '[PAD]', '[PAD]', '[PAD]', '[PAD]', '[PAD]', '[PAD]', '[PAD]', '[PAD]', '[PAD]', '[PAD]', '[PAD]', '[PAD]', '[PAD]', '[PAD]', '[PAD]', '[PAD]', '[CLS]', 'the', 'control', 'algorithm', 'specified', 'in', 'section', '4', 'has', 'a', 'large', 'number', 'of', 'parameters', ',', 'which', 'we', 'set', 'by', 'optimization', '[SEP]', '[PAD]', '[PAD]', '[PAD]', '[PAD]', '[PAD]', '[PAD]', '[PAD]', '[PAD]', '[PAD]', '[PAD]', '[PAD]', '[PAD]', '[PAD]', '[PAD]', '[PAD]', '[PAD]', '[PAD]', '[PAD]', '[PAD]', '[PAD]', '[PAD]', '[PAD]', '[PAD]', '[PAD]', '[PAD]', '[PAD]', '[PAD]', '[PAD]', '[PAD]', '[CLS]', '[', 'wang', 'et', 'al', '.', '[SEP]', '[PAD]', '[PAD]', '[PAD]', '[PAD]', '[PAD]', '[PAD]', '[PAD]', '[PAD]', '[PAD]', '[PAD]', '[PAD]', '[PAD]', '[PAD]', '[PAD]', '[PAD]', '[PAD]', '[PAD]', '[PAD]', '[PAD]', '[PAD]', '[PAD]', '[PAD]', '[PAD]', '[PAD]', '[PAD]', '[PAD]', '[PAD]', '[PAD]', '[PAD]', '[PAD]', '[PAD]', '[PAD]', '[PAD]', '[PAD]', '[PAD]', '[PAD]', '[PAD]', '[PAD]', '[PAD]', '[PAD]', '[PAD]', '[PAD]', '[PAD]', '[CLS]', '2010', ']', '.', '[SEP]', '[PAD]', '[PAD]', '[PAD]', '[PAD]', '[PAD]', '[PAD]', '[PAD]', '[PAD]', '[PAD]', '[PAD]', '[PAD]', '[PAD]', '[PAD]', '[PAD]', '[PAD]', '[PAD]', '[PAD]', '[PAD]', '[PAD]', '[PAD]', '[PAD]', '[PAD]', '[PAD]', '[PAD]', '[PAD]', '[PAD]', '[PAD]', '[PAD]', '[PAD]', '[PAD]', '[PAD]', '[PAD]', '[PAD]', '[PAD]', '[PAD]', '[PAD]', '[PAD]', '[PAD]', '[PAD]', '[PAD]', '[PAD]', '[PAD]', '[PAD]', '[PAD]', '[PAD]', '[CLS]', 'more', 'specifically', ',', 'each', 'of', 'the', 'u', 'm', 'f', ',', 'u', 'm', 'l', ',', 'and', 'u', 'm', '[UNK]', 'laws', 'have', 'one', ',', 'two', ',', 'and', 'three', 'parameters', ',', 'respectively', '.', '[SEP]', '[PAD]', '[PAD]', '[PAD]', '[PAD]', '[PAD]', '[PAD]', '[PAD]', '[PAD]', '[PAD]', '[PAD]', '[PAD]', '[PAD]', '[PAD]', '[PAD]', '[PAD]', '[PAD]', '[PAD]', '[PAD]', '[CLS]', 'there', 'are', '56', 'parameters', 'in', 'total', '(', '30', 'stance', ',', '26', 'swing', ')', 'for', 'the', 'mt', '##u', 'control', 'laws', '.', '[SEP]', '[PAD]', '[PAD]', '[PAD]', '[PAD]', '[PAD]', '[PAD]', '[PAD]', '[PAD]', '[PAD]', '[PAD]', '[PAD]', '[PAD]', '[PAD]', '[PAD]', '[PAD]', '[PAD]', '[PAD]', '[PAD]', '[PAD]', '[PAD]', '[PAD]', '[PAD]', '[PAD]', '[PAD]', '[PAD]', '[PAD]', '[PAD]', '[PAD]', '[CLS]', 'for', 'the', 'upper', 'body', 'and', 'the', 'non', '-', 'sa', '##git', '##tal', 'do', '##fs', 'in', 'the', 'lower', 'body', ',', 'we', 'opt', '##imi', '##ze', 'the', 'pd', '##con', '##tro', '##l', 'parameters', '(', 'spring', '-', 'damp', '##er', 'constant', '##s', ',', 'target', 'angle', ',', 'balance', 'feedback', ')', 'for', 'all', 'joints', 'except', 'for', 'arms', '[SEP]']\n",
      "[0 0 0 0 0 0 0 0 0 0 0 0 0 0 0 0 0 0 0 0 0 0 0 0 0 0 0 0 0 0 0 0 0 0 0 0 0\n",
      " 0 0 0 0 0 0 0 0 0 0 0 0 0]\n",
      "[-100    0    0    1    1    1    1    1    0 -100 -100 -100 -100 -100\n",
      " -100 -100 -100 -100 -100 -100 -100 -100 -100 -100 -100 -100 -100 -100\n",
      " -100 -100 -100 -100 -100 -100 -100 -100 -100 -100 -100 -100 -100 -100\n",
      " -100 -100 -100 -100 -100 -100 -100 -100]\n",
      "\n",
      "['[CLS]', 'when', 'combined', 'with', '33', 'free', 'parameters', 'describing', 'the', 'initial', 'state', 'of', 'the', 'simulation', ',', '124', 'parameters', '(', 'w', ')', 'fully', 'define', 'a', 'simulated', 'motion', '{', 's', '1', '.', '[SEP]', '[PAD]', '[PAD]', '[PAD]', '[PAD]', '[PAD]', '[PAD]', '[PAD]', '[PAD]', '[PAD]', '[PAD]', '[PAD]', '[PAD]', '[PAD]', '[PAD]', '[PAD]', '[PAD]', '[PAD]', '[PAD]', '[PAD]', '[PAD]', '[CLS]', '.', 's', 't', '}', 'over', 't', 'times', '##te', '##ps', '.', '[SEP]', '[PAD]', '[PAD]', '[PAD]', '[PAD]', '[PAD]', '[PAD]', '[PAD]', '[PAD]', '[PAD]', '[PAD]', '[PAD]', '[PAD]', '[PAD]', '[PAD]', '[PAD]', '[PAD]', '[PAD]', '[PAD]', '[PAD]', '[PAD]', '[PAD]', '[PAD]', '[PAD]', '[PAD]', '[PAD]', '[PAD]', '[PAD]', '[PAD]', '[PAD]', '[PAD]', '[PAD]', '[PAD]', '[PAD]', '[PAD]', '[PAD]', '[PAD]', '[PAD]', '[PAD]', '[CLS]', 'we', 'opt', '##imi', '##ze', 'control', 'parameters', 'and', 'the', 'initial', 'state', 'using', 'co', '##var', '##iance', 'matrix', 'adaptation', '(', 'cm', '##a', ')', '[SEP]', '[PAD]', '[PAD]', '[PAD]', '[PAD]', '[PAD]', '[PAD]', '[PAD]', '[PAD]', '[PAD]', '[PAD]', '[PAD]', '[PAD]', '[PAD]', '[PAD]', '[PAD]', '[PAD]', '[PAD]', '[PAD]', '[PAD]', '[PAD]', '[PAD]', '[PAD]', '[PAD]', '[PAD]', '[PAD]', '[PAD]', '[PAD]', '[PAD]', '[CLS]', '[', 'hansen', '2006', ']', ',', 'with', 'steps', '##ize', 'i', '=', '0', '.', '00', '##5', 'and', '50', 'samples', 'per', 'iteration', '.', '[SEP]', '[PAD]', '[PAD]', '[PAD]', '[PAD]', '[PAD]', '[PAD]', '[PAD]', '[PAD]', '[PAD]', '[PAD]', '[PAD]', '[PAD]', '[PAD]', '[PAD]', '[PAD]', '[PAD]', '[PAD]', '[PAD]', '[PAD]', '[PAD]', '[PAD]', '[PAD]', '[PAD]', '[PAD]', '[PAD]', '[PAD]', '[PAD]', '[PAD]', '[CLS]', 'the', 'optimization', 'aims', 'to', 'maximize', 'the', 'following', 'return', 'function', ':', 't', 'r', '(', 'w', ')', '=', 'r', '(', 's', 't', ')', 'a', 'w', 'e', 'j', 'effort', '.', '[SEP]', '[PAD]', '[PAD]', '[PAD]', '[PAD]', '[PAD]', '[PAD]', '[PAD]', '[PAD]', '[PAD]', '[PAD]', '[PAD]', '[PAD]', '[PAD]', '[PAD]', '[PAD]', '[PAD]', '[PAD]', '[PAD]', '[PAD]', '[PAD]', '[PAD]', '[CLS]', 't', '=', '1', 'here', 'r', 'is', 'a', 'scala', '##r', 'reward', 'function', 'of', 'the', 'current', 'state', 's', 't', ',', 'j', 'effort', 'measures', 'the', 'effort', 'of', 'the', 'synthesized', 'motion', ',', 'and', 'w', 'e', 'is', 'set', 'to', '0', '.', '00', '##4', 'divided', 'by', 'the', 'mass', 'of', 'the', 'model', ',', 'motivated', 'by', '[SEP]', '[CLS]', 'wang', 'et', 'al', '.', '[SEP]', '[PAD]', '[PAD]', '[PAD]', '[PAD]', '[PAD]', '[PAD]', '[PAD]', '[PAD]', '[PAD]', '[PAD]', '[PAD]', '[PAD]', '[PAD]', '[PAD]', '[PAD]', '[PAD]', '[PAD]', '[PAD]', '[PAD]', '[PAD]', '[PAD]', '[PAD]', '[PAD]', '[PAD]', '[PAD]', '[PAD]', '[PAD]', '[PAD]', '[PAD]', '[PAD]', '[PAD]', '[PAD]', '[PAD]', '[PAD]', '[PAD]', '[PAD]', '[PAD]', '[PAD]', '[PAD]', '[PAD]', '[PAD]', '[PAD]', '[PAD]', '[PAD]', '[CLS]', '[', '2010', ']', '.', '[SEP]', '[PAD]', '[PAD]', '[PAD]', '[PAD]', '[PAD]', '[PAD]', '[PAD]', '[PAD]', '[PAD]', '[PAD]', '[PAD]', '[PAD]', '[PAD]', '[PAD]', '[PAD]', '[PAD]', '[PAD]', '[PAD]', '[PAD]', '[PAD]', '[PAD]', '[PAD]', '[PAD]', '[PAD]', '[PAD]', '[PAD]', '[PAD]', '[PAD]', '[PAD]', '[PAD]', '[PAD]', '[PAD]', '[PAD]', '[PAD]', '[PAD]', '[PAD]', '[PAD]', '[PAD]', '[PAD]', '[PAD]', '[PAD]', '[PAD]', '[PAD]', '[PAD]']\n",
      "[0 0 0 0 0 0 0 0 0 0 0 0 0 0 0 0 0 0 0 0 0 0 0 0 0 0 0 0 0 0 0 0 0 0 0 0 0\n",
      " 0 0 0 0 0 0 0 0 0 0 0 0 0]\n",
      "[-100    1    1    1    1 -100 -100 -100    1 -100 -100    1    1    1\n",
      "    1    1    1    1    1    1    1    1    1    1    1    1 -100 -100\n",
      " -100 -100 -100 -100 -100 -100 -100 -100 -100 -100 -100 -100 -100 -100\n",
      " -100 -100 -100 -100 -100 -100 -100 -100]\n",
      "\n"
     ]
    },
    {
     "name": "stderr",
     "output_type": "stream",
     "text": [
      "Iteration:  95%|█████████▍| 3934/4153 [11:28<00:38,  5.74it/s]IOPub message rate exceeded.\n",
      "The notebook server will temporarily stop sending output\n",
      "to the client in order to avoid crashing it.\n",
      "To change this limit, set the config variable\n",
      "`--NotebookApp.iopub_msg_rate_limit`.\n",
      "\n",
      "Current values:\n",
      "NotebookApp.iopub_msg_rate_limit=1000.0 (msgs/sec)\n",
      "NotebookApp.rate_limit_window=3.0 (secs)\n",
      "\n",
      "Iteration: 100%|██████████| 4153/4153 [12:04<00:00,  5.81it/s]\n",
      "Iteration:   0%|          | 1/4153 [00:00<12:25,  5.57it/s]"
     ]
    },
    {
     "name": "stdout",
     "output_type": "stream",
     "text": [
      "['[CLS]', 'g', 'm', 'and', 'h', 'm', 'are', 'free', 'positive', 'parameters', 'and', '{', '}', 'a', '##±', 'means', 'only', 'positive', 'or', 'negative', 'values', '(', '0', 'otherwise', ')', '.', '[SEP]', '[PAD]', '[PAD]', '[PAD]', '[PAD]', '[PAD]', '[PAD]', '[PAD]', '[PAD]', '[PAD]', '[PAD]', '[PAD]', '[PAD]', '[PAD]', '[PAD]', '[PAD]', '[PAD]', '[PAD]', '[PAD]', '[PAD]', '[PAD]', '[PAD]', '[PAD]', '[PAD]', '[CLS]', 'the', 'positive', 'length', 'feedback', 'effectively', 'models', 'a', 'stretch', 'reflex', ',', 'which', 'activate', '##s', 'the', 'muscle', 'when', 'the', 'fiber', 'is', 'stretched', 'beyond', 'a', 'fixed', 'length', '.', '[SEP]', '[PAD]', '[PAD]', '[PAD]', '[PAD]', '[PAD]', '[PAD]', '[PAD]', '[PAD]', '[PAD]', '[PAD]', '[PAD]', '[PAD]', '[PAD]', '[PAD]', '[PAD]', '[PAD]', '[PAD]', '[PAD]', '[PAD]', '[PAD]', '[PAD]', '[PAD]', '[PAD]', '[CLS]', 'u', 'l', 'm', 'is', 'most', 'useful', 'during', 'the', 'swing', 'phase', ',', 'as', 'the', 'ta', 'must', 'be', 'activated', 'to', 'do', '##rs', '##if', '##le', '##x', 'so', 'that', 'toe', '-', 'stu', '##bbing', 'can', 'be', 'avoided', '.', '[SEP]', '[PAD]', '[PAD]', '[PAD]', '[PAD]', '[PAD]', '[PAD]', '[PAD]', '[PAD]', '[PAD]', '[PAD]', '[PAD]', '[PAD]', '[PAD]', '[PAD]', '[PAD]', '[CLS]', 'in', 'addition', ',', 'the', 'h', '##fl', 'relies', 'on', 'length', 'feedback', 'to', 'generate', 'hip', 'flex', '##ion', 'torque', 'during', 'early', 'swing', ',', 'especially', 'during', 'running', '.', '[SEP]', '[PAD]', '[PAD]', '[PAD]', '[PAD]', '[PAD]', '[PAD]', '[PAD]', '[PAD]', '[PAD]', '[PAD]', '[PAD]', '[PAD]', '[PAD]', '[PAD]', '[PAD]', '[PAD]', '[PAD]', '[PAD]', '[PAD]', '[PAD]', '[PAD]', '[PAD]', '[PAD]', '[PAD]', '[CLS]', 'muscle', '-', 'driven', 'pd', 'control', '.', '[SEP]', '[PAD]', '[PAD]', '[PAD]', '[PAD]', '[PAD]', '[PAD]', '[PAD]', '[PAD]', '[PAD]', '[PAD]', '[PAD]', '[PAD]', '[PAD]', '[PAD]', '[PAD]', '[PAD]', '[PAD]', '[PAD]', '[PAD]', '[PAD]', '[PAD]', '[PAD]', '[PAD]', '[PAD]', '[PAD]', '[PAD]', '[PAD]', '[PAD]', '[PAD]', '[PAD]', '[PAD]', '[PAD]', '[PAD]', '[PAD]', '[PAD]', '[PAD]', '[PAD]', '[PAD]', '[PAD]', '[PAD]', '[PAD]', '[PAD]', '[CLS]', 'we', 'also', 'define', 'a', 'muscle', '-', 'driven', 'pd', 'control', 'law', 'with', 'respect', 'to', 'an', 'angular', 'feature', '[UNK]', 'as', 'where', 'k', 'm', ',', 'd', 'm', ',', '[UNK]', 'm', 'are', 'free', 'parameters', 'of', 'the', 'pd', '-', 'controller', '.', '[SEP]', '[PAD]', '[PAD]', '[PAD]', '[PAD]', '[PAD]', '[PAD]', '[PAD]', '[PAD]', '[PAD]', '[PAD]', '[PAD]', '[PAD]', '[CLS]', 'the', 'brace', '##s', 'sign', 'is', 'positive', 'if', 'torque', 'generated', 'by', 'm', 'is', 'in', 'the', 'opposing', 'direction', 'of', '[UNK]', '.', 'g', '.', ',', 'if', 'm', 'is', 'the', 'hip', 'ex', '##tens', '##or', 'and', '[UNK]', 'is', 'the', 'hip', 'flex', '##ion', 'angle', '##aan', '##d', 'negative', 'otherwise', '.', '[SEP]', '[PAD]', '[PAD]', '[PAD]', '[PAD]', '[PAD]', '[CLS]', 'much', 'like', 'the', 'standard', 'torque', '##base', '##d', 'pd', '-', 'controller', ',', 'the', 'muscle', '-', 'driven', 'pd', 'control', 'aims', 'to', 'adjust', '[UNK]', 'towards', 'the', 'target', 'angle', '[UNK]', 'm', 'while', 'damp', '##ing', 'its', 'velocity', '.', '[SEP]', '[PAD]', '[PAD]', '[PAD]', '[PAD]', '[PAD]', '[PAD]', '[PAD]', '[PAD]', '[PAD]', '[PAD]', '[PAD]', '[PAD]', '[PAD]', '[PAD]', '[PAD]']\n",
      "[0 0 0 0 0 0 0 0 0 0 0 0 0 0 0 0 0 0 0 0 0 0 0 0 0 0 0 0 0 0 0 0 0 0 0 0 0\n",
      " 0 0 0 0 0 0 0 0 0 0 0 0 0]\n",
      "[-100    1    1    1 -100    1    1    1    1    1    1    1    1    1\n",
      "    1    1    1    1    1    1 -100 -100    1    1    1    1    0    0\n",
      "    1    1    1    1 -100    1 -100    1    1 -100    1    1    0    0\n",
      "    0    0    0 -100 -100 -100 -100 -100]\n",
      "\n",
      "['[CLS]', 'however', ',', 'unlike', 'the', 'standard', 'pd', '-', 'controller', ',', 'muscles', 'can', 'only', 'activate', 'after', 'a', 'time', '-', 'delay', 'and', 'each', 'muscle', 'can', 'only', 'generate', 'forces', 'to', 'rotate', 'the', 'angular', 'do', '##f', 'in', 'one', 'direction', '.', '[SEP]', '[PAD]', '[PAD]', '[PAD]', '[PAD]', '[PAD]', '[PAD]', '[PAD]', '[PAD]', '[PAD]', '[PAD]', '[PAD]', '[PAD]', '[PAD]', '[CLS]', 'the', 'pd', '-', 'control', 'laws', 'are', 'employed', 'by', 'the', 'hip', 'muscles', 'during', 'the', 'stance', 'phase', 'to', 'maintain', 'the', 'global', 'upper', 'body', 'orientation', ',', 'as', 'well', 'as', 'during', 'stance', 'preparation', 'to', 'prepare', 'for', 'ground', 'contact', '.', '[SEP]', '[PAD]', '[PAD]', '[PAD]', '[PAD]', '[PAD]', '[PAD]', '[PAD]', '[PAD]', '[PAD]', '[PAD]', '[PAD]', '[PAD]', '[PAD]', '[CLS]', 'u', 'm', '[UNK]', '=', 'k', 'm', '(', '[UNK]', '(', 't', 'a', 'at', 'm', ')', 'a', '[UNK]', 'm', ')', '+', 'd', 'm', '[UNK]', '(', 't', 'i', 'a', 'at', 'm', ')', ',', 'a', '##±', '[SEP]', '[PAD]', '[PAD]', '[PAD]', '[PAD]', '[PAD]', '[PAD]', '[PAD]', '[PAD]', '[PAD]', '[PAD]', '[PAD]', '[PAD]', '[PAD]', '[PAD]', '[PAD]', '[PAD]', '[CLS]', '<', 'h', '##2', '>', '4', '.', '2', 'stance', 'phase', '<', '/', 'h', '##2', '>', '[SEP]', '[PAD]', '[PAD]', '[PAD]', '[PAD]', '[PAD]', '[PAD]', '[PAD]', '[PAD]', '[PAD]', '[PAD]', '[PAD]', '[PAD]', '[PAD]', '[PAD]', '[PAD]', '[PAD]', '[PAD]', '[PAD]', '[PAD]', '[PAD]', '[PAD]', '[PAD]', '[PAD]', '[PAD]', '[PAD]', '[PAD]', '[PAD]', '[PAD]', '[PAD]', '[PAD]', '[PAD]', '[PAD]', '[PAD]', '[PAD]', '[CLS]', 'each', 'muscle', 'has', 'an', 'initial', 'constant', 'ex', '##cit', '##ation', ',', 'or', 'pre', '-', 'stimulation', 'value', 'p', 'm', '.', '[SEP]', '[PAD]', '[PAD]', '[PAD]', '[PAD]', '[PAD]', '[PAD]', '[PAD]', '[PAD]', '[PAD]', '[PAD]', '[PAD]', '[PAD]', '[PAD]', '[PAD]', '[PAD]', '[PAD]', '[PAD]', '[PAD]', '[PAD]', '[PAD]', '[PAD]', '[PAD]', '[PAD]', '[PAD]', '[PAD]', '[PAD]', '[PAD]', '[PAD]', '[PAD]', '[PAD]', '[CLS]', 'these', 'values', 'are', 'initial', '##ized', 'close', 'to', 'zero', ',', 'but', 'are', 'then', 'opt', '##imi', '##zed', '.', '[SEP]', '[PAD]', '[PAD]', '[PAD]', '[PAD]', '[PAD]', '[PAD]', '[PAD]', '[PAD]', '[PAD]', '[PAD]', '[PAD]', '[PAD]', '[PAD]', '[PAD]', '[PAD]', '[PAD]', '[PAD]', '[PAD]', '[PAD]', '[PAD]', '[PAD]', '[PAD]', '[PAD]', '[PAD]', '[PAD]', '[PAD]', '[PAD]', '[PAD]', '[PAD]', '[PAD]', '[PAD]', '[PAD]', '[CLS]', 'the', 'sol', 'and', 'gas', 'both', 'rely', 'on', 'positive', 'force', 'feedback', 'and', 'are', 'the', 'main', 'sources', 'of', 'torque', 'during', 'walking', '.', '[SEP]', '[PAD]', '[PAD]', '[PAD]', '[PAD]', '[PAD]', '[PAD]', '[PAD]', '[PAD]', '[PAD]', '[PAD]', '[PAD]', '[PAD]', '[PAD]', '[PAD]', '[PAD]', '[PAD]', '[PAD]', '[PAD]', '[PAD]', '[PAD]', '[PAD]', '[PAD]', '[PAD]', '[PAD]', '[PAD]', '[PAD]', '[PAD]', '[PAD]', '[CLS]', 'the', 'ta', 'ensures', 'foot', 'clearance', 'during', 'swing', 'using', 'a', 'length', 'feedback', '(', 'u', 'l', 'ta', ')', ',', 'but', 'the', 'activation', 'is', 'suppressed', 'during', 'stance', 'in', 'proportion', 'to', 'the', 'current', 'force', 'generated', 'from', 'sol', '.', '[SEP]', '[PAD]', '[PAD]', '[PAD]', '[PAD]', '[PAD]', '[PAD]', '[PAD]', '[PAD]', '[PAD]', '[PAD]', '[PAD]', '[PAD]', '[PAD]', '[PAD]']\n",
      "[0 0 0 0 0 0 0 0 0 0 0 0 0 0 0 0 0 0 0 0 0 0 0 0 0 0 0 0 0 0 0 0 0 0 0 0 0\n",
      " 0 0 0 0 0 0 0 0 0 0 0 0 0]\n",
      "[-100    1    1    1    1    1    1    1    1    1    1    1    1    1\n",
      "    1    1    0 -100 -100 -100 -100 -100 -100 -100 -100 -100 -100 -100\n",
      " -100 -100 -100 -100 -100 -100 -100 -100 -100 -100 -100 -100 -100 -100\n",
      " -100 -100 -100 -100 -100 -100 -100 -100]\n",
      "\n",
      "['[CLS]', 'the', 'suppression', 'allows', 'the', 'generated', 'ta', 'activation', 'patterns', 'to', 'better', 'match', 'human', 'data', 'during', 'loco', '##mot', '##ion', '.', '[SEP]', '[PAD]', '[PAD]', '[PAD]', '[PAD]', '[PAD]', '[PAD]', '[PAD]', '[PAD]', '[PAD]', '[PAD]', '[PAD]', '[PAD]', '[PAD]', '[PAD]', '[PAD]', '[PAD]', '[PAD]', '[PAD]', '[PAD]', '[PAD]', '[PAD]', '[PAD]', '[PAD]', '[PAD]', '[PAD]', '[PAD]', '[PAD]', '[PAD]', '[PAD]', '[PAD]', '[CLS]', 'the', 'force', 'feedback', 'on', 'the', 'va', '##s', 'creates', 'a', 'strong', 'knee', 'extension', 'torque', 'following', 'ground', 'contact', ',', 'but', 'ex', '##cit', '##ation', 'is', 'suppressed', 'when', 'the', 'knee', 'flex', '##ion', 'angle', '(', '[UNK]', 'k', ')', 'is', 'extended', 'below', 'an', 'offset', '(', '[UNK]', 'k', 'off', ')', 'with', 'an', 'extension', 'velocity', '(', '[SEP]', '[CLS]', 'the', 'suppression', 'prevents', 'hyper', '##ex', '##tension', 'of', 'the', 'knee', 'during', 'mid', '-', 'stance', '.', '[SEP]', '[PAD]', '[PAD]', '[PAD]', '[PAD]', '[PAD]', '[PAD]', '[PAD]', '[PAD]', '[PAD]', '[PAD]', '[PAD]', '[PAD]', '[PAD]', '[PAD]', '[PAD]', '[PAD]', '[PAD]', '[PAD]', '[PAD]', '[PAD]', '[PAD]', '[PAD]', '[PAD]', '[PAD]', '[PAD]', '[PAD]', '[PAD]', '[PAD]', '[PAD]', '[PAD]', '[PAD]', '[PAD]', '[PAD]', '[PAD]', '[CLS]', 'using', 'muscle', '-', 'driven', 'pd', 'control', 'laws', ',', 'the', 'ham', ',', 'g', '##lu', ',', 'and', 'h', '##fl', 'are', 'responsible', 'for', 'maintaining', 'the', 'global', 'orientation', 'of', 'the', 'upper', 'body', '(', 'i', ')', ',', 'defined', 'as', 'the', 'vector', 'between', 'the', 'com', 'of', 'the', 'upper', 'body', 'and', 'the', 'com', 'of', 'the', '[SEP]', '[CLS]', 'during', 'double', 'stance', ',', 'these', 'control', 'laws', 'are', 'only', 'active', 'for', 'the', 'leading', 'leg', ',', 'denoted', 'as', 'u', 'i', 'm', 'lead', '.', '[SEP]', '[PAD]', '[PAD]', '[PAD]', '[PAD]', '[PAD]', '[PAD]', '[PAD]', '[PAD]', '[PAD]', '[PAD]', '[PAD]', '[PAD]', '[PAD]', '[PAD]', '[PAD]', '[PAD]', '[PAD]', '[PAD]', '[PAD]', '[PAD]', '[PAD]', '[PAD]', '[PAD]', '[PAD]', '[PAD]', '[PAD]', '[CLS]', 'specifically', ',', 'control', 'laws', 'during', 'the', 'stance', 'phase', 'are', 'as', 'follows', ':', 'towards', 'the', 'end', 'of', 'the', 'stance', 'phase', ',', 'the', 'controller', 'enters', 'into', 'the', 'swing', 'initiation', ',', 'which', 'begins', 'when', 'either', 'the', 'signed', 'horizontal', 'distance', 'between', 'the', 'com', 'and', 'the', 'ankle', 'normal', '##ized', 'by', 'leg', 'length', 'exceeds', '[SEP]', '[CLS]', 'during', 'swing', 'initiation', ',', 'constant', 'ex', '##cit', '##ation', 'values', 'between', '0', 'and', '1', '(', 'set', 'during', 'optimization', ')', 'are', 'added', 'and', 'sub', '##tracted', 'to', 'the', 'va', '##s', ',', 'rf', ',', 'g', '##lu', ',', 'and', 'h', '##fl', ':', 'the', 'combination', 'of', 'h', '##fl', 'and', 'g', '##lu', 'ex', '##cit', '##ations', '[SEP]', '[CLS]', 'two', 'main', 'differences', 'between', 'our', 'stance', 'phase', 'control', 'laws', 'compared', 'to', '[SEP]', '[PAD]', '[PAD]', '[PAD]', '[PAD]', '[PAD]', '[PAD]', '[PAD]', '[PAD]', '[PAD]', '[PAD]', '[PAD]', '[PAD]', '[PAD]', '[PAD]', '[PAD]', '[PAD]', '[PAD]', '[PAD]', '[PAD]', '[PAD]', '[PAD]', '[PAD]', '[PAD]', '[PAD]', '[PAD]', '[PAD]', '[PAD]', '[PAD]', '[PAD]', '[PAD]', '[PAD]', '[PAD]', '[PAD]', '[PAD]', '[PAD]', '[PAD]', '[PAD]']\n",
      "[0 0 0 0 0 0 0 0 0 0 0 0 0 0 0 0 0 0 0 0 0 0 0 0 0 0 0 0 0 0 0 0 0 0 0 0 0\n",
      " 0 0 0 0 0 0 0 0 0 0 0 0 0]\n",
      "[-100    0    0    0    1    1    1    1    1    1    1    1    1    1\n",
      "    1    1    1    1    0 -100 -100 -100 -100 -100 -100 -100 -100 -100\n",
      " -100 -100 -100 -100 -100 -100 -100 -100 -100 -100 -100 -100 -100 -100\n",
      " -100 -100 -100 -100 -100 -100 -100 -100]\n",
      "\n",
      "['[CLS]', 'ge', '##yer', 'and', 'herr', '[', '2010', ']', '[SEP]', '[PAD]', '[PAD]', '[PAD]', '[PAD]', '[PAD]', '[PAD]', '[PAD]', '[PAD]', '[PAD]', '[PAD]', '[PAD]', '[PAD]', '[PAD]', '[PAD]', '[PAD]', '[PAD]', '[PAD]', '[PAD]', '[PAD]', '[PAD]', '[PAD]', '[PAD]', '[PAD]', '[PAD]', '[PAD]', '[PAD]', '[PAD]', '[PAD]', '[PAD]', '[PAD]', '[PAD]', '[PAD]', '[PAD]', '[PAD]', '[PAD]', '[PAD]', '[PAD]', '[PAD]', '[PAD]', '[PAD]', '[PAD]', '[CLS]', 'lie', 'in', 'how', 'the', 'swing', 'initiation', 'state', 'functions', '.', '[SEP]', '[PAD]', '[PAD]', '[PAD]', '[PAD]', '[PAD]', '[PAD]', '[PAD]', '[PAD]', '[PAD]', '[PAD]', '[PAD]', '[PAD]', '[PAD]', '[PAD]', '[PAD]', '[PAD]', '[PAD]', '[PAD]', '[PAD]', '[PAD]', '[PAD]', '[PAD]', '[PAD]', '[PAD]', '[PAD]', '[PAD]', '[PAD]', '[PAD]', '[PAD]', '[PAD]', '[PAD]', '[PAD]', '[PAD]', '[PAD]', '[PAD]', '[PAD]', '[PAD]', '[PAD]', '[PAD]', '[CLS]', 'first', ',', 'for', 'running', 'we', 'found', 'it', 'necessary', 'to', 'enter', 'into', 'swing', 'initiation', 'using', 'the', 'd', 'i', '&', 'gt', ';', 'd', 'i', 'si', 'condition', ',', 'rather', 'than', 'just', 'wait', 'for', 'double', 'stance', '.', '[SEP]', '[PAD]', '[PAD]', '[PAD]', '[PAD]', '[PAD]', '[PAD]', '[PAD]', '[PAD]', '[PAD]', '[PAD]', '[PAD]', '[PAD]', '[PAD]', '[PAD]', '[PAD]', '[CLS]', 'second', ',', 'we', 'found', 'it', 'unnecessary', 'to', 'mod', '##ulate', 'the', 'muscle', '-', 'driven', 'pd', '-', 'control', 'laws', 'in', 'the', 'hip', 'by', 'ground', 'reaction', 'forces', '.', '[SEP]', '[PAD]', '[PAD]', '[PAD]', '[PAD]', '[PAD]', '[PAD]', '[PAD]', '[PAD]', '[PAD]', '[PAD]', '[PAD]', '[PAD]', '[PAD]', '[PAD]', '[PAD]', '[PAD]', '[PAD]', '[PAD]', '[PAD]', '[PAD]', '[PAD]', '[PAD]', '[PAD]', '[CLS]', 'instead', ',', 'the', 'responsibility', 'to', 'maintain', 'upper', 'body', 'orientation', 'is', 'always', 'assigned', 'to', 'the', 'lead', 'leg', '.', '[SEP]', '[PAD]', '[PAD]', '[PAD]', '[PAD]', '[PAD]', '[PAD]', '[PAD]', '[PAD]', '[PAD]', '[PAD]', '[PAD]', '[PAD]', '[PAD]', '[PAD]', '[PAD]', '[PAD]', '[PAD]', '[PAD]', '[PAD]', '[PAD]', '[PAD]', '[PAD]', '[PAD]', '[PAD]', '[PAD]', '[PAD]', '[PAD]', '[PAD]', '[PAD]', '[PAD]', '[PAD]', '[CLS]', 'u', 'sol', '=', 'p', 'sol', '+', 'u', 'sol', 'f', ',', 'u', 'ta', '=', 'p', 'ta', '+', 'u', 'ta', 'l', 'a', 'u', 'f', 'sol', ',', 'u', 'gas', '=', 'p', 'gas', '+', 'u', 'gas', 'f', ',', 'u', 'va', '##s', '=', 'p', 'va', '##s', '+', 'u', 'f', 'va', '##s', '+', 'k', '[SEP]', '[CLS]', 'u', 'va', '##s', '=', 'u', 'va', '##s', 'a', 's', 'va', '##s', ',', 'u', 'rf', '=', 'u', 'rf', '+', 's', 'rf', ',', 'u', 'g', '##lu', '=', 'u', 'g', '##lu', 'a', 's', 'g', '##lu', ',', 'u', 'h', '##fl', '=', 'u', 'h', '##fl', '+', 's', 'h', '##fl', '.', '[SEP]', '[PAD]', '[PAD]', '[PAD]', '[CLS]', '<', 'h', '##2', '>', '4', '.', '3', 'swing', 'phase', '<', '/', 'h', '##2', '>', '[SEP]', '[PAD]', '[PAD]', '[PAD]', '[PAD]', '[PAD]', '[PAD]', '[PAD]', '[PAD]', '[PAD]', '[PAD]', '[PAD]', '[PAD]', '[PAD]', '[PAD]', '[PAD]', '[PAD]', '[PAD]', '[PAD]', '[PAD]', '[PAD]', '[PAD]', '[PAD]', '[PAD]', '[PAD]', '[PAD]', '[PAD]', '[PAD]', '[PAD]', '[PAD]', '[PAD]', '[PAD]', '[PAD]', '[PAD]', '[PAD]']\n",
      "[0 0 0 0 0 0 0 0 0 0 0 0 0 0 0 0 0 0 0 0 0 0 0 0 0 0 0 0 0 0 0 0 0 0 0 0 0\n",
      " 0 0 0 0 0 0 0 0 0 0 0 0 0]\n",
      "[-100    1    1    1    1    1    1    1    1    1    1 -100    0    0\n",
      "    0    0 -100 -100    0    0 -100 -100 -100 -100 -100 -100 -100 -100\n",
      " -100 -100 -100 -100 -100 -100 -100 -100 -100 -100 -100 -100 -100 -100\n",
      " -100 -100 -100 -100 -100 -100 -100 -100]\n",
      "\n",
      "['[CLS]', 'much', 'like', 'in', 'the', 'stance', 'phase', ',', 'each', 'muscle', 'has', 'an', 'initial', 'constant', 'ex', '##cit', '##ation', 'value', '(', 'q', 'm', ')', '.', '[SEP]', '[PAD]', '[PAD]', '[PAD]', '[PAD]', '[PAD]', '[PAD]', '[PAD]', '[PAD]', '[PAD]', '[PAD]', '[PAD]', '[PAD]', '[PAD]', '[PAD]', '[PAD]', '[PAD]', '[PAD]', '[PAD]', '[PAD]', '[PAD]', '[PAD]', '[PAD]', '[PAD]', '[PAD]', '[PAD]', '[PAD]', '[CLS]', 'the', 'leg', 'motion', 'relies', 'significantly', 'on', 'passive', 'dynamics', 'during', 'the', 'swing', 'phase', '[SEP]', '[PAD]', '[PAD]', '[PAD]', '[PAD]', '[PAD]', '[PAD]', '[PAD]', '[PAD]', '[PAD]', '[PAD]', '[PAD]', '[PAD]', '[PAD]', '[PAD]', '[PAD]', '[PAD]', '[PAD]', '[PAD]', '[PAD]', '[PAD]', '[PAD]', '[PAD]', '[PAD]', '[PAD]', '[PAD]', '[PAD]', '[PAD]', '[PAD]', '[PAD]', '[PAD]', '[PAD]', '[PAD]', '[PAD]', '[PAD]', '[PAD]', '[PAD]', '[CLS]', '[', 'collins', 'et', 'al', '.', '[SEP]', '[PAD]', '[PAD]', '[PAD]', '[PAD]', '[PAD]', '[PAD]', '[PAD]', '[PAD]', '[PAD]', '[PAD]', '[PAD]', '[PAD]', '[PAD]', '[PAD]', '[PAD]', '[PAD]', '[PAD]', '[PAD]', '[PAD]', '[PAD]', '[PAD]', '[PAD]', '[PAD]', '[PAD]', '[PAD]', '[PAD]', '[PAD]', '[PAD]', '[PAD]', '[PAD]', '[PAD]', '[PAD]', '[PAD]', '[PAD]', '[PAD]', '[PAD]', '[PAD]', '[PAD]', '[PAD]', '[PAD]', '[PAD]', '[PAD]', '[PAD]', '[CLS]', '2005', ']', ',', 'as', 'most', 'muscles', 'are', 'only', 'excited', 'at', 'low', 'levels', '.', '[SEP]', '[PAD]', '[PAD]', '[PAD]', '[PAD]', '[PAD]', '[PAD]', '[PAD]', '[PAD]', '[PAD]', '[PAD]', '[PAD]', '[PAD]', '[PAD]', '[PAD]', '[PAD]', '[PAD]', '[PAD]', '[PAD]', '[PAD]', '[PAD]', '[PAD]', '[PAD]', '[PAD]', '[PAD]', '[PAD]', '[PAD]', '[PAD]', '[PAD]', '[PAD]', '[PAD]', '[PAD]', '[PAD]', '[PAD]', '[PAD]', '[PAD]', '[CLS]', 'the', 'main', 'exceptions', 'are', 'the', 'ta', ',', 'which', 'maintains', 'the', 'length', 'feedback', '(', 'u', 'l', 'ta', ')', 'to', 'avoid', 'toes', '##tub', '##bing', ',', 'and', 'the', 'ham', ',', 'which', 'is', 'activated', 'at', 'late', 'swing', 'phase', 'to', 'prevent', 'the', 'knee', 'from', 'being', 'over', '##ex', '##ten', '##ded', 'before', 'landing', '.', '[SEP]', '[PAD]', '[CLS]', 'the', 'h', '##fl', 'introduces', 'a', 'hip', 'flex', '##ion', 'torque', 'through', 'a', 'length', 'feedback', ',', 'which', 'is', 'suppressed', 'when', 'the', 'ham', 'is', 'stretched', 'in', 'during', 'late', 'swing', '.', '[SEP]', '[PAD]', '[PAD]', '[PAD]', '[PAD]', '[PAD]', '[PAD]', '[PAD]', '[PAD]', '[PAD]', '[PAD]', '[PAD]', '[PAD]', '[PAD]', '[PAD]', '[PAD]', '[PAD]', '[PAD]', '[PAD]', '[PAD]', '[PAD]', '[PAD]', '[CLS]', 'the', 'amount', 'of', 'ex', '##cit', '##ation', 'in', 'the', 'h', '##fl', 'also', 'depends', 'on', 'the', 'value', 'of', 'upper', 'body', 'lean', 'at', 'the', 'beginning', 'of', 'the', 'swing', 'phase', '(', 'i', 'lt', '##o', ')', ':', 'the', 'further', 'the', 'upper', 'body', 'leans', 'forward', 'compared', 'to', 'the', 'reference', 'lean', 'angle', '(', 'i', 'd', '[SEP]', '[CLS]', 'note', 'that', 'i', 'd', 'is', 'the', 'same', 'as', 'the', 'target', 'angle', 'in', 'u', 'i', 'h', '##fl', '.', '[SEP]', '[PAD]', '[PAD]', '[PAD]', '[PAD]', '[PAD]', '[PAD]', '[PAD]', '[PAD]', '[PAD]', '[PAD]', '[PAD]', '[PAD]', '[PAD]', '[PAD]', '[PAD]', '[PAD]', '[PAD]', '[PAD]', '[PAD]', '[PAD]', '[PAD]', '[PAD]', '[PAD]', '[PAD]', '[PAD]', '[PAD]', '[PAD]', '[PAD]', '[PAD]', '[PAD]', '[PAD]']\n",
      "[0 0 0 0 0 0 0 0 0 0 0 0 0 0 0 0 0 0 0 0 0 0 0 0 0 0 0 0 0 0 0 0 0 0 0 0 0\n",
      " 0 0 0 0 0 0 0 0 0 0 0 0 0]\n",
      "[-100    0    0    1    1    1    1    1    1    1    1    1    1    1\n",
      "    1 -100    1    1    1    1    1    1    1    1    1    0 -100 -100\n",
      " -100 -100 -100 -100 -100 -100 -100 -100 -100 -100 -100 -100 -100 -100\n",
      " -100 -100 -100 -100 -100 -100 -100 -100]\n",
      "\n",
      "['[CLS]', 'non', '-', 'constant', 'control', 'laws', 'during', 'the', 'swing', 'phase', 'are', 'as', 'follows', ':', 'the', 'controller', 'enters', 'into', 'the', 'stance', 'preparation', 'when', 'd', 'i', '&', 'lt', ';', 'd', 'i', 'sp', ',', 'where', 'the', 'swing', 'leg', 'enters', 'into', 'a', 'pd', '-', 'control', 'mode', '.', '[SEP]', '[PAD]', '[PAD]', '[PAD]', '[PAD]', '[PAD]', '[PAD]', '[CLS]', 'the', 'g', '##lu', ',', 'h', '##fl', ',', 'and', 'va', '##s', 'work', 'to', 'guide', 'the', 'hip', 'and', 'knee', 'joints', 'toward', 'a', 'desired', 'pose', 'to', 'prepare', 'for', 'ground', 'contact', ':', 'u', 'va', '##s', '=', 'q', 'va', '##s', '+', 'u', 'va', '##s', '[UNK]', 'k', ',', 'u', 'g', '##lu', '=', 'q', 'g', '[SEP]', '[CLS]', 'a', 'single', 'desired', 'hip', 'target', 'angle', '(', '[UNK]', 'h', ')', 'is', 'adjusted', 'according', 'to', 'the', 'sim', '##bic', '##on', 'balance', 'feedback', 'law', '[SEP]', '[PAD]', '[PAD]', '[PAD]', '[PAD]', '[PAD]', '[PAD]', '[PAD]', '[PAD]', '[PAD]', '[PAD]', '[PAD]', '[PAD]', '[PAD]', '[PAD]', '[PAD]', '[PAD]', '[PAD]', '[PAD]', '[PAD]', '[PAD]', '[PAD]', '[PAD]', '[PAD]', '[PAD]', '[PAD]', '[PAD]', '[PAD]', '[CLS]', '[', 'yin', 'et', 'al', '.', '[SEP]', '[PAD]', '[PAD]', '[PAD]', '[PAD]', '[PAD]', '[PAD]', '[PAD]', '[PAD]', '[PAD]', '[PAD]', '[PAD]', '[PAD]', '[PAD]', '[PAD]', '[PAD]', '[PAD]', '[PAD]', '[PAD]', '[PAD]', '[PAD]', '[PAD]', '[PAD]', '[PAD]', '[PAD]', '[PAD]', '[PAD]', '[PAD]', '[PAD]', '[PAD]', '[PAD]', '[PAD]', '[PAD]', '[PAD]', '[PAD]', '[PAD]', '[PAD]', '[PAD]', '[PAD]', '[PAD]', '[PAD]', '[PAD]', '[PAD]', '[PAD]', '[CLS]', '2007', ']', 'and', 'is', 'shared', 'by', 'both', 'the', 'g', '##lu', 'and', 'h', '##fl', '.', '[SEP]', '[PAD]', '[PAD]', '[PAD]', '[PAD]', '[PAD]', '[PAD]', '[PAD]', '[PAD]', '[PAD]', '[PAD]', '[PAD]', '[PAD]', '[PAD]', '[PAD]', '[PAD]', '[PAD]', '[PAD]', '[PAD]', '[PAD]', '[PAD]', '[PAD]', '[PAD]', '[PAD]', '[PAD]', '[PAD]', '[PAD]', '[PAD]', '[PAD]', '[PAD]', '[PAD]', '[PAD]', '[PAD]', '[PAD]', '[PAD]', '[CLS]', 'we', 'found', 'the', 'addition', 'of', 'the', 'stance', 'preparation', 'state', 'to', 'be', 'important', 'for', 'discovering', 'running', 'ga', '##its', '.', '[SEP]', '[PAD]', '[PAD]', '[PAD]', '[PAD]', '[PAD]', '[PAD]', '[PAD]', '[PAD]', '[PAD]', '[PAD]', '[PAD]', '[PAD]', '[PAD]', '[PAD]', '[PAD]', '[PAD]', '[PAD]', '[PAD]', '[PAD]', '[PAD]', '[PAD]', '[PAD]', '[PAD]', '[PAD]', '[PAD]', '[PAD]', '[PAD]', '[PAD]', '[PAD]', '[PAD]', '[CLS]', 'the', 'balance', 'feedback', 'law', 'allows', 'robust', 'control', 'strategies', 'to', 'be', 'found', 'in', 'difficult', 'environments', '(', 'e', '.', 'g', '.', ',', 'being', 'pushed', 'by', 'random', 'forces', ')', '.', '[SEP]', '[PAD]', '[PAD]', '[PAD]', '[PAD]', '[PAD]', '[PAD]', '[PAD]', '[PAD]', '[PAD]', '[PAD]', '[PAD]', '[PAD]', '[PAD]', '[PAD]', '[PAD]', '[PAD]', '[PAD]', '[PAD]', '[PAD]', '[PAD]', '[PAD]', '[CLS]', 'u', 'ta', '=', 'q', 'ta', '+', 'u', 'l', 'ta', ',', 'u', 'ham', '=', 'q', 'ham', '+', 'u', 'ham', 'f', ',', 'u', 'g', '##lu', '=', 'q', 'g', '##lu', '+', 'u', 'f', 'g', '##lu', ',', 'u', 'h', '##fl', '=', 'q', 'h', '##fl', '+', 'u', 'l', 'h', '##fl', 'a', 'u', 'l', '[SEP]']\n",
      "[0 0 0 0 0 0 0 0 0 0 0 0 0 0 0 0 0 0 0 0 0 0 0 0 0 0 0 0 0 0 0 0 0 0 0 0 0\n",
      " 0 0 0 0 0 0 0 0 0 0 0 0 0]\n",
      "[-100    1    1 -100 -100    1    1    1    1    1    1    1 -100 -100\n",
      " -100 -100 -100 -100 -100 -100 -100 -100 -100 -100 -100 -100 -100 -100\n",
      " -100 -100 -100 -100 -100 -100 -100 -100 -100 -100 -100 -100 -100 -100\n",
      " -100 -100 -100 -100 -100 -100 -100 -100]\n",
      "\n",
      "['[CLS]', '<', 'h', '##2', '>', '4', '.', '4', 'out', '-', 'of', '-', 'plane', 'and', 'upper', '##body', 'control', '<', '/', 'h', '##2', '>', '[SEP]', '[PAD]', '[PAD]', '[PAD]', '[PAD]', '[PAD]', '[PAD]', '[PAD]', '[PAD]', '[PAD]', '[PAD]', '[PAD]', '[PAD]', '[PAD]', '[PAD]', '[PAD]', '[PAD]', '[PAD]', '[PAD]', '[PAD]', '[PAD]', '[PAD]', '[PAD]', '[PAD]', '[PAD]', '[PAD]', '[PAD]', '[PAD]', '[CLS]', 'the', 'rest', 'of', 'the', 'do', '##fs', 'are', 'controlled', 'using', 'standard', 'joint', '-', 'space', 'pd', '##con', '##tro', '##ller', '##s', 'with', 'state', '-', 'dependent', 'parameters', '.', '[SEP]', '[PAD]', '[PAD]', '[PAD]', '[PAD]', '[PAD]', '[PAD]', '[PAD]', '[PAD]', '[PAD]', '[PAD]', '[PAD]', '[PAD]', '[PAD]', '[PAD]', '[PAD]', '[PAD]', '[PAD]', '[PAD]', '[PAD]', '[PAD]', '[PAD]', '[PAD]', '[PAD]', '[PAD]', '[CLS]', 'following', 'wang', 'et', 'al', '.', '[SEP]', '[PAD]', '[PAD]', '[PAD]', '[PAD]', '[PAD]', '[PAD]', '[PAD]', '[PAD]', '[PAD]', '[PAD]', '[PAD]', '[PAD]', '[PAD]', '[PAD]', '[PAD]', '[PAD]', '[PAD]', '[PAD]', '[PAD]', '[PAD]', '[PAD]', '[PAD]', '[PAD]', '[PAD]', '[PAD]', '[PAD]', '[PAD]', '[PAD]', '[PAD]', '[PAD]', '[PAD]', '[PAD]', '[PAD]', '[PAD]', '[PAD]', '[PAD]', '[PAD]', '[PAD]', '[PAD]', '[PAD]', '[PAD]', '[PAD]', '[PAD]', '[CLS]', '[', '2010', ']', '[SEP]', '[PAD]', '[PAD]', '[PAD]', '[PAD]', '[PAD]', '[PAD]', '[PAD]', '[PAD]', '[PAD]', '[PAD]', '[PAD]', '[PAD]', '[PAD]', '[PAD]', '[PAD]', '[PAD]', '[PAD]', '[PAD]', '[PAD]', '[PAD]', '[PAD]', '[PAD]', '[PAD]', '[PAD]', '[PAD]', '[PAD]', '[PAD]', '[PAD]', '[PAD]', '[PAD]', '[PAD]', '[PAD]', '[PAD]', '[PAD]', '[PAD]', '[PAD]', '[PAD]', '[PAD]', '[PAD]', '[PAD]', '[PAD]', '[PAD]', '[PAD]', '[PAD]', '[PAD]', '[CLS]', ',', 'the', 'target', 'features', 'for', 'the', 'ankle', 'and', 'hip', 'joints', 'in', 'the', 'corona', '##l', 'plane', 'are', 'the', 'global', 'foot', 'and', 'pe', '##lvis', 'orientation', '##s', ',', 'respectively', '.', '[SEP]', '[PAD]', '[PAD]', '[PAD]', '[PAD]', '[PAD]', '[PAD]', '[PAD]', '[PAD]', '[PAD]', '[PAD]', '[PAD]', '[PAD]', '[PAD]', '[PAD]', '[PAD]', '[PAD]', '[PAD]', '[PAD]', '[PAD]', '[PAD]', '[PAD]', '[CLS]', 'the', 'corona', '##l', 'swing', 'hip', 'target', 'angles', 'follow', 'the', 'same', 'feedback', 'law', 'as', '[UNK]', 'h', '.', '[SEP]', '[PAD]', '[PAD]', '[PAD]', '[PAD]', '[PAD]', '[PAD]', '[PAD]', '[PAD]', '[PAD]', '[PAD]', '[PAD]', '[PAD]', '[PAD]', '[PAD]', '[PAD]', '[PAD]', '[PAD]', '[PAD]', '[PAD]', '[PAD]', '[PAD]', '[PAD]', '[PAD]', '[PAD]', '[PAD]', '[PAD]', '[PAD]', '[PAD]', '[PAD]', '[PAD]', '[PAD]', '[PAD]', '[CLS]', 'additionally', ',', 'we', 'set', 'the', 'toe', 'joint', 'to', 'be', 'a', 'spring', 'with', 'spring', 'constant', 'of', '30', 'nm', '/', 'ra', '##d', ',', 'target', 'angle', '0', ',', 'and', 'no', 'damp', '##ing', '.', '[SEP]', '[PAD]', '[PAD]', '[PAD]', '[PAD]', '[PAD]', '[PAD]', '[PAD]', '[PAD]', '[PAD]', '[PAD]', '[PAD]', '[PAD]', '[PAD]', '[PAD]', '[PAD]', '[PAD]', '[PAD]', '[PAD]', '[CLS]', 'unlike', 'in', 'previous', 'work', ',', 'where', 'a', 'ga', '##it', 'cycle', 'is', 'broken', 'down', 'into', 'four', 'states', ',', 'only', 'two', 'are', 'needed', '(', 'triggered', 'by', 'left', '/', 'right', 'foot', '-', 'strike', ')', 'since', 'do', '##fs', 'with', 'the', 'most', 'complex', 'activities', 'are', 'act', '##uated', 'by', 'muscles', '.', '[SEP]', '[PAD]', '[PAD]', '[PAD]']\n",
      "[0 0 0 0 0 0 0 0 0 0 0 0 0 0 0 0 0 0 0 0 0 0 0 0 0 0 0 0 0 0 0 0 0 0 0 0 0\n",
      " 0 0 0 0 0 0 0 0 0 0 0 0 0]\n",
      "[-100    0    0    0    0    0 -100 -100 -100 -100 -100 -100 -100 -100\n",
      " -100 -100 -100 -100 -100 -100 -100 -100 -100 -100 -100 -100 -100 -100\n",
      " -100 -100 -100 -100 -100 -100 -100 -100 -100 -100 -100 -100 -100 -100\n",
      " -100 -100 -100 -100 -100 -100 -100 -100]\n",
      "\n",
      "['[CLS]', 'our', 'upper', 'body', 'control', 'also', 'largely', 'follows', '[SEP]', '[PAD]', '[PAD]', '[PAD]', '[PAD]', '[PAD]', '[PAD]', '[PAD]', '[PAD]', '[PAD]', '[PAD]', '[PAD]', '[PAD]', '[PAD]', '[PAD]', '[PAD]', '[PAD]', '[PAD]', '[PAD]', '[PAD]', '[PAD]', '[PAD]', '[PAD]', '[PAD]', '[PAD]', '[PAD]', '[PAD]', '[PAD]', '[PAD]', '[PAD]', '[PAD]', '[PAD]', '[PAD]', '[PAD]', '[PAD]', '[PAD]', '[PAD]', '[PAD]', '[PAD]', '[PAD]', '[PAD]', '[PAD]', '[CLS]', 'wang', 'et', 'al', '.', '[SEP]', '[PAD]', '[PAD]', '[PAD]', '[PAD]', '[PAD]', '[PAD]', '[PAD]', '[PAD]', '[PAD]', '[PAD]', '[PAD]', '[PAD]', '[PAD]', '[PAD]', '[PAD]', '[PAD]', '[PAD]', '[PAD]', '[PAD]', '[PAD]', '[PAD]', '[PAD]', '[PAD]', '[PAD]', '[PAD]', '[PAD]', '[PAD]', '[PAD]', '[PAD]', '[PAD]', '[PAD]', '[PAD]', '[PAD]', '[PAD]', '[PAD]', '[PAD]', '[PAD]', '[PAD]', '[PAD]', '[PAD]', '[PAD]', '[PAD]', '[PAD]', '[PAD]', '[CLS]', '[', '2010', ']', '[SEP]', '[PAD]', '[PAD]', '[PAD]', '[PAD]', '[PAD]', '[PAD]', '[PAD]', '[PAD]', '[PAD]', '[PAD]', '[PAD]', '[PAD]', '[PAD]', '[PAD]', '[PAD]', '[PAD]', '[PAD]', '[PAD]', '[PAD]', '[PAD]', '[PAD]', '[PAD]', '[PAD]', '[PAD]', '[PAD]', '[PAD]', '[PAD]', '[PAD]', '[PAD]', '[PAD]', '[PAD]', '[PAD]', '[PAD]', '[PAD]', '[PAD]', '[PAD]', '[PAD]', '[PAD]', '[PAD]', '[PAD]', '[PAD]', '[PAD]', '[PAD]', '[PAD]', '[PAD]', '[CLS]', ',', 'with', 'the', 'exception', 'that', 'the', 'target', 'feature', 'of', 'our', 'back', 'joint', 'in', 'the', 'corona', '##l', 'plane', 'is', 'the', 'global', 'orientation', 'of', 'the', 'torso', 'instead', 'of', 'the', 'local', 'joint', 'angle', 'between', 'the', 'torso', 'and', 'the', 'pe', '##lvis', '.', '[SEP]', '[PAD]', '[PAD]', '[PAD]', '[PAD]', '[PAD]', '[PAD]', '[PAD]', '[PAD]', '[PAD]', '[PAD]', '[CLS]', 'this', 'global', 'target', 'allows', 'our', 'model', 'to', 'better', 'keep', 'the', 'head', 'upright', 'during', 'loco', '##mot', '##ion', '.', '[SEP]', '[PAD]', '[PAD]', '[PAD]', '[PAD]', '[PAD]', '[PAD]', '[PAD]', '[PAD]', '[PAD]', '[PAD]', '[PAD]', '[PAD]', '[PAD]', '[PAD]', '[PAD]', '[PAD]', '[PAD]', '[PAD]', '[PAD]', '[PAD]', '[PAD]', '[PAD]', '[PAD]', '[PAD]', '[PAD]', '[PAD]', '[PAD]', '[PAD]', '[PAD]', '[PAD]', '[PAD]', '[CLS]', 'we', 'fix', 'the', 'spring', 'and', 'damp', '##er', 'constant', '##s', 'for', 'all', 'arm', 'joints', 'to', '30', 'nm', '/', 'ra', '##d', 'and', '3', 'nm', '##s', '/', 'ra', '##d', ',', 'respectively', ',', 'with', 'target', 'angles', 'set', 'to', '0', '.', '[SEP]', '[PAD]', '[PAD]', '[PAD]', '[PAD]', '[PAD]', '[PAD]', '[PAD]', '[PAD]', '[PAD]', '[PAD]', '[PAD]', '[PAD]', '[CLS]', 'we', 'found', 'that', 'more', 'human', '-', 'like', 'arm', 'swing', 'can', 'be', 'generated', 'by', 'relating', 'the', 'elbow', 'and', 'shoulder', 'target', 'angles', 'as', '[UNK]', 's', 'l', '=', 'i', '##±', 'arm', '[UNK]', 'h', 'l', 'a', '[UNK]', 'h', 'r', '+', '[UNK]', 'e', 'd', 'and', 'i', 'l', 's', '=', '[UNK]', 'e', 'd', ',', '[SEP]', '[CLS]', 'this', 'formulation', 'captures', 'the', 'tendency', 'to', 'rotate', 'the', 'shoulder', 'backwards', 'and', 'inward', '##s', 'while', 'bending', 'the', 'elbow', '.', '[SEP]', '[PAD]', '[PAD]', '[PAD]', '[PAD]', '[PAD]', '[PAD]', '[PAD]', '[PAD]', '[PAD]', '[PAD]', '[PAD]', '[PAD]', '[PAD]', '[PAD]', '[PAD]', '[PAD]', '[PAD]', '[PAD]', '[PAD]', '[PAD]', '[PAD]', '[PAD]', '[PAD]', '[PAD]', '[PAD]', '[PAD]', '[PAD]', '[PAD]', '[PAD]', '[PAD]']\n",
      "[0 0 0 0 0 0 0 0 0 0 0 0 0 0 0 0 0 0 0 0 0 0 0 0 0 0 0 0 0 0 0 0 0 0 0 0 0\n",
      " 0 0 0 0 0 0 0 0 0 0 0 0 0]\n",
      "[-100    0    0 -100 -100 -100 -100 -100 -100 -100 -100 -100 -100 -100\n",
      " -100 -100 -100 -100 -100 -100 -100 -100 -100 -100 -100 -100 -100 -100\n",
      " -100 -100 -100 -100 -100 -100 -100 -100 -100 -100 -100 -100 -100 -100\n",
      " -100 -100 -100 -100 -100 -100 -100 -100]\n",
      "\n",
      "['[CLS]', 'the', 'scale', 'constant', 'and', 'the', 'desired', 'elbow', 'angle', 'are', 'among', 'the', 'parameters', 'set', 'by', 'optimization', ',', 'as', 'described', 'in', 'the', 'next', 'section', '.', '[SEP]', '[PAD]', '[PAD]', '[PAD]', '[PAD]', '[PAD]', '[PAD]', '[PAD]', '[PAD]', '[PAD]', '[PAD]', '[PAD]', '[PAD]', '[PAD]', '[PAD]', '[PAD]', '[PAD]', '[PAD]', '[PAD]', '[PAD]', '[PAD]', '[PAD]', '[PAD]', '[PAD]', '[PAD]', '[PAD]', '[CLS]', '<', 'h', '##1', '>', '5', 'optimization', '<', '/', 'h', '##1', '>', '[SEP]', '[PAD]', '[PAD]', '[PAD]', '[PAD]', '[PAD]', '[PAD]', '[PAD]', '[PAD]', '[PAD]', '[PAD]', '[PAD]', '[PAD]', '[PAD]', '[PAD]', '[PAD]', '[PAD]', '[PAD]', '[PAD]', '[PAD]', '[PAD]', '[PAD]', '[PAD]', '[PAD]', '[PAD]', '[PAD]', '[PAD]', '[PAD]', '[PAD]', '[PAD]', '[PAD]', '[PAD]', '[PAD]', '[PAD]', '[PAD]', '[PAD]', '[PAD]', '[PAD]', '[CLS]', 'the', 'control', 'algorithm', 'specified', 'in', 'section', '4', 'has', 'a', 'large', 'number', 'of', 'parameters', ',', 'which', 'we', 'set', 'by', 'optimization', '[SEP]', '[PAD]', '[PAD]', '[PAD]', '[PAD]', '[PAD]', '[PAD]', '[PAD]', '[PAD]', '[PAD]', '[PAD]', '[PAD]', '[PAD]', '[PAD]', '[PAD]', '[PAD]', '[PAD]', '[PAD]', '[PAD]', '[PAD]', '[PAD]', '[PAD]', '[PAD]', '[PAD]', '[PAD]', '[PAD]', '[PAD]', '[PAD]', '[PAD]', '[PAD]', '[CLS]', '[', 'wang', 'et', 'al', '.', '[SEP]', '[PAD]', '[PAD]', '[PAD]', '[PAD]', '[PAD]', '[PAD]', '[PAD]', '[PAD]', '[PAD]', '[PAD]', '[PAD]', '[PAD]', '[PAD]', '[PAD]', '[PAD]', '[PAD]', '[PAD]', '[PAD]', '[PAD]', '[PAD]', '[PAD]', '[PAD]', '[PAD]', '[PAD]', '[PAD]', '[PAD]', '[PAD]', '[PAD]', '[PAD]', '[PAD]', '[PAD]', '[PAD]', '[PAD]', '[PAD]', '[PAD]', '[PAD]', '[PAD]', '[PAD]', '[PAD]', '[PAD]', '[PAD]', '[PAD]', '[PAD]', '[CLS]', '2010', ']', '.', '[SEP]', '[PAD]', '[PAD]', '[PAD]', '[PAD]', '[PAD]', '[PAD]', '[PAD]', '[PAD]', '[PAD]', '[PAD]', '[PAD]', '[PAD]', '[PAD]', '[PAD]', '[PAD]', '[PAD]', '[PAD]', '[PAD]', '[PAD]', '[PAD]', '[PAD]', '[PAD]', '[PAD]', '[PAD]', '[PAD]', '[PAD]', '[PAD]', '[PAD]', '[PAD]', '[PAD]', '[PAD]', '[PAD]', '[PAD]', '[PAD]', '[PAD]', '[PAD]', '[PAD]', '[PAD]', '[PAD]', '[PAD]', '[PAD]', '[PAD]', '[PAD]', '[PAD]', '[PAD]', '[CLS]', 'more', 'specifically', ',', 'each', 'of', 'the', 'u', 'm', 'f', ',', 'u', 'm', 'l', ',', 'and', 'u', 'm', '[UNK]', 'laws', 'have', 'one', ',', 'two', ',', 'and', 'three', 'parameters', ',', 'respectively', '.', '[SEP]', '[PAD]', '[PAD]', '[PAD]', '[PAD]', '[PAD]', '[PAD]', '[PAD]', '[PAD]', '[PAD]', '[PAD]', '[PAD]', '[PAD]', '[PAD]', '[PAD]', '[PAD]', '[PAD]', '[PAD]', '[PAD]', '[CLS]', 'there', 'are', '56', 'parameters', 'in', 'total', '(', '30', 'stance', ',', '26', 'swing', ')', 'for', 'the', 'mt', '##u', 'control', 'laws', '.', '[SEP]', '[PAD]', '[PAD]', '[PAD]', '[PAD]', '[PAD]', '[PAD]', '[PAD]', '[PAD]', '[PAD]', '[PAD]', '[PAD]', '[PAD]', '[PAD]', '[PAD]', '[PAD]', '[PAD]', '[PAD]', '[PAD]', '[PAD]', '[PAD]', '[PAD]', '[PAD]', '[PAD]', '[PAD]', '[PAD]', '[PAD]', '[PAD]', '[PAD]', '[CLS]', 'for', 'the', 'upper', 'body', 'and', 'the', 'non', '-', 'sa', '##git', '##tal', 'do', '##fs', 'in', 'the', 'lower', 'body', ',', 'we', 'opt', '##imi', '##ze', 'the', 'pd', '##con', '##tro', '##l', 'parameters', '(', 'spring', '-', 'damp', '##er', 'constant', '##s', ',', 'target', 'angle', ',', 'balance', 'feedback', ')', 'for', 'all', 'joints', 'except', 'for', 'arms', '[SEP]']\n",
      "[0 0 0 0 0 0 0 0 0 0 0 0 0 0 0 0 0 0 0 0 0 0 0 0 0 0 0 0 0 0 0 0 0 0 0 0 0\n",
      " 0 0 0 0 0 0 0 0 0 0 0 0 0]\n",
      "[-100    0    0    1    1    1    1    1    0 -100 -100 -100 -100 -100\n",
      " -100 -100 -100 -100 -100 -100 -100 -100 -100 -100 -100 -100 -100 -100\n",
      " -100 -100 -100 -100 -100 -100 -100 -100 -100 -100 -100 -100 -100 -100\n",
      " -100 -100 -100 -100 -100 -100 -100 -100]\n",
      "\n",
      "['[CLS]', 'when', 'combined', 'with', '33', 'free', 'parameters', 'describing', 'the', 'initial', 'state', 'of', 'the', 'simulation', ',', '124', 'parameters', '(', 'w', ')', 'fully', 'define', 'a', 'simulated', 'motion', '{', 's', '1', '.', '[SEP]', '[PAD]', '[PAD]', '[PAD]', '[PAD]', '[PAD]', '[PAD]', '[PAD]', '[PAD]', '[PAD]', '[PAD]', '[PAD]', '[PAD]', '[PAD]', '[PAD]', '[PAD]', '[PAD]', '[PAD]', '[PAD]', '[PAD]', '[PAD]', '[CLS]', '.', 's', 't', '}', 'over', 't', 'times', '##te', '##ps', '.', '[SEP]', '[PAD]', '[PAD]', '[PAD]', '[PAD]', '[PAD]', '[PAD]', '[PAD]', '[PAD]', '[PAD]', '[PAD]', '[PAD]', '[PAD]', '[PAD]', '[PAD]', '[PAD]', '[PAD]', '[PAD]', '[PAD]', '[PAD]', '[PAD]', '[PAD]', '[PAD]', '[PAD]', '[PAD]', '[PAD]', '[PAD]', '[PAD]', '[PAD]', '[PAD]', '[PAD]', '[PAD]', '[PAD]', '[PAD]', '[PAD]', '[PAD]', '[PAD]', '[PAD]', '[PAD]', '[CLS]', 'we', 'opt', '##imi', '##ze', 'control', 'parameters', 'and', 'the', 'initial', 'state', 'using', 'co', '##var', '##iance', 'matrix', 'adaptation', '(', 'cm', '##a', ')', '[SEP]', '[PAD]', '[PAD]', '[PAD]', '[PAD]', '[PAD]', '[PAD]', '[PAD]', '[PAD]', '[PAD]', '[PAD]', '[PAD]', '[PAD]', '[PAD]', '[PAD]', '[PAD]', '[PAD]', '[PAD]', '[PAD]', '[PAD]', '[PAD]', '[PAD]', '[PAD]', '[PAD]', '[PAD]', '[PAD]', '[PAD]', '[PAD]', '[PAD]', '[CLS]', '[', 'hansen', '2006', ']', ',', 'with', 'steps', '##ize', 'i', '=', '0', '.', '00', '##5', 'and', '50', 'samples', 'per', 'iteration', '.', '[SEP]', '[PAD]', '[PAD]', '[PAD]', '[PAD]', '[PAD]', '[PAD]', '[PAD]', '[PAD]', '[PAD]', '[PAD]', '[PAD]', '[PAD]', '[PAD]', '[PAD]', '[PAD]', '[PAD]', '[PAD]', '[PAD]', '[PAD]', '[PAD]', '[PAD]', '[PAD]', '[PAD]', '[PAD]', '[PAD]', '[PAD]', '[PAD]', '[PAD]', '[CLS]', 'the', 'optimization', 'aims', 'to', 'maximize', 'the', 'following', 'return', 'function', ':', 't', 'r', '(', 'w', ')', '=', 'r', '(', 's', 't', ')', 'a', 'w', 'e', 'j', 'effort', '.', '[SEP]', '[PAD]', '[PAD]', '[PAD]', '[PAD]', '[PAD]', '[PAD]', '[PAD]', '[PAD]', '[PAD]', '[PAD]', '[PAD]', '[PAD]', '[PAD]', '[PAD]', '[PAD]', '[PAD]', '[PAD]', '[PAD]', '[PAD]', '[PAD]', '[PAD]', '[CLS]', 't', '=', '1', 'here', 'r', 'is', 'a', 'scala', '##r', 'reward', 'function', 'of', 'the', 'current', 'state', 's', 't', ',', 'j', 'effort', 'measures', 'the', 'effort', 'of', 'the', 'synthesized', 'motion', ',', 'and', 'w', 'e', 'is', 'set', 'to', '0', '.', '00', '##4', 'divided', 'by', 'the', 'mass', 'of', 'the', 'model', ',', 'motivated', 'by', '[SEP]', '[CLS]', 'wang', 'et', 'al', '.', '[SEP]', '[PAD]', '[PAD]', '[PAD]', '[PAD]', '[PAD]', '[PAD]', '[PAD]', '[PAD]', '[PAD]', '[PAD]', '[PAD]', '[PAD]', '[PAD]', '[PAD]', '[PAD]', '[PAD]', '[PAD]', '[PAD]', '[PAD]', '[PAD]', '[PAD]', '[PAD]', '[PAD]', '[PAD]', '[PAD]', '[PAD]', '[PAD]', '[PAD]', '[PAD]', '[PAD]', '[PAD]', '[PAD]', '[PAD]', '[PAD]', '[PAD]', '[PAD]', '[PAD]', '[PAD]', '[PAD]', '[PAD]', '[PAD]', '[PAD]', '[PAD]', '[PAD]', '[CLS]', '[', '2010', ']', '.', '[SEP]', '[PAD]', '[PAD]', '[PAD]', '[PAD]', '[PAD]', '[PAD]', '[PAD]', '[PAD]', '[PAD]', '[PAD]', '[PAD]', '[PAD]', '[PAD]', '[PAD]', '[PAD]', '[PAD]', '[PAD]', '[PAD]', '[PAD]', '[PAD]', '[PAD]', '[PAD]', '[PAD]', '[PAD]', '[PAD]', '[PAD]', '[PAD]', '[PAD]', '[PAD]', '[PAD]', '[PAD]', '[PAD]', '[PAD]', '[PAD]', '[PAD]', '[PAD]', '[PAD]', '[PAD]', '[PAD]', '[PAD]', '[PAD]', '[PAD]', '[PAD]', '[PAD]']\n",
      "[0 0 0 0 0 0 0 0 0 0 0 0 0 0 0 0 0 0 0 0 0 0 0 0 0 0 0 0 0 0 0 0 0 0 0 0 0\n",
      " 0 0 0 0 0 0 0 0 0 0 0 0 0]\n",
      "[-100    1    1    1    1 -100 -100 -100    1 -100 -100    1    1    1\n",
      "    1    1    1    1    1    1    1    1    1    1    1    1 -100 -100\n",
      " -100 -100 -100 -100 -100 -100 -100 -100 -100 -100 -100 -100 -100 -100\n",
      " -100 -100 -100 -100 -100 -100 -100 -100]\n",
      "\n"
     ]
    },
    {
     "name": "stderr",
     "output_type": "stream",
     "text": [
      "Iteration:   1%|          | 46/4153 [00:08<12:02,  5.69it/s]IOPub message rate exceeded.\n",
      "The notebook server will temporarily stop sending output\n",
      "to the client in order to avoid crashing it.\n",
      "To change this limit, set the config variable\n",
      "`--NotebookApp.iopub_msg_rate_limit`.\n",
      "\n",
      "Current values:\n",
      "NotebookApp.iopub_msg_rate_limit=1000.0 (msgs/sec)\n",
      "NotebookApp.rate_limit_window=3.0 (secs)\n",
      "\n",
      "Iteration: 100%|██████████| 4153/4153 [12:04<00:00,  5.85it/s]\n",
      "Iteration:   0%|          | 1/4153 [00:00<12:32,  5.52it/s]"
     ]
    },
    {
     "name": "stdout",
     "output_type": "stream",
     "text": [
      "['[CLS]', 'g', 'm', 'and', 'h', 'm', 'are', 'free', 'positive', 'parameters', 'and', '{', '}', 'a', '##±', 'means', 'only', 'positive', 'or', 'negative', 'values', '(', '0', 'otherwise', ')', '.', '[SEP]', '[PAD]', '[PAD]', '[PAD]', '[PAD]', '[PAD]', '[PAD]', '[PAD]', '[PAD]', '[PAD]', '[PAD]', '[PAD]', '[PAD]', '[PAD]', '[PAD]', '[PAD]', '[PAD]', '[PAD]', '[PAD]', '[PAD]', '[PAD]', '[PAD]', '[PAD]', '[PAD]', '[CLS]', 'the', 'positive', 'length', 'feedback', 'effectively', 'models', 'a', 'stretch', 'reflex', ',', 'which', 'activate', '##s', 'the', 'muscle', 'when', 'the', 'fiber', 'is', 'stretched', 'beyond', 'a', 'fixed', 'length', '.', '[SEP]', '[PAD]', '[PAD]', '[PAD]', '[PAD]', '[PAD]', '[PAD]', '[PAD]', '[PAD]', '[PAD]', '[PAD]', '[PAD]', '[PAD]', '[PAD]', '[PAD]', '[PAD]', '[PAD]', '[PAD]', '[PAD]', '[PAD]', '[PAD]', '[PAD]', '[PAD]', '[PAD]', '[CLS]', 'u', 'l', 'm', 'is', 'most', 'useful', 'during', 'the', 'swing', 'phase', ',', 'as', 'the', 'ta', 'must', 'be', 'activated', 'to', 'do', '##rs', '##if', '##le', '##x', 'so', 'that', 'toe', '-', 'stu', '##bbing', 'can', 'be', 'avoided', '.', '[SEP]', '[PAD]', '[PAD]', '[PAD]', '[PAD]', '[PAD]', '[PAD]', '[PAD]', '[PAD]', '[PAD]', '[PAD]', '[PAD]', '[PAD]', '[PAD]', '[PAD]', '[PAD]', '[CLS]', 'in', 'addition', ',', 'the', 'h', '##fl', 'relies', 'on', 'length', 'feedback', 'to', 'generate', 'hip', 'flex', '##ion', 'torque', 'during', 'early', 'swing', ',', 'especially', 'during', 'running', '.', '[SEP]', '[PAD]', '[PAD]', '[PAD]', '[PAD]', '[PAD]', '[PAD]', '[PAD]', '[PAD]', '[PAD]', '[PAD]', '[PAD]', '[PAD]', '[PAD]', '[PAD]', '[PAD]', '[PAD]', '[PAD]', '[PAD]', '[PAD]', '[PAD]', '[PAD]', '[PAD]', '[PAD]', '[PAD]', '[CLS]', 'muscle', '-', 'driven', 'pd', 'control', '.', '[SEP]', '[PAD]', '[PAD]', '[PAD]', '[PAD]', '[PAD]', '[PAD]', '[PAD]', '[PAD]', '[PAD]', '[PAD]', '[PAD]', '[PAD]', '[PAD]', '[PAD]', '[PAD]', '[PAD]', '[PAD]', '[PAD]', '[PAD]', '[PAD]', '[PAD]', '[PAD]', '[PAD]', '[PAD]', '[PAD]', '[PAD]', '[PAD]', '[PAD]', '[PAD]', '[PAD]', '[PAD]', '[PAD]', '[PAD]', '[PAD]', '[PAD]', '[PAD]', '[PAD]', '[PAD]', '[PAD]', '[PAD]', '[PAD]', '[PAD]', '[CLS]', 'we', 'also', 'define', 'a', 'muscle', '-', 'driven', 'pd', 'control', 'law', 'with', 'respect', 'to', 'an', 'angular', 'feature', '[UNK]', 'as', 'where', 'k', 'm', ',', 'd', 'm', ',', '[UNK]', 'm', 'are', 'free', 'parameters', 'of', 'the', 'pd', '-', 'controller', '.', '[SEP]', '[PAD]', '[PAD]', '[PAD]', '[PAD]', '[PAD]', '[PAD]', '[PAD]', '[PAD]', '[PAD]', '[PAD]', '[PAD]', '[PAD]', '[CLS]', 'the', 'brace', '##s', 'sign', 'is', 'positive', 'if', 'torque', 'generated', 'by', 'm', 'is', 'in', 'the', 'opposing', 'direction', 'of', '[UNK]', '.', 'g', '.', ',', 'if', 'm', 'is', 'the', 'hip', 'ex', '##tens', '##or', 'and', '[UNK]', 'is', 'the', 'hip', 'flex', '##ion', 'angle', '##aan', '##d', 'negative', 'otherwise', '.', '[SEP]', '[PAD]', '[PAD]', '[PAD]', '[PAD]', '[PAD]', '[CLS]', 'much', 'like', 'the', 'standard', 'torque', '##base', '##d', 'pd', '-', 'controller', ',', 'the', 'muscle', '-', 'driven', 'pd', 'control', 'aims', 'to', 'adjust', '[UNK]', 'towards', 'the', 'target', 'angle', '[UNK]', 'm', 'while', 'damp', '##ing', 'its', 'velocity', '.', '[SEP]', '[PAD]', '[PAD]', '[PAD]', '[PAD]', '[PAD]', '[PAD]', '[PAD]', '[PAD]', '[PAD]', '[PAD]', '[PAD]', '[PAD]', '[PAD]', '[PAD]', '[PAD]']\n",
      "[0 0 0 0 0 0 0 0 0 0 0 0 0 0 0 0 0 0 0 0 0 0 0 0 0 0 0 0 0 0 0 0 0 0 0 0 0\n",
      " 0 0 0 0 0 0 0 0 0 0 0 0 0]\n",
      "[-100    1    1    1 -100    1    1    1    1    1    1    1    1    1\n",
      "    1    1    1    1    1    1 -100 -100    1    1    1    1    0    0\n",
      "    1    1    1    1 -100    1 -100    1    1 -100    1    1    0    0\n",
      "    0    0    0 -100 -100 -100 -100 -100]\n",
      "\n",
      "['[CLS]', 'however', ',', 'unlike', 'the', 'standard', 'pd', '-', 'controller', ',', 'muscles', 'can', 'only', 'activate', 'after', 'a', 'time', '-', 'delay', 'and', 'each', 'muscle', 'can', 'only', 'generate', 'forces', 'to', 'rotate', 'the', 'angular', 'do', '##f', 'in', 'one', 'direction', '.', '[SEP]', '[PAD]', '[PAD]', '[PAD]', '[PAD]', '[PAD]', '[PAD]', '[PAD]', '[PAD]', '[PAD]', '[PAD]', '[PAD]', '[PAD]', '[PAD]', '[CLS]', 'the', 'pd', '-', 'control', 'laws', 'are', 'employed', 'by', 'the', 'hip', 'muscles', 'during', 'the', 'stance', 'phase', 'to', 'maintain', 'the', 'global', 'upper', 'body', 'orientation', ',', 'as', 'well', 'as', 'during', 'stance', 'preparation', 'to', 'prepare', 'for', 'ground', 'contact', '.', '[SEP]', '[PAD]', '[PAD]', '[PAD]', '[PAD]', '[PAD]', '[PAD]', '[PAD]', '[PAD]', '[PAD]', '[PAD]', '[PAD]', '[PAD]', '[PAD]', '[CLS]', 'u', 'm', '[UNK]', '=', 'k', 'm', '(', '[UNK]', '(', 't', 'a', 'at', 'm', ')', 'a', '[UNK]', 'm', ')', '+', 'd', 'm', '[UNK]', '(', 't', 'i', 'a', 'at', 'm', ')', ',', 'a', '##±', '[SEP]', '[PAD]', '[PAD]', '[PAD]', '[PAD]', '[PAD]', '[PAD]', '[PAD]', '[PAD]', '[PAD]', '[PAD]', '[PAD]', '[PAD]', '[PAD]', '[PAD]', '[PAD]', '[PAD]', '[CLS]', '<', 'h', '##2', '>', '4', '.', '2', 'stance', 'phase', '<', '/', 'h', '##2', '>', '[SEP]', '[PAD]', '[PAD]', '[PAD]', '[PAD]', '[PAD]', '[PAD]', '[PAD]', '[PAD]', '[PAD]', '[PAD]', '[PAD]', '[PAD]', '[PAD]', '[PAD]', '[PAD]', '[PAD]', '[PAD]', '[PAD]', '[PAD]', '[PAD]', '[PAD]', '[PAD]', '[PAD]', '[PAD]', '[PAD]', '[PAD]', '[PAD]', '[PAD]', '[PAD]', '[PAD]', '[PAD]', '[PAD]', '[PAD]', '[PAD]', '[CLS]', 'each', 'muscle', 'has', 'an', 'initial', 'constant', 'ex', '##cit', '##ation', ',', 'or', 'pre', '-', 'stimulation', 'value', 'p', 'm', '.', '[SEP]', '[PAD]', '[PAD]', '[PAD]', '[PAD]', '[PAD]', '[PAD]', '[PAD]', '[PAD]', '[PAD]', '[PAD]', '[PAD]', '[PAD]', '[PAD]', '[PAD]', '[PAD]', '[PAD]', '[PAD]', '[PAD]', '[PAD]', '[PAD]', '[PAD]', '[PAD]', '[PAD]', '[PAD]', '[PAD]', '[PAD]', '[PAD]', '[PAD]', '[PAD]', '[PAD]', '[CLS]', 'these', 'values', 'are', 'initial', '##ized', 'close', 'to', 'zero', ',', 'but', 'are', 'then', 'opt', '##imi', '##zed', '.', '[SEP]', '[PAD]', '[PAD]', '[PAD]', '[PAD]', '[PAD]', '[PAD]', '[PAD]', '[PAD]', '[PAD]', '[PAD]', '[PAD]', '[PAD]', '[PAD]', '[PAD]', '[PAD]', '[PAD]', '[PAD]', '[PAD]', '[PAD]', '[PAD]', '[PAD]', '[PAD]', '[PAD]', '[PAD]', '[PAD]', '[PAD]', '[PAD]', '[PAD]', '[PAD]', '[PAD]', '[PAD]', '[PAD]', '[CLS]', 'the', 'sol', 'and', 'gas', 'both', 'rely', 'on', 'positive', 'force', 'feedback', 'and', 'are', 'the', 'main', 'sources', 'of', 'torque', 'during', 'walking', '.', '[SEP]', '[PAD]', '[PAD]', '[PAD]', '[PAD]', '[PAD]', '[PAD]', '[PAD]', '[PAD]', '[PAD]', '[PAD]', '[PAD]', '[PAD]', '[PAD]', '[PAD]', '[PAD]', '[PAD]', '[PAD]', '[PAD]', '[PAD]', '[PAD]', '[PAD]', '[PAD]', '[PAD]', '[PAD]', '[PAD]', '[PAD]', '[PAD]', '[PAD]', '[CLS]', 'the', 'ta', 'ensures', 'foot', 'clearance', 'during', 'swing', 'using', 'a', 'length', 'feedback', '(', 'u', 'l', 'ta', ')', ',', 'but', 'the', 'activation', 'is', 'suppressed', 'during', 'stance', 'in', 'proportion', 'to', 'the', 'current', 'force', 'generated', 'from', 'sol', '.', '[SEP]', '[PAD]', '[PAD]', '[PAD]', '[PAD]', '[PAD]', '[PAD]', '[PAD]', '[PAD]', '[PAD]', '[PAD]', '[PAD]', '[PAD]', '[PAD]', '[PAD]']\n",
      "[0 0 0 0 0 0 0 0 0 0 0 0 0 0 0 0 0 0 0 0 0 0 0 0 0 0 0 0 0 0 0 0 0 0 0 0 0\n",
      " 0 0 0 0 0 0 0 0 0 0 0 0 0]\n",
      "[-100    1    1    1    1    1    1    1    1    1    1    1    1    1\n",
      "    1    1    0 -100 -100 -100 -100 -100 -100 -100 -100 -100 -100 -100\n",
      " -100 -100 -100 -100 -100 -100 -100 -100 -100 -100 -100 -100 -100 -100\n",
      " -100 -100 -100 -100 -100 -100 -100 -100]\n",
      "\n",
      "['[CLS]', 'the', 'suppression', 'allows', 'the', 'generated', 'ta', 'activation', 'patterns', 'to', 'better', 'match', 'human', 'data', 'during', 'loco', '##mot', '##ion', '.', '[SEP]', '[PAD]', '[PAD]', '[PAD]', '[PAD]', '[PAD]', '[PAD]', '[PAD]', '[PAD]', '[PAD]', '[PAD]', '[PAD]', '[PAD]', '[PAD]', '[PAD]', '[PAD]', '[PAD]', '[PAD]', '[PAD]', '[PAD]', '[PAD]', '[PAD]', '[PAD]', '[PAD]', '[PAD]', '[PAD]', '[PAD]', '[PAD]', '[PAD]', '[PAD]', '[PAD]', '[CLS]', 'the', 'force', 'feedback', 'on', 'the', 'va', '##s', 'creates', 'a', 'strong', 'knee', 'extension', 'torque', 'following', 'ground', 'contact', ',', 'but', 'ex', '##cit', '##ation', 'is', 'suppressed', 'when', 'the', 'knee', 'flex', '##ion', 'angle', '(', '[UNK]', 'k', ')', 'is', 'extended', 'below', 'an', 'offset', '(', '[UNK]', 'k', 'off', ')', 'with', 'an', 'extension', 'velocity', '(', '[SEP]', '[CLS]', 'the', 'suppression', 'prevents', 'hyper', '##ex', '##tension', 'of', 'the', 'knee', 'during', 'mid', '-', 'stance', '.', '[SEP]', '[PAD]', '[PAD]', '[PAD]', '[PAD]', '[PAD]', '[PAD]', '[PAD]', '[PAD]', '[PAD]', '[PAD]', '[PAD]', '[PAD]', '[PAD]', '[PAD]', '[PAD]', '[PAD]', '[PAD]', '[PAD]', '[PAD]', '[PAD]', '[PAD]', '[PAD]', '[PAD]', '[PAD]', '[PAD]', '[PAD]', '[PAD]', '[PAD]', '[PAD]', '[PAD]', '[PAD]', '[PAD]', '[PAD]', '[PAD]', '[CLS]', 'using', 'muscle', '-', 'driven', 'pd', 'control', 'laws', ',', 'the', 'ham', ',', 'g', '##lu', ',', 'and', 'h', '##fl', 'are', 'responsible', 'for', 'maintaining', 'the', 'global', 'orientation', 'of', 'the', 'upper', 'body', '(', 'i', ')', ',', 'defined', 'as', 'the', 'vector', 'between', 'the', 'com', 'of', 'the', 'upper', 'body', 'and', 'the', 'com', 'of', 'the', '[SEP]', '[CLS]', 'during', 'double', 'stance', ',', 'these', 'control', 'laws', 'are', 'only', 'active', 'for', 'the', 'leading', 'leg', ',', 'denoted', 'as', 'u', 'i', 'm', 'lead', '.', '[SEP]', '[PAD]', '[PAD]', '[PAD]', '[PAD]', '[PAD]', '[PAD]', '[PAD]', '[PAD]', '[PAD]', '[PAD]', '[PAD]', '[PAD]', '[PAD]', '[PAD]', '[PAD]', '[PAD]', '[PAD]', '[PAD]', '[PAD]', '[PAD]', '[PAD]', '[PAD]', '[PAD]', '[PAD]', '[PAD]', '[PAD]', '[CLS]', 'specifically', ',', 'control', 'laws', 'during', 'the', 'stance', 'phase', 'are', 'as', 'follows', ':', 'towards', 'the', 'end', 'of', 'the', 'stance', 'phase', ',', 'the', 'controller', 'enters', 'into', 'the', 'swing', 'initiation', ',', 'which', 'begins', 'when', 'either', 'the', 'signed', 'horizontal', 'distance', 'between', 'the', 'com', 'and', 'the', 'ankle', 'normal', '##ized', 'by', 'leg', 'length', 'exceeds', '[SEP]', '[CLS]', 'during', 'swing', 'initiation', ',', 'constant', 'ex', '##cit', '##ation', 'values', 'between', '0', 'and', '1', '(', 'set', 'during', 'optimization', ')', 'are', 'added', 'and', 'sub', '##tracted', 'to', 'the', 'va', '##s', ',', 'rf', ',', 'g', '##lu', ',', 'and', 'h', '##fl', ':', 'the', 'combination', 'of', 'h', '##fl', 'and', 'g', '##lu', 'ex', '##cit', '##ations', '[SEP]', '[CLS]', 'two', 'main', 'differences', 'between', 'our', 'stance', 'phase', 'control', 'laws', 'compared', 'to', '[SEP]', '[PAD]', '[PAD]', '[PAD]', '[PAD]', '[PAD]', '[PAD]', '[PAD]', '[PAD]', '[PAD]', '[PAD]', '[PAD]', '[PAD]', '[PAD]', '[PAD]', '[PAD]', '[PAD]', '[PAD]', '[PAD]', '[PAD]', '[PAD]', '[PAD]', '[PAD]', '[PAD]', '[PAD]', '[PAD]', '[PAD]', '[PAD]', '[PAD]', '[PAD]', '[PAD]', '[PAD]', '[PAD]', '[PAD]', '[PAD]', '[PAD]', '[PAD]', '[PAD]']\n",
      "[0 0 0 0 0 0 0 0 0 0 0 0 0 0 0 0 0 0 0 0 0 0 0 0 0 0 0 0 0 0 0 0 0 0 0 0 0\n",
      " 0 0 0 0 0 0 0 0 0 0 0 0 0]\n",
      "[-100    0    0    0    1    1    1    1    1    1    1    1    1    1\n",
      "    1    1    1    1    0 -100 -100 -100 -100 -100 -100 -100 -100 -100\n",
      " -100 -100 -100 -100 -100 -100 -100 -100 -100 -100 -100 -100 -100 -100\n",
      " -100 -100 -100 -100 -100 -100 -100 -100]\n",
      "\n",
      "['[CLS]', 'ge', '##yer', 'and', 'herr', '[', '2010', ']', '[SEP]', '[PAD]', '[PAD]', '[PAD]', '[PAD]', '[PAD]', '[PAD]', '[PAD]', '[PAD]', '[PAD]', '[PAD]', '[PAD]', '[PAD]', '[PAD]', '[PAD]', '[PAD]', '[PAD]', '[PAD]', '[PAD]', '[PAD]', '[PAD]', '[PAD]', '[PAD]', '[PAD]', '[PAD]', '[PAD]', '[PAD]', '[PAD]', '[PAD]', '[PAD]', '[PAD]', '[PAD]', '[PAD]', '[PAD]', '[PAD]', '[PAD]', '[PAD]', '[PAD]', '[PAD]', '[PAD]', '[PAD]', '[PAD]', '[CLS]', 'lie', 'in', 'how', 'the', 'swing', 'initiation', 'state', 'functions', '.', '[SEP]', '[PAD]', '[PAD]', '[PAD]', '[PAD]', '[PAD]', '[PAD]', '[PAD]', '[PAD]', '[PAD]', '[PAD]', '[PAD]', '[PAD]', '[PAD]', '[PAD]', '[PAD]', '[PAD]', '[PAD]', '[PAD]', '[PAD]', '[PAD]', '[PAD]', '[PAD]', '[PAD]', '[PAD]', '[PAD]', '[PAD]', '[PAD]', '[PAD]', '[PAD]', '[PAD]', '[PAD]', '[PAD]', '[PAD]', '[PAD]', '[PAD]', '[PAD]', '[PAD]', '[PAD]', '[PAD]', '[CLS]', 'first', ',', 'for', 'running', 'we', 'found', 'it', 'necessary', 'to', 'enter', 'into', 'swing', 'initiation', 'using', 'the', 'd', 'i', '&', 'gt', ';', 'd', 'i', 'si', 'condition', ',', 'rather', 'than', 'just', 'wait', 'for', 'double', 'stance', '.', '[SEP]', '[PAD]', '[PAD]', '[PAD]', '[PAD]', '[PAD]', '[PAD]', '[PAD]', '[PAD]', '[PAD]', '[PAD]', '[PAD]', '[PAD]', '[PAD]', '[PAD]', '[PAD]', '[CLS]', 'second', ',', 'we', 'found', 'it', 'unnecessary', 'to', 'mod', '##ulate', 'the', 'muscle', '-', 'driven', 'pd', '-', 'control', 'laws', 'in', 'the', 'hip', 'by', 'ground', 'reaction', 'forces', '.', '[SEP]', '[PAD]', '[PAD]', '[PAD]', '[PAD]', '[PAD]', '[PAD]', '[PAD]', '[PAD]', '[PAD]', '[PAD]', '[PAD]', '[PAD]', '[PAD]', '[PAD]', '[PAD]', '[PAD]', '[PAD]', '[PAD]', '[PAD]', '[PAD]', '[PAD]', '[PAD]', '[PAD]', '[CLS]', 'instead', ',', 'the', 'responsibility', 'to', 'maintain', 'upper', 'body', 'orientation', 'is', 'always', 'assigned', 'to', 'the', 'lead', 'leg', '.', '[SEP]', '[PAD]', '[PAD]', '[PAD]', '[PAD]', '[PAD]', '[PAD]', '[PAD]', '[PAD]', '[PAD]', '[PAD]', '[PAD]', '[PAD]', '[PAD]', '[PAD]', '[PAD]', '[PAD]', '[PAD]', '[PAD]', '[PAD]', '[PAD]', '[PAD]', '[PAD]', '[PAD]', '[PAD]', '[PAD]', '[PAD]', '[PAD]', '[PAD]', '[PAD]', '[PAD]', '[PAD]', '[CLS]', 'u', 'sol', '=', 'p', 'sol', '+', 'u', 'sol', 'f', ',', 'u', 'ta', '=', 'p', 'ta', '+', 'u', 'ta', 'l', 'a', 'u', 'f', 'sol', ',', 'u', 'gas', '=', 'p', 'gas', '+', 'u', 'gas', 'f', ',', 'u', 'va', '##s', '=', 'p', 'va', '##s', '+', 'u', 'f', 'va', '##s', '+', 'k', '[SEP]', '[CLS]', 'u', 'va', '##s', '=', 'u', 'va', '##s', 'a', 's', 'va', '##s', ',', 'u', 'rf', '=', 'u', 'rf', '+', 's', 'rf', ',', 'u', 'g', '##lu', '=', 'u', 'g', '##lu', 'a', 's', 'g', '##lu', ',', 'u', 'h', '##fl', '=', 'u', 'h', '##fl', '+', 's', 'h', '##fl', '.', '[SEP]', '[PAD]', '[PAD]', '[PAD]', '[CLS]', '<', 'h', '##2', '>', '4', '.', '3', 'swing', 'phase', '<', '/', 'h', '##2', '>', '[SEP]', '[PAD]', '[PAD]', '[PAD]', '[PAD]', '[PAD]', '[PAD]', '[PAD]', '[PAD]', '[PAD]', '[PAD]', '[PAD]', '[PAD]', '[PAD]', '[PAD]', '[PAD]', '[PAD]', '[PAD]', '[PAD]', '[PAD]', '[PAD]', '[PAD]', '[PAD]', '[PAD]', '[PAD]', '[PAD]', '[PAD]', '[PAD]', '[PAD]', '[PAD]', '[PAD]', '[PAD]', '[PAD]', '[PAD]', '[PAD]']\n",
      "[0 0 0 0 0 0 0 0 0 0 0 0 0 0 0 0 0 0 0 0 0 0 0 0 0 0 0 0 0 0 0 0 0 0 0 0 0\n",
      " 0 0 0 0 0 0 0 0 0 0 0 0 0]\n",
      "[-100    1    1    1    1    1    1    1    1    1    1 -100    0    0\n",
      "    0    0 -100 -100    0    0 -100 -100 -100 -100 -100 -100 -100 -100\n",
      " -100 -100 -100 -100 -100 -100 -100 -100 -100 -100 -100 -100 -100 -100\n",
      " -100 -100 -100 -100 -100 -100 -100 -100]\n",
      "\n",
      "['[CLS]', 'much', 'like', 'in', 'the', 'stance', 'phase', ',', 'each', 'muscle', 'has', 'an', 'initial', 'constant', 'ex', '##cit', '##ation', 'value', '(', 'q', 'm', ')', '.', '[SEP]', '[PAD]', '[PAD]', '[PAD]', '[PAD]', '[PAD]', '[PAD]', '[PAD]', '[PAD]', '[PAD]', '[PAD]', '[PAD]', '[PAD]', '[PAD]', '[PAD]', '[PAD]', '[PAD]', '[PAD]', '[PAD]', '[PAD]', '[PAD]', '[PAD]', '[PAD]', '[PAD]', '[PAD]', '[PAD]', '[PAD]', '[CLS]', 'the', 'leg', 'motion', 'relies', 'significantly', 'on', 'passive', 'dynamics', 'during', 'the', 'swing', 'phase', '[SEP]', '[PAD]', '[PAD]', '[PAD]', '[PAD]', '[PAD]', '[PAD]', '[PAD]', '[PAD]', '[PAD]', '[PAD]', '[PAD]', '[PAD]', '[PAD]', '[PAD]', '[PAD]', '[PAD]', '[PAD]', '[PAD]', '[PAD]', '[PAD]', '[PAD]', '[PAD]', '[PAD]', '[PAD]', '[PAD]', '[PAD]', '[PAD]', '[PAD]', '[PAD]', '[PAD]', '[PAD]', '[PAD]', '[PAD]', '[PAD]', '[PAD]', '[PAD]', '[CLS]', '[', 'collins', 'et', 'al', '.', '[SEP]', '[PAD]', '[PAD]', '[PAD]', '[PAD]', '[PAD]', '[PAD]', '[PAD]', '[PAD]', '[PAD]', '[PAD]', '[PAD]', '[PAD]', '[PAD]', '[PAD]', '[PAD]', '[PAD]', '[PAD]', '[PAD]', '[PAD]', '[PAD]', '[PAD]', '[PAD]', '[PAD]', '[PAD]', '[PAD]', '[PAD]', '[PAD]', '[PAD]', '[PAD]', '[PAD]', '[PAD]', '[PAD]', '[PAD]', '[PAD]', '[PAD]', '[PAD]', '[PAD]', '[PAD]', '[PAD]', '[PAD]', '[PAD]', '[PAD]', '[PAD]', '[CLS]', '2005', ']', ',', 'as', 'most', 'muscles', 'are', 'only', 'excited', 'at', 'low', 'levels', '.', '[SEP]', '[PAD]', '[PAD]', '[PAD]', '[PAD]', '[PAD]', '[PAD]', '[PAD]', '[PAD]', '[PAD]', '[PAD]', '[PAD]', '[PAD]', '[PAD]', '[PAD]', '[PAD]', '[PAD]', '[PAD]', '[PAD]', '[PAD]', '[PAD]', '[PAD]', '[PAD]', '[PAD]', '[PAD]', '[PAD]', '[PAD]', '[PAD]', '[PAD]', '[PAD]', '[PAD]', '[PAD]', '[PAD]', '[PAD]', '[PAD]', '[PAD]', '[CLS]', 'the', 'main', 'exceptions', 'are', 'the', 'ta', ',', 'which', 'maintains', 'the', 'length', 'feedback', '(', 'u', 'l', 'ta', ')', 'to', 'avoid', 'toes', '##tub', '##bing', ',', 'and', 'the', 'ham', ',', 'which', 'is', 'activated', 'at', 'late', 'swing', 'phase', 'to', 'prevent', 'the', 'knee', 'from', 'being', 'over', '##ex', '##ten', '##ded', 'before', 'landing', '.', '[SEP]', '[PAD]', '[CLS]', 'the', 'h', '##fl', 'introduces', 'a', 'hip', 'flex', '##ion', 'torque', 'through', 'a', 'length', 'feedback', ',', 'which', 'is', 'suppressed', 'when', 'the', 'ham', 'is', 'stretched', 'in', 'during', 'late', 'swing', '.', '[SEP]', '[PAD]', '[PAD]', '[PAD]', '[PAD]', '[PAD]', '[PAD]', '[PAD]', '[PAD]', '[PAD]', '[PAD]', '[PAD]', '[PAD]', '[PAD]', '[PAD]', '[PAD]', '[PAD]', '[PAD]', '[PAD]', '[PAD]', '[PAD]', '[PAD]', '[CLS]', 'the', 'amount', 'of', 'ex', '##cit', '##ation', 'in', 'the', 'h', '##fl', 'also', 'depends', 'on', 'the', 'value', 'of', 'upper', 'body', 'lean', 'at', 'the', 'beginning', 'of', 'the', 'swing', 'phase', '(', 'i', 'lt', '##o', ')', ':', 'the', 'further', 'the', 'upper', 'body', 'leans', 'forward', 'compared', 'to', 'the', 'reference', 'lean', 'angle', '(', 'i', 'd', '[SEP]', '[CLS]', 'note', 'that', 'i', 'd', 'is', 'the', 'same', 'as', 'the', 'target', 'angle', 'in', 'u', 'i', 'h', '##fl', '.', '[SEP]', '[PAD]', '[PAD]', '[PAD]', '[PAD]', '[PAD]', '[PAD]', '[PAD]', '[PAD]', '[PAD]', '[PAD]', '[PAD]', '[PAD]', '[PAD]', '[PAD]', '[PAD]', '[PAD]', '[PAD]', '[PAD]', '[PAD]', '[PAD]', '[PAD]', '[PAD]', '[PAD]', '[PAD]', '[PAD]', '[PAD]', '[PAD]', '[PAD]', '[PAD]', '[PAD]', '[PAD]']\n",
      "[0 0 0 0 0 0 0 0 0 0 0 0 0 0 0 0 0 0 0 0 0 0 0 0 0 0 0 0 0 0 0 0 0 0 0 0 0\n",
      " 0 0 0 0 0 0 0 0 0 0 0 0 0]\n",
      "[-100    0    0    1    1    1    1    1    1    1    1    1    1    1\n",
      "    1 -100    1    1    1    1    1    1    1    1    1    0 -100 -100\n",
      " -100 -100 -100 -100 -100 -100 -100 -100 -100 -100 -100 -100 -100 -100\n",
      " -100 -100 -100 -100 -100 -100 -100 -100]\n",
      "\n",
      "['[CLS]', 'non', '-', 'constant', 'control', 'laws', 'during', 'the', 'swing', 'phase', 'are', 'as', 'follows', ':', 'the', 'controller', 'enters', 'into', 'the', 'stance', 'preparation', 'when', 'd', 'i', '&', 'lt', ';', 'd', 'i', 'sp', ',', 'where', 'the', 'swing', 'leg', 'enters', 'into', 'a', 'pd', '-', 'control', 'mode', '.', '[SEP]', '[PAD]', '[PAD]', '[PAD]', '[PAD]', '[PAD]', '[PAD]', '[CLS]', 'the', 'g', '##lu', ',', 'h', '##fl', ',', 'and', 'va', '##s', 'work', 'to', 'guide', 'the', 'hip', 'and', 'knee', 'joints', 'toward', 'a', 'desired', 'pose', 'to', 'prepare', 'for', 'ground', 'contact', ':', 'u', 'va', '##s', '=', 'q', 'va', '##s', '+', 'u', 'va', '##s', '[UNK]', 'k', ',', 'u', 'g', '##lu', '=', 'q', 'g', '[SEP]', '[CLS]', 'a', 'single', 'desired', 'hip', 'target', 'angle', '(', '[UNK]', 'h', ')', 'is', 'adjusted', 'according', 'to', 'the', 'sim', '##bic', '##on', 'balance', 'feedback', 'law', '[SEP]', '[PAD]', '[PAD]', '[PAD]', '[PAD]', '[PAD]', '[PAD]', '[PAD]', '[PAD]', '[PAD]', '[PAD]', '[PAD]', '[PAD]', '[PAD]', '[PAD]', '[PAD]', '[PAD]', '[PAD]', '[PAD]', '[PAD]', '[PAD]', '[PAD]', '[PAD]', '[PAD]', '[PAD]', '[PAD]', '[PAD]', '[PAD]', '[CLS]', '[', 'yin', 'et', 'al', '.', '[SEP]', '[PAD]', '[PAD]', '[PAD]', '[PAD]', '[PAD]', '[PAD]', '[PAD]', '[PAD]', '[PAD]', '[PAD]', '[PAD]', '[PAD]', '[PAD]', '[PAD]', '[PAD]', '[PAD]', '[PAD]', '[PAD]', '[PAD]', '[PAD]', '[PAD]', '[PAD]', '[PAD]', '[PAD]', '[PAD]', '[PAD]', '[PAD]', '[PAD]', '[PAD]', '[PAD]', '[PAD]', '[PAD]', '[PAD]', '[PAD]', '[PAD]', '[PAD]', '[PAD]', '[PAD]', '[PAD]', '[PAD]', '[PAD]', '[PAD]', '[PAD]', '[CLS]', '2007', ']', 'and', 'is', 'shared', 'by', 'both', 'the', 'g', '##lu', 'and', 'h', '##fl', '.', '[SEP]', '[PAD]', '[PAD]', '[PAD]', '[PAD]', '[PAD]', '[PAD]', '[PAD]', '[PAD]', '[PAD]', '[PAD]', '[PAD]', '[PAD]', '[PAD]', '[PAD]', '[PAD]', '[PAD]', '[PAD]', '[PAD]', '[PAD]', '[PAD]', '[PAD]', '[PAD]', '[PAD]', '[PAD]', '[PAD]', '[PAD]', '[PAD]', '[PAD]', '[PAD]', '[PAD]', '[PAD]', '[PAD]', '[PAD]', '[PAD]', '[CLS]', 'we', 'found', 'the', 'addition', 'of', 'the', 'stance', 'preparation', 'state', 'to', 'be', 'important', 'for', 'discovering', 'running', 'ga', '##its', '.', '[SEP]', '[PAD]', '[PAD]', '[PAD]', '[PAD]', '[PAD]', '[PAD]', '[PAD]', '[PAD]', '[PAD]', '[PAD]', '[PAD]', '[PAD]', '[PAD]', '[PAD]', '[PAD]', '[PAD]', '[PAD]', '[PAD]', '[PAD]', '[PAD]', '[PAD]', '[PAD]', '[PAD]', '[PAD]', '[PAD]', '[PAD]', '[PAD]', '[PAD]', '[PAD]', '[PAD]', '[CLS]', 'the', 'balance', 'feedback', 'law', 'allows', 'robust', 'control', 'strategies', 'to', 'be', 'found', 'in', 'difficult', 'environments', '(', 'e', '.', 'g', '.', ',', 'being', 'pushed', 'by', 'random', 'forces', ')', '.', '[SEP]', '[PAD]', '[PAD]', '[PAD]', '[PAD]', '[PAD]', '[PAD]', '[PAD]', '[PAD]', '[PAD]', '[PAD]', '[PAD]', '[PAD]', '[PAD]', '[PAD]', '[PAD]', '[PAD]', '[PAD]', '[PAD]', '[PAD]', '[PAD]', '[PAD]', '[CLS]', 'u', 'ta', '=', 'q', 'ta', '+', 'u', 'l', 'ta', ',', 'u', 'ham', '=', 'q', 'ham', '+', 'u', 'ham', 'f', ',', 'u', 'g', '##lu', '=', 'q', 'g', '##lu', '+', 'u', 'f', 'g', '##lu', ',', 'u', 'h', '##fl', '=', 'q', 'h', '##fl', '+', 'u', 'l', 'h', '##fl', 'a', 'u', 'l', '[SEP]']\n",
      "[0 0 0 0 0 0 0 0 0 0 0 0 0 0 0 0 0 0 0 0 0 0 0 0 0 0 0 0 0 0 0 0 0 0 0 0 0\n",
      " 0 0 0 0 0 0 0 0 0 0 0 0 0]\n",
      "[-100    1    1 -100 -100    1    1    1    1    1    1    1 -100 -100\n",
      " -100 -100 -100 -100 -100 -100 -100 -100 -100 -100 -100 -100 -100 -100\n",
      " -100 -100 -100 -100 -100 -100 -100 -100 -100 -100 -100 -100 -100 -100\n",
      " -100 -100 -100 -100 -100 -100 -100 -100]\n",
      "\n",
      "['[CLS]', '<', 'h', '##2', '>', '4', '.', '4', 'out', '-', 'of', '-', 'plane', 'and', 'upper', '##body', 'control', '<', '/', 'h', '##2', '>', '[SEP]', '[PAD]', '[PAD]', '[PAD]', '[PAD]', '[PAD]', '[PAD]', '[PAD]', '[PAD]', '[PAD]', '[PAD]', '[PAD]', '[PAD]', '[PAD]', '[PAD]', '[PAD]', '[PAD]', '[PAD]', '[PAD]', '[PAD]', '[PAD]', '[PAD]', '[PAD]', '[PAD]', '[PAD]', '[PAD]', '[PAD]', '[PAD]', '[CLS]', 'the', 'rest', 'of', 'the', 'do', '##fs', 'are', 'controlled', 'using', 'standard', 'joint', '-', 'space', 'pd', '##con', '##tro', '##ller', '##s', 'with', 'state', '-', 'dependent', 'parameters', '.', '[SEP]', '[PAD]', '[PAD]', '[PAD]', '[PAD]', '[PAD]', '[PAD]', '[PAD]', '[PAD]', '[PAD]', '[PAD]', '[PAD]', '[PAD]', '[PAD]', '[PAD]', '[PAD]', '[PAD]', '[PAD]', '[PAD]', '[PAD]', '[PAD]', '[PAD]', '[PAD]', '[PAD]', '[PAD]', '[CLS]', 'following', 'wang', 'et', 'al', '.', '[SEP]', '[PAD]', '[PAD]', '[PAD]', '[PAD]', '[PAD]', '[PAD]', '[PAD]', '[PAD]', '[PAD]', '[PAD]', '[PAD]', '[PAD]', '[PAD]', '[PAD]', '[PAD]', '[PAD]', '[PAD]', '[PAD]', '[PAD]', '[PAD]', '[PAD]', '[PAD]', '[PAD]', '[PAD]', '[PAD]', '[PAD]', '[PAD]', '[PAD]', '[PAD]', '[PAD]', '[PAD]', '[PAD]', '[PAD]', '[PAD]', '[PAD]', '[PAD]', '[PAD]', '[PAD]', '[PAD]', '[PAD]', '[PAD]', '[PAD]', '[PAD]', '[CLS]', '[', '2010', ']', '[SEP]', '[PAD]', '[PAD]', '[PAD]', '[PAD]', '[PAD]', '[PAD]', '[PAD]', '[PAD]', '[PAD]', '[PAD]', '[PAD]', '[PAD]', '[PAD]', '[PAD]', '[PAD]', '[PAD]', '[PAD]', '[PAD]', '[PAD]', '[PAD]', '[PAD]', '[PAD]', '[PAD]', '[PAD]', '[PAD]', '[PAD]', '[PAD]', '[PAD]', '[PAD]', '[PAD]', '[PAD]', '[PAD]', '[PAD]', '[PAD]', '[PAD]', '[PAD]', '[PAD]', '[PAD]', '[PAD]', '[PAD]', '[PAD]', '[PAD]', '[PAD]', '[PAD]', '[PAD]', '[CLS]', ',', 'the', 'target', 'features', 'for', 'the', 'ankle', 'and', 'hip', 'joints', 'in', 'the', 'corona', '##l', 'plane', 'are', 'the', 'global', 'foot', 'and', 'pe', '##lvis', 'orientation', '##s', ',', 'respectively', '.', '[SEP]', '[PAD]', '[PAD]', '[PAD]', '[PAD]', '[PAD]', '[PAD]', '[PAD]', '[PAD]', '[PAD]', '[PAD]', '[PAD]', '[PAD]', '[PAD]', '[PAD]', '[PAD]', '[PAD]', '[PAD]', '[PAD]', '[PAD]', '[PAD]', '[PAD]', '[CLS]', 'the', 'corona', '##l', 'swing', 'hip', 'target', 'angles', 'follow', 'the', 'same', 'feedback', 'law', 'as', '[UNK]', 'h', '.', '[SEP]', '[PAD]', '[PAD]', '[PAD]', '[PAD]', '[PAD]', '[PAD]', '[PAD]', '[PAD]', '[PAD]', '[PAD]', '[PAD]', '[PAD]', '[PAD]', '[PAD]', '[PAD]', '[PAD]', '[PAD]', '[PAD]', '[PAD]', '[PAD]', '[PAD]', '[PAD]', '[PAD]', '[PAD]', '[PAD]', '[PAD]', '[PAD]', '[PAD]', '[PAD]', '[PAD]', '[PAD]', '[PAD]', '[CLS]', 'additionally', ',', 'we', 'set', 'the', 'toe', 'joint', 'to', 'be', 'a', 'spring', 'with', 'spring', 'constant', 'of', '30', 'nm', '/', 'ra', '##d', ',', 'target', 'angle', '0', ',', 'and', 'no', 'damp', '##ing', '.', '[SEP]', '[PAD]', '[PAD]', '[PAD]', '[PAD]', '[PAD]', '[PAD]', '[PAD]', '[PAD]', '[PAD]', '[PAD]', '[PAD]', '[PAD]', '[PAD]', '[PAD]', '[PAD]', '[PAD]', '[PAD]', '[PAD]', '[CLS]', 'unlike', 'in', 'previous', 'work', ',', 'where', 'a', 'ga', '##it', 'cycle', 'is', 'broken', 'down', 'into', 'four', 'states', ',', 'only', 'two', 'are', 'needed', '(', 'triggered', 'by', 'left', '/', 'right', 'foot', '-', 'strike', ')', 'since', 'do', '##fs', 'with', 'the', 'most', 'complex', 'activities', 'are', 'act', '##uated', 'by', 'muscles', '.', '[SEP]', '[PAD]', '[PAD]', '[PAD]']\n",
      "[0 0 0 0 0 0 0 0 0 0 0 0 0 0 0 0 0 0 0 0 0 0 0 0 0 0 0 0 0 0 0 0 0 0 0 0 0\n",
      " 0 0 0 0 0 0 0 0 0 0 0 0 0]\n",
      "[-100    0    0    0    0    0 -100 -100 -100 -100 -100 -100 -100 -100\n",
      " -100 -100 -100 -100 -100 -100 -100 -100 -100 -100 -100 -100 -100 -100\n",
      " -100 -100 -100 -100 -100 -100 -100 -100 -100 -100 -100 -100 -100 -100\n",
      " -100 -100 -100 -100 -100 -100 -100 -100]\n",
      "\n",
      "['[CLS]', 'our', 'upper', 'body', 'control', 'also', 'largely', 'follows', '[SEP]', '[PAD]', '[PAD]', '[PAD]', '[PAD]', '[PAD]', '[PAD]', '[PAD]', '[PAD]', '[PAD]', '[PAD]', '[PAD]', '[PAD]', '[PAD]', '[PAD]', '[PAD]', '[PAD]', '[PAD]', '[PAD]', '[PAD]', '[PAD]', '[PAD]', '[PAD]', '[PAD]', '[PAD]', '[PAD]', '[PAD]', '[PAD]', '[PAD]', '[PAD]', '[PAD]', '[PAD]', '[PAD]', '[PAD]', '[PAD]', '[PAD]', '[PAD]', '[PAD]', '[PAD]', '[PAD]', '[PAD]', '[PAD]', '[CLS]', 'wang', 'et', 'al', '.', '[SEP]', '[PAD]', '[PAD]', '[PAD]', '[PAD]', '[PAD]', '[PAD]', '[PAD]', '[PAD]', '[PAD]', '[PAD]', '[PAD]', '[PAD]', '[PAD]', '[PAD]', '[PAD]', '[PAD]', '[PAD]', '[PAD]', '[PAD]', '[PAD]', '[PAD]', '[PAD]', '[PAD]', '[PAD]', '[PAD]', '[PAD]', '[PAD]', '[PAD]', '[PAD]', '[PAD]', '[PAD]', '[PAD]', '[PAD]', '[PAD]', '[PAD]', '[PAD]', '[PAD]', '[PAD]', '[PAD]', '[PAD]', '[PAD]', '[PAD]', '[PAD]', '[PAD]', '[CLS]', '[', '2010', ']', '[SEP]', '[PAD]', '[PAD]', '[PAD]', '[PAD]', '[PAD]', '[PAD]', '[PAD]', '[PAD]', '[PAD]', '[PAD]', '[PAD]', '[PAD]', '[PAD]', '[PAD]', '[PAD]', '[PAD]', '[PAD]', '[PAD]', '[PAD]', '[PAD]', '[PAD]', '[PAD]', '[PAD]', '[PAD]', '[PAD]', '[PAD]', '[PAD]', '[PAD]', '[PAD]', '[PAD]', '[PAD]', '[PAD]', '[PAD]', '[PAD]', '[PAD]', '[PAD]', '[PAD]', '[PAD]', '[PAD]', '[PAD]', '[PAD]', '[PAD]', '[PAD]', '[PAD]', '[PAD]', '[CLS]', ',', 'with', 'the', 'exception', 'that', 'the', 'target', 'feature', 'of', 'our', 'back', 'joint', 'in', 'the', 'corona', '##l', 'plane', 'is', 'the', 'global', 'orientation', 'of', 'the', 'torso', 'instead', 'of', 'the', 'local', 'joint', 'angle', 'between', 'the', 'torso', 'and', 'the', 'pe', '##lvis', '.', '[SEP]', '[PAD]', '[PAD]', '[PAD]', '[PAD]', '[PAD]', '[PAD]', '[PAD]', '[PAD]', '[PAD]', '[PAD]', '[CLS]', 'this', 'global', 'target', 'allows', 'our', 'model', 'to', 'better', 'keep', 'the', 'head', 'upright', 'during', 'loco', '##mot', '##ion', '.', '[SEP]', '[PAD]', '[PAD]', '[PAD]', '[PAD]', '[PAD]', '[PAD]', '[PAD]', '[PAD]', '[PAD]', '[PAD]', '[PAD]', '[PAD]', '[PAD]', '[PAD]', '[PAD]', '[PAD]', '[PAD]', '[PAD]', '[PAD]', '[PAD]', '[PAD]', '[PAD]', '[PAD]', '[PAD]', '[PAD]', '[PAD]', '[PAD]', '[PAD]', '[PAD]', '[PAD]', '[PAD]', '[CLS]', 'we', 'fix', 'the', 'spring', 'and', 'damp', '##er', 'constant', '##s', 'for', 'all', 'arm', 'joints', 'to', '30', 'nm', '/', 'ra', '##d', 'and', '3', 'nm', '##s', '/', 'ra', '##d', ',', 'respectively', ',', 'with', 'target', 'angles', 'set', 'to', '0', '.', '[SEP]', '[PAD]', '[PAD]', '[PAD]', '[PAD]', '[PAD]', '[PAD]', '[PAD]', '[PAD]', '[PAD]', '[PAD]', '[PAD]', '[PAD]', '[CLS]', 'we', 'found', 'that', 'more', 'human', '-', 'like', 'arm', 'swing', 'can', 'be', 'generated', 'by', 'relating', 'the', 'elbow', 'and', 'shoulder', 'target', 'angles', 'as', '[UNK]', 's', 'l', '=', 'i', '##±', 'arm', '[UNK]', 'h', 'l', 'a', '[UNK]', 'h', 'r', '+', '[UNK]', 'e', 'd', 'and', 'i', 'l', 's', '=', '[UNK]', 'e', 'd', ',', '[SEP]', '[CLS]', 'this', 'formulation', 'captures', 'the', 'tendency', 'to', 'rotate', 'the', 'shoulder', 'backwards', 'and', 'inward', '##s', 'while', 'bending', 'the', 'elbow', '.', '[SEP]', '[PAD]', '[PAD]', '[PAD]', '[PAD]', '[PAD]', '[PAD]', '[PAD]', '[PAD]', '[PAD]', '[PAD]', '[PAD]', '[PAD]', '[PAD]', '[PAD]', '[PAD]', '[PAD]', '[PAD]', '[PAD]', '[PAD]', '[PAD]', '[PAD]', '[PAD]', '[PAD]', '[PAD]', '[PAD]', '[PAD]', '[PAD]', '[PAD]', '[PAD]', '[PAD]']\n",
      "[0 0 0 0 0 0 0 0 0 0 0 0 0 0 0 0 0 0 0 0 0 0 0 0 0 0 0 0 0 0 0 0 0 0 0 0 0\n",
      " 0 0 0 0 0 0 0 0 0 0 0 0 0]\n",
      "[-100    0    0 -100 -100 -100 -100 -100 -100 -100 -100 -100 -100 -100\n",
      " -100 -100 -100 -100 -100 -100 -100 -100 -100 -100 -100 -100 -100 -100\n",
      " -100 -100 -100 -100 -100 -100 -100 -100 -100 -100 -100 -100 -100 -100\n",
      " -100 -100 -100 -100 -100 -100 -100 -100]\n",
      "\n",
      "['[CLS]', 'the', 'scale', 'constant', 'and', 'the', 'desired', 'elbow', 'angle', 'are', 'among', 'the', 'parameters', 'set', 'by', 'optimization', ',', 'as', 'described', 'in', 'the', 'next', 'section', '.', '[SEP]', '[PAD]', '[PAD]', '[PAD]', '[PAD]', '[PAD]', '[PAD]', '[PAD]', '[PAD]', '[PAD]', '[PAD]', '[PAD]', '[PAD]', '[PAD]', '[PAD]', '[PAD]', '[PAD]', '[PAD]', '[PAD]', '[PAD]', '[PAD]', '[PAD]', '[PAD]', '[PAD]', '[PAD]', '[PAD]', '[CLS]', '<', 'h', '##1', '>', '5', 'optimization', '<', '/', 'h', '##1', '>', '[SEP]', '[PAD]', '[PAD]', '[PAD]', '[PAD]', '[PAD]', '[PAD]', '[PAD]', '[PAD]', '[PAD]', '[PAD]', '[PAD]', '[PAD]', '[PAD]', '[PAD]', '[PAD]', '[PAD]', '[PAD]', '[PAD]', '[PAD]', '[PAD]', '[PAD]', '[PAD]', '[PAD]', '[PAD]', '[PAD]', '[PAD]', '[PAD]', '[PAD]', '[PAD]', '[PAD]', '[PAD]', '[PAD]', '[PAD]', '[PAD]', '[PAD]', '[PAD]', '[PAD]', '[CLS]', 'the', 'control', 'algorithm', 'specified', 'in', 'section', '4', 'has', 'a', 'large', 'number', 'of', 'parameters', ',', 'which', 'we', 'set', 'by', 'optimization', '[SEP]', '[PAD]', '[PAD]', '[PAD]', '[PAD]', '[PAD]', '[PAD]', '[PAD]', '[PAD]', '[PAD]', '[PAD]', '[PAD]', '[PAD]', '[PAD]', '[PAD]', '[PAD]', '[PAD]', '[PAD]', '[PAD]', '[PAD]', '[PAD]', '[PAD]', '[PAD]', '[PAD]', '[PAD]', '[PAD]', '[PAD]', '[PAD]', '[PAD]', '[PAD]', '[CLS]', '[', 'wang', 'et', 'al', '.', '[SEP]', '[PAD]', '[PAD]', '[PAD]', '[PAD]', '[PAD]', '[PAD]', '[PAD]', '[PAD]', '[PAD]', '[PAD]', '[PAD]', '[PAD]', '[PAD]', '[PAD]', '[PAD]', '[PAD]', '[PAD]', '[PAD]', '[PAD]', '[PAD]', '[PAD]', '[PAD]', '[PAD]', '[PAD]', '[PAD]', '[PAD]', '[PAD]', '[PAD]', '[PAD]', '[PAD]', '[PAD]', '[PAD]', '[PAD]', '[PAD]', '[PAD]', '[PAD]', '[PAD]', '[PAD]', '[PAD]', '[PAD]', '[PAD]', '[PAD]', '[PAD]', '[CLS]', '2010', ']', '.', '[SEP]', '[PAD]', '[PAD]', '[PAD]', '[PAD]', '[PAD]', '[PAD]', '[PAD]', '[PAD]', '[PAD]', '[PAD]', '[PAD]', '[PAD]', '[PAD]', '[PAD]', '[PAD]', '[PAD]', '[PAD]', '[PAD]', '[PAD]', '[PAD]', '[PAD]', '[PAD]', '[PAD]', '[PAD]', '[PAD]', '[PAD]', '[PAD]', '[PAD]', '[PAD]', '[PAD]', '[PAD]', '[PAD]', '[PAD]', '[PAD]', '[PAD]', '[PAD]', '[PAD]', '[PAD]', '[PAD]', '[PAD]', '[PAD]', '[PAD]', '[PAD]', '[PAD]', '[PAD]', '[CLS]', 'more', 'specifically', ',', 'each', 'of', 'the', 'u', 'm', 'f', ',', 'u', 'm', 'l', ',', 'and', 'u', 'm', '[UNK]', 'laws', 'have', 'one', ',', 'two', ',', 'and', 'three', 'parameters', ',', 'respectively', '.', '[SEP]', '[PAD]', '[PAD]', '[PAD]', '[PAD]', '[PAD]', '[PAD]', '[PAD]', '[PAD]', '[PAD]', '[PAD]', '[PAD]', '[PAD]', '[PAD]', '[PAD]', '[PAD]', '[PAD]', '[PAD]', '[PAD]', '[CLS]', 'there', 'are', '56', 'parameters', 'in', 'total', '(', '30', 'stance', ',', '26', 'swing', ')', 'for', 'the', 'mt', '##u', 'control', 'laws', '.', '[SEP]', '[PAD]', '[PAD]', '[PAD]', '[PAD]', '[PAD]', '[PAD]', '[PAD]', '[PAD]', '[PAD]', '[PAD]', '[PAD]', '[PAD]', '[PAD]', '[PAD]', '[PAD]', '[PAD]', '[PAD]', '[PAD]', '[PAD]', '[PAD]', '[PAD]', '[PAD]', '[PAD]', '[PAD]', '[PAD]', '[PAD]', '[PAD]', '[PAD]', '[CLS]', 'for', 'the', 'upper', 'body', 'and', 'the', 'non', '-', 'sa', '##git', '##tal', 'do', '##fs', 'in', 'the', 'lower', 'body', ',', 'we', 'opt', '##imi', '##ze', 'the', 'pd', '##con', '##tro', '##l', 'parameters', '(', 'spring', '-', 'damp', '##er', 'constant', '##s', ',', 'target', 'angle', ',', 'balance', 'feedback', ')', 'for', 'all', 'joints', 'except', 'for', 'arms', '[SEP]']\n",
      "[0 0 0 0 0 0 0 0 0 0 0 0 0 0 0 0 0 0 0 0 0 0 0 0 0 0 0 0 0 0 0 0 0 0 0 0 0\n",
      " 0 0 0 0 0 0 0 0 0 0 0 0 0]\n",
      "[-100    0    0    1    1    1    1    1    0 -100 -100 -100 -100 -100\n",
      " -100 -100 -100 -100 -100 -100 -100 -100 -100 -100 -100 -100 -100 -100\n",
      " -100 -100 -100 -100 -100 -100 -100 -100 -100 -100 -100 -100 -100 -100\n",
      " -100 -100 -100 -100 -100 -100 -100 -100]\n",
      "\n",
      "['[CLS]', 'when', 'combined', 'with', '33', 'free', 'parameters', 'describing', 'the', 'initial', 'state', 'of', 'the', 'simulation', ',', '124', 'parameters', '(', 'w', ')', 'fully', 'define', 'a', 'simulated', 'motion', '{', 's', '1', '.', '[SEP]', '[PAD]', '[PAD]', '[PAD]', '[PAD]', '[PAD]', '[PAD]', '[PAD]', '[PAD]', '[PAD]', '[PAD]', '[PAD]', '[PAD]', '[PAD]', '[PAD]', '[PAD]', '[PAD]', '[PAD]', '[PAD]', '[PAD]', '[PAD]', '[CLS]', '.', 's', 't', '}', 'over', 't', 'times', '##te', '##ps', '.', '[SEP]', '[PAD]', '[PAD]', '[PAD]', '[PAD]', '[PAD]', '[PAD]', '[PAD]', '[PAD]', '[PAD]', '[PAD]', '[PAD]', '[PAD]', '[PAD]', '[PAD]', '[PAD]', '[PAD]', '[PAD]', '[PAD]', '[PAD]', '[PAD]', '[PAD]', '[PAD]', '[PAD]', '[PAD]', '[PAD]', '[PAD]', '[PAD]', '[PAD]', '[PAD]', '[PAD]', '[PAD]', '[PAD]', '[PAD]', '[PAD]', '[PAD]', '[PAD]', '[PAD]', '[PAD]', '[CLS]', 'we', 'opt', '##imi', '##ze', 'control', 'parameters', 'and', 'the', 'initial', 'state', 'using', 'co', '##var', '##iance', 'matrix', 'adaptation', '(', 'cm', '##a', ')', '[SEP]', '[PAD]', '[PAD]', '[PAD]', '[PAD]', '[PAD]', '[PAD]', '[PAD]', '[PAD]', '[PAD]', '[PAD]', '[PAD]', '[PAD]', '[PAD]', '[PAD]', '[PAD]', '[PAD]', '[PAD]', '[PAD]', '[PAD]', '[PAD]', '[PAD]', '[PAD]', '[PAD]', '[PAD]', '[PAD]', '[PAD]', '[PAD]', '[PAD]', '[CLS]', '[', 'hansen', '2006', ']', ',', 'with', 'steps', '##ize', 'i', '=', '0', '.', '00', '##5', 'and', '50', 'samples', 'per', 'iteration', '.', '[SEP]', '[PAD]', '[PAD]', '[PAD]', '[PAD]', '[PAD]', '[PAD]', '[PAD]', '[PAD]', '[PAD]', '[PAD]', '[PAD]', '[PAD]', '[PAD]', '[PAD]', '[PAD]', '[PAD]', '[PAD]', '[PAD]', '[PAD]', '[PAD]', '[PAD]', '[PAD]', '[PAD]', '[PAD]', '[PAD]', '[PAD]', '[PAD]', '[PAD]', '[CLS]', 'the', 'optimization', 'aims', 'to', 'maximize', 'the', 'following', 'return', 'function', ':', 't', 'r', '(', 'w', ')', '=', 'r', '(', 's', 't', ')', 'a', 'w', 'e', 'j', 'effort', '.', '[SEP]', '[PAD]', '[PAD]', '[PAD]', '[PAD]', '[PAD]', '[PAD]', '[PAD]', '[PAD]', '[PAD]', '[PAD]', '[PAD]', '[PAD]', '[PAD]', '[PAD]', '[PAD]', '[PAD]', '[PAD]', '[PAD]', '[PAD]', '[PAD]', '[PAD]', '[CLS]', 't', '=', '1', 'here', 'r', 'is', 'a', 'scala', '##r', 'reward', 'function', 'of', 'the', 'current', 'state', 's', 't', ',', 'j', 'effort', 'measures', 'the', 'effort', 'of', 'the', 'synthesized', 'motion', ',', 'and', 'w', 'e', 'is', 'set', 'to', '0', '.', '00', '##4', 'divided', 'by', 'the', 'mass', 'of', 'the', 'model', ',', 'motivated', 'by', '[SEP]', '[CLS]', 'wang', 'et', 'al', '.', '[SEP]', '[PAD]', '[PAD]', '[PAD]', '[PAD]', '[PAD]', '[PAD]', '[PAD]', '[PAD]', '[PAD]', '[PAD]', '[PAD]', '[PAD]', '[PAD]', '[PAD]', '[PAD]', '[PAD]', '[PAD]', '[PAD]', '[PAD]', '[PAD]', '[PAD]', '[PAD]', '[PAD]', '[PAD]', '[PAD]', '[PAD]', '[PAD]', '[PAD]', '[PAD]', '[PAD]', '[PAD]', '[PAD]', '[PAD]', '[PAD]', '[PAD]', '[PAD]', '[PAD]', '[PAD]', '[PAD]', '[PAD]', '[PAD]', '[PAD]', '[PAD]', '[PAD]', '[CLS]', '[', '2010', ']', '.', '[SEP]', '[PAD]', '[PAD]', '[PAD]', '[PAD]', '[PAD]', '[PAD]', '[PAD]', '[PAD]', '[PAD]', '[PAD]', '[PAD]', '[PAD]', '[PAD]', '[PAD]', '[PAD]', '[PAD]', '[PAD]', '[PAD]', '[PAD]', '[PAD]', '[PAD]', '[PAD]', '[PAD]', '[PAD]', '[PAD]', '[PAD]', '[PAD]', '[PAD]', '[PAD]', '[PAD]', '[PAD]', '[PAD]', '[PAD]', '[PAD]', '[PAD]', '[PAD]', '[PAD]', '[PAD]', '[PAD]', '[PAD]', '[PAD]', '[PAD]', '[PAD]', '[PAD]']\n",
      "[0 0 0 0 0 0 0 0 0 0 0 0 0 0 0 0 0 0 0 0 0 0 0 0 0 0 0 0 0 0 0 0 0 0 0 0 0\n",
      " 0 0 0 0 0 0 0 0 0 0 0 0 0]\n",
      "[-100    1    1    1    1 -100 -100 -100    1 -100 -100    1    1    1\n",
      "    1    1    1    1    1    1    1    1    1    1    1    1 -100 -100\n",
      " -100 -100 -100 -100 -100 -100 -100 -100 -100 -100 -100 -100 -100 -100\n",
      " -100 -100 -100 -100 -100 -100 -100 -100]\n",
      "\n"
     ]
    },
    {
     "name": "stderr",
     "output_type": "stream",
     "text": [
      "Iteration:  15%|█▌        | 642/4153 [01:53<10:11,  5.74it/s]IOPub message rate exceeded.\n",
      "The notebook server will temporarily stop sending output\n",
      "to the client in order to avoid crashing it.\n",
      "To change this limit, set the config variable\n",
      "`--NotebookApp.iopub_msg_rate_limit`.\n",
      "\n",
      "Current values:\n",
      "NotebookApp.iopub_msg_rate_limit=1000.0 (msgs/sec)\n",
      "NotebookApp.rate_limit_window=3.0 (secs)\n",
      "\n",
      "Iteration: 100%|██████████| 4153/4153 [12:04<00:00,  5.86it/s]\n",
      "Iteration:   0%|          | 1/4153 [00:00<12:35,  5.49it/s]"
     ]
    },
    {
     "name": "stdout",
     "output_type": "stream",
     "text": [
      "['[CLS]', 'g', 'm', 'and', 'h', 'm', 'are', 'free', 'positive', 'parameters', 'and', '{', '}', 'a', '##±', 'means', 'only', 'positive', 'or', 'negative', 'values', '(', '0', 'otherwise', ')', '.', '[SEP]', '[PAD]', '[PAD]', '[PAD]', '[PAD]', '[PAD]', '[PAD]', '[PAD]', '[PAD]', '[PAD]', '[PAD]', '[PAD]', '[PAD]', '[PAD]', '[PAD]', '[PAD]', '[PAD]', '[PAD]', '[PAD]', '[PAD]', '[PAD]', '[PAD]', '[PAD]', '[PAD]', '[CLS]', 'the', 'positive', 'length', 'feedback', 'effectively', 'models', 'a', 'stretch', 'reflex', ',', 'which', 'activate', '##s', 'the', 'muscle', 'when', 'the', 'fiber', 'is', 'stretched', 'beyond', 'a', 'fixed', 'length', '.', '[SEP]', '[PAD]', '[PAD]', '[PAD]', '[PAD]', '[PAD]', '[PAD]', '[PAD]', '[PAD]', '[PAD]', '[PAD]', '[PAD]', '[PAD]', '[PAD]', '[PAD]', '[PAD]', '[PAD]', '[PAD]', '[PAD]', '[PAD]', '[PAD]', '[PAD]', '[PAD]', '[PAD]', '[CLS]', 'u', 'l', 'm', 'is', 'most', 'useful', 'during', 'the', 'swing', 'phase', ',', 'as', 'the', 'ta', 'must', 'be', 'activated', 'to', 'do', '##rs', '##if', '##le', '##x', 'so', 'that', 'toe', '-', 'stu', '##bbing', 'can', 'be', 'avoided', '.', '[SEP]', '[PAD]', '[PAD]', '[PAD]', '[PAD]', '[PAD]', '[PAD]', '[PAD]', '[PAD]', '[PAD]', '[PAD]', '[PAD]', '[PAD]', '[PAD]', '[PAD]', '[PAD]', '[CLS]', 'in', 'addition', ',', 'the', 'h', '##fl', 'relies', 'on', 'length', 'feedback', 'to', 'generate', 'hip', 'flex', '##ion', 'torque', 'during', 'early', 'swing', ',', 'especially', 'during', 'running', '.', '[SEP]', '[PAD]', '[PAD]', '[PAD]', '[PAD]', '[PAD]', '[PAD]', '[PAD]', '[PAD]', '[PAD]', '[PAD]', '[PAD]', '[PAD]', '[PAD]', '[PAD]', '[PAD]', '[PAD]', '[PAD]', '[PAD]', '[PAD]', '[PAD]', '[PAD]', '[PAD]', '[PAD]', '[PAD]', '[CLS]', 'muscle', '-', 'driven', 'pd', 'control', '.', '[SEP]', '[PAD]', '[PAD]', '[PAD]', '[PAD]', '[PAD]', '[PAD]', '[PAD]', '[PAD]', '[PAD]', '[PAD]', '[PAD]', '[PAD]', '[PAD]', '[PAD]', '[PAD]', '[PAD]', '[PAD]', '[PAD]', '[PAD]', '[PAD]', '[PAD]', '[PAD]', '[PAD]', '[PAD]', '[PAD]', '[PAD]', '[PAD]', '[PAD]', '[PAD]', '[PAD]', '[PAD]', '[PAD]', '[PAD]', '[PAD]', '[PAD]', '[PAD]', '[PAD]', '[PAD]', '[PAD]', '[PAD]', '[PAD]', '[PAD]', '[CLS]', 'we', 'also', 'define', 'a', 'muscle', '-', 'driven', 'pd', 'control', 'law', 'with', 'respect', 'to', 'an', 'angular', 'feature', '[UNK]', 'as', 'where', 'k', 'm', ',', 'd', 'm', ',', '[UNK]', 'm', 'are', 'free', 'parameters', 'of', 'the', 'pd', '-', 'controller', '.', '[SEP]', '[PAD]', '[PAD]', '[PAD]', '[PAD]', '[PAD]', '[PAD]', '[PAD]', '[PAD]', '[PAD]', '[PAD]', '[PAD]', '[PAD]', '[CLS]', 'the', 'brace', '##s', 'sign', 'is', 'positive', 'if', 'torque', 'generated', 'by', 'm', 'is', 'in', 'the', 'opposing', 'direction', 'of', '[UNK]', '.', 'g', '.', ',', 'if', 'm', 'is', 'the', 'hip', 'ex', '##tens', '##or', 'and', '[UNK]', 'is', 'the', 'hip', 'flex', '##ion', 'angle', '##aan', '##d', 'negative', 'otherwise', '.', '[SEP]', '[PAD]', '[PAD]', '[PAD]', '[PAD]', '[PAD]', '[CLS]', 'much', 'like', 'the', 'standard', 'torque', '##base', '##d', 'pd', '-', 'controller', ',', 'the', 'muscle', '-', 'driven', 'pd', 'control', 'aims', 'to', 'adjust', '[UNK]', 'towards', 'the', 'target', 'angle', '[UNK]', 'm', 'while', 'damp', '##ing', 'its', 'velocity', '.', '[SEP]', '[PAD]', '[PAD]', '[PAD]', '[PAD]', '[PAD]', '[PAD]', '[PAD]', '[PAD]', '[PAD]', '[PAD]', '[PAD]', '[PAD]', '[PAD]', '[PAD]', '[PAD]']\n",
      "[0 0 0 0 0 0 0 0 0 0 0 0 0 0 0 0 0 0 0 0 0 0 0 0 0 0 0 0 0 0 0 0 0 0 0 0 0\n",
      " 0 0 0 0 0 0 0 0 0 0 0 0 0]\n",
      "[-100    1    1    1 -100    1    1    1    1    1    1    1    1    1\n",
      "    1    1    1    1    1    1 -100 -100    1    1    1    1    0    0\n",
      "    1    1    1    1 -100    1 -100    1    1 -100    1    1    0    0\n",
      "    0    0    0 -100 -100 -100 -100 -100]\n",
      "\n",
      "['[CLS]', 'however', ',', 'unlike', 'the', 'standard', 'pd', '-', 'controller', ',', 'muscles', 'can', 'only', 'activate', 'after', 'a', 'time', '-', 'delay', 'and', 'each', 'muscle', 'can', 'only', 'generate', 'forces', 'to', 'rotate', 'the', 'angular', 'do', '##f', 'in', 'one', 'direction', '.', '[SEP]', '[PAD]', '[PAD]', '[PAD]', '[PAD]', '[PAD]', '[PAD]', '[PAD]', '[PAD]', '[PAD]', '[PAD]', '[PAD]', '[PAD]', '[PAD]', '[CLS]', 'the', 'pd', '-', 'control', 'laws', 'are', 'employed', 'by', 'the', 'hip', 'muscles', 'during', 'the', 'stance', 'phase', 'to', 'maintain', 'the', 'global', 'upper', 'body', 'orientation', ',', 'as', 'well', 'as', 'during', 'stance', 'preparation', 'to', 'prepare', 'for', 'ground', 'contact', '.', '[SEP]', '[PAD]', '[PAD]', '[PAD]', '[PAD]', '[PAD]', '[PAD]', '[PAD]', '[PAD]', '[PAD]', '[PAD]', '[PAD]', '[PAD]', '[PAD]', '[CLS]', 'u', 'm', '[UNK]', '=', 'k', 'm', '(', '[UNK]', '(', 't', 'a', 'at', 'm', ')', 'a', '[UNK]', 'm', ')', '+', 'd', 'm', '[UNK]', '(', 't', 'i', 'a', 'at', 'm', ')', ',', 'a', '##±', '[SEP]', '[PAD]', '[PAD]', '[PAD]', '[PAD]', '[PAD]', '[PAD]', '[PAD]', '[PAD]', '[PAD]', '[PAD]', '[PAD]', '[PAD]', '[PAD]', '[PAD]', '[PAD]', '[PAD]', '[CLS]', '<', 'h', '##2', '>', '4', '.', '2', 'stance', 'phase', '<', '/', 'h', '##2', '>', '[SEP]', '[PAD]', '[PAD]', '[PAD]', '[PAD]', '[PAD]', '[PAD]', '[PAD]', '[PAD]', '[PAD]', '[PAD]', '[PAD]', '[PAD]', '[PAD]', '[PAD]', '[PAD]', '[PAD]', '[PAD]', '[PAD]', '[PAD]', '[PAD]', '[PAD]', '[PAD]', '[PAD]', '[PAD]', '[PAD]', '[PAD]', '[PAD]', '[PAD]', '[PAD]', '[PAD]', '[PAD]', '[PAD]', '[PAD]', '[PAD]', '[CLS]', 'each', 'muscle', 'has', 'an', 'initial', 'constant', 'ex', '##cit', '##ation', ',', 'or', 'pre', '-', 'stimulation', 'value', 'p', 'm', '.', '[SEP]', '[PAD]', '[PAD]', '[PAD]', '[PAD]', '[PAD]', '[PAD]', '[PAD]', '[PAD]', '[PAD]', '[PAD]', '[PAD]', '[PAD]', '[PAD]', '[PAD]', '[PAD]', '[PAD]', '[PAD]', '[PAD]', '[PAD]', '[PAD]', '[PAD]', '[PAD]', '[PAD]', '[PAD]', '[PAD]', '[PAD]', '[PAD]', '[PAD]', '[PAD]', '[PAD]', '[CLS]', 'these', 'values', 'are', 'initial', '##ized', 'close', 'to', 'zero', ',', 'but', 'are', 'then', 'opt', '##imi', '##zed', '.', '[SEP]', '[PAD]', '[PAD]', '[PAD]', '[PAD]', '[PAD]', '[PAD]', '[PAD]', '[PAD]', '[PAD]', '[PAD]', '[PAD]', '[PAD]', '[PAD]', '[PAD]', '[PAD]', '[PAD]', '[PAD]', '[PAD]', '[PAD]', '[PAD]', '[PAD]', '[PAD]', '[PAD]', '[PAD]', '[PAD]', '[PAD]', '[PAD]', '[PAD]', '[PAD]', '[PAD]', '[PAD]', '[PAD]', '[CLS]', 'the', 'sol', 'and', 'gas', 'both', 'rely', 'on', 'positive', 'force', 'feedback', 'and', 'are', 'the', 'main', 'sources', 'of', 'torque', 'during', 'walking', '.', '[SEP]', '[PAD]', '[PAD]', '[PAD]', '[PAD]', '[PAD]', '[PAD]', '[PAD]', '[PAD]', '[PAD]', '[PAD]', '[PAD]', '[PAD]', '[PAD]', '[PAD]', '[PAD]', '[PAD]', '[PAD]', '[PAD]', '[PAD]', '[PAD]', '[PAD]', '[PAD]', '[PAD]', '[PAD]', '[PAD]', '[PAD]', '[PAD]', '[PAD]', '[CLS]', 'the', 'ta', 'ensures', 'foot', 'clearance', 'during', 'swing', 'using', 'a', 'length', 'feedback', '(', 'u', 'l', 'ta', ')', ',', 'but', 'the', 'activation', 'is', 'suppressed', 'during', 'stance', 'in', 'proportion', 'to', 'the', 'current', 'force', 'generated', 'from', 'sol', '.', '[SEP]', '[PAD]', '[PAD]', '[PAD]', '[PAD]', '[PAD]', '[PAD]', '[PAD]', '[PAD]', '[PAD]', '[PAD]', '[PAD]', '[PAD]', '[PAD]', '[PAD]']\n",
      "[0 0 0 0 0 0 0 0 0 0 0 0 0 0 0 0 0 0 0 0 0 0 0 0 0 0 0 0 0 0 0 0 0 0 0 0 0\n",
      " 0 0 0 0 0 0 0 0 0 0 0 0 0]\n",
      "[-100    1    1    1    1    1    1    1    1    1    1    1    1    1\n",
      "    1    1    0 -100 -100 -100 -100 -100 -100 -100 -100 -100 -100 -100\n",
      " -100 -100 -100 -100 -100 -100 -100 -100 -100 -100 -100 -100 -100 -100\n",
      " -100 -100 -100 -100 -100 -100 -100 -100]\n",
      "\n",
      "['[CLS]', 'the', 'suppression', 'allows', 'the', 'generated', 'ta', 'activation', 'patterns', 'to', 'better', 'match', 'human', 'data', 'during', 'loco', '##mot', '##ion', '.', '[SEP]', '[PAD]', '[PAD]', '[PAD]', '[PAD]', '[PAD]', '[PAD]', '[PAD]', '[PAD]', '[PAD]', '[PAD]', '[PAD]', '[PAD]', '[PAD]', '[PAD]', '[PAD]', '[PAD]', '[PAD]', '[PAD]', '[PAD]', '[PAD]', '[PAD]', '[PAD]', '[PAD]', '[PAD]', '[PAD]', '[PAD]', '[PAD]', '[PAD]', '[PAD]', '[PAD]', '[CLS]', 'the', 'force', 'feedback', 'on', 'the', 'va', '##s', 'creates', 'a', 'strong', 'knee', 'extension', 'torque', 'following', 'ground', 'contact', ',', 'but', 'ex', '##cit', '##ation', 'is', 'suppressed', 'when', 'the', 'knee', 'flex', '##ion', 'angle', '(', '[UNK]', 'k', ')', 'is', 'extended', 'below', 'an', 'offset', '(', '[UNK]', 'k', 'off', ')', 'with', 'an', 'extension', 'velocity', '(', '[SEP]', '[CLS]', 'the', 'suppression', 'prevents', 'hyper', '##ex', '##tension', 'of', 'the', 'knee', 'during', 'mid', '-', 'stance', '.', '[SEP]', '[PAD]', '[PAD]', '[PAD]', '[PAD]', '[PAD]', '[PAD]', '[PAD]', '[PAD]', '[PAD]', '[PAD]', '[PAD]', '[PAD]', '[PAD]', '[PAD]', '[PAD]', '[PAD]', '[PAD]', '[PAD]', '[PAD]', '[PAD]', '[PAD]', '[PAD]', '[PAD]', '[PAD]', '[PAD]', '[PAD]', '[PAD]', '[PAD]', '[PAD]', '[PAD]', '[PAD]', '[PAD]', '[PAD]', '[PAD]', '[CLS]', 'using', 'muscle', '-', 'driven', 'pd', 'control', 'laws', ',', 'the', 'ham', ',', 'g', '##lu', ',', 'and', 'h', '##fl', 'are', 'responsible', 'for', 'maintaining', 'the', 'global', 'orientation', 'of', 'the', 'upper', 'body', '(', 'i', ')', ',', 'defined', 'as', 'the', 'vector', 'between', 'the', 'com', 'of', 'the', 'upper', 'body', 'and', 'the', 'com', 'of', 'the', '[SEP]', '[CLS]', 'during', 'double', 'stance', ',', 'these', 'control', 'laws', 'are', 'only', 'active', 'for', 'the', 'leading', 'leg', ',', 'denoted', 'as', 'u', 'i', 'm', 'lead', '.', '[SEP]', '[PAD]', '[PAD]', '[PAD]', '[PAD]', '[PAD]', '[PAD]', '[PAD]', '[PAD]', '[PAD]', '[PAD]', '[PAD]', '[PAD]', '[PAD]', '[PAD]', '[PAD]', '[PAD]', '[PAD]', '[PAD]', '[PAD]', '[PAD]', '[PAD]', '[PAD]', '[PAD]', '[PAD]', '[PAD]', '[PAD]', '[CLS]', 'specifically', ',', 'control', 'laws', 'during', 'the', 'stance', 'phase', 'are', 'as', 'follows', ':', 'towards', 'the', 'end', 'of', 'the', 'stance', 'phase', ',', 'the', 'controller', 'enters', 'into', 'the', 'swing', 'initiation', ',', 'which', 'begins', 'when', 'either', 'the', 'signed', 'horizontal', 'distance', 'between', 'the', 'com', 'and', 'the', 'ankle', 'normal', '##ized', 'by', 'leg', 'length', 'exceeds', '[SEP]', '[CLS]', 'during', 'swing', 'initiation', ',', 'constant', 'ex', '##cit', '##ation', 'values', 'between', '0', 'and', '1', '(', 'set', 'during', 'optimization', ')', 'are', 'added', 'and', 'sub', '##tracted', 'to', 'the', 'va', '##s', ',', 'rf', ',', 'g', '##lu', ',', 'and', 'h', '##fl', ':', 'the', 'combination', 'of', 'h', '##fl', 'and', 'g', '##lu', 'ex', '##cit', '##ations', '[SEP]', '[CLS]', 'two', 'main', 'differences', 'between', 'our', 'stance', 'phase', 'control', 'laws', 'compared', 'to', '[SEP]', '[PAD]', '[PAD]', '[PAD]', '[PAD]', '[PAD]', '[PAD]', '[PAD]', '[PAD]', '[PAD]', '[PAD]', '[PAD]', '[PAD]', '[PAD]', '[PAD]', '[PAD]', '[PAD]', '[PAD]', '[PAD]', '[PAD]', '[PAD]', '[PAD]', '[PAD]', '[PAD]', '[PAD]', '[PAD]', '[PAD]', '[PAD]', '[PAD]', '[PAD]', '[PAD]', '[PAD]', '[PAD]', '[PAD]', '[PAD]', '[PAD]', '[PAD]', '[PAD]']\n",
      "[0 0 0 0 0 0 0 0 0 0 0 0 0 0 0 0 0 0 0 0 0 0 0 0 0 0 0 0 0 0 0 0 0 0 0 0 0\n",
      " 0 0 0 0 0 0 0 0 0 0 0 0 0]\n",
      "[-100    0    0    0    1    1    1    1    1    1    1    1    1    1\n",
      "    1    1    1    1    0 -100 -100 -100 -100 -100 -100 -100 -100 -100\n",
      " -100 -100 -100 -100 -100 -100 -100 -100 -100 -100 -100 -100 -100 -100\n",
      " -100 -100 -100 -100 -100 -100 -100 -100]\n",
      "\n",
      "['[CLS]', 'ge', '##yer', 'and', 'herr', '[', '2010', ']', '[SEP]', '[PAD]', '[PAD]', '[PAD]', '[PAD]', '[PAD]', '[PAD]', '[PAD]', '[PAD]', '[PAD]', '[PAD]', '[PAD]', '[PAD]', '[PAD]', '[PAD]', '[PAD]', '[PAD]', '[PAD]', '[PAD]', '[PAD]', '[PAD]', '[PAD]', '[PAD]', '[PAD]', '[PAD]', '[PAD]', '[PAD]', '[PAD]', '[PAD]', '[PAD]', '[PAD]', '[PAD]', '[PAD]', '[PAD]', '[PAD]', '[PAD]', '[PAD]', '[PAD]', '[PAD]', '[PAD]', '[PAD]', '[PAD]', '[CLS]', 'lie', 'in', 'how', 'the', 'swing', 'initiation', 'state', 'functions', '.', '[SEP]', '[PAD]', '[PAD]', '[PAD]', '[PAD]', '[PAD]', '[PAD]', '[PAD]', '[PAD]', '[PAD]', '[PAD]', '[PAD]', '[PAD]', '[PAD]', '[PAD]', '[PAD]', '[PAD]', '[PAD]', '[PAD]', '[PAD]', '[PAD]', '[PAD]', '[PAD]', '[PAD]', '[PAD]', '[PAD]', '[PAD]', '[PAD]', '[PAD]', '[PAD]', '[PAD]', '[PAD]', '[PAD]', '[PAD]', '[PAD]', '[PAD]', '[PAD]', '[PAD]', '[PAD]', '[PAD]', '[CLS]', 'first', ',', 'for', 'running', 'we', 'found', 'it', 'necessary', 'to', 'enter', 'into', 'swing', 'initiation', 'using', 'the', 'd', 'i', '&', 'gt', ';', 'd', 'i', 'si', 'condition', ',', 'rather', 'than', 'just', 'wait', 'for', 'double', 'stance', '.', '[SEP]', '[PAD]', '[PAD]', '[PAD]', '[PAD]', '[PAD]', '[PAD]', '[PAD]', '[PAD]', '[PAD]', '[PAD]', '[PAD]', '[PAD]', '[PAD]', '[PAD]', '[PAD]', '[CLS]', 'second', ',', 'we', 'found', 'it', 'unnecessary', 'to', 'mod', '##ulate', 'the', 'muscle', '-', 'driven', 'pd', '-', 'control', 'laws', 'in', 'the', 'hip', 'by', 'ground', 'reaction', 'forces', '.', '[SEP]', '[PAD]', '[PAD]', '[PAD]', '[PAD]', '[PAD]', '[PAD]', '[PAD]', '[PAD]', '[PAD]', '[PAD]', '[PAD]', '[PAD]', '[PAD]', '[PAD]', '[PAD]', '[PAD]', '[PAD]', '[PAD]', '[PAD]', '[PAD]', '[PAD]', '[PAD]', '[PAD]', '[CLS]', 'instead', ',', 'the', 'responsibility', 'to', 'maintain', 'upper', 'body', 'orientation', 'is', 'always', 'assigned', 'to', 'the', 'lead', 'leg', '.', '[SEP]', '[PAD]', '[PAD]', '[PAD]', '[PAD]', '[PAD]', '[PAD]', '[PAD]', '[PAD]', '[PAD]', '[PAD]', '[PAD]', '[PAD]', '[PAD]', '[PAD]', '[PAD]', '[PAD]', '[PAD]', '[PAD]', '[PAD]', '[PAD]', '[PAD]', '[PAD]', '[PAD]', '[PAD]', '[PAD]', '[PAD]', '[PAD]', '[PAD]', '[PAD]', '[PAD]', '[PAD]', '[CLS]', 'u', 'sol', '=', 'p', 'sol', '+', 'u', 'sol', 'f', ',', 'u', 'ta', '=', 'p', 'ta', '+', 'u', 'ta', 'l', 'a', 'u', 'f', 'sol', ',', 'u', 'gas', '=', 'p', 'gas', '+', 'u', 'gas', 'f', ',', 'u', 'va', '##s', '=', 'p', 'va', '##s', '+', 'u', 'f', 'va', '##s', '+', 'k', '[SEP]', '[CLS]', 'u', 'va', '##s', '=', 'u', 'va', '##s', 'a', 's', 'va', '##s', ',', 'u', 'rf', '=', 'u', 'rf', '+', 's', 'rf', ',', 'u', 'g', '##lu', '=', 'u', 'g', '##lu', 'a', 's', 'g', '##lu', ',', 'u', 'h', '##fl', '=', 'u', 'h', '##fl', '+', 's', 'h', '##fl', '.', '[SEP]', '[PAD]', '[PAD]', '[PAD]', '[CLS]', '<', 'h', '##2', '>', '4', '.', '3', 'swing', 'phase', '<', '/', 'h', '##2', '>', '[SEP]', '[PAD]', '[PAD]', '[PAD]', '[PAD]', '[PAD]', '[PAD]', '[PAD]', '[PAD]', '[PAD]', '[PAD]', '[PAD]', '[PAD]', '[PAD]', '[PAD]', '[PAD]', '[PAD]', '[PAD]', '[PAD]', '[PAD]', '[PAD]', '[PAD]', '[PAD]', '[PAD]', '[PAD]', '[PAD]', '[PAD]', '[PAD]', '[PAD]', '[PAD]', '[PAD]', '[PAD]', '[PAD]', '[PAD]', '[PAD]']\n",
      "[0 0 0 0 0 0 0 0 0 0 0 0 0 0 0 0 0 0 0 0 0 0 0 0 0 0 0 0 0 0 0 0 0 0 0 0 0\n",
      " 0 0 0 0 0 0 0 0 0 0 0 0 0]\n",
      "[-100    1    1    1    1    1    1    1    1    1    1 -100    0    0\n",
      "    0    0 -100 -100    0    0 -100 -100 -100 -100 -100 -100 -100 -100\n",
      " -100 -100 -100 -100 -100 -100 -100 -100 -100 -100 -100 -100 -100 -100\n",
      " -100 -100 -100 -100 -100 -100 -100 -100]\n",
      "\n",
      "['[CLS]', 'much', 'like', 'in', 'the', 'stance', 'phase', ',', 'each', 'muscle', 'has', 'an', 'initial', 'constant', 'ex', '##cit', '##ation', 'value', '(', 'q', 'm', ')', '.', '[SEP]', '[PAD]', '[PAD]', '[PAD]', '[PAD]', '[PAD]', '[PAD]', '[PAD]', '[PAD]', '[PAD]', '[PAD]', '[PAD]', '[PAD]', '[PAD]', '[PAD]', '[PAD]', '[PAD]', '[PAD]', '[PAD]', '[PAD]', '[PAD]', '[PAD]', '[PAD]', '[PAD]', '[PAD]', '[PAD]', '[PAD]', '[CLS]', 'the', 'leg', 'motion', 'relies', 'significantly', 'on', 'passive', 'dynamics', 'during', 'the', 'swing', 'phase', '[SEP]', '[PAD]', '[PAD]', '[PAD]', '[PAD]', '[PAD]', '[PAD]', '[PAD]', '[PAD]', '[PAD]', '[PAD]', '[PAD]', '[PAD]', '[PAD]', '[PAD]', '[PAD]', '[PAD]', '[PAD]', '[PAD]', '[PAD]', '[PAD]', '[PAD]', '[PAD]', '[PAD]', '[PAD]', '[PAD]', '[PAD]', '[PAD]', '[PAD]', '[PAD]', '[PAD]', '[PAD]', '[PAD]', '[PAD]', '[PAD]', '[PAD]', '[PAD]', '[CLS]', '[', 'collins', 'et', 'al', '.', '[SEP]', '[PAD]', '[PAD]', '[PAD]', '[PAD]', '[PAD]', '[PAD]', '[PAD]', '[PAD]', '[PAD]', '[PAD]', '[PAD]', '[PAD]', '[PAD]', '[PAD]', '[PAD]', '[PAD]', '[PAD]', '[PAD]', '[PAD]', '[PAD]', '[PAD]', '[PAD]', '[PAD]', '[PAD]', '[PAD]', '[PAD]', '[PAD]', '[PAD]', '[PAD]', '[PAD]', '[PAD]', '[PAD]', '[PAD]', '[PAD]', '[PAD]', '[PAD]', '[PAD]', '[PAD]', '[PAD]', '[PAD]', '[PAD]', '[PAD]', '[PAD]', '[CLS]', '2005', ']', ',', 'as', 'most', 'muscles', 'are', 'only', 'excited', 'at', 'low', 'levels', '.', '[SEP]', '[PAD]', '[PAD]', '[PAD]', '[PAD]', '[PAD]', '[PAD]', '[PAD]', '[PAD]', '[PAD]', '[PAD]', '[PAD]', '[PAD]', '[PAD]', '[PAD]', '[PAD]', '[PAD]', '[PAD]', '[PAD]', '[PAD]', '[PAD]', '[PAD]', '[PAD]', '[PAD]', '[PAD]', '[PAD]', '[PAD]', '[PAD]', '[PAD]', '[PAD]', '[PAD]', '[PAD]', '[PAD]', '[PAD]', '[PAD]', '[PAD]', '[CLS]', 'the', 'main', 'exceptions', 'are', 'the', 'ta', ',', 'which', 'maintains', 'the', 'length', 'feedback', '(', 'u', 'l', 'ta', ')', 'to', 'avoid', 'toes', '##tub', '##bing', ',', 'and', 'the', 'ham', ',', 'which', 'is', 'activated', 'at', 'late', 'swing', 'phase', 'to', 'prevent', 'the', 'knee', 'from', 'being', 'over', '##ex', '##ten', '##ded', 'before', 'landing', '.', '[SEP]', '[PAD]', '[CLS]', 'the', 'h', '##fl', 'introduces', 'a', 'hip', 'flex', '##ion', 'torque', 'through', 'a', 'length', 'feedback', ',', 'which', 'is', 'suppressed', 'when', 'the', 'ham', 'is', 'stretched', 'in', 'during', 'late', 'swing', '.', '[SEP]', '[PAD]', '[PAD]', '[PAD]', '[PAD]', '[PAD]', '[PAD]', '[PAD]', '[PAD]', '[PAD]', '[PAD]', '[PAD]', '[PAD]', '[PAD]', '[PAD]', '[PAD]', '[PAD]', '[PAD]', '[PAD]', '[PAD]', '[PAD]', '[PAD]', '[CLS]', 'the', 'amount', 'of', 'ex', '##cit', '##ation', 'in', 'the', 'h', '##fl', 'also', 'depends', 'on', 'the', 'value', 'of', 'upper', 'body', 'lean', 'at', 'the', 'beginning', 'of', 'the', 'swing', 'phase', '(', 'i', 'lt', '##o', ')', ':', 'the', 'further', 'the', 'upper', 'body', 'leans', 'forward', 'compared', 'to', 'the', 'reference', 'lean', 'angle', '(', 'i', 'd', '[SEP]', '[CLS]', 'note', 'that', 'i', 'd', 'is', 'the', 'same', 'as', 'the', 'target', 'angle', 'in', 'u', 'i', 'h', '##fl', '.', '[SEP]', '[PAD]', '[PAD]', '[PAD]', '[PAD]', '[PAD]', '[PAD]', '[PAD]', '[PAD]', '[PAD]', '[PAD]', '[PAD]', '[PAD]', '[PAD]', '[PAD]', '[PAD]', '[PAD]', '[PAD]', '[PAD]', '[PAD]', '[PAD]', '[PAD]', '[PAD]', '[PAD]', '[PAD]', '[PAD]', '[PAD]', '[PAD]', '[PAD]', '[PAD]', '[PAD]', '[PAD]']\n",
      "[0 0 0 0 0 0 0 0 0 0 0 0 0 0 0 0 0 0 0 0 0 0 0 0 0 0 0 0 0 0 0 0 0 0 0 0 0\n",
      " 0 0 0 0 0 0 0 0 0 0 0 0 0]\n",
      "[-100    0    0    1    1    1    1    1    1    1    1    1    1    1\n",
      "    1 -100    1    1    1    1    1    1    1    1    1    0 -100 -100\n",
      " -100 -100 -100 -100 -100 -100 -100 -100 -100 -100 -100 -100 -100 -100\n",
      " -100 -100 -100 -100 -100 -100 -100 -100]\n",
      "\n",
      "['[CLS]', 'non', '-', 'constant', 'control', 'laws', 'during', 'the', 'swing', 'phase', 'are', 'as', 'follows', ':', 'the', 'controller', 'enters', 'into', 'the', 'stance', 'preparation', 'when', 'd', 'i', '&', 'lt', ';', 'd', 'i', 'sp', ',', 'where', 'the', 'swing', 'leg', 'enters', 'into', 'a', 'pd', '-', 'control', 'mode', '.', '[SEP]', '[PAD]', '[PAD]', '[PAD]', '[PAD]', '[PAD]', '[PAD]', '[CLS]', 'the', 'g', '##lu', ',', 'h', '##fl', ',', 'and', 'va', '##s', 'work', 'to', 'guide', 'the', 'hip', 'and', 'knee', 'joints', 'toward', 'a', 'desired', 'pose', 'to', 'prepare', 'for', 'ground', 'contact', ':', 'u', 'va', '##s', '=', 'q', 'va', '##s', '+', 'u', 'va', '##s', '[UNK]', 'k', ',', 'u', 'g', '##lu', '=', 'q', 'g', '[SEP]', '[CLS]', 'a', 'single', 'desired', 'hip', 'target', 'angle', '(', '[UNK]', 'h', ')', 'is', 'adjusted', 'according', 'to', 'the', 'sim', '##bic', '##on', 'balance', 'feedback', 'law', '[SEP]', '[PAD]', '[PAD]', '[PAD]', '[PAD]', '[PAD]', '[PAD]', '[PAD]', '[PAD]', '[PAD]', '[PAD]', '[PAD]', '[PAD]', '[PAD]', '[PAD]', '[PAD]', '[PAD]', '[PAD]', '[PAD]', '[PAD]', '[PAD]', '[PAD]', '[PAD]', '[PAD]', '[PAD]', '[PAD]', '[PAD]', '[PAD]', '[CLS]', '[', 'yin', 'et', 'al', '.', '[SEP]', '[PAD]', '[PAD]', '[PAD]', '[PAD]', '[PAD]', '[PAD]', '[PAD]', '[PAD]', '[PAD]', '[PAD]', '[PAD]', '[PAD]', '[PAD]', '[PAD]', '[PAD]', '[PAD]', '[PAD]', '[PAD]', '[PAD]', '[PAD]', '[PAD]', '[PAD]', '[PAD]', '[PAD]', '[PAD]', '[PAD]', '[PAD]', '[PAD]', '[PAD]', '[PAD]', '[PAD]', '[PAD]', '[PAD]', '[PAD]', '[PAD]', '[PAD]', '[PAD]', '[PAD]', '[PAD]', '[PAD]', '[PAD]', '[PAD]', '[PAD]', '[CLS]', '2007', ']', 'and', 'is', 'shared', 'by', 'both', 'the', 'g', '##lu', 'and', 'h', '##fl', '.', '[SEP]', '[PAD]', '[PAD]', '[PAD]', '[PAD]', '[PAD]', '[PAD]', '[PAD]', '[PAD]', '[PAD]', '[PAD]', '[PAD]', '[PAD]', '[PAD]', '[PAD]', '[PAD]', '[PAD]', '[PAD]', '[PAD]', '[PAD]', '[PAD]', '[PAD]', '[PAD]', '[PAD]', '[PAD]', '[PAD]', '[PAD]', '[PAD]', '[PAD]', '[PAD]', '[PAD]', '[PAD]', '[PAD]', '[PAD]', '[PAD]', '[CLS]', 'we', 'found', 'the', 'addition', 'of', 'the', 'stance', 'preparation', 'state', 'to', 'be', 'important', 'for', 'discovering', 'running', 'ga', '##its', '.', '[SEP]', '[PAD]', '[PAD]', '[PAD]', '[PAD]', '[PAD]', '[PAD]', '[PAD]', '[PAD]', '[PAD]', '[PAD]', '[PAD]', '[PAD]', '[PAD]', '[PAD]', '[PAD]', '[PAD]', '[PAD]', '[PAD]', '[PAD]', '[PAD]', '[PAD]', '[PAD]', '[PAD]', '[PAD]', '[PAD]', '[PAD]', '[PAD]', '[PAD]', '[PAD]', '[PAD]', '[CLS]', 'the', 'balance', 'feedback', 'law', 'allows', 'robust', 'control', 'strategies', 'to', 'be', 'found', 'in', 'difficult', 'environments', '(', 'e', '.', 'g', '.', ',', 'being', 'pushed', 'by', 'random', 'forces', ')', '.', '[SEP]', '[PAD]', '[PAD]', '[PAD]', '[PAD]', '[PAD]', '[PAD]', '[PAD]', '[PAD]', '[PAD]', '[PAD]', '[PAD]', '[PAD]', '[PAD]', '[PAD]', '[PAD]', '[PAD]', '[PAD]', '[PAD]', '[PAD]', '[PAD]', '[PAD]', '[CLS]', 'u', 'ta', '=', 'q', 'ta', '+', 'u', 'l', 'ta', ',', 'u', 'ham', '=', 'q', 'ham', '+', 'u', 'ham', 'f', ',', 'u', 'g', '##lu', '=', 'q', 'g', '##lu', '+', 'u', 'f', 'g', '##lu', ',', 'u', 'h', '##fl', '=', 'q', 'h', '##fl', '+', 'u', 'l', 'h', '##fl', 'a', 'u', 'l', '[SEP]']\n",
      "[0 0 0 0 0 0 0 0 0 0 0 0 0 0 0 0 0 0 0 0 0 0 0 0 0 0 0 0 0 0 0 0 0 0 0 0 0\n",
      " 0 0 0 0 0 0 0 0 0 0 0 0 0]\n",
      "[-100    1    1 -100 -100    1    1    1    1    1    1    1 -100 -100\n",
      " -100 -100 -100 -100 -100 -100 -100 -100 -100 -100 -100 -100 -100 -100\n",
      " -100 -100 -100 -100 -100 -100 -100 -100 -100 -100 -100 -100 -100 -100\n",
      " -100 -100 -100 -100 -100 -100 -100 -100]\n",
      "\n",
      "['[CLS]', '<', 'h', '##2', '>', '4', '.', '4', 'out', '-', 'of', '-', 'plane', 'and', 'upper', '##body', 'control', '<', '/', 'h', '##2', '>', '[SEP]', '[PAD]', '[PAD]', '[PAD]', '[PAD]', '[PAD]', '[PAD]', '[PAD]', '[PAD]', '[PAD]', '[PAD]', '[PAD]', '[PAD]', '[PAD]', '[PAD]', '[PAD]', '[PAD]', '[PAD]', '[PAD]', '[PAD]', '[PAD]', '[PAD]', '[PAD]', '[PAD]', '[PAD]', '[PAD]', '[PAD]', '[PAD]', '[CLS]', 'the', 'rest', 'of', 'the', 'do', '##fs', 'are', 'controlled', 'using', 'standard', 'joint', '-', 'space', 'pd', '##con', '##tro', '##ller', '##s', 'with', 'state', '-', 'dependent', 'parameters', '.', '[SEP]', '[PAD]', '[PAD]', '[PAD]', '[PAD]', '[PAD]', '[PAD]', '[PAD]', '[PAD]', '[PAD]', '[PAD]', '[PAD]', '[PAD]', '[PAD]', '[PAD]', '[PAD]', '[PAD]', '[PAD]', '[PAD]', '[PAD]', '[PAD]', '[PAD]', '[PAD]', '[PAD]', '[PAD]', '[CLS]', 'following', 'wang', 'et', 'al', '.', '[SEP]', '[PAD]', '[PAD]', '[PAD]', '[PAD]', '[PAD]', '[PAD]', '[PAD]', '[PAD]', '[PAD]', '[PAD]', '[PAD]', '[PAD]', '[PAD]', '[PAD]', '[PAD]', '[PAD]', '[PAD]', '[PAD]', '[PAD]', '[PAD]', '[PAD]', '[PAD]', '[PAD]', '[PAD]', '[PAD]', '[PAD]', '[PAD]', '[PAD]', '[PAD]', '[PAD]', '[PAD]', '[PAD]', '[PAD]', '[PAD]', '[PAD]', '[PAD]', '[PAD]', '[PAD]', '[PAD]', '[PAD]', '[PAD]', '[PAD]', '[PAD]', '[CLS]', '[', '2010', ']', '[SEP]', '[PAD]', '[PAD]', '[PAD]', '[PAD]', '[PAD]', '[PAD]', '[PAD]', '[PAD]', '[PAD]', '[PAD]', '[PAD]', '[PAD]', '[PAD]', '[PAD]', '[PAD]', '[PAD]', '[PAD]', '[PAD]', '[PAD]', '[PAD]', '[PAD]', '[PAD]', '[PAD]', '[PAD]', '[PAD]', '[PAD]', '[PAD]', '[PAD]', '[PAD]', '[PAD]', '[PAD]', '[PAD]', '[PAD]', '[PAD]', '[PAD]', '[PAD]', '[PAD]', '[PAD]', '[PAD]', '[PAD]', '[PAD]', '[PAD]', '[PAD]', '[PAD]', '[PAD]', '[CLS]', ',', 'the', 'target', 'features', 'for', 'the', 'ankle', 'and', 'hip', 'joints', 'in', 'the', 'corona', '##l', 'plane', 'are', 'the', 'global', 'foot', 'and', 'pe', '##lvis', 'orientation', '##s', ',', 'respectively', '.', '[SEP]', '[PAD]', '[PAD]', '[PAD]', '[PAD]', '[PAD]', '[PAD]', '[PAD]', '[PAD]', '[PAD]', '[PAD]', '[PAD]', '[PAD]', '[PAD]', '[PAD]', '[PAD]', '[PAD]', '[PAD]', '[PAD]', '[PAD]', '[PAD]', '[PAD]', '[CLS]', 'the', 'corona', '##l', 'swing', 'hip', 'target', 'angles', 'follow', 'the', 'same', 'feedback', 'law', 'as', '[UNK]', 'h', '.', '[SEP]', '[PAD]', '[PAD]', '[PAD]', '[PAD]', '[PAD]', '[PAD]', '[PAD]', '[PAD]', '[PAD]', '[PAD]', '[PAD]', '[PAD]', '[PAD]', '[PAD]', '[PAD]', '[PAD]', '[PAD]', '[PAD]', '[PAD]', '[PAD]', '[PAD]', '[PAD]', '[PAD]', '[PAD]', '[PAD]', '[PAD]', '[PAD]', '[PAD]', '[PAD]', '[PAD]', '[PAD]', '[PAD]', '[CLS]', 'additionally', ',', 'we', 'set', 'the', 'toe', 'joint', 'to', 'be', 'a', 'spring', 'with', 'spring', 'constant', 'of', '30', 'nm', '/', 'ra', '##d', ',', 'target', 'angle', '0', ',', 'and', 'no', 'damp', '##ing', '.', '[SEP]', '[PAD]', '[PAD]', '[PAD]', '[PAD]', '[PAD]', '[PAD]', '[PAD]', '[PAD]', '[PAD]', '[PAD]', '[PAD]', '[PAD]', '[PAD]', '[PAD]', '[PAD]', '[PAD]', '[PAD]', '[PAD]', '[CLS]', 'unlike', 'in', 'previous', 'work', ',', 'where', 'a', 'ga', '##it', 'cycle', 'is', 'broken', 'down', 'into', 'four', 'states', ',', 'only', 'two', 'are', 'needed', '(', 'triggered', 'by', 'left', '/', 'right', 'foot', '-', 'strike', ')', 'since', 'do', '##fs', 'with', 'the', 'most', 'complex', 'activities', 'are', 'act', '##uated', 'by', 'muscles', '.', '[SEP]', '[PAD]', '[PAD]', '[PAD]']\n",
      "[0 0 0 0 0 0 0 0 0 0 0 0 0 0 0 0 0 0 0 0 0 0 0 0 0 0 0 0 0 0 0 0 0 0 0 0 0\n",
      " 0 0 0 0 0 0 0 0 0 0 0 0 0]\n",
      "[-100    0    0    0    0    0 -100 -100 -100 -100 -100 -100 -100 -100\n",
      " -100 -100 -100 -100 -100 -100 -100 -100 -100 -100 -100 -100 -100 -100\n",
      " -100 -100 -100 -100 -100 -100 -100 -100 -100 -100 -100 -100 -100 -100\n",
      " -100 -100 -100 -100 -100 -100 -100 -100]\n",
      "\n",
      "['[CLS]', 'our', 'upper', 'body', 'control', 'also', 'largely', 'follows', '[SEP]', '[PAD]', '[PAD]', '[PAD]', '[PAD]', '[PAD]', '[PAD]', '[PAD]', '[PAD]', '[PAD]', '[PAD]', '[PAD]', '[PAD]', '[PAD]', '[PAD]', '[PAD]', '[PAD]', '[PAD]', '[PAD]', '[PAD]', '[PAD]', '[PAD]', '[PAD]', '[PAD]', '[PAD]', '[PAD]', '[PAD]', '[PAD]', '[PAD]', '[PAD]', '[PAD]', '[PAD]', '[PAD]', '[PAD]', '[PAD]', '[PAD]', '[PAD]', '[PAD]', '[PAD]', '[PAD]', '[PAD]', '[PAD]', '[CLS]', 'wang', 'et', 'al', '.', '[SEP]', '[PAD]', '[PAD]', '[PAD]', '[PAD]', '[PAD]', '[PAD]', '[PAD]', '[PAD]', '[PAD]', '[PAD]', '[PAD]', '[PAD]', '[PAD]', '[PAD]', '[PAD]', '[PAD]', '[PAD]', '[PAD]', '[PAD]', '[PAD]', '[PAD]', '[PAD]', '[PAD]', '[PAD]', '[PAD]', '[PAD]', '[PAD]', '[PAD]', '[PAD]', '[PAD]', '[PAD]', '[PAD]', '[PAD]', '[PAD]', '[PAD]', '[PAD]', '[PAD]', '[PAD]', '[PAD]', '[PAD]', '[PAD]', '[PAD]', '[PAD]', '[PAD]', '[CLS]', '[', '2010', ']', '[SEP]', '[PAD]', '[PAD]', '[PAD]', '[PAD]', '[PAD]', '[PAD]', '[PAD]', '[PAD]', '[PAD]', '[PAD]', '[PAD]', '[PAD]', '[PAD]', '[PAD]', '[PAD]', '[PAD]', '[PAD]', '[PAD]', '[PAD]', '[PAD]', '[PAD]', '[PAD]', '[PAD]', '[PAD]', '[PAD]', '[PAD]', '[PAD]', '[PAD]', '[PAD]', '[PAD]', '[PAD]', '[PAD]', '[PAD]', '[PAD]', '[PAD]', '[PAD]', '[PAD]', '[PAD]', '[PAD]', '[PAD]', '[PAD]', '[PAD]', '[PAD]', '[PAD]', '[PAD]', '[CLS]', ',', 'with', 'the', 'exception', 'that', 'the', 'target', 'feature', 'of', 'our', 'back', 'joint', 'in', 'the', 'corona', '##l', 'plane', 'is', 'the', 'global', 'orientation', 'of', 'the', 'torso', 'instead', 'of', 'the', 'local', 'joint', 'angle', 'between', 'the', 'torso', 'and', 'the', 'pe', '##lvis', '.', '[SEP]', '[PAD]', '[PAD]', '[PAD]', '[PAD]', '[PAD]', '[PAD]', '[PAD]', '[PAD]', '[PAD]', '[PAD]', '[CLS]', 'this', 'global', 'target', 'allows', 'our', 'model', 'to', 'better', 'keep', 'the', 'head', 'upright', 'during', 'loco', '##mot', '##ion', '.', '[SEP]', '[PAD]', '[PAD]', '[PAD]', '[PAD]', '[PAD]', '[PAD]', '[PAD]', '[PAD]', '[PAD]', '[PAD]', '[PAD]', '[PAD]', '[PAD]', '[PAD]', '[PAD]', '[PAD]', '[PAD]', '[PAD]', '[PAD]', '[PAD]', '[PAD]', '[PAD]', '[PAD]', '[PAD]', '[PAD]', '[PAD]', '[PAD]', '[PAD]', '[PAD]', '[PAD]', '[PAD]', '[CLS]', 'we', 'fix', 'the', 'spring', 'and', 'damp', '##er', 'constant', '##s', 'for', 'all', 'arm', 'joints', 'to', '30', 'nm', '/', 'ra', '##d', 'and', '3', 'nm', '##s', '/', 'ra', '##d', ',', 'respectively', ',', 'with', 'target', 'angles', 'set', 'to', '0', '.', '[SEP]', '[PAD]', '[PAD]', '[PAD]', '[PAD]', '[PAD]', '[PAD]', '[PAD]', '[PAD]', '[PAD]', '[PAD]', '[PAD]', '[PAD]', '[CLS]', 'we', 'found', 'that', 'more', 'human', '-', 'like', 'arm', 'swing', 'can', 'be', 'generated', 'by', 'relating', 'the', 'elbow', 'and', 'shoulder', 'target', 'angles', 'as', '[UNK]', 's', 'l', '=', 'i', '##±', 'arm', '[UNK]', 'h', 'l', 'a', '[UNK]', 'h', 'r', '+', '[UNK]', 'e', 'd', 'and', 'i', 'l', 's', '=', '[UNK]', 'e', 'd', ',', '[SEP]', '[CLS]', 'this', 'formulation', 'captures', 'the', 'tendency', 'to', 'rotate', 'the', 'shoulder', 'backwards', 'and', 'inward', '##s', 'while', 'bending', 'the', 'elbow', '.', '[SEP]', '[PAD]', '[PAD]', '[PAD]', '[PAD]', '[PAD]', '[PAD]', '[PAD]', '[PAD]', '[PAD]', '[PAD]', '[PAD]', '[PAD]', '[PAD]', '[PAD]', '[PAD]', '[PAD]', '[PAD]', '[PAD]', '[PAD]', '[PAD]', '[PAD]', '[PAD]', '[PAD]', '[PAD]', '[PAD]', '[PAD]', '[PAD]', '[PAD]', '[PAD]', '[PAD]']\n",
      "[0 0 0 0 0 0 0 0 0 0 0 0 0 0 0 0 0 0 0 0 0 0 0 0 0 0 0 0 0 0 0 0 0 0 0 0 0\n",
      " 0 0 0 0 0 0 0 0 0 0 0 0 0]\n",
      "[-100    0    0 -100 -100 -100 -100 -100 -100 -100 -100 -100 -100 -100\n",
      " -100 -100 -100 -100 -100 -100 -100 -100 -100 -100 -100 -100 -100 -100\n",
      " -100 -100 -100 -100 -100 -100 -100 -100 -100 -100 -100 -100 -100 -100\n",
      " -100 -100 -100 -100 -100 -100 -100 -100]\n",
      "\n",
      "['[CLS]', 'the', 'scale', 'constant', 'and', 'the', 'desired', 'elbow', 'angle', 'are', 'among', 'the', 'parameters', 'set', 'by', 'optimization', ',', 'as', 'described', 'in', 'the', 'next', 'section', '.', '[SEP]', '[PAD]', '[PAD]', '[PAD]', '[PAD]', '[PAD]', '[PAD]', '[PAD]', '[PAD]', '[PAD]', '[PAD]', '[PAD]', '[PAD]', '[PAD]', '[PAD]', '[PAD]', '[PAD]', '[PAD]', '[PAD]', '[PAD]', '[PAD]', '[PAD]', '[PAD]', '[PAD]', '[PAD]', '[PAD]', '[CLS]', '<', 'h', '##1', '>', '5', 'optimization', '<', '/', 'h', '##1', '>', '[SEP]', '[PAD]', '[PAD]', '[PAD]', '[PAD]', '[PAD]', '[PAD]', '[PAD]', '[PAD]', '[PAD]', '[PAD]', '[PAD]', '[PAD]', '[PAD]', '[PAD]', '[PAD]', '[PAD]', '[PAD]', '[PAD]', '[PAD]', '[PAD]', '[PAD]', '[PAD]', '[PAD]', '[PAD]', '[PAD]', '[PAD]', '[PAD]', '[PAD]', '[PAD]', '[PAD]', '[PAD]', '[PAD]', '[PAD]', '[PAD]', '[PAD]', '[PAD]', '[PAD]', '[CLS]', 'the', 'control', 'algorithm', 'specified', 'in', 'section', '4', 'has', 'a', 'large', 'number', 'of', 'parameters', ',', 'which', 'we', 'set', 'by', 'optimization', '[SEP]', '[PAD]', '[PAD]', '[PAD]', '[PAD]', '[PAD]', '[PAD]', '[PAD]', '[PAD]', '[PAD]', '[PAD]', '[PAD]', '[PAD]', '[PAD]', '[PAD]', '[PAD]', '[PAD]', '[PAD]', '[PAD]', '[PAD]', '[PAD]', '[PAD]', '[PAD]', '[PAD]', '[PAD]', '[PAD]', '[PAD]', '[PAD]', '[PAD]', '[PAD]', '[CLS]', '[', 'wang', 'et', 'al', '.', '[SEP]', '[PAD]', '[PAD]', '[PAD]', '[PAD]', '[PAD]', '[PAD]', '[PAD]', '[PAD]', '[PAD]', '[PAD]', '[PAD]', '[PAD]', '[PAD]', '[PAD]', '[PAD]', '[PAD]', '[PAD]', '[PAD]', '[PAD]', '[PAD]', '[PAD]', '[PAD]', '[PAD]', '[PAD]', '[PAD]', '[PAD]', '[PAD]', '[PAD]', '[PAD]', '[PAD]', '[PAD]', '[PAD]', '[PAD]', '[PAD]', '[PAD]', '[PAD]', '[PAD]', '[PAD]', '[PAD]', '[PAD]', '[PAD]', '[PAD]', '[PAD]', '[CLS]', '2010', ']', '.', '[SEP]', '[PAD]', '[PAD]', '[PAD]', '[PAD]', '[PAD]', '[PAD]', '[PAD]', '[PAD]', '[PAD]', '[PAD]', '[PAD]', '[PAD]', '[PAD]', '[PAD]', '[PAD]', '[PAD]', '[PAD]', '[PAD]', '[PAD]', '[PAD]', '[PAD]', '[PAD]', '[PAD]', '[PAD]', '[PAD]', '[PAD]', '[PAD]', '[PAD]', '[PAD]', '[PAD]', '[PAD]', '[PAD]', '[PAD]', '[PAD]', '[PAD]', '[PAD]', '[PAD]', '[PAD]', '[PAD]', '[PAD]', '[PAD]', '[PAD]', '[PAD]', '[PAD]', '[PAD]', '[CLS]', 'more', 'specifically', ',', 'each', 'of', 'the', 'u', 'm', 'f', ',', 'u', 'm', 'l', ',', 'and', 'u', 'm', '[UNK]', 'laws', 'have', 'one', ',', 'two', ',', 'and', 'three', 'parameters', ',', 'respectively', '.', '[SEP]', '[PAD]', '[PAD]', '[PAD]', '[PAD]', '[PAD]', '[PAD]', '[PAD]', '[PAD]', '[PAD]', '[PAD]', '[PAD]', '[PAD]', '[PAD]', '[PAD]', '[PAD]', '[PAD]', '[PAD]', '[PAD]', '[CLS]', 'there', 'are', '56', 'parameters', 'in', 'total', '(', '30', 'stance', ',', '26', 'swing', ')', 'for', 'the', 'mt', '##u', 'control', 'laws', '.', '[SEP]', '[PAD]', '[PAD]', '[PAD]', '[PAD]', '[PAD]', '[PAD]', '[PAD]', '[PAD]', '[PAD]', '[PAD]', '[PAD]', '[PAD]', '[PAD]', '[PAD]', '[PAD]', '[PAD]', '[PAD]', '[PAD]', '[PAD]', '[PAD]', '[PAD]', '[PAD]', '[PAD]', '[PAD]', '[PAD]', '[PAD]', '[PAD]', '[PAD]', '[CLS]', 'for', 'the', 'upper', 'body', 'and', 'the', 'non', '-', 'sa', '##git', '##tal', 'do', '##fs', 'in', 'the', 'lower', 'body', ',', 'we', 'opt', '##imi', '##ze', 'the', 'pd', '##con', '##tro', '##l', 'parameters', '(', 'spring', '-', 'damp', '##er', 'constant', '##s', ',', 'target', 'angle', ',', 'balance', 'feedback', ')', 'for', 'all', 'joints', 'except', 'for', 'arms', '[SEP]']\n",
      "[0 0 0 0 0 0 0 0 0 0 0 0 0 0 0 0 0 0 0 0 0 0 0 0 0 0 0 0 0 0 0 0 0 0 0 0 0\n",
      " 0 0 0 0 0 0 0 0 0 0 0 0 0]\n",
      "[-100    0    0    1    1    1    1    1    0 -100 -100 -100 -100 -100\n",
      " -100 -100 -100 -100 -100 -100 -100 -100 -100 -100 -100 -100 -100 -100\n",
      " -100 -100 -100 -100 -100 -100 -100 -100 -100 -100 -100 -100 -100 -100\n",
      " -100 -100 -100 -100 -100 -100 -100 -100]\n",
      "\n",
      "['[CLS]', 'when', 'combined', 'with', '33', 'free', 'parameters', 'describing', 'the', 'initial', 'state', 'of', 'the', 'simulation', ',', '124', 'parameters', '(', 'w', ')', 'fully', 'define', 'a', 'simulated', 'motion', '{', 's', '1', '.', '[SEP]', '[PAD]', '[PAD]', '[PAD]', '[PAD]', '[PAD]', '[PAD]', '[PAD]', '[PAD]', '[PAD]', '[PAD]', '[PAD]', '[PAD]', '[PAD]', '[PAD]', '[PAD]', '[PAD]', '[PAD]', '[PAD]', '[PAD]', '[PAD]', '[CLS]', '.', 's', 't', '}', 'over', 't', 'times', '##te', '##ps', '.', '[SEP]', '[PAD]', '[PAD]', '[PAD]', '[PAD]', '[PAD]', '[PAD]', '[PAD]', '[PAD]', '[PAD]', '[PAD]', '[PAD]', '[PAD]', '[PAD]', '[PAD]', '[PAD]', '[PAD]', '[PAD]', '[PAD]', '[PAD]', '[PAD]', '[PAD]', '[PAD]', '[PAD]', '[PAD]', '[PAD]', '[PAD]', '[PAD]', '[PAD]', '[PAD]', '[PAD]', '[PAD]', '[PAD]', '[PAD]', '[PAD]', '[PAD]', '[PAD]', '[PAD]', '[PAD]', '[CLS]', 'we', 'opt', '##imi', '##ze', 'control', 'parameters', 'and', 'the', 'initial', 'state', 'using', 'co', '##var', '##iance', 'matrix', 'adaptation', '(', 'cm', '##a', ')', '[SEP]', '[PAD]', '[PAD]', '[PAD]', '[PAD]', '[PAD]', '[PAD]', '[PAD]', '[PAD]', '[PAD]', '[PAD]', '[PAD]', '[PAD]', '[PAD]', '[PAD]', '[PAD]', '[PAD]', '[PAD]', '[PAD]', '[PAD]', '[PAD]', '[PAD]', '[PAD]', '[PAD]', '[PAD]', '[PAD]', '[PAD]', '[PAD]', '[PAD]', '[CLS]', '[', 'hansen', '2006', ']', ',', 'with', 'steps', '##ize', 'i', '=', '0', '.', '00', '##5', 'and', '50', 'samples', 'per', 'iteration', '.', '[SEP]', '[PAD]', '[PAD]', '[PAD]', '[PAD]', '[PAD]', '[PAD]', '[PAD]', '[PAD]', '[PAD]', '[PAD]', '[PAD]', '[PAD]', '[PAD]', '[PAD]', '[PAD]', '[PAD]', '[PAD]', '[PAD]', '[PAD]', '[PAD]', '[PAD]', '[PAD]', '[PAD]', '[PAD]', '[PAD]', '[PAD]', '[PAD]', '[PAD]', '[CLS]', 'the', 'optimization', 'aims', 'to', 'maximize', 'the', 'following', 'return', 'function', ':', 't', 'r', '(', 'w', ')', '=', 'r', '(', 's', 't', ')', 'a', 'w', 'e', 'j', 'effort', '.', '[SEP]', '[PAD]', '[PAD]', '[PAD]', '[PAD]', '[PAD]', '[PAD]', '[PAD]', '[PAD]', '[PAD]', '[PAD]', '[PAD]', '[PAD]', '[PAD]', '[PAD]', '[PAD]', '[PAD]', '[PAD]', '[PAD]', '[PAD]', '[PAD]', '[PAD]', '[CLS]', 't', '=', '1', 'here', 'r', 'is', 'a', 'scala', '##r', 'reward', 'function', 'of', 'the', 'current', 'state', 's', 't', ',', 'j', 'effort', 'measures', 'the', 'effort', 'of', 'the', 'synthesized', 'motion', ',', 'and', 'w', 'e', 'is', 'set', 'to', '0', '.', '00', '##4', 'divided', 'by', 'the', 'mass', 'of', 'the', 'model', ',', 'motivated', 'by', '[SEP]', '[CLS]', 'wang', 'et', 'al', '.', '[SEP]', '[PAD]', '[PAD]', '[PAD]', '[PAD]', '[PAD]', '[PAD]', '[PAD]', '[PAD]', '[PAD]', '[PAD]', '[PAD]', '[PAD]', '[PAD]', '[PAD]', '[PAD]', '[PAD]', '[PAD]', '[PAD]', '[PAD]', '[PAD]', '[PAD]', '[PAD]', '[PAD]', '[PAD]', '[PAD]', '[PAD]', '[PAD]', '[PAD]', '[PAD]', '[PAD]', '[PAD]', '[PAD]', '[PAD]', '[PAD]', '[PAD]', '[PAD]', '[PAD]', '[PAD]', '[PAD]', '[PAD]', '[PAD]', '[PAD]', '[PAD]', '[PAD]', '[CLS]', '[', '2010', ']', '.', '[SEP]', '[PAD]', '[PAD]', '[PAD]', '[PAD]', '[PAD]', '[PAD]', '[PAD]', '[PAD]', '[PAD]', '[PAD]', '[PAD]', '[PAD]', '[PAD]', '[PAD]', '[PAD]', '[PAD]', '[PAD]', '[PAD]', '[PAD]', '[PAD]', '[PAD]', '[PAD]', '[PAD]', '[PAD]', '[PAD]', '[PAD]', '[PAD]', '[PAD]', '[PAD]', '[PAD]', '[PAD]', '[PAD]', '[PAD]', '[PAD]', '[PAD]', '[PAD]', '[PAD]', '[PAD]', '[PAD]', '[PAD]', '[PAD]', '[PAD]', '[PAD]', '[PAD]']\n",
      "[0 0 0 0 0 0 0 0 0 0 0 0 0 0 0 0 0 0 0 0 0 0 0 0 0 0 0 0 0 0 0 0 0 0 0 0 0\n",
      " 0 0 0 0 0 0 0 0 0 0 0 0 0]\n",
      "[-100    1    1    1    1 -100 -100 -100    1 -100 -100    1    1    1\n",
      "    1    1    1    1    1    1    1    1    1    1    1    1 -100 -100\n",
      " -100 -100 -100 -100 -100 -100 -100 -100 -100 -100 -100 -100 -100 -100\n",
      " -100 -100 -100 -100 -100 -100 -100 -100]\n",
      "\n"
     ]
    },
    {
     "name": "stderr",
     "output_type": "stream",
     "text": [
      "Iteration:  21%|██        | 880/4153 [02:33<09:29,  5.75it/s]IOPub message rate exceeded.\n",
      "The notebook server will temporarily stop sending output\n",
      "to the client in order to avoid crashing it.\n",
      "To change this limit, set the config variable\n",
      "`--NotebookApp.iopub_msg_rate_limit`.\n",
      "\n",
      "Current values:\n",
      "NotebookApp.iopub_msg_rate_limit=1000.0 (msgs/sec)\n",
      "NotebookApp.rate_limit_window=3.0 (secs)\n",
      "\n",
      "Iteration: 100%|██████████| 4153/4153 [12:04<00:00,  5.88it/s]\n"
     ]
    },
    {
     "name": "stdout",
     "output_type": "stream",
     "text": [
      "['[CLS]', 'g', 'm', 'and', 'h', 'm', 'are', 'free', 'positive', 'parameters', 'and', '{', '}', 'a', '##±', 'means', 'only', 'positive', 'or', 'negative', 'values', '(', '0', 'otherwise', ')', '.', '[SEP]', '[PAD]', '[PAD]', '[PAD]', '[PAD]', '[PAD]', '[PAD]', '[PAD]', '[PAD]', '[PAD]', '[PAD]', '[PAD]', '[PAD]', '[PAD]', '[PAD]', '[PAD]', '[PAD]', '[PAD]', '[PAD]', '[PAD]', '[PAD]', '[PAD]', '[PAD]', '[PAD]', '[CLS]', 'the', 'positive', 'length', 'feedback', 'effectively', 'models', 'a', 'stretch', 'reflex', ',', 'which', 'activate', '##s', 'the', 'muscle', 'when', 'the', 'fiber', 'is', 'stretched', 'beyond', 'a', 'fixed', 'length', '.', '[SEP]', '[PAD]', '[PAD]', '[PAD]', '[PAD]', '[PAD]', '[PAD]', '[PAD]', '[PAD]', '[PAD]', '[PAD]', '[PAD]', '[PAD]', '[PAD]', '[PAD]', '[PAD]', '[PAD]', '[PAD]', '[PAD]', '[PAD]', '[PAD]', '[PAD]', '[PAD]', '[PAD]', '[CLS]', 'u', 'l', 'm', 'is', 'most', 'useful', 'during', 'the', 'swing', 'phase', ',', 'as', 'the', 'ta', 'must', 'be', 'activated', 'to', 'do', '##rs', '##if', '##le', '##x', 'so', 'that', 'toe', '-', 'stu', '##bbing', 'can', 'be', 'avoided', '.', '[SEP]', '[PAD]', '[PAD]', '[PAD]', '[PAD]', '[PAD]', '[PAD]', '[PAD]', '[PAD]', '[PAD]', '[PAD]', '[PAD]', '[PAD]', '[PAD]', '[PAD]', '[PAD]', '[CLS]', 'in', 'addition', ',', 'the', 'h', '##fl', 'relies', 'on', 'length', 'feedback', 'to', 'generate', 'hip', 'flex', '##ion', 'torque', 'during', 'early', 'swing', ',', 'especially', 'during', 'running', '.', '[SEP]', '[PAD]', '[PAD]', '[PAD]', '[PAD]', '[PAD]', '[PAD]', '[PAD]', '[PAD]', '[PAD]', '[PAD]', '[PAD]', '[PAD]', '[PAD]', '[PAD]', '[PAD]', '[PAD]', '[PAD]', '[PAD]', '[PAD]', '[PAD]', '[PAD]', '[PAD]', '[PAD]', '[PAD]', '[CLS]', 'muscle', '-', 'driven', 'pd', 'control', '.', '[SEP]', '[PAD]', '[PAD]', '[PAD]', '[PAD]', '[PAD]', '[PAD]', '[PAD]', '[PAD]', '[PAD]', '[PAD]', '[PAD]', '[PAD]', '[PAD]', '[PAD]', '[PAD]', '[PAD]', '[PAD]', '[PAD]', '[PAD]', '[PAD]', '[PAD]', '[PAD]', '[PAD]', '[PAD]', '[PAD]', '[PAD]', '[PAD]', '[PAD]', '[PAD]', '[PAD]', '[PAD]', '[PAD]', '[PAD]', '[PAD]', '[PAD]', '[PAD]', '[PAD]', '[PAD]', '[PAD]', '[PAD]', '[PAD]', '[PAD]', '[CLS]', 'we', 'also', 'define', 'a', 'muscle', '-', 'driven', 'pd', 'control', 'law', 'with', 'respect', 'to', 'an', 'angular', 'feature', '[UNK]', 'as', 'where', 'k', 'm', ',', 'd', 'm', ',', '[UNK]', 'm', 'are', 'free', 'parameters', 'of', 'the', 'pd', '-', 'controller', '.', '[SEP]', '[PAD]', '[PAD]', '[PAD]', '[PAD]', '[PAD]', '[PAD]', '[PAD]', '[PAD]', '[PAD]', '[PAD]', '[PAD]', '[PAD]', '[CLS]', 'the', 'brace', '##s', 'sign', 'is', 'positive', 'if', 'torque', 'generated', 'by', 'm', 'is', 'in', 'the', 'opposing', 'direction', 'of', '[UNK]', '.', 'g', '.', ',', 'if', 'm', 'is', 'the', 'hip', 'ex', '##tens', '##or', 'and', '[UNK]', 'is', 'the', 'hip', 'flex', '##ion', 'angle', '##aan', '##d', 'negative', 'otherwise', '.', '[SEP]', '[PAD]', '[PAD]', '[PAD]', '[PAD]', '[PAD]', '[CLS]', 'much', 'like', 'the', 'standard', 'torque', '##base', '##d', 'pd', '-', 'controller', ',', 'the', 'muscle', '-', 'driven', 'pd', 'control', 'aims', 'to', 'adjust', '[UNK]', 'towards', 'the', 'target', 'angle', '[UNK]', 'm', 'while', 'damp', '##ing', 'its', 'velocity', '.', '[SEP]', '[PAD]', '[PAD]', '[PAD]', '[PAD]', '[PAD]', '[PAD]', '[PAD]', '[PAD]', '[PAD]', '[PAD]', '[PAD]', '[PAD]', '[PAD]', '[PAD]', '[PAD]']\n",
      "[0 0 0 0 0 0 0 0 0 0 0 0 0 0 0 0 0 0 0 0 0 0 0 0 0 0 0 0 0 0 0 0 0 0 0 0 0\n",
      " 0 0 0 0 0 0 0 0 0 0 0 0 0]\n",
      "[-100    1    1    1 -100    1    1    1    1    1    1    1    1    1\n",
      "    1    1    1    1    1    1 -100 -100    1    1    1    1    0    0\n",
      "    1    1    1    1 -100    1 -100    1    1 -100    1    1    0    0\n",
      "    0    0    0 -100 -100 -100 -100 -100]\n",
      "\n",
      "['[CLS]', 'however', ',', 'unlike', 'the', 'standard', 'pd', '-', 'controller', ',', 'muscles', 'can', 'only', 'activate', 'after', 'a', 'time', '-', 'delay', 'and', 'each', 'muscle', 'can', 'only', 'generate', 'forces', 'to', 'rotate', 'the', 'angular', 'do', '##f', 'in', 'one', 'direction', '.', '[SEP]', '[PAD]', '[PAD]', '[PAD]', '[PAD]', '[PAD]', '[PAD]', '[PAD]', '[PAD]', '[PAD]', '[PAD]', '[PAD]', '[PAD]', '[PAD]', '[CLS]', 'the', 'pd', '-', 'control', 'laws', 'are', 'employed', 'by', 'the', 'hip', 'muscles', 'during', 'the', 'stance', 'phase', 'to', 'maintain', 'the', 'global', 'upper', 'body', 'orientation', ',', 'as', 'well', 'as', 'during', 'stance', 'preparation', 'to', 'prepare', 'for', 'ground', 'contact', '.', '[SEP]', '[PAD]', '[PAD]', '[PAD]', '[PAD]', '[PAD]', '[PAD]', '[PAD]', '[PAD]', '[PAD]', '[PAD]', '[PAD]', '[PAD]', '[PAD]', '[CLS]', 'u', 'm', '[UNK]', '=', 'k', 'm', '(', '[UNK]', '(', 't', 'a', 'at', 'm', ')', 'a', '[UNK]', 'm', ')', '+', 'd', 'm', '[UNK]', '(', 't', 'i', 'a', 'at', 'm', ')', ',', 'a', '##±', '[SEP]', '[PAD]', '[PAD]', '[PAD]', '[PAD]', '[PAD]', '[PAD]', '[PAD]', '[PAD]', '[PAD]', '[PAD]', '[PAD]', '[PAD]', '[PAD]', '[PAD]', '[PAD]', '[PAD]', '[CLS]', '<', 'h', '##2', '>', '4', '.', '2', 'stance', 'phase', '<', '/', 'h', '##2', '>', '[SEP]', '[PAD]', '[PAD]', '[PAD]', '[PAD]', '[PAD]', '[PAD]', '[PAD]', '[PAD]', '[PAD]', '[PAD]', '[PAD]', '[PAD]', '[PAD]', '[PAD]', '[PAD]', '[PAD]', '[PAD]', '[PAD]', '[PAD]', '[PAD]', '[PAD]', '[PAD]', '[PAD]', '[PAD]', '[PAD]', '[PAD]', '[PAD]', '[PAD]', '[PAD]', '[PAD]', '[PAD]', '[PAD]', '[PAD]', '[PAD]', '[CLS]', 'each', 'muscle', 'has', 'an', 'initial', 'constant', 'ex', '##cit', '##ation', ',', 'or', 'pre', '-', 'stimulation', 'value', 'p', 'm', '.', '[SEP]', '[PAD]', '[PAD]', '[PAD]', '[PAD]', '[PAD]', '[PAD]', '[PAD]', '[PAD]', '[PAD]', '[PAD]', '[PAD]', '[PAD]', '[PAD]', '[PAD]', '[PAD]', '[PAD]', '[PAD]', '[PAD]', '[PAD]', '[PAD]', '[PAD]', '[PAD]', '[PAD]', '[PAD]', '[PAD]', '[PAD]', '[PAD]', '[PAD]', '[PAD]', '[PAD]', '[CLS]', 'these', 'values', 'are', 'initial', '##ized', 'close', 'to', 'zero', ',', 'but', 'are', 'then', 'opt', '##imi', '##zed', '.', '[SEP]', '[PAD]', '[PAD]', '[PAD]', '[PAD]', '[PAD]', '[PAD]', '[PAD]', '[PAD]', '[PAD]', '[PAD]', '[PAD]', '[PAD]', '[PAD]', '[PAD]', '[PAD]', '[PAD]', '[PAD]', '[PAD]', '[PAD]', '[PAD]', '[PAD]', '[PAD]', '[PAD]', '[PAD]', '[PAD]', '[PAD]', '[PAD]', '[PAD]', '[PAD]', '[PAD]', '[PAD]', '[PAD]', '[CLS]', 'the', 'sol', 'and', 'gas', 'both', 'rely', 'on', 'positive', 'force', 'feedback', 'and', 'are', 'the', 'main', 'sources', 'of', 'torque', 'during', 'walking', '.', '[SEP]', '[PAD]', '[PAD]', '[PAD]', '[PAD]', '[PAD]', '[PAD]', '[PAD]', '[PAD]', '[PAD]', '[PAD]', '[PAD]', '[PAD]', '[PAD]', '[PAD]', '[PAD]', '[PAD]', '[PAD]', '[PAD]', '[PAD]', '[PAD]', '[PAD]', '[PAD]', '[PAD]', '[PAD]', '[PAD]', '[PAD]', '[PAD]', '[PAD]', '[CLS]', 'the', 'ta', 'ensures', 'foot', 'clearance', 'during', 'swing', 'using', 'a', 'length', 'feedback', '(', 'u', 'l', 'ta', ')', ',', 'but', 'the', 'activation', 'is', 'suppressed', 'during', 'stance', 'in', 'proportion', 'to', 'the', 'current', 'force', 'generated', 'from', 'sol', '.', '[SEP]', '[PAD]', '[PAD]', '[PAD]', '[PAD]', '[PAD]', '[PAD]', '[PAD]', '[PAD]', '[PAD]', '[PAD]', '[PAD]', '[PAD]', '[PAD]', '[PAD]']\n",
      "[0 0 0 0 0 0 0 0 0 0 0 0 0 0 0 0 0 0 0 0 0 0 0 0 0 0 0 0 0 0 0 0 0 0 0 0 0\n",
      " 0 0 0 0 0 0 0 0 0 0 0 0 0]\n",
      "[-100    1    1    1    1    1    1    1    1    1    1    1    1    1\n",
      "    1    1    0 -100 -100 -100 -100 -100 -100 -100 -100 -100 -100 -100\n",
      " -100 -100 -100 -100 -100 -100 -100 -100 -100 -100 -100 -100 -100 -100\n",
      " -100 -100 -100 -100 -100 -100 -100 -100]\n",
      "\n",
      "['[CLS]', 'the', 'suppression', 'allows', 'the', 'generated', 'ta', 'activation', 'patterns', 'to', 'better', 'match', 'human', 'data', 'during', 'loco', '##mot', '##ion', '.', '[SEP]', '[PAD]', '[PAD]', '[PAD]', '[PAD]', '[PAD]', '[PAD]', '[PAD]', '[PAD]', '[PAD]', '[PAD]', '[PAD]', '[PAD]', '[PAD]', '[PAD]', '[PAD]', '[PAD]', '[PAD]', '[PAD]', '[PAD]', '[PAD]', '[PAD]', '[PAD]', '[PAD]', '[PAD]', '[PAD]', '[PAD]', '[PAD]', '[PAD]', '[PAD]', '[PAD]', '[CLS]', 'the', 'force', 'feedback', 'on', 'the', 'va', '##s', 'creates', 'a', 'strong', 'knee', 'extension', 'torque', 'following', 'ground', 'contact', ',', 'but', 'ex', '##cit', '##ation', 'is', 'suppressed', 'when', 'the', 'knee', 'flex', '##ion', 'angle', '(', '[UNK]', 'k', ')', 'is', 'extended', 'below', 'an', 'offset', '(', '[UNK]', 'k', 'off', ')', 'with', 'an', 'extension', 'velocity', '(', '[SEP]', '[CLS]', 'the', 'suppression', 'prevents', 'hyper', '##ex', '##tension', 'of', 'the', 'knee', 'during', 'mid', '-', 'stance', '.', '[SEP]', '[PAD]', '[PAD]', '[PAD]', '[PAD]', '[PAD]', '[PAD]', '[PAD]', '[PAD]', '[PAD]', '[PAD]', '[PAD]', '[PAD]', '[PAD]', '[PAD]', '[PAD]', '[PAD]', '[PAD]', '[PAD]', '[PAD]', '[PAD]', '[PAD]', '[PAD]', '[PAD]', '[PAD]', '[PAD]', '[PAD]', '[PAD]', '[PAD]', '[PAD]', '[PAD]', '[PAD]', '[PAD]', '[PAD]', '[PAD]', '[CLS]', 'using', 'muscle', '-', 'driven', 'pd', 'control', 'laws', ',', 'the', 'ham', ',', 'g', '##lu', ',', 'and', 'h', '##fl', 'are', 'responsible', 'for', 'maintaining', 'the', 'global', 'orientation', 'of', 'the', 'upper', 'body', '(', 'i', ')', ',', 'defined', 'as', 'the', 'vector', 'between', 'the', 'com', 'of', 'the', 'upper', 'body', 'and', 'the', 'com', 'of', 'the', '[SEP]', '[CLS]', 'during', 'double', 'stance', ',', 'these', 'control', 'laws', 'are', 'only', 'active', 'for', 'the', 'leading', 'leg', ',', 'denoted', 'as', 'u', 'i', 'm', 'lead', '.', '[SEP]', '[PAD]', '[PAD]', '[PAD]', '[PAD]', '[PAD]', '[PAD]', '[PAD]', '[PAD]', '[PAD]', '[PAD]', '[PAD]', '[PAD]', '[PAD]', '[PAD]', '[PAD]', '[PAD]', '[PAD]', '[PAD]', '[PAD]', '[PAD]', '[PAD]', '[PAD]', '[PAD]', '[PAD]', '[PAD]', '[PAD]', '[CLS]', 'specifically', ',', 'control', 'laws', 'during', 'the', 'stance', 'phase', 'are', 'as', 'follows', ':', 'towards', 'the', 'end', 'of', 'the', 'stance', 'phase', ',', 'the', 'controller', 'enters', 'into', 'the', 'swing', 'initiation', ',', 'which', 'begins', 'when', 'either', 'the', 'signed', 'horizontal', 'distance', 'between', 'the', 'com', 'and', 'the', 'ankle', 'normal', '##ized', 'by', 'leg', 'length', 'exceeds', '[SEP]', '[CLS]', 'during', 'swing', 'initiation', ',', 'constant', 'ex', '##cit', '##ation', 'values', 'between', '0', 'and', '1', '(', 'set', 'during', 'optimization', ')', 'are', 'added', 'and', 'sub', '##tracted', 'to', 'the', 'va', '##s', ',', 'rf', ',', 'g', '##lu', ',', 'and', 'h', '##fl', ':', 'the', 'combination', 'of', 'h', '##fl', 'and', 'g', '##lu', 'ex', '##cit', '##ations', '[SEP]', '[CLS]', 'two', 'main', 'differences', 'between', 'our', 'stance', 'phase', 'control', 'laws', 'compared', 'to', '[SEP]', '[PAD]', '[PAD]', '[PAD]', '[PAD]', '[PAD]', '[PAD]', '[PAD]', '[PAD]', '[PAD]', '[PAD]', '[PAD]', '[PAD]', '[PAD]', '[PAD]', '[PAD]', '[PAD]', '[PAD]', '[PAD]', '[PAD]', '[PAD]', '[PAD]', '[PAD]', '[PAD]', '[PAD]', '[PAD]', '[PAD]', '[PAD]', '[PAD]', '[PAD]', '[PAD]', '[PAD]', '[PAD]', '[PAD]', '[PAD]', '[PAD]', '[PAD]', '[PAD]']\n",
      "[0 0 0 0 0 0 0 0 0 0 0 0 0 0 0 0 0 0 0 0 0 0 0 0 0 0 0 0 0 0 0 0 0 0 0 0 0\n",
      " 0 0 0 0 0 0 0 0 0 0 0 0 0]\n",
      "[-100    0    0    0    1    1    1    1    1    1    1    1    1    1\n",
      "    1    1    1    1    0 -100 -100 -100 -100 -100 -100 -100 -100 -100\n",
      " -100 -100 -100 -100 -100 -100 -100 -100 -100 -100 -100 -100 -100 -100\n",
      " -100 -100 -100 -100 -100 -100 -100 -100]\n",
      "\n",
      "['[CLS]', 'ge', '##yer', 'and', 'herr', '[', '2010', ']', '[SEP]', '[PAD]', '[PAD]', '[PAD]', '[PAD]', '[PAD]', '[PAD]', '[PAD]', '[PAD]', '[PAD]', '[PAD]', '[PAD]', '[PAD]', '[PAD]', '[PAD]', '[PAD]', '[PAD]', '[PAD]', '[PAD]', '[PAD]', '[PAD]', '[PAD]', '[PAD]', '[PAD]', '[PAD]', '[PAD]', '[PAD]', '[PAD]', '[PAD]', '[PAD]', '[PAD]', '[PAD]', '[PAD]', '[PAD]', '[PAD]', '[PAD]', '[PAD]', '[PAD]', '[PAD]', '[PAD]', '[PAD]', '[PAD]', '[CLS]', 'lie', 'in', 'how', 'the', 'swing', 'initiation', 'state', 'functions', '.', '[SEP]', '[PAD]', '[PAD]', '[PAD]', '[PAD]', '[PAD]', '[PAD]', '[PAD]', '[PAD]', '[PAD]', '[PAD]', '[PAD]', '[PAD]', '[PAD]', '[PAD]', '[PAD]', '[PAD]', '[PAD]', '[PAD]', '[PAD]', '[PAD]', '[PAD]', '[PAD]', '[PAD]', '[PAD]', '[PAD]', '[PAD]', '[PAD]', '[PAD]', '[PAD]', '[PAD]', '[PAD]', '[PAD]', '[PAD]', '[PAD]', '[PAD]', '[PAD]', '[PAD]', '[PAD]', '[PAD]', '[CLS]', 'first', ',', 'for', 'running', 'we', 'found', 'it', 'necessary', 'to', 'enter', 'into', 'swing', 'initiation', 'using', 'the', 'd', 'i', '&', 'gt', ';', 'd', 'i', 'si', 'condition', ',', 'rather', 'than', 'just', 'wait', 'for', 'double', 'stance', '.', '[SEP]', '[PAD]', '[PAD]', '[PAD]', '[PAD]', '[PAD]', '[PAD]', '[PAD]', '[PAD]', '[PAD]', '[PAD]', '[PAD]', '[PAD]', '[PAD]', '[PAD]', '[PAD]', '[CLS]', 'second', ',', 'we', 'found', 'it', 'unnecessary', 'to', 'mod', '##ulate', 'the', 'muscle', '-', 'driven', 'pd', '-', 'control', 'laws', 'in', 'the', 'hip', 'by', 'ground', 'reaction', 'forces', '.', '[SEP]', '[PAD]', '[PAD]', '[PAD]', '[PAD]', '[PAD]', '[PAD]', '[PAD]', '[PAD]', '[PAD]', '[PAD]', '[PAD]', '[PAD]', '[PAD]', '[PAD]', '[PAD]', '[PAD]', '[PAD]', '[PAD]', '[PAD]', '[PAD]', '[PAD]', '[PAD]', '[PAD]', '[CLS]', 'instead', ',', 'the', 'responsibility', 'to', 'maintain', 'upper', 'body', 'orientation', 'is', 'always', 'assigned', 'to', 'the', 'lead', 'leg', '.', '[SEP]', '[PAD]', '[PAD]', '[PAD]', '[PAD]', '[PAD]', '[PAD]', '[PAD]', '[PAD]', '[PAD]', '[PAD]', '[PAD]', '[PAD]', '[PAD]', '[PAD]', '[PAD]', '[PAD]', '[PAD]', '[PAD]', '[PAD]', '[PAD]', '[PAD]', '[PAD]', '[PAD]', '[PAD]', '[PAD]', '[PAD]', '[PAD]', '[PAD]', '[PAD]', '[PAD]', '[PAD]', '[CLS]', 'u', 'sol', '=', 'p', 'sol', '+', 'u', 'sol', 'f', ',', 'u', 'ta', '=', 'p', 'ta', '+', 'u', 'ta', 'l', 'a', 'u', 'f', 'sol', ',', 'u', 'gas', '=', 'p', 'gas', '+', 'u', 'gas', 'f', ',', 'u', 'va', '##s', '=', 'p', 'va', '##s', '+', 'u', 'f', 'va', '##s', '+', 'k', '[SEP]', '[CLS]', 'u', 'va', '##s', '=', 'u', 'va', '##s', 'a', 's', 'va', '##s', ',', 'u', 'rf', '=', 'u', 'rf', '+', 's', 'rf', ',', 'u', 'g', '##lu', '=', 'u', 'g', '##lu', 'a', 's', 'g', '##lu', ',', 'u', 'h', '##fl', '=', 'u', 'h', '##fl', '+', 's', 'h', '##fl', '.', '[SEP]', '[PAD]', '[PAD]', '[PAD]', '[CLS]', '<', 'h', '##2', '>', '4', '.', '3', 'swing', 'phase', '<', '/', 'h', '##2', '>', '[SEP]', '[PAD]', '[PAD]', '[PAD]', '[PAD]', '[PAD]', '[PAD]', '[PAD]', '[PAD]', '[PAD]', '[PAD]', '[PAD]', '[PAD]', '[PAD]', '[PAD]', '[PAD]', '[PAD]', '[PAD]', '[PAD]', '[PAD]', '[PAD]', '[PAD]', '[PAD]', '[PAD]', '[PAD]', '[PAD]', '[PAD]', '[PAD]', '[PAD]', '[PAD]', '[PAD]', '[PAD]', '[PAD]', '[PAD]', '[PAD]']\n",
      "[0 0 0 0 0 0 0 0 0 0 0 0 0 0 0 0 0 0 0 0 0 0 0 0 0 0 0 0 0 0 0 0 0 0 0 0 0\n",
      " 0 0 0 0 0 0 0 0 0 0 0 0 0]\n",
      "[-100    1    1    1    1    1    1    1    1    1    1 -100    0    0\n",
      "    0    0 -100 -100    0    0 -100 -100 -100 -100 -100 -100 -100 -100\n",
      " -100 -100 -100 -100 -100 -100 -100 -100 -100 -100 -100 -100 -100 -100\n",
      " -100 -100 -100 -100 -100 -100 -100 -100]\n",
      "\n",
      "['[CLS]', 'much', 'like', 'in', 'the', 'stance', 'phase', ',', 'each', 'muscle', 'has', 'an', 'initial', 'constant', 'ex', '##cit', '##ation', 'value', '(', 'q', 'm', ')', '.', '[SEP]', '[PAD]', '[PAD]', '[PAD]', '[PAD]', '[PAD]', '[PAD]', '[PAD]', '[PAD]', '[PAD]', '[PAD]', '[PAD]', '[PAD]', '[PAD]', '[PAD]', '[PAD]', '[PAD]', '[PAD]', '[PAD]', '[PAD]', '[PAD]', '[PAD]', '[PAD]', '[PAD]', '[PAD]', '[PAD]', '[PAD]', '[CLS]', 'the', 'leg', 'motion', 'relies', 'significantly', 'on', 'passive', 'dynamics', 'during', 'the', 'swing', 'phase', '[SEP]', '[PAD]', '[PAD]', '[PAD]', '[PAD]', '[PAD]', '[PAD]', '[PAD]', '[PAD]', '[PAD]', '[PAD]', '[PAD]', '[PAD]', '[PAD]', '[PAD]', '[PAD]', '[PAD]', '[PAD]', '[PAD]', '[PAD]', '[PAD]', '[PAD]', '[PAD]', '[PAD]', '[PAD]', '[PAD]', '[PAD]', '[PAD]', '[PAD]', '[PAD]', '[PAD]', '[PAD]', '[PAD]', '[PAD]', '[PAD]', '[PAD]', '[PAD]', '[CLS]', '[', 'collins', 'et', 'al', '.', '[SEP]', '[PAD]', '[PAD]', '[PAD]', '[PAD]', '[PAD]', '[PAD]', '[PAD]', '[PAD]', '[PAD]', '[PAD]', '[PAD]', '[PAD]', '[PAD]', '[PAD]', '[PAD]', '[PAD]', '[PAD]', '[PAD]', '[PAD]', '[PAD]', '[PAD]', '[PAD]', '[PAD]', '[PAD]', '[PAD]', '[PAD]', '[PAD]', '[PAD]', '[PAD]', '[PAD]', '[PAD]', '[PAD]', '[PAD]', '[PAD]', '[PAD]', '[PAD]', '[PAD]', '[PAD]', '[PAD]', '[PAD]', '[PAD]', '[PAD]', '[PAD]', '[CLS]', '2005', ']', ',', 'as', 'most', 'muscles', 'are', 'only', 'excited', 'at', 'low', 'levels', '.', '[SEP]', '[PAD]', '[PAD]', '[PAD]', '[PAD]', '[PAD]', '[PAD]', '[PAD]', '[PAD]', '[PAD]', '[PAD]', '[PAD]', '[PAD]', '[PAD]', '[PAD]', '[PAD]', '[PAD]', '[PAD]', '[PAD]', '[PAD]', '[PAD]', '[PAD]', '[PAD]', '[PAD]', '[PAD]', '[PAD]', '[PAD]', '[PAD]', '[PAD]', '[PAD]', '[PAD]', '[PAD]', '[PAD]', '[PAD]', '[PAD]', '[PAD]', '[CLS]', 'the', 'main', 'exceptions', 'are', 'the', 'ta', ',', 'which', 'maintains', 'the', 'length', 'feedback', '(', 'u', 'l', 'ta', ')', 'to', 'avoid', 'toes', '##tub', '##bing', ',', 'and', 'the', 'ham', ',', 'which', 'is', 'activated', 'at', 'late', 'swing', 'phase', 'to', 'prevent', 'the', 'knee', 'from', 'being', 'over', '##ex', '##ten', '##ded', 'before', 'landing', '.', '[SEP]', '[PAD]', '[CLS]', 'the', 'h', '##fl', 'introduces', 'a', 'hip', 'flex', '##ion', 'torque', 'through', 'a', 'length', 'feedback', ',', 'which', 'is', 'suppressed', 'when', 'the', 'ham', 'is', 'stretched', 'in', 'during', 'late', 'swing', '.', '[SEP]', '[PAD]', '[PAD]', '[PAD]', '[PAD]', '[PAD]', '[PAD]', '[PAD]', '[PAD]', '[PAD]', '[PAD]', '[PAD]', '[PAD]', '[PAD]', '[PAD]', '[PAD]', '[PAD]', '[PAD]', '[PAD]', '[PAD]', '[PAD]', '[PAD]', '[CLS]', 'the', 'amount', 'of', 'ex', '##cit', '##ation', 'in', 'the', 'h', '##fl', 'also', 'depends', 'on', 'the', 'value', 'of', 'upper', 'body', 'lean', 'at', 'the', 'beginning', 'of', 'the', 'swing', 'phase', '(', 'i', 'lt', '##o', ')', ':', 'the', 'further', 'the', 'upper', 'body', 'leans', 'forward', 'compared', 'to', 'the', 'reference', 'lean', 'angle', '(', 'i', 'd', '[SEP]', '[CLS]', 'note', 'that', 'i', 'd', 'is', 'the', 'same', 'as', 'the', 'target', 'angle', 'in', 'u', 'i', 'h', '##fl', '.', '[SEP]', '[PAD]', '[PAD]', '[PAD]', '[PAD]', '[PAD]', '[PAD]', '[PAD]', '[PAD]', '[PAD]', '[PAD]', '[PAD]', '[PAD]', '[PAD]', '[PAD]', '[PAD]', '[PAD]', '[PAD]', '[PAD]', '[PAD]', '[PAD]', '[PAD]', '[PAD]', '[PAD]', '[PAD]', '[PAD]', '[PAD]', '[PAD]', '[PAD]', '[PAD]', '[PAD]', '[PAD]']\n",
      "[0 0 0 0 0 0 0 0 0 0 0 0 0 0 0 0 0 0 0 0 0 0 0 0 0 0 0 0 0 0 0 0 0 0 0 0 0\n",
      " 0 0 0 0 0 0 0 0 0 0 0 0 0]\n",
      "[-100    0    0    1    1    1    1    1    1    1    1    1    1    1\n",
      "    1 -100    1    1    1    1    1    1    1    1    1    0 -100 -100\n",
      " -100 -100 -100 -100 -100 -100 -100 -100 -100 -100 -100 -100 -100 -100\n",
      " -100 -100 -100 -100 -100 -100 -100 -100]\n",
      "\n",
      "['[CLS]', 'non', '-', 'constant', 'control', 'laws', 'during', 'the', 'swing', 'phase', 'are', 'as', 'follows', ':', 'the', 'controller', 'enters', 'into', 'the', 'stance', 'preparation', 'when', 'd', 'i', '&', 'lt', ';', 'd', 'i', 'sp', ',', 'where', 'the', 'swing', 'leg', 'enters', 'into', 'a', 'pd', '-', 'control', 'mode', '.', '[SEP]', '[PAD]', '[PAD]', '[PAD]', '[PAD]', '[PAD]', '[PAD]', '[CLS]', 'the', 'g', '##lu', ',', 'h', '##fl', ',', 'and', 'va', '##s', 'work', 'to', 'guide', 'the', 'hip', 'and', 'knee', 'joints', 'toward', 'a', 'desired', 'pose', 'to', 'prepare', 'for', 'ground', 'contact', ':', 'u', 'va', '##s', '=', 'q', 'va', '##s', '+', 'u', 'va', '##s', '[UNK]', 'k', ',', 'u', 'g', '##lu', '=', 'q', 'g', '[SEP]', '[CLS]', 'a', 'single', 'desired', 'hip', 'target', 'angle', '(', '[UNK]', 'h', ')', 'is', 'adjusted', 'according', 'to', 'the', 'sim', '##bic', '##on', 'balance', 'feedback', 'law', '[SEP]', '[PAD]', '[PAD]', '[PAD]', '[PAD]', '[PAD]', '[PAD]', '[PAD]', '[PAD]', '[PAD]', '[PAD]', '[PAD]', '[PAD]', '[PAD]', '[PAD]', '[PAD]', '[PAD]', '[PAD]', '[PAD]', '[PAD]', '[PAD]', '[PAD]', '[PAD]', '[PAD]', '[PAD]', '[PAD]', '[PAD]', '[PAD]', '[CLS]', '[', 'yin', 'et', 'al', '.', '[SEP]', '[PAD]', '[PAD]', '[PAD]', '[PAD]', '[PAD]', '[PAD]', '[PAD]', '[PAD]', '[PAD]', '[PAD]', '[PAD]', '[PAD]', '[PAD]', '[PAD]', '[PAD]', '[PAD]', '[PAD]', '[PAD]', '[PAD]', '[PAD]', '[PAD]', '[PAD]', '[PAD]', '[PAD]', '[PAD]', '[PAD]', '[PAD]', '[PAD]', '[PAD]', '[PAD]', '[PAD]', '[PAD]', '[PAD]', '[PAD]', '[PAD]', '[PAD]', '[PAD]', '[PAD]', '[PAD]', '[PAD]', '[PAD]', '[PAD]', '[PAD]', '[CLS]', '2007', ']', 'and', 'is', 'shared', 'by', 'both', 'the', 'g', '##lu', 'and', 'h', '##fl', '.', '[SEP]', '[PAD]', '[PAD]', '[PAD]', '[PAD]', '[PAD]', '[PAD]', '[PAD]', '[PAD]', '[PAD]', '[PAD]', '[PAD]', '[PAD]', '[PAD]', '[PAD]', '[PAD]', '[PAD]', '[PAD]', '[PAD]', '[PAD]', '[PAD]', '[PAD]', '[PAD]', '[PAD]', '[PAD]', '[PAD]', '[PAD]', '[PAD]', '[PAD]', '[PAD]', '[PAD]', '[PAD]', '[PAD]', '[PAD]', '[PAD]', '[CLS]', 'we', 'found', 'the', 'addition', 'of', 'the', 'stance', 'preparation', 'state', 'to', 'be', 'important', 'for', 'discovering', 'running', 'ga', '##its', '.', '[SEP]', '[PAD]', '[PAD]', '[PAD]', '[PAD]', '[PAD]', '[PAD]', '[PAD]', '[PAD]', '[PAD]', '[PAD]', '[PAD]', '[PAD]', '[PAD]', '[PAD]', '[PAD]', '[PAD]', '[PAD]', '[PAD]', '[PAD]', '[PAD]', '[PAD]', '[PAD]', '[PAD]', '[PAD]', '[PAD]', '[PAD]', '[PAD]', '[PAD]', '[PAD]', '[PAD]', '[CLS]', 'the', 'balance', 'feedback', 'law', 'allows', 'robust', 'control', 'strategies', 'to', 'be', 'found', 'in', 'difficult', 'environments', '(', 'e', '.', 'g', '.', ',', 'being', 'pushed', 'by', 'random', 'forces', ')', '.', '[SEP]', '[PAD]', '[PAD]', '[PAD]', '[PAD]', '[PAD]', '[PAD]', '[PAD]', '[PAD]', '[PAD]', '[PAD]', '[PAD]', '[PAD]', '[PAD]', '[PAD]', '[PAD]', '[PAD]', '[PAD]', '[PAD]', '[PAD]', '[PAD]', '[PAD]', '[CLS]', 'u', 'ta', '=', 'q', 'ta', '+', 'u', 'l', 'ta', ',', 'u', 'ham', '=', 'q', 'ham', '+', 'u', 'ham', 'f', ',', 'u', 'g', '##lu', '=', 'q', 'g', '##lu', '+', 'u', 'f', 'g', '##lu', ',', 'u', 'h', '##fl', '=', 'q', 'h', '##fl', '+', 'u', 'l', 'h', '##fl', 'a', 'u', 'l', '[SEP]']\n",
      "[0 0 0 0 0 0 0 0 0 0 0 0 0 0 0 0 0 0 0 0 0 0 0 0 0 0 0 0 0 0 0 0 0 0 0 0 0\n",
      " 0 0 0 0 0 0 0 0 0 0 0 0 0]\n",
      "[-100    1    1 -100 -100    1    1    1    1    1    1    1 -100 -100\n",
      " -100 -100 -100 -100 -100 -100 -100 -100 -100 -100 -100 -100 -100 -100\n",
      " -100 -100 -100 -100 -100 -100 -100 -100 -100 -100 -100 -100 -100 -100\n",
      " -100 -100 -100 -100 -100 -100 -100 -100]\n",
      "\n",
      "['[CLS]', '<', 'h', '##2', '>', '4', '.', '4', 'out', '-', 'of', '-', 'plane', 'and', 'upper', '##body', 'control', '<', '/', 'h', '##2', '>', '[SEP]', '[PAD]', '[PAD]', '[PAD]', '[PAD]', '[PAD]', '[PAD]', '[PAD]', '[PAD]', '[PAD]', '[PAD]', '[PAD]', '[PAD]', '[PAD]', '[PAD]', '[PAD]', '[PAD]', '[PAD]', '[PAD]', '[PAD]', '[PAD]', '[PAD]', '[PAD]', '[PAD]', '[PAD]', '[PAD]', '[PAD]', '[PAD]', '[CLS]', 'the', 'rest', 'of', 'the', 'do', '##fs', 'are', 'controlled', 'using', 'standard', 'joint', '-', 'space', 'pd', '##con', '##tro', '##ller', '##s', 'with', 'state', '-', 'dependent', 'parameters', '.', '[SEP]', '[PAD]', '[PAD]', '[PAD]', '[PAD]', '[PAD]', '[PAD]', '[PAD]', '[PAD]', '[PAD]', '[PAD]', '[PAD]', '[PAD]', '[PAD]', '[PAD]', '[PAD]', '[PAD]', '[PAD]', '[PAD]', '[PAD]', '[PAD]', '[PAD]', '[PAD]', '[PAD]', '[PAD]', '[CLS]', 'following', 'wang', 'et', 'al', '.', '[SEP]', '[PAD]', '[PAD]', '[PAD]', '[PAD]', '[PAD]', '[PAD]', '[PAD]', '[PAD]', '[PAD]', '[PAD]', '[PAD]', '[PAD]', '[PAD]', '[PAD]', '[PAD]', '[PAD]', '[PAD]', '[PAD]', '[PAD]', '[PAD]', '[PAD]', '[PAD]', '[PAD]', '[PAD]', '[PAD]', '[PAD]', '[PAD]', '[PAD]', '[PAD]', '[PAD]', '[PAD]', '[PAD]', '[PAD]', '[PAD]', '[PAD]', '[PAD]', '[PAD]', '[PAD]', '[PAD]', '[PAD]', '[PAD]', '[PAD]', '[PAD]', '[CLS]', '[', '2010', ']', '[SEP]', '[PAD]', '[PAD]', '[PAD]', '[PAD]', '[PAD]', '[PAD]', '[PAD]', '[PAD]', '[PAD]', '[PAD]', '[PAD]', '[PAD]', '[PAD]', '[PAD]', '[PAD]', '[PAD]', '[PAD]', '[PAD]', '[PAD]', '[PAD]', '[PAD]', '[PAD]', '[PAD]', '[PAD]', '[PAD]', '[PAD]', '[PAD]', '[PAD]', '[PAD]', '[PAD]', '[PAD]', '[PAD]', '[PAD]', '[PAD]', '[PAD]', '[PAD]', '[PAD]', '[PAD]', '[PAD]', '[PAD]', '[PAD]', '[PAD]', '[PAD]', '[PAD]', '[PAD]', '[CLS]', ',', 'the', 'target', 'features', 'for', 'the', 'ankle', 'and', 'hip', 'joints', 'in', 'the', 'corona', '##l', 'plane', 'are', 'the', 'global', 'foot', 'and', 'pe', '##lvis', 'orientation', '##s', ',', 'respectively', '.', '[SEP]', '[PAD]', '[PAD]', '[PAD]', '[PAD]', '[PAD]', '[PAD]', '[PAD]', '[PAD]', '[PAD]', '[PAD]', '[PAD]', '[PAD]', '[PAD]', '[PAD]', '[PAD]', '[PAD]', '[PAD]', '[PAD]', '[PAD]', '[PAD]', '[PAD]', '[CLS]', 'the', 'corona', '##l', 'swing', 'hip', 'target', 'angles', 'follow', 'the', 'same', 'feedback', 'law', 'as', '[UNK]', 'h', '.', '[SEP]', '[PAD]', '[PAD]', '[PAD]', '[PAD]', '[PAD]', '[PAD]', '[PAD]', '[PAD]', '[PAD]', '[PAD]', '[PAD]', '[PAD]', '[PAD]', '[PAD]', '[PAD]', '[PAD]', '[PAD]', '[PAD]', '[PAD]', '[PAD]', '[PAD]', '[PAD]', '[PAD]', '[PAD]', '[PAD]', '[PAD]', '[PAD]', '[PAD]', '[PAD]', '[PAD]', '[PAD]', '[PAD]', '[CLS]', 'additionally', ',', 'we', 'set', 'the', 'toe', 'joint', 'to', 'be', 'a', 'spring', 'with', 'spring', 'constant', 'of', '30', 'nm', '/', 'ra', '##d', ',', 'target', 'angle', '0', ',', 'and', 'no', 'damp', '##ing', '.', '[SEP]', '[PAD]', '[PAD]', '[PAD]', '[PAD]', '[PAD]', '[PAD]', '[PAD]', '[PAD]', '[PAD]', '[PAD]', '[PAD]', '[PAD]', '[PAD]', '[PAD]', '[PAD]', '[PAD]', '[PAD]', '[PAD]', '[CLS]', 'unlike', 'in', 'previous', 'work', ',', 'where', 'a', 'ga', '##it', 'cycle', 'is', 'broken', 'down', 'into', 'four', 'states', ',', 'only', 'two', 'are', 'needed', '(', 'triggered', 'by', 'left', '/', 'right', 'foot', '-', 'strike', ')', 'since', 'do', '##fs', 'with', 'the', 'most', 'complex', 'activities', 'are', 'act', '##uated', 'by', 'muscles', '.', '[SEP]', '[PAD]', '[PAD]', '[PAD]']\n",
      "[0 0 0 0 0 0 0 0 0 0 0 0 0 0 0 0 0 0 0 0 0 0 0 0 0 0 0 0 0 0 0 0 0 0 0 0 0\n",
      " 0 0 0 0 0 0 0 0 0 0 0 0 0]\n",
      "[-100    0    0    0    0    0 -100 -100 -100 -100 -100 -100 -100 -100\n",
      " -100 -100 -100 -100 -100 -100 -100 -100 -100 -100 -100 -100 -100 -100\n",
      " -100 -100 -100 -100 -100 -100 -100 -100 -100 -100 -100 -100 -100 -100\n",
      " -100 -100 -100 -100 -100 -100 -100 -100]\n",
      "\n",
      "['[CLS]', 'our', 'upper', 'body', 'control', 'also', 'largely', 'follows', '[SEP]', '[PAD]', '[PAD]', '[PAD]', '[PAD]', '[PAD]', '[PAD]', '[PAD]', '[PAD]', '[PAD]', '[PAD]', '[PAD]', '[PAD]', '[PAD]', '[PAD]', '[PAD]', '[PAD]', '[PAD]', '[PAD]', '[PAD]', '[PAD]', '[PAD]', '[PAD]', '[PAD]', '[PAD]', '[PAD]', '[PAD]', '[PAD]', '[PAD]', '[PAD]', '[PAD]', '[PAD]', '[PAD]', '[PAD]', '[PAD]', '[PAD]', '[PAD]', '[PAD]', '[PAD]', '[PAD]', '[PAD]', '[PAD]', '[CLS]', 'wang', 'et', 'al', '.', '[SEP]', '[PAD]', '[PAD]', '[PAD]', '[PAD]', '[PAD]', '[PAD]', '[PAD]', '[PAD]', '[PAD]', '[PAD]', '[PAD]', '[PAD]', '[PAD]', '[PAD]', '[PAD]', '[PAD]', '[PAD]', '[PAD]', '[PAD]', '[PAD]', '[PAD]', '[PAD]', '[PAD]', '[PAD]', '[PAD]', '[PAD]', '[PAD]', '[PAD]', '[PAD]', '[PAD]', '[PAD]', '[PAD]', '[PAD]', '[PAD]', '[PAD]', '[PAD]', '[PAD]', '[PAD]', '[PAD]', '[PAD]', '[PAD]', '[PAD]', '[PAD]', '[PAD]', '[CLS]', '[', '2010', ']', '[SEP]', '[PAD]', '[PAD]', '[PAD]', '[PAD]', '[PAD]', '[PAD]', '[PAD]', '[PAD]', '[PAD]', '[PAD]', '[PAD]', '[PAD]', '[PAD]', '[PAD]', '[PAD]', '[PAD]', '[PAD]', '[PAD]', '[PAD]', '[PAD]', '[PAD]', '[PAD]', '[PAD]', '[PAD]', '[PAD]', '[PAD]', '[PAD]', '[PAD]', '[PAD]', '[PAD]', '[PAD]', '[PAD]', '[PAD]', '[PAD]', '[PAD]', '[PAD]', '[PAD]', '[PAD]', '[PAD]', '[PAD]', '[PAD]', '[PAD]', '[PAD]', '[PAD]', '[PAD]', '[CLS]', ',', 'with', 'the', 'exception', 'that', 'the', 'target', 'feature', 'of', 'our', 'back', 'joint', 'in', 'the', 'corona', '##l', 'plane', 'is', 'the', 'global', 'orientation', 'of', 'the', 'torso', 'instead', 'of', 'the', 'local', 'joint', 'angle', 'between', 'the', 'torso', 'and', 'the', 'pe', '##lvis', '.', '[SEP]', '[PAD]', '[PAD]', '[PAD]', '[PAD]', '[PAD]', '[PAD]', '[PAD]', '[PAD]', '[PAD]', '[PAD]', '[CLS]', 'this', 'global', 'target', 'allows', 'our', 'model', 'to', 'better', 'keep', 'the', 'head', 'upright', 'during', 'loco', '##mot', '##ion', '.', '[SEP]', '[PAD]', '[PAD]', '[PAD]', '[PAD]', '[PAD]', '[PAD]', '[PAD]', '[PAD]', '[PAD]', '[PAD]', '[PAD]', '[PAD]', '[PAD]', '[PAD]', '[PAD]', '[PAD]', '[PAD]', '[PAD]', '[PAD]', '[PAD]', '[PAD]', '[PAD]', '[PAD]', '[PAD]', '[PAD]', '[PAD]', '[PAD]', '[PAD]', '[PAD]', '[PAD]', '[PAD]', '[CLS]', 'we', 'fix', 'the', 'spring', 'and', 'damp', '##er', 'constant', '##s', 'for', 'all', 'arm', 'joints', 'to', '30', 'nm', '/', 'ra', '##d', 'and', '3', 'nm', '##s', '/', 'ra', '##d', ',', 'respectively', ',', 'with', 'target', 'angles', 'set', 'to', '0', '.', '[SEP]', '[PAD]', '[PAD]', '[PAD]', '[PAD]', '[PAD]', '[PAD]', '[PAD]', '[PAD]', '[PAD]', '[PAD]', '[PAD]', '[PAD]', '[CLS]', 'we', 'found', 'that', 'more', 'human', '-', 'like', 'arm', 'swing', 'can', 'be', 'generated', 'by', 'relating', 'the', 'elbow', 'and', 'shoulder', 'target', 'angles', 'as', '[UNK]', 's', 'l', '=', 'i', '##±', 'arm', '[UNK]', 'h', 'l', 'a', '[UNK]', 'h', 'r', '+', '[UNK]', 'e', 'd', 'and', 'i', 'l', 's', '=', '[UNK]', 'e', 'd', ',', '[SEP]', '[CLS]', 'this', 'formulation', 'captures', 'the', 'tendency', 'to', 'rotate', 'the', 'shoulder', 'backwards', 'and', 'inward', '##s', 'while', 'bending', 'the', 'elbow', '.', '[SEP]', '[PAD]', '[PAD]', '[PAD]', '[PAD]', '[PAD]', '[PAD]', '[PAD]', '[PAD]', '[PAD]', '[PAD]', '[PAD]', '[PAD]', '[PAD]', '[PAD]', '[PAD]', '[PAD]', '[PAD]', '[PAD]', '[PAD]', '[PAD]', '[PAD]', '[PAD]', '[PAD]', '[PAD]', '[PAD]', '[PAD]', '[PAD]', '[PAD]', '[PAD]', '[PAD]']\n",
      "[0 0 0 0 0 0 0 0 0 0 0 0 0 0 0 0 0 0 0 0 0 0 0 0 0 0 0 0 0 0 0 0 0 0 0 0 0\n",
      " 0 0 0 0 0 0 0 0 0 0 0 0 0]\n",
      "[-100    0    0 -100 -100 -100 -100 -100 -100 -100 -100 -100 -100 -100\n",
      " -100 -100 -100 -100 -100 -100 -100 -100 -100 -100 -100 -100 -100 -100\n",
      " -100 -100 -100 -100 -100 -100 -100 -100 -100 -100 -100 -100 -100 -100\n",
      " -100 -100 -100 -100 -100 -100 -100 -100]\n",
      "\n",
      "['[CLS]', 'the', 'scale', 'constant', 'and', 'the', 'desired', 'elbow', 'angle', 'are', 'among', 'the', 'parameters', 'set', 'by', 'optimization', ',', 'as', 'described', 'in', 'the', 'next', 'section', '.', '[SEP]', '[PAD]', '[PAD]', '[PAD]', '[PAD]', '[PAD]', '[PAD]', '[PAD]', '[PAD]', '[PAD]', '[PAD]', '[PAD]', '[PAD]', '[PAD]', '[PAD]', '[PAD]', '[PAD]', '[PAD]', '[PAD]', '[PAD]', '[PAD]', '[PAD]', '[PAD]', '[PAD]', '[PAD]', '[PAD]', '[CLS]', '<', 'h', '##1', '>', '5', 'optimization', '<', '/', 'h', '##1', '>', '[SEP]', '[PAD]', '[PAD]', '[PAD]', '[PAD]', '[PAD]', '[PAD]', '[PAD]', '[PAD]', '[PAD]', '[PAD]', '[PAD]', '[PAD]', '[PAD]', '[PAD]', '[PAD]', '[PAD]', '[PAD]', '[PAD]', '[PAD]', '[PAD]', '[PAD]', '[PAD]', '[PAD]', '[PAD]', '[PAD]', '[PAD]', '[PAD]', '[PAD]', '[PAD]', '[PAD]', '[PAD]', '[PAD]', '[PAD]', '[PAD]', '[PAD]', '[PAD]', '[PAD]', '[CLS]', 'the', 'control', 'algorithm', 'specified', 'in', 'section', '4', 'has', 'a', 'large', 'number', 'of', 'parameters', ',', 'which', 'we', 'set', 'by', 'optimization', '[SEP]', '[PAD]', '[PAD]', '[PAD]', '[PAD]', '[PAD]', '[PAD]', '[PAD]', '[PAD]', '[PAD]', '[PAD]', '[PAD]', '[PAD]', '[PAD]', '[PAD]', '[PAD]', '[PAD]', '[PAD]', '[PAD]', '[PAD]', '[PAD]', '[PAD]', '[PAD]', '[PAD]', '[PAD]', '[PAD]', '[PAD]', '[PAD]', '[PAD]', '[PAD]', '[CLS]', '[', 'wang', 'et', 'al', '.', '[SEP]', '[PAD]', '[PAD]', '[PAD]', '[PAD]', '[PAD]', '[PAD]', '[PAD]', '[PAD]', '[PAD]', '[PAD]', '[PAD]', '[PAD]', '[PAD]', '[PAD]', '[PAD]', '[PAD]', '[PAD]', '[PAD]', '[PAD]', '[PAD]', '[PAD]', '[PAD]', '[PAD]', '[PAD]', '[PAD]', '[PAD]', '[PAD]', '[PAD]', '[PAD]', '[PAD]', '[PAD]', '[PAD]', '[PAD]', '[PAD]', '[PAD]', '[PAD]', '[PAD]', '[PAD]', '[PAD]', '[PAD]', '[PAD]', '[PAD]', '[PAD]', '[CLS]', '2010', ']', '.', '[SEP]', '[PAD]', '[PAD]', '[PAD]', '[PAD]', '[PAD]', '[PAD]', '[PAD]', '[PAD]', '[PAD]', '[PAD]', '[PAD]', '[PAD]', '[PAD]', '[PAD]', '[PAD]', '[PAD]', '[PAD]', '[PAD]', '[PAD]', '[PAD]', '[PAD]', '[PAD]', '[PAD]', '[PAD]', '[PAD]', '[PAD]', '[PAD]', '[PAD]', '[PAD]', '[PAD]', '[PAD]', '[PAD]', '[PAD]', '[PAD]', '[PAD]', '[PAD]', '[PAD]', '[PAD]', '[PAD]', '[PAD]', '[PAD]', '[PAD]', '[PAD]', '[PAD]', '[PAD]', '[CLS]', 'more', 'specifically', ',', 'each', 'of', 'the', 'u', 'm', 'f', ',', 'u', 'm', 'l', ',', 'and', 'u', 'm', '[UNK]', 'laws', 'have', 'one', ',', 'two', ',', 'and', 'three', 'parameters', ',', 'respectively', '.', '[SEP]', '[PAD]', '[PAD]', '[PAD]', '[PAD]', '[PAD]', '[PAD]', '[PAD]', '[PAD]', '[PAD]', '[PAD]', '[PAD]', '[PAD]', '[PAD]', '[PAD]', '[PAD]', '[PAD]', '[PAD]', '[PAD]', '[CLS]', 'there', 'are', '56', 'parameters', 'in', 'total', '(', '30', 'stance', ',', '26', 'swing', ')', 'for', 'the', 'mt', '##u', 'control', 'laws', '.', '[SEP]', '[PAD]', '[PAD]', '[PAD]', '[PAD]', '[PAD]', '[PAD]', '[PAD]', '[PAD]', '[PAD]', '[PAD]', '[PAD]', '[PAD]', '[PAD]', '[PAD]', '[PAD]', '[PAD]', '[PAD]', '[PAD]', '[PAD]', '[PAD]', '[PAD]', '[PAD]', '[PAD]', '[PAD]', '[PAD]', '[PAD]', '[PAD]', '[PAD]', '[CLS]', 'for', 'the', 'upper', 'body', 'and', 'the', 'non', '-', 'sa', '##git', '##tal', 'do', '##fs', 'in', 'the', 'lower', 'body', ',', 'we', 'opt', '##imi', '##ze', 'the', 'pd', '##con', '##tro', '##l', 'parameters', '(', 'spring', '-', 'damp', '##er', 'constant', '##s', ',', 'target', 'angle', ',', 'balance', 'feedback', ')', 'for', 'all', 'joints', 'except', 'for', 'arms', '[SEP]']\n",
      "[0 0 0 0 0 0 0 0 0 0 0 0 0 0 0 0 0 0 0 0 0 0 0 0 0 0 0 0 0 0 0 0 0 0 0 0 0\n",
      " 0 0 0 0 0 0 0 0 0 0 0 0 0]\n",
      "[-100    0    0    1    1    1    1    1    0 -100 -100 -100 -100 -100\n",
      " -100 -100 -100 -100 -100 -100 -100 -100 -100 -100 -100 -100 -100 -100\n",
      " -100 -100 -100 -100 -100 -100 -100 -100 -100 -100 -100 -100 -100 -100\n",
      " -100 -100 -100 -100 -100 -100 -100 -100]\n",
      "\n",
      "['[CLS]', 'when', 'combined', 'with', '33', 'free', 'parameters', 'describing', 'the', 'initial', 'state', 'of', 'the', 'simulation', ',', '124', 'parameters', '(', 'w', ')', 'fully', 'define', 'a', 'simulated', 'motion', '{', 's', '1', '.', '[SEP]', '[PAD]', '[PAD]', '[PAD]', '[PAD]', '[PAD]', '[PAD]', '[PAD]', '[PAD]', '[PAD]', '[PAD]', '[PAD]', '[PAD]', '[PAD]', '[PAD]', '[PAD]', '[PAD]', '[PAD]', '[PAD]', '[PAD]', '[PAD]', '[CLS]', '.', 's', 't', '}', 'over', 't', 'times', '##te', '##ps', '.', '[SEP]', '[PAD]', '[PAD]', '[PAD]', '[PAD]', '[PAD]', '[PAD]', '[PAD]', '[PAD]', '[PAD]', '[PAD]', '[PAD]', '[PAD]', '[PAD]', '[PAD]', '[PAD]', '[PAD]', '[PAD]', '[PAD]', '[PAD]', '[PAD]', '[PAD]', '[PAD]', '[PAD]', '[PAD]', '[PAD]', '[PAD]', '[PAD]', '[PAD]', '[PAD]', '[PAD]', '[PAD]', '[PAD]', '[PAD]', '[PAD]', '[PAD]', '[PAD]', '[PAD]', '[PAD]', '[CLS]', 'we', 'opt', '##imi', '##ze', 'control', 'parameters', 'and', 'the', 'initial', 'state', 'using', 'co', '##var', '##iance', 'matrix', 'adaptation', '(', 'cm', '##a', ')', '[SEP]', '[PAD]', '[PAD]', '[PAD]', '[PAD]', '[PAD]', '[PAD]', '[PAD]', '[PAD]', '[PAD]', '[PAD]', '[PAD]', '[PAD]', '[PAD]', '[PAD]', '[PAD]', '[PAD]', '[PAD]', '[PAD]', '[PAD]', '[PAD]', '[PAD]', '[PAD]', '[PAD]', '[PAD]', '[PAD]', '[PAD]', '[PAD]', '[PAD]', '[CLS]', '[', 'hansen', '2006', ']', ',', 'with', 'steps', '##ize', 'i', '=', '0', '.', '00', '##5', 'and', '50', 'samples', 'per', 'iteration', '.', '[SEP]', '[PAD]', '[PAD]', '[PAD]', '[PAD]', '[PAD]', '[PAD]', '[PAD]', '[PAD]', '[PAD]', '[PAD]', '[PAD]', '[PAD]', '[PAD]', '[PAD]', '[PAD]', '[PAD]', '[PAD]', '[PAD]', '[PAD]', '[PAD]', '[PAD]', '[PAD]', '[PAD]', '[PAD]', '[PAD]', '[PAD]', '[PAD]', '[PAD]', '[CLS]', 'the', 'optimization', 'aims', 'to', 'maximize', 'the', 'following', 'return', 'function', ':', 't', 'r', '(', 'w', ')', '=', 'r', '(', 's', 't', ')', 'a', 'w', 'e', 'j', 'effort', '.', '[SEP]', '[PAD]', '[PAD]', '[PAD]', '[PAD]', '[PAD]', '[PAD]', '[PAD]', '[PAD]', '[PAD]', '[PAD]', '[PAD]', '[PAD]', '[PAD]', '[PAD]', '[PAD]', '[PAD]', '[PAD]', '[PAD]', '[PAD]', '[PAD]', '[PAD]', '[CLS]', 't', '=', '1', 'here', 'r', 'is', 'a', 'scala', '##r', 'reward', 'function', 'of', 'the', 'current', 'state', 's', 't', ',', 'j', 'effort', 'measures', 'the', 'effort', 'of', 'the', 'synthesized', 'motion', ',', 'and', 'w', 'e', 'is', 'set', 'to', '0', '.', '00', '##4', 'divided', 'by', 'the', 'mass', 'of', 'the', 'model', ',', 'motivated', 'by', '[SEP]', '[CLS]', 'wang', 'et', 'al', '.', '[SEP]', '[PAD]', '[PAD]', '[PAD]', '[PAD]', '[PAD]', '[PAD]', '[PAD]', '[PAD]', '[PAD]', '[PAD]', '[PAD]', '[PAD]', '[PAD]', '[PAD]', '[PAD]', '[PAD]', '[PAD]', '[PAD]', '[PAD]', '[PAD]', '[PAD]', '[PAD]', '[PAD]', '[PAD]', '[PAD]', '[PAD]', '[PAD]', '[PAD]', '[PAD]', '[PAD]', '[PAD]', '[PAD]', '[PAD]', '[PAD]', '[PAD]', '[PAD]', '[PAD]', '[PAD]', '[PAD]', '[PAD]', '[PAD]', '[PAD]', '[PAD]', '[PAD]', '[CLS]', '[', '2010', ']', '.', '[SEP]', '[PAD]', '[PAD]', '[PAD]', '[PAD]', '[PAD]', '[PAD]', '[PAD]', '[PAD]', '[PAD]', '[PAD]', '[PAD]', '[PAD]', '[PAD]', '[PAD]', '[PAD]', '[PAD]', '[PAD]', '[PAD]', '[PAD]', '[PAD]', '[PAD]', '[PAD]', '[PAD]', '[PAD]', '[PAD]', '[PAD]', '[PAD]', '[PAD]', '[PAD]', '[PAD]', '[PAD]', '[PAD]', '[PAD]', '[PAD]', '[PAD]', '[PAD]', '[PAD]', '[PAD]', '[PAD]', '[PAD]', '[PAD]', '[PAD]', '[PAD]', '[PAD]']\n",
      "[0 0 0 0 0 0 0 0 0 0 0 0 0 0 0 0 0 0 0 0 0 0 0 0 0 0 0 0 0 0 0 0 0 0 0 0 0\n",
      " 0 0 0 0 0 0 0 0 0 0 0 0 0]\n",
      "[-100    1    1    1    1 -100 -100 -100    1 -100 -100    1    1    1\n",
      "    1    1    1    1    1    1    1    1    1    1    1    1 -100 -100\n",
      " -100 -100 -100 -100 -100 -100 -100 -100 -100 -100 -100 -100 -100 -100\n",
      " -100 -100 -100 -100 -100 -100 -100 -100]\n",
      "\n"
     ]
    }
   ],
   "source": [
    "#train_dataset = load_and_cache_examples(tokenizer, labels, pad_token_label_id, mode=\"train\")\n",
    "with torch.cuda.device(n_gpu):\n",
    "    global_step, train_loss_timeline, dev_loss_timeline = train(train_dataset, model, tokenizer, labels, pad_token_label_id, dev_dataloader)\n"
   ]
  },
  {
   "cell_type": "code",
   "execution_count": 77,
   "metadata": {},
   "outputs": [
    {
     "name": "stdout",
     "output_type": "stream",
     "text": [
      "['[CLS]', 'g', 'm', 'and', 'h', 'm', 'are', 'free', 'positive', 'parameters', 'and', '{', '}', 'a', '##±', 'means', 'only', 'positive', 'or', 'negative', 'values', '(', '0', 'otherwise', ')', '.', '[SEP]', '[PAD]', '[PAD]', '[PAD]', '[PAD]', '[PAD]', '[PAD]', '[PAD]', '[PAD]', '[PAD]', '[PAD]', '[PAD]', '[PAD]', '[PAD]', '[PAD]', '[PAD]', '[PAD]', '[PAD]', '[PAD]', '[PAD]', '[PAD]', '[PAD]', '[PAD]', '[PAD]', '[CLS]', 'the', 'positive', 'length', 'feedback', 'effectively', 'models', 'a', 'stretch', 'reflex', ',', 'which', 'activate', '##s', 'the', 'muscle', 'when', 'the', 'fiber', 'is', 'stretched', 'beyond', 'a', 'fixed', 'length', '.', '[SEP]', '[PAD]', '[PAD]', '[PAD]', '[PAD]', '[PAD]', '[PAD]', '[PAD]', '[PAD]', '[PAD]', '[PAD]', '[PAD]', '[PAD]', '[PAD]', '[PAD]', '[PAD]', '[PAD]', '[PAD]', '[PAD]', '[PAD]', '[PAD]', '[PAD]', '[PAD]', '[PAD]', '[CLS]', 'u', 'l', 'm', 'is', 'most', 'useful', 'during', 'the', 'swing', 'phase', ',', 'as', 'the', 'ta', 'must', 'be', 'activated', 'to', 'do', '##rs', '##if', '##le', '##x', 'so', 'that', 'toe', '-', 'stu', '##bbing', 'can', 'be', 'avoided', '.', '[SEP]', '[PAD]', '[PAD]', '[PAD]', '[PAD]', '[PAD]', '[PAD]', '[PAD]', '[PAD]', '[PAD]', '[PAD]', '[PAD]', '[PAD]', '[PAD]', '[PAD]', '[PAD]', '[CLS]', 'in', 'addition', ',', 'the', 'h', '##fl', 'relies', 'on', 'length', 'feedback', 'to', 'generate', 'hip', 'flex', '##ion', 'torque', 'during', 'early', 'swing', ',', 'especially', 'during', 'running', '.', '[SEP]', '[PAD]', '[PAD]', '[PAD]', '[PAD]', '[PAD]', '[PAD]', '[PAD]', '[PAD]', '[PAD]', '[PAD]', '[PAD]', '[PAD]', '[PAD]', '[PAD]', '[PAD]', '[PAD]', '[PAD]', '[PAD]', '[PAD]', '[PAD]', '[PAD]', '[PAD]', '[PAD]', '[PAD]', '[CLS]', 'muscle', '-', 'driven', 'pd', 'control', '.', '[SEP]', '[PAD]', '[PAD]', '[PAD]', '[PAD]', '[PAD]', '[PAD]', '[PAD]', '[PAD]', '[PAD]', '[PAD]', '[PAD]', '[PAD]', '[PAD]', '[PAD]', '[PAD]', '[PAD]', '[PAD]', '[PAD]', '[PAD]', '[PAD]', '[PAD]', '[PAD]', '[PAD]', '[PAD]', '[PAD]', '[PAD]', '[PAD]', '[PAD]', '[PAD]', '[PAD]', '[PAD]', '[PAD]', '[PAD]', '[PAD]', '[PAD]', '[PAD]', '[PAD]', '[PAD]', '[PAD]', '[PAD]', '[PAD]', '[PAD]', '[CLS]', 'we', 'also', 'define', 'a', 'muscle', '-', 'driven', 'pd', 'control', 'law', 'with', 'respect', 'to', 'an', 'angular', 'feature', '[UNK]', 'as', 'where', 'k', 'm', ',', 'd', 'm', ',', '[UNK]', 'm', 'are', 'free', 'parameters', 'of', 'the', 'pd', '-', 'controller', '.', '[SEP]', '[PAD]', '[PAD]', '[PAD]', '[PAD]', '[PAD]', '[PAD]', '[PAD]', '[PAD]', '[PAD]', '[PAD]', '[PAD]', '[PAD]', '[CLS]', 'the', 'brace', '##s', 'sign', 'is', 'positive', 'if', 'torque', 'generated', 'by', 'm', 'is', 'in', 'the', 'opposing', 'direction', 'of', '[UNK]', '.', 'g', '.', ',', 'if', 'm', 'is', 'the', 'hip', 'ex', '##tens', '##or', 'and', '[UNK]', 'is', 'the', 'hip', 'flex', '##ion', 'angle', '##aan', '##d', 'negative', 'otherwise', '.', '[SEP]', '[PAD]', '[PAD]', '[PAD]', '[PAD]', '[PAD]', '[CLS]', 'much', 'like', 'the', 'standard', 'torque', '##base', '##d', 'pd', '-', 'controller', ',', 'the', 'muscle', '-', 'driven', 'pd', 'control', 'aims', 'to', 'adjust', '[UNK]', 'towards', 'the', 'target', 'angle', '[UNK]', 'm', 'while', 'damp', '##ing', 'its', 'velocity', '.', '[SEP]', '[PAD]', '[PAD]', '[PAD]', '[PAD]', '[PAD]', '[PAD]', '[PAD]', '[PAD]', '[PAD]', '[PAD]', '[PAD]', '[PAD]', '[PAD]', '[PAD]', '[PAD]']\n",
      "[0 0 0 0 0 0 0 0 0 0 0 0 0 0 0 0 0 0 0 0 0 0 0 0 0 0 0 0 0 0 0 0 0 0 0 0 0\n",
      " 0 0 0 0 0 0 0 0 0 0 0 0 0]\n",
      "[-100    1    1    1 -100    1    1    1    1    1    1    1    1    1\n",
      "    1    1    1    1    1    1 -100 -100    1    1    1    1    0    0\n",
      "    1    1    1    1 -100    1 -100    1    1 -100    1    1    0    0\n",
      "    0    0    0 -100 -100 -100 -100 -100]\n",
      "\n",
      "['[CLS]', 'however', ',', 'unlike', 'the', 'standard', 'pd', '-', 'controller', ',', 'muscles', 'can', 'only', 'activate', 'after', 'a', 'time', '-', 'delay', 'and', 'each', 'muscle', 'can', 'only', 'generate', 'forces', 'to', 'rotate', 'the', 'angular', 'do', '##f', 'in', 'one', 'direction', '.', '[SEP]', '[PAD]', '[PAD]', '[PAD]', '[PAD]', '[PAD]', '[PAD]', '[PAD]', '[PAD]', '[PAD]', '[PAD]', '[PAD]', '[PAD]', '[PAD]', '[CLS]', 'the', 'pd', '-', 'control', 'laws', 'are', 'employed', 'by', 'the', 'hip', 'muscles', 'during', 'the', 'stance', 'phase', 'to', 'maintain', 'the', 'global', 'upper', 'body', 'orientation', ',', 'as', 'well', 'as', 'during', 'stance', 'preparation', 'to', 'prepare', 'for', 'ground', 'contact', '.', '[SEP]', '[PAD]', '[PAD]', '[PAD]', '[PAD]', '[PAD]', '[PAD]', '[PAD]', '[PAD]', '[PAD]', '[PAD]', '[PAD]', '[PAD]', '[PAD]', '[CLS]', 'u', 'm', '[UNK]', '=', 'k', 'm', '(', '[UNK]', '(', 't', 'a', 'at', 'm', ')', 'a', '[UNK]', 'm', ')', '+', 'd', 'm', '[UNK]', '(', 't', 'i', 'a', 'at', 'm', ')', ',', 'a', '##±', '[SEP]', '[PAD]', '[PAD]', '[PAD]', '[PAD]', '[PAD]', '[PAD]', '[PAD]', '[PAD]', '[PAD]', '[PAD]', '[PAD]', '[PAD]', '[PAD]', '[PAD]', '[PAD]', '[PAD]', '[CLS]', '<', 'h', '##2', '>', '4', '.', '2', 'stance', 'phase', '<', '/', 'h', '##2', '>', '[SEP]', '[PAD]', '[PAD]', '[PAD]', '[PAD]', '[PAD]', '[PAD]', '[PAD]', '[PAD]', '[PAD]', '[PAD]', '[PAD]', '[PAD]', '[PAD]', '[PAD]', '[PAD]', '[PAD]', '[PAD]', '[PAD]', '[PAD]', '[PAD]', '[PAD]', '[PAD]', '[PAD]', '[PAD]', '[PAD]', '[PAD]', '[PAD]', '[PAD]', '[PAD]', '[PAD]', '[PAD]', '[PAD]', '[PAD]', '[PAD]', '[CLS]', 'each', 'muscle', 'has', 'an', 'initial', 'constant', 'ex', '##cit', '##ation', ',', 'or', 'pre', '-', 'stimulation', 'value', 'p', 'm', '.', '[SEP]', '[PAD]', '[PAD]', '[PAD]', '[PAD]', '[PAD]', '[PAD]', '[PAD]', '[PAD]', '[PAD]', '[PAD]', '[PAD]', '[PAD]', '[PAD]', '[PAD]', '[PAD]', '[PAD]', '[PAD]', '[PAD]', '[PAD]', '[PAD]', '[PAD]', '[PAD]', '[PAD]', '[PAD]', '[PAD]', '[PAD]', '[PAD]', '[PAD]', '[PAD]', '[PAD]', '[CLS]', 'these', 'values', 'are', 'initial', '##ized', 'close', 'to', 'zero', ',', 'but', 'are', 'then', 'opt', '##imi', '##zed', '.', '[SEP]', '[PAD]', '[PAD]', '[PAD]', '[PAD]', '[PAD]', '[PAD]', '[PAD]', '[PAD]', '[PAD]', '[PAD]', '[PAD]', '[PAD]', '[PAD]', '[PAD]', '[PAD]', '[PAD]', '[PAD]', '[PAD]', '[PAD]', '[PAD]', '[PAD]', '[PAD]', '[PAD]', '[PAD]', '[PAD]', '[PAD]', '[PAD]', '[PAD]', '[PAD]', '[PAD]', '[PAD]', '[PAD]', '[CLS]', 'the', 'sol', 'and', 'gas', 'both', 'rely', 'on', 'positive', 'force', 'feedback', 'and', 'are', 'the', 'main', 'sources', 'of', 'torque', 'during', 'walking', '.', '[SEP]', '[PAD]', '[PAD]', '[PAD]', '[PAD]', '[PAD]', '[PAD]', '[PAD]', '[PAD]', '[PAD]', '[PAD]', '[PAD]', '[PAD]', '[PAD]', '[PAD]', '[PAD]', '[PAD]', '[PAD]', '[PAD]', '[PAD]', '[PAD]', '[PAD]', '[PAD]', '[PAD]', '[PAD]', '[PAD]', '[PAD]', '[PAD]', '[PAD]', '[CLS]', 'the', 'ta', 'ensures', 'foot', 'clearance', 'during', 'swing', 'using', 'a', 'length', 'feedback', '(', 'u', 'l', 'ta', ')', ',', 'but', 'the', 'activation', 'is', 'suppressed', 'during', 'stance', 'in', 'proportion', 'to', 'the', 'current', 'force', 'generated', 'from', 'sol', '.', '[SEP]', '[PAD]', '[PAD]', '[PAD]', '[PAD]', '[PAD]', '[PAD]', '[PAD]', '[PAD]', '[PAD]', '[PAD]', '[PAD]', '[PAD]', '[PAD]', '[PAD]']\n",
      "[0 0 0 0 0 0 0 0 0 0 0 0 0 0 0 0 0 0 0 0 0 0 0 0 0 0 0 0 0 0 0 0 0 0 0 0 0\n",
      " 0 0 0 0 0 0 0 0 0 0 0 0 0]\n",
      "[-100    1    1    1    1    1    1    1    1    1    1    1    1    1\n",
      "    1    1    0 -100 -100 -100 -100 -100 -100 -100 -100 -100 -100 -100\n",
      " -100 -100 -100 -100 -100 -100 -100 -100 -100 -100 -100 -100 -100 -100\n",
      " -100 -100 -100 -100 -100 -100 -100 -100]\n",
      "\n",
      "['[CLS]', 'the', 'suppression', 'allows', 'the', 'generated', 'ta', 'activation', 'patterns', 'to', 'better', 'match', 'human', 'data', 'during', 'loco', '##mot', '##ion', '.', '[SEP]', '[PAD]', '[PAD]', '[PAD]', '[PAD]', '[PAD]', '[PAD]', '[PAD]', '[PAD]', '[PAD]', '[PAD]', '[PAD]', '[PAD]', '[PAD]', '[PAD]', '[PAD]', '[PAD]', '[PAD]', '[PAD]', '[PAD]', '[PAD]', '[PAD]', '[PAD]', '[PAD]', '[PAD]', '[PAD]', '[PAD]', '[PAD]', '[PAD]', '[PAD]', '[PAD]', '[CLS]', 'the', 'force', 'feedback', 'on', 'the', 'va', '##s', 'creates', 'a', 'strong', 'knee', 'extension', 'torque', 'following', 'ground', 'contact', ',', 'but', 'ex', '##cit', '##ation', 'is', 'suppressed', 'when', 'the', 'knee', 'flex', '##ion', 'angle', '(', '[UNK]', 'k', ')', 'is', 'extended', 'below', 'an', 'offset', '(', '[UNK]', 'k', 'off', ')', 'with', 'an', 'extension', 'velocity', '(', '[SEP]', '[CLS]', 'the', 'suppression', 'prevents', 'hyper', '##ex', '##tension', 'of', 'the', 'knee', 'during', 'mid', '-', 'stance', '.', '[SEP]', '[PAD]', '[PAD]', '[PAD]', '[PAD]', '[PAD]', '[PAD]', '[PAD]', '[PAD]', '[PAD]', '[PAD]', '[PAD]', '[PAD]', '[PAD]', '[PAD]', '[PAD]', '[PAD]', '[PAD]', '[PAD]', '[PAD]', '[PAD]', '[PAD]', '[PAD]', '[PAD]', '[PAD]', '[PAD]', '[PAD]', '[PAD]', '[PAD]', '[PAD]', '[PAD]', '[PAD]', '[PAD]', '[PAD]', '[PAD]', '[CLS]', 'using', 'muscle', '-', 'driven', 'pd', 'control', 'laws', ',', 'the', 'ham', ',', 'g', '##lu', ',', 'and', 'h', '##fl', 'are', 'responsible', 'for', 'maintaining', 'the', 'global', 'orientation', 'of', 'the', 'upper', 'body', '(', 'i', ')', ',', 'defined', 'as', 'the', 'vector', 'between', 'the', 'com', 'of', 'the', 'upper', 'body', 'and', 'the', 'com', 'of', 'the', '[SEP]', '[CLS]', 'during', 'double', 'stance', ',', 'these', 'control', 'laws', 'are', 'only', 'active', 'for', 'the', 'leading', 'leg', ',', 'denoted', 'as', 'u', 'i', 'm', 'lead', '.', '[SEP]', '[PAD]', '[PAD]', '[PAD]', '[PAD]', '[PAD]', '[PAD]', '[PAD]', '[PAD]', '[PAD]', '[PAD]', '[PAD]', '[PAD]', '[PAD]', '[PAD]', '[PAD]', '[PAD]', '[PAD]', '[PAD]', '[PAD]', '[PAD]', '[PAD]', '[PAD]', '[PAD]', '[PAD]', '[PAD]', '[PAD]', '[CLS]', 'specifically', ',', 'control', 'laws', 'during', 'the', 'stance', 'phase', 'are', 'as', 'follows', ':', 'towards', 'the', 'end', 'of', 'the', 'stance', 'phase', ',', 'the', 'controller', 'enters', 'into', 'the', 'swing', 'initiation', ',', 'which', 'begins', 'when', 'either', 'the', 'signed', 'horizontal', 'distance', 'between', 'the', 'com', 'and', 'the', 'ankle', 'normal', '##ized', 'by', 'leg', 'length', 'exceeds', '[SEP]', '[CLS]', 'during', 'swing', 'initiation', ',', 'constant', 'ex', '##cit', '##ation', 'values', 'between', '0', 'and', '1', '(', 'set', 'during', 'optimization', ')', 'are', 'added', 'and', 'sub', '##tracted', 'to', 'the', 'va', '##s', ',', 'rf', ',', 'g', '##lu', ',', 'and', 'h', '##fl', ':', 'the', 'combination', 'of', 'h', '##fl', 'and', 'g', '##lu', 'ex', '##cit', '##ations', '[SEP]', '[CLS]', 'two', 'main', 'differences', 'between', 'our', 'stance', 'phase', 'control', 'laws', 'compared', 'to', '[SEP]', '[PAD]', '[PAD]', '[PAD]', '[PAD]', '[PAD]', '[PAD]', '[PAD]', '[PAD]', '[PAD]', '[PAD]', '[PAD]', '[PAD]', '[PAD]', '[PAD]', '[PAD]', '[PAD]', '[PAD]', '[PAD]', '[PAD]', '[PAD]', '[PAD]', '[PAD]', '[PAD]', '[PAD]', '[PAD]', '[PAD]', '[PAD]', '[PAD]', '[PAD]', '[PAD]', '[PAD]', '[PAD]', '[PAD]', '[PAD]', '[PAD]', '[PAD]', '[PAD]']\n",
      "[0 0 0 0 0 0 0 0 0 0 0 0 0 0 0 0 0 0 0 0 0 0 0 0 0 0 0 0 0 0 0 0 0 0 0 0 0\n",
      " 0 0 0 0 0 0 0 0 0 0 0 0 0]\n",
      "[-100    0    0    0    1    1    1    1    1    1    1    1    1    1\n",
      "    1    1    1    1    0 -100 -100 -100 -100 -100 -100 -100 -100 -100\n",
      " -100 -100 -100 -100 -100 -100 -100 -100 -100 -100 -100 -100 -100 -100\n",
      " -100 -100 -100 -100 -100 -100 -100 -100]\n",
      "\n",
      "['[CLS]', 'ge', '##yer', 'and', 'herr', '[', '2010', ']', '[SEP]', '[PAD]', '[PAD]', '[PAD]', '[PAD]', '[PAD]', '[PAD]', '[PAD]', '[PAD]', '[PAD]', '[PAD]', '[PAD]', '[PAD]', '[PAD]', '[PAD]', '[PAD]', '[PAD]', '[PAD]', '[PAD]', '[PAD]', '[PAD]', '[PAD]', '[PAD]', '[PAD]', '[PAD]', '[PAD]', '[PAD]', '[PAD]', '[PAD]', '[PAD]', '[PAD]', '[PAD]', '[PAD]', '[PAD]', '[PAD]', '[PAD]', '[PAD]', '[PAD]', '[PAD]', '[PAD]', '[PAD]', '[PAD]', '[CLS]', 'lie', 'in', 'how', 'the', 'swing', 'initiation', 'state', 'functions', '.', '[SEP]', '[PAD]', '[PAD]', '[PAD]', '[PAD]', '[PAD]', '[PAD]', '[PAD]', '[PAD]', '[PAD]', '[PAD]', '[PAD]', '[PAD]', '[PAD]', '[PAD]', '[PAD]', '[PAD]', '[PAD]', '[PAD]', '[PAD]', '[PAD]', '[PAD]', '[PAD]', '[PAD]', '[PAD]', '[PAD]', '[PAD]', '[PAD]', '[PAD]', '[PAD]', '[PAD]', '[PAD]', '[PAD]', '[PAD]', '[PAD]', '[PAD]', '[PAD]', '[PAD]', '[PAD]', '[PAD]', '[CLS]', 'first', ',', 'for', 'running', 'we', 'found', 'it', 'necessary', 'to', 'enter', 'into', 'swing', 'initiation', 'using', 'the', 'd', 'i', '&', 'gt', ';', 'd', 'i', 'si', 'condition', ',', 'rather', 'than', 'just', 'wait', 'for', 'double', 'stance', '.', '[SEP]', '[PAD]', '[PAD]', '[PAD]', '[PAD]', '[PAD]', '[PAD]', '[PAD]', '[PAD]', '[PAD]', '[PAD]', '[PAD]', '[PAD]', '[PAD]', '[PAD]', '[PAD]', '[CLS]', 'second', ',', 'we', 'found', 'it', 'unnecessary', 'to', 'mod', '##ulate', 'the', 'muscle', '-', 'driven', 'pd', '-', 'control', 'laws', 'in', 'the', 'hip', 'by', 'ground', 'reaction', 'forces', '.', '[SEP]', '[PAD]', '[PAD]', '[PAD]', '[PAD]', '[PAD]', '[PAD]', '[PAD]', '[PAD]', '[PAD]', '[PAD]', '[PAD]', '[PAD]', '[PAD]', '[PAD]', '[PAD]', '[PAD]', '[PAD]', '[PAD]', '[PAD]', '[PAD]', '[PAD]', '[PAD]', '[PAD]', '[CLS]', 'instead', ',', 'the', 'responsibility', 'to', 'maintain', 'upper', 'body', 'orientation', 'is', 'always', 'assigned', 'to', 'the', 'lead', 'leg', '.', '[SEP]', '[PAD]', '[PAD]', '[PAD]', '[PAD]', '[PAD]', '[PAD]', '[PAD]', '[PAD]', '[PAD]', '[PAD]', '[PAD]', '[PAD]', '[PAD]', '[PAD]', '[PAD]', '[PAD]', '[PAD]', '[PAD]', '[PAD]', '[PAD]', '[PAD]', '[PAD]', '[PAD]', '[PAD]', '[PAD]', '[PAD]', '[PAD]', '[PAD]', '[PAD]', '[PAD]', '[PAD]', '[CLS]', 'u', 'sol', '=', 'p', 'sol', '+', 'u', 'sol', 'f', ',', 'u', 'ta', '=', 'p', 'ta', '+', 'u', 'ta', 'l', 'a', 'u', 'f', 'sol', ',', 'u', 'gas', '=', 'p', 'gas', '+', 'u', 'gas', 'f', ',', 'u', 'va', '##s', '=', 'p', 'va', '##s', '+', 'u', 'f', 'va', '##s', '+', 'k', '[SEP]', '[CLS]', 'u', 'va', '##s', '=', 'u', 'va', '##s', 'a', 's', 'va', '##s', ',', 'u', 'rf', '=', 'u', 'rf', '+', 's', 'rf', ',', 'u', 'g', '##lu', '=', 'u', 'g', '##lu', 'a', 's', 'g', '##lu', ',', 'u', 'h', '##fl', '=', 'u', 'h', '##fl', '+', 's', 'h', '##fl', '.', '[SEP]', '[PAD]', '[PAD]', '[PAD]', '[CLS]', '<', 'h', '##2', '>', '4', '.', '3', 'swing', 'phase', '<', '/', 'h', '##2', '>', '[SEP]', '[PAD]', '[PAD]', '[PAD]', '[PAD]', '[PAD]', '[PAD]', '[PAD]', '[PAD]', '[PAD]', '[PAD]', '[PAD]', '[PAD]', '[PAD]', '[PAD]', '[PAD]', '[PAD]', '[PAD]', '[PAD]', '[PAD]', '[PAD]', '[PAD]', '[PAD]', '[PAD]', '[PAD]', '[PAD]', '[PAD]', '[PAD]', '[PAD]', '[PAD]', '[PAD]', '[PAD]', '[PAD]', '[PAD]', '[PAD]']\n",
      "[0 0 0 0 0 0 0 0 0 0 0 0 0 0 0 0 0 0 0 0 0 0 0 0 0 0 0 0 0 0 0 0 0 0 0 0 0\n",
      " 0 0 0 0 0 0 0 0 0 0 0 0 0]\n",
      "[-100    1    1    1    1    1    1    1    1    1    1 -100    0    0\n",
      "    0    0 -100 -100    0    0 -100 -100 -100 -100 -100 -100 -100 -100\n",
      " -100 -100 -100 -100 -100 -100 -100 -100 -100 -100 -100 -100 -100 -100\n",
      " -100 -100 -100 -100 -100 -100 -100 -100]\n",
      "\n",
      "['[CLS]', 'much', 'like', 'in', 'the', 'stance', 'phase', ',', 'each', 'muscle', 'has', 'an', 'initial', 'constant', 'ex', '##cit', '##ation', 'value', '(', 'q', 'm', ')', '.', '[SEP]', '[PAD]', '[PAD]', '[PAD]', '[PAD]', '[PAD]', '[PAD]', '[PAD]', '[PAD]', '[PAD]', '[PAD]', '[PAD]', '[PAD]', '[PAD]', '[PAD]', '[PAD]', '[PAD]', '[PAD]', '[PAD]', '[PAD]', '[PAD]', '[PAD]', '[PAD]', '[PAD]', '[PAD]', '[PAD]', '[PAD]', '[CLS]', 'the', 'leg', 'motion', 'relies', 'significantly', 'on', 'passive', 'dynamics', 'during', 'the', 'swing', 'phase', '[SEP]', '[PAD]', '[PAD]', '[PAD]', '[PAD]', '[PAD]', '[PAD]', '[PAD]', '[PAD]', '[PAD]', '[PAD]', '[PAD]', '[PAD]', '[PAD]', '[PAD]', '[PAD]', '[PAD]', '[PAD]', '[PAD]', '[PAD]', '[PAD]', '[PAD]', '[PAD]', '[PAD]', '[PAD]', '[PAD]', '[PAD]', '[PAD]', '[PAD]', '[PAD]', '[PAD]', '[PAD]', '[PAD]', '[PAD]', '[PAD]', '[PAD]', '[PAD]', '[CLS]', '[', 'collins', 'et', 'al', '.', '[SEP]', '[PAD]', '[PAD]', '[PAD]', '[PAD]', '[PAD]', '[PAD]', '[PAD]', '[PAD]', '[PAD]', '[PAD]', '[PAD]', '[PAD]', '[PAD]', '[PAD]', '[PAD]', '[PAD]', '[PAD]', '[PAD]', '[PAD]', '[PAD]', '[PAD]', '[PAD]', '[PAD]', '[PAD]', '[PAD]', '[PAD]', '[PAD]', '[PAD]', '[PAD]', '[PAD]', '[PAD]', '[PAD]', '[PAD]', '[PAD]', '[PAD]', '[PAD]', '[PAD]', '[PAD]', '[PAD]', '[PAD]', '[PAD]', '[PAD]', '[PAD]', '[CLS]', '2005', ']', ',', 'as', 'most', 'muscles', 'are', 'only', 'excited', 'at', 'low', 'levels', '.', '[SEP]', '[PAD]', '[PAD]', '[PAD]', '[PAD]', '[PAD]', '[PAD]', '[PAD]', '[PAD]', '[PAD]', '[PAD]', '[PAD]', '[PAD]', '[PAD]', '[PAD]', '[PAD]', '[PAD]', '[PAD]', '[PAD]', '[PAD]', '[PAD]', '[PAD]', '[PAD]', '[PAD]', '[PAD]', '[PAD]', '[PAD]', '[PAD]', '[PAD]', '[PAD]', '[PAD]', '[PAD]', '[PAD]', '[PAD]', '[PAD]', '[PAD]', '[CLS]', 'the', 'main', 'exceptions', 'are', 'the', 'ta', ',', 'which', 'maintains', 'the', 'length', 'feedback', '(', 'u', 'l', 'ta', ')', 'to', 'avoid', 'toes', '##tub', '##bing', ',', 'and', 'the', 'ham', ',', 'which', 'is', 'activated', 'at', 'late', 'swing', 'phase', 'to', 'prevent', 'the', 'knee', 'from', 'being', 'over', '##ex', '##ten', '##ded', 'before', 'landing', '.', '[SEP]', '[PAD]', '[CLS]', 'the', 'h', '##fl', 'introduces', 'a', 'hip', 'flex', '##ion', 'torque', 'through', 'a', 'length', 'feedback', ',', 'which', 'is', 'suppressed', 'when', 'the', 'ham', 'is', 'stretched', 'in', 'during', 'late', 'swing', '.', '[SEP]', '[PAD]', '[PAD]', '[PAD]', '[PAD]', '[PAD]', '[PAD]', '[PAD]', '[PAD]', '[PAD]', '[PAD]', '[PAD]', '[PAD]', '[PAD]', '[PAD]', '[PAD]', '[PAD]', '[PAD]', '[PAD]', '[PAD]', '[PAD]', '[PAD]', '[CLS]', 'the', 'amount', 'of', 'ex', '##cit', '##ation', 'in', 'the', 'h', '##fl', 'also', 'depends', 'on', 'the', 'value', 'of', 'upper', 'body', 'lean', 'at', 'the', 'beginning', 'of', 'the', 'swing', 'phase', '(', 'i', 'lt', '##o', ')', ':', 'the', 'further', 'the', 'upper', 'body', 'leans', 'forward', 'compared', 'to', 'the', 'reference', 'lean', 'angle', '(', 'i', 'd', '[SEP]', '[CLS]', 'note', 'that', 'i', 'd', 'is', 'the', 'same', 'as', 'the', 'target', 'angle', 'in', 'u', 'i', 'h', '##fl', '.', '[SEP]', '[PAD]', '[PAD]', '[PAD]', '[PAD]', '[PAD]', '[PAD]', '[PAD]', '[PAD]', '[PAD]', '[PAD]', '[PAD]', '[PAD]', '[PAD]', '[PAD]', '[PAD]', '[PAD]', '[PAD]', '[PAD]', '[PAD]', '[PAD]', '[PAD]', '[PAD]', '[PAD]', '[PAD]', '[PAD]', '[PAD]', '[PAD]', '[PAD]', '[PAD]', '[PAD]', '[PAD]']\n",
      "[0 0 0 0 0 0 0 0 0 0 0 0 0 0 0 0 0 0 0 0 0 0 0 0 0 0 0 0 0 0 0 0 0 0 0 0 0\n",
      " 0 0 0 0 0 0 0 0 0 0 0 0 0]\n",
      "[-100    0    0    1    1    1    1    1    1    1    1    1    1    1\n",
      "    1 -100    1    1    1    1    1    1    1    1    1    0 -100 -100\n",
      " -100 -100 -100 -100 -100 -100 -100 -100 -100 -100 -100 -100 -100 -100\n",
      " -100 -100 -100 -100 -100 -100 -100 -100]\n",
      "\n",
      "['[CLS]', 'non', '-', 'constant', 'control', 'laws', 'during', 'the', 'swing', 'phase', 'are', 'as', 'follows', ':', 'the', 'controller', 'enters', 'into', 'the', 'stance', 'preparation', 'when', 'd', 'i', '&', 'lt', ';', 'd', 'i', 'sp', ',', 'where', 'the', 'swing', 'leg', 'enters', 'into', 'a', 'pd', '-', 'control', 'mode', '.', '[SEP]', '[PAD]', '[PAD]', '[PAD]', '[PAD]', '[PAD]', '[PAD]', '[CLS]', 'the', 'g', '##lu', ',', 'h', '##fl', ',', 'and', 'va', '##s', 'work', 'to', 'guide', 'the', 'hip', 'and', 'knee', 'joints', 'toward', 'a', 'desired', 'pose', 'to', 'prepare', 'for', 'ground', 'contact', ':', 'u', 'va', '##s', '=', 'q', 'va', '##s', '+', 'u', 'va', '##s', '[UNK]', 'k', ',', 'u', 'g', '##lu', '=', 'q', 'g', '[SEP]', '[CLS]', 'a', 'single', 'desired', 'hip', 'target', 'angle', '(', '[UNK]', 'h', ')', 'is', 'adjusted', 'according', 'to', 'the', 'sim', '##bic', '##on', 'balance', 'feedback', 'law', '[SEP]', '[PAD]', '[PAD]', '[PAD]', '[PAD]', '[PAD]', '[PAD]', '[PAD]', '[PAD]', '[PAD]', '[PAD]', '[PAD]', '[PAD]', '[PAD]', '[PAD]', '[PAD]', '[PAD]', '[PAD]', '[PAD]', '[PAD]', '[PAD]', '[PAD]', '[PAD]', '[PAD]', '[PAD]', '[PAD]', '[PAD]', '[PAD]', '[CLS]', '[', 'yin', 'et', 'al', '.', '[SEP]', '[PAD]', '[PAD]', '[PAD]', '[PAD]', '[PAD]', '[PAD]', '[PAD]', '[PAD]', '[PAD]', '[PAD]', '[PAD]', '[PAD]', '[PAD]', '[PAD]', '[PAD]', '[PAD]', '[PAD]', '[PAD]', '[PAD]', '[PAD]', '[PAD]', '[PAD]', '[PAD]', '[PAD]', '[PAD]', '[PAD]', '[PAD]', '[PAD]', '[PAD]', '[PAD]', '[PAD]', '[PAD]', '[PAD]', '[PAD]', '[PAD]', '[PAD]', '[PAD]', '[PAD]', '[PAD]', '[PAD]', '[PAD]', '[PAD]', '[PAD]', '[CLS]', '2007', ']', 'and', 'is', 'shared', 'by', 'both', 'the', 'g', '##lu', 'and', 'h', '##fl', '.', '[SEP]', '[PAD]', '[PAD]', '[PAD]', '[PAD]', '[PAD]', '[PAD]', '[PAD]', '[PAD]', '[PAD]', '[PAD]', '[PAD]', '[PAD]', '[PAD]', '[PAD]', '[PAD]', '[PAD]', '[PAD]', '[PAD]', '[PAD]', '[PAD]', '[PAD]', '[PAD]', '[PAD]', '[PAD]', '[PAD]', '[PAD]', '[PAD]', '[PAD]', '[PAD]', '[PAD]', '[PAD]', '[PAD]', '[PAD]', '[PAD]', '[CLS]', 'we', 'found', 'the', 'addition', 'of', 'the', 'stance', 'preparation', 'state', 'to', 'be', 'important', 'for', 'discovering', 'running', 'ga', '##its', '.', '[SEP]', '[PAD]', '[PAD]', '[PAD]', '[PAD]', '[PAD]', '[PAD]', '[PAD]', '[PAD]', '[PAD]', '[PAD]', '[PAD]', '[PAD]', '[PAD]', '[PAD]', '[PAD]', '[PAD]', '[PAD]', '[PAD]', '[PAD]', '[PAD]', '[PAD]', '[PAD]', '[PAD]', '[PAD]', '[PAD]', '[PAD]', '[PAD]', '[PAD]', '[PAD]', '[PAD]', '[CLS]', 'the', 'balance', 'feedback', 'law', 'allows', 'robust', 'control', 'strategies', 'to', 'be', 'found', 'in', 'difficult', 'environments', '(', 'e', '.', 'g', '.', ',', 'being', 'pushed', 'by', 'random', 'forces', ')', '.', '[SEP]', '[PAD]', '[PAD]', '[PAD]', '[PAD]', '[PAD]', '[PAD]', '[PAD]', '[PAD]', '[PAD]', '[PAD]', '[PAD]', '[PAD]', '[PAD]', '[PAD]', '[PAD]', '[PAD]', '[PAD]', '[PAD]', '[PAD]', '[PAD]', '[PAD]', '[CLS]', 'u', 'ta', '=', 'q', 'ta', '+', 'u', 'l', 'ta', ',', 'u', 'ham', '=', 'q', 'ham', '+', 'u', 'ham', 'f', ',', 'u', 'g', '##lu', '=', 'q', 'g', '##lu', '+', 'u', 'f', 'g', '##lu', ',', 'u', 'h', '##fl', '=', 'q', 'h', '##fl', '+', 'u', 'l', 'h', '##fl', 'a', 'u', 'l', '[SEP]']\n",
      "[0 0 0 0 0 0 0 0 0 0 0 0 0 0 0 0 0 0 0 0 0 0 0 0 0 0 0 0 0 0 0 0 0 0 0 0 0\n",
      " 0 0 0 0 0 0 0 0 0 0 0 0 0]\n",
      "[-100    1    1 -100 -100    1    1    1    1    1    1    1 -100 -100\n",
      " -100 -100 -100 -100 -100 -100 -100 -100 -100 -100 -100 -100 -100 -100\n",
      " -100 -100 -100 -100 -100 -100 -100 -100 -100 -100 -100 -100 -100 -100\n",
      " -100 -100 -100 -100 -100 -100 -100 -100]\n",
      "\n",
      "['[CLS]', '<', 'h', '##2', '>', '4', '.', '4', 'out', '-', 'of', '-', 'plane', 'and', 'upper', '##body', 'control', '<', '/', 'h', '##2', '>', '[SEP]', '[PAD]', '[PAD]', '[PAD]', '[PAD]', '[PAD]', '[PAD]', '[PAD]', '[PAD]', '[PAD]', '[PAD]', '[PAD]', '[PAD]', '[PAD]', '[PAD]', '[PAD]', '[PAD]', '[PAD]', '[PAD]', '[PAD]', '[PAD]', '[PAD]', '[PAD]', '[PAD]', '[PAD]', '[PAD]', '[PAD]', '[PAD]', '[CLS]', 'the', 'rest', 'of', 'the', 'do', '##fs', 'are', 'controlled', 'using', 'standard', 'joint', '-', 'space', 'pd', '##con', '##tro', '##ller', '##s', 'with', 'state', '-', 'dependent', 'parameters', '.', '[SEP]', '[PAD]', '[PAD]', '[PAD]', '[PAD]', '[PAD]', '[PAD]', '[PAD]', '[PAD]', '[PAD]', '[PAD]', '[PAD]', '[PAD]', '[PAD]', '[PAD]', '[PAD]', '[PAD]', '[PAD]', '[PAD]', '[PAD]', '[PAD]', '[PAD]', '[PAD]', '[PAD]', '[PAD]', '[CLS]', 'following', 'wang', 'et', 'al', '.', '[SEP]', '[PAD]', '[PAD]', '[PAD]', '[PAD]', '[PAD]', '[PAD]', '[PAD]', '[PAD]', '[PAD]', '[PAD]', '[PAD]', '[PAD]', '[PAD]', '[PAD]', '[PAD]', '[PAD]', '[PAD]', '[PAD]', '[PAD]', '[PAD]', '[PAD]', '[PAD]', '[PAD]', '[PAD]', '[PAD]', '[PAD]', '[PAD]', '[PAD]', '[PAD]', '[PAD]', '[PAD]', '[PAD]', '[PAD]', '[PAD]', '[PAD]', '[PAD]', '[PAD]', '[PAD]', '[PAD]', '[PAD]', '[PAD]', '[PAD]', '[PAD]', '[CLS]', '[', '2010', ']', '[SEP]', '[PAD]', '[PAD]', '[PAD]', '[PAD]', '[PAD]', '[PAD]', '[PAD]', '[PAD]', '[PAD]', '[PAD]', '[PAD]', '[PAD]', '[PAD]', '[PAD]', '[PAD]', '[PAD]', '[PAD]', '[PAD]', '[PAD]', '[PAD]', '[PAD]', '[PAD]', '[PAD]', '[PAD]', '[PAD]', '[PAD]', '[PAD]', '[PAD]', '[PAD]', '[PAD]', '[PAD]', '[PAD]', '[PAD]', '[PAD]', '[PAD]', '[PAD]', '[PAD]', '[PAD]', '[PAD]', '[PAD]', '[PAD]', '[PAD]', '[PAD]', '[PAD]', '[PAD]', '[CLS]', ',', 'the', 'target', 'features', 'for', 'the', 'ankle', 'and', 'hip', 'joints', 'in', 'the', 'corona', '##l', 'plane', 'are', 'the', 'global', 'foot', 'and', 'pe', '##lvis', 'orientation', '##s', ',', 'respectively', '.', '[SEP]', '[PAD]', '[PAD]', '[PAD]', '[PAD]', '[PAD]', '[PAD]', '[PAD]', '[PAD]', '[PAD]', '[PAD]', '[PAD]', '[PAD]', '[PAD]', '[PAD]', '[PAD]', '[PAD]', '[PAD]', '[PAD]', '[PAD]', '[PAD]', '[PAD]', '[CLS]', 'the', 'corona', '##l', 'swing', 'hip', 'target', 'angles', 'follow', 'the', 'same', 'feedback', 'law', 'as', '[UNK]', 'h', '.', '[SEP]', '[PAD]', '[PAD]', '[PAD]', '[PAD]', '[PAD]', '[PAD]', '[PAD]', '[PAD]', '[PAD]', '[PAD]', '[PAD]', '[PAD]', '[PAD]', '[PAD]', '[PAD]', '[PAD]', '[PAD]', '[PAD]', '[PAD]', '[PAD]', '[PAD]', '[PAD]', '[PAD]', '[PAD]', '[PAD]', '[PAD]', '[PAD]', '[PAD]', '[PAD]', '[PAD]', '[PAD]', '[PAD]', '[CLS]', 'additionally', ',', 'we', 'set', 'the', 'toe', 'joint', 'to', 'be', 'a', 'spring', 'with', 'spring', 'constant', 'of', '30', 'nm', '/', 'ra', '##d', ',', 'target', 'angle', '0', ',', 'and', 'no', 'damp', '##ing', '.', '[SEP]', '[PAD]', '[PAD]', '[PAD]', '[PAD]', '[PAD]', '[PAD]', '[PAD]', '[PAD]', '[PAD]', '[PAD]', '[PAD]', '[PAD]', '[PAD]', '[PAD]', '[PAD]', '[PAD]', '[PAD]', '[PAD]', '[CLS]', 'unlike', 'in', 'previous', 'work', ',', 'where', 'a', 'ga', '##it', 'cycle', 'is', 'broken', 'down', 'into', 'four', 'states', ',', 'only', 'two', 'are', 'needed', '(', 'triggered', 'by', 'left', '/', 'right', 'foot', '-', 'strike', ')', 'since', 'do', '##fs', 'with', 'the', 'most', 'complex', 'activities', 'are', 'act', '##uated', 'by', 'muscles', '.', '[SEP]', '[PAD]', '[PAD]', '[PAD]']\n",
      "[0 0 0 0 0 0 0 0 0 0 0 0 0 0 0 0 0 0 0 0 0 0 0 0 0 0 0 0 0 0 0 0 0 0 0 0 0\n",
      " 0 0 0 0 0 0 0 0 0 0 0 0 0]\n",
      "[-100    0    0    0    0    0 -100 -100 -100 -100 -100 -100 -100 -100\n",
      " -100 -100 -100 -100 -100 -100 -100 -100 -100 -100 -100 -100 -100 -100\n",
      " -100 -100 -100 -100 -100 -100 -100 -100 -100 -100 -100 -100 -100 -100\n",
      " -100 -100 -100 -100 -100 -100 -100 -100]\n",
      "\n",
      "['[CLS]', 'our', 'upper', 'body', 'control', 'also', 'largely', 'follows', '[SEP]', '[PAD]', '[PAD]', '[PAD]', '[PAD]', '[PAD]', '[PAD]', '[PAD]', '[PAD]', '[PAD]', '[PAD]', '[PAD]', '[PAD]', '[PAD]', '[PAD]', '[PAD]', '[PAD]', '[PAD]', '[PAD]', '[PAD]', '[PAD]', '[PAD]', '[PAD]', '[PAD]', '[PAD]', '[PAD]', '[PAD]', '[PAD]', '[PAD]', '[PAD]', '[PAD]', '[PAD]', '[PAD]', '[PAD]', '[PAD]', '[PAD]', '[PAD]', '[PAD]', '[PAD]', '[PAD]', '[PAD]', '[PAD]', '[CLS]', 'wang', 'et', 'al', '.', '[SEP]', '[PAD]', '[PAD]', '[PAD]', '[PAD]', '[PAD]', '[PAD]', '[PAD]', '[PAD]', '[PAD]', '[PAD]', '[PAD]', '[PAD]', '[PAD]', '[PAD]', '[PAD]', '[PAD]', '[PAD]', '[PAD]', '[PAD]', '[PAD]', '[PAD]', '[PAD]', '[PAD]', '[PAD]', '[PAD]', '[PAD]', '[PAD]', '[PAD]', '[PAD]', '[PAD]', '[PAD]', '[PAD]', '[PAD]', '[PAD]', '[PAD]', '[PAD]', '[PAD]', '[PAD]', '[PAD]', '[PAD]', '[PAD]', '[PAD]', '[PAD]', '[PAD]', '[CLS]', '[', '2010', ']', '[SEP]', '[PAD]', '[PAD]', '[PAD]', '[PAD]', '[PAD]', '[PAD]', '[PAD]', '[PAD]', '[PAD]', '[PAD]', '[PAD]', '[PAD]', '[PAD]', '[PAD]', '[PAD]', '[PAD]', '[PAD]', '[PAD]', '[PAD]', '[PAD]', '[PAD]', '[PAD]', '[PAD]', '[PAD]', '[PAD]', '[PAD]', '[PAD]', '[PAD]', '[PAD]', '[PAD]', '[PAD]', '[PAD]', '[PAD]', '[PAD]', '[PAD]', '[PAD]', '[PAD]', '[PAD]', '[PAD]', '[PAD]', '[PAD]', '[PAD]', '[PAD]', '[PAD]', '[PAD]', '[CLS]', ',', 'with', 'the', 'exception', 'that', 'the', 'target', 'feature', 'of', 'our', 'back', 'joint', 'in', 'the', 'corona', '##l', 'plane', 'is', 'the', 'global', 'orientation', 'of', 'the', 'torso', 'instead', 'of', 'the', 'local', 'joint', 'angle', 'between', 'the', 'torso', 'and', 'the', 'pe', '##lvis', '.', '[SEP]', '[PAD]', '[PAD]', '[PAD]', '[PAD]', '[PAD]', '[PAD]', '[PAD]', '[PAD]', '[PAD]', '[PAD]', '[CLS]', 'this', 'global', 'target', 'allows', 'our', 'model', 'to', 'better', 'keep', 'the', 'head', 'upright', 'during', 'loco', '##mot', '##ion', '.', '[SEP]', '[PAD]', '[PAD]', '[PAD]', '[PAD]', '[PAD]', '[PAD]', '[PAD]', '[PAD]', '[PAD]', '[PAD]', '[PAD]', '[PAD]', '[PAD]', '[PAD]', '[PAD]', '[PAD]', '[PAD]', '[PAD]', '[PAD]', '[PAD]', '[PAD]', '[PAD]', '[PAD]', '[PAD]', '[PAD]', '[PAD]', '[PAD]', '[PAD]', '[PAD]', '[PAD]', '[PAD]', '[CLS]', 'we', 'fix', 'the', 'spring', 'and', 'damp', '##er', 'constant', '##s', 'for', 'all', 'arm', 'joints', 'to', '30', 'nm', '/', 'ra', '##d', 'and', '3', 'nm', '##s', '/', 'ra', '##d', ',', 'respectively', ',', 'with', 'target', 'angles', 'set', 'to', '0', '.', '[SEP]', '[PAD]', '[PAD]', '[PAD]', '[PAD]', '[PAD]', '[PAD]', '[PAD]', '[PAD]', '[PAD]', '[PAD]', '[PAD]', '[PAD]', '[CLS]', 'we', 'found', 'that', 'more', 'human', '-', 'like', 'arm', 'swing', 'can', 'be', 'generated', 'by', 'relating', 'the', 'elbow', 'and', 'shoulder', 'target', 'angles', 'as', '[UNK]', 's', 'l', '=', 'i', '##±', 'arm', '[UNK]', 'h', 'l', 'a', '[UNK]', 'h', 'r', '+', '[UNK]', 'e', 'd', 'and', 'i', 'l', 's', '=', '[UNK]', 'e', 'd', ',', '[SEP]', '[CLS]', 'this', 'formulation', 'captures', 'the', 'tendency', 'to', 'rotate', 'the', 'shoulder', 'backwards', 'and', 'inward', '##s', 'while', 'bending', 'the', 'elbow', '.', '[SEP]', '[PAD]', '[PAD]', '[PAD]', '[PAD]', '[PAD]', '[PAD]', '[PAD]', '[PAD]', '[PAD]', '[PAD]', '[PAD]', '[PAD]', '[PAD]', '[PAD]', '[PAD]', '[PAD]', '[PAD]', '[PAD]', '[PAD]', '[PAD]', '[PAD]', '[PAD]', '[PAD]', '[PAD]', '[PAD]', '[PAD]', '[PAD]', '[PAD]', '[PAD]', '[PAD]']\n",
      "[0 0 0 0 0 0 0 0 0 0 0 0 0 0 0 0 0 0 0 0 0 0 0 0 0 0 0 0 0 0 0 0 0 0 0 0 0\n",
      " 0 0 0 0 0 0 0 0 0 0 0 0 0]\n",
      "[-100    0    0 -100 -100 -100 -100 -100 -100 -100 -100 -100 -100 -100\n",
      " -100 -100 -100 -100 -100 -100 -100 -100 -100 -100 -100 -100 -100 -100\n",
      " -100 -100 -100 -100 -100 -100 -100 -100 -100 -100 -100 -100 -100 -100\n",
      " -100 -100 -100 -100 -100 -100 -100 -100]\n",
      "\n",
      "['[CLS]', 'the', 'scale', 'constant', 'and', 'the', 'desired', 'elbow', 'angle', 'are', 'among', 'the', 'parameters', 'set', 'by', 'optimization', ',', 'as', 'described', 'in', 'the', 'next', 'section', '.', '[SEP]', '[PAD]', '[PAD]', '[PAD]', '[PAD]', '[PAD]', '[PAD]', '[PAD]', '[PAD]', '[PAD]', '[PAD]', '[PAD]', '[PAD]', '[PAD]', '[PAD]', '[PAD]', '[PAD]', '[PAD]', '[PAD]', '[PAD]', '[PAD]', '[PAD]', '[PAD]', '[PAD]', '[PAD]', '[PAD]', '[CLS]', '<', 'h', '##1', '>', '5', 'optimization', '<', '/', 'h', '##1', '>', '[SEP]', '[PAD]', '[PAD]', '[PAD]', '[PAD]', '[PAD]', '[PAD]', '[PAD]', '[PAD]', '[PAD]', '[PAD]', '[PAD]', '[PAD]', '[PAD]', '[PAD]', '[PAD]', '[PAD]', '[PAD]', '[PAD]', '[PAD]', '[PAD]', '[PAD]', '[PAD]', '[PAD]', '[PAD]', '[PAD]', '[PAD]', '[PAD]', '[PAD]', '[PAD]', '[PAD]', '[PAD]', '[PAD]', '[PAD]', '[PAD]', '[PAD]', '[PAD]', '[PAD]', '[CLS]', 'the', 'control', 'algorithm', 'specified', 'in', 'section', '4', 'has', 'a', 'large', 'number', 'of', 'parameters', ',', 'which', 'we', 'set', 'by', 'optimization', '[SEP]', '[PAD]', '[PAD]', '[PAD]', '[PAD]', '[PAD]', '[PAD]', '[PAD]', '[PAD]', '[PAD]', '[PAD]', '[PAD]', '[PAD]', '[PAD]', '[PAD]', '[PAD]', '[PAD]', '[PAD]', '[PAD]', '[PAD]', '[PAD]', '[PAD]', '[PAD]', '[PAD]', '[PAD]', '[PAD]', '[PAD]', '[PAD]', '[PAD]', '[PAD]', '[CLS]', '[', 'wang', 'et', 'al', '.', '[SEP]', '[PAD]', '[PAD]', '[PAD]', '[PAD]', '[PAD]', '[PAD]', '[PAD]', '[PAD]', '[PAD]', '[PAD]', '[PAD]', '[PAD]', '[PAD]', '[PAD]', '[PAD]', '[PAD]', '[PAD]', '[PAD]', '[PAD]', '[PAD]', '[PAD]', '[PAD]', '[PAD]', '[PAD]', '[PAD]', '[PAD]', '[PAD]', '[PAD]', '[PAD]', '[PAD]', '[PAD]', '[PAD]', '[PAD]', '[PAD]', '[PAD]', '[PAD]', '[PAD]', '[PAD]', '[PAD]', '[PAD]', '[PAD]', '[PAD]', '[PAD]', '[CLS]', '2010', ']', '.', '[SEP]', '[PAD]', '[PAD]', '[PAD]', '[PAD]', '[PAD]', '[PAD]', '[PAD]', '[PAD]', '[PAD]', '[PAD]', '[PAD]', '[PAD]', '[PAD]', '[PAD]', '[PAD]', '[PAD]', '[PAD]', '[PAD]', '[PAD]', '[PAD]', '[PAD]', '[PAD]', '[PAD]', '[PAD]', '[PAD]', '[PAD]', '[PAD]', '[PAD]', '[PAD]', '[PAD]', '[PAD]', '[PAD]', '[PAD]', '[PAD]', '[PAD]', '[PAD]', '[PAD]', '[PAD]', '[PAD]', '[PAD]', '[PAD]', '[PAD]', '[PAD]', '[PAD]', '[PAD]', '[CLS]', 'more', 'specifically', ',', 'each', 'of', 'the', 'u', 'm', 'f', ',', 'u', 'm', 'l', ',', 'and', 'u', 'm', '[UNK]', 'laws', 'have', 'one', ',', 'two', ',', 'and', 'three', 'parameters', ',', 'respectively', '.', '[SEP]', '[PAD]', '[PAD]', '[PAD]', '[PAD]', '[PAD]', '[PAD]', '[PAD]', '[PAD]', '[PAD]', '[PAD]', '[PAD]', '[PAD]', '[PAD]', '[PAD]', '[PAD]', '[PAD]', '[PAD]', '[PAD]', '[CLS]', 'there', 'are', '56', 'parameters', 'in', 'total', '(', '30', 'stance', ',', '26', 'swing', ')', 'for', 'the', 'mt', '##u', 'control', 'laws', '.', '[SEP]', '[PAD]', '[PAD]', '[PAD]', '[PAD]', '[PAD]', '[PAD]', '[PAD]', '[PAD]', '[PAD]', '[PAD]', '[PAD]', '[PAD]', '[PAD]', '[PAD]', '[PAD]', '[PAD]', '[PAD]', '[PAD]', '[PAD]', '[PAD]', '[PAD]', '[PAD]', '[PAD]', '[PAD]', '[PAD]', '[PAD]', '[PAD]', '[PAD]', '[CLS]', 'for', 'the', 'upper', 'body', 'and', 'the', 'non', '-', 'sa', '##git', '##tal', 'do', '##fs', 'in', 'the', 'lower', 'body', ',', 'we', 'opt', '##imi', '##ze', 'the', 'pd', '##con', '##tro', '##l', 'parameters', '(', 'spring', '-', 'damp', '##er', 'constant', '##s', ',', 'target', 'angle', ',', 'balance', 'feedback', ')', 'for', 'all', 'joints', 'except', 'for', 'arms', '[SEP]']\n",
      "[0 0 0 0 0 0 0 0 0 0 0 0 0 0 0 0 0 0 0 0 0 0 0 0 0 0 0 0 0 0 0 0 0 0 0 0 0\n",
      " 0 0 0 0 0 0 0 0 0 0 0 0 0]\n",
      "[-100    0    0    1    1    1    1    1    0 -100 -100 -100 -100 -100\n",
      " -100 -100 -100 -100 -100 -100 -100 -100 -100 -100 -100 -100 -100 -100\n",
      " -100 -100 -100 -100 -100 -100 -100 -100 -100 -100 -100 -100 -100 -100\n",
      " -100 -100 -100 -100 -100 -100 -100 -100]\n",
      "\n",
      "['[CLS]', 'when', 'combined', 'with', '33', 'free', 'parameters', 'describing', 'the', 'initial', 'state', 'of', 'the', 'simulation', ',', '124', 'parameters', '(', 'w', ')', 'fully', 'define', 'a', 'simulated', 'motion', '{', 's', '1', '.', '[SEP]', '[PAD]', '[PAD]', '[PAD]', '[PAD]', '[PAD]', '[PAD]', '[PAD]', '[PAD]', '[PAD]', '[PAD]', '[PAD]', '[PAD]', '[PAD]', '[PAD]', '[PAD]', '[PAD]', '[PAD]', '[PAD]', '[PAD]', '[PAD]', '[CLS]', '.', 's', 't', '}', 'over', 't', 'times', '##te', '##ps', '.', '[SEP]', '[PAD]', '[PAD]', '[PAD]', '[PAD]', '[PAD]', '[PAD]', '[PAD]', '[PAD]', '[PAD]', '[PAD]', '[PAD]', '[PAD]', '[PAD]', '[PAD]', '[PAD]', '[PAD]', '[PAD]', '[PAD]', '[PAD]', '[PAD]', '[PAD]', '[PAD]', '[PAD]', '[PAD]', '[PAD]', '[PAD]', '[PAD]', '[PAD]', '[PAD]', '[PAD]', '[PAD]', '[PAD]', '[PAD]', '[PAD]', '[PAD]', '[PAD]', '[PAD]', '[PAD]', '[CLS]', 'we', 'opt', '##imi', '##ze', 'control', 'parameters', 'and', 'the', 'initial', 'state', 'using', 'co', '##var', '##iance', 'matrix', 'adaptation', '(', 'cm', '##a', ')', '[SEP]', '[PAD]', '[PAD]', '[PAD]', '[PAD]', '[PAD]', '[PAD]', '[PAD]', '[PAD]', '[PAD]', '[PAD]', '[PAD]', '[PAD]', '[PAD]', '[PAD]', '[PAD]', '[PAD]', '[PAD]', '[PAD]', '[PAD]', '[PAD]', '[PAD]', '[PAD]', '[PAD]', '[PAD]', '[PAD]', '[PAD]', '[PAD]', '[PAD]', '[CLS]', '[', 'hansen', '2006', ']', ',', 'with', 'steps', '##ize', 'i', '=', '0', '.', '00', '##5', 'and', '50', 'samples', 'per', 'iteration', '.', '[SEP]', '[PAD]', '[PAD]', '[PAD]', '[PAD]', '[PAD]', '[PAD]', '[PAD]', '[PAD]', '[PAD]', '[PAD]', '[PAD]', '[PAD]', '[PAD]', '[PAD]', '[PAD]', '[PAD]', '[PAD]', '[PAD]', '[PAD]', '[PAD]', '[PAD]', '[PAD]', '[PAD]', '[PAD]', '[PAD]', '[PAD]', '[PAD]', '[PAD]', '[CLS]', 'the', 'optimization', 'aims', 'to', 'maximize', 'the', 'following', 'return', 'function', ':', 't', 'r', '(', 'w', ')', '=', 'r', '(', 's', 't', ')', 'a', 'w', 'e', 'j', 'effort', '.', '[SEP]', '[PAD]', '[PAD]', '[PAD]', '[PAD]', '[PAD]', '[PAD]', '[PAD]', '[PAD]', '[PAD]', '[PAD]', '[PAD]', '[PAD]', '[PAD]', '[PAD]', '[PAD]', '[PAD]', '[PAD]', '[PAD]', '[PAD]', '[PAD]', '[PAD]', '[CLS]', 't', '=', '1', 'here', 'r', 'is', 'a', 'scala', '##r', 'reward', 'function', 'of', 'the', 'current', 'state', 's', 't', ',', 'j', 'effort', 'measures', 'the', 'effort', 'of', 'the', 'synthesized', 'motion', ',', 'and', 'w', 'e', 'is', 'set', 'to', '0', '.', '00', '##4', 'divided', 'by', 'the', 'mass', 'of', 'the', 'model', ',', 'motivated', 'by', '[SEP]', '[CLS]', 'wang', 'et', 'al', '.', '[SEP]', '[PAD]', '[PAD]', '[PAD]', '[PAD]', '[PAD]', '[PAD]', '[PAD]', '[PAD]', '[PAD]', '[PAD]', '[PAD]', '[PAD]', '[PAD]', '[PAD]', '[PAD]', '[PAD]', '[PAD]', '[PAD]', '[PAD]', '[PAD]', '[PAD]', '[PAD]', '[PAD]', '[PAD]', '[PAD]', '[PAD]', '[PAD]', '[PAD]', '[PAD]', '[PAD]', '[PAD]', '[PAD]', '[PAD]', '[PAD]', '[PAD]', '[PAD]', '[PAD]', '[PAD]', '[PAD]', '[PAD]', '[PAD]', '[PAD]', '[PAD]', '[PAD]', '[CLS]', '[', '2010', ']', '.', '[SEP]', '[PAD]', '[PAD]', '[PAD]', '[PAD]', '[PAD]', '[PAD]', '[PAD]', '[PAD]', '[PAD]', '[PAD]', '[PAD]', '[PAD]', '[PAD]', '[PAD]', '[PAD]', '[PAD]', '[PAD]', '[PAD]', '[PAD]', '[PAD]', '[PAD]', '[PAD]', '[PAD]', '[PAD]', '[PAD]', '[PAD]', '[PAD]', '[PAD]', '[PAD]', '[PAD]', '[PAD]', '[PAD]', '[PAD]', '[PAD]', '[PAD]', '[PAD]', '[PAD]', '[PAD]', '[PAD]', '[PAD]', '[PAD]', '[PAD]', '[PAD]', '[PAD]']\n",
      "[0 0 0 0 0 0 0 0 0 0 0 0 0 0 0 0 0 0 0 0 0 0 0 0 0 0 0 0 0 0 0 0 0 0 0 0 0\n",
      " 0 0 0 0 0 0 0 0 0 0 0 0 0]\n",
      "[-100    1    1    1    1 -100 -100 -100    1 -100 -100    1    1    1\n",
      "    1    1    1    1    1    1    1    1    1    1    1    1 -100 -100\n",
      " -100 -100 -100 -100 -100 -100 -100 -100 -100 -100 -100 -100 -100 -100\n",
      " -100 -100 -100 -100 -100 -100 -100 -100]\n",
      "\n"
     ]
    }
   ],
   "source": [
    "loss, preds, truth = evaluate(model, dev_dataloader)"
   ]
  },
  {
   "cell_type": "code",
   "execution_count": 60,
   "metadata": {},
   "outputs": [
    {
     "data": {
      "text/plain": [
       "['[CLS]',\n",
       " '54',\n",
       " '##fb',\n",
       " '##0',\n",
       " '##7',\n",
       " '##ac',\n",
       " '##c',\n",
       " '##40',\n",
       " '##33',\n",
       " '##c',\n",
       " '##f',\n",
       " '##8',\n",
       " '##f',\n",
       " '##0',\n",
       " '##d',\n",
       " '##0',\n",
       " '##e',\n",
       " '##44',\n",
       " '##20',\n",
       " '##15',\n",
       " '##f',\n",
       " '##39',\n",
       " '##41',\n",
       " '##e',\n",
       " '##5',\n",
       " '##ae',\n",
       " '##bf',\n",
       " '##8',\n",
       " '##8',\n",
       " '##e',\n",
       " '##85',\n",
       " '##34',\n",
       " '##da',\n",
       " '##7',\n",
       " '##ee',\n",
       " '##56',\n",
       " '##ee',\n",
       " '##ae',\n",
       " '##0',\n",
       " '##b',\n",
       " '##6',\n",
       " '##ba',\n",
       " '##28',\n",
       " '##1',\n",
       " '[SEP]',\n",
       " '[PAD]',\n",
       " '[PAD]',\n",
       " '[PAD]',\n",
       " '[PAD]',\n",
       " '[PAD]']"
      ]
     },
     "execution_count": 60,
     "metadata": {},
     "output_type": "execute_result"
    }
   ],
   "source": [
    "tokens = tokenizer.convert_ids_to_tokens([  101,  5139, 26337,  2692,  2581,  6305,  2278, 12740, 22394,  2278,\n",
    "          2546,  2620,  2546,  2692,  2094,  2692,  2063, 22932, 11387, 16068,\n",
    "          2546, 23499, 23632,  2063,  2629,  6679, 29292,  2620,  2620,  2063,\n",
    "         27531, 22022,  2850,  2581,  4402, 26976,  4402,  6679,  2692,  2497,\n",
    "          2575,  3676, 22407,  2487,   102,     0,     0,     0,     0,     0])\n",
    "tokens"
   ]
  },
  {
   "cell_type": "code",
   "execution_count": 14,
   "metadata": {},
   "outputs": [
    {
     "data": {
      "text/plain": [
       "[<matplotlib.lines.Line2D at 0x7f31e6541940>]"
      ]
     },
     "execution_count": 14,
     "metadata": {},
     "output_type": "execute_result"
    },
    {
     "data": {
      "image/png": "[encoded data removed]",
      "text/plain": [
       "<Figure size 432x288 with 1 Axes>"
      ]
     },
     "metadata": {
      "needs_background": "light"
     },
     "output_type": "display_data"
    }
   ],
   "source": [
    "fig, ax = plt.subplots()\n",
    "ax.plot(np.arange(len(train_loss_timeline)), train_loss_timeline, label=\"train\")\n",
    "ax.plot(np.arange(len(dev_loss_timeline)), dev_loss_timeline, label=\"dev\")"
   ]
  },
  {
   "cell_type": "code",
   "execution_count": 13,
   "metadata": {},
   "outputs": [],
   "source": [
    "eval_sampler = SequentialSampler(eval_dataset)"
   ]
  },
  {
   "cell_type": "code",
   "execution_count": 22,
   "metadata": {},
   "outputs": [
    {
     "name": "stdout",
     "output_type": "stream",
     "text": [
      "              precision    recall  f1-score   support\n",
      "\n",
      "     B-claim       0.00      0.00      0.00      1428\n",
      "     I-claim       0.59      0.66      0.62     16140\n",
      "           O       0.81      0.79      0.80     31331\n",
      "\n",
      "   micro avg       0.72      0.72      0.72     48899\n",
      "   macro avg       0.46      0.48      0.47     48899\n",
      "weighted avg       0.71      0.72      0.72     48899\n",
      "\n"
     ]
    }
   ],
   "source": [
    "from sklearn.metrics import classification_report\n",
    "\n",
    "label_map = {i: label for i, label in enumerate(possible_labels)}\n",
    "\n",
    "out_label_list = [[] for _ in range(out_label_ids.shape[0])]\n",
    "preds_list = [[] for _ in range(out_label_ids.shape[0])]\n",
    "\n",
    "for i in range(out_label_ids.shape[0]):\n",
    "    for j in range(out_label_ids.shape[1]):\n",
    "        if out_label_ids[i, j] != pad_token_label_id:\n",
    "            out_label_list[i].append(label_map[out_label_ids[i][j]])\n",
    "            preds_list[i].append(label_map[preds[i][j]])\n",
    "\n",
    "results = {\n",
    "    \"loss\": eval_loss,\n",
    "    \"precision\": precision_score(out_label_list, preds_list),\n",
    "    \"recall\": recall_score(out_label_list, preds_list),\n",
    "    \"f1\": f1_score([o for sentence in out_label_list for o in sentence], [p for sentence in preds_list for p in sentence])\n",
    "}\n",
    "\n",
    "trues = [o for sentence in out_label_list for o in sentence]\n",
    "predicteds = [p for sentence in preds_list for p in sentence]\n",
    "\n",
    "print(classification_report(trues, predicteds))"
   ]
  },
  {
   "cell_type": "code",
   "execution_count": 75,
   "metadata": {},
   "outputs": [
    {
     "ename": "KeyError",
     "evalue": "15440",
     "output_type": "error",
     "traceback": [
      "\u001b[0;31m---------------------------------------------------------------------------\u001b[0m",
      "\u001b[0;31mKeyError\u001b[0m                                  Traceback (most recent call last)",
      "\u001b[0;32m<ipython-input-75-c72315a558ce>\u001b[0m in \u001b[0;36m<module>\u001b[0;34m\u001b[0m\n\u001b[1;32m     12\u001b[0m             \u001b[0;32mif\u001b[0m \u001b[0mout_label_ids\u001b[0m\u001b[0;34m[\u001b[0m\u001b[0mi\u001b[0m\u001b[0;34m,\u001b[0m \u001b[0mj\u001b[0m\u001b[0;34m]\u001b[0m \u001b[0;34m!=\u001b[0m \u001b[0mpad_token_label_id\u001b[0m\u001b[0;34m:\u001b[0m\u001b[0;34m\u001b[0m\u001b[0;34m\u001b[0m\u001b[0m\n\u001b[1;32m     13\u001b[0m                 \u001b[0mout_label_list\u001b[0m\u001b[0;34m[\u001b[0m\u001b[0mi\u001b[0m\u001b[0;34m]\u001b[0m\u001b[0;34m.\u001b[0m\u001b[0mappend\u001b[0m\u001b[0;34m(\u001b[0m\u001b[0mlabel_map\u001b[0m\u001b[0;34m[\u001b[0m\u001b[0mout_label_ids\u001b[0m\u001b[0;34m[\u001b[0m\u001b[0mi\u001b[0m\u001b[0;34m]\u001b[0m\u001b[0;34m[\u001b[0m\u001b[0mj\u001b[0m\u001b[0;34m]\u001b[0m\u001b[0;34m]\u001b[0m\u001b[0;34m)\u001b[0m\u001b[0;34m\u001b[0m\u001b[0;34m\u001b[0m\u001b[0m\n\u001b[0;32m---> 14\u001b[0;31m                 \u001b[0mpreds_list\u001b[0m\u001b[0;34m[\u001b[0m\u001b[0mi\u001b[0m\u001b[0;34m]\u001b[0m\u001b[0;34m.\u001b[0m\u001b[0mappend\u001b[0m\u001b[0;34m(\u001b[0m\u001b[0mlabel_map\u001b[0m\u001b[0;34m[\u001b[0m\u001b[0mpreds\u001b[0m\u001b[0;34m[\u001b[0m\u001b[0mi\u001b[0m\u001b[0;34m]\u001b[0m\u001b[0;34m[\u001b[0m\u001b[0mj\u001b[0m\u001b[0;34m]\u001b[0m\u001b[0;34m]\u001b[0m\u001b[0;34m)\u001b[0m\u001b[0;34m\u001b[0m\u001b[0;34m\u001b[0m\u001b[0m\n\u001b[0m\u001b[1;32m     15\u001b[0m \u001b[0;34m\u001b[0m\u001b[0m\n\u001b[1;32m     16\u001b[0m     results = {\n",
      "\u001b[0;31mKeyError\u001b[0m: 15440"
     ]
    }
   ],
   "source": [
    "with torch.cuda.device(1):\n",
    "    eval_loss = eval_loss / nb_eval_steps\n",
    "    preds = np.argmax(preds, axis=2)\n",
    "\n",
    "    label_map = {i: label for i, label in enumerate(labels_test)}\n",
    "\n",
    "    out_label_list = [[] for _ in range(out_label_ids.shape[0])]\n",
    "    preds_list = [[] for _ in range(out_label_ids.shape[0])]\n",
    "\n",
    "    for i in range(out_label_ids.shape[0]):\n",
    "        for j in range(out_label_ids.shape[1]):\n",
    "            if out_label_ids[i, j] != pad_token_label_id:\n",
    "                out_label_list[i].append(label_map[out_label_ids[i][j]])\n",
    "                preds_list[i].append(label_map[preds[i][j]])\n",
    "\n",
    "    results = {\n",
    "        \"loss\": eval_loss,\n",
    "        \"precision\": precision_score(out_label_list, preds_list),\n",
    "        \"recall\": recall_score(out_label_list, preds_list),\n",
    "        \"f1\": f1_score(out_label_list, preds_list)\n",
    "    }"
   ]
  },
  {
   "cell_type": "code",
   "execution_count": 47,
   "metadata": {},
   "outputs": [
    {
     "ename": "KeyError",
     "evalue": "tensor(-100, device='cuda:1')",
     "output_type": "error",
     "traceback": [
      "\u001b[0;31m---------------------------------------------------------------------------\u001b[0m",
      "\u001b[0;31mKeyError\u001b[0m                                  Traceback (most recent call last)",
      "\u001b[0;32m<ipython-input-47-f1697f833e91>\u001b[0m in \u001b[0;36m<module>\u001b[0;34m\u001b[0m\n\u001b[0;32m----> 1\u001b[0;31m \u001b[0mlabel_map\u001b[0m\u001b[0;34m[\u001b[0m\u001b[0mvalid_tags\u001b[0m\u001b[0;34m[\u001b[0m\u001b[0;36m0\u001b[0m\u001b[0;34m]\u001b[0m\u001b[0;34m]\u001b[0m\u001b[0;34m\u001b[0m\u001b[0;34m\u001b[0m\u001b[0m\n\u001b[0m",
      "\u001b[0;31mKeyError\u001b[0m: tensor(-100, device='cuda:1')"
     ]
    }
   ],
   "source": [
    "label_map[valid_tags[0]]\n"
   ]
  },
  {
   "cell_type": "markdown",
   "metadata": {},
   "source": [
    "# Test with SimpleTransformers"
   ]
  },
  {
   "cell_type": "code",
   "execution_count": 1,
   "metadata": {},
   "outputs": [
    {
     "name": "stderr",
     "output_type": "stream",
     "text": [
      "I0120 20:59:27.730277 140119746860800 file_utils.py:35] PyTorch version 1.0.1 available.\n"
     ]
    },
    {
     "data": {
      "text/plain": [
       "'2.3.0'"
      ]
     },
     "execution_count": 1,
     "metadata": {},
     "output_type": "execute_result"
    }
   ],
   "source": [
    "import transformers\n",
    "import simpletransformers\n",
    "\n",
    "transformers.__version__"
   ]
  },
  {
   "cell_type": "code",
   "execution_count": 1,
   "metadata": {},
   "outputs": [
    {
     "name": "stderr",
     "output_type": "stream",
     "text": [
      "I0122 15:23:04.343995 140095059437312 file_utils.py:35] PyTorch version 1.0.1 available.\n"
     ]
    }
   ],
   "source": [
    "import transformers\n",
    "import sklearn\n",
    "from transformers import AdamW, get_linear_schedule_with_warmup\n",
    "from simpletransformers.classification import ClassificationModel\n",
    "from simpletransformers.classification import MultiLabelClassificationModel\n",
    "from simpletransformers.ner import NERModel\n",
    "import pandas as pd\n",
    "#simpletransformers.__version__"
   ]
  },
  {
   "cell_type": "code",
   "execution_count": 13,
   "metadata": {},
   "outputs": [
    {
     "data": {
      "text/plain": [
       "39306"
      ]
     },
     "execution_count": 13,
     "metadata": {},
     "output_type": "execute_result"
    }
   ],
   "source": [
    "training_data = pd.read_csv(\"../train_mm.txt\", sep='\\t', encoding=\"latin1\").fillna(method=\"ffill\")\n",
    "training_data = training_data.drop(columns=['idx', 'basura', 'basura.1'])\n",
    "training_data = training_data.rename({'tag':'labels','sentence':'sentence_id', 'text': 'words'},axis=1)\n",
    "\n",
    "Os_tr = training_data[training_data['labels'] == 'O']\n",
    "claims_tr = training_data[training_data['labels'] == 'claim']\n",
    "\n",
    "test_data = pd.read_csv(\"../test_mm.txt\", sep='\\t', encoding=\"latin1\").fillna(method=\"ffill\")\n",
    "test_data = test_data.drop(columns=['idx', 'basura', 'basura.1'])\n",
    "test_data = test_data.rename({'tag':'labels','sentence':'sentence_id', 'text': 'words'},axis=1)\n",
    "\n",
    "Os_test = test_data[test_data['labels'] == 'O']\n",
    "claims_test = test_data[test_data['labels'] == 'claim']\n",
    "\n",
    "dev_data = pd.read_csv(\"../dev_mm.txt\", sep='\\t', encoding=\"latin1\").fillna(method=\"ffill\")\n",
    "dev_data = dev_data.drop(columns=['idx', 'basura', 'basura.1'])\n",
    "dev_data = dev_data.rename({'tag':'labels','sentence':'sentence_id', 'text': 'words'},axis=1)\n",
    "\n",
    "Os_dev = dev_data[dev_data['labels'] == 'O']\n",
    "claims_dev = dev_data[dev_data['labels'] == 'claim']\n",
    "\n",
    "len(set(training_data['words'] + test_data['words'] + dev_data['words']))\n"
   ]
  },
  {
   "cell_type": "code",
   "execution_count": 4,
   "metadata": {},
   "outputs": [],
   "source": [
    "\n",
    "# dev_data"
   ]
  },
  {
   "cell_type": "code",
   "execution_count": 37,
   "metadata": {
    "scrolled": true
   },
   "outputs": [
    {
     "name": "stderr",
     "output_type": "stream",
     "text": [
      "I0120 20:50:15.123761 139730880038656 configuration_utils.py:182] loading configuration file bert-large-cased-2e-05-0.3-NER/epoch-30/config.json\n",
      "I0120 20:50:15.125301 139730880038656 configuration_utils.py:199] Model config {\n",
      "  \"attention_probs_dropout_prob\": 0.1,\n",
      "  \"directionality\": \"bidi\",\n",
      "  \"finetuning_task\": null,\n",
      "  \"hidden_act\": \"gelu\",\n",
      "  \"hidden_dropout_prob\": 0.1,\n",
      "  \"hidden_size\": 1024,\n",
      "  \"id2label\": {\n",
      "    \"0\": \"LABEL_0\",\n",
      "    \"1\": \"LABEL_1\"\n",
      "  },\n",
      "  \"initializer_range\": 0.02,\n",
      "  \"intermediate_size\": 4096,\n",
      "  \"is_decoder\": false,\n",
      "  \"label2id\": {\n",
      "    \"LABEL_0\": 0,\n",
      "    \"LABEL_1\": 1\n",
      "  },\n",
      "  \"layer_norm_eps\": 1e-12,\n",
      "  \"max_position_embeddings\": 512,\n",
      "  \"num_attention_heads\": 16,\n",
      "  \"num_hidden_layers\": 24,\n",
      "  \"num_labels\": 2,\n",
      "  \"output_attentions\": false,\n",
      "  \"output_hidden_states\": false,\n",
      "  \"output_past\": true,\n",
      "  \"pooler_fc_size\": 768,\n",
      "  \"pooler_num_attention_heads\": 12,\n",
      "  \"pooler_num_fc_layers\": 3,\n",
      "  \"pooler_size_per_head\": 128,\n",
      "  \"pooler_type\": \"first_token_transform\",\n",
      "  \"pruned_heads\": {},\n",
      "  \"torchscript\": false,\n",
      "  \"type_vocab_size\": 2,\n",
      "  \"use_bfloat16\": false,\n",
      "  \"vocab_size\": 28996\n",
      "}\n",
      "\n",
      "I0120 20:50:15.126318 139730880038656 modeling_utils.py:403] loading weights file bert-large-cased-2e-05-0.3-NER/epoch-30/pytorch_model.bin\n",
      "I0120 20:50:24.459072 139730880038656 tokenization_utils.py:327] Model name 'bert-large-cased-2e-05-0.3-NER/epoch-30' not found in model shortcut name list (bert-base-uncased, bert-large-uncased, bert-base-cased, bert-large-cased, bert-base-multilingual-uncased, bert-base-multilingual-cased, bert-base-chinese, bert-base-german-cased, bert-large-uncased-whole-word-masking, bert-large-cased-whole-word-masking, bert-large-uncased-whole-word-masking-finetuned-squad, bert-large-cased-whole-word-masking-finetuned-squad, bert-base-cased-finetuned-mrpc, bert-base-german-dbmdz-cased, bert-base-german-dbmdz-uncased, bert-base-finnish-cased-v1, bert-base-finnish-uncased-v1). Assuming 'bert-large-cased-2e-05-0.3-NER/epoch-30' is a path or url to a directory containing tokenizer files.\n",
      "I0120 20:50:24.461119 139730880038656 tokenization_utils.py:395] loading file bert-large-cased-2e-05-0.3-NER/epoch-30/vocab.txt\n",
      "I0120 20:50:24.461838 139730880038656 tokenization_utils.py:395] loading file bert-large-cased-2e-05-0.3-NER/epoch-30/added_tokens.json\n",
      "I0120 20:50:24.462645 139730880038656 tokenization_utils.py:395] loading file bert-large-cased-2e-05-0.3-NER/epoch-30/special_tokens_map.json\n",
      "I0120 20:50:24.463374 139730880038656 tokenization_utils.py:395] loading file bert-large-cased-2e-05-0.3-NER/epoch-30/tokenizer_config.json\n"
     ]
    },
    {
     "name": "stdout",
     "output_type": "stream",
     "text": [
      "Features loaded from cache at cache_dir/cached_dev_bert_128_2_2944\n"
     ]
    },
    {
     "data": {
      "application/vnd.jupyter.widget-view+json": {
       "model_id": "3d4b0650fc564be2a5cf49f499e039a1",
       "version_major": 2,
       "version_minor": 0
      },
      "text/plain": [
       "HBox(children=(IntProgress(value=0, max=368), HTML(value='')))"
      ]
     },
     "metadata": {},
     "output_type": "display_data"
    },
    {
     "name": "stdout",
     "output_type": "stream",
     "text": [
      "\n",
      "{'eval_loss': 1.731662270674296, 'precision': 0.5285972305839856, 'recall': 0.6076124567474048, 'f1_score': 0.5653573728267869}\n"
     ]
    }
   ],
   "source": [
    "bert_model_finetune = NERModel('bert', 'bert-large-cased-2e-05-0.3-NER/epoch-30', args={'learning_rate': 2e-05, 'overwrite_output_dir': True, 'reprocess_input_data': True, 'num_train_epochs': 40, 'evaluate_during_training': True, 'attention_probs_dropout_prob': 0.1, 'hidden_dropout_prob': 0.1, 'evaluate_during_training_steps': 0, 'save_steps': 0, 'adam_epsilon': 1e-6, 'layer_norm_eps': 1e-8}, labels=['O', 'claim'])\n",
    "result, model_outputs, predictions = bert_model_finetune.eval_model(test_data)"
   ]
  },
  {
   "cell_type": "code",
   "execution_count": 29,
   "metadata": {},
   "outputs": [
    {
     "data": {
      "text/html": [
       "<div>\n",
       "<style scoped>\n",
       "    .dataframe tbody tr th:only-of-type {\n",
       "        vertical-align: middle;\n",
       "    }\n",
       "\n",
       "    .dataframe tbody tr th {\n",
       "        vertical-align: top;\n",
       "    }\n",
       "\n",
       "    .dataframe thead th {\n",
       "        text-align: right;\n",
       "    }\n",
       "</style>\n",
       "<table border=\"1\" class=\"dataframe\">\n",
       "  <thead>\n",
       "    <tr style=\"text-align: right;\">\n",
       "      <th></th>\n",
       "      <th>words</th>\n",
       "      <th>basura</th>\n",
       "      <th>basura.1</th>\n",
       "      <th>labels</th>\n",
       "      <th>sentence_id</th>\n",
       "    </tr>\n",
       "  </thead>\n",
       "  <tbody>\n",
       "    <tr>\n",
       "      <th>0</th>\n",
       "      <td>&lt;</td>\n",
       "      <td>_</td>\n",
       "      <td>_</td>\n",
       "      <td>O</td>\n",
       "      <td>0</td>\n",
       "    </tr>\n",
       "    <tr>\n",
       "      <th>1</th>\n",
       "      <td>?</td>\n",
       "      <td>_</td>\n",
       "      <td>_</td>\n",
       "      <td>O</td>\n",
       "      <td>0</td>\n",
       "    </tr>\n",
       "    <tr>\n",
       "      <th>2</th>\n",
       "      <td>xml</td>\n",
       "      <td>_</td>\n",
       "      <td>_</td>\n",
       "      <td>O</td>\n",
       "      <td>0</td>\n",
       "    </tr>\n",
       "    <tr>\n",
       "      <th>3</th>\n",
       "      <td>version=</td>\n",
       "      <td>_</td>\n",
       "      <td>_</td>\n",
       "      <td>O</td>\n",
       "      <td>0</td>\n",
       "    </tr>\n",
       "    <tr>\n",
       "      <th>4</th>\n",
       "      <td>\\t_\\t_\\tO\\t0\\n5\\t1.0\\t_\\t_\\tO\\t0\\n6\\t</td>\n",
       "      <td>_</td>\n",
       "      <td>_</td>\n",
       "      <td>O</td>\n",
       "      <td>0</td>\n",
       "    </tr>\n",
       "    <tr>\n",
       "      <th>5</th>\n",
       "      <td>encoding=</td>\n",
       "      <td>_</td>\n",
       "      <td>_</td>\n",
       "      <td>O</td>\n",
       "      <td>0</td>\n",
       "    </tr>\n",
       "    <tr>\n",
       "      <th>6</th>\n",
       "      <td>\\t_\\t_\\tO\\t0\\n9\\tUTF-8\\t_\\t_\\tO\\t0\\n10\\t</td>\n",
       "      <td>_</td>\n",
       "      <td>_</td>\n",
       "      <td>O</td>\n",
       "      <td>0</td>\n",
       "    </tr>\n",
       "    <tr>\n",
       "      <th>7</th>\n",
       "      <td>standalone=</td>\n",
       "      <td>_</td>\n",
       "      <td>_</td>\n",
       "      <td>O</td>\n",
       "      <td>0</td>\n",
       "    </tr>\n",
       "    <tr>\n",
       "      <th>8</th>\n",
       "      <td>\\t_\\t_\\tO\\t0\\n13\\tno\\t_\\t_\\tO\\t0\\n14\\t</td>\n",
       "      <td>_</td>\n",
       "      <td>_</td>\n",
       "      <td>O</td>\n",
       "      <td>0</td>\n",
       "    </tr>\n",
       "    <tr>\n",
       "      <th>9</th>\n",
       "      <td>?</td>\n",
       "      <td>_</td>\n",
       "      <td>_</td>\n",
       "      <td>O</td>\n",
       "      <td>0</td>\n",
       "    </tr>\n",
       "    <tr>\n",
       "      <th>10</th>\n",
       "      <td>&gt;</td>\n",
       "      <td>_</td>\n",
       "      <td>_</td>\n",
       "      <td>O</td>\n",
       "      <td>0</td>\n",
       "    </tr>\n",
       "    <tr>\n",
       "      <th>11</th>\n",
       "      <td>&lt;</td>\n",
       "      <td>_</td>\n",
       "      <td>_</td>\n",
       "      <td>O</td>\n",
       "      <td>1</td>\n",
       "    </tr>\n",
       "    <tr>\n",
       "      <th>12</th>\n",
       "      <td>Document</td>\n",
       "      <td>_</td>\n",
       "      <td>_</td>\n",
       "      <td>O</td>\n",
       "      <td>1</td>\n",
       "    </tr>\n",
       "    <tr>\n",
       "      <th>13</th>\n",
       "      <td>xmlns</td>\n",
       "      <td>_</td>\n",
       "      <td>_</td>\n",
       "      <td>O</td>\n",
       "      <td>1</td>\n",
       "    </tr>\n",
       "    <tr>\n",
       "      <th>14</th>\n",
       "      <td>:</td>\n",
       "      <td>_</td>\n",
       "      <td>_</td>\n",
       "      <td>O</td>\n",
       "      <td>1</td>\n",
       "    </tr>\n",
       "    <tr>\n",
       "      <th>15</th>\n",
       "      <td>gate=</td>\n",
       "      <td>_</td>\n",
       "      <td>_</td>\n",
       "      <td>O</td>\n",
       "      <td>1</td>\n",
       "    </tr>\n",
       "    <tr>\n",
       "      <th>16</th>\n",
       "      <td>\\t_\\t_\\tO\\t1\\n23\\thttp\\t_\\t_\\tO\\t1\\n24\\t:\\t_\\t...</td>\n",
       "      <td>_</td>\n",
       "      <td>_</td>\n",
       "      <td>O</td>\n",
       "      <td>1</td>\n",
       "    </tr>\n",
       "    <tr>\n",
       "      <th>17</th>\n",
       "      <td>name=</td>\n",
       "      <td>_</td>\n",
       "      <td>_</td>\n",
       "      <td>O</td>\n",
       "      <td>1</td>\n",
       "    </tr>\n",
       "    <tr>\n",
       "      <th>18</th>\n",
       "      <td>\\t_\\t_\\tO\\t1\\n29\\tA27_F07_Highly_Adaptive_Liqu...</td>\n",
       "      <td>_</td>\n",
       "      <td>_</td>\n",
       "      <td>O</td>\n",
       "      <td>1</td>\n",
       "    </tr>\n",
       "    <tr>\n",
       "      <th>19</th>\n",
       "      <td>&gt;</td>\n",
       "      <td>_</td>\n",
       "      <td>_</td>\n",
       "      <td>O</td>\n",
       "      <td>1</td>\n",
       "    </tr>\n",
       "    <tr>\n",
       "      <th>20</th>\n",
       "      <td>1bc32fd79f71ddaed6dc90f472a41b0eaae0eba6d03053...</td>\n",
       "      <td>_</td>\n",
       "      <td>_</td>\n",
       "      <td>O</td>\n",
       "      <td>2</td>\n",
       "    </tr>\n",
       "    <tr>\n",
       "      <th>21</th>\n",
       "      <td>3x6m</td>\n",
       "      <td>_</td>\n",
       "      <td>_</td>\n",
       "      <td>O</td>\n",
       "      <td>3</td>\n",
       "    </tr>\n",
       "    <tr>\n",
       "      <th>22</th>\n",
       "      <td>http</td>\n",
       "      <td>_</td>\n",
       "      <td>_</td>\n",
       "      <td>O</td>\n",
       "      <td>4</td>\n",
       "    </tr>\n",
       "    <tr>\n",
       "      <th>23</th>\n",
       "      <td>:</td>\n",
       "      <td>_</td>\n",
       "      <td>_</td>\n",
       "      <td>O</td>\n",
       "      <td>4</td>\n",
       "    </tr>\n",
       "    <tr>\n",
       "      <th>24</th>\n",
       "      <td>//dx.doi.org/10.1145/2461912.2461982</td>\n",
       "      <td>_</td>\n",
       "      <td>_</td>\n",
       "      <td>O</td>\n",
       "      <td>4</td>\n",
       "    </tr>\n",
       "    <tr>\n",
       "      <th>25</th>\n",
       "      <td>&lt;</td>\n",
       "      <td>_</td>\n",
       "      <td>_</td>\n",
       "      <td>O</td>\n",
       "      <td>5</td>\n",
       "    </tr>\n",
       "    <tr>\n",
       "      <th>26</th>\n",
       "      <td>Title</td>\n",
       "      <td>_</td>\n",
       "      <td>_</td>\n",
       "      <td>O</td>\n",
       "      <td>5</td>\n",
       "    </tr>\n",
       "    <tr>\n",
       "      <th>27</th>\n",
       "      <td>&gt;</td>\n",
       "      <td>_</td>\n",
       "      <td>_</td>\n",
       "      <td>O</td>\n",
       "      <td>5</td>\n",
       "    </tr>\n",
       "    <tr>\n",
       "      <th>28</th>\n",
       "      <td>Highly</td>\n",
       "      <td>_</td>\n",
       "      <td>_</td>\n",
       "      <td>O</td>\n",
       "      <td>5</td>\n",
       "    </tr>\n",
       "    <tr>\n",
       "      <th>29</th>\n",
       "      <td>Adaptive</td>\n",
       "      <td>_</td>\n",
       "      <td>_</td>\n",
       "      <td>O</td>\n",
       "      <td>5</td>\n",
       "    </tr>\n",
       "    <tr>\n",
       "      <th>...</th>\n",
       "      <td>...</td>\n",
       "      <td>...</td>\n",
       "      <td>...</td>\n",
       "      <td>...</td>\n",
       "      <td>...</td>\n",
       "    </tr>\n",
       "    <tr>\n",
       "      <th>50135</th>\n",
       "      <td>Badler</td>\n",
       "      <td>_</td>\n",
       "      <td>_</td>\n",
       "      <td>O</td>\n",
       "      <td>2944</td>\n",
       "    </tr>\n",
       "    <tr>\n",
       "      <th>50136</th>\n",
       "      <td>.</td>\n",
       "      <td>_</td>\n",
       "      <td>_</td>\n",
       "      <td>O</td>\n",
       "      <td>2944</td>\n",
       "    </tr>\n",
       "    <tr>\n",
       "      <th>50137</th>\n",
       "      <td>Inverse</td>\n",
       "      <td>_</td>\n",
       "      <td>_</td>\n",
       "      <td>O</td>\n",
       "      <td>2945</td>\n",
       "    </tr>\n",
       "    <tr>\n",
       "      <th>50138</th>\n",
       "      <td>kinematics</td>\n",
       "      <td>_</td>\n",
       "      <td>_</td>\n",
       "      <td>O</td>\n",
       "      <td>2945</td>\n",
       "    </tr>\n",
       "    <tr>\n",
       "      <th>50139</th>\n",
       "      <td>positioning</td>\n",
       "      <td>_</td>\n",
       "      <td>_</td>\n",
       "      <td>O</td>\n",
       "      <td>2945</td>\n",
       "    </tr>\n",
       "    <tr>\n",
       "      <th>50140</th>\n",
       "      <td>using</td>\n",
       "      <td>_</td>\n",
       "      <td>_</td>\n",
       "      <td>O</td>\n",
       "      <td>2945</td>\n",
       "    </tr>\n",
       "    <tr>\n",
       "      <th>50141</th>\n",
       "      <td>nonlinear</td>\n",
       "      <td>_</td>\n",
       "      <td>_</td>\n",
       "      <td>O</td>\n",
       "      <td>2945</td>\n",
       "    </tr>\n",
       "    <tr>\n",
       "      <th>50142</th>\n",
       "      <td>programming</td>\n",
       "      <td>_</td>\n",
       "      <td>_</td>\n",
       "      <td>O</td>\n",
       "      <td>2945</td>\n",
       "    </tr>\n",
       "    <tr>\n",
       "      <th>50143</th>\n",
       "      <td>for</td>\n",
       "      <td>_</td>\n",
       "      <td>_</td>\n",
       "      <td>O</td>\n",
       "      <td>2945</td>\n",
       "    </tr>\n",
       "    <tr>\n",
       "      <th>50144</th>\n",
       "      <td>highly</td>\n",
       "      <td>_</td>\n",
       "      <td>_</td>\n",
       "      <td>O</td>\n",
       "      <td>2945</td>\n",
       "    </tr>\n",
       "    <tr>\n",
       "      <th>50145</th>\n",
       "      <td>articulated</td>\n",
       "      <td>_</td>\n",
       "      <td>_</td>\n",
       "      <td>O</td>\n",
       "      <td>2945</td>\n",
       "    </tr>\n",
       "    <tr>\n",
       "      <th>50146</th>\n",
       "      <td>figures</td>\n",
       "      <td>_</td>\n",
       "      <td>_</td>\n",
       "      <td>O</td>\n",
       "      <td>2945</td>\n",
       "    </tr>\n",
       "    <tr>\n",
       "      <th>50147</th>\n",
       "      <td>.</td>\n",
       "      <td>_</td>\n",
       "      <td>_</td>\n",
       "      <td>O</td>\n",
       "      <td>2945</td>\n",
       "    </tr>\n",
       "    <tr>\n",
       "      <th>50148</th>\n",
       "      <td>ACM</td>\n",
       "      <td>_</td>\n",
       "      <td>_</td>\n",
       "      <td>O</td>\n",
       "      <td>2946</td>\n",
       "    </tr>\n",
       "    <tr>\n",
       "      <th>50149</th>\n",
       "      <td>Transactions</td>\n",
       "      <td>_</td>\n",
       "      <td>_</td>\n",
       "      <td>O</td>\n",
       "      <td>2946</td>\n",
       "    </tr>\n",
       "    <tr>\n",
       "      <th>50150</th>\n",
       "      <td>on</td>\n",
       "      <td>_</td>\n",
       "      <td>_</td>\n",
       "      <td>O</td>\n",
       "      <td>2946</td>\n",
       "    </tr>\n",
       "    <tr>\n",
       "      <th>50151</th>\n",
       "      <td>Graphics</td>\n",
       "      <td>_</td>\n",
       "      <td>_</td>\n",
       "      <td>O</td>\n",
       "      <td>2946</td>\n",
       "    </tr>\n",
       "    <tr>\n",
       "      <th>50152</th>\n",
       "      <td>,</td>\n",
       "      <td>_</td>\n",
       "      <td>_</td>\n",
       "      <td>O</td>\n",
       "      <td>2946</td>\n",
       "    </tr>\n",
       "    <tr>\n",
       "      <th>50153</th>\n",
       "      <td>13</td>\n",
       "      <td>_</td>\n",
       "      <td>_</td>\n",
       "      <td>O</td>\n",
       "      <td>2946</td>\n",
       "    </tr>\n",
       "    <tr>\n",
       "      <th>50154</th>\n",
       "      <td>(</td>\n",
       "      <td>_</td>\n",
       "      <td>_</td>\n",
       "      <td>O</td>\n",
       "      <td>2946</td>\n",
       "    </tr>\n",
       "    <tr>\n",
       "      <th>50155</th>\n",
       "      <td>4</td>\n",
       "      <td>_</td>\n",
       "      <td>_</td>\n",
       "      <td>O</td>\n",
       "      <td>2946</td>\n",
       "    </tr>\n",
       "    <tr>\n",
       "      <th>50156</th>\n",
       "      <td>)</td>\n",
       "      <td>_</td>\n",
       "      <td>_</td>\n",
       "      <td>O</td>\n",
       "      <td>2946</td>\n",
       "    </tr>\n",
       "    <tr>\n",
       "      <th>50157</th>\n",
       "      <td>:313â336</td>\n",
       "      <td>_</td>\n",
       "      <td>_</td>\n",
       "      <td>O</td>\n",
       "      <td>2946</td>\n",
       "    </tr>\n",
       "    <tr>\n",
       "      <th>50158</th>\n",
       "      <td>,</td>\n",
       "      <td>_</td>\n",
       "      <td>_</td>\n",
       "      <td>O</td>\n",
       "      <td>2946</td>\n",
       "    </tr>\n",
       "    <tr>\n",
       "      <th>50159</th>\n",
       "      <td>October</td>\n",
       "      <td>_</td>\n",
       "      <td>_</td>\n",
       "      <td>O</td>\n",
       "      <td>2946</td>\n",
       "    </tr>\n",
       "    <tr>\n",
       "      <th>50160</th>\n",
       "      <td>1994</td>\n",
       "      <td>_</td>\n",
       "      <td>_</td>\n",
       "      <td>O</td>\n",
       "      <td>2946</td>\n",
       "    </tr>\n",
       "    <tr>\n",
       "      <th>50161</th>\n",
       "      <td>.</td>\n",
       "      <td>_</td>\n",
       "      <td>_</td>\n",
       "      <td>O</td>\n",
       "      <td>2946</td>\n",
       "    </tr>\n",
       "    <tr>\n",
       "      <th>50162</th>\n",
       "      <td>&lt;</td>\n",
       "      <td>_</td>\n",
       "      <td>_</td>\n",
       "      <td>O</td>\n",
       "      <td>2947</td>\n",
       "    </tr>\n",
       "    <tr>\n",
       "      <th>50163</th>\n",
       "      <td>/Document</td>\n",
       "      <td>_</td>\n",
       "      <td>_</td>\n",
       "      <td>O</td>\n",
       "      <td>2947</td>\n",
       "    </tr>\n",
       "    <tr>\n",
       "      <th>50164</th>\n",
       "      <td>&gt;</td>\n",
       "      <td>_</td>\n",
       "      <td>_</td>\n",
       "      <td>O</td>\n",
       "      <td>2947</td>\n",
       "    </tr>\n",
       "  </tbody>\n",
       "</table>\n",
       "<p>50165 rows × 5 columns</p>\n",
       "</div>"
      ],
      "text/plain": [
       "                                                   words basura basura.1  \\\n",
       "0                                                      <      _        _   \n",
       "1                                                      ?      _        _   \n",
       "2                                                    xml      _        _   \n",
       "3                                               version=      _        _   \n",
       "4                  \\t_\\t_\\tO\\t0\\n5\\t1.0\\t_\\t_\\tO\\t0\\n6\\t      _        _   \n",
       "5                                              encoding=      _        _   \n",
       "6               \\t_\\t_\\tO\\t0\\n9\\tUTF-8\\t_\\t_\\tO\\t0\\n10\\t      _        _   \n",
       "7                                            standalone=      _        _   \n",
       "8                 \\t_\\t_\\tO\\t0\\n13\\tno\\t_\\t_\\tO\\t0\\n14\\t      _        _   \n",
       "9                                                      ?      _        _   \n",
       "10                                                     >      _        _   \n",
       "11                                                     <      _        _   \n",
       "12                                              Document      _        _   \n",
       "13                                                 xmlns      _        _   \n",
       "14                                                     :      _        _   \n",
       "15                                                 gate=      _        _   \n",
       "16     \\t_\\t_\\tO\\t1\\n23\\thttp\\t_\\t_\\tO\\t1\\n24\\t:\\t_\\t...      _        _   \n",
       "17                                                 name=      _        _   \n",
       "18     \\t_\\t_\\tO\\t1\\n29\\tA27_F07_Highly_Adaptive_Liqu...      _        _   \n",
       "19                                                     >      _        _   \n",
       "20     1bc32fd79f71ddaed6dc90f472a41b0eaae0eba6d03053...      _        _   \n",
       "21                                                  3x6m      _        _   \n",
       "22                                                  http      _        _   \n",
       "23                                                     :      _        _   \n",
       "24                  //dx.doi.org/10.1145/2461912.2461982      _        _   \n",
       "25                                                     <      _        _   \n",
       "26                                                 Title      _        _   \n",
       "27                                                     >      _        _   \n",
       "28                                                Highly      _        _   \n",
       "29                                              Adaptive      _        _   \n",
       "...                                                  ...    ...      ...   \n",
       "50135                                             Badler      _        _   \n",
       "50136                                                  .      _        _   \n",
       "50137                                            Inverse      _        _   \n",
       "50138                                         kinematics      _        _   \n",
       "50139                                        positioning      _        _   \n",
       "50140                                              using      _        _   \n",
       "50141                                          nonlinear      _        _   \n",
       "50142                                        programming      _        _   \n",
       "50143                                                for      _        _   \n",
       "50144                                             highly      _        _   \n",
       "50145                                        articulated      _        _   \n",
       "50146                                            figures      _        _   \n",
       "50147                                                  .      _        _   \n",
       "50148                                                ACM      _        _   \n",
       "50149                                       Transactions      _        _   \n",
       "50150                                                 on      _        _   \n",
       "50151                                           Graphics      _        _   \n",
       "50152                                                  ,      _        _   \n",
       "50153                                                 13      _        _   \n",
       "50154                                                  (      _        _   \n",
       "50155                                                  4      _        _   \n",
       "50156                                                  )      _        _   \n",
       "50157                                         :313â336      _        _   \n",
       "50158                                                  ,      _        _   \n",
       "50159                                            October      _        _   \n",
       "50160                                               1994      _        _   \n",
       "50161                                                  .      _        _   \n",
       "50162                                                  <      _        _   \n",
       "50163                                          /Document      _        _   \n",
       "50164                                                  >      _        _   \n",
       "\n",
       "      labels  sentence_id  \n",
       "0          O            0  \n",
       "1          O            0  \n",
       "2          O            0  \n",
       "3          O            0  \n",
       "4          O            0  \n",
       "5          O            0  \n",
       "6          O            0  \n",
       "7          O            0  \n",
       "8          O            0  \n",
       "9          O            0  \n",
       "10         O            0  \n",
       "11         O            1  \n",
       "12         O            1  \n",
       "13         O            1  \n",
       "14         O            1  \n",
       "15         O            1  \n",
       "16         O            1  \n",
       "17         O            1  \n",
       "18         O            1  \n",
       "19         O            1  \n",
       "20         O            2  \n",
       "21         O            3  \n",
       "22         O            4  \n",
       "23         O            4  \n",
       "24         O            4  \n",
       "25         O            5  \n",
       "26         O            5  \n",
       "27         O            5  \n",
       "28         O            5  \n",
       "29         O            5  \n",
       "...      ...          ...  \n",
       "50135      O         2944  \n",
       "50136      O         2944  \n",
       "50137      O         2945  \n",
       "50138      O         2945  \n",
       "50139      O         2945  \n",
       "50140      O         2945  \n",
       "50141      O         2945  \n",
       "50142      O         2945  \n",
       "50143      O         2945  \n",
       "50144      O         2945  \n",
       "50145      O         2945  \n",
       "50146      O         2945  \n",
       "50147      O         2945  \n",
       "50148      O         2946  \n",
       "50149      O         2946  \n",
       "50150      O         2946  \n",
       "50151      O         2946  \n",
       "50152      O         2946  \n",
       "50153      O         2946  \n",
       "50154      O         2946  \n",
       "50155      O         2946  \n",
       "50156      O         2946  \n",
       "50157      O         2946  \n",
       "50158      O         2946  \n",
       "50159      O         2946  \n",
       "50160      O         2946  \n",
       "50161      O         2946  \n",
       "50162      O         2947  \n",
       "50163      O         2947  \n",
       "50164      O         2947  \n",
       "\n",
       "[50165 rows x 5 columns]"
      ]
     },
     "execution_count": 29,
     "metadata": {},
     "output_type": "execute_result"
    }
   ],
   "source": [
    "test_data"
   ]
  },
  {
   "cell_type": "code",
   "execution_count": 5,
   "metadata": {},
   "outputs": [
    {
     "name": "stderr",
     "output_type": "stream",
     "text": [
      "I0120 20:59:45.070146 140119746860800 configuration_utils.py:185] loading configuration file https://s3.amazonaws.com/models.huggingface.co/bert/bert-large-cased-config.json from cache at /home/dfurman/.cache/torch/transformers/90deb4d9dd705272dc4b3db1364d759d551d72a9f70a91f60e3a1f5e278b985d.e1d0cd972de64b28f3a5bee0ffccda07658b2b3e827e0ef38c5799e9aaa23f19\n",
      "I0120 20:59:45.072178 140119746860800 configuration_utils.py:199] Model config {\n",
      "  \"attention_probs_dropout_prob\": 0.1,\n",
      "  \"directionality\": \"bidi\",\n",
      "  \"finetuning_task\": null,\n",
      "  \"hidden_act\": \"gelu\",\n",
      "  \"hidden_dropout_prob\": 0.1,\n",
      "  \"hidden_size\": 1024,\n",
      "  \"id2label\": {\n",
      "    \"0\": \"LABEL_0\",\n",
      "    \"1\": \"LABEL_1\"\n",
      "  },\n",
      "  \"initializer_range\": 0.02,\n",
      "  \"intermediate_size\": 4096,\n",
      "  \"is_decoder\": false,\n",
      "  \"label2id\": {\n",
      "    \"LABEL_0\": 0,\n",
      "    \"LABEL_1\": 1\n",
      "  },\n",
      "  \"layer_norm_eps\": 1e-12,\n",
      "  \"max_position_embeddings\": 512,\n",
      "  \"num_attention_heads\": 16,\n",
      "  \"num_hidden_layers\": 24,\n",
      "  \"num_labels\": 2,\n",
      "  \"output_attentions\": false,\n",
      "  \"output_hidden_states\": false,\n",
      "  \"output_past\": true,\n",
      "  \"pooler_fc_size\": 768,\n",
      "  \"pooler_num_attention_heads\": 12,\n",
      "  \"pooler_num_fc_layers\": 3,\n",
      "  \"pooler_size_per_head\": 128,\n",
      "  \"pooler_type\": \"first_token_transform\",\n",
      "  \"pruned_heads\": {},\n",
      "  \"torchscript\": false,\n",
      "  \"type_vocab_size\": 2,\n",
      "  \"use_bfloat16\": false,\n",
      "  \"vocab_size\": 28996\n",
      "}\n",
      "\n",
      "I0120 20:59:45.917990 140119746860800 modeling_utils.py:406] loading weights file https://s3.amazonaws.com/models.huggingface.co/bert/bert-large-cased-pytorch_model.bin from cache at /home/dfurman/.cache/torch/transformers/56c451878be53ca1e310764d1e8312301f3d921378919467947ddd53fef6ba2b.b5f1c2070e0a0c189ca3b08270b0cb5bd0635b7319e74e93bd0dc26689953c27\n",
      "I0120 20:59:55.891944 140119746860800 modeling_utils.py:480] Weights of BertForTokenClassification not initialized from pretrained model: ['classifier.weight', 'classifier.bias']\n",
      "I0120 20:59:55.893061 140119746860800 modeling_utils.py:483] Weights from pretrained model not used in BertForTokenClassification: ['cls.predictions.bias', 'cls.predictions.transform.dense.weight', 'cls.predictions.transform.dense.bias', 'cls.predictions.decoder.weight', 'cls.seq_relationship.weight', 'cls.seq_relationship.bias', 'cls.predictions.transform.LayerNorm.weight', 'cls.predictions.transform.LayerNorm.bias']\n",
      "I0120 20:59:56.805124 140119746860800 tokenization_utils.py:398] loading file https://s3.amazonaws.com/models.huggingface.co/bert/bert-large-cased-vocab.txt from cache at /home/dfurman/.cache/torch/transformers/cee054f6aafe5e2cf816d2228704e326446785f940f5451a5b26033516a4ac3d.e13dbb970cb325137104fb2e5f36fe865f27746c6b526f6352861b1980eb80b1\n"
     ]
    },
    {
     "name": "stdout",
     "output_type": "stream",
     "text": [
      "Converting to features started.\n"
     ]
    },
    {
     "data": {
      "application/vnd.jupyter.widget-view+json": {
       "model_id": "0cf0ef66f41643c486ca6936c8506db2",
       "version_major": 2,
       "version_minor": 0
      },
      "text/plain": [
       "HBox(children=(IntProgress(value=0, max=16611), HTML(value='')))"
      ]
     },
     "metadata": {},
     "output_type": "display_data"
    },
    {
     "name": "stdout",
     "output_type": "stream",
     "text": [
      "\n",
      "Selected optimization level O1:  Insert automatic casts around Pytorch functions and Tensor methods.\n",
      "\n",
      "Defaults for this optimization level are:\n",
      "enabled                : True\n",
      "opt_level              : O1\n",
      "cast_model_type        : None\n",
      "patch_torch_functions  : True\n",
      "keep_batchnorm_fp32    : None\n",
      "master_weights         : None\n",
      "loss_scale             : dynamic\n",
      "Processing user overrides (additional kwargs that are not None)...\n",
      "After processing overrides, optimization options are:\n",
      "enabled                : True\n",
      "opt_level              : O1\n",
      "cast_model_type        : None\n",
      "patch_torch_functions  : True\n",
      "keep_batchnorm_fp32    : None\n",
      "master_weights         : None\n",
      "loss_scale             : dynamic\n",
      "Warning:  multi_tensor_applier fused unscale kernel is unavailable, possibly because apex was installed without --cuda_ext --cpp_ext. Using Python fallback.  Original ImportError was: ModuleNotFoundError(\"No module named 'amp_C'\")\n"
     ]
    },
    {
     "data": {
      "application/vnd.jupyter.widget-view+json": {
       "model_id": "b8ed0c35b8f94dcb9c60c3f5c7b58f6e",
       "version_major": 2,
       "version_minor": 0
      },
      "text/plain": [
       "HBox(children=(IntProgress(value=0, description='Epoch', max=40, style=ProgressStyle(description_width='initia…"
      ]
     },
     "metadata": {},
     "output_type": "display_data"
    },
    {
     "data": {
      "application/vnd.jupyter.widget-view+json": {
       "model_id": "6609a2c8b1c943f98b08a614c2feb68b",
       "version_major": 2,
       "version_minor": 0
      },
      "text/plain": [
       "HBox(children=(IntProgress(value=0, description='Current iteration', max=2077, style=ProgressStyle(description…"
      ]
     },
     "metadata": {},
     "output_type": "display_data"
    },
    {
     "name": "stdout",
     "output_type": "stream",
     "text": [
      "Running loss: 0.775404Gradient overflow.  Skipping step, loss scaler 0 reducing loss scale to 32768.0\n",
      "Running loss: 0.804383Gradient overflow.  Skipping step, loss scaler 0 reducing loss scale to 16384.0\n",
      "Running loss: 0.720014Gradient overflow.  Skipping step, loss scaler 0 reducing loss scale to 8192.0\n",
      "Running loss: 0.399931Gradient overflow.  Skipping step, loss scaler 0 reducing loss scale to 4096.0\n",
      "Running loss: 0.000537"
     ]
    },
    {
     "name": "stderr",
     "output_type": "stream",
     "text": [
      "I0120 21:16:38.278512 140119746860800 configuration_utils.py:87] Configuration saved in bert-large-cased-2e-05-0.5-NER/checkpoint-2077-epoch-1/config.json\n",
      "I0120 21:16:39.357092 140119746860800 modeling_utils.py:258] Model weights saved in bert-large-cased-2e-05-0.5-NER/checkpoint-2077-epoch-1/pytorch_model.bin\n"
     ]
    },
    {
     "name": "stdout",
     "output_type": "stream",
     "text": [
      "Features loaded from cache at cache_dir/cached_dev_bert_128_2_2572\n"
     ]
    },
    {
     "data": {
      "application/vnd.jupyter.widget-view+json": {
       "model_id": "2aef163e11f649b49ca311d19f876c5d",
       "version_major": 2,
       "version_minor": 0
      },
      "text/plain": [
       "HBox(children=(IntProgress(value=0, max=322), HTML(value='')))"
      ]
     },
     "metadata": {},
     "output_type": "display_data"
    },
    {
     "name": "stdout",
     "output_type": "stream",
     "text": [
      "{'eval_loss': 0.27612751000404906, 'precision': 0.32796317606444186, 'recall': 0.5102954341987467, 'f1_score': 0.39929947460595444}\n"
     ]
    },
    {
     "data": {
      "application/vnd.jupyter.widget-view+json": {
       "model_id": "51029701a1fe4e9babd88cab4096472f",
       "version_major": 2,
       "version_minor": 0
      },
      "text/plain": [
       "HBox(children=(IntProgress(value=0, description='Current iteration', max=2077, style=ProgressStyle(description…"
      ]
     },
     "metadata": {},
     "output_type": "display_data"
    },
    {
     "name": "stdout",
     "output_type": "stream",
     "text": [
      "Running loss: 0.336047Gradient overflow.  Skipping step, loss scaler 0 reducing loss scale to 4096.0\n",
      "Running loss: 0.158711Gradient overflow.  Skipping step, loss scaler 0 reducing loss scale to 2048.0\n",
      "Running loss: 0.042914"
     ]
    },
    {
     "name": "stderr",
     "output_type": "stream",
     "text": [
      "I0120 21:33:39.863944 140119746860800 configuration_utils.py:87] Configuration saved in bert-large-cased-2e-05-0.5-NER/checkpoint-4154-epoch-2/config.json\n",
      "I0120 21:33:40.932261 140119746860800 modeling_utils.py:258] Model weights saved in bert-large-cased-2e-05-0.5-NER/checkpoint-4154-epoch-2/pytorch_model.bin\n"
     ]
    },
    {
     "name": "stdout",
     "output_type": "stream",
     "text": [
      "Features loaded from cache at cache_dir/cached_dev_bert_128_2_2572\n"
     ]
    },
    {
     "data": {
      "application/vnd.jupyter.widget-view+json": {
       "model_id": "3b783bbc53764217b2a0f40556cf553c",
       "version_major": 2,
       "version_minor": 0
      },
      "text/plain": [
       "HBox(children=(IntProgress(value=0, max=322), HTML(value='')))"
      ]
     },
     "metadata": {},
     "output_type": "display_data"
    },
    {
     "name": "stdout",
     "output_type": "stream",
     "text": [
      "{'eval_loss': 0.352754360337464, 'precision': 0.4481132075471698, 'recall': 0.5102954341987467, 'f1_score': 0.47718710757639177}\n"
     ]
    },
    {
     "data": {
      "application/vnd.jupyter.widget-view+json": {
       "model_id": "12996e1b2cbf4094a6188c7df04e7ada",
       "version_major": 2,
       "version_minor": 0
      },
      "text/plain": [
       "HBox(children=(IntProgress(value=0, description='Current iteration', max=2077, style=ProgressStyle(description…"
      ]
     },
     "metadata": {},
     "output_type": "display_data"
    },
    {
     "name": "stdout",
     "output_type": "stream",
     "text": [
      "Running loss: 0.026624"
     ]
    },
    {
     "name": "stderr",
     "output_type": "stream",
     "text": [
      "I0120 21:50:41.675870 140119746860800 configuration_utils.py:87] Configuration saved in bert-large-cased-2e-05-0.5-NER/checkpoint-6231-epoch-3/config.json\n",
      "I0120 21:50:42.737535 140119746860800 modeling_utils.py:258] Model weights saved in bert-large-cased-2e-05-0.5-NER/checkpoint-6231-epoch-3/pytorch_model.bin\n"
     ]
    },
    {
     "name": "stdout",
     "output_type": "stream",
     "text": [
      "Features loaded from cache at cache_dir/cached_dev_bert_128_2_2572\n"
     ]
    },
    {
     "data": {
      "application/vnd.jupyter.widget-view+json": {
       "model_id": "e9062b4ae6254bdba3878672b3fb9987",
       "version_major": 2,
       "version_minor": 0
      },
      "text/plain": [
       "HBox(children=(IntProgress(value=0, max=322), HTML(value='')))"
      ]
     },
     "metadata": {},
     "output_type": "display_data"
    },
    {
     "name": "stdout",
     "output_type": "stream",
     "text": [
      "{'eval_loss': 0.37566860784208533, 'precision': 0.48721694667640614, 'recall': 0.5971351835273053, 'f1_score': 0.5366049879324217}\n"
     ]
    },
    {
     "data": {
      "application/vnd.jupyter.widget-view+json": {
       "model_id": "5fe4551f9b3d4ccfbba1a47e2b3cf83f",
       "version_major": 2,
       "version_minor": 0
      },
      "text/plain": [
       "HBox(children=(IntProgress(value=0, description='Current iteration', max=2077, style=ProgressStyle(description…"
      ]
     },
     "metadata": {},
     "output_type": "display_data"
    },
    {
     "name": "stdout",
     "output_type": "stream",
     "text": [
      "Running loss: 0.468723Gradient overflow.  Skipping step, loss scaler 0 reducing loss scale to 4096.0\n",
      "Running loss: 0.792234Gradient overflow.  Skipping step, loss scaler 0 reducing loss scale to 2048.0\n",
      "Running loss: 0.207327"
     ]
    },
    {
     "name": "stderr",
     "output_type": "stream",
     "text": [
      "I0120 22:07:38.344489 140119746860800 configuration_utils.py:87] Configuration saved in bert-large-cased-2e-05-0.5-NER/checkpoint-8308-epoch-4/config.json\n",
      "I0120 22:07:39.405170 140119746860800 modeling_utils.py:258] Model weights saved in bert-large-cased-2e-05-0.5-NER/checkpoint-8308-epoch-4/pytorch_model.bin\n"
     ]
    },
    {
     "name": "stdout",
     "output_type": "stream",
     "text": [
      "Features loaded from cache at cache_dir/cached_dev_bert_128_2_2572\n"
     ]
    },
    {
     "data": {
      "application/vnd.jupyter.widget-view+json": {
       "model_id": "14a0c4e161904445bf8825eb3cecf05f",
       "version_major": 2,
       "version_minor": 0
      },
      "text/plain": [
       "HBox(children=(IntProgress(value=0, max=322), HTML(value='')))"
      ]
     },
     "metadata": {},
     "output_type": "display_data"
    },
    {
     "name": "stdout",
     "output_type": "stream",
     "text": [
      "{'eval_loss': 0.5331873169898527, 'precision': 0.5154320987654321, 'recall': 0.5980304386750224, 'f1_score': 0.5536676336510568}\n"
     ]
    },
    {
     "data": {
      "application/vnd.jupyter.widget-view+json": {
       "model_id": "dbfb50c7af964f4f847f26a789239735",
       "version_major": 2,
       "version_minor": 0
      },
      "text/plain": [
       "HBox(children=(IntProgress(value=0, description='Current iteration', max=2077, style=ProgressStyle(description…"
      ]
     },
     "metadata": {},
     "output_type": "display_data"
    },
    {
     "name": "stdout",
     "output_type": "stream",
     "text": [
      "Running loss: 0.004547"
     ]
    },
    {
     "name": "stderr",
     "output_type": "stream",
     "text": [
      "I0120 22:24:31.977072 140119746860800 configuration_utils.py:87] Configuration saved in bert-large-cased-2e-05-0.5-NER/checkpoint-10385-epoch-5/config.json\n",
      "I0120 22:24:33.037290 140119746860800 modeling_utils.py:258] Model weights saved in bert-large-cased-2e-05-0.5-NER/checkpoint-10385-epoch-5/pytorch_model.bin\n"
     ]
    },
    {
     "name": "stdout",
     "output_type": "stream",
     "text": [
      "Features loaded from cache at cache_dir/cached_dev_bert_128_2_2572\n"
     ]
    },
    {
     "data": {
      "application/vnd.jupyter.widget-view+json": {
       "model_id": "77e4240c931e4e64981f1a497eac7fb9",
       "version_major": 2,
       "version_minor": 0
      },
      "text/plain": [
       "HBox(children=(IntProgress(value=0, max=322), HTML(value='')))"
      ]
     },
     "metadata": {},
     "output_type": "display_data"
    },
    {
     "name": "stdout",
     "output_type": "stream",
     "text": [
      "{'eval_loss': 0.5061125582738354, 'precision': 0.5416012558869702, 'recall': 0.6177260519247986, 'f1_score': 0.5771643663739021}\n"
     ]
    },
    {
     "data": {
      "application/vnd.jupyter.widget-view+json": {
       "model_id": "dbd863e80cca4ddab51f95bef876778e",
       "version_major": 2,
       "version_minor": 0
      },
      "text/plain": [
       "HBox(children=(IntProgress(value=0, description='Current iteration', max=2077, style=ProgressStyle(description…"
      ]
     },
     "metadata": {},
     "output_type": "display_data"
    },
    {
     "name": "stdout",
     "output_type": "stream",
     "text": [
      "Running loss: 1.032550Gradient overflow.  Skipping step, loss scaler 0 reducing loss scale to 4096.0\n",
      "Running loss: 0.692443Gradient overflow.  Skipping step, loss scaler 0 reducing loss scale to 2048.0\n",
      "Running loss: 0.000150"
     ]
    },
    {
     "name": "stderr",
     "output_type": "stream",
     "text": [
      "I0120 22:41:22.693971 140119746860800 configuration_utils.py:87] Configuration saved in bert-large-cased-2e-05-0.5-NER/checkpoint-12462-epoch-6/config.json\n",
      "I0120 22:41:23.755873 140119746860800 modeling_utils.py:258] Model weights saved in bert-large-cased-2e-05-0.5-NER/checkpoint-12462-epoch-6/pytorch_model.bin\n"
     ]
    },
    {
     "name": "stdout",
     "output_type": "stream",
     "text": [
      "Features loaded from cache at cache_dir/cached_dev_bert_128_2_2572\n"
     ]
    },
    {
     "data": {
      "application/vnd.jupyter.widget-view+json": {
       "model_id": "407b398bf6e14285a00cfd970d026dec",
       "version_major": 2,
       "version_minor": 0
      },
      "text/plain": [
       "HBox(children=(IntProgress(value=0, max=322), HTML(value='')))"
      ]
     },
     "metadata": {},
     "output_type": "display_data"
    },
    {
     "name": "stdout",
     "output_type": "stream",
     "text": [
      "{'eval_loss': 0.6780100466974162, 'precision': 0.5705521472392638, 'recall': 0.5828111011638317, 'f1_score': 0.5766164747564216}\n"
     ]
    },
    {
     "data": {
      "application/vnd.jupyter.widget-view+json": {
       "model_id": "0f8c3a7075a345e5b5a49ab36d69e256",
       "version_major": 2,
       "version_minor": 0
      },
      "text/plain": [
       "HBox(children=(IntProgress(value=0, description='Current iteration', max=2077, style=ProgressStyle(description…"
      ]
     },
     "metadata": {},
     "output_type": "display_data"
    },
    {
     "name": "stdout",
     "output_type": "stream",
     "text": [
      "Running loss: 0.540218Gradient overflow.  Skipping step, loss scaler 0 reducing loss scale to 2048.0\n",
      "Running loss: 0.000572"
     ]
    },
    {
     "name": "stderr",
     "output_type": "stream",
     "text": [
      "I0120 22:58:13.669118 140119746860800 configuration_utils.py:87] Configuration saved in bert-large-cased-2e-05-0.5-NER/checkpoint-14539-epoch-7/config.json\n",
      "I0120 22:58:14.724601 140119746860800 modeling_utils.py:258] Model weights saved in bert-large-cased-2e-05-0.5-NER/checkpoint-14539-epoch-7/pytorch_model.bin\n"
     ]
    },
    {
     "name": "stdout",
     "output_type": "stream",
     "text": [
      "Features loaded from cache at cache_dir/cached_dev_bert_128_2_2572\n"
     ]
    },
    {
     "data": {
      "application/vnd.jupyter.widget-view+json": {
       "model_id": "8e0fecf41acd47ef92e041f2452e074a",
       "version_major": 2,
       "version_minor": 0
      },
      "text/plain": [
       "HBox(children=(IntProgress(value=0, max=322), HTML(value='')))"
      ]
     },
     "metadata": {},
     "output_type": "display_data"
    },
    {
     "name": "stdout",
     "output_type": "stream",
     "text": [
      "{'eval_loss': 0.6579635992310393, 'precision': 0.5297215951843491, 'recall': 0.630259623992838, 'f1_score': 0.5756336876533115}\n"
     ]
    },
    {
     "data": {
      "application/vnd.jupyter.widget-view+json": {
       "model_id": "0084ce74c71f464f94ed5f6081aae8ad",
       "version_major": 2,
       "version_minor": 0
      },
      "text/plain": [
       "HBox(children=(IntProgress(value=0, description='Current iteration', max=2077, style=ProgressStyle(description…"
      ]
     },
     "metadata": {},
     "output_type": "display_data"
    },
    {
     "name": "stdout",
     "output_type": "stream",
     "text": [
      "Running loss: 0.000053"
     ]
    },
    {
     "name": "stderr",
     "output_type": "stream",
     "text": [
      "I0120 23:15:03.577547 140119746860800 configuration_utils.py:87] Configuration saved in bert-large-cased-2e-05-0.5-NER/checkpoint-16616-epoch-8/config.json\n",
      "I0120 23:15:04.634703 140119746860800 modeling_utils.py:258] Model weights saved in bert-large-cased-2e-05-0.5-NER/checkpoint-16616-epoch-8/pytorch_model.bin\n"
     ]
    },
    {
     "name": "stdout",
     "output_type": "stream",
     "text": [
      "Features loaded from cache at cache_dir/cached_dev_bert_128_2_2572\n"
     ]
    },
    {
     "data": {
      "application/vnd.jupyter.widget-view+json": {
       "model_id": "8d073487c6394390872b095090c601b9",
       "version_major": 2,
       "version_minor": 0
      },
      "text/plain": [
       "HBox(children=(IntProgress(value=0, max=322), HTML(value='')))"
      ]
     },
     "metadata": {},
     "output_type": "display_data"
    },
    {
     "name": "stdout",
     "output_type": "stream",
     "text": [
      "{'eval_loss': 0.8920748896130841, 'precision': 0.561698717948718, 'recall': 0.6275738585496866, 'f1_score': 0.5928118393234673}\n"
     ]
    },
    {
     "data": {
      "application/vnd.jupyter.widget-view+json": {
       "model_id": "07d3b555fc8742b1a766f033fe53bb16",
       "version_major": 2,
       "version_minor": 0
      },
      "text/plain": [
       "HBox(children=(IntProgress(value=0, description='Current iteration', max=2077, style=ProgressStyle(description…"
      ]
     },
     "metadata": {},
     "output_type": "display_data"
    },
    {
     "name": "stdout",
     "output_type": "stream",
     "text": [
      "Running loss: 1.603649Gradient overflow.  Skipping step, loss scaler 0 reducing loss scale to 2048.0\n",
      "Running loss: 0.000060"
     ]
    },
    {
     "name": "stderr",
     "output_type": "stream",
     "text": [
      "I0120 23:31:51.781788 140119746860800 configuration_utils.py:87] Configuration saved in bert-large-cased-2e-05-0.5-NER/checkpoint-18693-epoch-9/config.json\n",
      "I0120 23:31:52.839562 140119746860800 modeling_utils.py:258] Model weights saved in bert-large-cased-2e-05-0.5-NER/checkpoint-18693-epoch-9/pytorch_model.bin\n"
     ]
    },
    {
     "name": "stdout",
     "output_type": "stream",
     "text": [
      "Features loaded from cache at cache_dir/cached_dev_bert_128_2_2572\n"
     ]
    },
    {
     "data": {
      "application/vnd.jupyter.widget-view+json": {
       "model_id": "fb1e196ef61842ba8889de935f6a0d09",
       "version_major": 2,
       "version_minor": 0
      },
      "text/plain": [
       "HBox(children=(IntProgress(value=0, max=322), HTML(value='')))"
      ]
     },
     "metadata": {},
     "output_type": "display_data"
    },
    {
     "name": "stdout",
     "output_type": "stream",
     "text": [
      "{'eval_loss': 0.8554794613552297, 'precision': 0.5773584905660377, 'recall': 0.5478961504028648, 'f1_score': 0.5622416169039963}\n"
     ]
    },
    {
     "data": {
      "application/vnd.jupyter.widget-view+json": {
       "model_id": "11d27c5e69e44a56a88e1b8c77f011bf",
       "version_major": 2,
       "version_minor": 0
      },
      "text/plain": [
       "HBox(children=(IntProgress(value=0, description='Current iteration', max=2077, style=ProgressStyle(description…"
      ]
     },
     "metadata": {},
     "output_type": "display_data"
    },
    {
     "name": "stdout",
     "output_type": "stream",
     "text": [
      "Running loss: 0.000019"
     ]
    },
    {
     "name": "stderr",
     "output_type": "stream",
     "text": [
      "I0120 23:48:40.643269 140119746860800 configuration_utils.py:87] Configuration saved in bert-large-cased-2e-05-0.5-NER/checkpoint-20770-epoch-10/config.json\n",
      "I0120 23:48:41.696793 140119746860800 modeling_utils.py:258] Model weights saved in bert-large-cased-2e-05-0.5-NER/checkpoint-20770-epoch-10/pytorch_model.bin\n"
     ]
    },
    {
     "name": "stdout",
     "output_type": "stream",
     "text": [
      "Features loaded from cache at cache_dir/cached_dev_bert_128_2_2572\n"
     ]
    },
    {
     "data": {
      "application/vnd.jupyter.widget-view+json": {
       "model_id": "19ca4a296b364665b25c15843437f7a3",
       "version_major": 2,
       "version_minor": 0
      },
      "text/plain": [
       "HBox(children=(IntProgress(value=0, max=322), HTML(value='')))"
      ]
     },
     "metadata": {},
     "output_type": "display_data"
    },
    {
     "name": "stdout",
     "output_type": "stream",
     "text": [
      "{'eval_loss': 0.7827854411869096, 'precision': 0.6163113994439295, 'recall': 0.5953446732318711, 'f1_score': 0.6056466302367942}\n"
     ]
    },
    {
     "data": {
      "application/vnd.jupyter.widget-view+json": {
       "model_id": "b5a54eb615624f2895382fdfd51e364d",
       "version_major": 2,
       "version_minor": 0
      },
      "text/plain": [
       "HBox(children=(IntProgress(value=0, description='Current iteration', max=2077, style=ProgressStyle(description…"
      ]
     },
     "metadata": {},
     "output_type": "display_data"
    },
    {
     "name": "stdout",
     "output_type": "stream",
     "text": [
      "Running loss: 1.452292Gradient overflow.  Skipping step, loss scaler 0 reducing loss scale to 4096.0\n",
      "Running loss: 0.000107"
     ]
    },
    {
     "name": "stderr",
     "output_type": "stream",
     "text": [
      "I0121 00:05:28.687974 140119746860800 configuration_utils.py:87] Configuration saved in bert-large-cased-2e-05-0.5-NER/checkpoint-22847-epoch-11/config.json\n",
      "I0121 00:05:29.742811 140119746860800 modeling_utils.py:258] Model weights saved in bert-large-cased-2e-05-0.5-NER/checkpoint-22847-epoch-11/pytorch_model.bin\n"
     ]
    },
    {
     "name": "stdout",
     "output_type": "stream",
     "text": [
      "Features loaded from cache at cache_dir/cached_dev_bert_128_2_2572\n"
     ]
    },
    {
     "data": {
      "application/vnd.jupyter.widget-view+json": {
       "model_id": "f8e413e39c3e4fb58acf8b22d1b3a283",
       "version_major": 2,
       "version_minor": 0
      },
      "text/plain": [
       "HBox(children=(IntProgress(value=0, max=322), HTML(value='')))"
      ]
     },
     "metadata": {},
     "output_type": "display_data"
    },
    {
     "name": "stdout",
     "output_type": "stream",
     "text": [
      "{'eval_loss': 0.8114190472556091, 'precision': 0.5535289452815226, 'recall': 0.6248880931065354, 'f1_score': 0.5870479394449116}\n"
     ]
    },
    {
     "data": {
      "application/vnd.jupyter.widget-view+json": {
       "model_id": "dbf9d08ff88740089212c22131864e8a",
       "version_major": 2,
       "version_minor": 0
      },
      "text/plain": [
       "HBox(children=(IntProgress(value=0, description='Current iteration', max=2077, style=ProgressStyle(description…"
      ]
     },
     "metadata": {},
     "output_type": "display_data"
    },
    {
     "name": "stdout",
     "output_type": "stream",
     "text": [
      "Running loss: 0.105945Gradient overflow.  Skipping step, loss scaler 0 reducing loss scale to 2048.0\n",
      "Running loss: 0.535697"
     ]
    },
    {
     "name": "stderr",
     "output_type": "stream",
     "text": [
      "I0121 00:22:15.067525 140119746860800 configuration_utils.py:87] Configuration saved in bert-large-cased-2e-05-0.5-NER/checkpoint-24924-epoch-12/config.json\n",
      "I0121 00:22:16.126687 140119746860800 modeling_utils.py:258] Model weights saved in bert-large-cased-2e-05-0.5-NER/checkpoint-24924-epoch-12/pytorch_model.bin\n"
     ]
    },
    {
     "name": "stdout",
     "output_type": "stream",
     "text": [
      "Features loaded from cache at cache_dir/cached_dev_bert_128_2_2572\n"
     ]
    },
    {
     "data": {
      "application/vnd.jupyter.widget-view+json": {
       "model_id": "77ac49c575764f39a4d5239c3944da30",
       "version_major": 2,
       "version_minor": 0
      },
      "text/plain": [
       "HBox(children=(IntProgress(value=0, max=322), HTML(value='')))"
      ]
     },
     "metadata": {},
     "output_type": "display_data"
    },
    {
     "name": "stdout",
     "output_type": "stream",
     "text": [
      "{'eval_loss': 0.7925950484474009, 'precision': 0.583752093802345, 'recall': 0.6239928379588182, 'f1_score': 0.6032020770229338}\n"
     ]
    },
    {
     "data": {
      "application/vnd.jupyter.widget-view+json": {
       "model_id": "1cf49db29ee3496794c5cd19796f18eb",
       "version_major": 2,
       "version_minor": 0
      },
      "text/plain": [
       "HBox(children=(IntProgress(value=0, description='Current iteration', max=2077, style=ProgressStyle(description…"
      ]
     },
     "metadata": {},
     "output_type": "display_data"
    },
    {
     "name": "stdout",
     "output_type": "stream",
     "text": [
      "Running loss: 0.810204Gradient overflow.  Skipping step, loss scaler 0 reducing loss scale to 1024.0\n",
      "Running loss: 0.000236"
     ]
    },
    {
     "name": "stderr",
     "output_type": "stream",
     "text": [
      "I0121 00:39:04.702539 140119746860800 configuration_utils.py:87] Configuration saved in bert-large-cased-2e-05-0.5-NER/checkpoint-27001-epoch-13/config.json\n",
      "I0121 00:39:05.758431 140119746860800 modeling_utils.py:258] Model weights saved in bert-large-cased-2e-05-0.5-NER/checkpoint-27001-epoch-13/pytorch_model.bin\n"
     ]
    },
    {
     "name": "stdout",
     "output_type": "stream",
     "text": [
      "Features loaded from cache at cache_dir/cached_dev_bert_128_2_2572\n"
     ]
    },
    {
     "data": {
      "application/vnd.jupyter.widget-view+json": {
       "model_id": "352ce65f1ec3414783becb7fe571e33f",
       "version_major": 2,
       "version_minor": 0
      },
      "text/plain": [
       "HBox(children=(IntProgress(value=0, max=322), HTML(value='')))"
      ]
     },
     "metadata": {},
     "output_type": "display_data"
    },
    {
     "name": "stdout",
     "output_type": "stream",
     "text": [
      "{'eval_loss': 0.7992647169075386, 'precision': 0.5606837606837607, 'recall': 0.5872873769024172, 'f1_score': 0.5736773065150853}\n"
     ]
    },
    {
     "data": {
      "application/vnd.jupyter.widget-view+json": {
       "model_id": "fdb0c758cfb1421b8c80432d65579589",
       "version_major": 2,
       "version_minor": 0
      },
      "text/plain": [
       "HBox(children=(IntProgress(value=0, description='Current iteration', max=2077, style=ProgressStyle(description…"
      ]
     },
     "metadata": {},
     "output_type": "display_data"
    },
    {
     "name": "stdout",
     "output_type": "stream",
     "text": [
      "Running loss: 0.246550Gradient overflow.  Skipping step, loss scaler 0 reducing loss scale to 1024.0\n",
      "Running loss: 0.128991Gradient overflow.  Skipping step, loss scaler 0 reducing loss scale to 512.0\n",
      "Running loss: 0.000139"
     ]
    },
    {
     "name": "stderr",
     "output_type": "stream",
     "text": [
      "I0121 00:55:53.303460 140119746860800 configuration_utils.py:87] Configuration saved in bert-large-cased-2e-05-0.5-NER/checkpoint-29078-epoch-14/config.json\n",
      "I0121 00:55:54.357126 140119746860800 modeling_utils.py:258] Model weights saved in bert-large-cased-2e-05-0.5-NER/checkpoint-29078-epoch-14/pytorch_model.bin\n"
     ]
    },
    {
     "name": "stdout",
     "output_type": "stream",
     "text": [
      "Features loaded from cache at cache_dir/cached_dev_bert_128_2_2572\n"
     ]
    },
    {
     "data": {
      "application/vnd.jupyter.widget-view+json": {
       "model_id": "6ec7435f83474ff9a62911c905f296c5",
       "version_major": 2,
       "version_minor": 0
      },
      "text/plain": [
       "HBox(children=(IntProgress(value=0, max=322), HTML(value='')))"
      ]
     },
     "metadata": {},
     "output_type": "display_data"
    },
    {
     "name": "stdout",
     "output_type": "stream",
     "text": [
      "{'eval_loss': 0.8158921221088828, 'precision': 0.5993091537132987, 'recall': 0.621307072515667, 'f1_score': 0.61010989010989}\n"
     ]
    },
    {
     "data": {
      "application/vnd.jupyter.widget-view+json": {
       "model_id": "73fc779e247046e29e20a634641b2ef4",
       "version_major": 2,
       "version_minor": 0
      },
      "text/plain": [
       "HBox(children=(IntProgress(value=0, description='Current iteration', max=2077, style=ProgressStyle(description…"
      ]
     },
     "metadata": {},
     "output_type": "display_data"
    },
    {
     "name": "stdout",
     "output_type": "stream",
     "text": [
      "Running loss: 0.000014"
     ]
    },
    {
     "name": "stderr",
     "output_type": "stream",
     "text": [
      "I0121 01:12:40.516248 140119746860800 configuration_utils.py:87] Configuration saved in bert-large-cased-2e-05-0.5-NER/checkpoint-31155-epoch-15/config.json\n",
      "I0121 01:12:41.564037 140119746860800 modeling_utils.py:258] Model weights saved in bert-large-cased-2e-05-0.5-NER/checkpoint-31155-epoch-15/pytorch_model.bin\n"
     ]
    },
    {
     "name": "stdout",
     "output_type": "stream",
     "text": [
      "Features loaded from cache at cache_dir/cached_dev_bert_128_2_2572\n"
     ]
    },
    {
     "data": {
      "application/vnd.jupyter.widget-view+json": {
       "model_id": "0f986e7ca9924a5896fd25b7d4963c58",
       "version_major": 2,
       "version_minor": 0
      },
      "text/plain": [
       "HBox(children=(IntProgress(value=0, max=322), HTML(value='')))"
      ]
     },
     "metadata": {},
     "output_type": "display_data"
    },
    {
     "name": "stdout",
     "output_type": "stream",
     "text": [
      "{'eval_loss': 0.9142441054553256, 'precision': 0.5852225020990764, 'recall': 0.6239928379588182, 'f1_score': 0.6039861351819757}\n"
     ]
    },
    {
     "data": {
      "application/vnd.jupyter.widget-view+json": {
       "model_id": "7de851aa4d1d4d3a80e4daa8d4bac752",
       "version_major": 2,
       "version_minor": 0
      },
      "text/plain": [
       "HBox(children=(IntProgress(value=0, description='Current iteration', max=2077, style=ProgressStyle(description…"
      ]
     },
     "metadata": {},
     "output_type": "display_data"
    },
    {
     "name": "stdout",
     "output_type": "stream",
     "text": [
      "Running loss: 0.000019"
     ]
    },
    {
     "name": "stderr",
     "output_type": "stream",
     "text": [
      "I0121 01:29:24.904416 140119746860800 configuration_utils.py:87] Configuration saved in bert-large-cased-2e-05-0.5-NER/checkpoint-33232-epoch-16/config.json\n",
      "I0121 01:29:25.952104 140119746860800 modeling_utils.py:258] Model weights saved in bert-large-cased-2e-05-0.5-NER/checkpoint-33232-epoch-16/pytorch_model.bin\n"
     ]
    },
    {
     "name": "stdout",
     "output_type": "stream",
     "text": [
      "Features loaded from cache at cache_dir/cached_dev_bert_128_2_2572\n"
     ]
    },
    {
     "data": {
      "application/vnd.jupyter.widget-view+json": {
       "model_id": "8206e06471654e51ac131aa13f0bbcd8",
       "version_major": 2,
       "version_minor": 0
      },
      "text/plain": [
       "HBox(children=(IntProgress(value=0, max=322), HTML(value='')))"
      ]
     },
     "metadata": {},
     "output_type": "display_data"
    },
    {
     "name": "stdout",
     "output_type": "stream",
     "text": [
      "{'eval_loss': 0.9652993901371932, 'precision': 0.5534136546184739, 'recall': 0.6168307967770814, 'f1_score': 0.5834038950042336}\n"
     ]
    },
    {
     "data": {
      "application/vnd.jupyter.widget-view+json": {
       "model_id": "703b8c61110a4ee787f321d438e847fc",
       "version_major": 2,
       "version_minor": 0
      },
      "text/plain": [
       "HBox(children=(IntProgress(value=0, description='Current iteration', max=2077, style=ProgressStyle(description…"
      ]
     },
     "metadata": {},
     "output_type": "display_data"
    },
    {
     "name": "stdout",
     "output_type": "stream",
     "text": [
      "Running loss: 1.001015Gradient overflow.  Skipping step, loss scaler 0 reducing loss scale to 2048.0\n",
      "Running loss: 0.511564Gradient overflow.  Skipping step, loss scaler 0 reducing loss scale to 1024.0\n",
      "Running loss: 0.001051"
     ]
    },
    {
     "name": "stderr",
     "output_type": "stream",
     "text": [
      "I0121 01:46:11.229010 140119746860800 configuration_utils.py:87] Configuration saved in bert-large-cased-2e-05-0.5-NER/checkpoint-35309-epoch-17/config.json\n",
      "I0121 01:46:12.284790 140119746860800 modeling_utils.py:258] Model weights saved in bert-large-cased-2e-05-0.5-NER/checkpoint-35309-epoch-17/pytorch_model.bin\n"
     ]
    },
    {
     "name": "stdout",
     "output_type": "stream",
     "text": [
      "Features loaded from cache at cache_dir/cached_dev_bert_128_2_2572\n"
     ]
    },
    {
     "data": {
      "application/vnd.jupyter.widget-view+json": {
       "model_id": "5a5b3a43d1d84c819a695395301fae40",
       "version_major": 2,
       "version_minor": 0
      },
      "text/plain": [
       "HBox(children=(IntProgress(value=0, max=322), HTML(value='')))"
      ]
     },
     "metadata": {},
     "output_type": "display_data"
    },
    {
     "name": "stdout",
     "output_type": "stream",
     "text": [
      "{'eval_loss': 0.7553525311327773, 'precision': 0.584731543624161, 'recall': 0.6239928379588182, 'f1_score': 0.6037245560848853}\n"
     ]
    },
    {
     "data": {
      "application/vnd.jupyter.widget-view+json": {
       "model_id": "df6f133ae97d448b94c21149e70d864b",
       "version_major": 2,
       "version_minor": 0
      },
      "text/plain": [
       "HBox(children=(IntProgress(value=0, description='Current iteration', max=2077, style=ProgressStyle(description…"
      ]
     },
     "metadata": {},
     "output_type": "display_data"
    },
    {
     "name": "stdout",
     "output_type": "stream",
     "text": [
      "Running loss: 0.000132"
     ]
    },
    {
     "name": "stderr",
     "output_type": "stream",
     "text": [
      "I0121 02:02:57.102549 140119746860800 configuration_utils.py:87] Configuration saved in bert-large-cased-2e-05-0.5-NER/checkpoint-37386-epoch-18/config.json\n",
      "I0121 02:02:58.158646 140119746860800 modeling_utils.py:258] Model weights saved in bert-large-cased-2e-05-0.5-NER/checkpoint-37386-epoch-18/pytorch_model.bin\n"
     ]
    },
    {
     "name": "stdout",
     "output_type": "stream",
     "text": [
      "Features loaded from cache at cache_dir/cached_dev_bert_128_2_2572\n"
     ]
    },
    {
     "data": {
      "application/vnd.jupyter.widget-view+json": {
       "model_id": "0f82aee1de72491d8ca6209fdb72341b",
       "version_major": 2,
       "version_minor": 0
      },
      "text/plain": [
       "HBox(children=(IntProgress(value=0, max=322), HTML(value='')))"
      ]
     },
     "metadata": {},
     "output_type": "display_data"
    },
    {
     "name": "stdout",
     "output_type": "stream",
     "text": [
      "{'eval_loss': 0.8723114632644832, 'precision': 0.6116681859617138, 'recall': 0.6007162041181737, 'f1_score': 0.6061427280939476}\n"
     ]
    },
    {
     "data": {
      "application/vnd.jupyter.widget-view+json": {
       "model_id": "c2f30dde07e64ce78a71fc6da37d1697",
       "version_major": 2,
       "version_minor": 0
      },
      "text/plain": [
       "HBox(children=(IntProgress(value=0, description='Current iteration', max=2077, style=ProgressStyle(description…"
      ]
     },
     "metadata": {},
     "output_type": "display_data"
    },
    {
     "name": "stdout",
     "output_type": "stream",
     "text": [
      "Running loss: 0.000029"
     ]
    },
    {
     "name": "stderr",
     "output_type": "stream",
     "text": [
      "I0121 02:19:43.888034 140119746860800 configuration_utils.py:87] Configuration saved in bert-large-cased-2e-05-0.5-NER/checkpoint-39463-epoch-19/config.json\n",
      "I0121 02:19:45.365983 140119746860800 modeling_utils.py:258] Model weights saved in bert-large-cased-2e-05-0.5-NER/checkpoint-39463-epoch-19/pytorch_model.bin\n"
     ]
    },
    {
     "name": "stdout",
     "output_type": "stream",
     "text": [
      "Features loaded from cache at cache_dir/cached_dev_bert_128_2_2572\n"
     ]
    },
    {
     "data": {
      "application/vnd.jupyter.widget-view+json": {
       "model_id": "7fca721e440d4a2294c7405e8095ee6b",
       "version_major": 2,
       "version_minor": 0
      },
      "text/plain": [
       "HBox(children=(IntProgress(value=0, max=322), HTML(value='')))"
      ]
     },
     "metadata": {},
     "output_type": "display_data"
    },
    {
     "name": "stdout",
     "output_type": "stream",
     "text": [
      "{'eval_loss': 0.8804340145194367, 'precision': 0.5905292479108635, 'recall': 0.5693822739480752, 'f1_score': 0.5797629899726526}\n"
     ]
    },
    {
     "data": {
      "application/vnd.jupyter.widget-view+json": {
       "model_id": "9bfc0fb999144afbb880f10136dcdc26",
       "version_major": 2,
       "version_minor": 0
      },
      "text/plain": [
       "HBox(children=(IntProgress(value=0, description='Current iteration', max=2077, style=ProgressStyle(description…"
      ]
     },
     "metadata": {},
     "output_type": "display_data"
    },
    {
     "name": "stdout",
     "output_type": "stream",
     "text": [
      "Running loss: 0.048034Gradient overflow.  Skipping step, loss scaler 0 reducing loss scale to 4096.0\n",
      "Running loss: 0.000022"
     ]
    },
    {
     "name": "stderr",
     "output_type": "stream",
     "text": [
      "I0121 02:36:31.220669 140119746860800 configuration_utils.py:87] Configuration saved in bert-large-cased-2e-05-0.5-NER/checkpoint-41540-epoch-20/config.json\n",
      "I0121 02:36:32.514389 140119746860800 modeling_utils.py:258] Model weights saved in bert-large-cased-2e-05-0.5-NER/checkpoint-41540-epoch-20/pytorch_model.bin\n"
     ]
    },
    {
     "name": "stdout",
     "output_type": "stream",
     "text": [
      "Features loaded from cache at cache_dir/cached_dev_bert_128_2_2572\n"
     ]
    },
    {
     "data": {
      "application/vnd.jupyter.widget-view+json": {
       "model_id": "d37a8fa2a7e74dd5b6fc92081813b46b",
       "version_major": 2,
       "version_minor": 0
      },
      "text/plain": [
       "HBox(children=(IntProgress(value=0, max=322), HTML(value='')))"
      ]
     },
     "metadata": {},
     "output_type": "display_data"
    },
    {
     "name": "stdout",
     "output_type": "stream",
     "text": [
      "{'eval_loss': 0.9510506940102208, 'precision': 0.564625850340136, 'recall': 0.594449418084154, 'f1_score': 0.5791539467945922}\n"
     ]
    },
    {
     "data": {
      "application/vnd.jupyter.widget-view+json": {
       "model_id": "1ee25fa0a1434247a1189ff27187ceb2",
       "version_major": 2,
       "version_minor": 0
      },
      "text/plain": [
       "HBox(children=(IntProgress(value=0, description='Current iteration', max=2077, style=ProgressStyle(description…"
      ]
     },
     "metadata": {},
     "output_type": "display_data"
    },
    {
     "name": "stdout",
     "output_type": "stream",
     "text": [
      "Running loss: 0.108492Gradient overflow.  Skipping step, loss scaler 0 reducing loss scale to 2048.0\n",
      "Running loss: 0.000039"
     ]
    },
    {
     "name": "stderr",
     "output_type": "stream",
     "text": [
      "I0121 02:53:17.645808 140119746860800 configuration_utils.py:87] Configuration saved in bert-large-cased-2e-05-0.5-NER/checkpoint-43617-epoch-21/config.json\n",
      "I0121 02:53:19.509386 140119746860800 modeling_utils.py:258] Model weights saved in bert-large-cased-2e-05-0.5-NER/checkpoint-43617-epoch-21/pytorch_model.bin\n"
     ]
    },
    {
     "name": "stdout",
     "output_type": "stream",
     "text": [
      "Features loaded from cache at cache_dir/cached_dev_bert_128_2_2572\n"
     ]
    },
    {
     "data": {
      "application/vnd.jupyter.widget-view+json": {
       "model_id": "016ff4f790494c37ba88c9d75b1b493b",
       "version_major": 2,
       "version_minor": 0
      },
      "text/plain": [
       "HBox(children=(IntProgress(value=0, max=322), HTML(value='')))"
      ]
     },
     "metadata": {},
     "output_type": "display_data"
    },
    {
     "name": "stdout",
     "output_type": "stream",
     "text": [
      "{'eval_loss': 0.9105629392156883, 'precision': 0.5699272433306386, 'recall': 0.631154879140555, 'f1_score': 0.5989804587935428}\n"
     ]
    },
    {
     "data": {
      "application/vnd.jupyter.widget-view+json": {
       "model_id": "103433f2d8204f8f9951aa254777f192",
       "version_major": 2,
       "version_minor": 0
      },
      "text/plain": [
       "HBox(children=(IntProgress(value=0, description='Current iteration', max=2077, style=ProgressStyle(description…"
      ]
     },
     "metadata": {},
     "output_type": "display_data"
    },
    {
     "name": "stdout",
     "output_type": "stream",
     "text": [
      "Running loss: 0.000040"
     ]
    },
    {
     "name": "stderr",
     "output_type": "stream",
     "text": [
      "I0121 03:10:03.878893 140119746860800 configuration_utils.py:87] Configuration saved in bert-large-cased-2e-05-0.5-NER/checkpoint-45694-epoch-22/config.json\n",
      "I0121 03:10:04.963408 140119746860800 modeling_utils.py:258] Model weights saved in bert-large-cased-2e-05-0.5-NER/checkpoint-45694-epoch-22/pytorch_model.bin\n"
     ]
    },
    {
     "name": "stdout",
     "output_type": "stream",
     "text": [
      "Features loaded from cache at cache_dir/cached_dev_bert_128_2_2572\n"
     ]
    },
    {
     "data": {
      "application/vnd.jupyter.widget-view+json": {
       "model_id": "8ee69a6afc8e4fb3a322c2ec8936fa66",
       "version_major": 2,
       "version_minor": 0
      },
      "text/plain": [
       "HBox(children=(IntProgress(value=0, max=322), HTML(value='')))"
      ]
     },
     "metadata": {},
     "output_type": "display_data"
    },
    {
     "name": "stdout",
     "output_type": "stream",
     "text": [
      "{'eval_loss': 0.9674337332287634, 'precision': 0.5955056179775281, 'recall': 0.6168307967770814, 'f1_score': 0.6059806508355322}\n"
     ]
    },
    {
     "data": {
      "application/vnd.jupyter.widget-view+json": {
       "model_id": "c40d8ca3799a47aea54b45a93ca52de4",
       "version_major": 2,
       "version_minor": 0
      },
      "text/plain": [
       "HBox(children=(IntProgress(value=0, description='Current iteration', max=2077, style=ProgressStyle(description…"
      ]
     },
     "metadata": {},
     "output_type": "display_data"
    },
    {
     "name": "stdout",
     "output_type": "stream",
     "text": [
      "Running loss: 0.180155Gradient overflow.  Skipping step, loss scaler 0 reducing loss scale to 4096.0\n",
      "Running loss: 0.310895Gradient overflow.  Skipping step, loss scaler 0 reducing loss scale to 2048.0\n",
      "Running loss: 0.000035"
     ]
    },
    {
     "name": "stderr",
     "output_type": "stream",
     "text": [
      "I0121 03:26:48.155251 140119746860800 configuration_utils.py:87] Configuration saved in bert-large-cased-2e-05-0.5-NER/checkpoint-47771-epoch-23/config.json\n",
      "I0121 03:26:49.234647 140119746860800 modeling_utils.py:258] Model weights saved in bert-large-cased-2e-05-0.5-NER/checkpoint-47771-epoch-23/pytorch_model.bin\n"
     ]
    },
    {
     "name": "stdout",
     "output_type": "stream",
     "text": [
      "Features loaded from cache at cache_dir/cached_dev_bert_128_2_2572\n"
     ]
    },
    {
     "data": {
      "application/vnd.jupyter.widget-view+json": {
       "model_id": "a628ad374f67471a9f7a56f0e7208c4d",
       "version_major": 2,
       "version_minor": 0
      },
      "text/plain": [
       "HBox(children=(IntProgress(value=0, max=322), HTML(value='')))"
      ]
     },
     "metadata": {},
     "output_type": "display_data"
    },
    {
     "name": "stdout",
     "output_type": "stream",
     "text": [
      "{'eval_loss': 0.9614420475147936, 'precision': 0.5700560448358687, 'recall': 0.6374216651745748, 'f1_score': 0.6018596787827557}\n"
     ]
    },
    {
     "data": {
      "application/vnd.jupyter.widget-view+json": {
       "model_id": "4b52a5345bad46abbc92bcc45bbf85a0",
       "version_major": 2,
       "version_minor": 0
      },
      "text/plain": [
       "HBox(children=(IntProgress(value=0, description='Current iteration', max=2077, style=ProgressStyle(description…"
      ]
     },
     "metadata": {},
     "output_type": "display_data"
    },
    {
     "name": "stdout",
     "output_type": "stream",
     "text": [
      "Running loss: 0.000009"
     ]
    },
    {
     "name": "stderr",
     "output_type": "stream",
     "text": [
      "I0121 03:43:32.956813 140119746860800 configuration_utils.py:87] Configuration saved in bert-large-cased-2e-05-0.5-NER/checkpoint-49848-epoch-24/config.json\n",
      "I0121 03:43:34.019321 140119746860800 modeling_utils.py:258] Model weights saved in bert-large-cased-2e-05-0.5-NER/checkpoint-49848-epoch-24/pytorch_model.bin\n"
     ]
    },
    {
     "name": "stdout",
     "output_type": "stream",
     "text": [
      "Features loaded from cache at cache_dir/cached_dev_bert_128_2_2572\n"
     ]
    },
    {
     "data": {
      "application/vnd.jupyter.widget-view+json": {
       "model_id": "6d7f616045a843a1a8f3b232b8341535",
       "version_major": 2,
       "version_minor": 0
      },
      "text/plain": [
       "HBox(children=(IntProgress(value=0, max=322), HTML(value='')))"
      ]
     },
     "metadata": {},
     "output_type": "display_data"
    },
    {
     "name": "stdout",
     "output_type": "stream",
     "text": [
      "{'eval_loss': 1.0184832816561884, 'precision': 0.5573899371069182, 'recall': 0.6347358997314234, 'f1_score': 0.5935537881958978}\n"
     ]
    },
    {
     "data": {
      "application/vnd.jupyter.widget-view+json": {
       "model_id": "16f2e8d7aaf948b1931b6b91442ff330",
       "version_major": 2,
       "version_minor": 0
      },
      "text/plain": [
       "HBox(children=(IntProgress(value=0, description='Current iteration', max=2077, style=ProgressStyle(description…"
      ]
     },
     "metadata": {},
     "output_type": "display_data"
    },
    {
     "name": "stdout",
     "output_type": "stream",
     "text": [
      "Running loss: 0.000010"
     ]
    },
    {
     "name": "stderr",
     "output_type": "stream",
     "text": [
      "I0121 04:00:19.786113 140119746860800 configuration_utils.py:87] Configuration saved in bert-large-cased-2e-05-0.5-NER/checkpoint-51925-epoch-25/config.json\n",
      "I0121 04:00:20.851803 140119746860800 modeling_utils.py:258] Model weights saved in bert-large-cased-2e-05-0.5-NER/checkpoint-51925-epoch-25/pytorch_model.bin\n"
     ]
    },
    {
     "name": "stdout",
     "output_type": "stream",
     "text": [
      "Features loaded from cache at cache_dir/cached_dev_bert_128_2_2572\n"
     ]
    },
    {
     "data": {
      "application/vnd.jupyter.widget-view+json": {
       "model_id": "14a7c5cea47b43558d3521422efa44af",
       "version_major": 2,
       "version_minor": 0
      },
      "text/plain": [
       "HBox(children=(IntProgress(value=0, max=322), HTML(value='')))"
      ]
     },
     "metadata": {},
     "output_type": "display_data"
    },
    {
     "name": "stdout",
     "output_type": "stream",
     "text": [
      "{'eval_loss': 0.8610528161707379, 'precision': 0.6007036059806509, 'recall': 0.6114592658907789, 'f1_score': 0.6060337178349601}\n"
     ]
    },
    {
     "data": {
      "application/vnd.jupyter.widget-view+json": {
       "model_id": "705b2825981b4dc1a13af954c26876d1",
       "version_major": 2,
       "version_minor": 0
      },
      "text/plain": [
       "HBox(children=(IntProgress(value=0, description='Current iteration', max=2077, style=ProgressStyle(description…"
      ]
     },
     "metadata": {},
     "output_type": "display_data"
    },
    {
     "name": "stdout",
     "output_type": "stream",
     "text": [
      "Running loss: 0.031437Gradient overflow.  Skipping step, loss scaler 0 reducing loss scale to 4096.0\n",
      "Running loss: 0.000014"
     ]
    },
    {
     "name": "stderr",
     "output_type": "stream",
     "text": [
      "I0121 04:17:06.145317 140119746860800 configuration_utils.py:87] Configuration saved in bert-large-cased-2e-05-0.5-NER/checkpoint-54002-epoch-26/config.json\n",
      "I0121 04:17:07.207900 140119746860800 modeling_utils.py:258] Model weights saved in bert-large-cased-2e-05-0.5-NER/checkpoint-54002-epoch-26/pytorch_model.bin\n"
     ]
    },
    {
     "name": "stdout",
     "output_type": "stream",
     "text": [
      "Features loaded from cache at cache_dir/cached_dev_bert_128_2_2572\n"
     ]
    },
    {
     "data": {
      "application/vnd.jupyter.widget-view+json": {
       "model_id": "53bf995cf2aa4684a2955b0866837ec4",
       "version_major": 2,
       "version_minor": 0
      },
      "text/plain": [
       "HBox(children=(IntProgress(value=0, max=322), HTML(value='')))"
      ]
     },
     "metadata": {},
     "output_type": "display_data"
    },
    {
     "name": "stdout",
     "output_type": "stream",
     "text": [
      "{'eval_loss': 0.8848783073028091, 'precision': 0.5726767275615567, 'recall': 0.6454789615040286, 'f1_score': 0.6069023569023568}\n"
     ]
    },
    {
     "data": {
      "application/vnd.jupyter.widget-view+json": {
       "model_id": "f54b41c63e584cec96cb3750c9e51a2d",
       "version_major": 2,
       "version_minor": 0
      },
      "text/plain": [
       "HBox(children=(IntProgress(value=0, description='Current iteration', max=2077, style=ProgressStyle(description…"
      ]
     },
     "metadata": {},
     "output_type": "display_data"
    },
    {
     "name": "stdout",
     "output_type": "stream",
     "text": [
      "Running loss: 0.401641Gradient overflow.  Skipping step, loss scaler 0 reducing loss scale to 4096.0\n",
      "Running loss: 0.000017"
     ]
    },
    {
     "name": "stderr",
     "output_type": "stream",
     "text": [
      "I0121 04:33:53.996324 140119746860800 configuration_utils.py:87] Configuration saved in bert-large-cased-2e-05-0.5-NER/checkpoint-56079-epoch-27/config.json\n",
      "I0121 04:33:55.420386 140119746860800 modeling_utils.py:258] Model weights saved in bert-large-cased-2e-05-0.5-NER/checkpoint-56079-epoch-27/pytorch_model.bin\n"
     ]
    },
    {
     "name": "stdout",
     "output_type": "stream",
     "text": [
      "Features loaded from cache at cache_dir/cached_dev_bert_128_2_2572\n"
     ]
    },
    {
     "data": {
      "application/vnd.jupyter.widget-view+json": {
       "model_id": "e43b11a6344a4dc3b8065a78ec873cb1",
       "version_major": 2,
       "version_minor": 0
      },
      "text/plain": [
       "HBox(children=(IntProgress(value=0, max=322), HTML(value='')))"
      ]
     },
     "metadata": {},
     "output_type": "display_data"
    },
    {
     "name": "stdout",
     "output_type": "stream",
     "text": [
      "{'eval_loss': 0.9505494885520985, 'precision': 0.6026785714285714, 'recall': 0.6042972247090421, 'f1_score': 0.6034868126955745}\n"
     ]
    },
    {
     "data": {
      "application/vnd.jupyter.widget-view+json": {
       "model_id": "7ccf0ca97ca24974a7a47153f01c10bd",
       "version_major": 2,
       "version_minor": 0
      },
      "text/plain": [
       "HBox(children=(IntProgress(value=0, description='Current iteration', max=2077, style=ProgressStyle(description…"
      ]
     },
     "metadata": {},
     "output_type": "display_data"
    },
    {
     "name": "stdout",
     "output_type": "stream",
     "text": [
      "Running loss: 0.214421Gradient overflow.  Skipping step, loss scaler 0 reducing loss scale to 2048.0\n",
      "Running loss: 0.000016"
     ]
    },
    {
     "name": "stderr",
     "output_type": "stream",
     "text": [
      "I0121 04:50:39.782052 140119746860800 configuration_utils.py:87] Configuration saved in bert-large-cased-2e-05-0.5-NER/checkpoint-58156-epoch-28/config.json\n",
      "I0121 04:50:40.900873 140119746860800 modeling_utils.py:258] Model weights saved in bert-large-cased-2e-05-0.5-NER/checkpoint-58156-epoch-28/pytorch_model.bin\n"
     ]
    },
    {
     "name": "stdout",
     "output_type": "stream",
     "text": [
      "Features loaded from cache at cache_dir/cached_dev_bert_128_2_2572\n"
     ]
    },
    {
     "data": {
      "application/vnd.jupyter.widget-view+json": {
       "model_id": "668624c701e74f4198e3b4aa7b4a49c8",
       "version_major": 2,
       "version_minor": 0
      },
      "text/plain": [
       "HBox(children=(IntProgress(value=0, max=322), HTML(value='')))"
      ]
     },
     "metadata": {},
     "output_type": "display_data"
    },
    {
     "name": "stdout",
     "output_type": "stream",
     "text": [
      "{'eval_loss': 0.9559664038864463, 'precision': 0.606140350877193, 'recall': 0.6186213070725156, 'f1_score': 0.612317235268055}\n"
     ]
    },
    {
     "data": {
      "application/vnd.jupyter.widget-view+json": {
       "model_id": "1073499e47e04b2e9df43f96530de110",
       "version_major": 2,
       "version_minor": 0
      },
      "text/plain": [
       "HBox(children=(IntProgress(value=0, description='Current iteration', max=2077, style=ProgressStyle(description…"
      ]
     },
     "metadata": {},
     "output_type": "display_data"
    },
    {
     "name": "stdout",
     "output_type": "stream",
     "text": [
      "Running loss: 0.000015"
     ]
    },
    {
     "name": "stderr",
     "output_type": "stream",
     "text": [
      "I0121 05:07:26.444747 140119746860800 configuration_utils.py:87] Configuration saved in bert-large-cased-2e-05-0.5-NER/checkpoint-60233-epoch-29/config.json\n",
      "I0121 05:07:27.555258 140119746860800 modeling_utils.py:258] Model weights saved in bert-large-cased-2e-05-0.5-NER/checkpoint-60233-epoch-29/pytorch_model.bin\n"
     ]
    },
    {
     "name": "stdout",
     "output_type": "stream",
     "text": [
      "Features loaded from cache at cache_dir/cached_dev_bert_128_2_2572\n"
     ]
    },
    {
     "data": {
      "application/vnd.jupyter.widget-view+json": {
       "model_id": "27785c90444848f39d743388d9328da0",
       "version_major": 2,
       "version_minor": 0
      },
      "text/plain": [
       "HBox(children=(IntProgress(value=0, max=322), HTML(value='')))"
      ]
     },
     "metadata": {},
     "output_type": "display_data"
    },
    {
     "name": "stdout",
     "output_type": "stream",
     "text": [
      "{'eval_loss': 1.0134771007541183, 'precision': 0.6102430555555556, 'recall': 0.6293643688451208, 'f1_score': 0.6196562362274131}\n"
     ]
    },
    {
     "data": {
      "application/vnd.jupyter.widget-view+json": {
       "model_id": "1e8a4bec765e439fa2f8676f7cb10d3b",
       "version_major": 2,
       "version_minor": 0
      },
      "text/plain": [
       "HBox(children=(IntProgress(value=0, description='Current iteration', max=2077, style=ProgressStyle(description…"
      ]
     },
     "metadata": {},
     "output_type": "display_data"
    },
    {
     "name": "stdout",
     "output_type": "stream",
     "text": [
      "Running loss: 0.395793Gradient overflow.  Skipping step, loss scaler 0 reducing loss scale to 2048.0\n",
      "Running loss: 0.000005"
     ]
    },
    {
     "name": "stderr",
     "output_type": "stream",
     "text": [
      "I0121 05:24:10.765224 140119746860800 configuration_utils.py:87] Configuration saved in bert-large-cased-2e-05-0.5-NER/checkpoint-62310-epoch-30/config.json\n",
      "I0121 05:24:11.853690 140119746860800 modeling_utils.py:258] Model weights saved in bert-large-cased-2e-05-0.5-NER/checkpoint-62310-epoch-30/pytorch_model.bin\n"
     ]
    },
    {
     "name": "stdout",
     "output_type": "stream",
     "text": [
      "Features loaded from cache at cache_dir/cached_dev_bert_128_2_2572\n"
     ]
    },
    {
     "data": {
      "application/vnd.jupyter.widget-view+json": {
       "model_id": "bb7b85634219488baa1030063e09dc3a",
       "version_major": 2,
       "version_minor": 0
      },
      "text/plain": [
       "HBox(children=(IntProgress(value=0, max=322), HTML(value='')))"
      ]
     },
     "metadata": {},
     "output_type": "display_data"
    },
    {
     "name": "stdout",
     "output_type": "stream",
     "text": [
      "{'eval_loss': 1.0471791391030485, 'precision': 0.6202090592334495, 'recall': 0.6374216651745748, 'f1_score': 0.6286975717439294}\n"
     ]
    },
    {
     "data": {
      "application/vnd.jupyter.widget-view+json": {
       "model_id": "8c924e96d30745539ac4d387ea713cc8",
       "version_major": 2,
       "version_minor": 0
      },
      "text/plain": [
       "HBox(children=(IntProgress(value=0, description='Current iteration', max=2077, style=ProgressStyle(description…"
      ]
     },
     "metadata": {},
     "output_type": "display_data"
    },
    {
     "name": "stdout",
     "output_type": "stream",
     "text": [
      "Running loss: 0.000005"
     ]
    },
    {
     "name": "stderr",
     "output_type": "stream",
     "text": [
      "I0121 05:40:56.725964 140119746860800 configuration_utils.py:87] Configuration saved in bert-large-cased-2e-05-0.5-NER/checkpoint-64387-epoch-31/config.json\n",
      "I0121 05:40:57.803461 140119746860800 modeling_utils.py:258] Model weights saved in bert-large-cased-2e-05-0.5-NER/checkpoint-64387-epoch-31/pytorch_model.bin\n"
     ]
    },
    {
     "name": "stdout",
     "output_type": "stream",
     "text": [
      "Features loaded from cache at cache_dir/cached_dev_bert_128_2_2572\n"
     ]
    },
    {
     "data": {
      "application/vnd.jupyter.widget-view+json": {
       "model_id": "053fb34dd0534998947611e550bbaa9e",
       "version_major": 2,
       "version_minor": 0
      },
      "text/plain": [
       "HBox(children=(IntProgress(value=0, max=322), HTML(value='')))"
      ]
     },
     "metadata": {},
     "output_type": "display_data"
    },
    {
     "name": "stdout",
     "output_type": "stream",
     "text": [
      "{'eval_loss': 1.0900333650613412, 'precision': 0.6219298245614036, 'recall': 0.6347358997314234, 'f1_score': 0.6282676118741692}\n"
     ]
    },
    {
     "data": {
      "application/vnd.jupyter.widget-view+json": {
       "model_id": "1395859f1b5240549fa2bf439dd058d7",
       "version_major": 2,
       "version_minor": 0
      },
      "text/plain": [
       "HBox(children=(IntProgress(value=0, description='Current iteration', max=2077, style=ProgressStyle(description…"
      ]
     },
     "metadata": {},
     "output_type": "display_data"
    },
    {
     "name": "stdout",
     "output_type": "stream",
     "text": [
      "Running loss: 0.000004"
     ]
    },
    {
     "name": "stderr",
     "output_type": "stream",
     "text": [
      "I0121 05:57:42.364268 140119746860800 configuration_utils.py:87] Configuration saved in bert-large-cased-2e-05-0.5-NER/checkpoint-66464-epoch-32/config.json\n",
      "I0121 05:57:43.420659 140119746860800 modeling_utils.py:258] Model weights saved in bert-large-cased-2e-05-0.5-NER/checkpoint-66464-epoch-32/pytorch_model.bin\n"
     ]
    },
    {
     "name": "stdout",
     "output_type": "stream",
     "text": [
      "Features loaded from cache at cache_dir/cached_dev_bert_128_2_2572\n"
     ]
    },
    {
     "data": {
      "application/vnd.jupyter.widget-view+json": {
       "model_id": "02557694f5c34bfdb9957d6270ce1640",
       "version_major": 2,
       "version_minor": 0
      },
      "text/plain": [
       "HBox(children=(IntProgress(value=0, max=322), HTML(value='')))"
      ]
     },
     "metadata": {},
     "output_type": "display_data"
    },
    {
     "name": "stdout",
     "output_type": "stream",
     "text": [
      "{'eval_loss': 1.1099970507414318, 'precision': 0.612565445026178, 'recall': 0.6284691136974038, 'f1_score': 0.620415377817057}\n"
     ]
    },
    {
     "data": {
      "application/vnd.jupyter.widget-view+json": {
       "model_id": "0225af3bd74a48b5a07c7d6e9587fa70",
       "version_major": 2,
       "version_minor": 0
      },
      "text/plain": [
       "HBox(children=(IntProgress(value=0, description='Current iteration', max=2077, style=ProgressStyle(description…"
      ]
     },
     "metadata": {},
     "output_type": "display_data"
    },
    {
     "name": "stdout",
     "output_type": "stream",
     "text": [
      "Running loss: 0.220776Gradient overflow.  Skipping step, loss scaler 0 reducing loss scale to 8192.0\n",
      "Running loss: 0.000002"
     ]
    },
    {
     "name": "stderr",
     "output_type": "stream",
     "text": [
      "I0121 06:14:27.604076 140119746860800 configuration_utils.py:87] Configuration saved in bert-large-cased-2e-05-0.5-NER/checkpoint-68541-epoch-33/config.json\n",
      "I0121 06:14:28.684007 140119746860800 modeling_utils.py:258] Model weights saved in bert-large-cased-2e-05-0.5-NER/checkpoint-68541-epoch-33/pytorch_model.bin\n"
     ]
    },
    {
     "name": "stdout",
     "output_type": "stream",
     "text": [
      "Features loaded from cache at cache_dir/cached_dev_bert_128_2_2572\n"
     ]
    },
    {
     "data": {
      "application/vnd.jupyter.widget-view+json": {
       "model_id": "132914fb77f646ca93e855a4c6cab961",
       "version_major": 2,
       "version_minor": 0
      },
      "text/plain": [
       "HBox(children=(IntProgress(value=0, max=322), HTML(value='')))"
      ]
     },
     "metadata": {},
     "output_type": "display_data"
    },
    {
     "name": "stdout",
     "output_type": "stream",
     "text": [
      "{'eval_loss': 1.1297631570509612, 'precision': 0.6097137901127494, 'recall': 0.6293643688451208, 'f1_score': 0.6193832599118944}\n"
     ]
    },
    {
     "data": {
      "application/vnd.jupyter.widget-view+json": {
       "model_id": "e2e58929d5714c329baeb0a5b1b6f919",
       "version_major": 2,
       "version_minor": 0
      },
      "text/plain": [
       "HBox(children=(IntProgress(value=0, description='Current iteration', max=2077, style=ProgressStyle(description…"
      ]
     },
     "metadata": {},
     "output_type": "display_data"
    },
    {
     "name": "stdout",
     "output_type": "stream",
     "text": [
      "Running loss: 0.260521Gradient overflow.  Skipping step, loss scaler 0 reducing loss scale to 8192.0\n",
      "Running loss: 0.000004"
     ]
    },
    {
     "name": "stderr",
     "output_type": "stream",
     "text": [
      "I0121 06:31:14.204456 140119746860800 configuration_utils.py:87] Configuration saved in bert-large-cased-2e-05-0.5-NER/checkpoint-70618-epoch-34/config.json\n",
      "I0121 06:31:15.275340 140119746860800 modeling_utils.py:258] Model weights saved in bert-large-cased-2e-05-0.5-NER/checkpoint-70618-epoch-34/pytorch_model.bin\n"
     ]
    },
    {
     "name": "stdout",
     "output_type": "stream",
     "text": [
      "Features loaded from cache at cache_dir/cached_dev_bert_128_2_2572\n"
     ]
    },
    {
     "data": {
      "application/vnd.jupyter.widget-view+json": {
       "model_id": "09bcfd1dc250411db35b41566b6aa553",
       "version_major": 2,
       "version_minor": 0
      },
      "text/plain": [
       "HBox(children=(IntProgress(value=0, max=322), HTML(value='')))"
      ]
     },
     "metadata": {},
     "output_type": "display_data"
    },
    {
     "name": "stdout",
     "output_type": "stream",
     "text": [
      "{'eval_loss': 1.1351173073952532, 'precision': 0.6201413427561837, 'recall': 0.6284691136974038, 'f1_score': 0.6242774566473988}\n"
     ]
    },
    {
     "data": {
      "application/vnd.jupyter.widget-view+json": {
       "model_id": "2606ba9d55b64e15b4131f94eb4b7195",
       "version_major": 2,
       "version_minor": 0
      },
      "text/plain": [
       "HBox(children=(IntProgress(value=0, description='Current iteration', max=2077, style=ProgressStyle(description…"
      ]
     },
     "metadata": {},
     "output_type": "display_data"
    },
    {
     "name": "stdout",
     "output_type": "stream",
     "text": [
      "Running loss: 0.064163Gradient overflow.  Skipping step, loss scaler 0 reducing loss scale to 8192.0\n",
      "Running loss: 0.000004"
     ]
    },
    {
     "name": "stderr",
     "output_type": "stream",
     "text": [
      "I0121 06:47:59.996904 140119746860800 configuration_utils.py:87] Configuration saved in bert-large-cased-2e-05-0.5-NER/checkpoint-72695-epoch-35/config.json\n",
      "I0121 06:48:01.062750 140119746860800 modeling_utils.py:258] Model weights saved in bert-large-cased-2e-05-0.5-NER/checkpoint-72695-epoch-35/pytorch_model.bin\n"
     ]
    },
    {
     "name": "stdout",
     "output_type": "stream",
     "text": [
      "Features loaded from cache at cache_dir/cached_dev_bert_128_2_2572\n"
     ]
    },
    {
     "data": {
      "application/vnd.jupyter.widget-view+json": {
       "model_id": "3650d3b59e8742f78db861799ad73e50",
       "version_major": 2,
       "version_minor": 0
      },
      "text/plain": [
       "HBox(children=(IntProgress(value=0, max=322), HTML(value='')))"
      ]
     },
     "metadata": {},
     "output_type": "display_data"
    },
    {
     "name": "stdout",
     "output_type": "stream",
     "text": [
      "{'eval_loss': 1.1498289335732772, 'precision': 0.6076058772687987, 'recall': 0.6293643688451208, 'f1_score': 0.6182937554969218}\n"
     ]
    },
    {
     "data": {
      "application/vnd.jupyter.widget-view+json": {
       "model_id": "12304c71001e411683a3ed63894778f5",
       "version_major": 2,
       "version_minor": 0
      },
      "text/plain": [
       "HBox(children=(IntProgress(value=0, description='Current iteration', max=2077, style=ProgressStyle(description…"
      ]
     },
     "metadata": {},
     "output_type": "display_data"
    },
    {
     "name": "stdout",
     "output_type": "stream",
     "text": [
      "Running loss: 0.126578Gradient overflow.  Skipping step, loss scaler 0 reducing loss scale to 4096.0\n",
      "Running loss: 0.000003"
     ]
    },
    {
     "name": "stderr",
     "output_type": "stream",
     "text": [
      "I0121 07:04:45.785228 140119746860800 configuration_utils.py:87] Configuration saved in bert-large-cased-2e-05-0.5-NER/checkpoint-74772-epoch-36/config.json\n",
      "I0121 07:04:46.846876 140119746860800 modeling_utils.py:258] Model weights saved in bert-large-cased-2e-05-0.5-NER/checkpoint-74772-epoch-36/pytorch_model.bin\n"
     ]
    },
    {
     "name": "stdout",
     "output_type": "stream",
     "text": [
      "Features loaded from cache at cache_dir/cached_dev_bert_128_2_2572\n"
     ]
    },
    {
     "data": {
      "application/vnd.jupyter.widget-view+json": {
       "model_id": "09853de554dd455d9055885c4c091986",
       "version_major": 2,
       "version_minor": 0
      },
      "text/plain": [
       "HBox(children=(IntProgress(value=0, max=322), HTML(value='')))"
      ]
     },
     "metadata": {},
     "output_type": "display_data"
    },
    {
     "name": "stdout",
     "output_type": "stream",
     "text": [
      "{'eval_loss': 1.1559488452484266, 'precision': 0.6131004366812227, 'recall': 0.6284691136974038, 'f1_score': 0.6206896551724138}\n"
     ]
    },
    {
     "data": {
      "application/vnd.jupyter.widget-view+json": {
       "model_id": "afb5db9c5409457dac991cf508668bbf",
       "version_major": 2,
       "version_minor": 0
      },
      "text/plain": [
       "HBox(children=(IntProgress(value=0, description='Current iteration', max=2077, style=ProgressStyle(description…"
      ]
     },
     "metadata": {},
     "output_type": "display_data"
    },
    {
     "name": "stdout",
     "output_type": "stream",
     "text": [
      "Running loss: 0.000002"
     ]
    },
    {
     "name": "stderr",
     "output_type": "stream",
     "text": [
      "I0121 07:21:28.735474 140119746860800 configuration_utils.py:87] Configuration saved in bert-large-cased-2e-05-0.5-NER/checkpoint-76849-epoch-37/config.json\n",
      "I0121 07:21:29.808247 140119746860800 modeling_utils.py:258] Model weights saved in bert-large-cased-2e-05-0.5-NER/checkpoint-76849-epoch-37/pytorch_model.bin\n"
     ]
    },
    {
     "name": "stdout",
     "output_type": "stream",
     "text": [
      "Features loaded from cache at cache_dir/cached_dev_bert_128_2_2572\n"
     ]
    },
    {
     "data": {
      "application/vnd.jupyter.widget-view+json": {
       "model_id": "23a607f9670645dab3f966a41958ba53",
       "version_major": 2,
       "version_minor": 0
      },
      "text/plain": [
       "HBox(children=(IntProgress(value=0, max=322), HTML(value='')))"
      ]
     },
     "metadata": {},
     "output_type": "display_data"
    },
    {
     "name": "stdout",
     "output_type": "stream",
     "text": [
      "{'eval_loss': 1.198674047628947, 'precision': 0.6357615894039735, 'recall': 0.6016114592658908, 'f1_score': 0.6182152713891443}\n"
     ]
    },
    {
     "data": {
      "application/vnd.jupyter.widget-view+json": {
       "model_id": "64e937ea77964ef5a77dde07b7c064f3",
       "version_major": 2,
       "version_minor": 0
      },
      "text/plain": [
       "HBox(children=(IntProgress(value=0, description='Current iteration', max=2077, style=ProgressStyle(description…"
      ]
     },
     "metadata": {},
     "output_type": "display_data"
    },
    {
     "name": "stdout",
     "output_type": "stream",
     "text": [
      "Running loss: 0.000002"
     ]
    },
    {
     "name": "stderr",
     "output_type": "stream",
     "text": [
      "I0121 07:38:13.296499 140119746860800 configuration_utils.py:87] Configuration saved in bert-large-cased-2e-05-0.5-NER/checkpoint-78926-epoch-38/config.json\n",
      "I0121 07:38:14.388313 140119746860800 modeling_utils.py:258] Model weights saved in bert-large-cased-2e-05-0.5-NER/checkpoint-78926-epoch-38/pytorch_model.bin\n"
     ]
    },
    {
     "name": "stdout",
     "output_type": "stream",
     "text": [
      "Features loaded from cache at cache_dir/cached_dev_bert_128_2_2572\n"
     ]
    },
    {
     "data": {
      "application/vnd.jupyter.widget-view+json": {
       "model_id": "cd6df308b957425bb08b7d427e21dd3c",
       "version_major": 2,
       "version_minor": 0
      },
      "text/plain": [
       "HBox(children=(IntProgress(value=0, max=322), HTML(value='')))"
      ]
     },
     "metadata": {},
     "output_type": "display_data"
    },
    {
     "name": "stdout",
     "output_type": "stream",
     "text": [
      "{'eval_loss': 1.1979070692646845, 'precision': 0.6369606003752345, 'recall': 0.6078782452999105, 'f1_score': 0.6220797068254695}\n"
     ]
    },
    {
     "data": {
      "application/vnd.jupyter.widget-view+json": {
       "model_id": "330a3d02aa7c45fca4e832841eed5311",
       "version_major": 2,
       "version_minor": 0
      },
      "text/plain": [
       "HBox(children=(IntProgress(value=0, description='Current iteration', max=2077, style=ProgressStyle(description…"
      ]
     },
     "metadata": {},
     "output_type": "display_data"
    },
    {
     "name": "stdout",
     "output_type": "stream",
     "text": [
      "Running loss: 0.000003"
     ]
    },
    {
     "name": "stderr",
     "output_type": "stream",
     "text": [
      "I0121 07:54:59.700253 140119746860800 configuration_utils.py:87] Configuration saved in bert-large-cased-2e-05-0.5-NER/checkpoint-81003-epoch-39/config.json\n",
      "I0121 07:55:00.752440 140119746860800 modeling_utils.py:258] Model weights saved in bert-large-cased-2e-05-0.5-NER/checkpoint-81003-epoch-39/pytorch_model.bin\n"
     ]
    },
    {
     "name": "stdout",
     "output_type": "stream",
     "text": [
      "Features loaded from cache at cache_dir/cached_dev_bert_128_2_2572\n"
     ]
    },
    {
     "data": {
      "application/vnd.jupyter.widget-view+json": {
       "model_id": "1643b50a513243d987fae7087547df8b",
       "version_major": 2,
       "version_minor": 0
      },
      "text/plain": [
       "HBox(children=(IntProgress(value=0, max=322), HTML(value='')))"
      ]
     },
     "metadata": {},
     "output_type": "display_data"
    },
    {
     "name": "stdout",
     "output_type": "stream",
     "text": [
      "{'eval_loss': 1.2009268919658378, 'precision': 0.6357677902621723, 'recall': 0.6078782452999105, 'f1_score': 0.6215102974828376}\n"
     ]
    },
    {
     "data": {
      "application/vnd.jupyter.widget-view+json": {
       "model_id": "1901615011fc491f85ca79a26db23c8f",
       "version_major": 2,
       "version_minor": 0
      },
      "text/plain": [
       "HBox(children=(IntProgress(value=0, description='Current iteration', max=2077, style=ProgressStyle(description…"
      ]
     },
     "metadata": {},
     "output_type": "display_data"
    },
    {
     "name": "stdout",
     "output_type": "stream",
     "text": [
      "Running loss: 0.000003"
     ]
    },
    {
     "name": "stderr",
     "output_type": "stream",
     "text": [
      "I0121 08:11:45.881578 140119746860800 configuration_utils.py:87] Configuration saved in bert-large-cased-2e-05-0.5-NER/checkpoint-83080-epoch-40/config.json\n",
      "I0121 08:11:46.937293 140119746860800 modeling_utils.py:258] Model weights saved in bert-large-cased-2e-05-0.5-NER/checkpoint-83080-epoch-40/pytorch_model.bin\n"
     ]
    },
    {
     "name": "stdout",
     "output_type": "stream",
     "text": [
      "Features loaded from cache at cache_dir/cached_dev_bert_128_2_2572\n"
     ]
    },
    {
     "data": {
      "application/vnd.jupyter.widget-view+json": {
       "model_id": "6614d85d88ad45abb091719bd4bf37cf",
       "version_major": 2,
       "version_minor": 0
      },
      "text/plain": [
       "HBox(children=(IntProgress(value=0, max=322), HTML(value='')))"
      ]
     },
     "metadata": {},
     "output_type": "display_data"
    },
    {
     "name": "stderr",
     "output_type": "stream",
     "text": [
      "I0121 08:12:23.709295 140119746860800 configuration_utils.py:87] Configuration saved in bert-large-cased-2e-05-0.5-NER/config.json\n"
     ]
    },
    {
     "name": "stdout",
     "output_type": "stream",
     "text": [
      "{'eval_loss': 1.2025249863125633, 'precision': 0.6357677902621723, 'recall': 0.6078782452999105, 'f1_score': 0.6215102974828376}\n",
      "\n"
     ]
    },
    {
     "name": "stderr",
     "output_type": "stream",
     "text": [
      "I0121 08:12:24.763299 140119746860800 modeling_utils.py:258] Model weights saved in bert-large-cased-2e-05-0.5-NER/pytorch_model.bin\n"
     ]
    },
    {
     "name": "stdout",
     "output_type": "stream",
     "text": [
      "Training of bert model complete. Saved to bert-large-cased-2e-05-0.5-NER.\n"
     ]
    },
    {
     "name": "stderr",
     "output_type": "stream",
     "text": [
      "I0121 08:12:25.572598 140119746860800 configuration_utils.py:185] loading configuration file https://s3.amazonaws.com/models.huggingface.co/bert/bert-large-cased-config.json from cache at /home/dfurman/.cache/torch/transformers/90deb4d9dd705272dc4b3db1364d759d551d72a9f70a91f60e3a1f5e278b985d.e1d0cd972de64b28f3a5bee0ffccda07658b2b3e827e0ef38c5799e9aaa23f19\n",
      "I0121 08:12:25.574185 140119746860800 configuration_utils.py:199] Model config {\n",
      "  \"attention_probs_dropout_prob\": 0.1,\n",
      "  \"directionality\": \"bidi\",\n",
      "  \"finetuning_task\": null,\n",
      "  \"hidden_act\": \"gelu\",\n",
      "  \"hidden_dropout_prob\": 0.1,\n",
      "  \"hidden_size\": 1024,\n",
      "  \"id2label\": {\n",
      "    \"0\": \"LABEL_0\",\n",
      "    \"1\": \"LABEL_1\"\n",
      "  },\n",
      "  \"initializer_range\": 0.02,\n",
      "  \"intermediate_size\": 4096,\n",
      "  \"is_decoder\": false,\n",
      "  \"label2id\": {\n",
      "    \"LABEL_0\": 0,\n",
      "    \"LABEL_1\": 1\n",
      "  },\n",
      "  \"layer_norm_eps\": 1e-12,\n",
      "  \"max_position_embeddings\": 512,\n",
      "  \"num_attention_heads\": 16,\n",
      "  \"num_hidden_layers\": 24,\n",
      "  \"num_labels\": 2,\n",
      "  \"output_attentions\": false,\n",
      "  \"output_hidden_states\": false,\n",
      "  \"output_past\": true,\n",
      "  \"pooler_fc_size\": 768,\n",
      "  \"pooler_num_attention_heads\": 12,\n",
      "  \"pooler_num_fc_layers\": 3,\n",
      "  \"pooler_size_per_head\": 128,\n",
      "  \"pooler_type\": \"first_token_transform\",\n",
      "  \"pruned_heads\": {},\n",
      "  \"torchscript\": false,\n",
      "  \"type_vocab_size\": 2,\n",
      "  \"use_bfloat16\": false,\n",
      "  \"vocab_size\": 28996\n",
      "}\n",
      "\n",
      "I0121 08:12:26.275424 140119746860800 modeling_utils.py:406] loading weights file https://s3.amazonaws.com/models.huggingface.co/bert/bert-large-cased-pytorch_model.bin from cache at /home/dfurman/.cache/torch/transformers/56c451878be53ca1e310764d1e8312301f3d921378919467947ddd53fef6ba2b.b5f1c2070e0a0c189ca3b08270b0cb5bd0635b7319e74e93bd0dc26689953c27\n",
      "I0121 08:12:38.247369 140119746860800 modeling_utils.py:480] Weights of BertForTokenClassification not initialized from pretrained model: ['classifier.weight', 'classifier.bias']\n",
      "I0121 08:12:38.248425 140119746860800 modeling_utils.py:483] Weights from pretrained model not used in BertForTokenClassification: ['cls.predictions.bias', 'cls.predictions.transform.dense.weight', 'cls.predictions.transform.dense.bias', 'cls.predictions.decoder.weight', 'cls.seq_relationship.weight', 'cls.seq_relationship.bias', 'cls.predictions.transform.LayerNorm.weight', 'cls.predictions.transform.LayerNorm.bias']\n",
      "I0121 08:12:38.924286 140119746860800 tokenization_utils.py:398] loading file https://s3.amazonaws.com/models.huggingface.co/bert/bert-large-cased-vocab.txt from cache at /home/dfurman/.cache/torch/transformers/cee054f6aafe5e2cf816d2228704e326446785f940f5451a5b26033516a4ac3d.e13dbb970cb325137104fb2e5f36fe865f27746c6b526f6352861b1980eb80b1\n"
     ]
    },
    {
     "name": "stdout",
     "output_type": "stream",
     "text": [
      "Converting to features started.\n"
     ]
    },
    {
     "data": {
      "application/vnd.jupyter.widget-view+json": {
       "model_id": "a1087b1233f94d2bbd9beb89a5be20ad",
       "version_major": 2,
       "version_minor": 0
      },
      "text/plain": [
       "HBox(children=(IntProgress(value=0, max=16611), HTML(value='')))"
      ]
     },
     "metadata": {},
     "output_type": "display_data"
    },
    {
     "name": "stdout",
     "output_type": "stream",
     "text": [
      "\n",
      "Selected optimization level O1:  Insert automatic casts around Pytorch functions and Tensor methods.\n",
      "\n",
      "Defaults for this optimization level are:\n",
      "enabled                : True\n",
      "opt_level              : O1\n",
      "cast_model_type        : None\n",
      "patch_torch_functions  : True\n",
      "keep_batchnorm_fp32    : None\n",
      "master_weights         : None\n",
      "loss_scale             : dynamic\n",
      "Processing user overrides (additional kwargs that are not None)...\n",
      "After processing overrides, optimization options are:\n",
      "enabled                : True\n",
      "opt_level              : O1\n",
      "cast_model_type        : None\n",
      "patch_torch_functions  : True\n",
      "keep_batchnorm_fp32    : None\n",
      "master_weights         : None\n",
      "loss_scale             : dynamic\n"
     ]
    },
    {
     "data": {
      "application/vnd.jupyter.widget-view+json": {
       "model_id": "aaa526aa0dc44438aa1a435f8d1fcc34",
       "version_major": 2,
       "version_minor": 0
      },
      "text/plain": [
       "HBox(children=(IntProgress(value=0, description='Epoch', max=40, style=ProgressStyle(description_width='initia…"
      ]
     },
     "metadata": {},
     "output_type": "display_data"
    },
    {
     "data": {
      "application/vnd.jupyter.widget-view+json": {
       "model_id": "7e4a7b9161914ca49a0a1f8530160811",
       "version_major": 2,
       "version_minor": 0
      },
      "text/plain": [
       "HBox(children=(IntProgress(value=0, description='Current iteration', max=2077, style=ProgressStyle(description…"
      ]
     },
     "metadata": {},
     "output_type": "display_data"
    },
    {
     "name": "stdout",
     "output_type": "stream",
     "text": [
      "\r",
      "Running loss: 0.735363"
     ]
    },
    {
     "ename": "RuntimeError",
     "evalue": "CUDA out of memory. Tried to allocate 16.00 MiB (GPU 0; 10.92 GiB total capacity; 10.45 GiB already allocated; 9.50 MiB free; 34.47 MiB cached)",
     "output_type": "error",
     "traceback": [
      "\u001b[0;31m---------------------------------------------------------------------------\u001b[0m",
      "\u001b[0;31mRuntimeError\u001b[0m                              Traceback (most recent call last)",
      "\u001b[0;32m<ipython-input-5-4dcf8a005dcc>\u001b[0m in \u001b[0;36m<module>\u001b[0;34m\u001b[0m\n\u001b[1;32m      4\u001b[0m                 \u001b[0;31m# bert_model_finetune = MultiLabelClassificationModel('bert', 'bert-base-cased', num_labels=40, args={'reprocess_input_data': True, 'overwrite_output_dir': True, 'num_train_epochs': 5})\u001b[0m\u001b[0;34m\u001b[0m\u001b[0;34m\u001b[0m\u001b[0;34m\u001b[0m\u001b[0m\n\u001b[1;32m      5\u001b[0m                 \u001b[0mbert_model_finetune\u001b[0m \u001b[0;34m=\u001b[0m \u001b[0mNERModel\u001b[0m\u001b[0;34m(\u001b[0m\u001b[0;34m'bert'\u001b[0m\u001b[0;34m,\u001b[0m \u001b[0;34m'bert-large-cased'\u001b[0m\u001b[0;34m,\u001b[0m \u001b[0margs\u001b[0m\u001b[0;34m=\u001b[0m\u001b[0;34m{\u001b[0m\u001b[0;34m'learning_rate'\u001b[0m\u001b[0;34m:\u001b[0m \u001b[0mlr\u001b[0m\u001b[0;34m,\u001b[0m \u001b[0;34m'overwrite_output_dir'\u001b[0m\u001b[0;34m:\u001b[0m \u001b[0;32mTrue\u001b[0m\u001b[0;34m,\u001b[0m \u001b[0;34m'reprocess_input_data'\u001b[0m\u001b[0;34m:\u001b[0m \u001b[0;32mTrue\u001b[0m\u001b[0;34m,\u001b[0m \u001b[0;34m'num_train_epochs'\u001b[0m\u001b[0;34m:\u001b[0m \u001b[0;36m40\u001b[0m\u001b[0;34m,\u001b[0m \u001b[0;34m'evaluate_during_training'\u001b[0m\u001b[0;34m:\u001b[0m \u001b[0;32mTrue\u001b[0m\u001b[0;34m,\u001b[0m \u001b[0;34m'attention_probs_dropout_prob'\u001b[0m\u001b[0;34m:\u001b[0m \u001b[0mdropout\u001b[0m\u001b[0;34m,\u001b[0m \u001b[0;34m'hidden_dropout_prob'\u001b[0m\u001b[0;34m:\u001b[0m \u001b[0mdropout\u001b[0m\u001b[0;34m,\u001b[0m \u001b[0;34m'evaluate_during_training_steps'\u001b[0m\u001b[0;34m:\u001b[0m \u001b[0;36m0\u001b[0m\u001b[0;34m,\u001b[0m \u001b[0;34m'save_steps'\u001b[0m\u001b[0;34m:\u001b[0m \u001b[0;36m0\u001b[0m\u001b[0;34m,\u001b[0m \u001b[0;34m'adam_epsilon'\u001b[0m\u001b[0;34m:\u001b[0m \u001b[0;36m1e-6\u001b[0m\u001b[0;34m,\u001b[0m \u001b[0;34m'layer_norm_eps'\u001b[0m\u001b[0;34m:\u001b[0m \u001b[0;36m1e-8\u001b[0m\u001b[0;34m}\u001b[0m\u001b[0;34m,\u001b[0m \u001b[0mlabels\u001b[0m\u001b[0;34m=\u001b[0m\u001b[0;34m[\u001b[0m\u001b[0;34m'O'\u001b[0m\u001b[0;34m,\u001b[0m\u001b[0;34m'claim'\u001b[0m\u001b[0;34m]\u001b[0m\u001b[0;34m)\u001b[0m\u001b[0;34m\u001b[0m\u001b[0;34m\u001b[0m\u001b[0m\n\u001b[0;32m----> 6\u001b[0;31m                 \u001b[0mbert_model_finetune\u001b[0m\u001b[0;34m.\u001b[0m\u001b[0mtrain_model\u001b[0m\u001b[0;34m(\u001b[0m\u001b[0mtraining_data\u001b[0m\u001b[0;34m,\u001b[0m \u001b[0moutput_dir\u001b[0m\u001b[0;34m=\u001b[0m\u001b[0;34m'{}-{}-{}-NER'\u001b[0m\u001b[0;34m.\u001b[0m\u001b[0mformat\u001b[0m\u001b[0;34m(\u001b[0m\u001b[0mmodel_name\u001b[0m\u001b[0;34m,\u001b[0m \u001b[0mstr\u001b[0m\u001b[0;34m(\u001b[0m\u001b[0mlr\u001b[0m\u001b[0;34m)\u001b[0m\u001b[0;34m,\u001b[0m \u001b[0mstr\u001b[0m\u001b[0;34m(\u001b[0m\u001b[0mdropout\u001b[0m\u001b[0;34m)\u001b[0m\u001b[0;34m)\u001b[0m\u001b[0;34m,\u001b[0m \u001b[0meval_df\u001b[0m\u001b[0;34m=\u001b[0m\u001b[0mdev_data\u001b[0m\u001b[0;34m)\u001b[0m\u001b[0;34m\u001b[0m\u001b[0;34m\u001b[0m\u001b[0m\n\u001b[0m",
      "\u001b[0;32m~/anaconda3/lib/python3.7/site-packages/simpletransformers/ner/ner_model.py\u001b[0m in \u001b[0;36mtrain_model\u001b[0;34m(self, train_data, output_dir, show_running_loss, args, eval_df)\u001b[0m\n\u001b[1;32m    224\u001b[0m             \u001b[0moutput_dir\u001b[0m\u001b[0;34m,\u001b[0m\u001b[0;34m\u001b[0m\u001b[0;34m\u001b[0m\u001b[0m\n\u001b[1;32m    225\u001b[0m             \u001b[0mshow_running_loss\u001b[0m\u001b[0;34m=\u001b[0m\u001b[0mshow_running_loss\u001b[0m\u001b[0;34m,\u001b[0m\u001b[0;34m\u001b[0m\u001b[0;34m\u001b[0m\u001b[0m\n\u001b[0;32m--> 226\u001b[0;31m             \u001b[0meval_df\u001b[0m\u001b[0;34m=\u001b[0m\u001b[0meval_df\u001b[0m\u001b[0;34m,\u001b[0m\u001b[0;34m\u001b[0m\u001b[0;34m\u001b[0m\u001b[0m\n\u001b[0m\u001b[1;32m    227\u001b[0m         )\n\u001b[1;32m    228\u001b[0m \u001b[0;34m\u001b[0m\u001b[0m\n",
      "\u001b[0;32m~/anaconda3/lib/python3.7/site-packages/simpletransformers/ner/ner_model.py\u001b[0m in \u001b[0;36mtrain\u001b[0;34m(self, train_dataset, output_dir, show_running_loss, eval_df)\u001b[0m\n\u001b[1;32m    381\u001b[0m                 \u001b[0mtr_loss\u001b[0m \u001b[0;34m+=\u001b[0m \u001b[0mloss\u001b[0m\u001b[0;34m.\u001b[0m\u001b[0mitem\u001b[0m\u001b[0;34m(\u001b[0m\u001b[0;34m)\u001b[0m\u001b[0;34m\u001b[0m\u001b[0;34m\u001b[0m\u001b[0m\n\u001b[1;32m    382\u001b[0m                 \u001b[0;32mif\u001b[0m \u001b[0;34m(\u001b[0m\u001b[0mstep\u001b[0m \u001b[0;34m+\u001b[0m \u001b[0;36m1\u001b[0m\u001b[0;34m)\u001b[0m \u001b[0;34m%\u001b[0m \u001b[0margs\u001b[0m\u001b[0;34m[\u001b[0m\u001b[0;34m\"gradient_accumulation_steps\"\u001b[0m\u001b[0;34m]\u001b[0m \u001b[0;34m==\u001b[0m \u001b[0;36m0\u001b[0m\u001b[0;34m:\u001b[0m\u001b[0;34m\u001b[0m\u001b[0;34m\u001b[0m\u001b[0m\n\u001b[0;32m--> 383\u001b[0;31m                     \u001b[0moptimizer\u001b[0m\u001b[0;34m.\u001b[0m\u001b[0mstep\u001b[0m\u001b[0;34m(\u001b[0m\u001b[0;34m)\u001b[0m\u001b[0;34m\u001b[0m\u001b[0;34m\u001b[0m\u001b[0m\n\u001b[0m\u001b[1;32m    384\u001b[0m                     \u001b[0mscheduler\u001b[0m\u001b[0;34m.\u001b[0m\u001b[0mstep\u001b[0m\u001b[0;34m(\u001b[0m\u001b[0;34m)\u001b[0m  \u001b[0;31m# Update learning rate schedule\u001b[0m\u001b[0;34m\u001b[0m\u001b[0;34m\u001b[0m\u001b[0m\n\u001b[1;32m    385\u001b[0m                     \u001b[0mmodel\u001b[0m\u001b[0;34m.\u001b[0m\u001b[0mzero_grad\u001b[0m\u001b[0;34m(\u001b[0m\u001b[0;34m)\u001b[0m\u001b[0;34m\u001b[0m\u001b[0;34m\u001b[0m\u001b[0m\n",
      "\u001b[0;32m~/anaconda3/lib/python3.7/site-packages/apex/amp/_initialize.py\u001b[0m in \u001b[0;36mnew_step\u001b[0;34m(*args, **kwargs)\u001b[0m\n\u001b[1;32m    239\u001b[0m                 \u001b[0;32mdef\u001b[0m \u001b[0mnew_step\u001b[0m\u001b[0;34m(\u001b[0m\u001b[0;34m*\u001b[0m\u001b[0margs\u001b[0m\u001b[0;34m,\u001b[0m \u001b[0;34m**\u001b[0m\u001b[0mkwargs\u001b[0m\u001b[0;34m)\u001b[0m\u001b[0;34m:\u001b[0m\u001b[0;34m\u001b[0m\u001b[0;34m\u001b[0m\u001b[0m\n\u001b[1;32m    240\u001b[0m                     \u001b[0;32mwith\u001b[0m \u001b[0mdisable_casts\u001b[0m\u001b[0;34m(\u001b[0m\u001b[0;34m)\u001b[0m\u001b[0;34m:\u001b[0m\u001b[0;34m\u001b[0m\u001b[0;34m\u001b[0m\u001b[0m\n\u001b[0;32m--> 241\u001b[0;31m                         \u001b[0moutput\u001b[0m \u001b[0;34m=\u001b[0m \u001b[0mold_step\u001b[0m\u001b[0;34m(\u001b[0m\u001b[0;34m*\u001b[0m\u001b[0margs\u001b[0m\u001b[0;34m,\u001b[0m \u001b[0;34m**\u001b[0m\u001b[0mkwargs\u001b[0m\u001b[0;34m)\u001b[0m\u001b[0;34m\u001b[0m\u001b[0;34m\u001b[0m\u001b[0m\n\u001b[0m\u001b[1;32m    242\u001b[0m                     \u001b[0;32mreturn\u001b[0m \u001b[0moutput\u001b[0m\u001b[0;34m\u001b[0m\u001b[0;34m\u001b[0m\u001b[0m\n\u001b[1;32m    243\u001b[0m                 \u001b[0;32mreturn\u001b[0m \u001b[0mnew_step\u001b[0m\u001b[0;34m\u001b[0m\u001b[0;34m\u001b[0m\u001b[0m\n",
      "\u001b[0;32m~/anaconda3/lib/python3.7/site-packages/transformers/optimization.py\u001b[0m in \u001b[0;36mstep\u001b[0;34m(self, closure)\u001b[0m\n\u001b[1;32m    146\u001b[0m                 \u001b[0mexp_avg\u001b[0m\u001b[0;34m.\u001b[0m\u001b[0mmul_\u001b[0m\u001b[0;34m(\u001b[0m\u001b[0mbeta1\u001b[0m\u001b[0;34m)\u001b[0m\u001b[0;34m.\u001b[0m\u001b[0madd_\u001b[0m\u001b[0;34m(\u001b[0m\u001b[0;36m1.0\u001b[0m \u001b[0;34m-\u001b[0m \u001b[0mbeta1\u001b[0m\u001b[0;34m,\u001b[0m \u001b[0mgrad\u001b[0m\u001b[0;34m)\u001b[0m\u001b[0;34m\u001b[0m\u001b[0;34m\u001b[0m\u001b[0m\n\u001b[1;32m    147\u001b[0m                 \u001b[0mexp_avg_sq\u001b[0m\u001b[0;34m.\u001b[0m\u001b[0mmul_\u001b[0m\u001b[0;34m(\u001b[0m\u001b[0mbeta2\u001b[0m\u001b[0;34m)\u001b[0m\u001b[0;34m.\u001b[0m\u001b[0maddcmul_\u001b[0m\u001b[0;34m(\u001b[0m\u001b[0;36m1.0\u001b[0m \u001b[0;34m-\u001b[0m \u001b[0mbeta2\u001b[0m\u001b[0;34m,\u001b[0m \u001b[0mgrad\u001b[0m\u001b[0;34m,\u001b[0m \u001b[0mgrad\u001b[0m\u001b[0;34m)\u001b[0m\u001b[0;34m\u001b[0m\u001b[0;34m\u001b[0m\u001b[0m\n\u001b[0;32m--> 148\u001b[0;31m                 \u001b[0mdenom\u001b[0m \u001b[0;34m=\u001b[0m \u001b[0mexp_avg_sq\u001b[0m\u001b[0;34m.\u001b[0m\u001b[0msqrt\u001b[0m\u001b[0;34m(\u001b[0m\u001b[0;34m)\u001b[0m\u001b[0;34m.\u001b[0m\u001b[0madd_\u001b[0m\u001b[0;34m(\u001b[0m\u001b[0mgroup\u001b[0m\u001b[0;34m[\u001b[0m\u001b[0;34m'eps'\u001b[0m\u001b[0;34m]\u001b[0m\u001b[0;34m)\u001b[0m\u001b[0;34m\u001b[0m\u001b[0;34m\u001b[0m\u001b[0m\n\u001b[0m\u001b[1;32m    149\u001b[0m \u001b[0;34m\u001b[0m\u001b[0m\n\u001b[1;32m    150\u001b[0m                 \u001b[0mstep_size\u001b[0m \u001b[0;34m=\u001b[0m \u001b[0mgroup\u001b[0m\u001b[0;34m[\u001b[0m\u001b[0;34m'lr'\u001b[0m\u001b[0;34m]\u001b[0m\u001b[0;34m\u001b[0m\u001b[0;34m\u001b[0m\u001b[0m\n",
      "\u001b[0;31mRuntimeError\u001b[0m: CUDA out of memory. Tried to allocate 16.00 MiB (GPU 0; 10.92 GiB total capacity; 10.45 GiB already allocated; 9.50 MiB free; 34.47 MiB cached)"
     ]
    }
   ],
   "source": [
    "for model_name in ['bert-large-cased', 'bert-base-cased']:\n",
    "    for lr in [2e-5]:\n",
    "            for dropout in [0.5]:\n",
    "                # bert_model_finetune = MultiLabelClassificationModel('bert', 'bert-base-cased', num_labels=40, args={'reprocess_input_data': True, 'overwrite_output_dir': True, 'num_train_epochs': 5})\n",
    "                bert_model_finetune = NERModel('bert', 'bert-large-cased', args={'learning_rate': lr, 'overwrite_output_dir': True, 'reprocess_input_data': True, 'num_train_epochs': 40, 'evaluate_during_training': True, 'attention_probs_dropout_prob': dropout, 'hidden_dropout_prob': dropout, 'evaluate_during_training_steps': 0, 'save_steps': 0, 'adam_epsilon': 1e-6, 'layer_norm_eps': 1e-8}, labels=['O','claim'])\n",
    "                bert_model_finetune.train_model(training_data, output_dir='{}-{}-{}-NER'.format(model_name, str(lr), str(dropout)), eval_df=dev_data)"
   ]
  },
  {
   "cell_type": "code",
   "execution_count": null,
   "metadata": {},
   "outputs": [],
   "source": []
  },
  {
   "cell_type": "code",
   "execution_count": null,
   "metadata": {},
   "outputs": [],
   "source": [
    "# Evaluate the model\n",
    "result, model_outputs, predictions = bert_model_finetune.eval_model(dev_data)"
   ]
  },
  {
   "cell_type": "code",
   "execution_count": 68,
   "metadata": {},
   "outputs": [
    {
     "name": "stdout",
     "output_type": "stream",
     "text": [
      "Converting to features started.\n"
     ]
    },
    {
     "data": {
      "application/vnd.jupyter.widget-view+json": {
       "model_id": "38d180ef4247465896d9f83161b68699",
       "version_major": 2,
       "version_minor": 0
      },
      "text/plain": [
       "HBox(children=(IntProgress(value=0, max=1), HTML(value='')))"
      ]
     },
     "metadata": {},
     "output_type": "display_data"
    },
    {
     "data": {
      "application/vnd.jupyter.widget-view+json": {
       "model_id": "418817b78bcd4a00b8f013277e073e6a",
       "version_major": 2,
       "version_minor": 0
      },
      "text/plain": [
       "HBox(children=(IntProgress(value=0, max=1), HTML(value='')))"
      ]
     },
     "metadata": {},
     "output_type": "display_data"
    }
   ],
   "source": [
    "predictions, raw_outputs = bert_model_finetune.predict([\"Beacuse this is an argument, it will be cached by the model\"])"
   ]
  },
  {
   "cell_type": "code",
   "execution_count": 69,
   "metadata": {},
   "outputs": [
    {
     "name": "stdout",
     "output_type": "stream",
     "text": [
      "[[{'Beacuse': 'O'}, {'this': 'O'}, {'is': 'O'}, {'an': 'O'}, {'argument,': 'O'}, {'it': 'claim'}, {'will': 'claim'}, {'be': 'claim'}, {'cached': 'claim'}, {'by': 'claim'}, {'the': 'claim'}, {'model': 'claim'}]]\n"
     ]
    }
   ],
   "source": [
    "print(predictions)"
   ]
  },
  {
   "cell_type": "code",
   "execution_count": null,
   "metadata": {},
   "outputs": [],
   "source": [
    "bert_model_finetune.save()"
   ]
  }
 ],
 "metadata": {
  "kernelspec": {
   "display_name": "Python 3",
   "language": "python",
   "name": "python3"
  },
  "language_info": {
   "codemirror_mode": {
    "name": "ipython",
    "version": 3
   },
   "file_extension": ".py",
   "mimetype": "text/x-python",
   "name": "python",
   "nbconvert_exporter": "python",
   "pygments_lexer": "ipython3",
   "version": "3.7.3"
  }
 },
 "nbformat": 4,
 "nbformat_minor": 2
}
