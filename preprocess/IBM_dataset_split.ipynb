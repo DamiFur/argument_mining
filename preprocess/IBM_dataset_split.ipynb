{
 "cells": [
  {
   "cell_type": "code",
   "execution_count": 2,
   "metadata": {},
   "outputs": [],
   "source": [
    "import numpy as np\n",
    "import fnmatch\n",
    "import os\n",
    "import shutil"
   ]
  },
  {
   "cell_type": "code",
   "execution_count": 71,
   "metadata": {},
   "outputs": [],
   "source": [
    "def split(l):\n",
    "    train, remaining_data = np.split(l, [int(0.7 * len(l))])\n",
    "    test, val = np.split(remaining_data,[int(0.7 * len(remaining_data))])\n",
    "\n",
    "    return train, test, val"
   ]
  },
  {
   "cell_type": "code",
   "execution_count": 159,
   "metadata": {},
   "outputs": [],
   "source": [
    "import numpy as np\n",
    "import fnmatch\n",
    "import os\n",
    "import shutil\n",
    "\n",
    "root_dir = \"/home/jfrau/Documents/am/IBM_prueba3_without_holdout/articles\"\n",
    "root_dest = \"/home/jfrau/Documents/am/IBM_prueba3_without_holdout\"\n",
    "\n",
    "def split_data_set(root_dir):\n",
    "\n",
    "    train_files = []\n",
    "    test_files = []\n",
    "    val_files = []\n",
    "    \n",
    "    # Creation of the train, test and val directories\n",
    "    train_dir = os.path.join(root_dest, 'train')\n",
    "    test_dir = os.path.join(root_dest, 'test')\n",
    "    val_dir = os.path.join(root_dest, 'val')\n",
    "    if os.path.isdir(os.path.join(root_dest, 'train')):\n",
    "        shutil.rmtree(os.path.join(root_dest, 'train'))\n",
    "    os.makedirs(os.path.join(root_dest, 'train'))\n",
    "    if os.path.isdir(os.path.join(root_dest, 'test')):\n",
    "        shutil.rmtree(os.path.join(root_dest, 'test'))\n",
    "    os.makedirs(os.path.join(root_dest, 'test'))\n",
    "    if os.path.isdir(os.path.join(root_dest, 'val')):\n",
    "        shutil.rmtree(os.path.join(root_dest, 'val'))\n",
    "    os.makedirs(os.path.join(root_dest, 'val'))    \n",
    "    \n",
    "    # Collect files of each topic\n",
    "    for topic in os.listdir(root_dir): \n",
    "        clean_list = []\n",
    "        topic_full_path = os.path.join(root_dir, topic)        \n",
    "        filenames = os.listdir(topic_full_path) \n",
    "        for elements in filenames:\n",
    "            if elements.startswith(\"clean\"):\n",
    "                clean_list.append(elements)\n",
    "        train, test, val = split(clean_list) \n",
    "        \n",
    "        for file in train:\n",
    "            if file in train_files:\n",
    "                raise ValueError('Duplicate file')\n",
    "            train_files.append(file)\n",
    "            dir_original_file = os.path.join(topic_full_path, file)\n",
    "            shutil.copy(dir_original_file,train_dir)\n",
    "        for file in test:\n",
    "            if file in test_files:\n",
    "                raise ValueError('Duplicate file')\n",
    "            test_files.append(file)\n",
    "            dir_original_file = os.path.join(topic_full_path, file)\n",
    "            shutil.copy(dir_original_file,test_dir)\n",
    "        for file in val:\n",
    "            if file in val_files:\n",
    "                raise ValueError('Duplicate file')\n",
    "            val_files.append(file)\n",
    "            dir_original_file = os.path.join(topic_full_path, file)\n",
    "            shutil.copy(dir_original_file,val_dir)\n",
    "        "
   ]
  },
  {
   "cell_type": "code",
   "execution_count": 158,
   "metadata": {},
   "outputs": [],
   "source": [
    "split_data_set(root_dir)"
   ]
  },
  {
   "cell_type": "code",
   "execution_count": null,
   "metadata": {},
   "outputs": [],
   "source": []
  },
  {
   "cell_type": "code",
   "execution_count": null,
   "metadata": {},
   "outputs": [],
   "source": []
  }
 ],
 "metadata": {
  "kernelspec": {
   "display_name": "Python 3",
   "language": "python",
   "name": "python3"
  },
  "language_info": {
   "codemirror_mode": {
    "name": "ipython",
    "version": 3
   },
   "file_extension": ".py",
   "mimetype": "text/x-python",
   "name": "python",
   "nbconvert_exporter": "python",
   "pygments_lexer": "ipython3",
   "version": "3.7.1"
  }
 },
 "nbformat": 4,
 "nbformat_minor": 2
}
