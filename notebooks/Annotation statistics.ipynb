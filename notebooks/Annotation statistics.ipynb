{
 "cells": [
  {
   "cell_type": "code",
   "execution_count": 43,
   "metadata": {
    "collapsed": false
   },
   "outputs": [],
   "source": [
    "%matplotlib inline \n",
    "import itertools\n",
    "import matplotlib\n",
    "import matplotlib.pyplot as plt\n",
    "import os\n",
    "import re\n",
    "import sys\n",
    "\n",
    "from collections import defaultdict\n",
    "from sklearn import metrics"
   ]
  },
  {
   "cell_type": "code",
   "execution_count": 44,
   "metadata": {
    "collapsed": false
   },
   "outputs": [],
   "source": [
    "import seaborn as sns\n",
    "sns.set_style('white')\n",
    "sns.set_palette('colorblind')"
   ]
  },
  {
   "cell_type": "code",
   "execution_count": 45,
   "metadata": {
    "collapsed": false
   },
   "outputs": [],
   "source": [
    "module_path = os.path.abspath('..')\n",
    "if module_path not in sys.path:\n",
    "    sys.path.append(module_path)\n",
    "from preprocess import essay_documents, process_arg_essays_for_conll"
   ]
  },
  {
   "cell_type": "code",
   "execution_count": 46,
   "metadata": {
    "collapsed": true
   },
   "outputs": [],
   "source": [
    "ANNOTATIONS_DIR = '/home/milagro/FaMAF/am/third_party/brat-v1.3_Crunchy_Frog/data/'\n",
    "ANNOTATORS = {\n",
    "    'mili': {'dirname': 'judgements-mili'},\n",
    "    # 'laura': {'dirname': 'judgements-laura'},\n",
    "    'serena': {'dirname': 'judgements-serena'}\n",
    "}\n",
    "ANNOTATION_FORMAT = r'.*\\.ann'\n",
    "BRAT_DIRNAME = '/home/milagro/FaMAF/am/third_party/brat/'"
   ]
  },
  {
   "cell_type": "markdown",
   "metadata": {},
   "source": [
    "### Find files to compare"
   ]
  },
  {
   "cell_type": "code",
   "execution_count": 47,
   "metadata": {
    "collapsed": false
   },
   "outputs": [],
   "source": [
    "def get_non_empty_files(input_dirpath, pattern, size_limit=500):\n",
    "    \"\"\"Returns the names of the files in input_dirpath matching pattern.\"\"\"\n",
    "    all_files = os.listdir(input_dirpath)\n",
    "    result = {}\n",
    "    for filename in all_files:\n",
    "        if not re.match(pattern, filename):\n",
    "            continue\n",
    "        filepath = os.path.join(input_dirpath, filename)\n",
    "        if os.path.isfile(filepath) and os.stat(filepath).st_size > 500:\n",
    "            result[filename] = filepath\n",
    "    return result"
   ]
  },
  {
   "cell_type": "code",
   "execution_count": 48,
   "metadata": {
    "collapsed": false
   },
   "outputs": [],
   "source": [
    "files = defaultdict(lambda: {})\n",
    "for name, annotator in ANNOTATORS.items():\n",
    "    annotator['files'] = get_non_empty_files(os.path.join(ANNOTATIONS_DIR, annotator['dirname']),\n",
    "                                             ANNOTATION_FORMAT)\n",
    "    for filename, filepath in annotator['files'].items():\n",
    "        files[filename][name] = filepath"
   ]
  },
  {
   "cell_type": "code",
   "execution_count": 49,
   "metadata": {
    "collapsed": false
   },
   "outputs": [
    {
     "data": {
      "text/plain": [
       "{'mili': {'dirname': 'judgements-mili',\n",
       "  'files': {'CASE_OF__ALKASI_v._TURKEY.ann': '/home/milagro/FaMAF/am/third_party/brat-v1.3_Crunchy_Frog/data/judgements-mili/CASE_OF__ALKASI_v._TURKEY.ann',\n",
       "   'CASE_OF__BARCZA_AND_OTHERS_v_HUNGARY.ann': '/home/milagro/FaMAF/am/third_party/brat-v1.3_Crunchy_Frog/data/judgements-mili/CASE_OF__BARCZA_AND_OTHERS_v_HUNGARY.ann'}},\n",
       " 'serena': {'dirname': 'judgements-serena',\n",
       "  'files': {'CASE_OF__ALKASI_v._TURKEY.ann': '/home/milagro/FaMAF/am/third_party/brat-v1.3_Crunchy_Frog/data/judgements-serena/CASE_OF__ALKASI_v._TURKEY.ann'}}}"
      ]
     },
     "execution_count": 49,
     "metadata": {},
     "output_type": "execute_result"
    }
   ],
   "source": [
    "ANNOTATORS"
   ]
  },
  {
   "cell_type": "code",
   "execution_count": 50,
   "metadata": {
    "collapsed": false
   },
   "outputs": [
    {
     "data": {
      "text/plain": [
       "{'CASE_OF__ALKASI_v._TURKEY.ann': {'mili': '/home/milagro/FaMAF/am/third_party/brat-v1.3_Crunchy_Frog/data/judgements-mili/CASE_OF__ALKASI_v._TURKEY.ann',\n",
       "  'serena': '/home/milagro/FaMAF/am/third_party/brat-v1.3_Crunchy_Frog/data/judgements-serena/CASE_OF__ALKASI_v._TURKEY.ann'},\n",
       " 'CASE_OF__BARCZA_AND_OTHERS_v_HUNGARY.ann': {'mili': '/home/milagro/FaMAF/am/third_party/brat-v1.3_Crunchy_Frog/data/judgements-mili/CASE_OF__BARCZA_AND_OTHERS_v_HUNGARY.ann'}}"
      ]
     },
     "execution_count": 50,
     "metadata": {},
     "output_type": "execute_result"
    }
   ],
   "source": [
    "dict(files)"
   ]
  },
  {
   "cell_type": "markdown",
   "metadata": {},
   "source": [
    "Find pairs of files annotated for more than one annotator."
   ]
  },
  {
   "cell_type": "code",
   "execution_count": 51,
   "metadata": {
    "collapsed": false
   },
   "outputs": [
    {
     "data": {
      "text/plain": [
       "<module 'preprocess.essay_documents' from '/home/milagro/FaMAF/am/argument_mining/preprocess/essay_documents.py'>"
      ]
     },
     "execution_count": 51,
     "metadata": {},
     "output_type": "execute_result"
    }
   ],
   "source": [
    "from imp import reload\n",
    "reload(process_arg_essays_for_conll)\n",
    "reload(essay_documents)"
   ]
  },
  {
   "cell_type": "code",
   "execution_count": 52,
   "metadata": {
    "collapsed": false
   },
   "outputs": [],
   "source": [
    "document_pairs = []\n",
    "for value in files.values():\n",
    "    if len(value) < 2:\n",
    "        continue\n",
    "    annotations = {}\n",
    "    for name, filename in value.items():\n",
    "        with process_arg_essays_for_conll.EssayDocumentFactory(\n",
    "                filename.replace('ann', 'txt'), '-' + name) as instance_extractor:\n",
    "            annotations[name] = instance_extractor.build_document()\n",
    "    for ann1, ann2 in list(itertools.combinations(annotations.keys(), 2)):\n",
    "        document_pairs.append((annotations[ann1], annotations[ann2]))"
   ]
  },
  {
   "cell_type": "code",
   "execution_count": 53,
   "metadata": {
    "collapsed": false
   },
   "outputs": [
    {
     "data": {
      "text/plain": [
       "[(CASE_OF__ALKASI_v._TURKEY.txt-serena, CASE_OF__ALKASI_v._TURKEY.txt-mili)]"
      ]
     },
     "execution_count": 53,
     "metadata": {},
     "output_type": "execute_result"
    }
   ],
   "source": [
    "document_pairs"
   ]
  },
  {
   "cell_type": "code",
   "execution_count": 54,
   "metadata": {
    "collapsed": false
   },
   "outputs": [],
   "source": [
    "from IPython.display import Markdown, display\n",
    "def printmd(string):\n",
    "    display(Markdown(string))"
   ]
  },
  {
   "cell_type": "code",
   "execution_count": 55,
   "metadata": {
    "collapsed": false
   },
   "outputs": [
    {
     "data": {
      "text/markdown": [
       "Relying on Article 6 of the Convention , the applicant complains that _the_ _labour_ _court’s_ _dismissal_ _of_ _her_ _claim_ _for_ _compensation_ _against_ _her_ _former_ _employer_ _amounted_ _to_ _a_ _violation_ _of_ _her_ _right_ _to_ _be_ _presumed_ _innocent_ , in that `the` `labour` `court` `found` `that` `she` `had` `broken` `her` `employer’s` `trust` `by` `committing` `the` offence `of` `incitement` . \n",
       "\n",
       "The applicant argues that **the** **labour** **court’s** **complete** **disregard** **of** **her** **acquittal** **in** **relation** **to** **the** **charge** **of** **incitement** **is** **incompatible** **with** **the** **requirements** **of** **Article** **6** **§** **2** **of** **the** **Convention** . \n",
       "\n",
       "She further claims that _the_ _Bakırköy_ _Labour_ _Court_ _based_ _its_ _decision_ on _self-incriminating_ _statements_ _which_ _she_ _had_ _given_ _to_ _the_ _police_ _in_ _the_ _absence_ _of_ _her_ _lawyer_ . \n",
       "\n",
       "Being the master of the characterisation to be given in law to the facts of the case , the Court considers that _the_ _applicant’s_ _grievances_ _fall_ _to_ _be_ _examined_ _solely_ _under_ _Article_ _6_ _§_ _2_ _of_ _the_ _Convention_ which reads as follows : \n",
       "\n",
       "`“Everyone` `charged` `with` `a` `criminal` `offence` `shall` `be` `presumed` `innocent` `until` `proved` `guilty` `according` `to` `law.”` \n",
       "\n",
       "In their submissions , the Government maintained that **the** **applicant’s** **dismissal** **at** **the** **material** **time** **had** **been** **based** **on** **the** **self-incriminating** **statements** **she** **had** **given** **to** **the** **police** . \n",
       "\n"
      ],
      "text/plain": [
       "<IPython.core.display.Markdown object>"
      ]
     },
     "metadata": {},
     "output_type": "display_data"
    }
   ],
   "source": [
    "printmd(document_pairs[0][0].sample_labeled_text(limit=40, styles={'claim': '_', 'major-claim': '**', 'premise': '`'}))"
   ]
  },
  {
   "cell_type": "markdown",
   "metadata": {},
   "source": [
    "# Compare document annotations"
   ]
  },
  {
   "cell_type": "markdown",
   "metadata": {},
   "source": [
    "## Token level comparison"
   ]
  },
  {
   "cell_type": "code",
   "execution_count": 56,
   "metadata": {
    "collapsed": true
   },
   "outputs": [],
   "source": [
    "def get_labels(doc1, doc2):\n",
    "    words1, labels1 = doc1.get_word_label_list()\n",
    "    words2, labels2 = doc2.get_word_label_list()\n",
    "    # Check the documents are equal\n",
    "    assert words1 == words2\n",
    "    return labels1, labels2"
   ]
  },
  {
   "cell_type": "code",
   "execution_count": 57,
   "metadata": {
    "collapsed": true
   },
   "outputs": [],
   "source": [
    "def show_kappa(labels1, labels2):\n",
    "    kappa = metrics.cohen_kappa_score(labels1, labels2)\n",
    "    print('{}-{}: {}'.format(doc1.identifier.split('-')[1], doc2.identifier.split('-')[1], kappa))"
   ]
  },
  {
   "cell_type": "code",
   "execution_count": 58,
   "metadata": {
    "collapsed": true
   },
   "outputs": [],
   "source": [
    "def show_confusion_matrix(labels1, labels2):\n",
    "    label_names = list(set(labels1))\n",
    "    matrix = metrics.confusion_matrix(labels1, labels2, labels=label_names)\n",
    "    sns.heatmap(matrix, annot=True, fmt=\"d\", linewidths=.5,\n",
    "                xticklabels=label_names, yticklabels=label_names)\n",
    "    plt.show()"
   ]
  },
  {
   "cell_type": "markdown",
   "metadata": {},
   "source": [
    "Kappa agreement using labels `claim`, `major-claim` and `premise`"
   ]
  },
  {
   "cell_type": "code",
   "execution_count": 59,
   "metadata": {
    "collapsed": false,
    "scrolled": false
   },
   "outputs": [
    {
     "name": "stdout",
     "output_type": "stream",
     "text": [
      "serena-mili: 0.5083266031335809\n"
     ]
    },
    {
     "data": {
      "image/png": "[encoded data removed]",
      "text/plain": [
       "<matplotlib.figure.Figure at 0x7febc48ef9e8>"
      ]
     },
     "metadata": {},
     "output_type": "display_data"
    }
   ],
   "source": [
    "for doc1, doc2 in document_pairs:\n",
    "    labels1, labels2 = get_labels(doc1, doc2)\n",
    "    show_kappa(labels1, labels2)\n",
    "    show_confusion_matrix(labels1, labels2)"
   ]
  },
  {
   "cell_type": "markdown",
   "metadata": {},
   "source": [
    "Kappa agreement using only labels `claim` and `premise`"
   ]
  },
  {
   "cell_type": "code",
   "execution_count": 60,
   "metadata": {
    "collapsed": false,
    "scrolled": false
   },
   "outputs": [
    {
     "name": "stdout",
     "output_type": "stream",
     "text": [
      "serena-mili: 0.5468929888071954\n"
     ]
    },
    {
     "data": {
      "image/png": "[encoded data removed]",
      "text/plain": [
       "<matplotlib.figure.Figure at 0x7febc17cb550>"
      ]
     },
     "metadata": {},
     "output_type": "display_data"
    }
   ],
   "source": [
    "for doc1, doc2 in document_pairs:\n",
    "    labels1, labels2 = get_labels(doc1, doc2)\n",
    "    labels1 = [x if x != 'major-claim' else 'claim' for x in labels1]\n",
    "    labels2 = [x if x != 'major-claim' else 'claim' for x in labels2]\n",
    "    show_kappa(labels1, labels2)\n",
    "    show_confusion_matrix(labels1, labels2)"
   ]
  },
  {
   "cell_type": "code",
   "execution_count": null,
   "metadata": {
    "collapsed": false
   },
   "outputs": [],
   "source": []
  },
  {
   "cell_type": "code",
   "execution_count": null,
   "metadata": {
    "collapsed": true
   },
   "outputs": [],
   "source": []
  }
 ],
 "metadata": {
  "anaconda-cloud": {},
  "kernelspec": {
   "display_name": "Python [conda env:env35]",
   "language": "python",
   "name": "conda-env-env35-py"
  },
  "language_info": {
   "codemirror_mode": {
    "name": "ipython",
    "version": 3
   },
   "file_extension": ".py",
   "mimetype": "text/x-python",
   "name": "python",
   "nbconvert_exporter": "python",
   "pygments_lexer": "ipython3",
   "version": "3.5.2"
  }
 },
 "nbformat": 4,
 "nbformat_minor": 2
}
