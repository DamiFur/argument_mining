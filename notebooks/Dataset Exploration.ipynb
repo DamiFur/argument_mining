{
 "cells": [
  {
   "cell_type": "markdown",
   "metadata": {},
   "source": [
    "# Dataset exploration\n",
    "\n",
    "In this notebook we calculate and plot metrics of the annotated documents, with the objective of describing and summarizing the resulting dataset "
   ]
  },
  {
   "cell_type": "code",
   "execution_count": 1,
   "metadata": {
    "collapsed": true
   },
   "outputs": [],
   "source": [
    "%matplotlib inline\n",
    "import matplotlib\n",
    "import matplotlib.pyplot as plt\n",
    "import pandas\n",
    "import os\n",
    "import sys"
   ]
  },
  {
   "cell_type": "code",
   "execution_count": 2,
   "metadata": {
    "collapsed": true
   },
   "outputs": [],
   "source": [
    "import seaborn as sns\n",
    "sns.set_style('white')\n",
    "sns.set_palette('colorblind')"
   ]
  },
  {
   "cell_type": "code",
   "execution_count": 3,
   "metadata": {
    "collapsed": true
   },
   "outputs": [],
   "source": [
    "from collections import Counter"
   ]
  },
  {
   "cell_type": "code",
   "execution_count": 4,
   "metadata": {
    "collapsed": true
   },
   "outputs": [],
   "source": [
    "from imp import reload\n",
    "import read_annotations\n",
    "reload(read_annotations);"
   ]
  },
  {
   "cell_type": "code",
   "execution_count": 5,
   "metadata": {
    "collapsed": true
   },
   "outputs": [],
   "source": [
    "filenames = read_annotations.get_filenames()\n",
    "documents = read_annotations.read_annotations(filenames.items())"
   ]
  },
  {
   "cell_type": "code",
   "execution_count": 7,
   "metadata": {},
   "outputs": [],
   "source": [
    "statistics = pandas.DataFrame(\n",
    "    index=[document.identifier for annotator_documents in documents.values() for document in annotator_documents],\n",
    "    columns=[\n",
    "        'Tokens', 'Labeled Words', 'Claims', 'Premises', 'Major claims',\n",
    "        'Components', 'Relations'])\n",
    "\n",
    "def get_statistics(document):\n",
    "    id = document.identifier\n",
    "    words, labels = document.get_word_label_list()\n",
    "    statistics.loc[id]['Tokens'] = len(words)\n",
    "    statistics.loc[id]['Labeled Words'] = len(\n",
    "        [label for label in labels if label != document.default_label])\n",
    "    counts = Counter(labels)\n",
    "    statistics.loc[id]['Claims'] = counts['claim']\n",
    "    statistics.loc[id]['Major claims'] = counts['major-claim']\n",
    "    statistics.loc[id]['Premises'] = counts['premise']\n",
    "    statistics.loc[id]['Components'] = len(document.annotated_components)\n",
    "    statistics.loc[id]['Relations'] = len(document.annotated_relations)"
   ]
  },
  {
   "cell_type": "code",
   "execution_count": 8,
   "metadata": {
    "collapsed": true
   },
   "outputs": [],
   "source": [
    "for annotator, annotator_documents in documents.items():\n",
    "    for document in annotator_documents:\n",
    "        get_statistics(document)"
   ]
  },
  {
   "cell_type": "code",
   "execution_count": 9,
   "metadata": {},
   "outputs": [
    {
     "data": {
      "text/html": [
       "<div>\n",
       "<style>\n",
       "    .dataframe thead tr:only-child th {\n",
       "        text-align: right;\n",
       "    }\n",
       "\n",
       "    .dataframe thead th {\n",
       "        text-align: left;\n",
       "    }\n",
       "\n",
       "    .dataframe tbody tr th {\n",
       "        vertical-align: top;\n",
       "    }\n",
       "</style>\n",
       "<table border=\"1\" class=\"dataframe\">\n",
       "  <thead>\n",
       "    <tr style=\"text-align: right;\">\n",
       "      <th></th>\n",
       "      <th>Tokens</th>\n",
       "      <th>Labeled Words</th>\n",
       "      <th>Claims</th>\n",
       "      <th>Premises</th>\n",
       "      <th>Major claims</th>\n",
       "      <th>Components</th>\n",
       "      <th>Relations</th>\n",
       "    </tr>\n",
       "  </thead>\n",
       "  <tbody>\n",
       "    <tr>\n",
       "      <th>Case: ALKASI v. TURKEY - Ann: L</th>\n",
       "      <td>2811</td>\n",
       "      <td>1488</td>\n",
       "      <td>495</td>\n",
       "      <td>821</td>\n",
       "      <td>172</td>\n",
       "      <td>56</td>\n",
       "      <td>43</td>\n",
       "    </tr>\n",
       "    <tr>\n",
       "      <th>Case: ALKASI v. TURKEY - Ann: C</th>\n",
       "      <td>2811</td>\n",
       "      <td>1394</td>\n",
       "      <td>345</td>\n",
       "      <td>955</td>\n",
       "      <td>94</td>\n",
       "      <td>42</td>\n",
       "      <td>34</td>\n",
       "    </tr>\n",
       "    <tr>\n",
       "      <th>Case: D.J. v. CROATIA - Ann: M</th>\n",
       "      <td>6135</td>\n",
       "      <td>2801</td>\n",
       "      <td>1788</td>\n",
       "      <td>701</td>\n",
       "      <td>312</td>\n",
       "      <td>90</td>\n",
       "      <td>34</td>\n",
       "    </tr>\n",
       "    <tr>\n",
       "      <th>Case: BARCZA AND OTHERS v HUNGARY - Ann: M</th>\n",
       "      <td>4318</td>\n",
       "      <td>2058</td>\n",
       "      <td>762</td>\n",
       "      <td>1127</td>\n",
       "      <td>169</td>\n",
       "      <td>75</td>\n",
       "      <td>56</td>\n",
       "    </tr>\n",
       "    <tr>\n",
       "      <th>Case: ALKASI v. TURKEY - Ann: M</th>\n",
       "      <td>2811</td>\n",
       "      <td>1277</td>\n",
       "      <td>363</td>\n",
       "      <td>810</td>\n",
       "      <td>104</td>\n",
       "      <td>51</td>\n",
       "      <td>43</td>\n",
       "    </tr>\n",
       "  </tbody>\n",
       "</table>\n",
       "</div>"
      ],
      "text/plain": [
       "                                           Tokens Labeled Words Claims  \\\n",
       "Case: ALKASI v. TURKEY - Ann: L              2811          1488    495   \n",
       "Case: ALKASI v. TURKEY - Ann: C              2811          1394    345   \n",
       "Case: D.J. v. CROATIA - Ann: M               6135          2801   1788   \n",
       "Case: BARCZA AND OTHERS v HUNGARY - Ann: M   4318          2058    762   \n",
       "Case: ALKASI v. TURKEY - Ann: M              2811          1277    363   \n",
       "\n",
       "                                           Premises Major claims Components  \\\n",
       "Case: ALKASI v. TURKEY - Ann: L                 821          172         56   \n",
       "Case: ALKASI v. TURKEY - Ann: C                 955           94         42   \n",
       "Case: D.J. v. CROATIA - Ann: M                  701          312         90   \n",
       "Case: BARCZA AND OTHERS v HUNGARY - Ann: M     1127          169         75   \n",
       "Case: ALKASI v. TURKEY - Ann: M                 810          104         51   \n",
       "\n",
       "                                           Relations  \n",
       "Case: ALKASI v. TURKEY - Ann: L                   43  \n",
       "Case: ALKASI v. TURKEY - Ann: C                   34  \n",
       "Case: D.J. v. CROATIA - Ann: M                    34  \n",
       "Case: BARCZA AND OTHERS v HUNGARY - Ann: M        56  \n",
       "Case: ALKASI v. TURKEY - Ann: M                   43  "
      ]
     },
     "execution_count": 9,
     "metadata": {},
     "output_type": "execute_result"
    }
   ],
   "source": [
    "statistics"
   ]
  },
  {
   "cell_type": "code",
   "execution_count": null,
   "metadata": {
    "collapsed": true
   },
   "outputs": [],
   "source": []
  }
 ],
 "metadata": {
  "kernelspec": {
   "display_name": "Python 3",
   "language": "python",
   "name": "python3"
  },
  "language_info": {
   "codemirror_mode": {
    "name": "ipython",
    "version": 3
   },
   "file_extension": ".py",
   "mimetype": "text/x-python",
   "name": "python",
   "nbconvert_exporter": "python",
   "pygments_lexer": "ipython3",
   "version": "3.5.3"
  }
 },
 "nbformat": 4,
 "nbformat_minor": 2
}
