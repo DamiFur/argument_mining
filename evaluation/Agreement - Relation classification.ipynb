{
 "cells": [
  {
   "cell_type": "code",
   "execution_count": 1,
   "metadata": {
    "collapsed": true
   },
   "outputs": [],
   "source": [
    "%matplotlib inline\n",
    "import matplotlib\n",
    "import matplotlib.pyplot as plt\n",
    "import os\n",
    "import sys"
   ]
  },
  {
   "cell_type": "code",
   "execution_count": 2,
   "metadata": {
    "collapsed": true
   },
   "outputs": [],
   "source": [
    "import seaborn as sns\n",
    "sns.set_style('white')\n",
    "sns.set_palette('colorblind')"
   ]
  },
  {
   "cell_type": "code",
   "execution_count": 3,
   "metadata": {
    "collapsed": true
   },
   "outputs": [],
   "source": [
    "from imp import reload"
   ]
  },
  {
   "cell_type": "code",
   "execution_count": 7,
   "metadata": {},
   "outputs": [],
   "source": [
    "def append_path(module_path):\n",
    "    if module_path not in sys.path:\n",
    "        sys.path.append(module_path)\n",
    "\n",
    "append_path(os.path.abspath('..'))\n",
    "\n",
    "from preprocess import annotated_documents, arg_docs2conll"
   ]
  },
  {
   "cell_type": "code",
   "execution_count": 9,
   "metadata": {},
   "outputs": [],
   "source": [
    "import read_annotations\n",
    "import show_metrics\n",
    "reload(read_annotations);\n",
    "reload(annotated_documents);\n",
    "reload(arg_docs2conll);"
   ]
  },
  {
   "cell_type": "markdown",
   "metadata": {},
   "source": [
    "## Read annotations"
   ]
  },
  {
   "cell_type": "code",
   "execution_count": 11,
   "metadata": {
    "collapsed": true
   },
   "outputs": [],
   "source": [
    "ANNOTATIONS_DIR = '/home/milagro/am/third_party/brat-v1.3_Crunchy_Frog/data/'\n",
    "ANNOTATORS = {\n",
    "    'mili': {'dirname': 'judgements-mili'},\n",
    "    'laura': {'dirname': 'judgements-laura'},\n",
    "    # 'serena': {'dirname': 'judgements-serena'},\n",
    "    'cristian': {'dirname': 'judgements-cristian'}\n",
    "}"
   ]
  },
  {
   "cell_type": "code",
   "execution_count": 12,
   "metadata": {},
   "outputs": [
    {
     "data": {
      "text/plain": [
       "[(Case: ALKASI v. TURKEY - Ann: C, Case: ALKASI v. TURKEY - Ann: L)]"
      ]
     },
     "execution_count": 12,
     "metadata": {},
     "output_type": "execute_result"
    }
   ],
   "source": [
    "document_pairs, _ = read_annotations.get_annotated_documents(ANNOTATIONS_DIR, ANNOTATORS)\n",
    "document_pairs"
   ]
  },
  {
   "cell_type": "markdown",
   "metadata": {},
   "source": [
    "## Pairing annotations\n",
    "\n",
    "### Aligning components\n",
    "We consider two components aligned if they share 80% of the tokens"
   ]
  },
  {
   "cell_type": "code",
   "execution_count": 13,
   "metadata": {
    "collapsed": true
   },
   "outputs": [],
   "source": [
    "doc1, doc2 = document_pairs[0]"
   ]
  },
  {
   "cell_type": "code",
   "execution_count": 20,
   "metadata": {
    "collapsed": true
   },
   "outputs": [],
   "source": [
    "TOLERANCE = 0.6"
   ]
  },
  {
   "cell_type": "code",
   "execution_count": 21,
   "metadata": {
    "collapsed": true
   },
   "outputs": [],
   "source": [
    "def are_aligned(interval1, interval2, plot=False):\n",
    "    if interval1[0] < interval2[0]:\n",
    "        start1, end1 = interval1\n",
    "        start2, end2 = interval2\n",
    "    elif interval1[0] > interval2[0]:\n",
    "        start1, end1 = interval2\n",
    "        start2, end2 = interval1\n",
    "    else:  # They are equal, we need the interval 1 to be the shorter\n",
    "        start1, end1 = interval1 if interval1[1] < interval2[1] else interval2\n",
    "        start2, end2 = interval1 if interval1[1] >= interval2[1] else interval2\n",
    "    overlap = end1 - start2\n",
    "    if plot:\n",
    "        plt.figure(figsize=(6, 2))\n",
    "        sns.pointplot((interval1[0], interval2[0],interval1[1],interval2[1]),\n",
    "                      (1,1,1,1), hue=['doc1', 'doc2', 'doc1', 'doc2'])\n",
    "        plt.show()\n",
    "    if overlap > (end1 - start1)*TOLERANCE and overlap > (end2 - start2)*0.7:\n",
    "        return True\n",
    "    return False\n",
    "\n",
    "def get_aligned_components(doc1, doc2):\n",
    "    \"\"\"Returns a list with components that are aligned between documents\"\"\"\n",
    "    component_starts2 = sorted(doc2.annotated_components.keys())\n",
    "    component_starts1 = sorted(doc1.annotated_components.keys())\n",
    "    aligned_components = {}\n",
    "    # Go through the components of doc1 in ordered fashion.\n",
    "    while len(component_starts1) is not 0 and len(component_starts2) is not 0:\n",
    "        start1 = component_starts1[0]\n",
    "        end1 = doc1.annotated_components[start1]\n",
    "        start2 = component_starts2[0]\n",
    "        end2 = doc2.annotated_components[start2]\n",
    "        # Check if the first components in the stacks are aligned.\n",
    "        if are_aligned((start1, end1), (start2, end2)):\n",
    "            aligned_components[start1] = start2\n",
    "            component_starts2.pop(0)\n",
    "            component_starts1.pop(0)\n",
    "        elif start1 >= start2:  # component2 can't be aligned\n",
    "            component_starts2.pop(0)\n",
    "        elif start1 <= start2:  # component2 can still be aligned, but not component1\n",
    "            component_starts1.pop(0)\n",
    "    return aligned_components"
   ]
  },
  {
   "cell_type": "markdown",
   "metadata": {},
   "source": [
    "Proportion of aligned components"
   ]
  },
  {
   "cell_type": "code",
   "execution_count": 22,
   "metadata": {
    "scrolled": true
   },
   "outputs": [
    {
     "name": "stdout",
     "output_type": "stream",
     "text": [
      "[ALKASI v. TURKEY - Ann: C] 0.83 - [ALKASI v. TURKEY - Ann: L] 0.62\n"
     ]
    }
   ],
   "source": [
    "for doc1, doc2 in document_pairs:\n",
    "    aligned_components = get_aligned_components(doc1, doc2)\n",
    "    print('[{0}] {1:.2f} - [{2}] {3:.2f}'.format(\n",
    "        doc1.identifier.replace('Case: ', ''),\n",
    "        len(aligned_components)/float(len(doc1.annotated_components)),\n",
    "        doc2.identifier.replace('Case: ', ''),\n",
    "        len(aligned_components)/float(len(doc2.annotated_components))))"
   ]
  },
  {
   "cell_type": "markdown",
   "metadata": {},
   "source": [
    "### Aligning relations"
   ]
  },
  {
   "cell_type": "code",
   "execution_count": 23,
   "metadata": {
    "collapsed": true
   },
   "outputs": [],
   "source": [
    "def align_relations(doc1, doc2):\n",
    "    aligned_relations = []\n",
    "    # We iterate over the components\n",
    "    for arg1_start1, arg1_start2 in aligned_components.items():\n",
    "        if not (arg1_start1 in doc1.annotated_relations.keys() and\n",
    "                arg1_start2 in doc2.annotated_relations.keys()):\n",
    "            continue\n",
    "        # Check if the relations are equal\n",
    "        # We iterate over the relations starting from that component.\n",
    "        for arg2_start1 in doc1.annotated_relations[arg1_start1].keys():\n",
    "            if arg2_start1 not in aligned_components:\n",
    "                # The second argument of the relation is not aligned, then\n",
    "                # the relation is not aligned\n",
    "                continue\n",
    "            # The second component is aligned, now we check if the same relation\n",
    "            # exists on the second document\n",
    "            arg2_start2 = aligned_components[arg2_start1]\n",
    "            if arg2_start2 in doc2.annotated_relations[arg1_start2]:\n",
    "                # The relation is aligned!!\n",
    "                aligned_relations.append(\n",
    "                    ((arg1_start1, arg2_start1),(arg1_start2, arg2_start2)))\n",
    "    return aligned_relations"
   ]
  },
  {
   "cell_type": "markdown",
   "metadata": {},
   "source": [
    "Proportion of aligned relations"
   ]
  },
  {
   "cell_type": "code",
   "execution_count": 24,
   "metadata": {
    "scrolled": true
   },
   "outputs": [
    {
     "name": "stdout",
     "output_type": "stream",
     "text": [
      "[ALKASI v. TURKEY - Ann: C] 0.18 - [ALKASI v. TURKEY - Ann: L] 0.14\n"
     ]
    }
   ],
   "source": [
    "for doc1, doc2 in document_pairs:\n",
    "    aligned_relations = align_relations(doc1, doc2)\n",
    "    print('[{0}] {1:.2f} - [{2}] {3:.2f}'.format(\n",
    "        doc1.identifier.replace('Case: ', ''),\n",
    "        len(aligned_relations)/float(len(doc1.annotated_relations)),\n",
    "        doc2.identifier.replace('Case: ', ''),\n",
    "        len(aligned_relations)/float(len(doc2.annotated_relations))))"
   ]
  },
  {
   "cell_type": "markdown",
   "metadata": {},
   "source": [
    "## Agreement on aligned relations"
   ]
  },
  {
   "cell_type": "code",
   "execution_count": 25,
   "metadata": {
    "collapsed": true
   },
   "outputs": [],
   "source": [
    "def aligned_labels(aligned_relations, doc1, doc2):\n",
    "    labels1 = []\n",
    "    labels2 = []\n",
    "    for (arg1_start1, arg2_start1), (arg1_start2, arg2_start2) in aligned_relations:\n",
    "        labels1.append(doc1.annotated_relations[arg1_start1][arg2_start1])\n",
    "        labels2.append(doc2.annotated_relations[arg1_start2][arg2_start2])\n",
    "    return labels1, labels2"
   ]
  },
  {
   "cell_type": "code",
   "execution_count": 26,
   "metadata": {},
   "outputs": [
    {
     "name": "stdout",
     "output_type": "stream",
     "text": [
      "Observed Agreement: 100.00%\n"
     ]
    },
    {
     "data": {
      "image/png": "[encoded data removed]",
      "text/plain": [
       "<matplotlib.figure.Figure at 0x7f4b5007b048>"
      ]
     },
     "metadata": {},
     "output_type": "display_data"
    }
   ],
   "source": [
    "for doc1, doc2 in document_pairs:\n",
    "    aligned_relations = align_relations(doc1, doc2)\n",
    "    labels1, labels2 = aligned_labels(aligned_relations, doc1, doc2)\n",
    "    show_metrics.show_confusion_matrix(labels1, labels2)"
   ]
  },
  {
   "cell_type": "code",
   "execution_count": null,
   "metadata": {
    "collapsed": true
   },
   "outputs": [],
   "source": []
  }
 ],
 "metadata": {
  "kernelspec": {
   "display_name": "Python 3",
   "language": "python",
   "name": "python3"
  },
  "language_info": {
   "codemirror_mode": {
    "name": "ipython",
    "version": 3
   },
   "file_extension": ".py",
   "mimetype": "text/x-python",
   "name": "python",
   "nbconvert_exporter": "python",
   "pygments_lexer": "ipython3",
   "version": "3.5.3"
  }
 },
 "nbformat": 4,
 "nbformat_minor": 2
}
