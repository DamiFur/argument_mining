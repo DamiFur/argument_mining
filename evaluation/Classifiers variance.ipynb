{
 "cells": [
  {
   "cell_type": "code",
   "execution_count": 26,
   "metadata": {},
   "outputs": [],
   "source": [
    "import pandas\n",
    "import seaborn as sns\n",
    "sns.set_style('white')\n",
    "sns.set_palette('Accent')\n",
    "sns.set_context(\"paper\", font_scale=1.8)"
   ]
  },
  {
   "cell_type": "code",
   "execution_count": 28,
   "metadata": {},
   "outputs": [],
   "source": [
    "classifiers = pandas.DataFrame([\n",
    "    ['18-08-29-23-12', 0.628, 0.675, 0.628, 0.638, 'Yes', 'None', 'Timewise'],\n",
    "    ['18-08-30-01-28', 0.622, 0.662, 0.622, 0.629, 'Yes', 'None', 'Timewise'],\n",
    "    ['18-08-30-02-46', 0.647, 0.681, 0.647, 0.650, 'Yes', 'sigmoid', 'Timewise'],\n",
    "    ['18-08-30-04-10', 0.598, 0.630, 0.598, 0.600, 'Yes', 'sigmoid', 'Timewise'],\n",
    "    ['18-08-30-05-00', 0.616, 0.624, 0.616, 0.615, 'Yes', 'sigmoid', 'Timewise'],\n",
    "    ['18-08-30-06-05', 0.619, 0.656, 0.619, 0.625, 'Yes', 'sigmoid', 'Timewise'],\n",
    "    ['18-08-30-07-10', 0.627, 0.672, 0.627, 0.631, 'Yes', 'sigmoid', 'Timewise'],\n",
    "    ['18-08-31-00-48', 0.606, 0.616, 0.606, 0.594, 'Yes', 'sigmoid', 'Featurewise'],\n",
    "    ['18-08-31-02-46', 0.605, 0.626, 0.605, 0.600, 'Yes', 'sigmoid', 'Featurewise'],\n",
    "    ['18-08-31-05-55', 0.580, 0.628, 0.580, 0.576, 'Yes', 'sigmoid', 'Featurewise'],\n",
    "    ['18-08-31-08-06', 0.620, 0.634, 0.620, 0.619, 'Yes', 'sigmoid', 'Featurewise'],\n",
    "    ['18-08-31-10-26', 0.596, 0.604, 0.596, 0.592, 'Yes', 'sigmoid', 'Featurewise'],\n",
    "    ['18-08-18-16-54', 0.656, 0.685, 0.656, 0.657, 'Yes', 'None', 'Timewise'],\n",
    "    ['18-08-18-19-06', 0.650, 0.672, 0.650, 0.647, 'Yes', 'None', 'Timewise'],\n",
    "    ['18-08-18-21-48', 0.636, 0.684, 0.636, 0.634, 'Yes', 'None', 'Timewise'],\n",
    "    ['18-08-18-23-05', 0.638, 0.692, 0.638, 0.648, 'Yes', 'None', 'Timewise'],\n",
    "    ['18-08-19-01-06', 0.602, 0.645, 0.602, 0.610, 'Yes', 'None', 'Timewise'],\n",
    "    ['18-08-23-14-47', 0.628, 0.662, 0.628, 0.626, 'Yes', 'tanh', 'Timewise'],\n",
    "    ['18-08-24-01-22', 0.578, 0.610, 0.578, 0.567, 'No', 'None', 'No Attention'],\n",
    "    ['18-08-24-02-49', 0.567, 0.600, 0.567, 0.569, 'No', 'None', 'No Attention'],\n",
    "    ['18-08-24-04-13', 0.589, 0.611, 0.589, 0.593, 'No', 'None', 'No Attention'],\n",
    "    ['18-08-24-05-14', 0.606, 0.632, 0.606, 0.607, 'No', 'None', 'No Attention'],\n",
    "    ['18-08-24-18-24', 0.529, 0.569, 0.529, 0.522, 'No', 'None', 'No Attention'],\n",
    "    ['18-08-31-00-22', 0.599, 0.601, 0.599, 0.583, 'Yes', 'None', 'Featurewise'],\n",
    "    ['18-08-31-03-15', 0.577, 0.485, 0.577, 0.520, 'Yes', 'None', 'Featurewise'],\n",
    "    ['18-08-31-05-57', 0.562, 0.595, 0.562, 0.556, 'Yes', 'None', 'Featurewise'],\n",
    "    ['18-08-31-08-04', 0.584, 0.568, 0.584, 0.561, 'Yes', 'None', 'Featurewise'],\n",
    "    ['18-08-31-10-52', 0.560, 0.572, 0.560, 0.543, 'Yes', 'None', 'Featurewise'],\n",
    "    ['18-08-31-16-54', 0.588, 0.644, 0.588, 0.597, 'Yes', 'tanh', 'Timewise'],\n",
    "    ['18-08-31-18-27', 0.587, 0.616, 0.587, 0.591, 'Yes', 'tanh', 'Timewise'],\n",
    "    ['18-08-31-20-21', 0.639, 0.647, 0.639, 0.638, 'Yes', 'tanh', 'Timewise'],\n",
    "    ['18-08-31-22-09', 0.627, 0.639, 0.627, 0.622, 'Yes', 'tanh', 'Timewise'],\n",
    "    ['18-08-31-23-54', 0.628, 0.660, 0.628, 0.630, 'Yes', 'tanh', 'Timewise'],\n",
    "    ['18-09-01-14-32', 0.638, 0.673, 0.638, 0.640, 'No', 'None', 'No Attention'],\n",
    "    ['18-09-01-17-14', 0.600, 0.603, 0.600, 0.594, 'No', 'None', 'No Attention'],\n",
    "    ['18-09-01-19-04', 0.625, 0.665, 0.625, 0.627, 'No', 'None', 'No Attention'],\n",
    "], columns=['Classifier', 'Accoracy', 'Precision', 'Recall', 'F1-Score', 'Attention', 'Activation', 'Type'])"
   ]
  },
  {
   "cell_type": "code",
   "execution_count": 29,
   "metadata": {},
   "outputs": [
    {
     "data": {
      "text/html": [
       "<div>\n",
       "<style scoped>\n",
       "    .dataframe tbody tr th:only-of-type {\n",
       "        vertical-align: middle;\n",
       "    }\n",
       "\n",
       "    .dataframe tbody tr th {\n",
       "        vertical-align: top;\n",
       "    }\n",
       "\n",
       "    .dataframe thead th {\n",
       "        text-align: right;\n",
       "    }\n",
       "</style>\n",
       "<table border=\"1\" class=\"dataframe\">\n",
       "  <thead>\n",
       "    <tr style=\"text-align: right;\">\n",
       "      <th></th>\n",
       "      <th>Classifier</th>\n",
       "      <th>Accoracy</th>\n",
       "      <th>Precision</th>\n",
       "      <th>Recall</th>\n",
       "      <th>F1-Score</th>\n",
       "      <th>Attention</th>\n",
       "      <th>Activation</th>\n",
       "      <th>Type</th>\n",
       "    </tr>\n",
       "  </thead>\n",
       "  <tbody>\n",
       "    <tr>\n",
       "      <th>0</th>\n",
       "      <td>18-08-29-23-12</td>\n",
       "      <td>0.628</td>\n",
       "      <td>0.675</td>\n",
       "      <td>0.628</td>\n",
       "      <td>0.638</td>\n",
       "      <td>Yes</td>\n",
       "      <td>None</td>\n",
       "      <td>Timewise</td>\n",
       "    </tr>\n",
       "    <tr>\n",
       "      <th>1</th>\n",
       "      <td>18-08-30-01-28</td>\n",
       "      <td>0.622</td>\n",
       "      <td>0.662</td>\n",
       "      <td>0.622</td>\n",
       "      <td>0.629</td>\n",
       "      <td>Yes</td>\n",
       "      <td>None</td>\n",
       "      <td>Timewise</td>\n",
       "    </tr>\n",
       "    <tr>\n",
       "      <th>2</th>\n",
       "      <td>18-08-30-02-46</td>\n",
       "      <td>0.647</td>\n",
       "      <td>0.681</td>\n",
       "      <td>0.647</td>\n",
       "      <td>0.650</td>\n",
       "      <td>Yes</td>\n",
       "      <td>sigmoid</td>\n",
       "      <td>Timewise</td>\n",
       "    </tr>\n",
       "  </tbody>\n",
       "</table>\n",
       "</div>"
      ],
      "text/plain": [
       "       Classifier  Accoracy  Precision  Recall  F1-Score Attention Activation  \\\n",
       "0  18-08-29-23-12     0.628      0.675   0.628     0.638       Yes       None   \n",
       "1  18-08-30-01-28     0.622      0.662   0.622     0.629       Yes       None   \n",
       "2  18-08-30-02-46     0.647      0.681   0.647     0.650       Yes    sigmoid   \n",
       "\n",
       "       Type  \n",
       "0  Timewise  \n",
       "1  Timewise  \n",
       "2  Timewise  "
      ]
     },
     "execution_count": 29,
     "metadata": {},
     "output_type": "execute_result"
    }
   ],
   "source": [
    "classifiers[:3]"
   ]
  },
  {
   "cell_type": "code",
   "execution_count": 30,
   "metadata": {},
   "outputs": [
    {
     "name": "stderr",
     "output_type": "stream",
     "text": [
      "/users/mteruel/anaconda3/envs/edm_env/lib/python3.5/site-packages/seaborn/categorical.py:3666: UserWarning: The `factorplot` function has been renamed to `catplot`. The original name will be removed in a future release. Please update your code. Note that the default `kind` in `factorplot` (`'point'`) has changed `'strip'` in `catplot`.\n",
      "  warnings.warn(msg)\n",
      "/users/mteruel/anaconda3/envs/edm_env/lib/python3.5/site-packages/seaborn/categorical.py:3672: UserWarning: The `size` paramter has been renamed to `height`; please update your code.\n",
      "  warnings.warn(msg, UserWarning)\n"
     ]
    },
    {
     "data": {
      "text/plain": [
       "<seaborn.axisgrid.FacetGrid at 0x7f36b9437358>"
      ]
     },
     "execution_count": 30,
     "metadata": {},
     "output_type": "execute_result"
    },
    {
     "data": {
      "image/png": "[encoded data removed]",
      "text/plain": [
       "<Figure size 695.524x576 with 1 Axes>"
      ]
     },
     "metadata": {},
     "output_type": "display_data"
    }
   ],
   "source": [
    "sns.factorplot(data=classifiers, kind='box', y='F1-Score', x='Type', hue='Activation', size=8)"
   ]
  },
  {
   "cell_type": "code",
   "execution_count": 1,
   "metadata": {},
   "outputs": [],
   "source": [
    "import numpy"
   ]
  },
  {
   "cell_type": "code",
   "execution_count": 2,
   "metadata": {},
   "outputs": [
    {
     "data": {
      "text/plain": [
       "72.0"
      ]
     },
     "execution_count": 2,
     "metadata": {},
     "output_type": "execute_result"
    }
   ],
   "source": [
    "90 * 0.8"
   ]
  },
  {
   "cell_type": "code",
   "execution_count": 3,
   "metadata": {},
   "outputs": [],
   "source": [
    "train = numpy.random.choice(numpy.arange(1, 91), 18, replace=False)"
   ]
  },
  {
   "cell_type": "code",
   "execution_count": 4,
   "metadata": {},
   "outputs": [
    {
     "data": {
      "text/plain": [
       "array([51, 73, 69, 42, 31, 30, 41, 14, 90,  9, 77, 85, 38, 24, 65, 37, 63,\n",
       "       15])"
      ]
     },
     "execution_count": 4,
     "metadata": {},
     "output_type": "execute_result"
    }
   ],
   "source": [
    "train"
   ]
  },
  {
   "cell_type": "code",
   "execution_count": 8,
   "metadata": {},
   "outputs": [
    {
     "data": {
      "text/plain": [
       "'mv ../dev/essay51.* . && mv ../dev/essay73.* . && mv ../dev/essay69.* . && mv ../dev/essay42.* . && mv ../dev/essay31.* . && mv ../dev/essay30.* . && mv ../dev/essay41.* . && mv ../dev/essay14.* . && mv ../dev/essay90.* .'"
      ]
     },
     "execution_count": 8,
     "metadata": {},
     "output_type": "execute_result"
    }
   ],
   "source": [
    "' && '.join(['mv ../dev/essay{:02}.* .'.format(e) for e in train[:9]])"
   ]
  },
  {
   "cell_type": "code",
   "execution_count": null,
   "metadata": {},
   "outputs": [],
   "source": [
    "dev = "
   ]
  },
  {
   "cell_type": "code",
   "execution_count": null,
   "metadata": {},
   "outputs": [],
   "source": []
  }
 ],
 "metadata": {
  "kernelspec": {
   "display_name": "Python [conda env:edm_env]",
   "language": "python",
   "name": "conda-env-edm_env-py"
  },
  "language_info": {
   "codemirror_mode": {
    "name": "ipython",
    "version": 3
   },
   "file_extension": ".py",
   "mimetype": "text/x-python",
   "name": "python",
   "nbconvert_exporter": "python",
   "pygments_lexer": "ipython3",
   "version": "3.5.5"
  }
 },
 "nbformat": 4,
 "nbformat_minor": 2
}
