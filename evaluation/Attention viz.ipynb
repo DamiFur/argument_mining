{
 "cells": [
  {
   "cell_type": "code",
   "execution_count": 1,
   "metadata": {},
   "outputs": [],
   "source": [
    "import numpy\n",
    "import matplotlib.pyplot as plt\n",
    "import pandas\n",
    "import pickle\n",
    "import os\n",
    "import re\n",
    "import seaborn as sns\n",
    "from sklearn import metrics\n",
    "sns.set_style('white')\n",
    "sns.set_palette('colorblind')"
   ]
  },
  {
   "cell_type": "code",
   "execution_count": 2,
   "metadata": {},
   "outputs": [],
   "source": [
    "def attention_single_file(filename):\n",
    "    with open(filename, 'rb') as file_:\n",
    "        result = pickle.load(file_)\n",
    "    return result"
   ]
  },
  {
   "cell_type": "code",
   "execution_count": 3,
   "metadata": {},
   "outputs": [],
   "source": [
    "def prediction_filenames(dirname):\n",
    "    return [run_prediction for run_prediction in os.listdir(dirname)\n",
    "            if os.path.isfile(os.path.join(dirname, run_prediction)) and 'predictions' in run_prediction]"
   ]
  },
  {
   "cell_type": "code",
   "execution_count": 4,
   "metadata": {},
   "outputs": [],
   "source": [
    "def labels_single_file(filename):\n",
    "    result = pandas.read_csv(filename, sep='\\t')\n",
    "    return result"
   ]
  },
  {
   "cell_type": "code",
   "execution_count": 74,
   "metadata": {},
   "outputs": [],
   "source": [
    "classifier = '18-08-24-00-16'\n",
    "partition = 2\n",
    "dataset = 'dev'\n",
    "att_matrix = attention_single_file(\n",
    "    '../../results/ukpnets/paragraph/{}/attention_partition{}_ukp_{}.p'.format(classifier, partition, dataset))\n",
    "prediction = labels_single_file(\n",
    "    '../../results/ukpnets/paragraph/{}/predictions_partition{}_ukp_{}.conll'.format(classifier, partition, dataset))\n",
    "prediction.loc[:,'Attention Score'] = numpy.abs(numpy.concatenate(att_matrix['ukp']))\n",
    "prediction.loc[:, 'Correct'] = (prediction.Predicted == prediction['True'])"
   ]
  },
  {
   "cell_type": "code",
   "execution_count": 75,
   "metadata": {},
   "outputs": [
    {
     "data": {
      "text/plain": [
       "count    2291.000000\n",
       "mean        0.051413\n",
       "std         0.025392\n",
       "min         0.000030\n",
       "25%         0.032224\n",
       "50%         0.053136\n",
       "75%         0.071266\n",
       "max         0.130416\n",
       "Name: Attention Score, dtype: float64"
      ]
     },
     "execution_count": 75,
     "metadata": {},
     "output_type": "execute_result"
    }
   ],
   "source": [
    "prediction['Attention Score'].describe()"
   ]
  },
  {
   "cell_type": "code",
   "execution_count": 89,
   "metadata": {},
   "outputs": [
    {
     "name": "stderr",
     "output_type": "stream",
     "text": [
      "/home/mteruel/miniconda3/envs/env_am/lib/python3.5/site-packages/matplotlib/axes/_axes.py:6462: UserWarning: The 'normed' kwarg is deprecated, and has been replaced by the 'density' kwarg.\n",
      "  warnings.warn(\"The 'normed' kwarg is deprecated, and has been \"\n"
     ]
    },
    {
     "data": {
      "image/png": "[encoded data removed]",
      "text/plain": [
       "<Figure size 432x288 with 1 Axes>"
      ]
     },
     "metadata": {},
     "output_type": "display_data"
    }
   ],
   "source": [
    "sns.distplot(prediction['Attention Score'], bins=10)\n",
    "sns.despine()"
   ]
  },
  {
   "cell_type": "code",
   "execution_count": 77,
   "metadata": {},
   "outputs": [
    {
     "data": {
      "text/html": [
       "<div>\n",
       "<style scoped>\n",
       "    .dataframe tbody tr th:only-of-type {\n",
       "        vertical-align: middle;\n",
       "    }\n",
       "\n",
       "    .dataframe tbody tr th {\n",
       "        vertical-align: top;\n",
       "    }\n",
       "\n",
       "    .dataframe thead th {\n",
       "        text-align: right;\n",
       "    }\n",
       "</style>\n",
       "<table border=\"1\" class=\"dataframe\">\n",
       "  <thead>\n",
       "    <tr style=\"text-align: right;\">\n",
       "      <th></th>\n",
       "      <th>Token</th>\n",
       "      <th>True</th>\n",
       "      <th>Predicted</th>\n",
       "      <th>Sentence</th>\n",
       "      <th>Attention Score</th>\n",
       "      <th>Correct</th>\n",
       "    </tr>\n",
       "  </thead>\n",
       "  <tbody>\n",
       "    <tr>\n",
       "      <th>425</th>\n",
       "      <td>The</td>\n",
       "      <td>O</td>\n",
       "      <td>O</td>\n",
       "      <td>24</td>\n",
       "      <td>0.046823</td>\n",
       "      <td>True</td>\n",
       "    </tr>\n",
       "    <tr>\n",
       "      <th>426</th>\n",
       "      <td>Government</td>\n",
       "      <td>O</td>\n",
       "      <td>O</td>\n",
       "      <td>24</td>\n",
       "      <td>0.037001</td>\n",
       "      <td>True</td>\n",
       "    </tr>\n",
       "    <tr>\n",
       "      <th>427</th>\n",
       "      <td>argued</td>\n",
       "      <td>O</td>\n",
       "      <td>O</td>\n",
       "      <td>24</td>\n",
       "      <td>0.073392</td>\n",
       "      <td>True</td>\n",
       "    </tr>\n",
       "    <tr>\n",
       "      <th>428</th>\n",
       "      <td>that</td>\n",
       "      <td>O</td>\n",
       "      <td>O</td>\n",
       "      <td>24</td>\n",
       "      <td>0.005062</td>\n",
       "      <td>True</td>\n",
       "    </tr>\n",
       "    <tr>\n",
       "      <th>429</th>\n",
       "      <td>the</td>\n",
       "      <td>B-claim</td>\n",
       "      <td>O</td>\n",
       "      <td>24</td>\n",
       "      <td>0.045079</td>\n",
       "      <td>False</td>\n",
       "    </tr>\n",
       "    <tr>\n",
       "      <th>430</th>\n",
       "      <td>applicant</td>\n",
       "      <td>I-claim</td>\n",
       "      <td>O</td>\n",
       "      <td>24</td>\n",
       "      <td>0.026113</td>\n",
       "      <td>False</td>\n",
       "    </tr>\n",
       "    <tr>\n",
       "      <th>431</th>\n",
       "      <td>had</td>\n",
       "      <td>I-claim</td>\n",
       "      <td>O</td>\n",
       "      <td>24</td>\n",
       "      <td>0.024222</td>\n",
       "      <td>False</td>\n",
       "    </tr>\n",
       "    <tr>\n",
       "      <th>432</th>\n",
       "      <td>failed</td>\n",
       "      <td>I-claim</td>\n",
       "      <td>O</td>\n",
       "      <td>24</td>\n",
       "      <td>0.019503</td>\n",
       "      <td>False</td>\n",
       "    </tr>\n",
       "    <tr>\n",
       "      <th>433</th>\n",
       "      <td>to</td>\n",
       "      <td>I-claim</td>\n",
       "      <td>O</td>\n",
       "      <td>24</td>\n",
       "      <td>0.032100</td>\n",
       "      <td>False</td>\n",
       "    </tr>\n",
       "    <tr>\n",
       "      <th>434</th>\n",
       "      <td>exhaust</td>\n",
       "      <td>I-claim</td>\n",
       "      <td>I-premise</td>\n",
       "      <td>24</td>\n",
       "      <td>0.034603</td>\n",
       "      <td>False</td>\n",
       "    </tr>\n",
       "    <tr>\n",
       "      <th>435</th>\n",
       "      <td>domestic</td>\n",
       "      <td>I-claim</td>\n",
       "      <td>I-premise</td>\n",
       "      <td>24</td>\n",
       "      <td>0.030161</td>\n",
       "      <td>False</td>\n",
       "    </tr>\n",
       "    <tr>\n",
       "      <th>436</th>\n",
       "      <td>remedies</td>\n",
       "      <td>I-claim</td>\n",
       "      <td>I-premise</td>\n",
       "      <td>24</td>\n",
       "      <td>0.013605</td>\n",
       "      <td>False</td>\n",
       "    </tr>\n",
       "    <tr>\n",
       "      <th>437</th>\n",
       "      <td>.</td>\n",
       "      <td>O</td>\n",
       "      <td>I-premise</td>\n",
       "      <td>24</td>\n",
       "      <td>0.066835</td>\n",
       "      <td>False</td>\n",
       "    </tr>\n",
       "    <tr>\n",
       "      <th>438</th>\n",
       "      <td>Specifically</td>\n",
       "      <td>O</td>\n",
       "      <td>I-premise</td>\n",
       "      <td>24</td>\n",
       "      <td>0.032986</td>\n",
       "      <td>False</td>\n",
       "    </tr>\n",
       "    <tr>\n",
       "      <th>439</th>\n",
       "      <td>,</td>\n",
       "      <td>O</td>\n",
       "      <td>I-premise</td>\n",
       "      <td>24</td>\n",
       "      <td>0.073635</td>\n",
       "      <td>False</td>\n",
       "    </tr>\n",
       "    <tr>\n",
       "      <th>440</th>\n",
       "      <td>she</td>\n",
       "      <td>B-premise</td>\n",
       "      <td>I-premise</td>\n",
       "      <td>24</td>\n",
       "      <td>0.073177</td>\n",
       "      <td>False</td>\n",
       "    </tr>\n",
       "    <tr>\n",
       "      <th>441</th>\n",
       "      <td>had</td>\n",
       "      <td>I-premise</td>\n",
       "      <td>I-premise</td>\n",
       "      <td>24</td>\n",
       "      <td>0.062935</td>\n",
       "      <td>True</td>\n",
       "    </tr>\n",
       "    <tr>\n",
       "      <th>442</th>\n",
       "      <td>not</td>\n",
       "      <td>I-premise</td>\n",
       "      <td>I-premise</td>\n",
       "      <td>24</td>\n",
       "      <td>0.075768</td>\n",
       "      <td>True</td>\n",
       "    </tr>\n",
       "    <tr>\n",
       "      <th>443</th>\n",
       "      <td>asked</td>\n",
       "      <td>I-premise</td>\n",
       "      <td>I-premise</td>\n",
       "      <td>24</td>\n",
       "      <td>0.009930</td>\n",
       "      <td>True</td>\n",
       "    </tr>\n",
       "    <tr>\n",
       "      <th>444</th>\n",
       "      <td>the</td>\n",
       "      <td>I-premise</td>\n",
       "      <td>I-premise</td>\n",
       "      <td>24</td>\n",
       "      <td>0.054884</td>\n",
       "      <td>True</td>\n",
       "    </tr>\n",
       "    <tr>\n",
       "      <th>445</th>\n",
       "      <td>prosecutor</td>\n",
       "      <td>I-premise</td>\n",
       "      <td>I-premise</td>\n",
       "      <td>24</td>\n",
       "      <td>0.017055</td>\n",
       "      <td>True</td>\n",
       "    </tr>\n",
       "    <tr>\n",
       "      <th>446</th>\n",
       "      <td>to</td>\n",
       "      <td>I-premise</td>\n",
       "      <td>I-premise</td>\n",
       "      <td>24</td>\n",
       "      <td>0.081265</td>\n",
       "      <td>True</td>\n",
       "    </tr>\n",
       "    <tr>\n",
       "      <th>447</th>\n",
       "      <td>lodge</td>\n",
       "      <td>I-premise</td>\n",
       "      <td>I-premise</td>\n",
       "      <td>24</td>\n",
       "      <td>0.071486</td>\n",
       "      <td>True</td>\n",
       "    </tr>\n",
       "    <tr>\n",
       "      <th>448</th>\n",
       "      <td>an</td>\n",
       "      <td>I-premise</td>\n",
       "      <td>I-premise</td>\n",
       "      <td>24</td>\n",
       "      <td>0.058376</td>\n",
       "      <td>True</td>\n",
       "    </tr>\n",
       "    <tr>\n",
       "      <th>449</th>\n",
       "      <td>appeal</td>\n",
       "      <td>I-premise</td>\n",
       "      <td>I-premise</td>\n",
       "      <td>24</td>\n",
       "      <td>0.012299</td>\n",
       "      <td>True</td>\n",
       "    </tr>\n",
       "    <tr>\n",
       "      <th>450</th>\n",
       "      <td>(</td>\n",
       "      <td>I-premise</td>\n",
       "      <td>I-premise</td>\n",
       "      <td>24</td>\n",
       "      <td>0.064038</td>\n",
       "      <td>True</td>\n",
       "    </tr>\n",
       "    <tr>\n",
       "      <th>451</th>\n",
       "      <td>protests</td>\n",
       "      <td>I-premise</td>\n",
       "      <td>I-premise</td>\n",
       "      <td>24</td>\n",
       "      <td>0.075917</td>\n",
       "      <td>True</td>\n",
       "    </tr>\n",
       "    <tr>\n",
       "      <th>452</th>\n",
       "      <td>)</td>\n",
       "      <td>I-premise</td>\n",
       "      <td>I-premise</td>\n",
       "      <td>24</td>\n",
       "      <td>0.040767</td>\n",
       "      <td>True</td>\n",
       "    </tr>\n",
       "    <tr>\n",
       "      <th>453</th>\n",
       "      <td>against</td>\n",
       "      <td>I-premise</td>\n",
       "      <td>I-premise</td>\n",
       "      <td>24</td>\n",
       "      <td>0.041741</td>\n",
       "      <td>True</td>\n",
       "    </tr>\n",
       "    <tr>\n",
       "      <th>454</th>\n",
       "      <td>the</td>\n",
       "      <td>I-premise</td>\n",
       "      <td>I-premise</td>\n",
       "      <td>24</td>\n",
       "      <td>0.009056</td>\n",
       "      <td>True</td>\n",
       "    </tr>\n",
       "    <tr>\n",
       "      <th>455</th>\n",
       "      <td>judgment</td>\n",
       "      <td>I-premise</td>\n",
       "      <td>I-premise</td>\n",
       "      <td>24</td>\n",
       "      <td>0.035090</td>\n",
       "      <td>True</td>\n",
       "    </tr>\n",
       "    <tr>\n",
       "      <th>456</th>\n",
       "      <td>of</td>\n",
       "      <td>I-premise</td>\n",
       "      <td>I-premise</td>\n",
       "      <td>24</td>\n",
       "      <td>0.023913</td>\n",
       "      <td>True</td>\n",
       "    </tr>\n",
       "    <tr>\n",
       "      <th>457</th>\n",
       "      <td>13</td>\n",
       "      <td>I-premise</td>\n",
       "      <td>I-premise</td>\n",
       "      <td>24</td>\n",
       "      <td>0.067795</td>\n",
       "      <td>True</td>\n",
       "    </tr>\n",
       "    <tr>\n",
       "      <th>458</th>\n",
       "      <td>February</td>\n",
       "      <td>I-premise</td>\n",
       "      <td>I-premise</td>\n",
       "      <td>24</td>\n",
       "      <td>0.052332</td>\n",
       "      <td>True</td>\n",
       "    </tr>\n",
       "    <tr>\n",
       "      <th>459</th>\n",
       "      <td>2007</td>\n",
       "      <td>I-premise</td>\n",
       "      <td>I-premise</td>\n",
       "      <td>24</td>\n",
       "      <td>0.103274</td>\n",
       "      <td>True</td>\n",
       "    </tr>\n",
       "    <tr>\n",
       "      <th>460</th>\n",
       "      <td>,</td>\n",
       "      <td>I-premise</td>\n",
       "      <td>I-premise</td>\n",
       "      <td>24</td>\n",
       "      <td>0.056165</td>\n",
       "      <td>True</td>\n",
       "    </tr>\n",
       "    <tr>\n",
       "      <th>461</th>\n",
       "      <td>as</td>\n",
       "      <td>I-premise</td>\n",
       "      <td>I-premise</td>\n",
       "      <td>24</td>\n",
       "      <td>0.059958</td>\n",
       "      <td>True</td>\n",
       "    </tr>\n",
       "    <tr>\n",
       "      <th>462</th>\n",
       "      <td>provided</td>\n",
       "      <td>I-premise</td>\n",
       "      <td>I-premise</td>\n",
       "      <td>24</td>\n",
       "      <td>0.054920</td>\n",
       "      <td>True</td>\n",
       "    </tr>\n",
       "    <tr>\n",
       "      <th>463</th>\n",
       "      <td>for</td>\n",
       "      <td>I-premise</td>\n",
       "      <td>I-premise</td>\n",
       "      <td>24</td>\n",
       "      <td>0.029395</td>\n",
       "      <td>True</td>\n",
       "    </tr>\n",
       "    <tr>\n",
       "      <th>464</th>\n",
       "      <td>under</td>\n",
       "      <td>I-premise</td>\n",
       "      <td>I-premise</td>\n",
       "      <td>24</td>\n",
       "      <td>0.072733</td>\n",
       "      <td>True</td>\n",
       "    </tr>\n",
       "    <tr>\n",
       "      <th>465</th>\n",
       "      <td>chapter</td>\n",
       "      <td>I-premise</td>\n",
       "      <td>I-premise</td>\n",
       "      <td>24</td>\n",
       "      <td>0.043174</td>\n",
       "      <td>True</td>\n",
       "    </tr>\n",
       "    <tr>\n",
       "      <th>466</th>\n",
       "      <td>63</td>\n",
       "      <td>I-premise</td>\n",
       "      <td>I-premise</td>\n",
       "      <td>24</td>\n",
       "      <td>0.053784</td>\n",
       "      <td>True</td>\n",
       "    </tr>\n",
       "    <tr>\n",
       "      <th>467</th>\n",
       "      <td>of</td>\n",
       "      <td>I-premise</td>\n",
       "      <td>I-premise</td>\n",
       "      <td>24</td>\n",
       "      <td>0.020351</td>\n",
       "      <td>True</td>\n",
       "    </tr>\n",
       "    <tr>\n",
       "      <th>468</th>\n",
       "      <td>the</td>\n",
       "      <td>I-premise</td>\n",
       "      <td>I-premise</td>\n",
       "      <td>24</td>\n",
       "      <td>0.043383</td>\n",
       "      <td>True</td>\n",
       "    </tr>\n",
       "    <tr>\n",
       "      <th>469</th>\n",
       "      <td>Criminal</td>\n",
       "      <td>I-premise</td>\n",
       "      <td>I-premise</td>\n",
       "      <td>24</td>\n",
       "      <td>0.077358</td>\n",
       "      <td>True</td>\n",
       "    </tr>\n",
       "  </tbody>\n",
       "</table>\n",
       "</div>"
      ],
      "text/plain": [
       "            Token       True  Predicted  Sentence  Attention Score  Correct\n",
       "425           The          O          O        24         0.046823     True\n",
       "426    Government          O          O        24         0.037001     True\n",
       "427        argued          O          O        24         0.073392     True\n",
       "428          that          O          O        24         0.005062     True\n",
       "429           the    B-claim          O        24         0.045079    False\n",
       "430     applicant    I-claim          O        24         0.026113    False\n",
       "431           had    I-claim          O        24         0.024222    False\n",
       "432        failed    I-claim          O        24         0.019503    False\n",
       "433            to    I-claim          O        24         0.032100    False\n",
       "434       exhaust    I-claim  I-premise        24         0.034603    False\n",
       "435      domestic    I-claim  I-premise        24         0.030161    False\n",
       "436      remedies    I-claim  I-premise        24         0.013605    False\n",
       "437             .          O  I-premise        24         0.066835    False\n",
       "438  Specifically          O  I-premise        24         0.032986    False\n",
       "439             ,          O  I-premise        24         0.073635    False\n",
       "440           she  B-premise  I-premise        24         0.073177    False\n",
       "441           had  I-premise  I-premise        24         0.062935     True\n",
       "442           not  I-premise  I-premise        24         0.075768     True\n",
       "443         asked  I-premise  I-premise        24         0.009930     True\n",
       "444           the  I-premise  I-premise        24         0.054884     True\n",
       "445    prosecutor  I-premise  I-premise        24         0.017055     True\n",
       "446            to  I-premise  I-premise        24         0.081265     True\n",
       "447         lodge  I-premise  I-premise        24         0.071486     True\n",
       "448            an  I-premise  I-premise        24         0.058376     True\n",
       "449        appeal  I-premise  I-premise        24         0.012299     True\n",
       "450             (  I-premise  I-premise        24         0.064038     True\n",
       "451      protests  I-premise  I-premise        24         0.075917     True\n",
       "452             )  I-premise  I-premise        24         0.040767     True\n",
       "453       against  I-premise  I-premise        24         0.041741     True\n",
       "454           the  I-premise  I-premise        24         0.009056     True\n",
       "455      judgment  I-premise  I-premise        24         0.035090     True\n",
       "456            of  I-premise  I-premise        24         0.023913     True\n",
       "457            13  I-premise  I-premise        24         0.067795     True\n",
       "458      February  I-premise  I-premise        24         0.052332     True\n",
       "459          2007  I-premise  I-premise        24         0.103274     True\n",
       "460             ,  I-premise  I-premise        24         0.056165     True\n",
       "461            as  I-premise  I-premise        24         0.059958     True\n",
       "462      provided  I-premise  I-premise        24         0.054920     True\n",
       "463           for  I-premise  I-premise        24         0.029395     True\n",
       "464         under  I-premise  I-premise        24         0.072733     True\n",
       "465       chapter  I-premise  I-premise        24         0.043174     True\n",
       "466            63  I-premise  I-premise        24         0.053784     True\n",
       "467            of  I-premise  I-premise        24         0.020351     True\n",
       "468           the  I-premise  I-premise        24         0.043383     True\n",
       "469      Criminal  I-premise  I-premise        24         0.077358     True"
      ]
     },
     "execution_count": 77,
     "metadata": {},
     "output_type": "execute_result"
    }
   ],
   "source": [
    "prediction[425:470]"
   ]
  },
  {
   "cell_type": "code",
   "execution_count": 78,
   "metadata": {},
   "outputs": [],
   "source": [
    "import json"
   ]
  },
  {
   "cell_type": "code",
   "execution_count": 79,
   "metadata": {},
   "outputs": [],
   "source": [
    "json_words = json.dumps(\n",
    "    prediction[['Token', 'Attention Score', 'Sentence', 'Predicted', 'Correct']].values.tolist()[350:800]\n",
    ")"
   ]
  },
  {
   "cell_type": "code",
   "execution_count": 80,
   "metadata": {},
   "outputs": [
    {
     "data": {
      "text/plain": [
       "'[[\"appeal\", 0.04819009080529213, 20, \"I-premise\", false], [\"on\", 0.043208785355091095, 20, \"I-premise\", false], [\"points\", 0.06443527340888977, 20, \"I-premise\", false], [\"of\", 0.02929561398923397, 20, \"I-premise\", false], [\"law\", 0.07048629224300385, 20, \"I-premise\", false], [\"without\", 0.0469904616'"
      ]
     },
     "execution_count": 80,
     "metadata": {},
     "output_type": "execute_result"
    }
   ],
   "source": [
    "json_words[:300]"
   ]
  },
  {
   "cell_type": "markdown",
   "metadata": {},
   "source": [
    "How to run D3 on Jupyter\n",
    "\n",
    "It is still a mistery, and sometimes it does not work, but this worked https://blog.thedataincubator.com/2015/08/embedding-d3-in-an-ipython-notebook/\n"
   ]
  },
  {
   "cell_type": "code",
   "execution_count": 81,
   "metadata": {},
   "outputs": [],
   "source": [
    "from IPython.core.display import display, HTML\n",
    "from string import Template\n",
    "import json"
   ]
  },
  {
   "cell_type": "code",
   "execution_count": 82,
   "metadata": {},
   "outputs": [
    {
     "data": {
      "text/html": [
       "<script src=\"https://cdnjs.cloudflare.com/ajax/libs/d3/3.5.16/d3.min.js\"></script>"
      ],
      "text/plain": [
       "<IPython.core.display.HTML object>"
      ]
     },
     "execution_count": 82,
     "metadata": {},
     "output_type": "execute_result"
    }
   ],
   "source": [
    "HTML('<script src=\"https://cdnjs.cloudflare.com/ajax/libs/d3/3.5.16/d3.min.js\"></script>')"
   ]
  },
  {
   "cell_type": "code",
   "execution_count": 83,
   "metadata": {},
   "outputs": [
    {
     "data": {
      "text/html": [
       "<script src=\"https://d3js.org/d3-color.v1.min.js\"></script>"
      ],
      "text/plain": [
       "<IPython.core.display.HTML object>"
      ]
     },
     "execution_count": 83,
     "metadata": {},
     "output_type": "execute_result"
    }
   ],
   "source": [
    "HTML('<script src=\"https://d3js.org/d3-color.v1.min.js\"></script>')"
   ]
  },
  {
   "cell_type": "code",
   "execution_count": 84,
   "metadata": {},
   "outputs": [
    {
     "data": {
      "text/html": [
       "<script src=\"https://d3js.org/d3-interpolate.v1.min.js\"></script>"
      ],
      "text/plain": [
       "<IPython.core.display.HTML object>"
      ]
     },
     "execution_count": 84,
     "metadata": {},
     "output_type": "execute_result"
    }
   ],
   "source": [
    "HTML('<script src=\"https://d3js.org/d3-interpolate.v1.min.js\"></script>')"
   ]
  },
  {
   "cell_type": "code",
   "execution_count": 85,
   "metadata": {},
   "outputs": [
    {
     "data": {
      "text/html": [
       "<script src=\"https://d3js.org/d3-scale-chromatic.v1.min.js\"></script>"
      ],
      "text/plain": [
       "<IPython.core.display.HTML object>"
      ]
     },
     "execution_count": 85,
     "metadata": {},
     "output_type": "execute_result"
    }
   ],
   "source": [
    "HTML('<script src=\"https://d3js.org/d3-scale-chromatic.v1.min.js\"></script>')"
   ]
  },
  {
   "cell_type": "code",
   "execution_count": 86,
   "metadata": {},
   "outputs": [
    {
     "data": {
      "text/html": [
       "<script src=\"textChart.js\"></script>"
      ],
      "text/plain": [
       "<IPython.core.display.HTML object>"
      ]
     },
     "execution_count": 86,
     "metadata": {},
     "output_type": "execute_result"
    }
   ],
   "source": [
    "HTML('<script src=\"textChart.js\"></script>')"
   ]
  },
  {
   "cell_type": "code",
   "execution_count": 87,
   "metadata": {},
   "outputs": [
    {
     "data": {
      "text/html": [
       "<script>\n",
       "if (d3 === undefined) {\n",
       "    alert('No d3 library');\n",
       "}\n",
       "if (TextChart === undefined) {\n",
       "    alert('No Chart library');\n",
       "}\n",
       "</script>"
      ],
      "text/plain": [
       "<IPython.core.display.HTML object>"
      ]
     },
     "execution_count": 87,
     "metadata": {},
     "output_type": "execute_result"
    }
   ],
   "source": [
    "HTML(\"\"\"<script>\n",
    "if (d3 === undefined) {\n",
    "    alert('No d3 library');\n",
    "}\n",
    "if (TextChart === undefined) {\n",
    "    alert('No Chart library');\n",
    "}\n",
    "</script>\"\"\")"
   ]
  },
  {
   "cell_type": "code",
   "execution_count": 88,
   "metadata": {},
   "outputs": [
    {
     "data": {
      "text/html": [
       "\n",
       "    <div id='text-container'></div>\n",
       "    <script src=\"textChart.js\"></script>\n",
       "    <script>\n",
       "var nouns = JSON.parse('[[\"appeal\", 0.04819009080529213, 20, \"I-premise\", false], [\"on\", 0.043208785355091095, 20, \"I-premise\", false], [\"points\", 0.06443527340888977, 20, \"I-premise\", false], [\"of\", 0.02929561398923397, 20, \"I-premise\", false], [\"law\", 0.07048629224300385, 20, \"I-premise\", false], [\"without\", 0.04699046164751053, 20, \"I-premise\", false], [\"a\", 0.052988238632678986, 20, \"I-premise\", false], [\"reasoned\", 0.016049649566411972, 20, \"I-premise\", false], [\"decision\", 0.041334085166454315, 20, \"I-premise\", false], [\"infringed\", 0.062075622379779816, 20, \"I-premise\", false], [\"her\", 0.0659777894616127, 20, \"I-premise\", false], [\"right\", 0.07998262345790863, 20, \"I-premise\", false], [\"to\", 0.03458433598279953, 20, \"I-premise\", false], [\"a\", 0.018807807937264442, 20, \"I-premise\", false], [\"fair\", 0.07826217263936996, 20, \"I-premise\", false], [\"hearing\", 0.06827734410762787, 20, \"I-premise\", false], [\"as\", 0.008216467685997486, 20, \"I-premise\", false], [\"provided\", 0.044289764016866684, 20, \"I-premise\", false], [\"in\", 0.02383776567876339, 20, \"I-premise\", false], [\"Article\", 0.05680570751428604, 20, \"I-premise\", false], [\"6\", 0.06276625394821167, 20, \"I-premise\", false], [\"\\u00a7\", 0.0554136261343956, 20, \"I-premise\", false], [\"1\", 0.08560948818922043, 20, \"I-premise\", false], [\"of\", 0.05584470182657242, 20, \"I-premise\", false], [\"the\", 0.031370289623737335, 20, \"I-premise\", false], [\"Convention\", 0.06021440029144287, 20, \"I-premise\", false], [\",\", 0.06986177712678909, 20, \"I-premise\", false], [\"which\", 0.07766914367675781, 20, \"I-premise\", false], [\"in\", 0.0503682903945446, 20, \"I-premise\", false], [\"its\", 0.06920206546783447, 20, \"O\", true], [\"relevant\", 0.023874826729297638, 20, \"O\", true], [\"part\", 0.04315897822380066, 20, \"O\", true], [\"reads\", 0.07731100171804428, 20, \"O\", true], [\"as\", 0.08047014474868774, 20, \"O\", true], [\"follows\", 0.00013071981084067374, 20, \"O\", true], [\":\", 0.016031786799430847, 20, \"O\", true], [\"\\u201c\", 0.01671486906707287, 21, \"O\", true], [\"In\", 0.031122783198952675, 21, \"O\", false], [\"the\", 0.05833626538515091, 21, \"O\", false], [\"determination\", 0.05286701023578644, 21, \"O\", false], [\"of\", 0.07166784256696701, 21, \"O\", false], [\"...\", 0.03560557961463928, 21, \"O\", false], [\"any\", 0.003323555691167712, 21, \"O\", false], [\"criminal\", 0.06747663766145706, 21, \"O\", false], [\"charge\", 0.058485522866249084, 21, \"O\", false], [\"against\", 0.009122232906520367, 21, \"O\", false], [\"him\", 0.04549625888466835, 21, \"O\", false], [\",\", 0.011942887678742409, 21, \"O\", false], [\"everyone\", 0.05022955313324928, 21, \"O\", false], [\"is\", 0.05477692559361458, 21, \"O\", false], [\"entitled\", 0.044244296848773956, 21, \"O\", false], [\"to\", 0.07637437433004379, 21, \"O\", false], [\"a\", 0.04289762303233147, 21, \"O\", false], [\"fair\", 0.026084471493959427, 21, \"O\", false], [\"...\", 0.05769742652773857, 21, \"O\", false], [\"hearing\", 0.05290016159415245, 21, \"O\", false], [\"...\", 0.0666300505399704, 21, \"O\", false], [\"by\", 0.03277714177966118, 21, \"O\", false], [\"[\", 0.05514908954501152, 21, \"O\", false], [\"a\", 0.016944872215390205, 21, \"O\", false], [\"]\", 0.032256145030260086, 21, \"O\", false], [\"...\", 0.07300734519958496, 21, \"O\", false], [\"tribunal\", 0.06820940226316452, 21, \"O\", false], [\"...\", 0.001062073977664113, 21, \"O\", false], [\"\\u201d\", 0.015187164768576622, 21, \"O\", true], [\"A.\", 0.003155478509142995, 22, \"O\", true], [\"Admissibility\", 0.01660211570560932, 22, \"O\", true], [\"1\", 0.013484551571309566, 23, \"O\", true], [\".\", 0.034868378192186356, 23, \"O\", true], [\"The\", 0.060130875557661057, 23, \"O\", true], [\"parties\", 0.06803006678819656, 23, \"O\", true], [\"\\u2019\", 0.0027526847552508116, 23, \"O\", true], [\"submissions\", 0.018021410331130028, 23, \"O\", true], [\"19\", 0.027444150298833847, 24, \"O\", true], [\".\", 0.07182150334119797, 24, \"O\", true], [\"The\", 0.04682299122214317, 24, \"O\", true], [\"Government\", 0.037000805139541626, 24, \"O\", true], [\"argued\", 0.07339224964380264, 24, \"O\", true], [\"that\", 0.005062120966613293, 24, \"O\", true], [\"the\", 0.0450793132185936, 24, \"O\", false], [\"applicant\", 0.026113193482160568, 24, \"O\", false], [\"had\", 0.024222349748015404, 24, \"O\", false], [\"failed\", 0.019502682611346245, 24, \"O\", false], [\"to\", 0.03209985792636871, 24, \"O\", false], [\"exhaust\", 0.03460308164358139, 24, \"I-premise\", false], [\"domestic\", 0.03016054444015026, 24, \"I-premise\", false], [\"remedies\", 0.013605035841464996, 24, \"I-premise\", false], [\".\", 0.06683503091335297, 24, \"I-premise\", false], [\"Specifically\", 0.032985854893922806, 24, \"I-premise\", false], [\",\", 0.07363461703062057, 24, \"I-premise\", false], [\"she\", 0.07317731529474258, 24, \"I-premise\", false], [\"had\", 0.06293459981679916, 24, \"I-premise\", true], [\"not\", 0.07576832920312881, 24, \"I-premise\", true], [\"asked\", 0.009930290281772614, 24, \"I-premise\", true], [\"the\", 0.05488372966647148, 24, \"I-premise\", true], [\"prosecutor\", 0.017054656520485878, 24, \"I-premise\", true], [\"to\", 0.08126518875360489, 24, \"I-premise\", true], [\"lodge\", 0.07148631662130356, 24, \"I-premise\", true], [\"an\", 0.05837612226605415, 24, \"I-premise\", true], [\"appeal\", 0.012299266643822193, 24, \"I-premise\", true], [\"(\", 0.06403766572475433, 24, \"I-premise\", true], [\"protests\", 0.07591668516397476, 24, \"I-premise\", true], [\")\", 0.04076665639877319, 24, \"I-premise\", true], [\"against\", 0.0417407788336277, 24, \"I-premise\", true], [\"the\", 0.009056257084012032, 24, \"I-premise\", true], [\"judgment\", 0.03509017452597618, 24, \"I-premise\", true], [\"of\", 0.023912914097309113, 24, \"I-premise\", true], [\"13\", 0.06779492646455765, 24, \"I-premise\", true], [\"February\", 0.052331726998090744, 24, \"I-premise\", true], [\"2007\", 0.10327362269163132, 24, \"I-premise\", true], [\",\", 0.056164536625146866, 24, \"I-premise\", true], [\"as\", 0.05995815619826317, 24, \"I-premise\", true], [\"provided\", 0.05491983890533447, 24, \"I-premise\", true], [\"for\", 0.02939457818865776, 24, \"I-premise\", true], [\"under\", 0.07273285835981369, 24, \"I-premise\", true], [\"chapter\", 0.043173808604478836, 24, \"I-premise\", true], [\"63\", 0.05378350242972374, 24, \"I-premise\", true], [\"of\", 0.02035115659236908, 24, \"I-premise\", true], [\"the\", 0.04338314011693001, 24, \"I-premise\", true], [\"Criminal\", 0.07735756039619446, 24, \"I-premise\", true], [\"Procedure\", 0.07000993937253952, 24, \"I-premise\", true], [\"Law\", 0.08759868144989014, 24, \"I-premise\", true], [\",\", 0.032448869198560715, 24, \"I-premise\", true], [\"which\", 0.01447735633701086, 24, \"I-premise\", true], [\"set\", 0.08232267946004868, 24, \"I-premise\", true], [\"out\", 0.05954146385192871, 24, \"I-premise\", true], [\"conditions\", 0.005936014465987682, 24, \"I-premise\", true], [\"for\", 0.03373822569847107, 24, \"I-premise\", true], [\"the\", 0.014905231073498726, 24, \"I-premise\", true], [\"review\", 0.043757714331150055, 24, \"I-premise\", true], [\"of\", 0.06846543401479721, 24, \"I-premise\", true], [\"judgments\", 0.046186402440071106, 24, \"I-premise\", true], [\"and\", 0.0790705680847168, 24, \"I-premise\", true], [\"decisions\", 0.06264720857143402, 24, \"I-premise\", true], [\"which\", 0.031999263912439346, 24, \"I-premise\", true], [\"have\", 0.07050497084856033, 24, \"I-premise\", true], [\"entered\", 0.06882835179567337, 24, \"I-premise\", true], [\"into\", 0.07950402796268463, 24, \"I-premise\", true], [\"force\", 0.048094138503074646, 24, \"I-premise\", true], [\"(\", 0.08688771724700928, 24, \"I-premise\", false], [\"see\", 0.017102185636758804, 24, \"O\", true], [\"paragraph\", 0.04506753757596016, 24, \"O\", false], [\"13\", 0.09023629873991013, 24, \"O\", false], [\"above\", 0.09250108152627945, 24, \"O\", false], [\")\", 0.013890301808714867, 24, \"O\", true], [\".\", 0.016064966097474098, 24, \"O\", true], [\"20\", 0.058160826563835144, 25, \"O\", true], [\".\", 0.05178777500987053, 25, \"O\", true], [\"The\", 0.06376366317272186, 25, \"O\", true], [\"applicant\", 0.03289242833852768, 25, \"O\", true], [\"did\", 0.05657442659139633, 25, \"O\", true], [\"not\", 0.014970170333981514, 25, \"O\", true], [\"comment\", 0.040436387062072754, 25, \"O\", true], [\"on\", 0.062219951301813126, 25, \"O\", true], [\"this\", 0.06931547075510025, 25, \"O\", true], [\"matter\", 0.0002781239163596183, 25, \"O\", true], [\".\", 0.020834479480981827, 25, \"O\", true], [\"2\", 0.05450940877199173, 26, \"O\", true], [\".\", 0.014499785378575325, 26, \"O\", true], [\"The\", 0.03512448072433472, 26, \"O\", true], [\"Court\", 0.05696979537606239, 26, \"O\", true], [\"\\u2019\", 0.06275524944067001, 26, \"O\", true], [\"s\", 0.0036454754881560802, 26, \"O\", true], [\"assessment\", 0.020074540749192238, 26, \"O\", true], [\"21\", 0.04602595418691635, 27, \"O\", true], [\".\", 0.04330935329198837, 27, \"O\", true], [\"According\", 0.029087500646710396, 27, \"O\", true], [\"to\", 0.04317060112953186, 27, \"O\", true], [\"the\", 0.04784258455038071, 27, \"O\", true], [\"Court\", 0.04344460740685463, 27, \"O\", true], [\"\\u2019\", 0.07812555134296417, 27, \"O\", true], [\"s\", 0.08573617041110992, 27, \"O\", true], [\"case-law\", 0.07979218661785126, 27, \"O\", true], [\",\", 0.04749586060643196, 27, \"O\", true], [\"the\", 0.02783200703561306, 27, \"O\", false], [\"applicants\", 0.05057617276906967, 27, \"I-premise\", true], [\"are\", 0.03593534976243973, 27, \"I-premise\", true], [\"only\", 0.06038440763950348, 27, \"I-premise\", true], [\"obliged\", 0.06992646306753159, 27, \"I-premise\", true], [\"to\", 0.039283085614442825, 27, \"I-premise\", true], [\"use\", 0.028125889599323273, 27, \"I-premise\", true], [\"an\", 0.05588746815919876, 27, \"I-premise\", true], [\"effective\", 0.07233890146017075, 27, \"I-premise\", true], [\"remedy\", 0.037426840513944626, 27, \"I-premise\", true], [\"that\", 0.02533489279448986, 27, \"I-premise\", true], [\"is\", 0.008440904319286346, 27, \"I-premise\", true], [\"actually\", 0.054905086755752563, 27, \"I-premise\", true], [\"available\", 0.07920846343040466, 27, \"I-premise\", true], [\"in\", 0.027507342398166656, 27, \"I-premise\", true], [\"theory\", 0.05938107892870903, 27, \"I-premise\", true], [\"and\", 0.002973317401483655, 27, \"I-premise\", true], [\"in\", 0.053065307438373566, 27, \"I-premise\", true], [\"practice\", 0.03495679050683975, 27, \"I-premise\", true], [\"at\", 0.06956315040588379, 27, \"I-premise\", true], [\"the\", 0.06105668470263481, 27, \"I-premise\", true], [\"relevant\", 0.044053032994270325, 27, \"I-premise\", true], [\"time\", 0.083731509745121, 27, \"I-premise\", true], [\"(\", 0.013691418804228306, 27, \"I-premise\", false], [\"see\", 0.049550462514162064, 27, \"I-premise\", false], [\",\", 0.03603748977184296, 27, \"I-premise\", false], [\"among\", 0.02160731516778469, 27, \"I-premise\", false], [\"other\", 0.009582163766026497, 27, \"I-premise\", false], [\"authorities\", 0.04752972349524498, 27, \"I-premise\", false], [\",\", 0.03875640407204628, 27, \"I-premise\", false], [\"Sejdovic\", 0.04688474163413048, 27, \"I-premise\", false], [\"v.\", 0.004518122412264347, 27, \"I-premise\", true], [\"Italy\", 0.06649806350469589, 27, \"I-premise\", true], [\"[\", 0.03273972496390343, 27, \"I-premise\", true], [\"GC\", 0.06357298046350479, 27, \"I-premise\", true], [\"]\", 0.06186583265662193, 27, \"I-premise\", true], [\",\", 0.04663364216685295, 27, \"I-premise\", true], [\"no\", 0.07024578005075455, 27, \"I-premise\", true], [\".\", 0.009218771941959858, 27, \"I-premise\", true], [\"56581/00\", 0.05542760714888573, 27, \"I-premise\", true], [\",\", 0.03194107487797737, 27, \"I-premise\", true], [\"\\u00a7\", 0.07839158922433853, 27, \"I-premise\", true], [\"46\", 0.06238691136240959, 27, \"I-premise\", true], [\",\", 0.04891270026564598, 27, \"I-premise\", true], [\"ECHR\", 0.023075774312019348, 27, \"O\", false], [\"2006\\u2011II\", 0.06563376635313034, 27, \"O\", false], [\")\", 0.07604511827230453, 27, \"O\", true], [\".\", 0.03879412263631821, 27, \"O\", true], [\"It\", 0.05087694525718689, 27, \"O\", true], [\"follows\", 0.020772570744156837, 27, \"O\", true], [\"that\", 0.036375969648361206, 27, \"O\", true], [\"Article\", 0.03239941596984863, 27, \"I-premise\", false], [\"35\", 0.06819916516542435, 27, \"I-premise\", false], [\"\\u00a7\", 0.0477733239531517, 27, \"I-premise\", false], [\"1\", 0.09596636146306992, 27, \"I-premise\", false], [\"of\", 0.05336416885256767, 27, \"I-premise\", false], [\"the\", 0.06267833709716797, 27, \"I-premise\", false], [\"Convention\", 0.05375463515520096, 27, \"I-premise\", false], [\"does\", 0.026833010837435722, 27, \"I-premise\", false], [\"not\", 0.06648670881986618, 27, \"I-premise\", false], [\"require\", 0.049162607640028, 27, \"I-claim\", true], [\"that\", 0.05666687712073326, 27, \"I-claim\", true], [\"discretionary\", 0.016383491456508636, 27, \"I-claim\", true], [\"or\", 0.040805015712976456, 27, \"I-claim\", true], [\"extraordinary\", 0.07831476628780365, 27, \"I-claim\", true], [\"remedies\", 0.06738661229610443, 27, \"I-claim\", true], [\"be\", 0.09083665162324905, 27, \"I-claim\", true], [\"exhausted\", 0.03332549333572388, 27, \"I-claim\", true], [\"(\", 0.035227857530117035, 27, \"I-premise\", false], [\"see\", 0.08196151256561279, 27, \"I-premise\", false], [\",\", 0.07488468289375305, 27, \"I-premise\", false], [\"among\", 0.01773364283144474, 27, \"I-premise\", false], [\"other\", 0.029393430799245834, 27, \"I-premise\", false], [\"authorities\", 0.02053726464509964, 27, \"I-premise\", false], [\",\", 0.038059353828430176, 27, \"I-premise\", false], [\"Babayev\", 0.08067472279071808, 27, \"I-premise\", false], [\"v.\", 0.0683632642030716, 27, \"I-premise\", true], [\"Azerbaijan\", 0.09291960299015045, 27, \"I-premise\", true], [\"(\", 0.0718093141913414, 27, \"I-premise\", true], [\"dec.\", 0.022215325385332108, 27, \"I-premise\", true], [\")\", 0.08247590065002441, 27, \"I-premise\", true], [\",\", 0.07599247246980667, 27, \"I-premise\", true], [\"no\", 0.0941876471042633, 27, \"I-premise\", true], [\".\", 0.04885616898536682, 27, \"I-premise\", true], [\"36454/03\", 0.09673592448234558, 27, \"I-premise\", true], [\",\", 0.009183544665575027, 27, \"I-premise\", true], [\"27\", 0.06063682213425636, 27, \"I-premise\", true], [\"May\", 0.10493962466716766, 27, \"I-premise\", true], [\"2004\", 0.09466885775327682, 27, \"I-premise\", true], [\")\", 0.006137773394584656, 27, \"O\", true], [\".\", 0.02218947559595108, 27, \"O\", true], [\"22\", 0.06559257209300995, 28, \"O\", true], [\".\", 0.050000280141830444, 28, \"O\", true], [\"In\", 0.07517397403717041, 28, \"O\", true], [\"the\", 0.006294035352766514, 28, \"O\", true], [\"case\", 0.040935367345809937, 28, \"O\", true], [\"of\", 0.021907562389969826, 28, \"O\", true], [\"D\\u0101vidsons\", 0.07755878567695618, 28, \"O\", false], [\"and\", 0.0620722733438015, 28, \"O\", false], [\"Savins\", 0.04213939234614372, 28, \"O\", false], [\"v.\", 0.0021269263233989477, 28, \"O\", false], [\"Latvia\", 0.059707894921302795, 28, \"O\", false], [\",\", 0.05515408515930176, 28, \"O\", false], [\"nos\", 0.0378827340900898, 28, \"O\", false], [\".\", 0.016186635941267014, 28, \"O\", false], [\"17574/07\", 0.005334259010851383, 28, \"O\", false], [\"and\", 0.026639163494110107, 28, \"O\", false], [\"25235/07\", 0.01143128052353859, 28, \"O\", false], [\",\", 0.0505664236843586, 28, \"O\", false], [\"\\u00a7\", 0.04636986926198006, 28, \"O\", false], [\"36\", 0.0925726369023323, 28, \"O\", false], [\",\", 0.033694878220558167, 28, \"O\", false], [\"7\", 0.03654639795422554, 28, \"O\", false], [\"January\", 0.04109418764710426, 28, \"O\", false], [\"2016\", 0.023267526179552078, 28, \"O\", false], [\",\", 0.05657279118895531, 28, \"O\", true], [\"the\", 0.042027607560157776, 28, \"O\", true], [\"Court\", 0.043381065130233765, 28, \"O\", true], [\"already\", 0.025748208165168762, 28, \"O\", true], [\"assessed\", 0.037384532392024994, 28, \"O\", true], [\"an\", 0.06897860765457153, 28, \"O\", true], [\"identical\", 0.05687642842531204, 28, \"O\", true], [\"argument\", 0.07522818446159363, 28, \"O\", true], [\"raised\", 0.01749039627611637, 28, \"O\", true], [\"by\", 0.03350963816046715, 28, \"O\", true], [\"the\", 0.07492290437221527, 28, \"O\", true], [\"Government\", 0.0571906678378582, 28, \"O\", true], [\"and\", 0.011794728226959705, 28, \"O\", true], [\"found\", 0.03481924533843994, 28, \"O\", true], [\"that\", 0.009232536889612675, 28, \"O\", true], [\"the\", 0.04037441313266754, 28, \"O\", false], [\"review\", 0.05409355089068413, 28, \"O\", false], [\"procedure\", 0.05455603450536728, 28, \"O\", false], [\"enshrined\", 0.07803158462047577, 28, \"O\", false], [\"in\", 0.05377383157610893, 28, \"O\", false], [\"chapter\", 0.03138841316103935, 28, \"O\", false], [\"63\", 0.06908050924539566, 28, \"O\", false], [\"of\", 0.053967542946338654, 28, \"O\", false], [\"the\", 0.06511852145195007, 28, \"O\", false], [\"Criminal\", 0.02901826612651348, 28, \"O\", false], [\"Procedure\", 0.07327631860971451, 28, \"O\", false], [\"Law\", 0.028202900663018227, 28, \"O\", false], [\"constituted\", 0.0459384024143219, 28, \"O\", false], [\"an\", 0.07577383518218994, 28, \"O\", false], [\"extraordinary\", 0.07869735360145569, 28, \"O\", false], [\"remedy\", 0.018360357731580734, 28, \"O\", false], [\".\", 0.024158794432878494, 28, \"O\", true], [\"23\", 0.056196097284555435, 29, \"O\", true], [\".\", 0.07258915156126022, 29, \"O\", true], [\"The\", 0.04248543828725815, 29, \"O\", true], [\"aforementioned\", 0.04235196113586426, 29, \"O\", true], [\"suffices\", 0.04962220788002014, 29, \"O\", true], [\"to\", 0.023977696895599365, 29, \"O\", true], [\"conclude\", 0.06400839984416962, 29, \"O\", true], [\"that\", 0.03524060547351837, 29, \"O\", true], [\"this\", 0.04164154455065727, 29, \"O\", false], [\"procedure\", 0.026138106361031532, 29, \"O\", false], [\"can\", 0.036332130432128906, 29, \"I-claim\", true], [\"not\", 0.06454604119062424, 29, \"I-claim\", true], [\"be\", 0.05193241313099861, 29, \"I-claim\", true], [\"taken\", 0.06879183650016785, 29, \"I-claim\", true], [\"into\", 0.023122599348425865, 29, \"I-claim\", true], [\"account\", 0.004828345030546188, 29, \"I-premise\", false], [\"for\", 0.07241079956293106, 29, \"I-premise\", false], [\"the\", 0.05942538380622864, 29, \"I-premise\", false], [\"purposes\", 0.007039741612970829, 29, \"I-premise\", false], [\"of\", 0.04798256605863571, 29, \"I-premise\", false], [\"Article\", 0.011162900365889072, 29, \"I-premise\", false], [\"35\", 0.05034588277339935, 29, \"I-premise\", false], [\"\\u00a7\", 0.06071067973971367, 29, \"I-premise\", false], [\"1\", 0.037497956305742264, 29, \"I-premise\", false], [\"of\", 0.07720216363668442, 29, \"I-premise\", false], [\"the\", 0.05045605078339577, 29, \"I-premise\", false], [\"Convention\", 0.02985929697751999, 29, \"I-premise\", false], [\".\", 0.06572354584932327, 29, \"I-premise\", false], [\"The\", 0.051992982625961304, 29, \"O\", false], [\"Government\", 0.07426078617572784, 29, \"O\", false], [\"\\u2019\", 0.02988315001130104, 29, \"O\", false], [\"s\", 0.05945397540926933, 29, \"O\", false], [\"objection\", 0.01827978529036045, 29, \"O\", false], [\"must\", 0.04274972528219223, 29, \"O\", false], [\"therefore\", 0.0784870833158493, 29, \"O\", false], [\"be\", 0.0817270427942276, 29, \"O\", false], [\"rejected\", 0.0005430420278571546, 29, \"O\", false], [\".\", 0.025139953941106796, 29, \"O\", true], [\"24\", 0.012118261307477951, 30, \"O\", true], [\".\", 0.05910736694931984, 30, \"O\", true], [\"The\", 0.07513920962810516, 30, \"O\", true], [\"Court\", 0.033139362931251526, 30, \"O\", true], [\"notes\", 0.01056264340877533, 30, \"O\", true], [\"that\", 0.019754784181714058, 30, \"O\", true], [\"this\", 0.030122550204396248, 30, \"O\", false], [\"complaint\", 0.015239535830914974, 30, \"O\", false], [\"is\", 0.044757623225450516, 30, \"O\", false], [\"not\", 0.04791247099637985, 30, \"O\", false], [\"manifestly\", 0.09488686919212341, 30, \"I-claim\", true], [\"ill-founded\", 0.0394381545484066, 30, \"I-claim\", true], [\"within\", 0.050405438989400864, 30, \"I-claim\", true], [\"the\", 0.05361700430512428, 30, \"I-claim\", true], [\"meaning\", 0.032190099358558655, 30, \"I-premise\", false], [\"of\", 0.07414267957210541, 30, \"I-premise\", false], [\"Article\", 0.04123404622077942, 30, \"I-premise\", false], [\"35\", 0.04532236605882645, 30, \"I-premise\", false], [\"\\u00a7\", 0.014491853304207325, 30, \"I-premise\", false], [\"3\", 0.03348994255065918, 30, \"I-premise\", false], [\"(\", 0.06377220898866653, 30, \"I-premise\", false], [\"a\", 0.06420363485813141, 30, \"I-premise\", false], [\")\", 0.07994206994771957, 30, \"I-premise\", false], [\"of\", 0.04118439555168152, 30, \"I-premise\", false], [\"the\", 0.025519991293549538, 30, \"I-premise\", false], [\"Convention\", 0.07641027122735977, 30, \"I-premise\", false], [\".\", 0.06200016289949417, 30, \"I-premise\", false], [\"It\", 0.0012471301015466452, 30, \"I-premise\", false], [\"further\", 0.041518889367580414, 30, \"I-premise\", false], [\"notes\", 0.016537556424736977, 30, \"I-premise\", false], [\"that\", 0.04755186662077904, 30, \"I-premise\", false], [\"it\", 0.05779187008738518, 30, \"I-premise\", false], [\"is\", 0.06198742240667343, 30, \"I-premise\", false], [\"not\", 0.08613526076078415, 30, \"I-premise\", false], [\"inadmissible\", 0.05458476021885872, 30, \"I-premise\", false], [\"on\", 0.03450041264295578, 30, \"I-premise\", false], [\"any\", 0.07906391471624374, 30, \"I-premise\", false], [\"other\", 0.05960499495267868, 30, \"I-premise\", false], [\"grounds\", 0.06625726073980331, 30, \"I-premise\", false], [\".\", 0.04889212176203728, 30, \"I-premise\", false], [\"It\", 0.07418303191661835, 30, \"O\", false], [\"must\", 0.024757778272032738, 30, \"O\", false], [\"therefore\", 0.045768000185489655, 30, \"O\", false], [\"be\", 0.07597631961107254, 30, \"O\", false], [\"declared\", 0.09016631543636322, 30, \"O\", false], [\"admissible\", 0.0020510749891400337, 30, \"O\", false], [\".\", 0.03082839585840702, 30, \"O\", true], [\"B\", 0.06492749601602554, 31, \"O\", true], [\".\", 0.0038883667439222336, 31, \"O\", true], [\"Merits\", 0.01676408015191555, 31, \"O\", true], [\"1\", 0.013484551571309566, 32, \"O\", true], [\".\", 0.034868378192186356, 32, \"O\", true], [\"The\", 0.060130875557661057, 32, \"O\", true], [\"parties\", 0.06803006678819656, 32, \"O\", true], [\"\\u2019\", 0.0027526847552508116, 32, \"O\", true], [\"submissions\", 0.018021410331130028, 32, \"O\", true], [\"25\", 0.05543473735451698, 33, \"O\", true], [\".\", 0.028280550613999367, 33, \"O\", true], [\"The\", 0.06137877330183983, 33, \"O\", true], [\"applicant\", 0.04447919502854347, 33, \"O\", true], [\"upheld\", 0.04567441716790199, 33, \"O\", true], [\"her\", 0.015572956763207912, 33, \"O\", true], [\"initial\", 0.030918532982468605, 33, \"O\", true], [\"submissions\", 0.05839603766798973, 33, \"O\", true], [\"set\", 0.059595391154289246, 33, \"O\", true], [\"out\", 0.0712917372584343, 33, \"O\", true], [\"in\", 0.034284695982933044, 33, \"O\", true], [\"her\", 0.014870540238916874, 33, \"O\", true], [\"application\", 0.07563085854053497, 33, \"O\", true], [\"form\", 0.05876168981194496, 33, \"O\", true], [\"in\", 0.004706892650574446, 33, \"O\", true], [\"which\", 0.037363290786743164, 33, \"O\", true], [\"she\", 0.00881243497133255, 33, \"O\", true], [\"principally\", 0.04852945730090141, 33, \"O\", true], [\"argued\", 0.056130681186914444, 33, \"O\", true], [\"that\", 0.04906906932592392, 33, \"O\", true], [\"her\", 0.06970379501581192, 33, \"O\", false], [\"appeal\", 0.046862997114658356, 33, \"O\", false], [\"on\", 0.025289807468652725, 33, \"O\", false], [\"points\", 0.059337906539440155, 33, \"O\", false], [\"of\", 0.054221197962760925, 33, \"O\", false], [\"law\", 0.06719522923231125, 33, \"O\", false], [\"should\", 0.04142545908689499, 33, \"O\", false], [\"have\", 0.06695006042718887, 33, \"O\", false], [\"been\", 0.020010149106383324, 33, \"O\", false], [\"examined\", 0.03861107677221298, 33, \"O\", false], [\"on\", 0.07542011886835098, 33, \"O\", false], [\"its\", 0.08000525832176208, 33, \"O\", false], [\"merits\", 0.0016742883017286658, 33, \"O\", false], [\".\", 0.028419526293873787, 33, \"O\", true], [\"26\", 0.09179139882326126, 34, \"O\", true]]');\n",
       "\n",
       "opts = {\n",
       "  lineHeight: 16,\n",
       "  width: 900,\n",
       "  height: 600,\n",
       "  linePadding: 10,\n",
       "  useColor: false,\n",
       "  labelColors: {\n",
       "    'B-claim': '#FF5964',  // Red\n",
       "    'I-claim': '#FF5964',\n",
       "    'B-premise': '#35A7FF',  // Blue\n",
       "    'I-premise': '#35A7FF',\n",
       "    'O': '#888888'\n",
       "  }\n",
       "}\n",
       "chart = new TextChart(nouns, opts);\n",
       "chart.draw('text-container');\n",
       "</script>\n"
      ],
      "text/plain": [
       "<IPython.core.display.HTML object>"
      ]
     },
     "execution_count": 88,
     "metadata": {},
     "output_type": "execute_result"
    }
   ],
   "source": [
    "js_text_template = Template('''\n",
    "var nouns = JSON.parse('$json_data');\n",
    "\n",
    "opts = {\n",
    "  lineHeight: 16,\n",
    "  width: 900,\n",
    "  height: 600,\n",
    "  linePadding: 10,\n",
    "  useColor: false,\n",
    "  labelColors: {\n",
    "    'B-claim': '#FF5964',  // Red\n",
    "    'I-claim': '#FF5964',\n",
    "    'B-premise': '#35A7FF',  // Blue\n",
    "    'I-premise': '#35A7FF',\n",
    "    'O': '#888888'\n",
    "  }\n",
    "}\n",
    "chart = new TextChart(nouns, opts);\n",
    "chart.draw('text-container');\n",
    "''')\n",
    "\n",
    "html_template = Template('''\n",
    "    <div id='text-container'></div>\n",
    "    <script src=\"textChart.js\"></script>\n",
    "    <script>$js_text</script>\n",
    "''')\n",
    "\n",
    "js_text = js_text_template.substitute({\n",
    "    'json_data': json_words\n",
    "})\n",
    "\n",
    "HTML(html_template.substitute({'js_text': js_text}))"
   ]
  },
  {
   "cell_type": "code",
   "execution_count": null,
   "metadata": {},
   "outputs": [],
   "source": []
  },
  {
   "cell_type": "code",
   "execution_count": null,
   "metadata": {},
   "outputs": [],
   "source": []
  }
 ],
 "metadata": {
  "kernelspec": {
   "display_name": "Python [conda env:env_am]",
   "language": "python",
   "name": "conda-env-env_am-py"
  },
  "language_info": {
   "codemirror_mode": {
    "name": "ipython",
    "version": 3
   },
   "file_extension": ".py",
   "mimetype": "text/x-python",
   "name": "python",
   "nbconvert_exporter": "python",
   "pygments_lexer": "ipython3",
   "version": "3.5.5"
  }
 },
 "nbformat": 4,
 "nbformat_minor": 2
}
