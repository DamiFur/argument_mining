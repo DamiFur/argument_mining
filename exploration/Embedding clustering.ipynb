{
 "cells": [
  {
   "cell_type": "markdown",
   "metadata": {},
   "source": [
    "# Word Clustering\n",
    "\n",
    "In this notebook we will evaluate different word representation using clustering techniques. We will compare a standard representation for the task of Argument Mining developed by (Stab and Gurevych, 2016) with several unsupervised representation using the algorithms word2vec (Mikolov et al, 2013) and glove (Pennington et al, 2014)."
   ]
  },
  {
   "cell_type": "markdown",
   "metadata": {},
   "source": [
    "## Dataset\n",
    "\n",
    "We will be analyzing a dataset of text of the European Court of Human Rights (ECHR). We have downloaded all english documents available in their website https://hudoc.echr.coe.int, using this [web scrapper](https://github.com/MIREL-UNC/echr_dataset).\n",
    "\n",
    "\n",
    "### Preprocess\n",
    "\n",
    "There are some common preprocessing steps all the word representation require. We apply a first preprocessing step where we create, from the raw text, a intermidiate representation of each document called [UnlabeledDocument](https://github.com/mit0110/argument_mining/blob/master/preprocess/annotated_documents.py#L10).\n",
    "\n",
    "To build the `UnlabeledDocument` we apply the following steps:\n",
    "  1. Split paragraphs by new line characters\n",
    "  2. Divide the paragraphs in sentences with nltk sent_tokenizer\n",
    "  3. For each sentence:\n",
    "      3. Tokenize it using nltk word_tokenize\n",
    "      4. Apply the stanford `LexicalizedStanfordParser` to it and store the resulting tree.\n",
    "      5. Obtain the PoS tag sequence\n",
    "  6. Store the result\n",
    "\n",
    "The `UnlabeledDocument` class allows us to store several caracteristics of the documents:\n",
    "  * Paragraph and sentence structure.\n",
    "  * Parse trees.\n",
    "  * Absolute and relative position of the words\n"
   ]
  },
  {
   "cell_type": "markdown",
   "metadata": {},
   "source": [
    "## Word representation\n",
    "\n",
    "### Coocurrence matrix\n",
    "\n",
    "To represent each of our instances, i.e. words, the simplest solution is to use the other words in a window context of fixed size. The resulting word vector is a count of the words that appear, for example, within two places to the left or to the right of the target word. This representation is called word co-ocurrence matrix."
   ]
  },
  {
   "cell_type": "code",
   "execution_count": null,
   "metadata": {
    "collapsed": true
   },
   "outputs": [],
   "source": []
  },
  {
   "cell_type": "markdown",
   "metadata": {},
   "source": [
    "To represent each of our instances, i.e. words, we will first use a set of handcrafted features that has been proved to improve classification for argumentative sentences detection."
   ]
  },
  {
   "cell_type": "code",
   "execution_count": null,
   "metadata": {
    "collapsed": true
   },
   "outputs": [],
   "source": []
  },
  {
   "cell_type": "markdown",
   "metadata": {},
   "source": [
    "## References\n",
    "\n",
    "Stab, Christian & Gurevych, Iryna. (2016). Parsing Argumentation Structures in Persuasive Essays. Computational Linguistics. 43. . 10.1162/COLI_a_00295. \n",
    "\n",
    "Mikolov, Tomas et al. “Efficient Estimation of Word Representations in Vector Space.” CoRR abs/1301.3781 (2013): n. pag.\n",
    "\n",
    "Jeffrey Pennington, Richard Socher, and Christopher D. Manning. 2014. GloVe: Global Vectors for Word Representation."
   ]
  },
  {
   "cell_type": "code",
   "execution_count": null,
   "metadata": {
    "collapsed": true
   },
   "outputs": [],
   "source": []
  }
 ],
 "metadata": {
  "kernelspec": {
   "display_name": "Python [conda env:env35]",
   "language": "python",
   "name": "conda-env-env35-py"
  },
  "language_info": {
   "codemirror_mode": {
    "name": "ipython",
    "version": 3
   },
   "file_extension": ".py",
   "mimetype": "text/x-python",
   "name": "python",
   "nbconvert_exporter": "python",
   "pygments_lexer": "ipython3",
   "version": "3.5.2"
  }
 },
 "nbformat": 4,
 "nbformat_minor": 2
}
